{
  "nbformat": 4,
  "nbformat_minor": 0,
  "metadata": {
    "colab": {
      "name": "허채은 klue 모델링2.ipynb",
      "provenance": [],
      "collapsed_sections": [
        "wy-GjYtyb2Du",
        "Wl1J_YB3OqHn",
        "NkFj0uGtPh9y",
        "KUEAtZ9_QfUP"
      ]
    },
    "kernelspec": {
      "name": "python3",
      "display_name": "Python 3"
    },
    "language_info": {
      "name": "python"
    },
    "accelerator": "GPU"
  },
  "cells": [
    {
      "cell_type": "markdown",
      "metadata": {
        "id": "JGxmBj5zU9hY"
      },
      "source": [
        "#데이터 로드 및 정제"
      ]
    },
    {
      "cell_type": "code",
      "metadata": {
        "id": "9R5P7J4xyEnI"
      },
      "source": [
        "import pandas as pd\n",
        "import numpy as np\n",
        "%matplotlib inline\n",
        "import matplotlib.pyplot as plt"
      ],
      "execution_count": null,
      "outputs": []
    },
    {
      "cell_type": "code",
      "metadata": {
        "colab": {
          "base_uri": "https://localhost:8080/"
        },
        "id": "aINSWWYfw3k-",
        "outputId": "d6d42546-b494-4a84-9c40-dfebe921ad5a"
      },
      "source": [
        "from google.colab import drive\n",
        "drive.mount('/content/drive')"
      ],
      "execution_count": null,
      "outputs": [
        {
          "output_type": "stream",
          "text": [
            "Mounted at /content/drive\n"
          ],
          "name": "stdout"
        }
      ]
    },
    {
      "cell_type": "code",
      "metadata": {
        "id": "ngEVZ0eTk8AW",
        "colab": {
          "base_uri": "https://localhost:8080/"
        },
        "outputId": "81e770c2-1b9d-49e4-aa36-e4953a625129"
      },
      "source": [
        "my_data = pd.read_csv('/content/drive/Shareddrives/KUBIG 크롤링 프로젝트 2조/크롤링&토큰화/dataset_2nd.csv')\n",
        "len(my_data)"
      ],
      "execution_count": null,
      "outputs": [
        {
          "output_type": "execute_result",
          "data": {
            "text/plain": [
              "22719"
            ]
          },
          "metadata": {
            "tags": []
          },
          "execution_count": 3
        }
      ]
    },
    {
      "cell_type": "code",
      "metadata": {
        "colab": {
          "base_uri": "https://localhost:8080/",
          "height": 194
        },
        "id": "ItVLysjoyJMh",
        "outputId": "0f414204-7376-4faf-8938-835670d6f596"
      },
      "source": [
        "my_data[:5]"
      ],
      "execution_count": null,
      "outputs": [
        {
          "output_type": "execute_result",
          "data": {
            "text/html": [
              "<div>\n",
              "<style scoped>\n",
              "    .dataframe tbody tr th:only-of-type {\n",
              "        vertical-align: middle;\n",
              "    }\n",
              "\n",
              "    .dataframe tbody tr th {\n",
              "        vertical-align: top;\n",
              "    }\n",
              "\n",
              "    .dataframe thead th {\n",
              "        text-align: right;\n",
              "    }\n",
              "</style>\n",
              "<table border=\"1\" class=\"dataframe\">\n",
              "  <thead>\n",
              "    <tr style=\"text-align: right;\">\n",
              "      <th></th>\n",
              "      <th>text</th>\n",
              "      <th>satisfaction</th>\n",
              "    </tr>\n",
              "  </thead>\n",
              "  <tbody>\n",
              "    <tr>\n",
              "      <th>0</th>\n",
              "      <td>중학교 때 배운 stem &amp;leaf 부터 시작하기 때문에 고등학교 과정 통계를 제대...</td>\n",
              "      <td>5</td>\n",
              "    </tr>\n",
              "    <tr>\n",
              "      <th>1</th>\n",
              "      <td>내용 자체가 한국에서 고등학교 졸업을 했기만 하면 다 이해할 수 있는 내용이라 어려...</td>\n",
              "      <td>3</td>\n",
              "    </tr>\n",
              "    <tr>\n",
              "      <th>2</th>\n",
              "      <td>우선 생각보다 내용이 쉽습니다. 시험 공부부터 시작해서 과제에 시간을 많이 쓰지 않...</td>\n",
              "      <td>4</td>\n",
              "    </tr>\n",
              "    <tr>\n",
              "      <th>3</th>\n",
              "      <td>교수님께서 되게 친절하게 설명해주십니다. 영어로 수업을 진행하다보니 알아듣지 못하는...</td>\n",
              "      <td>3</td>\n",
              "    </tr>\n",
              "    <tr>\n",
              "      <th>4</th>\n",
              "      <td>무난무난한 통계 강의인 것 같습니다. 저는 까먹고 과제 제출을 한번 늦게 하고 기말...</td>\n",
              "      <td>4</td>\n",
              "    </tr>\n",
              "  </tbody>\n",
              "</table>\n",
              "</div>"
            ],
            "text/plain": [
              "                                                text  satisfaction\n",
              "0  중학교 때 배운 stem &leaf 부터 시작하기 때문에 고등학교 과정 통계를 제대...             5\n",
              "1  내용 자체가 한국에서 고등학교 졸업을 했기만 하면 다 이해할 수 있는 내용이라 어려...             3\n",
              "2  우선 생각보다 내용이 쉽습니다. 시험 공부부터 시작해서 과제에 시간을 많이 쓰지 않...             4\n",
              "3  교수님께서 되게 친절하게 설명해주십니다. 영어로 수업을 진행하다보니 알아듣지 못하는...             3\n",
              "4  무난무난한 통계 강의인 것 같습니다. 저는 까먹고 과제 제출을 한번 늦게 하고 기말...             4"
            ]
          },
          "metadata": {
            "tags": []
          },
          "execution_count": 4
        }
      ]
    },
    {
      "cell_type": "code",
      "metadata": {
        "colab": {
          "base_uri": "https://localhost:8080/",
          "height": 194
        },
        "id": "-R0rHzAHyMcP",
        "outputId": "94e14d2d-4f15-4a2d-e00a-aa5b6c05f164"
      },
      "source": [
        "klue = my_data[['text', 'satisfaction']]\n",
        "klue[:5]"
      ],
      "execution_count": null,
      "outputs": [
        {
          "output_type": "execute_result",
          "data": {
            "text/html": [
              "<div>\n",
              "<style scoped>\n",
              "    .dataframe tbody tr th:only-of-type {\n",
              "        vertical-align: middle;\n",
              "    }\n",
              "\n",
              "    .dataframe tbody tr th {\n",
              "        vertical-align: top;\n",
              "    }\n",
              "\n",
              "    .dataframe thead th {\n",
              "        text-align: right;\n",
              "    }\n",
              "</style>\n",
              "<table border=\"1\" class=\"dataframe\">\n",
              "  <thead>\n",
              "    <tr style=\"text-align: right;\">\n",
              "      <th></th>\n",
              "      <th>text</th>\n",
              "      <th>satisfaction</th>\n",
              "    </tr>\n",
              "  </thead>\n",
              "  <tbody>\n",
              "    <tr>\n",
              "      <th>0</th>\n",
              "      <td>중학교 때 배운 stem &amp;leaf 부터 시작하기 때문에 고등학교 과정 통계를 제대...</td>\n",
              "      <td>5</td>\n",
              "    </tr>\n",
              "    <tr>\n",
              "      <th>1</th>\n",
              "      <td>내용 자체가 한국에서 고등학교 졸업을 했기만 하면 다 이해할 수 있는 내용이라 어려...</td>\n",
              "      <td>3</td>\n",
              "    </tr>\n",
              "    <tr>\n",
              "      <th>2</th>\n",
              "      <td>우선 생각보다 내용이 쉽습니다. 시험 공부부터 시작해서 과제에 시간을 많이 쓰지 않...</td>\n",
              "      <td>4</td>\n",
              "    </tr>\n",
              "    <tr>\n",
              "      <th>3</th>\n",
              "      <td>교수님께서 되게 친절하게 설명해주십니다. 영어로 수업을 진행하다보니 알아듣지 못하는...</td>\n",
              "      <td>3</td>\n",
              "    </tr>\n",
              "    <tr>\n",
              "      <th>4</th>\n",
              "      <td>무난무난한 통계 강의인 것 같습니다. 저는 까먹고 과제 제출을 한번 늦게 하고 기말...</td>\n",
              "      <td>4</td>\n",
              "    </tr>\n",
              "  </tbody>\n",
              "</table>\n",
              "</div>"
            ],
            "text/plain": [
              "                                                text  satisfaction\n",
              "0  중학교 때 배운 stem &leaf 부터 시작하기 때문에 고등학교 과정 통계를 제대...             5\n",
              "1  내용 자체가 한국에서 고등학교 졸업을 했기만 하면 다 이해할 수 있는 내용이라 어려...             3\n",
              "2  우선 생각보다 내용이 쉽습니다. 시험 공부부터 시작해서 과제에 시간을 많이 쓰지 않...             4\n",
              "3  교수님께서 되게 친절하게 설명해주십니다. 영어로 수업을 진행하다보니 알아듣지 못하는...             3\n",
              "4  무난무난한 통계 강의인 것 같습니다. 저는 까먹고 과제 제출을 한번 늦게 하고 기말...             4"
            ]
          },
          "metadata": {
            "tags": []
          },
          "execution_count": 5
        }
      ]
    },
    {
      "cell_type": "code",
      "metadata": {
        "colab": {
          "base_uri": "https://localhost:8080/",
          "height": 280
        },
        "id": "JQTUwUHjM4pI",
        "outputId": "cd992f45-c385-4b55-e78a-9d23d7c93f7c"
      },
      "source": [
        "klue['satisfaction'].value_counts().plot(kind = 'bar')"
      ],
      "execution_count": null,
      "outputs": [
        {
          "output_type": "execute_result",
          "data": {
            "text/plain": [
              "<matplotlib.axes._subplots.AxesSubplot at 0x7fb08f919fd0>"
            ]
          },
          "metadata": {
            "tags": []
          },
          "execution_count": 6
        },
        {
          "output_type": "display_data",
          "data": {
            "image/png": "[encoded data removed]",
            "text/plain": [
              "<Figure size 432x288 with 1 Axes>"
            ]
          },
          "metadata": {
            "tags": [],
            "needs_background": "light"
          }
        }
      ]
    },
    {
      "cell_type": "code",
      "metadata": {
        "colab": {
          "base_uri": "https://localhost:8080/",
          "height": 372
        },
        "id": "uHCkx_OFM8fl",
        "outputId": "c68adf67-ea4a-491b-a536-cebea03bfd2f"
      },
      "source": [
        "for i in range(len(klue)):\n",
        "  if klue['satisfaction'][i]>3:\n",
        "    klue['satisfaction'][i] = 1\n",
        "  else:\n",
        "    klue['satisfaction'][i] = 0\n",
        "\n",
        "klue[:5]"
      ],
      "execution_count": null,
      "outputs": [
        {
          "output_type": "stream",
          "text": [
            "/usr/local/lib/python3.7/dist-packages/ipykernel_launcher.py:3: SettingWithCopyWarning: \n",
            "A value is trying to be set on a copy of a slice from a DataFrame\n",
            "\n",
            "See the caveats in the documentation: https://pandas.pydata.org/pandas-docs/stable/user_guide/indexing.html#returning-a-view-versus-a-copy\n",
            "  This is separate from the ipykernel package so we can avoid doing imports until\n",
            "/usr/local/lib/python3.7/dist-packages/ipykernel_launcher.py:5: SettingWithCopyWarning: \n",
            "A value is trying to be set on a copy of a slice from a DataFrame\n",
            "\n",
            "See the caveats in the documentation: https://pandas.pydata.org/pandas-docs/stable/user_guide/indexing.html#returning-a-view-versus-a-copy\n",
            "  \"\"\"\n"
          ],
          "name": "stderr"
        },
        {
          "output_type": "execute_result",
          "data": {
            "text/html": [
              "<div>\n",
              "<style scoped>\n",
              "    .dataframe tbody tr th:only-of-type {\n",
              "        vertical-align: middle;\n",
              "    }\n",
              "\n",
              "    .dataframe tbody tr th {\n",
              "        vertical-align: top;\n",
              "    }\n",
              "\n",
              "    .dataframe thead th {\n",
              "        text-align: right;\n",
              "    }\n",
              "</style>\n",
              "<table border=\"1\" class=\"dataframe\">\n",
              "  <thead>\n",
              "    <tr style=\"text-align: right;\">\n",
              "      <th></th>\n",
              "      <th>text</th>\n",
              "      <th>satisfaction</th>\n",
              "    </tr>\n",
              "  </thead>\n",
              "  <tbody>\n",
              "    <tr>\n",
              "      <th>0</th>\n",
              "      <td>중학교 때 배운 stem &amp;leaf 부터 시작하기 때문에 고등학교 과정 통계를 제대...</td>\n",
              "      <td>1</td>\n",
              "    </tr>\n",
              "    <tr>\n",
              "      <th>1</th>\n",
              "      <td>내용 자체가 한국에서 고등학교 졸업을 했기만 하면 다 이해할 수 있는 내용이라 어려...</td>\n",
              "      <td>0</td>\n",
              "    </tr>\n",
              "    <tr>\n",
              "      <th>2</th>\n",
              "      <td>우선 생각보다 내용이 쉽습니다. 시험 공부부터 시작해서 과제에 시간을 많이 쓰지 않...</td>\n",
              "      <td>1</td>\n",
              "    </tr>\n",
              "    <tr>\n",
              "      <th>3</th>\n",
              "      <td>교수님께서 되게 친절하게 설명해주십니다. 영어로 수업을 진행하다보니 알아듣지 못하는...</td>\n",
              "      <td>0</td>\n",
              "    </tr>\n",
              "    <tr>\n",
              "      <th>4</th>\n",
              "      <td>무난무난한 통계 강의인 것 같습니다. 저는 까먹고 과제 제출을 한번 늦게 하고 기말...</td>\n",
              "      <td>1</td>\n",
              "    </tr>\n",
              "  </tbody>\n",
              "</table>\n",
              "</div>"
            ],
            "text/plain": [
              "                                                text  satisfaction\n",
              "0  중학교 때 배운 stem &leaf 부터 시작하기 때문에 고등학교 과정 통계를 제대...             1\n",
              "1  내용 자체가 한국에서 고등학교 졸업을 했기만 하면 다 이해할 수 있는 내용이라 어려...             0\n",
              "2  우선 생각보다 내용이 쉽습니다. 시험 공부부터 시작해서 과제에 시간을 많이 쓰지 않...             1\n",
              "3  교수님께서 되게 친절하게 설명해주십니다. 영어로 수업을 진행하다보니 알아듣지 못하는...             0\n",
              "4  무난무난한 통계 강의인 것 같습니다. 저는 까먹고 과제 제출을 한번 늦게 하고 기말...             1"
            ]
          },
          "metadata": {
            "tags": []
          },
          "execution_count": 7
        }
      ]
    },
    {
      "cell_type": "code",
      "metadata": {
        "colab": {
          "base_uri": "https://localhost:8080/",
          "height": 281
        },
        "id": "h03kNA08N9qw",
        "outputId": "015f622a-78ac-430f-db26-0ac7713558bf"
      },
      "source": [
        "klue['satisfaction'].value_counts().plot(kind = 'bar')"
      ],
      "execution_count": null,
      "outputs": [
        {
          "output_type": "execute_result",
          "data": {
            "text/plain": [
              "<matplotlib.axes._subplots.AxesSubplot at 0x7fb08f81eb90>"
            ]
          },
          "metadata": {
            "tags": []
          },
          "execution_count": 8
        },
        {
          "output_type": "display_data",
          "data": {
            "image/png": "[encoded data removed]",
            "text/plain": [
              "<Figure size 432x288 with 1 Axes>"
            ]
          },
          "metadata": {
            "tags": [],
            "needs_background": "light"
          }
        }
      ]
    },
    {
      "cell_type": "code",
      "metadata": {
        "id": "ryD82B7Mzqep",
        "colab": {
          "base_uri": "https://localhost:8080/"
        },
        "outputId": "d41e3aab-843e-4eb3-bfbc-dac0b2d6980b"
      },
      "source": [
        "klue.isna().sum()"
      ],
      "execution_count": null,
      "outputs": [
        {
          "output_type": "execute_result",
          "data": {
            "text/plain": [
              "text            0\n",
              "satisfaction    0\n",
              "dtype: int64"
            ]
          },
          "metadata": {
            "tags": []
          },
          "execution_count": 9
        }
      ]
    },
    {
      "cell_type": "code",
      "metadata": {
        "colab": {
          "base_uri": "https://localhost:8080/"
        },
        "id": "MDwyTVqHz2TM",
        "outputId": "bd9628a8-ed41-4abb-9a49-e2dbb8d74ebd"
      },
      "source": [
        "klue.duplicated().sum()"
      ],
      "execution_count": null,
      "outputs": [
        {
          "output_type": "execute_result",
          "data": {
            "text/plain": [
              "0"
            ]
          },
          "metadata": {
            "tags": []
          },
          "execution_count": 10
        }
      ]
    },
    {
      "cell_type": "code",
      "metadata": {
        "colab": {
          "base_uri": "https://localhost:8080/",
          "height": 194
        },
        "id": "YNAHoIZJ2cXI",
        "outputId": "4a9b7e6b-1764-48d4-ebe6-3e43030ef4ee"
      },
      "source": [
        "klue['text'] = klue['text'].str.replace(\"[^ㄱ-ㅎㅏ-ㅣ가-힣 ]\",\"\")\n",
        "klue[:5]"
      ],
      "execution_count": null,
      "outputs": [
        {
          "output_type": "execute_result",
          "data": {
            "text/html": [
              "<div>\n",
              "<style scoped>\n",
              "    .dataframe tbody tr th:only-of-type {\n",
              "        vertical-align: middle;\n",
              "    }\n",
              "\n",
              "    .dataframe tbody tr th {\n",
              "        vertical-align: top;\n",
              "    }\n",
              "\n",
              "    .dataframe thead th {\n",
              "        text-align: right;\n",
              "    }\n",
              "</style>\n",
              "<table border=\"1\" class=\"dataframe\">\n",
              "  <thead>\n",
              "    <tr style=\"text-align: right;\">\n",
              "      <th></th>\n",
              "      <th>text</th>\n",
              "      <th>satisfaction</th>\n",
              "    </tr>\n",
              "  </thead>\n",
              "  <tbody>\n",
              "    <tr>\n",
              "      <th>0</th>\n",
              "      <td>중학교 때 배운   부터 시작하기 때문에 고등학교 과정 통계를 제대로 공부했다면 전...</td>\n",
              "      <td>1</td>\n",
              "    </tr>\n",
              "    <tr>\n",
              "      <th>1</th>\n",
              "      <td>내용 자체가 한국에서 고등학교 졸업을 했기만 하면 다 이해할 수 있는 내용이라 어려...</td>\n",
              "      <td>0</td>\n",
              "    </tr>\n",
              "    <tr>\n",
              "      <th>2</th>\n",
              "      <td>우선 생각보다 내용이 쉽습니다 시험 공부부터 시작해서 과제에 시간을 많이 쓰지 않아...</td>\n",
              "      <td>1</td>\n",
              "    </tr>\n",
              "    <tr>\n",
              "      <th>3</th>\n",
              "      <td>교수님께서 되게 친절하게 설명해주십니다 영어로 수업을 진행하다보니 알아듣지 못하는 ...</td>\n",
              "      <td>0</td>\n",
              "    </tr>\n",
              "    <tr>\n",
              "      <th>4</th>\n",
              "      <td>무난무난한 통계 강의인 것 같습니다 저는 까먹고 과제 제출을 한번 늦게 하고 기말고...</td>\n",
              "      <td>1</td>\n",
              "    </tr>\n",
              "  </tbody>\n",
              "</table>\n",
              "</div>"
            ],
            "text/plain": [
              "                                                text  satisfaction\n",
              "0  중학교 때 배운   부터 시작하기 때문에 고등학교 과정 통계를 제대로 공부했다면 전...             1\n",
              "1  내용 자체가 한국에서 고등학교 졸업을 했기만 하면 다 이해할 수 있는 내용이라 어려...             0\n",
              "2  우선 생각보다 내용이 쉽습니다 시험 공부부터 시작해서 과제에 시간을 많이 쓰지 않아...             1\n",
              "3  교수님께서 되게 친절하게 설명해주십니다 영어로 수업을 진행하다보니 알아듣지 못하는 ...             0\n",
              "4  무난무난한 통계 강의인 것 같습니다 저는 까먹고 과제 제출을 한번 늦게 하고 기말고...             1"
            ]
          },
          "metadata": {
            "tags": []
          },
          "execution_count": 11
        }
      ]
    },
    {
      "cell_type": "code",
      "metadata": {
        "colab": {
          "base_uri": "https://localhost:8080/"
        },
        "id": "2jxP8eL0Ozj-",
        "outputId": "8ab1c4f0-e87b-430e-9955-3aae6df21f54"
      },
      "source": [
        "from sklearn.model_selection import train_test_split\n",
        "train_data, test_data = train_test_split(klue, test_size = 0.2, random_state = 1)\n",
        "print('훈련용 리뷰의 개수 :', len(train_data))\n",
        "print('테스트용 리뷰의 개수 :', len(test_data))"
      ],
      "execution_count": null,
      "outputs": [
        {
          "output_type": "stream",
          "text": [
            "훈련용 리뷰의 개수 : 18175\n",
            "테스트용 리뷰의 개수 : 4544\n"
          ],
          "name": "stdout"
        }
      ]
    },
    {
      "cell_type": "markdown",
      "metadata": {
        "id": "6VGBZgHYP01l"
      },
      "source": [
        "# 토큰화"
      ]
    },
    {
      "cell_type": "code",
      "metadata": {
        "colab": {
          "base_uri": "https://localhost:8080/"
        },
        "id": "2gfzvCAm4vRa",
        "outputId": "90d13198-d6a3-441b-f9a7-5b4b10e3ef3a"
      },
      "source": [
        "!pip install konlpy"
      ],
      "execution_count": null,
      "outputs": [
        {
          "output_type": "stream",
          "text": [
            "Collecting konlpy\n",
            "\u001b[?25l  Downloading https://files.pythonhosted.org/packages/85/0e/f385566fec837c0b83f216b2da65db9997b35dd675e107752005b7d392b1/konlpy-0.5.2-py2.py3-none-any.whl (19.4MB)\n",
            "\u001b[K     |████████████████████████████████| 19.4MB 1.5MB/s \n",
            "\u001b[?25hRequirement already satisfied: tweepy>=3.7.0 in /usr/local/lib/python3.7/dist-packages (from konlpy) (3.10.0)\n",
            "Collecting JPype1>=0.7.0\n",
            "\u001b[?25l  Downloading https://files.pythonhosted.org/packages/cd/a5/9781e2ef4ca92d09912c4794642c1653aea7607f473e156cf4d423a881a1/JPype1-1.2.1-cp37-cp37m-manylinux2010_x86_64.whl (457kB)\n",
            "\u001b[K     |████████████████████████████████| 460kB 42.8MB/s \n",
            "\u001b[?25hRequirement already satisfied: lxml>=4.1.0 in /usr/local/lib/python3.7/dist-packages (from konlpy) (4.2.6)\n",
            "Collecting beautifulsoup4==4.6.0\n",
            "\u001b[?25l  Downloading https://files.pythonhosted.org/packages/9e/d4/10f46e5cfac773e22707237bfcd51bbffeaf0a576b0a847ec7ab15bd7ace/beautifulsoup4-4.6.0-py3-none-any.whl (86kB)\n",
            "\u001b[K     |████████████████████████████████| 92kB 13.8MB/s \n",
            "\u001b[?25hCollecting colorama\n",
            "  Downloading https://files.pythonhosted.org/packages/44/98/5b86278fbbf250d239ae0ecb724f8572af1c91f4a11edf4d36a206189440/colorama-0.4.4-py2.py3-none-any.whl\n",
            "Requirement already satisfied: numpy>=1.6 in /usr/local/lib/python3.7/dist-packages (from konlpy) (1.19.5)\n",
            "Requirement already satisfied: six>=1.10.0 in /usr/local/lib/python3.7/dist-packages (from tweepy>=3.7.0->konlpy) (1.15.0)\n",
            "Requirement already satisfied: requests-oauthlib>=0.7.0 in /usr/local/lib/python3.7/dist-packages (from tweepy>=3.7.0->konlpy) (1.3.0)\n",
            "Requirement already satisfied: requests[socks]>=2.11.1 in /usr/local/lib/python3.7/dist-packages (from tweepy>=3.7.0->konlpy) (2.23.0)\n",
            "Requirement already satisfied: typing-extensions; python_version < \"3.8\" in /usr/local/lib/python3.7/dist-packages (from JPype1>=0.7.0->konlpy) (3.7.4.3)\n",
            "Requirement already satisfied: oauthlib>=3.0.0 in /usr/local/lib/python3.7/dist-packages (from requests-oauthlib>=0.7.0->tweepy>=3.7.0->konlpy) (3.1.0)\n",
            "Requirement already satisfied: certifi>=2017.4.17 in /usr/local/lib/python3.7/dist-packages (from requests[socks]>=2.11.1->tweepy>=3.7.0->konlpy) (2020.12.5)\n",
            "Requirement already satisfied: idna<3,>=2.5 in /usr/local/lib/python3.7/dist-packages (from requests[socks]>=2.11.1->tweepy>=3.7.0->konlpy) (2.10)\n",
            "Requirement already satisfied: chardet<4,>=3.0.2 in /usr/local/lib/python3.7/dist-packages (from requests[socks]>=2.11.1->tweepy>=3.7.0->konlpy) (3.0.4)\n",
            "Requirement already satisfied: urllib3!=1.25.0,!=1.25.1,<1.26,>=1.21.1 in /usr/local/lib/python3.7/dist-packages (from requests[socks]>=2.11.1->tweepy>=3.7.0->konlpy) (1.24.3)\n",
            "Requirement already satisfied: PySocks!=1.5.7,>=1.5.6; extra == \"socks\" in /usr/local/lib/python3.7/dist-packages (from requests[socks]>=2.11.1->tweepy>=3.7.0->konlpy) (1.7.1)\n",
            "Installing collected packages: JPype1, beautifulsoup4, colorama, konlpy\n",
            "  Found existing installation: beautifulsoup4 4.6.3\n",
            "    Uninstalling beautifulsoup4-4.6.3:\n",
            "      Successfully uninstalled beautifulsoup4-4.6.3\n",
            "Successfully installed JPype1-1.2.1 beautifulsoup4-4.6.0 colorama-0.4.4 konlpy-0.5.2\n"
          ],
          "name": "stdout"
        }
      ]
    },
    {
      "cell_type": "code",
      "metadata": {
        "id": "bhv0KInX1ieT"
      },
      "source": [
        "from konlpy.tag import Okt\n",
        "okt = Okt()"
      ],
      "execution_count": null,
      "outputs": []
    },
    {
      "cell_type": "code",
      "metadata": {
        "id": "OqL5uasMKGSu"
      },
      "source": [
        "X_train = []\n",
        "for sentence in train_data['text']:\n",
        "  temp = []\n",
        "  for word in okt.pos(str(sentence), stem = True):\n",
        "    if word[1] in ['Adjective', 'Adverb', 'Determiner', 'Exclamation', 'Noun', 'Verb', 'KoreanParticle']:\n",
        "      temp.append(word[0])\n",
        "  X_train.append(temp)"
      ],
      "execution_count": null,
      "outputs": []
    },
    {
      "cell_type": "code",
      "metadata": {
        "colab": {
          "base_uri": "https://localhost:8080/"
        },
        "id": "ml_enskH1iYB",
        "outputId": "1f3e887d-a506-40f3-ccf9-292cb7a9927e"
      },
      "source": [
        "X_train[:3]"
      ],
      "execution_count": null,
      "outputs": [
        {
          "output_type": "execute_result",
          "data": {
            "text/plain": [
              "[['여러가지',\n",
              "  '기업',\n",
              "  '재무',\n",
              "  '지식',\n",
              "  '알다',\n",
              "  '수업',\n",
              "  '이다',\n",
              "  '교수',\n",
              "  '젠틀',\n",
              "  '하다',\n",
              "  '수업',\n",
              "  '중후',\n",
              "  '반',\n",
              "  '가면',\n",
              "  '배우다',\n",
              "  '내용',\n",
              "  '너무',\n",
              "  '어려워지다',\n",
              "  '어느',\n",
              "  '순간',\n",
              "  '수업',\n",
              "  '놓다',\n",
              "  '버리다',\n",
              "  '자신',\n",
              "  '발견',\n",
              "  '하다',\n",
              "  '되다',\n",
              "  '과제',\n",
              "  '개인',\n",
              "  '과제',\n",
              "  '번',\n",
              "  '팀',\n",
              "  '과제',\n",
              "  '번',\n",
              "  '개인',\n",
              "  '과제',\n",
              "  '그냥',\n",
              "  '케이스',\n",
              "  '읽다',\n",
              "  '하다',\n",
              "  '풀다',\n",
              "  '부담',\n",
              "  '거의',\n",
              "  '없다',\n",
              "  '과제',\n",
              "  '팀',\n",
              "  '과제',\n",
              "  '상당하다',\n",
              "  '복잡하다',\n",
              "  '내용',\n",
              "  '류',\n",
              "  '이',\n",
              "  '션',\n",
              "  '하다',\n",
              "  '줄',\n",
              "  '알다',\n",
              "  '인물',\n",
              "  '한',\n",
              "  '명',\n",
              "  '필요하다',\n",
              "  '시험',\n",
              "  '걱정',\n",
              "  '많다',\n",
              "  '공식',\n",
              "  '적히다',\n",
              "  '포뮬',\n",
              "  '시트',\n",
              "  '제공',\n",
              "  '난이도',\n",
              "  '배우다',\n",
              "  '비',\n",
              "  '하다',\n",
              "  '평이하다',\n",
              "  '나오다',\n",
              "  '걱정',\n",
              "  '많다',\n",
              "  '의외로',\n",
              "  '평균',\n",
              "  '낮다',\n",
              "  '나오다',\n",
              "  '성적',\n",
              "  '자다',\n",
              "  '나오다',\n",
              "  '편입',\n",
              "  '니'],\n",
              " ['학점', '줍다', '배우다', '내용', '너무', '어렵다', '수업', '어렵다'],\n",
              " ['열심히',\n",
              "  '하다',\n",
              "  '하다',\n",
              "  '중간',\n",
              "  '말',\n",
              "  '다',\n",
              "  '보고',\n",
              "  '팀플',\n",
              "  '있다',\n",
              "  '교수',\n",
              "  '굉장하다',\n",
              "  '똑똑하다',\n",
              "  '수업',\n",
              "  '준비',\n",
              "  '해오다',\n",
              "  '진도',\n",
              "  '빠르다',\n",
              "  '나가다',\n",
              "  '선물옵션',\n",
              "  '공부',\n",
              "  '열심히',\n",
              "  '하다',\n",
              "  '생각',\n",
              "  '이',\n",
              "  '시',\n",
              "  '듣다',\n",
              "  '좋다',\n",
              "  '것',\n",
              "  '같다']]"
            ]
          },
          "metadata": {
            "tags": []
          },
          "execution_count": 18
        }
      ]
    },
    {
      "cell_type": "code",
      "metadata": {
        "id": "4GJMCoWgPdc1"
      },
      "source": [
        "X_test = []\n",
        "for sentence in test_data['text']:\n",
        "  temp = []\n",
        "  for word in okt.pos(str(sentence), stem = True):\n",
        "    if word[1] in ['Adjective', 'Adverb', 'Determiner', 'Exclamation', 'Noun', 'Verb', 'KoreanParticle']:\n",
        "      temp.append(word[0])\n",
        "  X_test.append(temp)"
      ],
      "execution_count": null,
      "outputs": []
    },
    {
      "cell_type": "code",
      "metadata": {
        "colab": {
          "base_uri": "https://localhost:8080/"
        },
        "id": "2FJgxADLPgBf",
        "outputId": "ad2d68df-bf52-42a9-bb14-ac0f1ef18408"
      },
      "source": [
        "X_test[:3]"
      ],
      "execution_count": null,
      "outputs": [
        {
          "output_type": "execute_result",
          "data": {
            "text/plain": [
              "[['일단',\n",
              "  '오',\n",
              "  '완전',\n",
              "  '쉬다',\n",
              "  '이건',\n",
              "  '아니다',\n",
              "  '제겐',\n",
              "  '다만',\n",
              "  '수학',\n",
              "  '오다',\n",
              "  '먼저',\n",
              "  '들다',\n",
              "  '분',\n",
              "  '혹은',\n",
              "  '수학',\n",
              "  '감각',\n",
              "  '좀',\n",
              "  '있다',\n",
              "  '하다',\n",
              "  '분',\n",
              "  '쉬다',\n",
              "  '것',\n",
              "  '같다',\n",
              "  '시험',\n",
              "  '문제',\n",
              "  '그냥',\n",
              "  '모델링',\n",
              "  '하다',\n",
              "  '거구',\n",
              "  '교수',\n",
              "  '친절하다',\n",
              "  '매시간',\n",
              "  '설명',\n",
              "  '자다',\n",
              "  '해주다',\n",
              "  '사실',\n",
              "  '노',\n",
              "  '베이스',\n",
              "  '도',\n",
              "  '복습',\n",
              "  '좀',\n",
              "  '하다',\n",
              "  '충분하다',\n",
              "  '나오다',\n",
              "  '것',\n",
              "  '같다',\n",
              "  '수업',\n",
              "  '시간',\n",
              "  '수식',\n",
              "  '쓰기',\n",
              "  '엑셀',\n",
              "  '실습',\n",
              "  '시험',\n",
              "  '모델링',\n",
              "  '식',\n",
              "  '쓰다',\n",
              "  '겁니다',\n",
              "  '엑셀',\n",
              "  '써다',\n",
              "  '근데',\n",
              "  '수업',\n",
              "  '시간',\n",
              "  '실습',\n",
              "  '교수',\n",
              "  '하다',\n",
              "  '따르다',\n",
              "  '되다',\n",
              "  '부담',\n",
              "  '전혀',\n",
              "  '없다'],\n",
              " ['정빈',\n",
              "  '교수',\n",
              "  '수업',\n",
              "  '정말',\n",
              "  '체계',\n",
              "  '적다',\n",
              "  '재미있다',\n",
              "  '교수',\n",
              "  '엄청',\n",
              "  '젠틀',\n",
              "  '하다',\n",
              "  '팀',\n",
              "  '만나다',\n",
              "  '되다',\n",
              "  '수업'],\n",
              " ['중간',\n",
              "  '말',\n",
              "  '나누다',\n",
              "  '시험',\n",
              "  '보다',\n",
              "  '오히려',\n",
              "  '좋다',\n",
              "  '시험',\n",
              "  '외',\n",
              "  '탐구',\n",
              "  '발표',\n",
              "  '있다',\n",
              "  '저',\n",
              "  '하다',\n",
              "  '않다',\n",
              "  '하다',\n",
              "  '것',\n",
              "  '추천',\n",
              "  '드리다',\n",
              "  '대해',\n",
              "  '더',\n",
              "  '자세하다',\n",
              "  '배우다',\n",
              "  '수',\n",
              "  '있다',\n",
              "  '강의',\n",
              "  '이다',\n",
              "  '저',\n",
              "  '예전',\n",
              "  '배우다',\n",
              "  '걸',\n",
              "  '다',\n",
              "  '까먹다',\n",
              "  '강의',\n",
              "  '따라가다',\n",
              "  '좀',\n",
              "  '힘들다',\n",
              "  '수시',\n",
              "  '과제',\n",
              "  '있다',\n",
              "  '그렇게',\n",
              "  '어렵다',\n",
              "  '수준',\n",
              "  '아니다',\n",
              "  '강의',\n",
              "  '자료',\n",
              "  '자다',\n",
              "  '참고',\n",
              "  '하다',\n",
              "  '충분하다',\n",
              "  '다',\n",
              "  '풀',\n",
              "  '수',\n",
              "  '있다',\n",
              "  '다만',\n",
              "  '시험',\n",
              "  '코드',\n",
              "  '채우다',\n",
              "  '넣다',\n",
              "  '부분',\n",
              "  '있다',\n",
              "  '준비',\n",
              "  '하다',\n",
              "  '좀',\n",
              "  '어렵다']]"
            ]
          },
          "metadata": {
            "tags": []
          },
          "execution_count": 20
        }
      ]
    },
    {
      "cell_type": "markdown",
      "metadata": {
        "id": "XmuT-dSKP3N_"
      },
      "source": [
        "# 정수 인코딩"
      ]
    },
    {
      "cell_type": "code",
      "metadata": {
        "id": "fFxf7zMSP558"
      },
      "source": [
        "from tensorflow.keras.preprocessing.text import Tokenizer\n",
        "from tensorflow.keras.preprocessing.sequence import pad_sequences"
      ],
      "execution_count": null,
      "outputs": []
    },
    {
      "cell_type": "code",
      "metadata": {
        "id": "aUmNw4ViP9Zs"
      },
      "source": [
        "tokenizer = Tokenizer()\n",
        "tokenizer.fit_on_texts(X_train)"
      ],
      "execution_count": null,
      "outputs": []
    },
    {
      "cell_type": "code",
      "metadata": {
        "colab": {
          "base_uri": "https://localhost:8080/"
        },
        "id": "Fvc3EoikP_Fc",
        "outputId": "0849b027-1f61-45e8-e3ca-f5c7b23c5ded"
      },
      "source": [
        "print(tokenizer.word_index) # 빈도 수 순서대로 정렬"
      ],
      "execution_count": null,
      "outputs": [
        {
          "output_type": "stream",
          "text": [
            "{'하다': 1, '있다': 2, '수업': 3, '교수': 4, '것': 5, '강의': 6, '시험': 7, '과제': 8, '이다': 9, '같다': 10, '자다': 11, '않다': 12, '되다': 13, '좋다': 14, '수': 15, '내용': 16, '들다': 17, '학점': 18, '문제': 19, '없다': 20, '많다': 21, '보다': 22, '말': 23, '어렵다': 24, '나오다': 25, '중간': 26, '받다': 27, '배우다': 28, '시간': 29, '생각': 30, '공부': 31, '정말': 32, '많이': 33, '출석': 34, '이': 35, '학기': 36, '해주다': 37, '때': 38, '점수': 39, '정도': 40, '다': 41, '번': 42, '기말고사': 43, '때문': 44, '팀': 45, '아니다': 46, '중간고사': 47, '학생': 48, '주다': 49, '듣다': 50, '너무': 51, '진행': 52, '설명': 53, '열심히': 54, '저': 55, '분': 56, '점': 57, '난이도': 58, '이해': 59, '매우': 60, '안': 61, '좀': 62, '성적': 63, '발표': 64, '쉬다': 65, '추천': 66, '되어다': 67, '조금': 68, '영어': 69, '부분': 70, '플': 71, '과목': 72, '그': 73, '주시': 74, '하나': 75, '그냥': 76, '거': 77, '그렇다': 78, '거의': 79, '모르다': 80, '힘들다': 81, '이번': 82, '알다': 83, '체크': 84, '질문': 85, '크다': 86, '퀴즈': 87, '그래도': 88, '개인': 89, '대해': 90, '자체': 91, '다른': 92, '중': 93, '팀플': 94, '싶다': 95, '더': 96, '제출': 97, '굉장하다': 98, '개': 99, '부담': 100, '모두': 101, '학': 102, '읽다': 103, '게': 104, '적다': 105, '무난': 106, '중요하다': 107, '온라인': 108, '습량': 109, '평가': 110, '높다': 111, '다만': 112, '전': 113, '대한': 114, '범위': 115, '사람': 116, '처음': 117, '친절하다': 118, '외우다': 119, '성취': 120, '레포트': 121, '풀다': 122, '참여': 123, '한': 124, '걸': 125, '쉽다': 126, '따라가다': 127, '진짜': 128, '대체': 129, '줄다': 130, '책': 131, '제': 132, '꽤': 133, '교재': 134, '피피티': 135, '두': 136, '한번': 137, '경우': 138, '개념': 139, '크게': 140, '느낌': 141, '엄청': 142, '후': 143, '다루다': 144, '가다': 145, '쓰다': 146, '없이': 147, '내다': 148, '그렇게': 149, '재밌다': 150, '자료': 151, '괜찮다': 152, '가르치다': 153, '드리다': 154, '편': 155, '객관': 156, '듯': 157, '내': 158, '편이': 159, '얻다': 160, '말씀': 161, '를': 162, '답': 163, '관련': 164, '방식': 165, '꼭': 166, '등': 167, '보고': 168, '풀': 169, '올려주다': 170, '서술': 171, '감': 172, '코로나': 173, '별로': 174, '돼다': 175, '준비': 176, '알': 177, '작성': 178, '어떻다': 179, '맞다': 180, '기준': 181, '이론': 182, '출첵': 183, '사실': 184, '수준': 185, '해보다': 186, '오다': 187, '짜다': 188, '영강': 189, '써다': 190, '통계': 191, '주제': 192, '편하다': 193, '끝나다': 194, '프로젝트': 195, '미리': 196, '필기': 197, '이쁘다': 198, '나가다': 199, '오픈': 200, '아주': 201, '근데': 202, '충분하다': 203, '만점': 204, '출제': 205, '동안': 206, '니': 207, '북': 208, '상당하다': 209, '도움': 210, '느끼다': 211, '이후': 212, '노력': 213, '가장': 214, '수강': 215, '전반': 216, '관심': 217, '못': 218, '건': 219, 'ㅠㅠ': 220, '매주': 221, '사회': 222, '일단': 223, '녹화': 224, '모든': 225, '기초': 226, '만큼': 227, '대면': 228, '양': 229, '심리학': 230, '기억': 231, '기간': 232, '위주': 233, '그래서': 234, '집중': 235, '복습': 236, '진도': 237, '코딩': 238, '해': 239, '이상': 240, '수학': 241, '연습': 242, '따로': 243, '데': 244, '항상': 245, '아쉽다': 246, '사회학': 247, '꿀강': 248, '꼼꼼하다': 249, '전혀': 250, '토론': 251, '매번': 252, '볼': 253, '기본': 254, '나름': 255, '본인': 256, '조교': 257, '함': 258, '보고서': 259, '분량': 260, '전공': 261, '대부분': 262, '가끔': 263, '채점': 264, '적당하다': 265, '강': 266, '재미있다': 267, '듣기': 268, '마지막': 269, '비': 270, '감다': 271, '분석': 272, '만': 273, '그대로': 274, '회계': 275, '정리': 276, '형식': 277, '수도': 278, '느껴지다': 279, '대신': 280, '부르다': 281, '이루어지다': 282, '매': 283, '야하다': 284, '전체': 285, '자신': 286, '도': 287, '내주다': 288, '만들다': 289, '실습': 290, '최고': 291, '비다': 292, '이렇다': 293, '제대로': 294, '두다': 295, '편입': 296, '안되다': 297, '치다': 298, '평균': 299, '가지': 300, '또': 301, '다시': 302, '총': 303, '원래': 304, 'ㅎㅎ': 305, '지식': 306, '계산': 307, '명': 308, '시작': 309, '쓸다': 310, '경영': 311, '암기': 312, '실시간': 313, '라면': 314, '영상': 315, '들이다': 316, '겁니다': 317, '배려': 318, '직접': 319, '들어가다': 320, '어려움': 321, '약간': 322, '필요하다': 323, '통계학': 324, '걱정': 325, '또한': 326, '로': 327, '푸다': 328, '빠르다': 329, '열정': 330, '해주시': 331, '무조건': 332, '결과': 333, '주': 334, '나': 335, '분야': 336, '갈다': 337, '임': 338, '최대한': 339, '솔직하다': 340, '싸다': 341, '물론': 342, '간단하다': 343, '심': 344, '필요': 345, '전달': 346, '같이': 347, '생': 348, '실제': 349, '걸리다': 350, '기다': 351, '전부': 352, '특히': 353, '낮다': 354, '요약': 355, '에이': 356, '장': 357, '비중': 358, '자세하다': 359, '통해': 360, '사용': 361, '불다': 362, '여러': 363, '늘다': 364, '족보': 365, '내내': 366, '교과서': 367, '평소': 368, '채우다': 369, '무엇': 370, '참고': 371, '비슷하다': 372, '힘드다': 373, '계속': 374, '논문': 375, '가능하다': 376, '일': 377, '보시': 378, '자주': 379, '마케팅': 380, '및': 381, '혼자': 382, '나다': 383, '코드': 384, '반영': 385, '틀리다': 386, '남다': 387, '흥미롭다': 388, '주심': 389, '학습': 390, '줄': 391, '초반': 392, '아예': 393, '부족하다': 394, '나쁘다': 395, '원하다': 396, '은': 397, '맞추다': 398, '주관': 399, '어리다': 400, '매일': 401, '뭐': 402, '몇': 403, '비대': 404, '랜덤': 405, '확인': 406, '완전': 407, '투자': 408, '과정': 409, '수월하다': 410, '피드백': 411, '시키다': 412, '말다': 413, '좋아하다': 414, '의견': 415, '이기': 416, '손': 417, '딱': 418, '선택': 419, '뒤': 420, '위': 421, '이렇게': 422, '다음': 423, '페이지': 424, '교시': 425, '감점': 426, '인하다': 427, '풀이': 428, '식': 429, '따르다': 430, '고등학교': 431, '바라다': 432, '만나다': 433, '귀찮다': 434, '블랙보드': 435, '역시': 436, '제일': 437, '되게': 438, '주신': 439, '딱하다': 440, '언어': 441, '해도': 442, '이름': 443, '기업': 444, '케이스': 445, '성실하다': 446, '발음': 447, '다양하다': 448, 'ㅠ': 449, '꿀': 450, '그만큼': 451, '그리다': 452, '깔끔하다': 453, '빠지다': 454, '녹강': 455, '구성': 456, '위해': 457, '기도': 458, '답변': 459, '추가': 460, '올리다': 461, '에세이': 462, '빛': 463, '기출': 464, '학우': 465, '쪽': 466, '절대': 467, '대충': 468, '엑셀': 469, '워낙': 470, '특성': 471, '날': 472, '당황': 473, '다소': 474, '펴다': 475, '나중': 476, '첫': 477, '스타일': 478, '활용': 479, '반복': 480, '차다': 481, '그것': 482, '예시': 483, '빡세': 484, '파이썬': 485, '다르다': 486, '한국어': 487, '보이다': 488, '각': 489, '메일': 490, '친구': 491, '확실하다': 492, '이야기': 493, '차': 494, '평': 495, '번의': 496, '방법': 497, '깎다': 498, '어느': 499, '왜': 500, '회': 501, '유익하다': 502, '만족하다': 503, '사례': 504, '컴퓨터': 505, '데이터': 506, '요구': 507, '론': 508, '불구': 509, '따다': 510, '프로그래밍': 511, '적': 512, '마음': 513, '의미': 514, '공부량': 515, '이용': 516, '훨씬': 517, '앞': 518, '적용': 519, '찾다': 520, '빼다': 521, '평이': 522, '끝': 523, '망하다': 524, '터': 525, '알아듣다': 526, '흥미': 527, '명강': 528, '얘기': 529, '후반': 530, '계획': 531, '달달': 532, '이전': 533, '무리': 534, '프로그램': 535, '외': 536, '하루': 537, '일주일': 538, '서다': 539, '건지다': 540, '실력': 541, '절대평가': 542, '스스로': 543, '오프라인': 544, '강조': 545, '독학': 546, '국강': 547, '포기': 548, '실수': 549, '교양': 550, '덕분': 551, '챙기다': 552, '착하다': 553, '만족스럽다': 554, '채다': 555, '타': 556, '들어오다': 557, '뭘': 558, '자기': 559, '아마': 560, '학년': 561, '시': 562, '소통': 563, '경험': 564, '정확하다': 565, '필수': 566, '결정': 567, '엄청나다': 568, '들어서다': 569, '비교': 570, '영향': 571, '미화': 572, '주로': 573, '지다': 574, '바뀌다': 575, '늦다': 576, '재무': 577, '깊다': 578, '오히려': 579, '해결': 580, '히': 581, '알고리즘': 582, '바탕': 583, '러닝': 584, '결석': 585, '예상': 586, '엽': 587, '단점': 588, '넘다': 589, '원리': 590, '별': 591, '공지': 592, '하': 593, '응용': 594, '까다롭다': 595, '해당': 596, '먹다': 597, '고생': 598, '우선': 599, '글': 600, '경영학': 601, '상황': 602, '거나': 603, '시기': 604, '주어지다': 605, '흐름': 606, '돌리다': 607, '결국': 608, '구현': 609, '넘어가다': 610, '지각': 611, '바로': 612, '새롭다': 613, '학과': 614, '줌': 615, '뭔가': 616, '감사하다': 617, 'ㅜㅜ': 618, '버리다': 619, '떨어지다': 620, '보': 621, '유튜브': 622, '공식': 623, '보기': 624, '입장': 625, '막': 626, '헷갈리다': 627, '스트레스': 628, '목소리': 629, '보통': 630, '의': 631, '보내다': 632, '정': 633, '재무관리': 634, '수강신청': 635, '대비': 636, '아': 637, '물어보다': 638, '지루하다': 639, '신다': 640, '미디': 641, '체계': 642, '연구': 643, '관': 644, '필': 645, '세다': 646, '비추다': 647, '스럽다': 648, '기회': 649, '고민': 650, '유형': 651, '신경': 652, '치팅': 653, '비쁠': 654, '함께': 655, '접': 656, '칼': 657, '짧다': 658, '최종': 659, '세': 660, '장점': 661, '나누다': 662, '올라오다': 663, '놓치다': 664, '답안': 665, '단원': 666, '페이퍼': 667, '지정': 668, '회계학': 669, '문과': 670, '요': 671, '심리': 672, '잡다': 673, '로만': 674, '그저': 675, '살짝': 676, '빨리': 677, '제로': 678, '적극': 679, '증명': 680, '외국인': 681, '신청': 682, '그거': 683, '업로드': 684, '비율': 685, '계시다': 686, '기반': 687, '나머지': 688, '포함': 689, '은근': 690, '이건': 691, '기대하다': 692, '따라서': 693, '굳이': 694, '완벽하다': 695, '베이스': 696, '이르다': 697, '끄다': 698, '재수강': 699, '변별': 700, '처리': 701, '컴': 702, '과': 703, '이기다': 704, '보너스': 705, '유명하다': 706, '구': 707, '무슨': 708, '이유': 709, '부': 710, '평이하다': 711, '지금': 712, '안해': 713, '어차피': 714, '갈리다': 715, '제외': 716, '바꾸다': 717, '서평': 718, '플로': 719, '법': 720, '꾸준하다': 721, '대체로': 722, '리포트': 723, 'ㅎ': 724, '제시': 725, '보여주다': 726, '최악': 727, '오래': 728, '종종': 729, '놓다': 730, '제공': 731, '명확하다': 732, '습': 733, '인지': 734, '면': 735, '거기': 736, '끝내다': 737, '실험': 738, '둘': 739, '편의': 740, '팀원': 741, '언급': 742, '숙제': 743, '텀': 744, '심지어': 745, '계절': 746, '모습': 747, '가면': 748, '갈수록': 749, '중심': 750, '여기': 751, '제풀이': 752, '말로': 753, '핵심': 754, '예제': 755, '고르다': 756, '생기다': 757, '내시': 758, '훑다': 759, '좌석': 760, '몰다': 761, '뿐': 762, '유연': 763, '커버': 764, '형태': 765, '그걸': 766, '귀엽다': 767, '수가': 768, '넣다': 769, '각각': 770, '차근차근': 771, '자잘하다': 772, '통': 773, '칼절평': 774, '결론': 775, '네': 776, '동영상': 777, '음': 778, '생소하다': 779, '알차다': 780, '이면': 781, '대답': 782, '기분': 783, '조': 784, '반': 785, '칼절': 786, '확률': 787, '유창하다': 788, '즐겁다': 789, '상태': 790, '레이': 791, '강하다': 792, '판서': 793, '겹': 794, '부담스럽다': 795, '수강생': 796, '고려': 797, '미치다': 798, '전략': 799, '서도': 800, '그게': 801, '학교': 802, '상': 803, '보지': 804, '논술': 805, '주의': 806, '절반': 807, '정보': 808, '입문': 809, '직전': 810, '저희': 811, '창업': 812, '키': 813, '가볍다': 814, '열리다': 815, '논리': 816, '승준': 817, '혹은': 818, '구조': 819, '전날': 820, '번은': 821, '용': 822, '초': 823, '속': 824, '그때': 825, '이미': 826, '종이': 827, '인터넷': 828, '심리검사': 829, '익숙하다': 830, '갑자기': 831, '시스템': 832, '기대': 833, '웬만하다': 834, '찍다': 835, '자료구조': 836, '양도': 837, '학자': 838, '허용': 839, '컷': 840, '넘치다': 841, '시트': 842, '당연하다': 843, '들어주다': 844, '워드': 845, '앉다': 846, '문': 847, '적지': 848, '어려워지다': 849, '만약': 850, '천천히': 851, '니당다': 852, '고사': 853, '작다': 854, '천사': 855, '머리': 856, '개다': 857, '한국': 858, '불편하다': 859, '던지다': 860, '조원': 861, '그럭저럭': 862, '깊이': 863, '대학': 864, '애매하다': 865, '그나마': 866, '사랑': 867, '용이': 868, '소개': 869, '들리다': 870, '검사': 871, '가져가다': 872, '벼락치기': 873, 'ㅋㅋ': 874, '스윗': 875, '해석': 876, '수시': 877, '믿다': 878, '애': 879, '아무래도': 880, '뛰어나다': 881, '식이': 882, '선정': 883, '돌아가다': 884, '기계학습': 885, '달다': 886, '놀라다': 887, '이상하다': 888, '치르다': 889, '몇번': 890, '파일': 891, '일찍': 892, '파악': 893, '자리': 894, '머신': 895, '절평': 896, '차이': 897, '넓다': 898, '쓰시': 899, '적절하다': 900, '이메일': 901, '재미': 902, '인생': 903, '테스트': 904, '경영통계': 905, '조사': 906, '계산기': 907, '방향': 908, '사다': 909, '속도': 910, '안좋다': 911, '회원': 912, '년': 913, '과학': 914, '광고': 915, '딥': 916, '관점': 917, '이슈': 918, '숙지': 919, '용도': 920, '워': 921, '인정': 922, '박성빈': 923, '원론': 924, '분포': 925, '하라': 926, '상대': 927, '풀기': 928, '달': 929, '관리': 930, '인': 931, '단어': 932, '세번': 933, '기한': 934, '얼마나': 935, '사항': 936, '로드': 937, '끼리': 938, '등등': 939, '문항': 940, '소리': 941, '차지': 942, '텀프': 943, '뇌': 944, '먼저': 945, '깐깐하다': 946, '파트': 947, '해오다': 948, '용어': 949, '우리': 950, '넉넉하다': 951, '성찰': 952, '공개': 953, '대로': 954, '싫어하다': 955, '다행': 956, '찾아보다': 957, '감안': 958, '그닥': 959, '별개': 960, '가깝다': 961, '종강': 962, '쁠': 963, '망치다': 964, '후회': 965, '분위기': 966, '기': 967, '권': 968, '시국': 969, '노트': 970, '기록': 971, '느리다': 972, '그다지': 973, '뜨다': 974, '이외': 975, '고': 976, '싫다': 977, '인원': 978, 'ㅠㅠㅠ': 979, '켜다': 980, '유사하다': 981, '일지': 982, '표': 983, '이해도': 984, '양은': 985, '제한': 986, '심하다': 987, '운영체제': 988, '강의실': 989, '똑같다': 990, '개론': 991, '나서다': 992, '슬라이드': 993, '잘나오다': 994, '타임': 995, '묻다': 996, '이상은': 997, '콜라보': 998, '단': 999, '빈칸': 1000, '노': 1001, '갖다': 1002, '분반': 1003, '제때': 1004, '값': 1005, '자유롭다': 1006, '녹음': 1007, '연결': 1008, '심화': 1009, '단순하다': 1010, '젠틀': 1011, '잘못': 1012, '애초': 1013, '숫자': 1014, '공생': 1015, '쓰기': 1016, '영화': 1017, '행렬': 1018, '절': 1019, '피': 1020, '오류': 1021, '설계': 1022, '아무튼': 1023, '프린트': 1024, '훌륭하다': 1025, '수행': 1026, '길다': 1027, '이제': 1028, '가능': 1029, '충실하다': 1030, '이뤄지다': 1031, '걍': 1032, '활동': 1033, '지난': 1034, '기술': 1035, '세부': 1036, '늘': 1037, '유일하다': 1038, '대다': 1039, '내면': 1040, '클루': 1041, '정신': 1042, '다행하다': 1043, '정답': 1044, '일정': 1045, '성격': 1046, '당일': 1047, '막상': 1048, '눈': 1049, '이과': 1050, '행복하다': 1051, '정의': 1052, '해내다': 1053, '바': 1054, '물': 1055, '더욱': 1056, '학부': 1057, '자유': 1058, '방대하다': 1059, '두시': 1060, '궁금하다': 1061, '간': 1062, '적도': 1063, '몇개': 1064, '퀄리티': 1065, '수식': 1066, '익히다': 1067, '땐': 1068, '트': 1069, '말씀드리다': 1070, '답장': 1071, '그치다': 1072, '필요없다': 1073, '지키다': 1074, '미적분': 1075, '치팅시트': 1076, '구체': 1077, '상관': 1078, '뽑다': 1079, '약': 1080, '얕다': 1081, '바쁘다': 1082, '금방': 1083, '는걸': 1084, '강사': 1085, '실강': 1086, '모로': 1087, '학문': 1088, '중요시': 1089, '골': 1090, '분명': 1091, '열의': 1092, '국제': 1093, '추다': 1094, '귀': 1095, '벅차다': 1096, '넘기다': 1097, '졸리다': 1098, '쓰이다': 1099, '량': 1100, '정해진': 1101, '갓': 1102, '인강': 1103, '의문': 1104, '철저하다': 1105, '학번': 1106, '호불호': 1107, '회귀분석': 1108, '붙이다': 1109, '졸업': 1110, '특별하다': 1111, '끝내주다': 1112, '저번': 1113, '게다가': 1114, '지장': 1115, '능력': 1116, '빡센': 1117, '배점': 1118, '복잡하다': 1119, '대단하다': 1120, '시험지': 1121, 'ㅜ': 1122, '상관없다': 1123, '덜': 1124, '반드시': 1125, '아무': 1126, '번만': 1127, '하니': 1128, '요소': 1129, '블보': 1130, '제발': 1131, '보람': 1132, '수리': 1133, '채팅': 1134, '특강': 1135, '답답하다': 1136, '스터디': 1137, '준': 1138, '여러분': 1139, '상대평가': 1140, '강인': 1141, '네트워크': 1142, '익숙해지다': 1143, '기존': 1144, '치': 1145, '관해': 1146, '특정': 1147, '응답': 1148, '보이': 1149, '운': 1150, '부여': 1151, '사진': 1152, '유쾌하다': 1153, '구글링': 1154, '줄이다': 1155, '영건': 1156, '질의': 1157, '똑같이': 1158, '필자': 1159, '접근': 1160, '듭니': 1161, '가지다': 1162, '누구': 1163, '실': 1164, '쭉': 1165, '리딩': 1166, '리뷰': 1167, '월': 1168, '가산': 1169, '조절': 1170, '이중': 1171, '여부': 1172, '혹시': 1173, '독강': 1174, '프로': 1175, '게임': 1176, '예': 1177, '점점': 1178, '어쩔': 1179, '완성': 1180, '상위': 1181, '현장': 1182, '소문': 1183, '일반': 1184, '심다': 1185, '점도': 1186, '맡다': 1187, '유리하다': 1188, '배': 1189, '선형대수': 1190, '테뱅': 1191, '주변': 1192, '틀다': 1193, '말때': 1194, '완전하다': 1195, 'ㅋㅋㅋ': 1196, '역사': 1197, '모호하다': 1198, '어택': 1199, '여러가지': 1200, '순간': 1201, '예습': 1202, '측면': 1203, '배정': 1204, '겁': 1205, '단계': 1206, '확통': 1207, '가량': 1208, '얼굴': 1209, '쯤': 1210, '달라': 1211, '그림': 1212, '인상': 1213, '선': 1214, '페미니즘': 1215, '나오니': 1216, '시각': 1217, '스톤': 1218, '길': 1219, '대형': 1220, '독후감': 1221, '의의': 1222, '노트북': 1223, '거리': 1224, '버겁다': 1225, '강연': 1226, '체감': 1227, '내신': 1228, '접속': 1229, '다기': 1230, '없어지다': 1231, '사이버': 1232, '영어실력': 1233, '고통': 1234, '한국인': 1235, '에쁠': 1236, '정정': 1237, '유의': 1238, '자시다': 1239, '병행': 1240, '헬': 1241, '추하다': 1242, '전형': 1243, '따라오다': 1244, '당하다': 1245, '바람': 1246, '마일': 1247, '누적': 1248, '함수': 1249, '살다': 1250, '특징': 1251, '가치': 1252, '미루다': 1253, '다가': 1254, '달리': 1255, '포인트': 1256, '경제학': 1257, '찌다': 1258, '성빈': 1259, '질': 1260, '구매': 1261, '틀': 1262, '난해하다': 1263, '뭐라다': 1264, '문장': 1265, '개별': 1266, '경제': 1267, '이루다': 1268, '이틀': 1269, '도중': 1270, '전공자': 1271, '젊다': 1272, '빨다': 1273, '불만': 1274, '금요일': 1275, '어떠하다': 1276, '대략': 1277, '세션': 1278, '권장': 1279, '지나다': 1280, '확': 1281, '짚다': 1282, '연관': 1283, '지능': 1284, '섞다': 1285, '합치다': 1286, '배경': 1287, '폭격기': 1288, '일부': 1289, '강추': 1290, '베릴로그': 1291, '편안하다': 1292, '태도': 1293, '정해': 1294, '정시': 1295, '마이크': 1296, '나가시': 1297, '한글': 1298, '동일하다': 1299, '곳': 1300, '보장': 1301, '마무리': 1302, '똑똑하다': 1303, '자율': 1304, '다니다': 1305, '씨': 1306, '발생': 1307, '뿌리다': 1308, '그건': 1309, '파생': 1310, '아무리': 1311, '실시': 1312, '주제가': 1313, '이내': 1314, '조금씩': 1315, '개꿀': 1316, '어디': 1317, '의외로': 1318, '무리다': 1319, '신분': 1320, '모델': 1321, '당신': 1322, '내기': 1323, '인공': 1324, '내야': 1325, '평범하다': 1326, '탐구': 1327, '꼬박꼬박': 1328, '남': 1329, '벗어나다': 1330, '글쓰기': 1331, '전선': 1332, '난': 1333, '최소': 1334, '조정': 1335, '자동': 1336, '불가능하다': 1337, '마찬가지': 1338, '번인': 1339, '아쉬움': 1340, '확률론': 1341, '쪽지': 1342, '존재': 1343, '득점': 1344, '보아': 1345, '려고': 1346, '각자': 1347, '또는': 1348, '정좌': 1349, '정해지다': 1350, '작년': 1351, '만하': 1352, '현대': 1353, '최대': 1354, '두번째': 1355, '줍다': 1356, '단순': 1357, '이러하다': 1358, '허다': 1359, '잡히다': 1360, '예전': 1361, '잡고': 1362, '션': 1363, '낼': 1364, '예정': 1365, '탓': 1366, '지나가다': 1367, '때리다': 1368, '안보': 1369, '의지': 1370, 'ㅎㅎㅎ': 1371, '분명하다': 1372, '문화': 1373, '소감': 1374, '논평': 1375, '여': 1376, '상세': 1377, '순': 1378, '경향': 1379, '성공하다': 1380, '죽다': 1381, '많아지다': 1382, '요하': 1383, '진입': 1384, '재무제표': 1385, '빨': 1386, '아직': 1387, '무언가': 1388, '엄격하다': 1389, '적어도': 1390, '로서': 1391, '별도': 1392, '주마': 1393, '사이': 1394, '빡빡': 1395, '정말로': 1396, '누가': 1397, '중회': 1398, '구해': 1399, '무척': 1400, '시청': 1401, '중요': 1402, '회독': 1403, '적응': 1404, '이해해': 1405, '베다': 1406, '알아보다': 1407, '실무': 1408, '담다': 1409, '쉬움': 1410, '스타트업': 1411, '걸치다': 1412, 'ㅋㅋㅋㅋ': 1413, '목표': 1414, '내외': 1415, '무방': 1416, '적히다': 1417, '혼란': 1418, '동시': 1419, '막막하다': 1420, '사서': 1421, '킹': 1422, '차라리': 1423, '몇몇': 1424, '감상문': 1425, '아시': 1426, '차례': 1427, '아프다': 1428, '부터': 1429, '언제': 1430, '션스': 1431, '성의': 1432, '선수': 1433, '검색': 1434, '경통': 1435, '표절': 1436, '뚫다': 1437, '최신': 1438, '현상': 1439, '섞이다': 1440, '촉박하다': 1441, '삶': 1442, '효율': 1443, '뜻': 1444, '문의': 1445, '토대': 1446, '아깝다': 1447, '배속': 1448, '아직도': 1449, '기타': 1450, '남기다': 1451, '제량': 1452, '클래스': 1453, '이하': 1454, '지도': 1455, '변형': 1456, '국경': 1457, '체적': 1458, '그래프': 1459, '낫다': 1460, '플립': 1461, '열다': 1462, '아침': 1463, '쌓다': 1464, '만족': 1465, '통신': 1466, '온': 1467, '댓글': 1468, '꽉꽉': 1469, '돈': 1470, '맨날': 1471, '여쭈다': 1472, '아이디어': 1473, '수정': 1474, '조르다': 1475, '지원': 1476, '류': 1477, '매끄럽다': 1478, '기르다': 1479, '당': 1480, '죄송하다': 1481, '관계': 1482, '어마어마하다': 1483, '카메라': 1484, '합': 1485, '도와주다': 1486, '통한': 1487, '채': 1488, '중국인': 1489, '캠': 1490, '중점': 1491, '비즈니스': 1492, '황준호': 1493, '회사': 1494, '쏟다': 1495, '코': 1496, '출결': 1497, '전환': 1498, '각오': 1499, '가능성': 1500, '실패하다': 1501, '중시': 1502, '셔': 1503, '치면': 1504, '답지': 1505, '표현': 1506, '하자': 1507, '쏙쏙': 1508, '겪다': 1509, '겨우': 1510, '월요일': 1511, '커리큘럼': 1512, '에타': 1513, '티': 1514, '휴강': 1515, '너무나도': 1516, '토크': 1517, '한장': 1518, '힘': 1519, '배우': 1520, '중반': 1521, '조직행동론': 1522, '목적': 1523, '평쁠': 1524, '술': 1525, '널': 1526, '널다': 1527, '테': 1528, '이끌다': 1529, '즉': 1530, '환경': 1531, '희다': 1532, '만족도': 1533, '조심하다': 1534, '인터뷰': 1535, '너무나': 1536, '모': 1537, '무': 1538, '꾸다': 1539, '아래': 1540, '박': 1541, '간다': 1542, '퍼': 1543, '널널': 1544, '극악': 1545, '윤리': 1546, '서로': 1547, '행': 1548, '선배': 1549, '안다': 1550, '올라가다': 1551, '기능': 1552, '복': 1553, '동기': 1554, '주차': 1555, '괜히': 1556, '스': 1557, '취소': 1558, '버스': 1559, '공유': 1560, '현실': 1561, '타다': 1562, '화이팅': 1563, '흑': 1564, '덜하다': 1565, '판단': 1566, '감동': 1567, '기법': 1568, '해드리다': 1569, '봄': 1570, '밀리다': 1571, '지적': 1572, '푸시': 1573, '주일': 1574, '주지': 1575, '끼다': 1576, '합리': 1577, '공학': 1578, '회로': 1579, '가정': 1580, '수록': 1581, '붙다': 1582, '힐링': 1583, '사태': 1584, '철학': 1585, '최선': 1586, '말아먹다': 1587, '유도': 1588, '뿌듯하다': 1589, '옮기다': 1590, '그룹': 1591, '짜증나다': 1592, '뻔하다': 1593, '선호': 1594, '유용하다': 1595, '이자': 1596, '막히다': 1597, '세우다': 1598, '소프트웨어': 1599, '바라보다': 1600, '자': 1601, '의도': 1602, '산업': 1603, '달라지다': 1604, '집': 1605, '마인드': 1606, '집다': 1607, '비판': 1608, '선생님': 1609, '해봤다': 1610, '슬프다': 1611, '농담': 1612, '나뉘다': 1613, '원서': 1614, '적응하다': 1615, '급하다': 1616, '항목': 1617, '얼마': 1618, '안나': 1619, '내려가다': 1620, '무섭다': 1621, '위로': 1622, '짓': 1623, '하나로': 1624, '번역': 1625, '흠': 1626, '애정': 1627, '결과물': 1628, '불리다': 1629, '칠판': 1630, '멘붕': 1631, '깔다': 1632, '소화': 1633, '교환학생': 1634, '새내기': 1635, '여유': 1636, '소논문': 1637, '보충': 1638, '커서': 1639, '패논패': 1640, '변경': 1641, '김재영': 1642, '재미없다': 1643, '행동': 1644, '무시': 1645, '난도': 1646, '도대체': 1647, '어쨌든': 1648, '악명': 1649, '꽉': 1650, '구글': 1651, '내지': 1652, '까먹다': 1653, '매다': 1654, '산출': 1655, '운영': 1656, '여기다': 1657, '검정': 1658, '마원': 1659, '인간': 1660, '복지': 1661, '실망': 1662, '정석': 1663, '보라': 1664, '활발하다': 1665, '고통스럽다': 1666, '마치': 1667, '정성': 1668, '플러스': 1669, '암튼': 1670, '사라지다': 1671, '조건': 1672, '다운': 1673, '기다리다': 1674, '뱅크': 1675, '회의': 1676, '고대': 1677, '제작': 1678, '패스': 1679, '기사': 1680, '사소하다': 1681, '튀다': 1682, '여서': 1683, '올해': 1684, '상상': 1685, '개설': 1686, '마냥': 1687, 'ㅠㅠㅠㅠ': 1688, '조언': 1689, '가이드라인': 1690, '비록': 1691, '드': 1692, '만들기': 1693, '면서': 1694, '아무렇다': 1695, '유': 1696, '이산수학': 1697, '전제': 1698, '찬': 1699, '초점': 1700, '코멘트': 1701, '반응': 1702, '마치다': 1703, '년도': 1704, '진로': 1705, '자꾸': 1706, '시행': 1707, '만회': 1708, '감사': 1709, '프리': 1710, '글씨': 1711, '희망': 1712, '졸다': 1713, '없애다': 1714, '뉴스': 1715, '창의': 1716, '부로': 1717, '떠나다': 1718, '유관희': 1719, '한편': 1720, '상담': 1721, '효과': 1722, '배움': 1723, '안주시': 1724, '빡': 1725, '맘': 1726, 'ㄹㅇ': 1727, '노동': 1728, '창': 1729, '말투': 1730, '짱': 1731, '생물': 1732, '걸다': 1733, '풀리다': 1734, '사이트': 1735, '충격': 1736, '수시로': 1737, '특유': 1738, '사업': 1739, '움': 1740, '투표': 1741, '계': 1742, '이어지다': 1743, '아들': 1744, '사전': 1745, '탄탄하다': 1746, '사고': 1747, '약하다': 1748, '순서': 1749, '바로바로': 1750, '선물옵션': 1751, '씩': 1752, '막판': 1753, '생략': 1754, '가져오다': 1755, '도르다': 1756, '그날': 1757, '괴롭다': 1758, '플하': 1759, '수요일': 1760, '팁': 1761, '안타깝다': 1762, '생활': 1763, '자르다': 1764, '정작': 1765, '컴구': 1766, '토의': 1767, '의식': 1768, '관리회계': 1769, '보드': 1770, '래서': 1771, '살': 1772, '매시간': 1773, '반대': 1774, '텍스트': 1775, '도전': 1776, '밀리': 1777, '다섯': 1778, '기량': 1779, '가시': 1780, '날짜': 1781, '잡': 1782, '동료평가': 1783, '라서': 1784, '데이터베이스': 1785, '빵': 1786, '문법': 1787, '따뜻하다': 1788, '더불다': 1789, '호명': 1790, '이어도': 1791, '역할': 1792, '지나치다': 1793, '분만': 1794, '버티다': 1795, '범': 1796, '어디서': 1797, '외부': 1798, '잦다': 1799, '개선': 1800, '한국말': 1801, '칠': 1802, '발전': 1803, '설문조사': 1804, '하버드': 1805, '신기하다': 1806, '급': 1807, '면담': 1808, '성취도': 1809, '경전': 1810, '가도': 1811, '음악': 1812, '잠깐': 1813, '당시': 1814, '가시다': 1815, '번거롭다': 1816, '녹': 1817, '횟수': 1818, '허지원': 1819, '방': 1820, '잇다': 1821, '홈': 1822, '사정': 1823, '능숙하다': 1824, '오타': 1825, '실행': 1826, '개괄': 1827, '재': 1828, '갖추다': 1829, '퍼센트': 1830, '푼': 1831, '듯이': 1832, '원': 1833, '새다': 1834, '성태': 1835, '곤': 1836, '닿다': 1837, '그러면': 1838, '받아들이다': 1839, '최적화': 1840, '잡기': 1841, '은행': 1842, '인자하다': 1843, '란': 1844, '링크': 1845, '채권': 1846, '갈릴': 1847, '테이크': 1848, '설정': 1849, '가르다': 1850, '타격': 1851, '연강': 1852, '방법론': 1853, '추상': 1854, '더하다': 1855, '죽': 1856, '빡셉니': 1857, '유예': 1858, '상식': 1859, '마감': 1860, '발언': 1861, '해설': 1862, '크기': 1863, '화면': 1864, '홍': 1865, '정책': 1866, '살펴보다': 1867, '여전하다': 1868, '락다운': 1869, '간혹': 1870, '가까이': 1871, '양식': 1872, '현재': 1873, '거시경제': 1874, '발견': 1875, '뻔': 1876, '수신': 1877, '오지': 1878, '업': 1879, '함정': 1880, '가야': 1881, '밤': 1882, '기억나다': 1883, '중생': 1884, '맥락': 1885, '강도': 1886, '직관': 1887, '싹': 1888, '베버': 1889, '그동안': 1890, '리': 1891, '덧붙이다': 1892, '북한': 1893, '웃다': 1894, '유머': 1895, '베': 1896, '겉': 1897, '여가': 1898, '부정행위': 1899, '신': 1900, '시라': 1901, '성향': 1902, '다해': 1903, '종합': 1904, '대학원': 1905, '겁나다': 1906, '일방': 1907, '이나': 1908, '찬욱': 1909, '대상': 1910, '탈': 1911, '볼때': 1912, '제안': 1913, '커널': 1914, '밉다': 1915, '반면': 1916, '유니티': 1917, '찾아가다': 1918, '발달': 1919, '송성': 1920, '인사이트': 1921, '머릿속': 1922, '밑': 1923, '뿐이다': 1924, '지옥': 1925, '자랑': 1926, '대표': 1927, '공대생': 1928, '대의': 1929, '범주': 1930, '고려대학교': 1931, '찾기': 1932, '마다': 1933, '매력': 1934, '미국': 1935, '설문': 1936, '맨': 1937, '절대로': 1938, '소요': 1939, '디테일': 1940, '등록금': 1941, '며칠': 1942, '명쾌하다': 1943, '회문': 1944, '흐르다': 1945, '최근': 1946, '존중': 1947, '젠': 1948, '높아지다': 1949, '조가': 1950, '출신': 1951, '맛': 1952, '정규': 1953, '다그': 1954, '첨': 1955, '률': 1956, '각종': 1957, '개정': 1958, '노가다': 1959, '셤': 1960, '날로': 1961, '한계': 1962, '써주다': 1963, '휴': 1964, '회계사': 1965, '제라': 1966, '줄어들다': 1967, '평인': 1968, '실용': 1969, '적합하다': 1970, '잼관': 1971, '변동': 1972, '주요': 1973, '잡아먹다': 1974, '불친절하다': 1975, '스크랩': 1976, '왠만하다': 1977, '하진': 1978, '짤': 1979, '만해': 1980, '잊다': 1981, '등장': 1982, '오로지': 1983, '다시다': 1984, '오신': 1985, '명성': 1986, '실질': 1987, '따라잡다': 1988, '대하': 1989, '겠다': 1990, '역대': 1991, '구사': 1992, '도출': 1993, '압박': 1994, '호정': 1995, '줄기': 1996, '포인터': 1997, '하므다': 1998, '긴장': 1999, '간의': 2000, '기적': 2001, '관대하다': 2002, '개발': 2003, '높이다': 2004, '다가오다': 2005, '통수': 2006, '주가': 2007, '신선하다': 2008, '진': 2009, '이론가': 2010, '수렴': 2011, '옆': 2012, '작용': 2013, '반타작': 2014, '고려대': 2015, '포': 2016, '결코': 2017, '만만하다': 2018, '특이하다': 2019, '일일이': 2020, '차분하다': 2021, '팀별': 2022, '편차': 2023, '수업량': 2024, '하하': 2025, '처': 2026, '어마': 2027, '틀어주다': 2028, '나긋나긋하다': 2029, '압도': 2030, '신지': 2031, '백승준': 2032, '즈음': 2033, '공책': 2034, '유혁': 2035, '건가': 2036, '중전': 2037, '감각': 2038, '전산': 2039, '셋': 2040, '입학': 2041, '금융': 2042, '돌아보다': 2043, '변수': 2044, '오시': 2045, '모으다': 2046, '선행': 2047, '시진': 2048, '시간대': 2049, '임의': 2050, '중국': 2051, '김': 2052, '빨르다': 2053, '겨': 2054, '인물': 2055, '대학교': 2056, '대다수': 2057, '교육': 2058, '소비자': 2059, '회귀': 2060, '낯설다': 2061, '전면': 2062, '마련': 2063, '다수': 2064, '눈물': 2065, '덕': 2066, '소': 2067, '컴프': 2068, '유지연': 2069, '김효': 2070, '노래': 2071, '몸': 2072, '씨파': 2073, '힌트': 2074, '뚜렷하다': 2075, '멀다': 2076, '방심하다': 2077, '고급': 2078, '초청': 2079, '원활하다': 2080, '화질': 2081, '실망하다': 2082, '톤': 2083, '불안하다': 2084, '평타': 2085, '달리다': 2086, '박경삼': 2087, '헤매다': 2088, '뵈다': 2089, '빼먹다': 2090, '멘탈': 2091, '계층': 2092, '본격': 2093, '간기': 2094, '전범': 2095, '국': 2096, '손범진': 2097, '세상': 2098, '잠': 2099, '글자': 2100, '안함': 2101, '열': 2102, '시도': 2103, '아아': 2104, '지르다': 2105, '흘리다': 2106, '식다': 2107, '리눅스': 2108, '쌓이다': 2109, '기울이다': 2110, '메모': 2111, '이해만': 2112, '터지다': 2113, '솔루션': 2114, '디스': 2115, '부가': 2116, '차원': 2117, '강의식': 2118, '내리다': 2119, '치뤄지다': 2120, '중구': 2121, '자연': 2122, '단위': 2123, '원칙': 2124, '띄우다': 2125, '인품': 2126, '마음대로': 2127, '번호': 2128, '앞서': 2129, '옵션': 2130, '발': 2131, '핥다': 2132, '끊다': 2133, '웬만큼': 2134, '강일': 2135, '통틀어': 2136, '노리다': 2137, '생각나다': 2138, '인턴': 2139, '버전': 2140, '권하다': 2141, '남경': 2142, '무려': 2143, '영경': 2144, '두루': 2145, '뒤지다': 2146, '길이': 2147, '실라': 2148, '미니': 2149, '선형대수학': 2150, '가세': 2151, '협상': 2152, '디테': 2153, '런가': 2154, '빡치다': 2155, 'ㅋㅋㅋㅋㅋ': 2156, '라이더': 2157, '세계': 2158, '가기': 2159, '겸': 2160, '생으로': 2161, '분산': 2162, '메리트': 2163, '작동': 2164, '발제': 2165, '금': 2166, '조장': 2167, '이향아': 2168, '참석': 2169, '수용': 2170, 'ㅇ': 2171, '정치': 2172, '추정': 2173, '우석': 2174, '무작위': 2175, '치기': 2176, '가독성': 2177, '늘어나다': 2178, '요구사항': 2179, '탑': 2180, '수만': 2181, '날리다': 2182, '주장': 2183, '이도': 2184, '짝': 2185, '사담': 2186, '뵙다': 2187, '경사': 2188, '화나다': 2189, '꼴': 2190, '큐': 2191, '널리': 2192, '파이널': 2193, '명의': 2194, '예측': 2195, '한마디': 2196, '비유': 2197, '최': 2198, '통과': 2199, '용지': 2200, '친': 2201, '포괄': 2202, '지목': 2203, '불이익': 2204, '천하다': 2205, '안내': 2206, '적분': 2207, '등수': 2208, '처럼': 2209, '도로': 2210, '덜다': 2211, '헬강': 2212, '착실하다': 2213, '방지': 2214, '화하다': 2215, '늘리다': 2216, '정독': 2217, '디': 2218, '직후': 2219, '분도': 2220, '재수': 2221, '할애': 2222, '키우다': 2223, '어간': 2224, '단지': 2225, '담당': 2226, '박히다': 2227, '유원상': 2228, '원어민': 2229, '택': 2230, '보신': 2231, '인지심리학': 2232, '진심': 2233, '무관': 2234, '리스트': 2235, '이세': 2236, '마': 2237, '쓴다': 2238, '종교': 2239, '욕': 2240, '변환': 2241, '전문가': 2242, '꼬아': 2243, '자연어': 2244, '알려지다': 2245, '빈곤': 2246, '가족': 2247, '관건': 2248, '처참하다': 2249, '번갈아': 2250, '떄문': 2251, '은퇴': 2252, '체': 2253, '제목': 2254, '문제점': 2255, '멋있다': 2256, '즐기다': 2257, '학주': 2258, '좌우': 2259, '끊기다': 2260, '천사이십': 2261, '잡담': 2262, '감상': 2263, '이만': 2264, '보이지': 2265, '친근하다': 2266, '두껍다': 2267, '패키지': 2268, '새': 2269, '성실': 2270, '이심': 2271, '깨닫다': 2272, '나아가다': 2273, '일어나다': 2274, '교': 2275, '다중': 2276, '놀다': 2277, '거두다': 2278, '납득': 2279, '시간표': 2280, '계산이론': 2281, '입력': 2282, '일도': 2283, '빌리다': 2284, '첫날': 2285, '피하': 2286, '성과': 2287, '변화': 2288, '별거': 2289, '나르다': 2290, '기업가': 2291, '한정': 2292, '날다': 2293, '최소한': 2294, '울다': 2295, '으': 2296, '곧': 2297, '신호': 2298, '일이': 2299, '가득하다': 2300, '여유롭다': 2301, '아웃': 2302, '인기': 2303, '자바': 2304, '정윤서': 2305, '욕심': 2306, '외로': 2307, '가설': 2308, '영역': 2309, '향상': 2310, '정재웅': 2311, '심해지다': 2312, '잃다': 2313, '깜짝': 2314, '진지하다': 2315, '이득': 2316, '생도': 2317, '웃기다': 2318, '조로': 2319, '갠': 2320, '상상력': 2321, '건강': 2322, '약속': 2323, '흘러가다': 2324, '감당': 2325, '시대': 2326, '낮추다': 2327, '쏘다': 2328, '운동': 2329, '낮': 2330, '종류': 2331, '요즘': 2332, '의하다': 2333, '일절': 2334, '판': 2335, '뒤르켐': 2336, '강력': 2337, '브라우저': 2338, '피해': 2339, '분동': 2340, '거지': 2341, '전개': 2342, '썩': 2343, '투입': 2344, '이미지': 2345, '대강': 2346, '제도': 2347, '허명회': 2348, '김순': 2349, '유투브': 2350, '강력하다': 2351, '앵': 2352, '한해': 2353, '성의껏': 2354, '지혜': 2355, '스토리텔링': 2356, '떠오르다': 2357, '저녁': 2358, '여태': 2359, '편임': 2360, '용이하다': 2361, '사람과': 2362, '연지': 2363, '사시': 2364, '이재원': 2365, '남아': 2366, '차갑다': 2367, '맛보다': 2368, '랄': 2369, '사주다': 2370, '쉬는시간': 2371, 'ㅏ': 2372, '쿨하다': 2373, '진출': 2374, '나니': 2375, '중도': 2376, '다다': 2377, '멋지다': 2378, '도망치다': 2379, '대화': 2380, '고요': 2381, '보임': 2382, '언제나': 2383, '분산분석': 2384, '좀더': 2385, '흔하다': 2386, '요인': 2387, '도도': 2388, '불시': 2389, '털리다': 2390, '유용근': 2391, '작업': 2392, '어찌어찌': 2393, '붙잡다': 2394, '참신하다': 2395, '마르크스': 2396, '상의': 2397, '메인': 2398, '성우': 2399, '음성': 2400, '난방': 2401, '감탄': 2402, '신승준': 2403, '저서': 2404, '형성': 2405, '계시': 2406, '고딩': 2407, '팝': 2408, '수학과': 2409, '번하다': 2410, '크리티컬': 2411, '진짜진짜': 2412, '산업혁명': 2413, '밤새다': 2414, '불': 2415, '전무하다': 2416, '실생활': 2417, '논의': 2418, '뛰다': 2419, '므': 2420, '저리': 2421, '드러나다': 2422, '편도': 2423, '어찌': 2424, '논설': 2425, '요기': 2426, '학업': 2427, '극복': 2428, '이분': 2429, '치명': 2430, '앞뒤': 2431, '꼭꼭': 2432, '박다': 2433, '전주': 2434, '파다': 2435, '풍부하다': 2436, '구자용': 2437, '자원': 2438, '책보': 2439, '최우석': 2440, '거치다': 2441, '지우다': 2442, '초과': 2443, '방안': 2444, '몹시': 2445, '큰일': 2446, '여우': 2447, '비례': 2448, '융통성': 2449, 'ㅎㅎㅎㅎ': 2450, '째다': 2451, '간략하다': 2452, '깨': 2453, '의심': 2454, '비제': 2455, '부족': 2456, '소수': 2457, '화가': 2458, '인사': 2459, '지인': 2460, '이구': 2461, '옛날': 2462, '지치다': 2463, '일일': 2464, '해외': 2465, '정상': 2466, '습득': 2467, '조합': 2468, '공': 2469, '인풋': 2470, '하기는': 2471, '다지다': 2472, '프로토콜': 2473, '공선택': 2474, '변량': 2475, '강석': 2476, '게시': 2477, '굵직하다': 2478, '확고하다': 2479, '벡터': 2480, '꾸리다': 2481, '용법': 2482, '쉬': 2483, '폭': 2484, '차이다': 2485, '구입': 2486, '범죄': 2487, '모형': 2488, '스킵': 2489, '만들어지다': 2490, '커트라인': 2491, '와중': 2492, '에프': 2493, '통찰': 2494, '원가': 2495, '오프': 2496, '이정': 2497, '짜지다': 2498, '상냥하다': 2499, '인용': 2500, '강제': 2501, '응시': 2502, '선지': 2503, '여지': 2504, '꼰': 2505, '너그럽다': 2506, '보완': 2507, '요령': 2508, '주간': 2509, '맛보기': 2510, '분개': 2511, '포절': 2512, '뿌리': 2513, '기획': 2514, '주말': 2515, '전원': 2516, '스켈레톤': 2517, '공통': 2518, '계열': 2519, '신입생': 2520, '모자라다': 2521, '과거': 2522, '익숙': 2523, '주기': 2524, '클라우드': 2525, '외국': 2526, '간간히': 2527, '박사': 2528, '예고': 2529, '소문나다': 2530, '아이템': 2531, '정연': 2532, '년대': 2533, '꾸역꾸역': 2534, '쇼': 2535, '물리': 2536, '타입': 2537, '츤데레': 2538, '연구실': 2539, '존경': 2540, '한가지': 2541, '보강': 2542, '아주아주': 2543, '학회': 2544, '근거': 2545, '살아가다': 2546, '율': 2547, '떄': 2548, '멍': 2549, '합격': 2550, '영혼': 2551, '돌이키다': 2552, '틈틈이': 2553, '시절': 2554, '영광': 2555, '인문학': 2556, '의욕': 2557, '부실하다': 2558, '시장': 2559, '땜': 2560, '통일': 2561, '유머러스하다': 2562, '쫌': 2563, '피셜': 2564, '쓸데없다': 2565, '여름': 2566, '섭': 2567, '본도': 2568, '물다': 2569, '요전': 2570, '바르다': 2571, '하위': 2572, '어지간하다': 2573, '트리': 2574, '척': 2575, '정직하다': 2576, '비슷': 2577, '질적': 2578, '쉅': 2579, '시뮬레이션': 2580, '엑스트라': 2581, '크레딧': 2582, '상호': 2583, '사지': 2584, '행복': 2585, '오늘': 2586, '말기': 2587, '랩': 2588, '검토': 2589, '상평': 2590, '표시': 2591, '초심자': 2592, '영': 2593, '저학년': 2594, '고학년': 2595, '취향': 2596, '짜이다': 2597, '곤란하다': 2598, '입': 2599, '집단': 2600, '넘어서다': 2601, '루즈': 2602, '중후': 2603, '생물심리학': 2604, '핵': 2605, '변하다': 2606, '견디다': 2607, '역량': 2608, '테이': 2609, '무작정': 2610, '옳다': 2611, '허허': 2612, '개그': 2613, '논란': 2614, '측정': 2615, '이명진': 2616, '참다': 2617, '통째': 2618, '나은': 2619, '적기': 2620, '복수': 2621, '겨울': 2622, '깨다': 2623, '웅기': 2624, '오후': 2625, '기합': 2626, '권위': 2627, '프로세스': 2628, '동작': 2629, '컴과': 2630, '두서': 2631, '구민': 2632, 'ㅠㅠㅠㅠㅠ': 2633, '융': 2634, '어서': 2635, '수능': 2636, '눈치': 2637, '리기': 2638, '정원': 2639, '출중하다': 2640, '충족': 2641, '연속': 2642, '계기': 2643, '남지': 2644, '컨닝': 2645, '장안': 2646, '캐리': 2647, '사과': 2648, '전문': 2649, '꼽': 2650, '엥': 2651, '지피다': 2652, '돌아오다': 2653, '디자인': 2654, '재능': 2655, '기계': 2656, '조직': 2657, '폭탄': 2658, '가성': 2659, '바보': 2660, '소린': 2661, '합산': 2662, '설치': 2663, '고수': 2664, '대가': 2665, '서적': 2666, '일부러': 2667, '원인': 2668, '이어서': 2669, '이주': 2670, '드랍': 2671, '융합': 2672, '샘플': 2673, '노년': 2674, '상치': 2675, '후기': 2676, '머': 2677, '갈아': 2678, '눈높이': 2679, '라이브': 2680, '장선': 2681, '링': 2682, '억울하다': 2683, '부지런하다': 2684, '순위': 2685, '중복': 2686, '씹다': 2687, '자본주의': 2688, '프레': 2689, '엮어': 2690, '미끄러지다': 2691, '꽃': 2692, '설렁설렁': 2693, '유지': 2694, '딱딱하다': 2695, '전자': 2696, '미적': 2697, '로움': 2698, '간결하다': 2699, '수많다': 2700, '요점': 2701, '몰리다': 2702, 'ㄱ': 2703, '이수': 2704, '딸': 2705, '국가': 2706, '등급': 2707, '아두이노': 2708, '리더십': 2709, '햇': 2710, '최태련': 2711, '공정하다': 2712, '비롯': 2713, '너': 2714, '대회': 2715, '찾아내다': 2716, '명시': 2717, '혹': 2718, '별다르다': 2719, 'ㅠㅜ': 2720, '재난': 2721, '순영': 2722, '체험': 2723, '고전': 2724, '졸리': 2725, '오직': 2726, '장난': 2727, '긍정': 2728, '배분': 2729, '제이': 2730, '도망가다': 2731, '덥다': 2732, '러신': 2733, '담': 2734, '일치': 2735, '속상하다': 2736, '조방': 2737, '목요일': 2738, '의존': 2739, '만원': 2740, '메모리': 2741, '수치': 2742, '주연': 2743, '말팀': 2744, '내년': 2745, '진정하다': 2746, '생기': 2747, '떠올리다': 2748, '방학': 2749, '월수': 2750, '만요': 2751, '핀트': 2752, '백지': 2753, '왜냐하면': 2754, '호': 2755, '김상용': 2756, '조곤조곤': 2757, '격주': 2758, '어요': 2759, '도저히': 2760, '이서': 2761, '짓다': 2762, '영문': 2763, '녹이다': 2764, '먹기': 2765, '골고루': 2766, '장벽': 2767, '후자': 2768, '웹': 2769, '날카롭다': 2770, '양심': 2771, '안정': 2772, '항': 2773, '피곤하다': 2774, '단연': 2775, '씨쁠': 2776, '구성은': 2777, '우리나라': 2778, '시연': 2779, '특수하다': 2780, '정민': 2781, '한지': 2782, '디지털': 2783, '성심': 2784, '낮아지다': 2785, '두렵다': 2786, '급격하다': 2787, '미래': 2788, '컴파일러': 2789, '미시': 2790, '치가': 2791, '잘해야': 2792, '소셜': 2793, '천': 2794, '사': 2795, '오목': 2796, '쁠몰': 2797, '독특하다': 2798, '정량': 2799, '따름': 2800, '읍니': 2801, '홈페이지': 2802, '확장': 2803, '부정': 2804, '의범': 2805, '모름': 2806, '의사소통': 2807, '인성': 2808, '더럽다': 2809, '현승': 2810, '인문': 2811, '생애': 2812, '김수한': 2813, '촬영': 2814, '거만': 2815, '고집': 2816, '배치': 2817, '환산': 2818, '전후': 2819, '뿐더러': 2820, '자신감': 2821, '끊임없다': 2822, '명료하다': 2823, '시즌': 2824, '꿀빨': 2825, '확신': 2826, '기여': 2827, '구분': 2828, '유통': 2829, '아이패드': 2830, '출력': 2831, '스캔': 2832, '양면': 2833, '휴학': 2834, '오르다': 2835, '담기다': 2836, '임상심리학': 2837, '끼치다': 2838, '엔젤': 2839, '친하다': 2840, '일전': 2841, '파이팅': 2842, '세준': 2843, '기대다': 2844, '주입': 2845, '짱짱': 2846, '미안하다': 2847, '시지': 2848, '연산': 2849, '의무': 2850, '개수': 2851, '어쩌': 2852, '다다르다': 2853, '틀어놓다': 2854, '대박': 2855, '도서': 2856, '재고': 2857, '본질': 2858, '추측': 2859, '한참': 2860, '아끼다': 2861, '평균점': 2862, '내심': 2863, '점검': 2864, '락': 2865, '카톡': 2866, '록': 2867, '파이프라인': 2868, '미팅': 2869, '시너지': 2870, '갈리': 2871, '자세': 2872, '여타': 2873, '툴': 2874, '복불복': 2875, '딕션': 2876, '모델링': 2877, '독': 2878, '화이트보드': 2879, '모수': 2880, '명령어': 2881, '엄밀하다': 2882, '불쌍하다': 2883, '본적': 2884, '통합': 2885, '홀수': 2886, '폭격': 2887, '개강': 2888, '교직': 2889, '안이': 2890, '칭찬': 2891, '대출': 2892, '소소하다': 2893, '체인': 2894, '임베디드': 2895, '답사': 2896, '정돈': 2897, '인식': 2898, '김채연': 2899, '표준편차': 2900, '대학생': 2901, '매트랩': 2902, '로그': 2903, '연사': 2904, '나라': 2905, '구르다': 2906, '명정': 2907, '고치다': 2908, '차별': 2909, '찬양': 2910, '업무': 2911, '매년': 2912, '경쟁': 2913, '군더더기': 2914, '세트': 2915, '에러': 2916, '바닥': 2917, '적진': 2918, '공시': 2919, '드릴': 2920, '오전': 2921, '구상': 2922, '시점': 2923, '선형': 2924, '이공': 2925, '이보': 2926, '욥': 2927, '후회되다': 2928, '어울리다': 2929, '껏': 2930, '쓰리다': 2931, 'ㄴ': 2932, '어어': 2933, '난감하다': 2934, '비우다': 2935, '식단': 2936, '고등학생': 2937, '영향력': 2938, '베이': 2939, '왠지': 2940, '강인원': 2941, '성격심리학': 2942, '버프': 2943, '이즈': 2944, '기재': 2945, '형': 2946, '모범': 2947, '꼬이다': 2948, '서태원': 2949, '특수': 2950, '폭넓다': 2951, '캡쳐': 2952, '천차만별': 2953, '듯함': 2954, '좋아지다': 2955, 'ㄱㅊ': 2956, '탐색': 2957, '미숙': 2958, '나타나다': 2959, '풋': 2960, 'ㅜㅜㅜ': 2961, '포트폴리오': 2962, '오기': 2963, '날아가다': 2964, '돌이': 2965, '복지국가': 2966, '의사결정': 2967, '딸리다': 2968, '선대': 2969, '쓰레기': 2970, '풀라': 2971, '화법': 2972, '넓히다': 2973, '불호': 2974, '외치다': 2975, '좌절': 2976, '주식': 2977, '깨달': 2978, '빽빽하다': 2979, '상당': 2980, '개꿀강': 2981, '것임': 2982, '끝판': 2983, '쓱': 2984, '추후': 2985, '쓸모': 2986, '불분명': 2987, '암호': 2988, '신건': 2989, '굿': 2990, '취득': 2991, '커뮤니케이션': 2992, '끼': 2993, '지정석': 2994, '따지다': 2995, '확보': 2996, '삐끗': 2997, 'ㅋ': 2998, '연락': 2999, '앞쪽': 3000, '간단': 3001, '책임': 3002, '매기': 3003, '정신건강': 3004, '초기': 3005, '실전': 3006, '낭패': 3007, '확정': 3008, '그중': 3009, '플젝': 3010, '부다': 3011, '위치': 3012, '리지': 3013, '줄줄': 3014, '편성': 3015, '고등': 3016, '유독': 3017, '풀때': 3018, '마디': 3019, '검증': 3020, '가이드': 3021, '망치': 3022, '미만': 3023, '아름답다': 3024, '제기': 3025, '추구': 3026, '미디언': 3027, '어쩌다': 3028, '수통': 3029, '교훈': 3030, '쌤': 3031, '애매모호하다': 3032, '선물': 3033, '중상': 3034, '짐': 3035, '드물다': 3036, '티비': 3037, '요청': 3038, '준수': 3039, '레벨': 3040, '센스': 3041, '성공': 3042, '표정': 3043, '제법': 3044, '쫓기다': 3045, '메': 3046, '남기춘': 3047, '건드리다': 3048, '다치다': 3049, '방문': 3050, '억지로': 3051, '저렇게': 3052, '버거운': 3053, '전이': 3054, '창의성': 3055, '외적': 3056, '발휘': 3057, '차로': 3058, '놀랍다': 3059, '과외': 3060, '고정': 3061, '폭풍': 3062, '평점': 3063, '정각': 3064, '초대': 3065, '밖': 3066, '굳다': 3067, '이겠다': 3068, '화': 3069, '브랜드': 3070, '블록': 3071, '세무': 3072, '거부': 3073, '자도': 3074, '졸지': 3075, '뜬구름': 3076, '분과': 3077, '밝히다': 3078, '깨달음': 3079, '어셈블리': 3080, '압축': 3081, '선다형': 3082, '분배': 3083, '드네': 3084, '삭제': 3085, '컨텐츠': 3086, '직업': 3087, '대본': 3088, '누르다': 3089, '전적': 3090, '소스': 3091, '두려움': 3092, '최준식': 3093, '튜토리얼': 3094, '스택': 3095, '개요': 3096, '거대하다': 3097, '조용하다': 3098, '최상범': 3099, '험담': 3100, '모양': 3101, '커피': 3102, '역': 3103, '돌다': 3104, '다음주': 3105, '여럿': 3106, '다녀오다': 3107, '빼곡': 3108, '초보자': 3109, '허락': 3110, '근처': 3111, '노베': 3112, '무사하다': 3113, '인정이': 3114, '상승': 3115, '게시판': 3116, '그래픽스': 3117, '대놓고': 3118, '소홀하다': 3119, '노리': 3120, '예외': 3121, '성': 3122, '짜증': 3123, '겹치': 3124, '비용': 3125, '완료': 3126, '캐치': 3127, '자비롭다': 3128, '얼': 3129, '공대': 3130, '끝내': 3131, '그러하다': 3132, '낯선': 3133, '적어지다': 3134, '상시': 3135, '패킷': 3136, '뇌피셜': 3137, '교양과목': 3138, '거도': 3139, '장정': 3140, '신호처리': 3141, '필드': 3142, '방향성': 3143, '토요일': 3144, '테이블': 3145, '경영정보': 3146, '논': 3147, '낭비': 3148, '자자하다': 3149, '윤': 3150, '지점': 3151, '문서': 3152, '서비스': 3153, '신경과학': 3154, '들려주다': 3155, '오피스': 3156, '요한': 3157, '플랫폼': 3158, '젤': 3159, '래야': 3160, '동아시아': 3161, '회린': 3162, '힘겹다': 3163, '장의': 3164, '간격': 3165, '견해': 3166, '지속': 3167, '감정': 3168, '존나': 3169, '컴파일': 3170, '빡셈': 3171, '화상': 3172, '중요성': 3173, '어수선하다': 3174, '장단점': 3175, '가급적': 3176, '팝업': 3177, '주도': 3178, '가차': 3179, '왜냐면': 3180, '이두희': 3181, '코스': 3182, '재치': 3183, '의아': 3184, '김학진': 3185, '대입': 3186, '유기': 3187, '우주': 3188, '닥': 3189, '서버': 3190, '얼추': 3191, '박찬수': 3192, '신중하다': 3193, '과언': 3194, '현': 3195, '돌아다니다': 3196, '석': 3197, '시긴': 3198, '팍팍': 3199, '이해력': 3200, '쭉쭉': 3201, '최고점': 3202, '지블리': 3203, '어찌저찌': 3204, '양질': 3205, '모이다': 3206, '회통': 3207, '틈': 3208, '업다': 3209, '무지하다': 3210, '중이': 3211, '다지': 3212, '영양가': 3213, '다식': 3214, '살피다': 3215, '불만족': 3216, '셈': 3217, '투': 3218, '끄적': 3219, '날개': 3220, '가운데': 3221, '작고': 3222, '발사': 3223, '여파': 3224, '교과': 3225, '정규분포': 3226, '상술': 3227, '전관': 3228, '대폭': 3229, '꼬리': 3230, '발달심리학': 3231, '월등하다': 3232, '입다': 3233, '거저': 3234, '할당': 3235, '언젠가': 3236, '시행착오': 3237, '도서관': 3238, '어이없다': 3239, '떨다': 3240, '늘어지다': 3241, '자부심': 3242, '세심': 3243, '제약': 3244, '무의미하다': 3245, '프로이트': 3246, '페이스': 3247, '불가': 3248, '반하다': 3249, '예민하다': 3250, '자발': 3251, '한페이': 3252, '찝찝하다': 3253, '지선': 3254, '피다': 3255, '스케줄': 3256, '후배': 3257, '장황하다': 3258, '교실': 3259, '박하다': 3260, '평상시': 3261, '동의': 3262, '도의': 3263, '도시': 3264, '첨부': 3265, '오버': 3266, '것일': 3267, '주위': 3268, '잠시': 3269, '꼽히다': 3270, '어느새다': 3271, '밀접하다': 3272, '컴공': 3273, '김경': 3274, '빛과': 3275, '틈틈하다': 3276, '짜임새': 3277, '싸우다': 3278, '돌려주다': 3279, '거여': 3280, '빈도': 3281, '나이스': 3282, '진자': 3283, '시중': 3284, '듭': 3285, '교제': 3286, '염두': 3287, '소스코드': 3288, '조의': 3289, '뒤통수': 3290, '노잼': 3291, '덤': 3292, '삼다': 3293, '양적': 3294, '뺏다': 3295, '묶다': 3296, '업데이트': 3297, '몰아치다': 3298, '긁다': 3299, '태균': 3300, '액': 3301, '산': 3302, '상호작용': 3303, '당장': 3304, '점차': 3305, '화장실': 3306, '방해': 3307, '문자': 3308, '뒤죽박죽': 3309, '트이다': 3310, '스마트': 3311, '잘만': 3312, '사이언스': 3313, '그야말로': 3314, '빅데이터': 3315, '빈': 3316, '학원': 3317, 'ㅅ': 3318, '시원하다': 3319, '전재욱': 3320, '김중혁': 3321, '유동': 3322, '참사': 3323, '재탕하다': 3324, '빡셌': 3325, '괴리': 3326, '거슬리다': 3327, '내세': 3328, '구절': 3329, '세미나': 3330, '권정혜': 3331, '청강': 3332, '인간미': 3333, '급상승': 3334, '대리출석': 3335, '사건': 3336, '피자': 3337, '이상만': 3338, '과연': 3339, '실기': 3340, '만지다': 3341, '줄평': 3342, '단조롭다': 3343, '이의': 3344, '팅': 3345, '개판': 3346, '로부터': 3347, '특정하다': 3348, '잔뜩': 3349, '숨': 3350, '민감하다': 3351, '새끼': 3352, '끔찍하다': 3353, '이왕이면': 3354, '대처': 3355, '트렌드': 3356, '못자다': 3357, '종료': 3358, '후술': 3359, '목록': 3360, '대응': 3361, '죄다': 3362, '깍이다': 3363, '장려': 3364, '순성': 3365, '출시': 3366, '신뢰': 3367, '스킬': 3368, '뜬금': 3369, '복사': 3370, '알파': 3371, '분류': 3372, '인적자원': 3373, '몫': 3374, '교환': 3375, '안고': 3376, '나아지다': 3377, '뽑기': 3378, '구석': 3379, '조곤조곤하다': 3380, '강평': 3381, '접다': 3382, '근본': 3383, '가요': 3384, '응': 3385, '참고자료': 3386, '승부': 3387, '반장': 3388, '재형': 3389, '나눠지다': 3390, '고파스': 3391, '은혜': 3392, '본래': 3393, '연결하다': 3394, '산만하다': 3395, '차이점': 3396, '스토리': 3397, '감히': 3398, '균형': 3399, '빈약하다': 3400, '좁다': 3401, '심리학자': 3402, '접목': 3403, '우': 3404, '위트': 3405, '신문': 3406, '속기': 3407, '토': 3408, '작성자': 3409, '초지': 3410, '허준': 3411, '정환': 3412, '숨기다': 3413, '한국사': 3414, '렉': 3415, '아마도': 3416, '말리다': 3417, '허무하다': 3418, '취업': 3419, '바짝': 3420, '가보다': 3421, '대학원생': 3422, '쿼리': 3423, '타이핑': 3424, '박민규': 3425, '싫어지다': 3426, '라이브러리': 3427, '해나': 3428, '간신히': 3429, '큐앤': 3430, '짬': 3431, '유연하다': 3432, '컴퓨팅': 3433, '반영은': 3434, '토씨': 3435, '온갖': 3436, '곱다': 3437, '확률분포': 3438, '최강': 3439, '화목': 3440, '대중문화': 3441, '엉': 3442, '예의': 3443, '교안': 3444, '그리기': 3445, '체점': 3446, '가르침': 3447, '불가능': 3448, '너무하다': 3449, '무한': 3450, '기쁘다': 3451, '생물학': 3452, '정보사회': 3453, '넣기': 3454, '페이': 3455, '노사': 3456, '자구': 3457, '싸움': 3458, '가격': 3459, '마이너스': 3460, '무지': 3461, '생명': 3462, '은유': 3463, '자연스레': 3464, '체제': 3465, '카멜': 3466, '송': 3467, '레퍼런스': 3468, '초월': 3469, '옴': 3470, '온라인수업': 3471, '혼합': 3472, '다과': 3473, '광범위하다': 3474, '이지': 3475, '대서': 3476, '저런': 3477, '보상': 3478, '경력': 3479, '서류': 3480, '종': 3481, '지연': 3482, '건데': 3483, '타가': 3484, '인지도': 3485, '슬슬': 3486, '데드라인': 3487, '쏟아내다': 3488, '법도': 3489, '학구': 3490, '구간': 3491, '막연하다': 3492, '노바': 3493, '가점': 3494, 'ㅋㅋㅋㅋㅋㅋ': 3495, '갑작스럽다': 3496, '복기': 3497, '얻지': 3498, '잊어버리다': 3499, '시생': 3500, '전생': 3501, '전수': 3502, '거들다': 3503, '띄다': 3504, '단호': 3505, '한주': 3506, '뼈대': 3507, '훅': 3508, '실패': 3509, '브로': 3510, '절망': 3511, '어색하다': 3512, '밥': 3513, '혜자': 3514, '해갈': 3515, '용하다': 3516, '패널': 3517, '부안': 3518, '핵꿀강': 3519, '극히': 3520, '수고': 3521, '정보보호': 3522, '밝다': 3523, '김기훈': 3524, '흔적': 3525, '분담': 3526, '번역본': 3527, '목별': 3528, '타자': 3529, '찬찬하다': 3530, '안지': 3531, '난리': 3532, '반절': 3533, '재다': 3534, '냥': 3535, '항의': 3536, '신의': 3537, '끌다': 3538, '편리하다': 3539, '다나': 3540, '플로우': 3541, '한쪽': 3542, '손해': 3543, '패턴': 3544, '휘': 3545, '질문지': 3546, '무임': 3547, '승차': 3548, '음질': 3549, '펜': 3550, '성장하다': 3551, '창기': 3552, '완화': 3553, '터득': 3554, '배호': 3555, '파고들다': 3556, '규칙': 3557, '명예': 3558, '즉석': 3559, '미적분학': 3560, '길어지다': 3561, '창업가': 3562, '맑스': 3563, '압니': 3564, '떼다': 3565, '가까워지다': 3566, '출장': 3567, '쌩': 3568, '다큐': 3569, '외적인': 3570, '사가': 3571, '레전드': 3572, '켜': 3573, '네이버': 3574, '부족함': 3575, '파워포인트': 3576, '참가': 3577, '미분': 3578, '러스': 3579, '사상': 3580, '김선': 3581, '이산': 3582, '꼐': 3583, '컴퓨터과학': 3584, '이숙': 3585, '지향': 3586, '이지훈': 3587, '지문': 3588, '빌런': 3589, '아우르다': 3590, '마스터': 3591, '빠뜨리다': 3592, '민폐': 3593, '양으로': 3594, '반나절': 3595, '소규모': 3596, '돕기': 3597, '매칭': 3598, '킬러': 3599, '저절로': 3600, '헬입니': 3601, '부탁': 3602, '북인': 3603, '소행': 3604, '극단': 3605, '창의력': 3606, '땅': 3607, '자의': 3608, '앱': 3609, '레이어': 3610, '베끼': 3611, '그만': 3612, '엉망': 3613, '훅훅': 3614, '실험계획법': 3615, '일관': 3616, '숨다': 3617, '젠더': 3618, '타이': 3619, '띵강': 3620, '중요도': 3621, '상처': 3622, '모듈': 3623, '일정하다': 3624, '소재': 3625, '복구': 3626, '멈추다': 3627, '빠르기': 3628, '미디안': 3629, '직': 3630, '된거': 3631, '어쩌면': 3632, '자괴': 3633, '졸업생': 3634, '추': 3635, '고도': 3636, '잘쓰다': 3637, '몰입': 3638, '자필': 3639, '일부분': 3640, '겨수': 3641, '비싸다': 3642, '분전': 3643, '혼': 3644, '유하': 3645, '심중': 3646, '사회과학': 3647, '지침': 3648, '박학': 3649, '자리다': 3650, '다라': 3651, '가만히': 3652, '이진': 3653, '일상': 3654, '튀어나오다': 3655, '국내': 3656, '이종선': 3657, '태블릿': 3658, '슴': 3659, '행운': 3660, '다비': 3661, '막다': 3662, '대고': 3663, '싸이버': 3664, '불규칙': 3665, '칸': 3666, '그로': 3667, '현금흐름표': 3668, '재밋': 3669, '세분': 3670, '신나다': 3671, '왜인': 3672, '다한': 3673, '빡셀': 3674, '난생': 3675, '재활': 3676, '해달라다': 3677, '부탁드리다': 3678, '재량': 3679, '페이스북': 3680, '가게': 3681, '저조하다': 3682, '기호': 3683, '새벽': 3684, '오브': 3685, '수기': 3686, '때우다': 3687, '명도': 3688, '왕왕': 3689, '운빨': 3690, '손가락': 3691, '스튜어트': 3692, '올바르다': 3693, '경필': 3694, '노답': 3695, '견학': 3696, '격려': 3697, '깨알': 3698, '꼰대': 3699, '행사': 3700, 'ㅁ': 3701, '강시': 3702, '금지': 3703, '씨언어': 3704, '스피킹': 3705, '왕창': 3706, '돌리시': 3707, '공감': 3708, '내의': 3709, '하텍': 3710, '게으르다': 3711, '현저': 3712, '민망하다': 3713, '기습': 3714, '추출': 3715, '밟다': 3716, '놈': 3717, '똥': 3718, '시피': 3719, '판가름': 3720, '치중': 3721, '근현대사': 3722, '조지': 3723, '결심': 3724, '선착순': 3725, '자칫': 3726, '끌': 3727, '이민영': 3728, '보이시': 3729, '의외': 3730, '피치': 3731, '하드웨어': 3732, '성능': 3733, 'ㅎㅅㅎ': 3734, '조도': 3735, '색다르다': 3736, '대안': 3737, '가다가': 3738, '꿈': 3739, '역설': 3740, '국어': 3741, 'ㅜㅠ': 3742, '분포도': 3743, '나열': 3744, '팀운': 3745, '시설': 3746, '멤버': 3747, '독려': 3748, '볼록': 3749, '세법': 3750, '주전': 3751, '생인': 3752, '예쁘다': 3753, '그날그날': 3754, 'ㅈ': 3755, '산정': 3756, '통보': 3757, '최종성': 3758, '능': 3759, '만날': 3760, '말리': 3761, '서명': 3762, '최상': 3763, '믿음': 3764, '중앙': 3765, '반도체': 3766, '사이즈': 3767, '펼치다': 3768, 'ㄷ': 3769, '회차': 3770, '토픽': 3771, '카페': 3772, '블랙': 3773, '제나': 3774, '때로는': 3775, '우수하다': 3776, '보조': 3777, '심각하다': 3778, '꼬': 3779, '따위': 3780, '최적': 3781, '메다': 3782, '욤': 3783, '동료': 3784, '뼈': 3785, '술술': 3786, '행위': 3787, '엑스': 3788, '생명과학': 3789, '뚝딱': 3790, '오랜': 3791, '여담': 3792, '한텐': 3793, '소수점': 3794, 'ㄹ': 3795, '전자기기': 3796, '제언': 3797, '가늠': 3798, '괴델': 3799, '오리엔테이션': 3800, '위험관리': 3801, '독하다': 3802, '깜지': 3803, '개진': 3804, '화요일': 3805, '초보': 3806, '보안': 3807, '혁신': 3808, '수요': 3809, '주어': 3810, '윈도우': 3811, '구나': 3812, '노동자': 3813, '사유': 3814, '송주원': 3815, '절로': 3816, '돋보이다': 3817, '전문용어': 3818, '프언': 3819, '안치': 3820, '핸드': 3821, '푸리': 3822, '이상심리': 3823, '빼': 3824, '부연': 3825, '팡': 3826, '부드럽다': 3827, '프로그래밍언어': 3828, '살리다': 3829, '고루': 3830, '투라': 3831, '감수': 3832, '빡셌던': 3833, '프로토타입': 3834, '불과하다': 3835, '위험': 3836, '졸림': 3837, '커녕': 3838, '어딘가': 3839, 'ㅡ': 3840, '에너지': 3841, '부합': 3842, '부시': 3843, '맘대로': 3844, '티때': 3845, '선사': 3846, '대통령': 3847, '자연스럽다': 3848, '가령': 3849, '꼬박': 3850, '파슨스': 3851, '다모': 3852, '회신': 3853, '향후': 3854, '유념': 3855, '쏠쏠하다': 3856, '제입': 3857, '시야': 3858, '다름없다': 3859, '장문': 3860, '층': 3861, '배다': 3862, '유학생': 3863, '저명하다': 3864, '문외한': 3865, '석우': 3866, '상기': 3867, 'ㅜㅜㅜㅜ': 3868, '거진': 3869, '울면': 3870, '비디오': 3871, '이로': 3872, '푸셔': 3873, '진리': 3874, '혐': 3875, '여자': 3876, '이래저래': 3877, '찾아오다': 3878, '시적': 3879, '박식하다': 3880, '밀도': 3881, '모의': 3882, '단축': 3883, '위험하다': 3884, '개개인': 3885, '힐': 3886, '알맞다': 3887, '국강임': 3888, '분안': 3889, '과분': 3890, '순서대로': 3891, '끝내기': 3892, '본기': 3893, '무지막지': 3894, '독강러': 3895, '추론': 3896, '박아': 3897, '악화': 3898, '찌': 3899, '뭉술': 3900, '전용': 3901, '경삼': 3902, '상이': 3903, '충분': 3904, '더군다나': 3905, '동석': 3906, '갈수': 3907, 'ㄴㄴ': 3908, '친해지다': 3909, '줄글': 3910, '라인': 3911, '조이다': 3912, '좌지우지': 3913, '억양': 3914, '벽': 3915, '커리': 3916, '열람': 3917, '거듭': 3918, '안과': 3919, '안전하다': 3920, '쥐다': 3921, '나열하다': 3922, '포맷': 3923, '순식간': 3924, '인걸': 3925, '멀리': 3926, '일본': 3927, '구름': 3928, '고역': 3929, '골치': 3930, '다큐멘터리': 3931, '준호': 3932, '전통': 3933, '목차': 3934, '동떨어지다': 3935, '불상': 3936, '강요': 3937, '일요일': 3938, '개도': 3939, '팬': 3940, '부디': 3941, '뒷받침': 3942, '올인': 3943, 'ㅇㅇ': 3944, '만연체': 3945, '거지같다': 3946, '국문': 3947, '괴랄': 3948, '과대': 3949, '애쓰다': 3950, '강보': 3951, '치우치다': 3952, '분단': 3953, '불성실하다': 3954, '횡설수설': 3955, '수집': 3956, '정렬': 3957, '어짜피': 3958, '내놓다': 3959, '피어': 3960, '교생': 3961, '얇다': 3962, '러시': 3963, '대개': 3964, '늦추다': 3965, '커트': 3966, '하여튼': 3967, '분별': 3968, '가치관': 3969, '헛소리': 3970, '턱': 3971, '투명하다': 3972, '정산': 3973, '복합': 3974, '예년': 3975, '훈련': 3976, '착각': 3977, '불합리': 3978, '잔치': 3979, '러': 3980, '잘생기다': 3981, '상한': 3982, '생산': 3983, '잔소리': 3984, '묘': 3985, '더라도': 3986, '양상': 3987, '컬': 3988, '건강하다': 3989, '조차': 3990, '자극': 3991, '지혜롭': 3992, '호기심': 3993, '공포': 3994, '정신차리다': 3995, '가득': 3996, '넷플릭스': 3997, '이점': 3998, '인맥': 3999, '퍼주시': 4000, '찰떡': 4001, '소비': 4002, '스트리밍': 4003, '맥': 4004, '어휘': 4005, '기기': 4006, '자격증': 4007, '차등': 4008, '자본론': 4009, '수의': 4010, '금융공학': 4011, '저장': 4012, '정재환': 4013, '먹여주다': 4014, '협력': 4015, '시달리다': 4016, '연장': 4017, '충': 4018, '누군가': 4019, '본과': 4020, '해박': 4021, '충성': 4022, '명불허전': 4023, '집합': 4024, '대충대충': 4025, '불평등': 4026, '계량': 4027, '방면': 4028, '하둡': 4029, '고개': 4030, '콜': 4031, '소모': 4032, '회계감사': 4033, '휴식': 4034, '체력': 4035, '수익': 4036, '마주': 4037, '말장난': 4038, '힘내다': 4039, '빌다': 4040, '나누어지다': 4041, '태': 4042, '큼직하다': 4043, '케바케': 4044, '평의': 4045, '아슬아슬하다': 4046, '지승민': 4047, '파': 4048, '과도': 4049, '끼우다': 4050, '락앤롤': 4051, '사안': 4052, '본문': 4053, '데이': 4054, '소양': 4055, '망설이다': 4056, '닮다': 4057, '실리다': 4058, '난의': 4059, '사용자': 4060, '뜰': 4061, '뭉': 4062, '실하다': 4063, '기든스': 4064, '학과목': 4065, '분노': 4066, '불통': 4067, '트랙': 4068, '판이': 4069, '실천': 4070, '여섯': 4071, '한승수': 4072, '어이': 4073, '명과': 4074, '쪼끔': 4075, '노려보다': 4076, '상범': 4077, '담론': 4078, '무겁다': 4079, '탈주': 4080, '요일': 4081, '정이': 4082, '그래픽': 4083, '안쓰럽다': 4084, '롭': 4085, '더듬다': 4086, '반올림': 4087, '감독': 4088, '주정': 4089, '만난': 4090, '뽑히다': 4091, '사르다': 4092, '안심': 4093, '뱅이': 4094, '시구': 4095, '불평': 4096, '명세': 4097, '멍청하다': 4098, '도구': 4099, '자마자': 4100, '낫': 4101, '간접': 4102, '갈피': 4103, '이롭다': 4104, '직하다': 4105, '재우': 4106, '젠틀맨': 4107, '다양': 4108, '투자가': 4109, '초빙': 4110, '장담': 4111, '어케': 4112, '짐작': 4113, 'ㅆ': 4114, '쏟아지다': 4115, '분분': 4116, '공간': 4117, '부과': 4118, '치평': 4119, '밸류': 4120, '무료': 4121, '다운로드': 4122, '커리어': 4123, '가히': 4124, '점프': 4125, '성품': 4126, '스탠포드': 4127, '주고받다': 4128, '혐오': 4129, '상품': 4130, '재생': 4131, '나가야': 4132, '나무': 4133, '었습니': 4134, '가슴': 4135, '유고': 4136, '성장': 4137, '강행': 4138, '최하': 4139, '꺼리다': 4140, '민': 4141, '폼': 4142, '김병조': 4143, '퇴직': 4144, '마음가짐': 4145, '규정': 4146, '중학교': 4147, '동기부여': 4148, '맵다': 4149, '적임': 4150, '공통점': 4151, '이중적분': 4152, '지라': 4153, '궁금증': 4154, '싱글': 4155, '사이클': 4156, '때매': 4157, '공급': 4158, '무너지다': 4159, '드립': 4160, '조건화': 4161, '론도': 4162, '간식': 4163, '암': 4164, '다문화': 4165, '엠': 4166, '달성': 4167, '이란': 4168, '다룸': 4169, '이신': 4170, '치실': 4171, '일종': 4172, '반성': 4173, '저지': 4174, '경고': 4175, '자만': 4176, '개중': 4177, '진정': 4178, '이상심리학': 4179, '정신질환': 4180, '허탈하다': 4181, '완벽': 4182, '퀄': 4183, '불가하다': 4184, '위기': 4185, '면도': 4186, '시험대': 4187, '시선': 4188, '어로': 4189, '번복': 4190, '아두': 4191, '유인물': 4192, '아무나': 4193, '어보': 4194, '대가리': 4195, '계정': 4196, '온화하다': 4197, '셨': 4198, '닥치다': 4199, '해주': 4200, '안도': 4201, '여겨지다': 4202, '출쳌': 4203, '강좌': 4204, '개월': 4205, '병조': 4206, '객체지향': 4207, '리스크': 4208, '취지': 4209, 'ㅊㅊ': 4210, '더더': 4211, '꿀강러': 4212, '핑계': 4213, '애정도': 4214, '하든': 4215, '객체': 4216, '을': 4217, '사상가': 4218, '자본': 4219, 'ㅡㅡ': 4220, '박광태': 4221, '퀸재영': 4222, '우려': 4223, '가뿐하다': 4224, '회당': 4225, '치이다': 4226, '탄생': 4227, '관계없이': 4228, '얘': 4229, '진학': 4230, '치열하다': 4231, '난이': 4232, '법인세': 4233, '차이나다': 4234, '웃음': 4235, '연기': 4236, '한민': 4237, '시사': 4238, 'ㅋㅋㅋㅋㅋㅋㅋ': 4239, '인쇄': 4240, '명중': 4241, '강의량': 4242, '제품': 4243, '함팀': 4244, '정적': 4245, '경진': 4246, '카리스마': 4247, '나뉘어지다': 4248, '트러블': 4249, '교류': 4250, '취약점': 4251, '맞이': 4252, '애증': 4253, '요조': 4254, '경로': 4255, '민성기': 4256, '싸인': 4257, '어필': 4258, '자비': 4259, '목': 4260, '컴팩트': 4261, '곱': 4262, '잡음': 4263, '찍': 4264, '사고력': 4265, '꿀팁': 4266, '곡': 4267, '폐강': 4268, '현황': 4269, '임박': 4270, '그러니까': 4271, '착착': 4272, '경제사회학': 4273, '파생상품': 4274, '규': 4275, '자상하다': 4276, '손글씨': 4277, '모시다': 4278, '나위': 4279, '하이퍼텍스트': 4280, '향': 4281, '혼용': 4282, '이준': 4283, '재표': 4284, '인터': 4285, '정립': 4286, '언어심리학': 4287, '근무': 4288, '여기저기': 4289, '스케줄링': 4290, '복학': 4291, '가물가물': 4292, '실지': 4293, '분간': 4294, '순수하다': 4295, '좁히다': 4296, '저작권': 4297, '데통': 4298, '낙담하다': 4299, '유학': 4300, '양해': 4301, '뚝뚝': 4302, '세기': 4303, '로지': 4304, '투입량': 4305, '종일': 4306, '텐션': 4307, '핸드폰': 4308, '개조': 4309, '다인': 4310, '공격': 4311, '색': 4312, '무적': 4313, '고양이': 4314, '획득': 4315, '치트': 4316, '두고두고': 4317, '남고': 4318, '정지': 4319, '조작': 4320, '주기도': 4321, '지내다': 4322, '다년': 4323, '무리하다': 4324, '빡시다': 4325, '편견': 4326, '식도': 4327, '양호': 4328, '오토마타': 4329, '학도': 4330, '자수': 4331, '혼선': 4332, '명사': 4333, '보심': 4334, '원체': 4335, '야': 4336, '천하': 4337, '해답': 4338, '비평': 4339, '지나': 4340, '정성껏': 4341, '디버깅': 4342, '고난': 4343, '단비': 4344, '신체': 4345, '채택': 4346, '지경': 4347, '자동차': 4348, '도나': 4349, '시간제': 4350, '귀가': 4351, '빼놓다': 4352, '조사해': 4353, '가하다': 4354, '음으로': 4355, '클리어': 4356, '거임': 4357, '독서': 4358, '푸근하다': 4359, '직설': 4360, '작품': 4361, '다차': 4362, '인분': 4363, '소용': 4364, '미련': 4365, '이의제기': 4366, '척도': 4367, '성함': 4368, '건의': 4369, '장창': 4370, '고맙다': 4371, '다방면': 4372, '전송': 4373, '정기': 4374, '미미하다': 4375, '나기': 4376, '프레임': 4377, '누락': 4378, '회도': 4379, '체그': 4380, '주재': 4381, '의향': 4382, '시르다': 4383, '용다': 4384, '개방': 4385, '찌르다': 4386, '급수': 4387, '지저분하다': 4388, '프로세서': 4389, '사강': 4390, '정부': 4391, '정재호': 4392, '개발자': 4393, '느슨하다': 4394, '포스터': 4395, '안주': 4396, '어설프다': 4397, '열쇠': 4398, '방송': 4399, '박진': 4400, '검다': 4401, '여느': 4402, '파티': 4403, '페미니스트': 4404, '기왕': 4405, '초임': 4406, '의사': 4407, '부임': 4408, '한없이': 4409, '도장': 4410, '쎄다': 4411, '반도': 4412, '택하': 4413, '재탕': 4414, '내공': 4415, '차리다': 4416, '고용': 4417, '한동안': 4418, '심정': 4419, '짝수': 4420, '특이': 4421, '문이과': 4422, '템포': 4423, '워딩': 4424, '국적': 4425, '공평하다': 4426, '마법': 4427, '셧': 4428, '부끄럽다': 4429, '도덕': 4430, '겹강': 4431, '한숨': 4432, '심근': 4433, '괴리감': 4434, '효곤': 4435, '토종': 4436, '라디오': 4437, '합격자': 4438, '재활용': 4439, '반박': 4440, '확률변수': 4441, '합의': 4442, '지루함': 4443, '품': 4444, '수박': 4445, '커지다': 4446, '피똥': 4447, '작전': 4448, '보험': 4449, '하이': 4450, '자부': 4451, '붙이': 4452, '책상': 4453, '인자': 4454, '적성': 4455, '지표': 4456, '생전': 4457, '배열': 4458, '의자': 4459, '둘째': 4460, '면박': 4461, '단단하다': 4462, '석탑': 4463, '신경안': 4464, '맵': 4465, '사도': 4466, '가뜩이나': 4467, '톡방': 4468, '현직': 4469, '가혹하다': 4470, '고찰': 4471, '증가': 4472, '리얼': 4473, '표본': 4474, '동그라미': 4475, '베풀다': 4476, '졸음': 4477, '써머': 4478, '날림': 4479, '정통': 4480, '웃기': 4481, '순수': 4482, '규모': 4483, '갓재웅': 4484, '어': 4485, '단기간': 4486, '스크립트': 4487, '카이': 4488, '관회': 4489, '물어': 4490, '악평': 4491, '사교수': 4492, '쟁점': 4493, '명단': 4494, '어쩌구': 4495, '테마': 4496, '비플': 4497, '도학': 4498, '환상': 4499, '스마트폰': 4500, '통학': 4501, '따오다': 4502, '정일': 4503, '명언': 4504, '별명': 4505, '회의실': 4506, '윤인진': 4507, '삭': 4508, '패드': 4509, '끄덕': 4510, '들보': 4511, '겨자': 4512, '학파': 4513, '탈탈': 4514, '면접': 4515, '박수호': 4516, '난무': 4517, '제곱': 4518, '비씨': 4519, '독해': 4520, '오라': 4521, '관통': 4522, '찡': 4523, '팩맨': 4524, '로써': 4525, '성하다': 4526, '고로': 4527, '정신과': 4528, '사회인': 4529, '큐티': 4530, '도록': 4531, '빠듯': 4532, '참조': 4533, '콩글리쉬': 4534, '면모': 4535, '퍼셉트론': 4536, '거래': 4537, '여성학': 4538, '이희': 4539, '전문성': 4540, '정중하다': 4541, '기원': 4542, '대일': 4543, '황': 4544, '과로': 4545, '물이': 4546, '울': 4547, '수상': 4548, '잘알다': 4549, '살아나다': 4550, '핫': 4551, '어림': 4552, '때때로': 4553, '부위': 4554, '후의': 4555, '쑤다': 4556, '고병완': 4557, '편집': 4558, '가설검증': 4559, '지배': 4560, '부득이': 4561, '일상생활': 4562, '뭔': 4563, '갈등론': 4564, '호르몬': 4565, '부의': 4566, '색칠': 4567, '삽질': 4568, '그땐': 4569, '전과': 4570, '심통': 4571, '픽': 4572, '맡기다': 4573, '애플': 4574, '비생': 4575, '엔진': 4576, '양은주': 4577, '회정': 4578, '안일하다': 4579, '업계': 4580, '해치다': 4581, '바이러스': 4582, '대사': 4583, '드라마': 4584, '패러다임': 4585, '데모': 4586, '우리말': 4587, '빛나다': 4588, '덩달아': 4589, '관성': 4590, '성량': 4591, '갈림': 4592, '거구': 4593, '소형': 4594, '아리송하다': 4595, '잡아내다': 4596, '콩트': 4597, '반선': 4598, '불가피하다': 4599, '양하다': 4600, '괜': 4601, '악의': 4602, '전산학': 4603, '라운드': 4604, 'ㅠㅡㅠ': 4605, '더하기': 4606, '출판사': 4607, '위키': 4608, '수험': 4609, '늦어지다': 4610, '김영식': 4611, '치도': 4612, '부럽다': 4613, '단체': 4614, '뜯다': 4615, '앤': 4616, '봉사': 4617, '수금': 4618, '놀란': 4619, '장땡': 4620, '곁들이다': 4621, '직원': 4622, '흡사하다': 4623, '제비': 4624, '터별': 4625, '스피드': 4626, '강점': 4627, '인터페이스': 4628, '매너': 4629, '퀸': 4630, '남자': 4631, '첨가': 4632, '자정': 4633, '이제껏': 4634, '여야': 4635, '스승': 4636, '유럽': 4637, '과톡': 4638, '력도': 4639, '육체': 4640, '괴롭히다': 4641, '드림': 4642, '곱씹다': 4643, '언': 4644, '알기': 4645, '고갈': 4646, '지니': 4647, '예외처리': 4648, '통프밍': 4649, '환영': 4650, '죽이다': 4651, '뒤늦다': 4652, '여명': 4653, '논리회로': 4654, '개년': 4655, '미달': 4656, '데비': 4657, '설문지': 4658, '터치': 4659, '윤서': 4660, '관찰': 4661, '치루어지다': 4662, '안식년': 4663, '깨우치다': 4664, '밸런스': 4665, '가버리다': 4666, '잡다하다': 4667, '불완전': 4668, '가수': 4669, '조짐': 4670, '행정': 4671, '혼잣말': 4672, '지금껏': 4673, '제하': 4674, '개개': 4675, '전화': 4676, '탕': 4677, '노인': 4678, '얼른': 4679, 'ㅂ': 4680, '편향': 4681, '수단': 4682, '재민': 4683, '양학당': 4684, '쫓아가다': 4685, '포트': 4686, '붙들다': 4687, '구도': 4688, '레폿': 4689, '전설': 4690, '건너': 4691, '타협': 4692, '어플리케이션': 4693, '필로': 4694, '녹다': 4695, '과학기술': 4696, '타당': 4697, '해소': 4698, '그럴듯하다': 4699, '문자열': 4700, '배제': 4701, '고비': 4702, '유사': 4703, '몽땅': 4704, '종사': 4705, '개입': 4706, '재개': 4707, '주도하다': 4708, '잔': 4709, '좌': 4710, '개떡같다': 4711, '실상': 4712, '서나': 4713, '보이스': 4714, '소설': 4715, '그다음': 4716, '형광': 4717, '지역': 4718, '찍히다': 4719, '뭐합': 4720, '쳐다보다': 4721, '신념': 4722, '짜내다': 4723, '빈자리': 4724, 'ㄷㄷ': 4725, '살인': 4726, '이동욱': 4727, '세팅': 4728, '지명': 4729, '영국': 4730, '당혹스럽다': 4731, '소용없다': 4732, '일만': 4733, '여실': 4734, '분컷': 4735, '에브리': 4736, '도표': 4737, '앞두다': 4738, '뛰어넘다': 4739, '어디가': 4740, '또박또박': 4741, '김머기': 4742, '절하': 4743, '후반기': 4744, '재환': 4745, '핵교': 4746, '협업': 4747, '닷': 4748, '섹슈얼리티': 4749, '팔다': 4750, '팩트': 4751, '지겹다': 4752, '케': 4753, '정현': 4754, '인도': 4755, '성질': 4756, '뜸': 4757, '배진': 4758, '자막': 4759, '클로즈': 4760, '자격': 4761, '습관': 4762, '진단': 4763, '필히': 4764, '자고': 4765, '순서도': 4766, '내용정리': 4767, '상향': 4768, '평준화': 4769, '미시경제': 4770, '정치사회학': 4771, '구변': 4772, '동향': 4773, '김진배': 4774, '이상근': 4775, '키라': 4776, '어메이징': 4777, '끝장': 4778, '나본': 4779, '세용': 4780, '창희': 4781, '경': 4782, '언도': 4783, '컨셉': 4784, '사이사이': 4785, '그대': 4786, '글로벌': 4787, '차질': 4788, '부채': 4789, '전의': 4790, '던데': 4791, '김대기': 4792, '증거': 4793, '예비': 4794, '정창화': 4795, '행시': 4796, '톡': 4797, '공백': 4798, '무단': 4799, '정보이론': 4800, '반갑다': 4801, '반정': 4802, '라이딩': 4803, '음성인식': 4804, '덕질': 4805, '등록': 4806, '썰다': 4807, '환율': 4808, '꿀강임': 4809, '다다다': 4810, '분임': 4811, '나머진': 4812, '불리': 4813, '두드리다': 4814, '선별': 4815, '정서': 4816, '천재': 4817, '사탕': 4818, '구리': 4819, '직결': 4820, '정기고': 4821, '쪼금': 4822, '심심하다': 4823, '한적': 4824, '우여곡절': 4825, '업체': 4826, '책정': 4827, '능력자': 4828, '안남': 4829, '합치': 4830, '즉흥': 4831, '적당': 4832, '다가가다': 4833, '유시진': 4834, '글쎄요': 4835, '지극히': 4836, '일로': 4837, '유의확률': 4838, '대조': 4839, '얄짤없': 4840, '틀림': 4841, '레알': 4842, '잠도': 4843, '여개': 4844, '정형': 4845, '루트': 4846, '매뉴얼': 4847, '싸매다': 4848, '삼각함수': 4849, '스페이스': 4850, '친숙하다': 4851, '다익스트라': 4852, '흡입': 4853, '다독': 4854, '쫄았는데': 4855, '친절': 4856, '모순': 4857, '빈번': 4858, '벌다': 4859, '고경': 4860, '성은': 4861, '대여': 4862, '다정하다': 4863, '킹갓': 4864, '유니버스': 4865, '대감': 4866, '컴맹': 4867, '제겐': 4868, '테크': 4869, '박살': 4870, '뭣': 4871, '뉘앙스': 4872, '당상': 4873, '아찔하다': 4874, '그간': 4875, '굵다': 4876, '방가': 4877, '치유': 4878, '막바지': 4879, '모조리': 4880, '극한': 4881, '짬뽕': 4882, '파격': 4883, '조심스럽다': 4884, '기피': 4885, '평마': 4886, '조경아': 4887, '아이': 4888, '저하': 4889, '심기': 4890, '근대': 4891, '려': 4892, '집단지성': 4893, '파워': 4894, '디바이더': 4895, '어쩌다가': 4896, '하필': 4897, '김정현': 4898, '장비': 4899, '미흡하다': 4900, '구성원': 4901, '구두': 4902, '쪼개다': 4903, '굴러가다': 4904, '감명': 4905, '감사히': 4906, '참으로': 4907, '헬명강': 4908, '어번': 4909, '도리': 4910, '폭주': 4911, '축': 4912, '여성': 4913, '방정식': 4914, '마음먹다': 4915, '던': 4916, '입출력': 4917, '다그치다': 4918, '꾹': 4919, '이만우': 4920, '분할': 4921, '만일': 4922, '정년': 4923, '썰리다': 4924, '미우다': 4925, '지난번': 4926, '띠': 4927, '위함': 4928, '똑바로': 4929, '융전': 4930, '필요성': 4931, '친철': 4932, '카테고리': 4933, '중순': 4934, '미하': 4935, '잉': 4936, '도통': 4937, '미지수': 4938, '무심하다': 4939, '송준명': 4940, '셨습': 4941, '뒤쪽': 4942, '나긋나긋': 4943, '어조': 4944, '김수영': 4945, '전하': 4946, '꽂히다': 4947, '간만': 4948, '조심': 4949, '쫙': 4950, '어강': 4951, '망': 4952, '스틱스': 4953, '도무지': 4954, '앤서니': 4955, '껍': 4956, '더러': 4957, '마리': 4958, '토끼': 4959, '처지': 4960, '맺다': 4961, '빌어': 4962, '문단': 4963, '천사십': 4964, '넓어지다': 4965, '문의사항': 4966, '우분투': 4967, '나긋하다': 4968, '헉': 4969, '꺼내다': 4970, '외주': 4971, '저기': 4972, '애니메이션': 4973, '버그': 4974, '망정': 4975, '오산': 4976, '성주': 4977, '극': 4978, '왕': 4979, '큼지막하다': 4980, '다점': 4981, '잠수': 4982, '품다': 4983, '주저': 4984, '하여간': 4985, '장하다': 4986, '다른사람': 4987, '정신장애': 4988, '십상': 4989, '봉사활동': 4990, '탱': 4991, '충고': 4992, '잡지': 4993, '유심': 4994, '튜링': 4995, '용의': 4996, '용인': 4997, '놓이다': 4998, '이왕': 4999, '문대': 5000, '성가시다': 5001, '담그다': 5002, '장애': 5003, '딜레마': 5004, '모노': 5005, '멋대로': 5006, '화이트': 5007, '일주': 5008, '채운': 5009, '교직이수': 5010, '올려놓다': 5011, '삼': 5012, '찔리다': 5013, '차고': 5014, '리도': 5015, '유승원': 5016, '재무회계': 5017, '발성': 5018, '조치': 5019, '공정': 5020, '파이다': 5021, '아싸': 5022, '늦': 5023, '오': 5024, '헤치다': 5025, '출처': 5026, '취하': 5027, '반납': 5028, '브': 5029, '우수': 5030, '이따금': 5031, '핳': 5032, '확입': 5033, '상당수': 5034, '최저': 5035, '부랴부랴': 5036, '모니터': 5037, '퇴임': 5038, '씨름': 5039, '다잡다': 5040, '지협': 5041, '최초': 5042, '장님': 5043, '잖다': 5044, '카이스트': 5045, '불량하다': 5046, '지시': 5047, '후루룩': 5048, '리릭': 5049, '손꼽다': 5050, '칼절평이셔': 5051, '혀': 5052, '들쭉날쭉하다': 5053, '자만하다': 5054, '혁명': 5055, '질도': 5056, '언뜻': 5057, '마구': 5058, '혼내다': 5059, '작문': 5060, '문제해결': 5061, '장표': 5062, '라우팅': 5063, '가상머신': 5064, '콘텐츠': 5065, '비공개': 5066, '까칠하다': 5067, '팔이': 5068, '유무': 5069, '윤성': 5070, '수합': 5071, '나타내다': 5072, '쫄': 5073, '침착하다': 5074, '노조': 5075, '잘리다': 5076, '하아': 5077, '겹치기': 5078, '펼쳐지다': 5079, '요새': 5080, '하향': 5081, '문헌': 5082, '메세지': 5083, '되돌아보다': 5084, '리서치': 5085, '남발': 5086, '몇장': 5087, '버': 5088, '극상': 5089, '번팀': 5090, '높이': 5091, '럼': 5092, '중고': 5093, '취준': 5094, '서너': 5095, '여론': 5096, '차차': 5097, '리심': 5098, '어거지': 5099, '마우스': 5100, '이성권': 5101, '시시': 5102, '돕다': 5103, '박경서': 5104, '연': 5105, '강화': 5106, '생임': 5107, '명칭': 5108, '어긋나다': 5109, 'ㅠㅠㅠㅠㅠㅠ': 5110, '크리스마스': 5111, '오래되다': 5112, '오디오': 5113, '배포': 5114, '축소': 5115, '지수': 5116, '아리까리하다': 5117, '도박': 5118, '분하다': 5119, '면제': 5120, '나른하다': 5121, '메시지': 5122, '시일': 5123, '최우': 5124, '시간관리': 5125, '제지': 5126, '수립': 5127, '폰': 5128, '혼돈': 5129, '카오스': 5130, '깃': 5131, '무색': 5132, '방이': 5133, '복소수': 5134, '남편': 5135, '살벌하다': 5136, '띠용': 5137, '셀프': 5138, '정세': 5139, '현명하다': 5140, '운명': 5141, '최단': 5142, 'ㅈㄴ': 5143, '결부': 5144, '무제한': 5145, '기하': 5146, '교과목': 5147, '칼절평임': 5148, '협조': 5149, '역전': 5150, '책임감': 5151, '밀다': 5152, '조리': 5153, '하이라이트': 5154, '민영': 5155, '불규칙하다': 5156, '빡센데': 5157, '대여섯': 5158, '시스': 5159, '캡처': 5160, '며': 5161, '로그인': 5162, '외다': 5163, '바사': 5164, '악물다': 5165, '독도': 5166, '유헌': 5167, '헤아리다': 5168, '화사': 5169, '호탕': 5170, '첨언': 5171, '오가다': 5172, '심장': 5173, '안온': 5174, '초콜릿': 5175, '사람인': 5176, '님': 5177, '공인': 5178, '읍': 5179, '요건': 5180, '밭': 5181, '인격': 5182, '주의자': 5183, '영규': 5184, '시계': 5185, '해안가': 5186, '유난히': 5187, '사신': 5188, '드래곤': 5189, '다루어지다': 5190, '방침': 5191, '트렌디': 5192, '당분간': 5193, '성도': 5194, '귀중하다': 5195, '박길성': 5196, '김현우': 5197, '공휴일': 5198, '묶이다': 5199, '빠삭하': 5200, '절약': 5201, '존': 5202, '유발': 5203, '법칙': 5204, '추억': 5205, '학업량': 5206, '주류': 5207, '무선통신': 5208, '자산': 5209, '특수성': 5210, '커닝': 5211, '형강': 5212, '나이': 5213, '문제기': 5214, '웟': 5215, '정합': 5216, '결합': 5217, '전쟁': 5218, '쿠': 5219, '속지': 5220, '무언': 5221, '심오하다': 5222, '부각': 5223, '가리다': 5224, '암기력': 5225, '생일': 5226, '놀람': 5227, '김언수': 5228, '아티스트': 5229, '락음악': 5230, '토크쇼': 5231, '이동원': 5232, '용서': 5233, '김현식': 5234, '사기': 5235, '탐방': 5236, '조진': 5237, '심팀': 5238, '설마': 5239, '엇습': 5240, '여간': 5241, '악': 5242, '엄두': 5243, '윤성수': 5244, '사적': 5245, '경지': 5246, '철': 5247, 'ㅎㄷㄷ': 5248, '일어나서': 5249, '스케쥴': 5250, '교사': 5251, '발목': 5252, '었': 5253, '민주주의': 5254, '한조': 5255, '원성': 5256, '격차': 5257, '널럴': 5258, '인류': 5259, '일체': 5260, '거시': 5261, '무역': 5262, '기껏': 5263, '참고문헌': 5264, '전자기학': 5265, '으레': 5266, '먹이다': 5267, '용기': 5268, '디즈니': 5269, '관심사': 5270, '요강': 5271, '두기': 5272, '여태껏': 5273, '요가': 5274, '신랄하다': 5275, '다사': 5276, '김창기': 5277, '거창하다': 5278, '즉각': 5279, '얼다': 5280, '메리': 5281, '넋': 5282, '얹다': 5283, '주목': 5284, '걷다': 5285, '보노보노': 5286, '제만': 5287, '자미': 5288, '오랫동안': 5289, '집착': 5290, '계란': 5291, '과고': 5292, '열공': 5293, '재앙': 5294, '성적표': 5295, '별반': 5296, '난하다': 5297, '슬픔': 5298, '죽음': 5299, '무자비하다': 5300, '시뮬레이터': 5301, '저러다': 5302, '멀티': 5303, '너희': 5304, '혁': 5305, '불안정하다': 5306, '줄줄이': 5307, '망햇': 5308, '꿀일': 5309, '아이큐': 5310, '버젼': 5311, '정보화': 5312, '습하다': 5313, '앞서다': 5314, '말미': 5315, '당당하다': 5316, '화려하다': 5317, '초로': 5318, '결': 5319, '윗': 5320, '앙': 5321, '인호': 5322, '짜릿하다': 5323, '취급': 5324, '학사': 5325, '심강': 5326, '미디엄': 5327, '표준': 5328, '기관': 5329, '루지': 5330, '재미나': 5331, '고시': 5332, '후보': 5333, '나로': 5334, '꺼지다': 5335, '신임': 5336, '백': 5337, '친숙해지다': 5338, '표면': 5339, '고제': 5340, '부러지다': 5341, '말번': 5342, '반감': 5343, '경계': 5344, '유리': 5345, '필터': 5346, '무도': 5347, '고작': 5348, '고학': 5349, '미분적분': 5350, '스펙': 5351, '황당하다': 5352, '테드': 5353, '컬러링': 5354, '대치': 5355, '첫째': 5356, '노동사회학': 5357, '도시사회학': 5358, '기입': 5359, '읽히다': 5360, '웅': 5361, '상관관계': 5362, '출하': 5363, '고저': 5364, '낙서': 5365, '중하': 5366, '으쌰으쌰': 5367, '요정': 5368, '시간복잡도': 5369, '논증': 5370, '바람직하다': 5371, '침': 5372, '선웅': 5373, '다정': 5374, '스튜디오': 5375, '과학데이터': 5376, '빛재영': 5377, '세명': 5378, '셨던': 5379, '사오다': 5380, 'ㅔ': 5381, '맥도날드': 5382, '르': 5383, '박지혜': 5384, '훑어보기': 5385, '린': 5386, '리더쉽': 5387, '즉시': 5388, '고자': 5389, '고사전': 5390, '재관': 5391, '성인': 5392, '자서': 5393, '불필요하다': 5394, '웹사이트': 5395, '달동': 5396, '행동수정': 5397, '맙시': 5398, '김세현': 5399, '흐리다': 5400, '괴로움': 5401, '채연': 5402, '매체': 5403, '연세': 5404, '프라이드': 5405, '짤막하다': 5406, '단언': 5407, '불도저': 5408, '지하': 5409, '음료수': 5410, '조현병': 5411, '편중': 5412, '어렴풋이': 5413, '부리다': 5414, '짱짱맨': 5415, '위인': 5416, '심리테스트': 5417, '수두': 5418, '점주': 5419, '위키피디아': 5420, '수없이': 5421, '쓸데없이': 5422, '딜리': 5423, '호락호락하다': 5424, '았': 5425, '명확': 5426, '외한': 5427, '고서': 5428, '제물': 5429, '군': 5430, '무용지물': 5431, 'ㄱㄱ': 5432, '크롤': 5433, '약자': 5434, '반의': 5435, '명강임': 5436, '식견': 5437, '놀래다': 5438, '안전': 5439, '훨': 5440, '지켜보다': 5441, '이혜경': 5442, '외래어': 5443, '자유형': 5444, '두리': 5445, '버튼': 5446, '발췌': 5447, '펀쿨섹좌': 5448, '세대': 5449, '섹시하다': 5450, '뜬금없이': 5451, '눕다': 5452, '난관': 5453, '부딪히다': 5454, '마저': 5455, '소위': 5456, '뿜뿜': 5457, '붓다': 5458, '베리': 5459, '마침': 5460, '고지': 5461, '사발': 5462, '소식': 5463, '드라이브': 5464, '거짓말': 5465, '곱하기': 5466, '차피': 5467, '큰코다치다': 5468, '시범': 5469, '새기다': 5470, '노예': 5471, '년치': 5472, '고스': 5473, '독창': 5474, '설득': 5475, '그만두다': 5476, '로직': 5477, '구기다': 5478, '일어나지': 5479, '곳곳': 5480, '구의': 5481, '주르륵': 5482, '정신없이': 5483, '슈': 5484, '큼직큼직하다': 5485, '현대차': 5486, '겉보기': 5487, '아이컨택': 5488, '내려놓다': 5489, '패': 5490, '설': 5491, '연연하다': 5492, '사라': 5493, '여름방학': 5494, '정지선': 5495, '압존법': 5496, '불리하다': 5497, '과장': 5498, '재차': 5499, '능통하다': 5500, 'ㅣ': 5501, '거북이': 5502, '가관': 5503, '라며': 5504, '유명': 5505, '보수': 5506, '덕정': 5507, '유튭': 5508, '주주': 5509, '실증': 5510, '치러지다': 5511, '민주': 5512, '키시': 5513, '잘해주다': 5514, '통역': 5515, '스샷': 5516, '흔들리다': 5517, '학적': 5518, '어쨋': 5519, '밸': 5520, '디다': 5521, '벌어지다': 5522, '환장하다': 5523, '또렷하다': 5524, '김재환': 5525, '요양': 5526, '일곱': 5527, '어쨌거': 5528, '감치': 5529, '퍼즐': 5530, '애착': 5531, '자이시': 5532, '연설': 5533, '오케이': 5534, '스치다': 5535, '개꿀임': 5536, '집계': 5537, '낼때': 5538, '가리키다': 5539, '꼽는': 5540, '빅': 5541, '애애': 5542, '곰돌이': 5543, '인증': 5544, '중국어': 5545, '안대': 5546, '자진': 5547, '추정량': 5548, '웅장': 5549, '기쁨': 5550, '차근차근하다': 5551, '꽂다': 5552, '잠들다': 5553, '오른': 5554, '딜': 5555, '내려오다': 5556, '꿀꿀': 5557, '무식하다': 5558, '유쾌하': 5559, '평생': 5560, '만세': 5561, '말평': 5562, '화끈하다': 5563, '한자': 5564, '얼핏': 5565, '시끄럽다': 5566, '십분': 5567, '원상': 5568, '익다': 5569, '머물다': 5570, '팔': 5571, '개략': 5572, '엄수': 5573, '특': 5574, '빡셌다': 5575, '쑤시다': 5576, '왈': 5577, '요다음': 5578, '지리': 5579, '소금': 5580, '주자': 5581, '수호': 5582, '전전날': 5583, '알짜': 5584, '배기': 5585, '느': 5586, '인플레': 5587, '성별': 5588, '출발': 5589, '요추': 5590, '장인': 5591, '비비다': 5592, '번꼴': 5593, '조성': 5594, '가상': 5595, '정규표현식': 5596, '폰트': 5597, '극적': 5598, '엄': 5599, '뽕': 5600, '만담': 5601, '에인절': 5602, '소켓': 5603, '가나': 5604, '타이틀': 5605, '학술': 5606, '오해': 5607, '집약': 5608, '판도': 5609, '안구': 5610, '었던': 5611, '주옥': 5612, '드랍하': 5613, '졸라': 5614, '취합': 5615, '성대': 5616, '졸': 5617, '휙': 5618, '팀빨': 5619, '망각': 5620, '생윤': 5621, '윤사': 5622, '꼰대력': 5623, '선형계획법': 5624, '미디어': 5625, '특이점': 5626, '말썽': 5627, '일으키다': 5628, '빡센편': 5629, '재웅': 5630, '통달': 5631, '현재가치': 5632, '후함': 5633, '넘어오다': 5634, '사랑스럽다': 5635, '만족감': 5636, '스왑': 5637, '우기다': 5638, '유툽': 5639, '라벨': 5640, '두루뭉술': 5641, '스도쿠': 5642, '베가': 5643, '완수': 5644, '쫒다': 5645, '캐시': 5646, '람': 5647, '확확': 5648, '패기': 5649, '딱이다': 5650, '수혜': 5651, '로봇': 5652, '명목': 5653, '가끔가다': 5654, '강하': 5655, '인적': 5656, '뱅': 5657, '콜드': 5658, '분파': 5659, '꿀벌': 5660, '야호': 5661, '불안감': 5662, '유방암': 5663, '디비': 5664, '얉': 5665, '느긋하다': 5666, '러프': 5667, '내버리다': 5668, '평화롭다': 5669, '내진': 5670, '한결': 5671, '샘플링': 5672, '툭툭': 5673, '비지니스': 5674, '로스쿨': 5675, '의료': 5676, '찬성': 5677, '들쑥날쑥하다': 5678, '구수하다': 5679, '존잘': 5680, '남짓': 5681, '리스닝': 5682, '공룡': 5683, '운용': 5684, '숨통': 5685, '지니다': 5686, '생겨나다': 5687, '일례': 5688, '이리저리': 5689, '서치': 5690, '부어': 5691, '십장': 5692, '인정받다': 5693, '배드': 5694, '윤용': 5695, '굿굿': 5696, '유베': 5697, '라그랑지': 5698, '흐려지다': 5699, '컨': 5700, '창작': 5701, '파서': 5702, '무의식': 5703, '상회': 5704, '투성이': 5705, '우왕좌왕': 5706, '김진영': 5707, '망라': 5708, '구제': 5709, '위대하다': 5710, '에바': 5711, '닼': 5712, '예상외': 5713, '사면': 5714, '항모': 5715, '비난': 5716, '음매': 5717, '조마조마하다': 5718, '딸딸': 5719, '표기': 5720, '노드': 5721, '화상회의': 5722, '연산자': 5723, '로라': 5724, '대인': 5725, '어플': 5726, '성숙하다': 5727, '매니저': 5728, '일반인': 5729, '고해': 5730, '다물다': 5731, '상쇄': 5732, '쨋': 5733, '인형': 5734, '입히다': 5735, '엄포': 5736, '만이': 5737, '교체': 5738, '롱': 5739, '페북': 5740, '태우다': 5741, '거르': 5742, '호호': 5743, '쌍': 5744, '적정하다': 5745, '빈틈': 5746, '명강러': 5747, '전보': 5748, '무책임하다': 5749, '꼬투리': 5750, 'ㅅㅌㅊ': 5751, '빠듯하': 5752, '트롤': 5753, '진부하다': 5754, '그만하다': 5755, '체고': 5756, '개지': 5757, '적합': 5758, '사고방식': 5759, '진가': 5760, '상정': 5761, '가평': 5762, '문도': 5763, '어눌하다': 5764, '교생실습': 5765, '가라': 5766, '안내서': 5767, '밤새': 5768, '복소평면': 5769, '사인': 5770, '되돌아가다': 5771, '이견': 5772, '오금': 5773, '조직행동': 5774, '몰입도': 5775, '논점': 5776, '비틀즈': 5777, '직면': 5778, '하여금': 5779, '겸사겸사': 5780, '이익': 5781, '퍼주': 5782, '축제': 5783, '조마': 5784, '소중하다': 5785, '쓸모없다': 5786, '재검': 5787, '마는': 5788, '튜링머신': 5789, '지레': 5790, '대망': 5791, '형평성': 5792, '연구자': 5793, '러쉬': 5794, '코리아': 5795, '혜택': 5796, '꼰머': 5797, '김단비': 5798, '존버': 5799, '무니': 5800, '아메리카': 5801, '찌푸리다': 5802, '어떡하다': 5803, '기만': 5804, '선녀': 5805, '꿋꿋': 5806, '제멋대로': 5807, '크루스': 5808, '선언': 5809, '관련성': 5810, '중립': 5811, '자로': 5812, '해석학': 5813, '풀강': 5814, '불타다': 5815, '가을': 5816, '갈등': 5817, '태어나다': 5818, '다난하다': 5819, 'ㅠㅠㅠㅠㅠㅠㅠㅠㅠㅠ': 5820, '는': 5821, '추임새': 5822, '더니': 5823, '결제': 5824, '이재훈': 5825, '하사': 5826, '흠잡다': 5827, '비즈니스모델': 5828, '일자': 5829, '어엄청': 5830, '스케쥴링': 5831, '불친절': 5832, '기침': 5833, '함강': 5834, '클라이언트': 5835, '확랜': 5836, '콤보': 5837, '시청각': 5838, '강의셔': 5839, '보답': 5840, '옷': 5841, '운체': 5842, '행론': 5843, '슬쩍': 5844, '판별': 5845, '오죽하다': 5846, '템플릿': 5847, '제의': 5848, '자릿수': 5849, '근간': 5850, '마시다': 5851, '고치': 5852, '감격': 5853, '탁': 5854, '리액션': 5855, 'ㅠㅠㅠㅠㅠㅠㅠ': 5856, '미소': 5857, '마음껏': 5858, '회화': 5859, '구조도': 5860, '뉴런': 5861, '어중간하다': 5862, '권위자': 5863, '우울증': 5864, '흔쾌하다': 5865, '속이다': 5866, '레': 5867, '셀': 5868, '외국어': 5869, '험난하다': 5870, '차별성': 5871, '젝': 5872, '풍': 5873, '타이트': 5874, '조명': 5875, 'ㅂㄷㅂㄷ': 5876, '부동산': 5877, '구려': 5878, '격상': 5879, '무안': 5880, '정비례': 5881, '끙끙대다': 5882, '옹': 5883, '꼽자': 5884, '기획서': 5885, '테크닉': 5886, '라스': 5887, '포아': 5888, '네트워킹': 5889, '이자율': 5890, '퍼주셔': 5891, '흐지부지': 5892, '벌써': 5893, '재벌': 5894, '리사': 5895, '삼일': 5896, '피식': 5897, '늦잠': 5898, '곁가지': 5899, '단일': 5900, '카': 5901, '헤헤': 5902, '차관': 5903, '고프다': 5904, '극혐': 5905, '대결': 5906, '종교사회학': 5907, '냉소': 5908, '안소영': 5909, '시리다': 5910, '이닝': 5911, '라진': 5912, '섬세하다': 5913, '땡': 5914, '연인': 5915, '참가자': 5916, '예리하다': 5917, '더욱이': 5918, '통데': 5919, '버금': 5920, '루틴': 5921, '괄호': 5922, '똑': 5923, '반입': 5924, '포장': 5925, '웃': 5926, '취약': 5927, '엉엉': 5928, '청하면': 5929, '스릴': 5930, '만남': 5931, '타이밍': 5932, '북임': 5933, '유한': 5934, '위안': 5935, '파파': 5936, '칭': 5937, '자아': 5938, '동반': 5939, '심해': 5940, '깨우다': 5941, '교내': 5942, '머릿': 5943, '결함': 5944, '당부': 5945, '따리': 5946, '초이': 5947, '보스': 5948, '정빈': 5949, '랴': 5950, '프로세싱': 5951, '국제무역': 5952, '바퀴': 5953, '불안': 5954, 'ㅕ': 5955, '구석구석': 5956, '얄짤': 5957, '재학': 5958, '윌킨슨': 5959, '일어나고': 5960, '타인': 5961, '무턱': 5962, '다짐': 5963, '선점': 5964, '사칙연산': 5965, '기조': 5966, '몸소': 5967, '플랜': 5968, '학살': 5969, '긴지': 5970, '모음': 5971, '교신': 5972, '극도': 5973, '정승': 5974, '세밀': 5975, '바라지': 5976, '온라인과': 5977, '지엽': 5978, '빌드업': 5979, '어처구니': 5980, '권유': 5981, '라인강': 5982, '깔깔': 5983, '구체화': 5984, '경청': 5985, '닥치고': 5986, '남북한': 5987, '마자': 5988, '애매': 5989, '적자': 5990, '다듬다': 5991, '서울': 5992, '동일': 5993, '순전하다': 5994, '비약': 5995, '족': 5996, '후다닥': 5997, '낚시': 5998, '체득': 5999, '페널티': 6000, '웅얼': 6001, '승민': 6002, '예행': 6003, '신시': 6004, '혹평': 6005, '액셀': 6006, '패러독스': 6007, '지심': 6008, '폭발': 6009, '햇습니': 6010, '터틀': 6011, '복병': 6012, '감고': 6013, '핵전': 6014, '미제': 6015, '황인준': 6016, '마이클': 6017, '김철': 6018, '박스': 6019, '대수학': 6020, '털다': 6021, '이동': 6022, '욕구': 6023, '최애': 6024, '코랩': 6025, '부와': 6026, '라이': 6027, '진행중': 6028, '얼버무리다': 6029, 'ㅎㅎㅎㅎㅎ': 6030, '의치': 6031, '절절': 6032, '원문': 6033, '연도': 6034, '쫄았었는데': 6035, '퍼정': 6036, '호흡': 6037, '쿤': 6038, '대지': 6039, '신뢰구간': 6040, '와우': 6041, '무시무시하다': 6042, '치료': 6043, '닫다': 6044, '휴대폰': 6045, '인대': 6046, '크드': 6047, '심플': 6048, '정상인': 6049, '회로이론': 6050, '롤링': 6051, '숙련': 6052, '민심': 6053, '푸리에변환': 6054, '활자': 6055, '터리': 6056, '중증': 6057, '폐': 6058, '안식': 6059, '검': 6060, '명제': 6061, '대한민국': 6062, '정확도': 6063, '알맹이': 6064, '뚫리다': 6065, '정안': 6066, '괴물': 6067, '테일': 6068, '갑': 6069, '심보': 6070, '범죄사회학': 6071, '애하': 6072, '지도자': 6073, '동지': 6074, '장술': 6075, '감기': 6076, '억지': 6077, '미약': 6078, '집필': 6079, '달려가다': 6080, '렉처': 6081, '천국': 6082, '김익수': 6083, '가입': 6084, '원한': 6085, '스트레이트': 6086, '덕인': 6087, '일인': 6088, '금고': 6089, '삼성': 6090, '림': 6091, '돋다': 6092, '신설': 6093, '려니': 6094, '재질': 6095, '조별': 6096, '다분': 6097, '아메리칸': 6098, '컨디션': 6099, '뚝배기': 6100, '말르다': 6101, '주술': 6102, '금물': 6103, '리해': 6104, '버무려': 6105, '컨트롤': 6106, '떡': 6107, '채용': 6108, '로큰롤': 6109, '존재론': 6110, '가치론': 6111, '비문': 6112, '급박하다': 6113, '한시': 6114, '말실수': 6115, '식은땀': 6116, '하얘지다': 6117, '즐거움': 6118, '권고': 6119, '밑줄': 6120, '학습자': 6121, '살이': 6122, '산발': 6123, '기후변화': 6124, '전세계': 6125, '메이킹': 6126, '악마': 6127, '시한': 6128, '기능주의': 6129, '인코딩': 6130, '묵묵하다': 6131, '참작': 6132, '왜곡': 6133, '시나리오': 6134, '경악': 6135, '팀프': 6136, '실물': 6137, '추강': 6138, '점심': 6139, '빼기': 6140, '사냥': 6141, '난사': 6142, '기형': 6143, '지고': 6144, '합병': 6145, '감지': 6146, '출연': 6147, '전지': 6148, '초도': 6149, '리소스': 6150, '스토어': 6151, '달러': 6152, '분해': 6153, '초등학생': 6154, '토킹': 6155, '카운트': 6156, '듬': 6157, '명답': 6158, '이석주': 6159, '상도': 6160, '타고': 6161, '얽매': 6162, '센터': 6163, '졸프': 6164, '올드': 6165, '예감': 6166, '중인': 6167, '엔간하다': 6168, 'ㅠㅜㅜ': 6169, '다언어': 6170, '도감': 6171, '태동': 6172, '쾌적하다': 6173, '동사': 6174, '명명': 6175, '백퍼센트': 6176, '뚜': 6177, '독일': 6178, '막말': 6179, '정반대': 6180, '물음': 6181, '발상': 6182, '노총': 6183, '하드': 6184, 'ㅐ': 6185, '박자': 6186, '도해': 6187, '정호원': 6188, '앤드류': 6189, '녹취': 6190, '감시': 6191, '스페셜': 6192, '라거': 6193, '강남': 6194, '항수': 6195, '따땃': 6196, '마이': 6197, '라이프': 6198, '단번': 6199, '물체': 6200, '소음': 6201, '음중': 6202, '측': 6203, '들여다보다': 6204, '군데군데': 6205, '위쪽': 6206, '구동': 6207, '고백': 6208, '오피셜': 6209, '방금': 6210, '곧이곧대로': 6211, '어른': 6212, '네이티': 6213, '십오분': 6214, '모이': 6215, '동네': 6216, '폭주기관차': 6217, '정화': 6218, '마이크로': 6219, '학강': 6220, '정오': 6221, '양하': 6222, '늘어놓다': 6223, '호평': 6224, '배신': 6225, '선뜻': 6226, '한도': 6227, '시크': 6228, '끝없다': 6229, '패치': 6230, '제너럴': 6231, '의성': 6232, '안팎': 6233, '막막': 6234, '지루': 6235, '구가': 6236, '달리기': 6237, 'ㅋㅋㅋㅋㅋㅋㅋㅋㅋㅋㅋ': 6238, '상반기': 6239, '지정도': 6240, '금세': 6241, '지뢰': 6242, '일대일': 6243, '으으': 6244, '서로서로': 6245, '달려오다': 6246, '스리': 6247, '상관분석': 6248, '깍': 6249, '어감': 6250, '빠져나가다': 6251, '지워지다': 6252, '집어넣다': 6253, '정경': 6254, '드럽다': 6255, '우수수': 6256, '젠데': 6257, '관여': 6258, '명인': 6259, '티나': 6260, '제어': 6261, '사진촬영': 6262, '일쑤': 6263, '정권': 6264, '스케일': 6265, '지구': 6266, '차감': 6267, '불확실하다': 6268, '한일': 6269, '이례': 6270, '노하우': 6271, '경이': 6272, '비타민': 6273, '직무': 6274, '택해': 6275, '내적': 6276, '미분법': 6277, '적분법': 6278, '극좌표': 6279, '편미분': 6280, '일자리': 6281, '쵸': 6282, '년전': 6283, '파이프': 6284, '후딱': 6285, '가짜': 6286, '타당성': 6287, '축약': 6288, '야매': 6289, '주안': 6290, '워밍업': 6291, '맨딩': 6292, '초청강연': 6293, '자질': 6294, '해독': 6295, '쉬엄쉬엄': 6296, '간주': 6297, '모래': 6298, '퉁': 6299, '상반': 6300, '임해': 6301, '용량': 6302, '분노하다': 6303, '변명': 6304, '자서전': 6305, '모집단': 6306, '논리성': 6307, '꼴다': 6308, '실적': 6309, '둘러보다': 6310, '체강': 6311, '일해': 6312, '떤다': 6313, '땡기다': 6314, '사하다': 6315, '베일': 6316, '눈앞': 6317, '부심': 6318, '커브': 6319, '낙오': 6320, 'ㅍ': 6321, '시그널': 6322, '조그만': 6323, '빚': 6324, '김현철': 6325, '장치': 6326, '하루나': 6327, '이브': 6328, '시나': 6329, '한강': 6330, '찍기': 6331, '구멍': 6332, '숙달하다': 6333, '험준': 6334, '선교': 6335, '탁탁': 6336, '블루': 6337, '숫점': 6338, '부도': 6339, '린다': 6340, '상해': 6341, '사수': 6342, '청산유수': 6343, '군대': 6344, '오심': 6345, '삽입': 6346, '맛있다': 6347, '익명': 6348, '녀석': 6349, '일수': 6350, '주석': 6351, '메모장': 6352, '커뮤니티': 6353, '증말': 6354, '의심스럽다': 6355, '식인': 6356, '확연': 6357, '반기': 6358, 'ㅓ': 6359, '구애': 6360, '모험': 6361, '어지럽다': 6362, '대천사': 6363, '빼주': 6364, '계해': 6365, '간전': 6366, '회계원': 6367, '개인정보': 6368, '유출': 6369, '병': 6370, '전술': 6371, '간간이': 6372, '턱걸이': 6373, '진하다': 6374, '든든하다': 6375, '다예': 6376, '영업': 6377, '흑화': 6378, '개쉬움': 6379, '청해': 6380, '자가': 6381, '민모': 6382, '원망': 6383, '사범대': 6384, 'ㅠㅠㅜ': 6385, '샤프': 6386, '바다': 6387, '이스': 6388, '비모수통계': 6389, '쿤터커': 6390, '드북': 6391, '제재': 6392, '생기지': 6393, '작아지다': 6394, '실현': 6395, '과극': 6396, 'ㅏㄷ': 6397, '증': 6398, '예술': 6399, '선방': 6400, '마음속': 6401, '고안': 6402, '축복': 6403, '더디다': 6404, '셨으': 6405, '청': 6406, '독단': 6407, '낯': 6408, '정치학': 6409, '선옵': 6410, '인내': 6411, '석사': 6412, '명찰': 6413, '먹듯': 6414, '퇴실': 6415, '강단': 6416, '김봉선': 6417, '비쁠정': 6418, '서론': 6419, '심영': 6420, '낑낑대다': 6421, '웹페이지': 6422, '물류': 6423, '스님': 6424, '보구': 6425, '씨피': 6426, '탁월하다': 6427, '점일': 6428, '초잉': 6429, '시반': 6430, '슬렁슬렁': 6431, '퇴': 6432, '가닥': 6433, '심각해지다': 6434, '오류로': 6435, '먄': 6436, '성해': 6437, '배길수': 6438, '협박': 6439, '아무쪼록': 6440, '파시': 6441, '애플리케이션': 6442, '기사도': 6443, '흡수': 6444, '허겁지겁': 6445, '확산': 6446, '카르노': 6447, '밤샘': 6448, '달기': 6449, '펑크': 6450, '매달리다': 6451, '마크다운': 6452, '헬로': 6453, '뵀': 6454, '갱': 6455, '찬스': 6456, '연휴': 6457, '오점': 6458, '순삭': 6459, '진창': 6460, '여정': 6461, '입담': 6462, '리더': 6463, '처지다': 6464, '뉴비': 6465, '크나크다': 6466, '흥': 6467, '완강': 6468, '로시': 6469, '기일': 6470, '임호': 6471, '희생': 6472, '패닉': 6473, '꼽주': 6474, '독보': 6475, '끼어들다': 6476, '기운': 6477, '까닭': 6478, '되살리다': 6479, '피지': 6480, '태원': 6481, '사뭇': 6482, '부적합하다': 6483, '마땅치': 6484, '포자': 6485, '신가': 6486, '공업': 6487, '잘맞다': 6488, '마더': 6489, '드롭': 6490, '세로': 6491, '조건문': 6492, '요지': 6493, '구로': 6494, '죄': 6495, '피로하다': 6496, '잼': 6497, '상가': 6498, '전역': 6499, '빵꾸': 6500, '룰': 6501, '재영': 6502, '게을리': 6503, '조기': 6504, '지기': 6505, '정수': 6506, '꼽으라': 6507, '이벤트': 6508, '세례': 6509, '달랑': 6510, '명진': 6511, '기막히다': 6512, '갈래': 6513, '엔트로피': 6514, '이토': 6515, '동물': 6516, '밴드': 6517, '덕후': 6518, '대중': 6519, '데리': 6520, '현안': 6521, '서브': 6522, '정진': 6523, '가라앉다': 6524, '벌레': 6525, '아보': 6526, '어딘': 6527, '루': 6528, '은총': 6529, '누리다': 6530, '과열': 6531, '미완성': 6532, '거가': 6533, '담화': 6534, '방점': 6535, '듯학': 6536, '문구': 6537, '이리': 6538, '커맨드': 6539, '로스': 6540, '섹션': 6541, '만연하다': 6542, '고만고만하다': 6543, '불참': 6544, '쬐다': 6545, '캐글': 6546, '웠습': 6547, '웹캠': 6548, '갈기': 6549, '카와이': 6550, '곱셈': 6551, '치우다': 6552, '감수성': 6553, '심학': 6554, '위파': 6555, '당첨': 6556, '데표세': 6557, '피상': 6558, '희소행렬': 6559, '참되다': 6560, '스케일링': 6561, '기묘하다': 6562, '뛰어가다': 6563, '극명하다': 6564, '짐멜': 6565, '부활': 6566, '내부': 6567, '순환': 6568, '소심하다': 6569, '정평': 6570, '띄엄띄엄': 6571, '꼬아놓': 6572, '질병': 6573, '아빠': 6574, '삼천포': 6575, '구비': 6576, '아시아': 6577, '열심': 6578, '홍보': 6579, '성취량': 6580, '사물인터넷': 6581, '플립드': 6582, '완독': 6583, '게스트': 6584, '부스': 6585, 'ㅠㅅㅠ': 6586, '구하라': 6587, '의논': 6588, '절평컷': 6589, '껄': 6590, '재무상태표': 6591, '전기': 6592, '쩔다': 6593, '경쟁률': 6594, '서서': 6595, '내색': 6596, '제자': 6597, '녹음기': 6598, '열시미': 6599, '오늘날': 6600, '온도': 6601, '철회': 6602, '외치': 6603, '골로': 6604, '요타': 6605, 'ㅠㅜㅠㅜ': 6606, '찰지다': 6607, '무릎': 6608, '비트': 6609, '시킴': 6610, '추석': 6611, '자유도': 6612, '서툴다': 6613, '울리다': 6614, '볼륨': 6615, '오프닝': 6616, '여건': 6617, '샛별': 6618, '깨지다': 6619, '추첨': 6620, '똥망': 6621, '뼛속': 6622, '더블': 6623, '넌지시': 6624, '다채롭': 6625, '물리다': 6626, '회복': 6627, '깨끗하다': 6628, '덕이': 6629, '치루': 6630, '지배구조': 6631, '반전': 6632, '프림': 6633, '헌터': 6634, '또다시': 6635, '알짝': 6636, '꿀잼': 6637, '행해지다': 6638, '축하': 6639, '카훗': 6640, '늡니': 6641, '응원': 6642, '공과': 6643, '문인진': 6644, '장내': 6645, '자주자주': 6646, '꽁': 6647, '맥북': 6648, '아티': 6649, '불문': 6650, '말주변': 6651, '아키텍쳐': 6652, '상용': 6653, '애교': 6654, '휴학생': 6655, '텐데': 6656, '성비': 6657, '정찬영': 6658, '통반': 6659, '부여잡다': 6660, '어째': 6661, '김다연': 6662, '약탈': 6663, '게재': 6664, '긴장감': 6665, '모자라': 6666, '나마': 6667, '다크': 6668, '주욱': 6669, '고의': 6670, '조율': 6671, '어르다': 6672, '하청': 6673, '오오오오오오오오': 6674, 'ㅏㅇ': 6675, '으아아': 6676, '김동철': 6677, '건택': 6678, '티어': 6679, '검수': 6680, '받아쓰기': 6681, '사회주의': 6682, '멋': 6683, '블로그': 6684, '수반': 6685, '지방': 6686, '산수': 6687, '비합리적': 6688, '캔버스': 6689, '임시': 6690, '수긍': 6691, '방어': 6692, '안녕하다': 6693, '대외': 6694, '대기업': 6695, '하리': 6696, '수행평가': 6697, '탈출': 6698, '다다익선': 6699, '실감': 6700, '마왕': 6701, '컬트': 6702, '감각기관': 6703, '불어': 6704, '멱살': 6705, '노릇': 6706, '유우': 6707, '알리다': 6708, '범죄학': 6709, '리라': 6710, '가려내다': 6711, '계산량': 6712, '결혼': 6713, '유연성': 6714, '빡셌음': 6715, '헛': 6716, '신식': 6717, '이상호': 6718, '드문드문': 6719, '옆모습': 6720, '수십': 6721, '우울하다': 6722, '트릴로지': 6723, '블': 6724, '나부랭이': 6725, '무식': 6726, '징': 6727, '잔잔하다': 6728, '치룹': 6729, '가구': 6730, '개년치': 6731, '로이': 6732, '해지': 6733, '빈익빈': 6734, '부익부': 6735, '동감': 6736, '치사하다': 6737, '알고싶다': 6738, '함학': 6739, '인조': 6740, '훈': 6741, '긴급': 6742, '구들': 6743, '기구': 6744, '다보탑': 6745, '모바일': 6746, '교육자': 6747, '혼동': 6748, '편찮다': 6749, '대용': 6750, '해킹': 6751, '태클': 6752, '띡': 6753, '임기응변': 6754, '알림': 6755, '리가': 6756, '특출나다': 6757, '자랑스럽다': 6758, '구별': 6759, '베스트': 6760, '말문': 6761, '판매': 6762, '약물': 6763, '냅다': 6764, '소지': 6765, '자애롭다': 6766, '부언': 6767, '신입': 6768, '쭈욱': 6769, '사문': 6770, '아리': 6771, '강화하다': 6772, '하드캐리': 6773, '레드': 6774, '짱짱하다': 6775, '조세': 6776, '주현': 6777, '만듭니': 6778, '바사삭': 6779, '신속하다': 6780, '미워하다': 6781, '컨설팅': 6782, '김지은': 6783, '정착': 6784, '퍼다': 6785, 'ㄱㅇㄷ': 6786, '무례하다': 6787, '개떡': 6788, '성차별': 6789, '물건': 6790, '역다': 6791, '옆집': 6792, '실강때': 6793, '헤멜': 6794, '주문': 6795, '공고': 6796, '복리': 6797, '미처': 6798, '대수': 6799, '닫히다': 6800, '프로테스탄트': 6801, '환경오염': 6802, '노후': 6803, '테크니컬': 6804, '캠퍼스': 6805, '조형': 6806, '음소거': 6807, '파이': 6808, '번점': 6809, '해프닝': 6810, '빠': 6811, '숄': 6812, '질적연구': 6813, '비선형': 6814, '평일': 6815, '국룰': 6816, '부리면': 6817, '롤': 6818, '모되': 6819, '편안': 6820, '간당간당': 6821, '라그': 6822, '장염': 6823, '아악': 6824, 'ㅛ': 6825, '산더미': 6826, '안드로이드': 6827, '계이': 6828, '뭔갈': 6829, '괴수': 6830, '찔끔': 6831, '입맛': 6832, '공략': 6833, '하얗다': 6834, '일과': 6835, '저렇다': 6836, '기승': 6837, '잘나다': 6838, '봬': 6839, '연륜': 6840, '표류': 6841, '주인공': 6842, 'ㅎㅌㅊ': 6843, '나사': 6844, '벡스': 6845, 'ㄷㅏ': 6846, '박명': 6847, '크시': 6848, '늘어서다': 6849, '주니': 6850, '전파': 6851, '사생활': 6852, '침해': 6853, '들락날락': 6854, '인플레이션': 6855, '나왓': 6856, '둘러싸다': 6857, '래디언트': 6858, '그쵸': 6859, '계급': 6860, '탈컴': 6861, '달라붙다': 6862, '들어맞다': 6863, '용납': 6864, '대륙': 6865, '투철': 6866, '진작': 6867, '콕': 6868, '할아버지': 6869, '존경심': 6870, '낮잠': 6871, '아량': 6872, '쥐': 6873, '첫인상': 6874, '아하': 6875, '페이징': 6876, '덮다': 6877, '컴터': 6878, '증진': 6879, '작': 6880, '불쾌하다': 6881, '쑥쑥': 6882, '파고': 6883, '검산': 6884, '곤혹': 6885, '서지영': 6886, '다분하다': 6887, '느님': 6888, '주민': 6889, '실러': 6890, '가중': 6891, '철칙': 6892, '스피커': 6893, '로나': 6894, '자용쿠': 6895, '소유': 6896, '휙휙': 6897, '비결': 6898, '아등바등': 6899, '걱정스럽다': 6900, '로우': 6901, '잃어버리다': 6902, '애로': 6903, '전임': 6904, '신경학': 6905, '프로필': 6906, '악랄하다': 6907, '갑갑하다': 6908, '되돌리다': 6909, '복학생': 6910, '토마스': 6911, '과학사회학': 6912, '연달': 6913, '정보량': 6914, '회시': 6915, '오아시스': 6916, '다반사': 6917, '꾸리': 6918, '못내': 6919, '연금': 6920, '분수': 6921, '부재': 6922, '프레임워크': 6923, '요명': 6924, '뭐시기': 6925, '쩐다': 6926, '고질': 6927, '지수분포': 6928, '당한': 6929, '예정자': 6930, '한창': 6931, '의안': 6932, '일등': 6933, '뵀는데': 6934, '교차': 6935, '활약': 6936, '정복': 6937, '스노우볼': 6938, '교가': 6939, '반시': 6940, '입시': 6941, '벌리다': 6942, '대명사': 6943, '허덕이다': 6944, '사설': 6945, '구심': 6946, '크리스': 6947, '정보사회학': 6948, '덕목': 6949, '짬밥': 6950, '어렴': 6951, '나가요': 6952, '마르다': 6953, '디게': 6954, '요원': 6955, '인덱스': 6956, '김석호': 6957, '식겁하다': 6958, '음악사': 6959, '앨범': 6960, '심신': 6961, '수경': 6962, '에피소드': 6963, '행태': 6964, '맞대다': 6965, '갈아엎다': 6966, '학계': 6967, '팀워크': 6968, '제본': 6969, '대별': 6970, '객': 6971, '쿠클루': 6972, '보더': 6973, '이데올로기': 6974, '속성': 6975, '메이트': 6976, '욧': 6977, '품질': 6978, '이선민': 6979, '남성': 6980, '김승룡': 6981, '덩어리': 6982, '가공': 6983, '따스하다': 6984, '강때': 6985, '과자': 6986, '비치': 6987, '업그레이드': 6988, '실재': 6989, '덤비다': 6990, '계세': 6991, '반신반의': 6992, '연출': 6993, '습니': 6994, '이재혁': 6995, '독강러들': 6996, '그런대로': 6997, '최기홍': 6998, '무기': 6999, '클라스': 7000, '헤더': 7001, '브랜딩': 7002, '유료': 7003, '스코어': 7004, '드러내다': 7005, '벌이다': 7006, '메커니즘': 7007, '박알': 7008, '전강': 7009, '통화': 7010, '손대다': 7011, '차팀': 7012, '유려': 7013, '조화': 7014, '정당하다': 7015, '실연': 7016, '재학생': 7017, '하나같이': 7018, '교우': 7019, '눈물나다': 7020, '호랑이': 7021, '남한': 7022, '무재': 7023, '훠': 7024, '얼씬': 7025, '와장창': 7026, '배민': 7027, '말끝': 7028, '수펙스홀': 7029, '유의사항': 7030, 'ㅆㅎㅌㅊ': 7031, '피칭': 7032, '마구마구': 7033, '세뇌': 7034, '어드밴티지': 7035, '면지': 7036, '당초': 7037, '아날로그': 7038, '이동섭': 7039, '설다': 7040, '세금': 7041, '동원': 7042, '고시생': 7043, '누': 7044, '로망': 7045, '기질': 7046, '해쉬': 7047, '보경': 7048, '주전자': 7049, '단술': 7050, '포뮬': 7051, '전인': 7052, '떨치다': 7053, '호로': 7054, '돌아서다': 7055, '일품': 7056, '한영': 7057, 'ㅅㅈ': 7058, '말점': 7059, '험비': 7060, '자장가': 7061, '바이': 7062, '겅': 7063, '시가': 7064, '질물': 7065, '아카데믹': 7066, '생태계': 7067, '자임': 7068, '앤젤': 7069, '요렇게': 7070, '굴리': 7071, '남북': 7072, '은제': 7073, '대도': 7074, '재정': 7075, '칠하다': 7076, '라떼': 7077, '녹강임': 7078, '혼나다': 7079, '시로': 7080, '안목': 7081, '오락가락': 7082, '사족': 7083, '해대': 7084, '끙끙': 7085, '앓다': 7086, '약식': 7087, '소용돌이': 7088, '오만하다': 7089, '도달': 7090, '애도': 7091, '포스트': 7092, '매수': 7093, '찰': 7094, '둔감하다': 7095, '자문': 7096, '부차': 7097, '호에': 7098, '땡큐': 7099, '한가운데': 7100, '지로': 7101, '아가시': 7102, '국외': 7103, '어긋나게': 7104, '수업료': 7105, '강중': 7106, '졸이다': 7107, '대두': 7108, '일찍이': 7109, '노노': 7110, '작살': 7111, '테일러': 7112, '식곤증': 7113, '라지': 7114, '본대': 7115, '고장': 7116, '산업화': 7117, '근로': 7118, '뭣모르': 7119, '김재호': 7120, '파헤치다': 7121, '무지무지': 7122, '고양': 7123, '아카데미': 7124, '채널': 7125, '플밍': 7126, '꿀임': 7127, '메우다': 7128, '어우러지다': 7129, '오버플로우': 7130, '저걸': 7131, '바디': 7132, '플레이': 7133, '캐릭터': 7134, '버벅거리': 7135, '노랗다': 7136, '플래시': 7137, '헀': 7138, '전출': 7139, '목격자': 7140, '거북하다': 7141, '퇴근': 7142, '우왕': 7143, '의미론': 7144, '소보': 7145, '건네주다': 7146, '굇수들': 7147, '재밋어': 7148, '외계어': 7149, '혼잡하다': 7150, '위축': 7151, '하란': 7152, '가려진': 7153, '자칫하면': 7154, '촘촘': 7155, '쾌감': 7156, '태반': 7157, '다난': 7158, '푸신': 7159, '제도로': 7160, '대담': 7161, '실명': 7162, '전전': 7163, '연상': 7164, '평강': 7165, '뻘': 7166, '딴지': 7167, '바하': 7168, 'ㅏㅏ': 7169, '갠차다': 7170, 'ㅏㅏㅏㅏㅏ': 7171, '비호감': 7172, '은은하다': 7173, '스크린샷': 7174, '자유분방하다': 7175, 'ㄱㄴㄷㄹ': 7176, '박혜순': 7177, '야심': 7178, '오우': 7179, '러블리': 7180, '무효': 7181, '반토막': 7182, '미비하다': 7183, '컨설턴트': 7184, '하고프다': 7185, '이루': 7186, '헬임': 7187, '다져지다': 7188, '어후': 7189, '카더라': 7190, '내장': 7191, '적재적소': 7192, '전담': 7193, '구합': 7194, '강독': 7195, '바꿈': 7196, '컨데': 7197, '개헬': 7198, '심성': 7199, '픽스': 7200, '제각각': 7201, '인수합병': 7202, '포로': 7203, '호주': 7204, '쿠쿠': 7205, '밥솥': 7206, '쌀': 7207, '수출': 7208, '취할': 7209, '오묘하다': 7210, '과장하다': 7211, '소서': 7212, '클릭': 7213, '공포증': 7214, '싱': 7215, '마시기': 7216, '신다해': 7217, '이행': 7218, '유인': 7219, '경제사': 7220, '시들다': 7221, '비도': 7222, '명꿀강': 7223, '기저': 7224, '시인': 7225, '양반': 7226, '필사': 7227, '연하다': 7228, '쩌': 7229, '검머외': 7230, '끊어지다': 7231, '너른': 7232, '사이드': 7233, '불현듯': 7234, '낙심': 7235, '별표': 7236, '만만': 7237, '라이트': 7238, '훌룡': 7239, '슉슉': 7240, '함양': 7241, '문답': 7242, '강타': 7243, '뭉개지': 7244, '푸르다': 7245, '퍼지다': 7246, '논쟁': 7247, '서안': 7248, '프로도': 7249, '알바': 7250, '찢어지다': 7251, '이인': 7252, '비젼': 7253, '눈부시다': 7254, '강등': 7255, '후우': 7256, '읊': 7257, '짜져': 7258, '아이러니': 7259, '튀기다': 7260, '한단': 7261, '각의': 7262, '얼렁뚱땅': 7263, '가모': 7264, '야기': 7265, '수상하다': 7266, '라그랑주': 7267, '급발진': 7268, '주파': 7269, '기염': 7270, '민컴': 7271, '이제야': 7272, '알라': 7273, '떼': 7274, '우기': 7275, '인재': 7276, '퍼펙트': 7277, '트랜스': 7278, '슈퍼': 7279, '귀요미': 7280, '포착': 7281, '애좀': 7282, '말임': 7283, '집기': 7284, '김태연': 7285, '스카이프': 7286, '압살': 7287, '예비군': 7288, '높낮이': 7289, '침묵': 7290, '통계툴': 7291, '프밍': 7292, '절평이셔': 7293, '날씨': 7294, '인심': 7295, '현역': 7296, '연결고리': 7297, '라즈베리파이': 7298, '원픽': 7299, '강동': 7300, '기인': 7301, '개성': 7302, '호의': 7303, '진솔하다': 7304, '울컥': 7305, '절차': 7306, '꿀좀': 7307, '통지': 7308, '엄하': 7309, '불꽃': 7310, '증언': 7311, '라이닝': 7312, '기차': 7313, '실업': 7314, '사악하다': 7315, '난항': 7316, '원중': 7317, '본의': 7318, '회수': 7319, '뇌신경': 7320, '일괄': 7321, '기전': 7322, '도안': 7323, '피보나치': 7324, '도량': 7325, '치루었습니': 7326, '교육심리학': 7327, '텍': 7328, '움직': 7329, '에이번': 7330, '갠플': 7331, '안기다': 7332, '당락': 7333, '수려': 7334, '코피': 7335, '어도': 7336, '악필': 7337, '방어기제': 7338, '소름': 7339, '수료': 7340, '급증': 7341, '정보기술': 7342, '적습': 7343, '읔': 7344, '파내다': 7345, '떄리다': 7346, '구라': 7347, '정교수': 7348, '마땅하다': 7349, '용구성': 7350, '마주치다': 7351, '소책자': 7352, '화상통화': 7353, '유길상': 7354, '마셈': 7355, '위약': 7356, '베이커리': 7357, '깜빡': 7358, '앞줄': 7359, '재현': 7360, '부울': 7361, '순차': 7362, '디안': 7363, '시문': 7364, '시경': 7365, '해안': 7366, '고고': 7367, '정체': 7368, '하나라': 7369, '트랜잭션': 7370, '삼위일체': 7371, '자연상수': 7372, '커다랗다': 7373, '심쿵': 7374, '거주': 7375, '모종': 7376, '공서': 7377, '틸리': 7378, '애애애': 7379, '경의': 7380, '반론': 7381, '아따': 7382, '님비': 7383, '나락': 7384, '엄천': 7385, '어진': 7386, '킷': 7387, '소리내다': 7388, '도하': 7389, 'ㅇㅔ': 7390, '경꽈': 7391, '유행': 7392, '안햇': 7393, '조그마하다': 7394, '뽀짝': 7395, '효용': 7396, '극대': 7397, '이주일': 7398, '샵': 7399, '소질': 7400, '오션': 7401, '열성': 7402, '발짝': 7403, '광명': 7404, '빵터지다': 7405, '피겨': 7406, '한몫': 7407, '과반수': 7408, '훨신': 7409, '을해': 7410, '미스': 7411, '북이면': 7412, '대차다': 7413, '들르다': 7414, '부모': 7415, '제정': 7416, '훤히': 7417, '냄새': 7418, '유추': 7419, '쪼꼼': 7420, '명당': 7421, '닦다': 7422, '정예': 7423, '마크': 7424, '차서': 7425, '미천하다': 7426, '가브리엘': 7427, '씁쓸하다': 7428, '이원규': 7429, '공리주의': 7430, '가난하다': 7431, '널럴했던': 7432, '품위': 7433, '두께': 7434, '아차': 7435, '의사코드': 7436, '유시': 7437, '반짝이다': 7438, '달이': 7439, '비정': 7440, '퍼센티지': 7441, '심배': 7442, '정식': 7443, '유치': 7444, '마코': 7445, '저쩌': 7446, '촘촘하': 7447, '이탈': 7448, '같아욤': 7449, '더구나': 7450, '등를': 7451, '이또': 7452, '컴퓨터그래픽스': 7453, '튕겨': 7454, '화이트칼라': 7455, '얄': 7456, '사후': 7457, '꿀잠': 7458, '갓태련': 7459, '관계대수': 7460, '도울': 7461, '승': 7462, '뭉치다': 7463, '떡하니': 7464, '시리': 7465, '줏대': 7466, '감성': 7467, '부자': 7468, '업도': 7469, '베인': 7470, '미학': 7471, '그릇': 7472, '허둥지둥': 7473, '신명철': 7474, '또랑또랑하다': 7475, '배고프다': 7476, '센서': 7477, '시원시원하다': 7478, '엑': 7479, '삼고': 7480, '맞춤': 7481, '놀': 7482, '역사상': 7483, '하나고': 7484, '자재': 7485, '번로': 7486, '개그맨': 7487, '부리나케': 7488, '간이': 7489, '대리': 7490, '도착': 7491, '통때': 7492, '핀볼': 7493, '장기': 7494, '본론': 7495, '극찬': 7496, '어리석다': 7497, '수타면': 7498, '수줍다': 7499, '열흘': 7500, '후위': 7501, '푹신하다': 7502, '영화관': 7503, '차라': 7504, '비비': 7505, '부단하다': 7506, '포닥': 7507, '막론': 7508, '조직론': 7509, '알아내다': 7510, '짜임': 7511, '괴상하다': 7512, '굉장': 7513, '중단': 7514, '가미': 7515, '대게': 7516, '변': 7517, '견인': 7518, '뒤적거릴': 7519, '팬클럽': 7520, '안키셔': 7521, '노고': 7522, '울림': 7523, '키트': 7524, '플립플롭': 7525, '카운터': 7526, '롬': 7527, '고교': 7528, '지체': 7529, '사양': 7530, '진수': 7531, '미진하다': 7532, '큐잉이론': 7533, '석차': 7534, '총회': 7535, '후려치다': 7536, '병주': 7537, '와이파이': 7538, '초유': 7539, '정점': 7540, '합당': 7541, '콩': 7542, 'ㅠㅜㅠ': 7543, '상쇄하': 7544, '잡학': 7545, '컨퍼런스': 7546, '안정감': 7547, '료': 7548, '우와': 7549, '명백하다': 7550, '열망': 7551, '복되다': 7552, '범죄이론': 7553, '따내다': 7554, '연다': 7555, '용한': 7556, '주변인': 7557, '비둘기': 7558, '나뵐': 7559, '뚫어지다': 7560, '박수': 7561, '칼럼': 7562, '돌기': 7563, '음주': 7564, '감행': 7565, '드랍해': 7566, '솔': 7567, '해먹': 7568, '오거': 7569, '생리': 7570, '서든': 7571, '카운팅': 7572, '친척': 7573, '도보': 7574, '패가': 7575, '언짢다': 7576, '임본': 7577, '진관': 7578, '얼얼하다': 7579, '휘발': 7580, '독강임': 7581, '뿌수기': 7582, '즉답': 7583, '구조체': 7584, '우아하다': 7585, '게임이론': 7586, '한결같다': 7587, '이따': 7588, '임국강': 7589, '너덜너덜하다': 7590, '실컷': 7591, '석관': 7592, '데미지': 7593, '뉴': 7594, '테스': 7595, '비상': 7596, '주거': 7597, '빛빛빛': 7598, '대요': 7599, '자율성': 7600, '카카오': 7601, '특화된': 7602, 'ㅕㄴ': 7603, '장대': 7604, '사투리': 7605, '언어능력': 7606, '엊': 7607, '텐서': 7608, '영식': 7609, '대중음악': 7610, '장르': 7611, '올드팝': 7612, '헐다': 7613, '웹서핑': 7614, '쌍방': 7615, '버릇': 7616, '느릿느릿': 7617, '사포': 7618, '위협': 7619, '남북관계': 7620, '그토록': 7621, '탈락': 7622, '뒤르캠': 7623, '수년': 7624, '내딛다': 7625, '급여': 7626, '리스': 7627, '뺑뺑': 7628, '량강': 7629, '피디': 7630, '심사': 7631, '택시': 7632, '그녀': 7633, '주요하다': 7634, '코세라': 7635, '복숭아': 7636, '짓거리': 7637, '뉴미디어': 7638, '저격': 7639, '토나오다': 7640, '퍼정도': 7641, '드나들다': 7642, '제격': 7643, '중첩': 7644, '함박': 7645, '스타트': 7646, '나태하다': 7647, '본받다': 7648, '트릭': 7649, '월말': 7650, '절평임': 7651, '임원': 7652, '승리': 7653, '요시키': 7654, '스타': 7655, '보물찾기': 7656, '파지': 7657, '다항식': 7658, '덧셈': 7659, '로저스': 7660, '희한하다': 7661, '심실': 7662, '불쑥': 7663, '통분': 7664, '입지': 7665, '구시대': 7666, '성공사례': 7667, '빠트리': 7668, '정히': 7669, '안남다': 7670, '내겐': 7671, '마지노선': 7672, '네모': 7673, '루스': 7674, '매진': 7675, '길일': 7676, '리하': 7677, '호감': 7678, '버벅대다': 7679, '초등학교': 7680, '신성': 7681, '구원': 7682, '양자역학': 7683, '조각': 7684, '어쩌라고': 7685, '나은지': 7686, '무대': 7687, '책임지다': 7688, '만기': 7689, '사상사': 7690, '공기': 7691, '이념형': 7692, '음료': 7693, '음식': 7694, '좀비': 7695, '엑세스': 7696, '스케줄러': 7697, '가상메모리': 7698, '인준': 7699, '조국': 7700, '위임': 7701, '호통': 7702, 'ㅋㅋㅋㅋㅋㅋㅋㅋ': 7703, '초심리학': 7704, '수영': 7705, '빡셌네': 7706, '프리미엄': 7707, '구리다': 7708, '중위': 7709, '하다못해': 7710, '충만': 7711, '느꼇습니': 7712, '자체드랍': 7713, '빠려': 7714, '풀타임': 7715, '무크': 7716, '독립': 7717, '햇음': 7718, '하트': 7719, '겨를': 7720, '소수만': 7721, '헤비': 7722, '말수': 7723, '근원': 7724, '출품': 7725, '칼답': 7726, '산학': 7727, '손익계산서': 7728, '빡셌어': 7729, '신고': 7730, '접수': 7731, '코인': 7732, '대량': 7733, '도배': 7734, '랩실': 7735, '쫄려': 7736, '몀': 7737, '서고': 7738, '조사법': 7739, '육박': 7740, '난리치다': 7741, '셤공부': 7742, '비쁠나옴': 7743, '정확': 7744, '맞먹다': 7745, '플사': 7746, '저자': 7747, '오오오': 7748, '무얼': 7749, '쩌렁쩌렁': 7750, '지법': 7751, '밀그램': 7752, '리드': 7753, '산화': 7754, '자살': 7755, '쫑알': 7756, '공해': 7757, '취준생': 7758, '삘': 7759, '세영': 7760, '미스터리': 7761, '하그': 7762, '건조하다': 7763, '벡': 7764, '우만': 7765, '심난': 7766, '뱉다': 7767, '테잌홈': 7768, '프로페': 7769, '양쪽': 7770, '솔버': 7771, '강계': 7772, '단독': 7773, '묻히다': 7774, '학장': 7775, '부작용': 7776, '벌': 7777, '희망이': 7778, '아르바이트': 7779, '콕콕': 7780, '늙다': 7781, '크리': 7782, 'ㅜㅅㅜ': 7783, '화기': 7784, '뇌구조': 7785, '사력': 7786, '재욱': 7787, '제수': 7788, '모먼트': 7789, '수혜자': 7790, '쥬륵': 7791, '통꽈': 7792, '아가': 7793, '유효하다': 7794, '로그아웃': 7795, '크루': 7796, '이하일': 7797, '흐트러질': 7798, '디쁠': 7799, '강렬하다': 7800, '녹초': 7801, '껄껄': 7802, '새삼': 7803, '양극화': 7804, '스페인어': 7805, '과전': 7806, '중생인': 7807, '요절': 7808, '조적': 7809, '정성스럽다': 7810, '컴퓨터그래픽': 7811, '겜프': 7812, '컴그': 7813, '초조하다': 7814, '셤문제': 7815, '엘리': 7816, '맑다': 7817, '뒤베': 7818, '함꿀강': 7819, '엄마': 7820, '괴팍하다': 7821, '맘스': 7822, '쿠폰': 7823, '빡쎕니': 7824, '버벅': 7825, '화차': 7826, '합응': 7827, '운전': 7828, '끌리다': 7829, '멘트': 7830, '청강생': 7831, '거절': 7832, '갈구다': 7833, '불충분하다': 7834, '멘토': 7835, '동아리': 7836, '베이지안': 7837, '끗': 7838, '배호킴': 7839, '개똥': 7840, '듯팀': 7841, '망가지다': 7842, '가나다': 7843, '상하': 7844, '재도': 7845, '님들': 7846, '이과인': 7847, '힐수': 7848, '즘': 7849, '분다': 7850, '소공': 7851, '무족': 7852, '세계사': 7853, '목숨': 7854, '니드': 7855, '버퍼링': 7856, '라든지': 7857, '몸부림': 7858, '사임': 7859, '차선': 7860, '싸랑': 7861, '햐': 7862, '종인': 7863, '동어반복': 7864, '회고': 7865, '과반': 7866, '난잡하다': 7867, '거르세': 7868, '퇴장': 7869, '타이머': 7870, '런해': 7871, '도형': 7872, '호다닥': 7873, '주르르': 7874, '륵': 7875, '셜': 7876, '한글파일': 7877, '끝임': 7878, '문지': 7879, '감저': 7880, '결점': 7881, '심사실': 7882, '듀레이션': 7883, '성명': 7884, '집요하다': 7885, '어투': 7886, '다시키': 7887, '물들다': 7888, '놉': 7889, '웟습': 7890, '감마분포': 7891, '특색': 7892, '디벨롭': 7893, '루하시': 7894, '관장': 7895, '양치기': 7896, '헷징': 7897, '뿌듯': 7898, 'ㅆㄱㄴ': 7899, '이모티콘': 7900, '훗날': 7901, '칼큘러스': 7902, '화폐': 7903, '자제': 7904, '선의': 7905, '미흡': 7906, '핀': 7907, '국내외': 7908, '찍어내다': 7909, '웅얼거리셔': 7910, '랍시고': 7911, '버클리': 7912, '간단명료': 7913, '마킹': 7914, '으쓱': 7915, '비유법': 7916, '청각': 7917, '교슈님': 7918, '악센트': 7919, '노곤': 7920, '문맥': 7921, '의대': 7922, '뇨': 7923, '싸하다': 7924, '성폭력': 7925, '코어': 7926, '뒤르케임': 7927, '요뇌': 7928, '돌파': 7929, '선명하다': 7930, '돌': 7931, '비밀번호': 7932, '갈겨': 7933, 'ㅜㅜㅜㅜㅜ': 7934, '듀': 7935, '미드': 7936, '교원': 7937, '여신': 7938, '점철': 7939, '객체지향언어': 7940, '꾸미다': 7941, '토론회': 7942, '폐지': 7943, '등기': 7944, '덤벼': 7945, '가우': 7946, '시안': 7947, '다시금': 7948, '당근': 7949, '성덕': 7950, '나하': 7951, '뜻밖': 7952, '암산': 7953, '매니지먼트': 7954, '직종': 7955, '미도': 7956, '장해': 7957, '벽돌': 7958, '다각': 7959, '말버릇': 7960, '리턴': 7961, '헤딩': 7962, '중혁': 7963, '지옥불': 7964, '꼴찌': 7965, '근접하다': 7966, '간평': 7967, '초고': 7968, '혹독하다': 7969, '선하다': 7970, '푹': 7971, '단박': 7972, '작정': 7973, '간극': 7974, '괴랄하': 7975, '백배': 7976, '완정': 7977, '통제': 7978, '거론': 7979, '상응': 7980, '질감': 7981, '분위': 7982, '마나': 7983, '이상일': 7984, '줌키': 7985, '뇌피셜입니': 7986, '팍팍하다': 7987, '대기': 7988, '돌려막기': 7989, '다스': 7990, '함교': 7991, '평년': 7992, '논리학': 7993, '껀': 7994, '연하': 7995, '판치다': 7996, '우선권': 7997, '브레인': 7998, '생심': 7999, '바램': 8000, '개칼': 8001, '교육과정': 8002, '번안': 8003, '스팸메일': 8004, '따분하다': 8005, '저급': 8006, '화로': 8007, '양보': 8008, '게뭐': 8009, '하차': 8010, '환': 8011, '몰래': 8012, '대쪽': 8013, '렉션': 8014, '학진': 8015, '알파이': 8016, '오메가': 8017, '지학': 8018, '텍스북': 8019, '값지다': 8020, '알아주다': 8021, '서투르다': 8022, '차때': 8023, '듭니다': 8024, '읭': 8025, '질책': 8026, '프랑': 8027, '생존': 8028, '구성요소': 8029, '소신': 8030, '상극': 8031, '나눗셈': 8032, '지끈': 8033, '유대': 8034, '썩다': 8035, '아득하다': 8036, '고항': 8037, '선보이다': 8038, '조사분': 8039, '마구잡이': 8040, '워셜': 8041, '플로이드': 8042, '물의': 8043, '반짝반짝': 8044, '잊혀지다': 8045, '다솔': 8046, '겸허': 8047, '수확': 8048, '강임': 8049, '신경망': 8050, '다이나믹': 8051, '수입': 8052, '스틱': 8053, '저쩌구': 8054, '속출': 8055, '방인': 8056, '서한': 8057, '백프로': 8058, '구색': 8059, 'ㅁㄹ': 8060, '갖': 8061, '담임': 8062, '격일': 8063, '형신': 8064, '뿌요뿌요': 8065, '임팩트': 8066, '금리': 8067, '서킷': 8068, 'ㅇㅓ': 8069, '떨어뜨리다': 8070, '신인': 8071, '곁': 8072, '두르다': 8073, '되찾다': 8074, '배당': 8075, '책일': 8076, '쿼터': 8077, '괜춘하': 8078, '펭수': 8079, '낭낭': 8080, '삼십분': 8081, '바이브': 8082, '다말': 8083, '군복': 8084, '포토샵': 8085, '흡족하다': 8086, '성숙': 8087, '메타': 8088, '식일': 8089, '중년': 8090, '데뷔': 8091, '받치다': 8092, '되새기다': 8093, '장마': 8094, '우회': 8095, '돌보다': 8096, '구조론': 8097, '이상인': 8098, '큼큼': 8099, '홍콩': 8100, '파지다': 8101, '팩폭': 8102, '탈모': 8103, '만학': 8104, '어영부영': 8105, '아오': 8106, '따로따로': 8107, '빠져들다': 8108, '가치판단': 8109, '찬반': 8110, '케인즈': 8111, '도식': 8112, '진의': 8113, '환경문제': 8114, '연명': 8115, '엉터리': 8116, '바닷물': 8117, '단디': 8118, '소프트': 8119, '멀어지다': 8120, '진짜루': 8121, '어카운팅': 8122, '립': 8123, '우르르': 8124, '주성분': 8125, '치루었': 8126, '식상하다': 8127, '키포인트': 8128, '알람': 8129, '틀림없다': 8130, '입하': 8131, '마상': 8132, '중화': 8133, '스피치': 8134, '농땡': 8135, '팀풀': 8136, '프라': 8137, '바짝하다': 8138, '재귀함수': 8139, '전무후무': 8140, '콩글리시': 8141, '중심극한정리': 8142, '휴가': 8143, '억': 8144, '헤': 8145, '취': 8146, '서두르다': 8147, '랍니': 8148, '인접': 8149, '클렌징': 8150, '씹히다': 8151, '짜오': 8152, '훈훈하다': 8153, '띵': 8154, '무어': 8155, '배보경': 8156, '무성의': 8157, '무뚝뚝하다': 8158, '음원': 8159, '함성': 8160, '대오': 8161, 'ㅈㅅ': 8162, '승질': 8163, '둥': 8164, '계정과목': 8165, '이징': 8166, '발굴': 8167, '들쑥날쑥': 8168, '항만': 8169, '보유': 8170, '심혈': 8171, '금은': 8172, '서무': 8173, '차세대': 8174, '증빙': 8175, '더블스페이스': 8176, '영화사': 8177, '드디어': 8178, '불타': 8179, '공기업': 8180, '피피': 8181, '따갑다': 8182, '용적': 8183, '학설': 8184, '호응': 8185, '안통': 8186, '가정폭력': 8187, '양육': 8188, '칼칼칼절': 8189, '숲': 8190, '묵적': 8191, '권한': 8192, '우대': 8193, '정수리': 8194, '머리카락': 8195, 'ㅆㅅㅌㅊ': 8196, 'ㅍㅌㅊ': 8197, '존잼임': 8198, '대인관계': 8199, '인과': 8200, '듯첫': 8201, '요별': 8202, '초면': 8203, '큐잉': 8204, '고가도': 8205, '흉내': 8206, '플라스틱': 8207, '절감': 8208, '한반도': 8209, '뭉클하다': 8210, '어쩌겠습': 8211, '통심': 8212, '시오': 8213, '자라다': 8214, '리즘': 8215, '지망': 8216, '밑바닥': 8217, '성용': 8218, '구이': 8219, '짧아지다': 8220, '비애': 8221, '신경계': 8222, '반발': 8223, '데이타': 8224, '하명': 8225, '만인': 8226, '보조개': 8227, '영화인': 8228, '은인': 8229, '이병주': 8230, '모르거나': 8231, '부모님': 8232, '뻘쭘할': 8233, '필욘': 8234, '백업': 8235, '앟': 8236, '서럽다': 8237, '뷰': 8238, '목욜': 8239, '금욜': 8240, '최고다': 8241, '제스쳐': 8242, '어렴풋하다': 8243, '넥스트': 8244, '지식인': 8245, '파일명': 8246, '살피': 8247, '다이지': 8248, '콘솔': 8249, '공언': 8250, '과잉': 8251, '장시간': 8252, '꿰': 8253, '실태': 8254, '유혹': 8255, '흐릿': 8256, '힘빠지다': 8257, '진해': 8258, '증원': 8259, '정정은': 8260, '승원': 8261, '목화': 8262, '국기법': 8263, '충당금': 8264, '거니': 8265, '포털': 8266, '상대로': 8267, '조만': 8268, '남아돌다': 8269, '떨리다': 8270, '시력': 8271, '체념하다': 8272, '어찌나': 8273, '등가교환': 8274, '상중하': 8275, 'ㅊ': 8276, '빛재웅': 8277, '수장': 8278, '차보': 8279, '멍멍': 8280, '캐': 8281, '체질': 8282, '다빡': 8283, '아홉시': 8284, '꽝': 8285, '어가': 8286, '짤때': 8287, '마이크로소프트': 8288, '숭숭': 8289, '무렵': 8290, '애꿎': 8291, '덕택': 8292, '매회': 8293, '도드라지다': 8294, '글빨': 8295, '업적': 8296, '케어': 8297, '징계': 8298, '모해': 8299, '죄책감': 8300, '편리': 8301, '폭언': 8302, '아이디': 8303, '비투비': 8304, '탁하다': 8305, '런타임': 8306, '묘미': 8307, '익': 8308, '코저': 8309, '날뛰다': 8310, '임학': 8311, '어셈블리어': 8312, '발자국': 8313, '추세': 8314, '동생': 8315, '유서': 8316, '드러눕다': 8317, '유구': 8318, '실정': 8319, '서번': 8320, '어쩌나': 8321, '생초': 8322, '장면': 8323, '에이만': 8324, 'ㅜㅜㅡ': 8325, '다합': 8326, '해부도': 8327, '비위': 8328, '꼼꼼': 8329, '왕성': 8330, '이대로': 8331, '팟': 8332, '뿔': 8333, '헀는데': 8334, '한다해': 8335, '나대다': 8336, '보정': 8337, '박지': 8338, '교바교': 8339, '거리셔': 8340, '다도': 8341, '루고': 8342, '파랑': 8343, '꽉차다': 8344, '틀어지다': 8345, '특별': 8346, '명작': 8347, '라라': 8348, '갑작스레': 8349, '이를테면': 8350, '짙다': 8351, '낭비하다': 8352, '필연': 8353, '완급': 8354, '단정': 8355, '별것': 8356, 'ㅜㅜㅜㅜㅜㅜㅜ': 8357, '뻘짓': 8358, '순하다': 8359, '수당': 8360, '중등': 8361, '간과': 8362, '과지': 8363, '무쟈': 8364, '연애': 8365, '분기': 8366, '필압': 8367, '색깔': 8368, '안녕': 8369, '멍청이': 8370, '버거': 8371, '캔유': 8372, '왤케': 8373, '완': 8374, '앞서서': 8375, '지그': 8376, '모국어': 8377, '개이득': 8378, '시그마': 8379, '자연로그': 8380, '기이하다': 8381, '근소': 8382, '외모': 8383, '석사과정': 8384, '비어': 8385, '병신': 8386, '끈': 8387, '주관성': 8388, '파트너': 8389, '자게': 8390, 'ㅠㅠㅜㅠ': 8391, '오열': 8392, '혈': 8393, '귀로': 8394, '화장': 8395, '불행하다': 8396, '매직': 8397, '퍼주세': 8398, '주피터': 8399, '치룰': 8400, '김강민': 8401, '효곤킴': 8402, '터프': 8403, '불러일으키다': 8404, '질리다': 8405, '하늘': 8406, '어정쩡하다': 8407, '뮤': 8408, '편주': 8409, '듀얼': 8410, '결판': 8411, '급감': 8412, '동경': 8413, '커플러': 8414, '목마': 8415, '발등': 8416, '김영규': 8417, '산맥': 8418, '래퍼': 8419, '침대': 8420, '유감': 8421, '해명': 8422, '았음': 8423, '불편': 8424, '스크래치': 8425, '뻘짓하': 8426, '생생하다': 8427, '타의': 8428, '스크': 8429, '일색': 8430, '한가득': 8431, '초래': 8432, '비쁠나와': 8433, '따라다니다': 8434, 'ㅎㅎㅠㅠ': 8435, '청안': 8436, '차근하다': 8437, '빙자': 8438, '나제': 8439, '시더': 8440, '평균값': 8441, '컨택': 8442, '취준하': 8443, '엿먹일': 8444, '선형회귀': 8445, '서약': 8446, '쫄리긴': 8447, '돌입': 8448, '초록색': 8449, '콤퓨타': 8450, '통상': 8451, '발표회': 8452, '비꼬다': 8453, '테제': 8454, '과업': 8455, '주요한': 8456, '빙빙': 8457, '초집': 8458, '헤어': 8459, '병기': 8460, '탑인': 8461, '때메': 8462, '장사': 8463, '린징': 8464, '각도': 8465, '전채': 8466, '통학러': 8467, '차생': 8468, '각성': 8469, '헤메': 8470, '일때': 8471, '아파트': 8472, '공화국': 8473, '웅얼거리': 8474, '짝꿍': 8475, '독스': 8476, '배점표': 8477, '서술어': 8478, '화석연료': 8479, '엠아계': 8480, '저만큼': 8481, '합리화': 8482, '식임': 8483, '죽지': 8484, '장단': 8485, '새스': 8486, '하루하루': 8487, '순열': 8488, '뽝': 8489, '널럴하': 8490, '인숙': 8491, '맥도날드화': 8492, '벨': 8493, '하방': 8494, '타강': 8495, '겉핡기': 8496, '바박': 8497, '속편': 8498, '냉정하다': 8499, '초탈': 8500, '컴프을': 8501, '오일러': 8502, '뒤엎': 8503, '더욱더': 8504, '상과': 8505, '윤리학': 8506, 'ㄲ': 8507, '띵진': 8508, '구결': 8509, '트랜드': 8510, '비쥬': 8511, '지성': 8512, '좌편향': 8513, '날벼락': 8514, '킬링': 8515, '하락': 8516, '활': 8517, '장소': 8518, '리수': 8519, '친정': 8520, '어둠': 8521, '었음': 8522, '난만하다': 8523, '단편': 8524, '전전긍긍': 8525, '예컨대': 8526, '꿀강러들': 8527, '남짓하다': 8528, '가의': 8529, '체용': 8530, '경쟁자': 8531, '커넥트포': 8532, '꾀': 8533, '방황': 8534, '딱지': 8535, '프리뷰': 8536, '기보': 8537, '엿보다': 8538, '빡셈그': 8539, '잣': 8540, '단언컨대': 8541, '교보': 8542, '게이트': 8543, '일화': 8544, '전례': 8545, '렌덤': 8546, '배끼': 8547, '여리다': 8548, '한선': 8549, '자타공인': 8550, '광고대행사': 8551, '박용': 8552, '어쩐지': 8553, '판다': 8554, '가설검정': 8555, '담당자': 8556, 'ㅎㅇㅌ': 8557, '말땐': 8558, '몰려오다': 8559, '빡센것': 8560, '에쁠나옴': 8561, '과감': 8562, '승자': 8563, '점자': 8564, '닝': 8565, '신세대': 8566, '빈곤하다': 8567, '문재인': 8568, '대척점': 8569, '훌쩍': 8570, '꺾다': 8571, '초동': 8572, '장만': 8573, '민법': 8574, '생명정보': 8575, '관호': 8576, '한층': 8577, '획기': 8578, '이유나': 8579, '국금': 8580, '남다르다': 8581, '피어슨': 8582, '여주시': 8583, '분후': 8584, '호출': 8585, '감지덕지': 8586, '등안': 8587, '평전': 8588, '스탠다드': 8589, '드라마틱하다': 8590, '방탄': 8591, '댐': 8592, '셨습니': 8593, '우한': 8594, '팀픙': 8595, '접점': 8596, '공이': 8597, '스팅': 8598, '그지같다': 8599, '민가': 8600, '어법': 8601, '쫄았': 8602, '퀴즐렛': 8603, '안드네': 8604, '누굴': 8605, '호날두': 8606, '덴': 8607, '롯': 8608, '구술': 8609, '엘리베이터': 8610, '인간성': 8611, '겁낼': 8612, '고리타분하다': 8613, '아저씨': 8614, '빨갛다': 8615, '주부': 8616, '음수': 8617, '부교': 8618, '임기': 8619, '나근나근': 8620, '사바': 8621, 'ㅎㅎㅎㅎㅎㅎ': 8622, '수명': 8623, '흑우': 8624, '뺨': 8625, '너무도': 8626, '살기': 8627, '여학생': 8628, '튜링기계': 8629, '오카': 8630, '순발력': 8631, '단문': 8632, '개탄': 8633, '캐다': 8634, '서울대': 8635, '소명': 8636, '바운더리': 8637, '매정하다': 8638, '골자': 8639, '일환': 8640, '허비하다': 8641, '페셔': 8642, '거뜬하다': 8643, '뭉개져': 8644, '공석': 8645, '움직이다': 8646, '못구': 8647, '스레': 8648, '호로록': 8649, '국강때': 8650, '택할': 8651, '기해': 8652, '롸잍': 8653, '알아차리다': 8654, '우물': 8655, '개구리': 8656, '보리': 8657, '이쯤': 8658, '망신': 8659, 'ㄱㅊㄱㅊ': 8660, '포드': 8661, '발버둥': 8662, '레잇엠페러': 8663, '서면': 8664, '감흥': 8665, '고차원': 8666, '변혁': 8667, '매커니즘': 8668, '비로소': 8669, '불보': 8670, '보듬다': 8671, '자그맣다': 8672, '개빡셈': 8673, '서서히': 8674, '양인': 8675, '스퀘어': 8676, '권해': 8677, '포셜': 8678, 'ㅠㅎ': 8679, '예약': 8680, '프': 8681, '모가지': 8682, '설령': 8683, '담배': 8684, '그려지다': 8685, '생해': 8686, '간소화': 8687, 'ㅜㅠㅠ': 8688, '가격결정': 8689, '김현': 8690, '냉철하다': 8691, '셤기간': 8692, '기자': 8693, '부끄러움': 8694, '론스타': 8695, '척척': 8696, '테벵': 8697, '패션': 8698, '로샤': 8699, '여윽시': 8700, '게로': 8701, '짜깁다': 8702, '모의고사': 8703, '찾아다니다': 8704, '줄거리': 8705, '부들부들하다': 8706, '고조': 8707, '꼽아': 8708, '협소': 8709, '대규모': 8710, '그루빠': 8711, '열렬하다': 8712, '킴': 8713, '눈빛': 8714, '빗나가다': 8715, '탭': 8716, '늪': 8717, '그람': 8718, '슈미트': 8719, '홧병': 8720, '형편': 8721, '아우토반': 8722, '타분': 8723, '글씨체': 8724, '노련하다': 8725, '녹취록': 8726, '경상도': 8727, '절세': 8728, '도우': 8729, '독파': 8730, '피우다': 8731, '뇌절': 8732, '삼박자': 8733, '조아하다': 8734, '쟤': 8735, '부공': 8736, '컴비': 8737, '네이션': 8738, '이형진': 8739, '반수': 8740, '둘이서': 8741, '시전': 8742, '옷차림': 8743, '빠짝': 8744, '통탄': 8745, '프리저': 8746, '변신': 8747, '수동': 8748, '진동': 8749, '음소': 8750, '창백하다': 8751, '푸른': 8752, '손색': 8753, '마이너': 8754, '맞닿다': 8755, '말빨': 8756, '비실': 8757, '여요': 8758, '평보': 8759, '차마': 8760, '편승': 8761, '스캔들': 8762, '긋다': 8763, '재는': 8764, '유형론': 8765, '사회생활': 8766, '성경': 8767, 'ㅗㅜㅑ': 8768, '모션북': 8769, '쇼트': 8770, '건재': 8771, '조한범': 8772, '땡깡': 8773, '등불': 8774, '마코비츠': 8775, '노벨상': 8776, '정직': 8777, '막대': 8778, '우시': 8779, '없으셧을텐데': 8780, '마코위츠': 8781, '쉐도': 8782, '헀습': 8783, '동등': 8784, '점점이': 8785, '호환': 8786, '리서칭': 8787, '팟팅': 8788, '링궐': 8789, '잉글리시': 8790, '놨': 8791, '시원찮다': 8792, '꿀강꿀강': 8793, '서학': 8794, '여렵': 8795, '끈기': 8796, '별문제': 8797, '멀쩡하다': 8798, '켠왕': 8799, '줄렀음시험': 8800, '그레': 8801, '팡팡': 8802, '파라': 8803, '뵀었': 8804, '영률': 8805, '야만인': 8806, '노동량': 8807, '데빌': 8808, '욜': 8809, '해부': 8810, '반기문': 8811, '교직원': 8812, '실로': 8813, '썸머': 8814, '썸': 8815, '후원': 8816, '툭': 8817, '개편': 8818, '빡쎗음기말': 8819, '비쁠줌': 8820, '벙찌': 8821, '짖다': 8822, '강의럭': 8823, '왕도': 8824, '조용수': 8825, '충공깽': 8826, '쇼킹': 8827, '사표': 8828, '소설가': 8829, '퇴고': 8830, '강하나': 8831, '고이즈미': 8832, '젊은이': 8833, '고뤠': 8834, '뤠': 8835, '최민식': 8836, '앝': 8837, '탈콧': 8838, '미셸': 8839, '푸코': 8840, '루이': 8841, '알튀셰': 8842, '인쇄물': 8843, '음번': 8844, '군데': 8845, '라다': 8846, '주최': 8847, '돤대': 8848, '처사': 8849, '백만': 8850, '비단': 8851, '긴급하다': 8852, '쪼그라들다': 8853, '혼쭐': 8854, '그럭': 8855, '저럭': 8856, '사경': 8857, '등관회': 8858, '시차': 8859, '가식': 8860, '눈길': 8861, '설렁걸렁': 8862, '때껏': 8863, '서지': 8864, '마렵': 8865, '쁠은잘': 8866, '초입': 8867, '태고': 8868, '나누기': 8869, 'ㅎㅁㅎ': 8870, '거르기': 8871, '붓': 8872, '삘꽃히는': 8873, '챠': 8874, '내다보다': 8875, '분법': 8876, '배팅': 8877, '일기': 8878, '불명': 8879, '확부': 8880, '상평임': 8881, '착시': 8882, '실루엣': 8883, '공급망': 8884, '메멘토': 8885, '기성': 8886, '햇살': 8887, '태양': 8888, '킹용': 8889, '감가상각': 8890, '레보레이숀': 8891, '위드': 8892, '에쓰': 8893, '치인': 8894, '유능하다': 8895, '컴퓨터공학': 8896, '인칭': 8897, '슈팅': 8898, '금토일': 8899, '월화': 8900, '목금': 8901, '금금': 8902, '인팀': 8903, '생활비': 8904, '텍스쳐': 8905, '블렌더': 8906, '조립': 8907, '뭐학': 8908, '렉티브': 8909, '두셋': 8910, '구글플레이': 8911, '라나': 8912, '야후': 8913, '꾸러기': 8914, '자빠지다': 8915, '이엇습니': 8916, '안간힘': 8917, '것위': 8918, '론답': 8919, '퍼임': 8920, '지면': 8921, '실강임': 8922, '금문': 8923, '재작년': 8924, '꼰대끼': 8925, '딴다': 8926, '착잡하다': 8927, '아양': 8928, '희소식': 8929, '글쎄': 8930, '시럿다': 8931, '심수': 8932, '듭니다확통': 8933, '위축감': 8934, '나왓습': 8935, '달변': 8936, '욜로휠리': 8937, '대장': 8938, '시브': 8939, '달린다': 8940, '랭귀': 8941, '기본소득': 8942, '사오': 8943, '가디언': 8944, '빵빵': 8945, '모진': 8946, '자존심': 8947, '하인': 8948, '스임': 8949, '최고봉': 8950, '듭니다할': 8951, '장예': 8952, '위조': 8953, '박시연': 8954, '단축키': 8955, '분필': 8956, '카스텔': 8957, '뇌컴': 8958, '불가결': 8959, '소임': 8960, '꿀맛': 8961, '퀸퀸퀸퀸': 8962, '테뱅구': 8963, '만씨': 8964, '부록': 8965, '야구': 8966, '어펜딕스': 8967, '종대': 8968, '회임': 8969, '철판': 8970, '트집': 8971, '듯저': 8972, '손실': 8973, '은솔': 8974, '내뱉다': 8975, '엣지': 8976, '가서영': 8977, '해사': 8978, '조끼': 8979, '우애': 8980, '하샸던': 8981, '퍼렇다': 8982, '포부': 8983, '달뒤': 8984, '먼지': 8985, '귀신': 8986, '쉣': 8987, '요망': 8988, '계산법': 8989, '빈찬': 8990, '헬수업': 8991, '관목': 8992, '흩날리다': 8993, '혐의': 8994, '매킨': 8995, '비료': 8996, '암거': 8997, '연관검색어': 8998, '발의': 8999, '원통': 9000, '보걸': 9001, '매몰': 9002, '처참': 9003, '라인업': 9004, '컴꽈식': 9005, '촛점': 9006, '공지영': 9007, '떠돌아다니다': 9008, '충치': 9009, '첨언드리': 9010, '핵핵': 9011, '께나': 9012, '죄송스럽다': 9013, '증도': 9014, '리오': 9015, '슈토': 9016, '페설': 9017, '하래': 9018, '박하': 9019, '나이지리아': 9020, '운송': 9021, '컨테이너': 9022, '요맨': 9023, '메챠쿠챠': 9024, '구미': 9025, '루브릭': 9026, '공동체': 9027, '빰빰': 9028, '영가설': 9029, '연구가설': 9030, '빡셌기': 9031, '디른팀': 9032, '트롤링': 9033, '괴목입니': 9034, '의기소침하다': 9035, '어중간': 9036, '것팀': 9037, '그래됴': 9038, '모교': 9039, '일장': 9040, '자명하다': 9041, '다단': 9042, '글임': 9043, '편지': 9044, '항쿡': 9045, '특유하다': 9046, '너프': 9047, '액설': 9048, '런트': 9049, '종용': 9050, '응당': 9051, '유니크': 9052, '강추추': 9053, '동양인': 9054, '헨리포드': 9055, '장학생': 9056, '설경': 9057, '한중간': 9058, '셧으': 9059, '치팅하': 9060, '까비': 9061, '나음': 9062, '실화': 9063, '냨': 9064, 'ㅗㅗㅗㅗㅗㅗㅗ': 9065, '건너다': 9066, '액션': 9067, '블록버스터': 9068, '광경': 9069, '컷트라인': 9070, '풍기': 9071, '빠듯합니': 9072, '흔들다': 9073, '하서': 9074, '열중': 9075, '임용': 9076, '광팬': 9077, '몽총하': 9078, '파란': 9079, '치루는데': 9080, '럭': 9081, '입수': 9082, '옌습': 9083, '고천': 9084, '남도': 9085, '처단': 9086, '껍니': 9087, '학습략': 9088, '끈질기다': 9089, '핸': 9090, '다변': 9091, '다누리': 9092, '국산': 9093, '스케': 9094, '레톤': 9095, '학위': 9096, '숨가쁘다': 9097, '야만': 9098, '분일': 9099, '원활': 9100, '쩍': 9101, '소트': 9102, '웨어': 9103, '화학자': 9104, '북방': 9105, '갈무리': 9106, '거르셨습니다': 9107, '급기야': 9108, '전력': 9109, '흝는데': 9110, '헬근데': 9111, '스시': 9112, '와이어샤크': 9113, '함번': 9114, '오십': 9115, '갈라': 9116, '여럽다': 9117, '입각': 9118, '감추다': 9119, '열기': 9120, '수수': 9121, '음량': 9122, '업슴': 9123, '농': 9124, '퓨리': 9125, '흥므': 9126, '세그먼트': 9127, '서브넷팅': 9128, '혼잡': 9129, '송수': 9130, '탑재': 9131, '토폴로지': 9132, '빛홍': 9133, '안빡셀': 9134, '라이벌': 9135, '촘촘한데': 9136, '음조': 9137, '이승만': 9138, '이십': 9139, '중회은': 9140, '천벌': 9141, '부등': 9142, '구요성': 9143, '무익': 9144, '텀프빼곤': 9145, '간지나다': 9146, '나락행': 9147, '글짓기': 9148, '국제경제': 9149, '활기차다': 9150, '전향': 9151, '파도': 9152, '사근사근하다': 9153, '헤비메탈': 9154, '보탬': 9155, '구글드라이브': 9156, '민광': 9157, '보톡': 9158, '서막': 9159, '희박하다': 9160, '착수': 9161, '시속': 9162, '케이크': 9163, '유행어': 9164, '빡센건': 9165, '모던타임즈': 9166, '쫄렸네': 9167, '컴프은': 9168, '소수자': 9169, '완주': 9170, '불맛': 9171, '약해지다': 9172, '어셈블리코딩': 9173, '분열': 9174, '청년실업': 9175, '시청률': 9176, '무적인': 9177, '업종': 9178, '챡': 9179, '걸론': 9180, '대전': 9181, '장반': 9182, '문조': 9183, '기계로': 9184, '푸념': 9185, '헐랭하': 9186, '헐랭했던': 9187, '파블로프': 9188, '썸네일': 9189, '이름나다': 9190, '실험설계': 9191, '자료량': 9192, '춘하': 9193, '팬티': 9194, '지엽킹': 9195, '효곤킴입니': 9196, '사자': 9197, '야간': 9198, '울트라': 9199, '암세포': 9200, '디렉션': 9201, '야마': 9202, '어휴': 9203, '땜빵용': 9204, '번그': 9205, '나왔습닌다': 9206, '대학시절': 9207, '평밑': 9208, '지해': 9209, '마정': 9210, '주접': 9211, '성시경': 9212, '상적': 9213, '통틀': 9214, '긴장도': 9215, '요도': 9216, '치팅쉬트': 9217, '요것': 9218, '샷건': 9219, '쇠모': 9220, '모래사장': 9221, '트랜젝션': 9222, '이나고': 9223, '튼실하다': 9224, '랄로': 9225, '데베': 9226, '겸비': 9227, '함돠': 9228, '판데믹': 9229, '유추적용': 9230, '주먹구구': 9231, '쥐약': 9232, '버럴': 9233, '손자': 9234, '전특': 9235, '브로셔': 9236, '먹통': 9237, 'ㄴㅐ': 9238, '법인': 9239, '조특법': 9240, '정도전': 9241, '급진': 9242, '정감': 9243, '피나': 9244, '받침': 9245, '심플렉스': 9246, '공함': 9247, '영원하다': 9248, '들을껄': 9249, '협약': 9250, '인트': 9251, '양성': 9252, '슬로': 9253, '쏠리다': 9254, '같스니': 9255, '동기이론': 9256, '극혐해': 9257, '세미': 9258, '포어': 9259, '확진': 9260, '환자': 9261, '동선': 9262, '강강강': 9263, '강강추': 9264, '것외': 9265, '계심': 9266, '압축량': 9267, '사방': 9268, '법사': 9269, 'ㅎㅡㅎ': 9270, '하염없이': 9271, '최곤듯': 9272, '철학자': 9273, '경제학자': 9274, '기꺼이': 9275, '대숲': 9276, '이력': 9277, '양분': 9278, '어처구니없다': 9279, '절치': 9280, '소동': 9281, '일견': 9282, '꿈꾸다': 9283, '뛰어오르다': 9284, '괴애애애앵장히': 9285, '괴리좋': 9286, '부인': 9287, '개빡셌음': 9288, '유리공예': 9289, '수재': 9290, '척박하다': 9291, '서재': 9292, '텀프등': 9293, '홍성': 9294, '태교': 9295, '상쇄합니': 9296, '부기': 9297, '충동': 9298, '손쉽다': 9299, '신진': 9300, '런': 9301, '들려오다': 9302, '털털': 9303, '요크': 9304, '학전': 9305, '나가떨어지다': 9306, '재원': 9307, '벚꽃놀이': 9308, 'ㅉ': 9309, '뾰족': 9310, '길쭉하다': 9311, '좋슴당': 9312, '바뀌먄사': 9313, '점배점': 9314, '생산력': 9315, '송송': 9316, '물독': 9317, '거마': 9318, '델리': 9319, '쫄렸었는데': 9320, '케그': 9321, '떡락합니': 9322, '건축물': 9323, '관찰자': 9324, '르포': 9325, '북학': 9326, '헤헷': 9327, '어부': 9328, '타워': 9329, '씨제': 9330, '씌여있': 9331, '삼지': 9332, '복원': 9333, '고가': 9334, '밑일': 9335, '모멸': 9336, '형체': 9337, '엮': 9338, '드렁야함': 9339, '삽': 9340, '대타': 9341, '이희승': 9342, '거짓말쟁이': 9343, '임개': 9344, '나선': 9345, '손상': 9346, '여성성': 9347, '피아': 9348, '글리': 9349, '뜻대로': 9350, '맨붕오': 9351, '정말루': 9352, '같네욯': 9353, '심사숙고': 9354, '일보': 9355, '삼배': 9356, '쫄리': 9357, '공평': 9358, '호도': 9359, '호구': 9360, '영고': 9361, '깔꼼': 9362, '좌율': 9363, '구유': 9364, '튭': 9365, '량주': 9366, '액티': 9367, '단행본': 9368, '넘버원': 9369, '빛민': 9370, '킹민': 9371, '짜개': 9372, '폐해': 9373, '별의별': 9374, '요동치다': 9375, '끝책': 9376, '녹색': 9377, '에타나': 9378, '백과사전': 9379, '만주': 9380, '일어': 9381, '퐁당퐁당': 9382, '보복': 9383, '대후': 9384, '뒷맛': 9385, '잘려지다': 9386, '자본시장': 9387, '리학': 9388, '창기킴': 9389, '준명송': 9390, '쁠몰같네': 9391, '짬딥': 9392, '교육대학': 9393, '희귀': 9394, '약국': 9395, '훔치다': 9396, '바랬': 9397, '자독': 9398, '전사': 9399, '소도': 9400, '너머': 9401, '온기': 9402, '추임': 9403, '출몰': 9404, '타블릿': 9405, '사분': 9406, '위수': 9407, '문제안': 9408, '류블리': 9409, '류데레': 9410, '블러': 9411, '핑': 9412, '친절해지다': 9413, '가': 9414, '꾸기다': 9415, '독재': 9416, '김정은': 9417, '부담량': 9418, '판명': 9419, '서요': 9420, '꼰대시': 9421, '쁠붙': 9422, '대월': 9423, '불을킨': 9424, '밓': 9425, '노년기': 9426, '책장': 9427, '안사면': 9428, '됐': 9429, '사리다': 9430, '틔었었음': 9431, '연구생': 9432, '모집': 9433, '쪼달리': 9434, '간사하다': 9435, '호가': 9436, '정뾰호': 9437, '릭': 9438, '볼드': 9439, '편학': 9440, '파이선': 9441, '유난': 9442, '선임': 9443, '통기다': 9444, '자교': 9445, '유생': 9446, '프로그래머': 9447, '렷습': 9448, '교학': 9449, '번쨰': 9450, '배팀': 9451, '스무': 9452, '도널드': 9453, '문책': 9454, '평각': 9455, '베이지': 9456, '따귀': 9457, '훓으': 9458, '톡톡': 9459, '쫄지': 9460, '하비': 9461, '에티켓': 9462, '마름': 9463, '공과대학': 9464, '참고서': 9465, '심경': 9466, '에쁠내용': 9467, '젝션': 9468, '랜더링': 9469, '단체법': 9470, '수법': 9471, '거즌': 9472, '도요타': 9473, '강약': 9474, '인중': 9475, '부진하다': 9476, '뇌피셜이긴': 9477, '인덱싱': 9478, '심지': 9479, '킹재': 9480, '참석자': 9481, '정적분석': 9482, '박세준': 9483, '애쁠': 9484, '깜작': 9485, '쪽내': 9486, '빠듯해': 9487, '이지영': 9488, '생갇합니': 9489, '가치중립': 9490, '스탠스': 9491, '촘촘했던': 9492, '이윤': 9493, '정당': 9494, '공익': 9495, '편파': 9496, '확실': 9497, '박종원': 9498, '전시회': 9499, '다정다감': 9500, '헛수고': 9501, '치료법': 9502, '조사해오': 9503, '창린': 9504, '소속': 9505, '벗기다': 9506, '취해': 9507, '에잉졀': 9508, '투컴': 9509, '알트탭': 9510, '요리조리': 9511, '리야': 9512, '미남': 9513, '푼뒤': 9514, '할리우드': 9515, '황금기': 9516, '지게': 9517, '국경인': 9518, '킹왕짱': 9519, '카페나': 9520, '식당': 9521, '낫밷인뎅': 9522, '쇼추': 9523, '삶의질': 9524, '프린터': 9525, '나왓습니': 9526, '성미': 9527, '퉁침': 9528, '융관': 9529, '스티브': 9530, '잡스': 9531, '정녕': 9532, '주축': 9533, '몬테카를로': 9534, '셤잘': 9535, '평평': 9536, '시마': 9537, '부처님': 9538, '숄즈': 9539, '방향드': 9540, '빛빛빛빛빛빛빛': 9541, '최저임금제': 9542, '포스트모던': 9543, '자네도': 9544, '금메달': 9545, '의뭉스럽다': 9546, '항간': 9547, '겨울방학': 9548, '책사': 9549, 'ㅡㅡㅡㅡㅡㅡㅡㅡㅡㅡㅡㅡㅡㅡㅡㅡㅡㅡㅡㅡㅡㅡㅡㅡㅡㅡㅡㅡㅡㅡㅡㅡㅡㅡㅡㅡㅡㅡㅡㅡㅡㅡㅡㅡㅡㅡㅡ': 9550, '엔트리': 9551, '신장': 9552, '생결': 9553, '한글화': 9554, '간반': 9555, '하소연': 9556, '박도': 9557, '감영': 9558, '쫄깃합니': 9559, 'ㅓㅓㅓㅓㅓ': 9560, '겟또예습': 9561, '숑': 9562, '조목조목': 9563, '니나': 9564, '자기만족': 9565, '성룡': 9566, '겨누': 9567, '오만': 9568, '챗팅': 9569, '주섬주섬': 9570, '볼일': 9571, '그룸': 9572, '회랑': 9573, '통정': 9574, '시험량': 9575, '중박': 9576, '할인': 9577, '몰카': 9578, '뇌절읠': 9579, '티노스': 9580, '핑거': 9581, '스냅': 9582, '뱔': 9583, '읺는디': 9584, '호강': 9585, '하샤': 9586, '독강러한테': 9587, '안타': 9588, '난징': 9589, '상하이': 9590, '이기상': 9591, '회사채': 9592, '마인드맵': 9593, '다이어그램': 9594, 'ㄷㄷㄷ': 9595, '힝': 9596, '철저함': 9597, '죄송': 9598, '직책': 9599, '멕시멈': 9600, '비혼': 9601, '요모조모': 9602, '조악하다': 9603, '영국인': 9604, '류은석': 9605, '파멸': 9606, '허신': 9607, '요금': 9608, '한심하다': 9609, '타오': 9610, '심로': 9611, '약주': 9612, '어어어어': 9613, '무지개': 9614, '넥타이': 9615, '부동소수점': 9616, '버벅거리느': 9617, '민트': 9618, '벤처캐피탈': 9619, '우린': 9620, '소심': 9621, '최대로': 9622, '트리구조': 9623, '어물쩍': 9624, '번갯불': 9625, '볶다': 9626, '손보': 9627, '듭니다별': 9628, '누르기': 9629, '대거': 9630, '오명': 9631, '아우성치다': 9632, '텐미닛': 9633, '브레잌': 9634, '이승우': 9635, '사비': 9636, '태뱅': 9637, 'ㅎㅎㅎㅎㅎㅎㅎ': 9638, '컨벤셔널': 9639, '이상형': 9640, '사계': 9641, '마스크': 9642, 'ㅣㄴ': 9643, '명강손범진': 9644, '히스토그램': 9645, '랄라': 9646, '추종자': 9647, '절때': 9648, '힘쓰다': 9649, '교수닝': 9650, '어케했': 9651, '궁금': 9652, '도제': 9653, '소견': 9654, '페논페': 9655, '클론': 9656, '강좌임': 9657, '소가': 9658, '도태': 9659, '임자': 9660, '연어': 9661, '클립아트': 9662, '듭니다팀플': 9663, '아웃소싱': 9664, '패햐': 9665, '만행': 9666, '정심': 9667, '뒤집어지다': 9668, '필임': 9669, '떼움': 9670, '쌩돈': 9671, '지랄': 9672, '코리안': 9673, '좇밥들': 9674, '임그': 9675, '기말떄': 9676, '쩌리': 9677, '짠하다': 9678, '기제': 9679, '나무라다': 9680, '설계도': 9681, '세배': 9682, '메타분석': 9683, '학접': 9684, '혼밥': 9685, '텀프기말텀프': 9686, '원정': 9687, '꼬아져': 9688, '리치': 9689, '줌텀프': 9690, '듯헤': 9691, '너비': 9692, '롤모델': 9693, '롸': 9694, 'ㅝ': 9695, '굽히다': 9696, '열전': 9697, '직거린': 9698, '대강대강': 9699, '꿀강학': 9700, '고등교육': 9701, '반년': 9702, '첨언하': 9703, '피니쉬': 9704, '데쓰': 9705, '요로': 9706, '진더': 9707, '오프언': 9708, '납치': 9709, '재귀': 9710, '글구': 9711, '이트': 9712, '파일럿': 9713, '숙컴': 9714, '정분': 9715, '회합': 9716, '동문서답': 9717, '잼회': 9718, '단칼': 9719, '피로': 9720, '꼬셔': 9721, '강전': 9722, '당돌하다': 9723, '예언': 9724, '용천': 9725, '껜': 9726, '사이더': 9727, '하우스': 9728, '바이오': 9729, '끌강': 9730, '관문': 9731, '눈대중': 9732, '선적분': 9733, '결단': 9734, '살포': 9735, '큘러': 9736, '펑': 9737, '옆면': 9738, '맞혔는지': 9739, '마틴': 9740, '딘': 9741, '빅픽쳐': 9742, '폰겜': 9743, '재시': 9744, '심리힉': 9745, '멍확': 9746, '머칠': 9747, '태만': 9748, '하학': 9749, '기물': 9750, '서두': 9751, '박일': 9752, '이색': 9753, '취미': 9754, '강교': 9755, '걸이': 9756, '벌표': 9757, '댜신': 9758, '드하': 9759, '또학': 9760, '쵝오': 9761, '정보검색': 9762, '한눈': 9763, '락뮤직': 9764, '연대기': 9765, '비하인드': 9766, '다락': 9767, '광광': 9768, '헤드뱅잉': 9769, '소음공해': 9770, '재즈': 9771, '컨츄리': 9772, '블루스': 9773, '밥딜런': 9774, '음악평론가': 9775, '락생들': 9776, '삭이다': 9777, '코너': 9778, '젠틓': 9779, '다투다': 9780, '발포': 9781, '외교': 9782, '쿵': 9783, '담담하다': 9784, '차곡차곡': 9785, '생용': 9786, '맞': 9787, '에센셜': 9788, '산전수전': 9789, '햇볕': 9790, '엘포': 9791, '위압': 9792, '심심': 9793, '종업원': 9794, '일시': 9795, '훙미로웠다': 9796, '프랑스혁명': 9797, '감제': 9798, '꽃놀이': 9799, '쾌남': 9800, '따발총': 9801, '티스': 9802, '대부': 9803, '성심껏': 9804, '페일': 9805, '졸프들': 9806, '위원': 9807, '택팀플': 9808, '유익': 9809, '개인플레이': 9810, '회개': 9811, '지리다': 9812, '주신문': 9813, '따님': 9814, '과일': 9815, '뒷정리': 9816, '검도': 9817, '밤낮': 9818, '셧구': 9819, '축출': 9820, '다욕': 9821, '리신': 9822, '드슈': 9823, '로간': 9824, '꿋꿋하다': 9825, '회유': 9826, '애가': 9827, '노타': 9828, '나먼': 9829, '역쉬': 9830, '단종': 9831, '범벅': 9832, '깡': 9833, '심리치료': 9834, '원명': 9835, '은연중': 9836, '돈다': 9837, '알고': 9838, '츨첵': 9839, '두우': 9840, '연쇄': 9841, '쫄렸': 9842, '넫': 9843, '케미': 9844, '학저': 9845, '원노트': 9846, '말걸': 9847, '용면': 9848, '청년유니온': 9849, '위원장': 9850, '관람': 9851, '팩토리': 9852, '청년': 9853, '전태일': 9854, '퀴즈블보': 9855, '소량': 9856, '실강녹강': 9857, '슬럼프': 9858, '린지': 9859, '월달': 9860, 'ㅇㅈㄹ': 9861, '주네': 9862, '정은': 9863, '수어': 9864, '율과': 9865, '함수해석학': 9866, '띵강헬강': 9867, '평등하다': 9868, '기말평쁠': 9869, '영화로': 9870, '난해': 9871, '프로테스탄티즘': 9872, '토크빌': 9873, '쳥': 9874, '위상': 9875, '프로이드': 9876, '끄적끄적': 9877, 'ㅃ': 9878, '소드': 9879, '처치': 9880, '치하': 9881, '베임': 9882, '좆': 9883, '섯': 9884, '채컴프': 9885, '최컴프': 9886, '설먕해': 9887, '해시': 9888, '쁠받': 9889, '현대인': 9890, '짜장': 9891, '뺄셈': 9892, '어떻든': 9893, '대악': 9894, '병합': 9895, '좌향': 9896, 'ㄲㅏ': 9897, '흉': 9898, '흉하다': 9899, '간정': 9900, '순대': 9901, '놀토': 9902, '전답': 9903, '자판기': 9904, '통사론': 9905, '허공': 9906, '모텔': 9907, '어려웡려': 9908, 'ㅜㅜㅜㅜㅠㅠㅜㅜㅜㅜㅠㅜㅜㅜㅜ': 9909, '서쪽': 9910, '평쁠이었': 9911, '젠장': 9912, 'ㅎㅎㅠ': 9913, '소거': 9914, '작업기억': 9915, '장기기억': 9916, '정보처리': 9917, '유전학': 9918, '괞잖': 9919, '찡찡대다': 9920, '우후': 9921, '루이스': 9922, '저가': 9923, '보도': 9924, '경직': 9925, '단면': 9926, '입체': 9927, '이방인': 9928, '광화문': 9929, '서초동': 9930, '집회': 9931, '에드': 9932, '하루아침': 9933, '다각도': 9934, '만류': 9935, '트럭': 9936, '빡센듯': 9937, '어기': 9938, '케이': 9939, '터링': 9940, '친목': 9941, '낭독': 9942, '회구': 9943, '티키타카': 9944, '스미다': 9945, '개꿀강임': 9946, '건배': 9947, '머무르다': 9948, '내용물': 9949, '회분': 9950, '일드': 9951, '회팀플': 9952, '무용': 9953, '그르': 9954, '놀리다': 9955, 'ㅜㅁ': 9956, 'ㅠㅠㅠㅠㅠㅠㅠㅜㅜㅠㅜㅠㅜㅜㅜㅜ': 9957, '성균관': 9958, '씬': 9959, '중각': 9960, '조사만': 9961, '별장': 9962, '훈민정음': 9963, '놀이': 9964, '세마포어': 9965, '끝없이': 9966, '미분가능성': 9967, '기말': 9968, '락캔롤': 9969, '말월': 9970, '대북': 9971, '전단': 9972, '나흘': 9973, '싸지르다': 9974, '명량': 9975, '괭장히': 9976, '턱턱': 9977, '강국': 9978, '애티튜드': 9979, '유씨': 9980, '유종': 9981, '훌류': 9982, '무줙건': 9983, '빛관': 9984, '진영': 9985, '투자자': 9986, 'ㅜㅜㅠㅠ': 9987, '완젼': 9988, '투머치토': 9989, '상권': 9990, '차트': 9991, '카타르': 9992, '피타': 9993, '평범': 9994, '입론': 9995, '때무': 9996, '녹각': 9997, '강치': 9998, '햏': 9999, '클래식': 10000, '젊음': 10001, '깜박': 10002, '함씨': 10003, '동기화': 10004, '흥미럽': 10005, '고독': 10006, '욘': 10007, '무력': 10008, '틑': 10009, '절사평균': 10010, '가법': 10011, '연신': 10012, '정컴': 10013, '결연하다': 10014, '작성중': 10015, '해놈': 10016, '조슴': 10017, '안겹치': 10018, '낭': 10019, '꺽꺽': 10020, '김희': 10021, '젭': 10022, '말평마': 10023, '음절': 10024, '보충수업': 10025, '햄버거': 10026, '헛점': 10027, '맹탕': 10028, '빡센편이긴': 10029, '에나': 10030, '에쁠나와썽용': 10031, '최진희': 10032, '홀리': 10033, '쉿': 10034, '왓더뻑': 10035, '한치': 10036, '노빠꾸': 10037, '바이킹': 10038, '잉글랜드': 10039, '프랑크': 10040, '왕국': 10041, '로마': 10042, '도난': 10043, '퀘': 10044, '스쳔': 10045, '요러케': 10046, '핻당': 10047, '코칭': 10048, '스펠링': 10049, '된장': 10050, '그립다': 10051, '러들': 10052, '유입': 10053, '다수결': 10054, '털렷습니다쉅': 10055, '개연': 10056, '참신': 10057, '유명무실': 10058, '가랑비': 10059, '젖다': 10060, '탐독': 10061, '벙위': 10062, '바위': 10063, '수업때봬': 10064, '조금빡센편': 10065, '황밸': 10066, '어이없이': 10067, '영재': 10068, '자사고': 10069, '배반': 10070, '서문': 10071, '비쁠에제': 10072, '워치': 10073, '꼽는다치팅': 10074, '볼록함수': 10075, '쿼시': 10076, '셔플': 10077, '스탠리': 10078, '것이므': 10079, '배윘다고': 10080, '엮으려': 10081, '미인': 10082, '쟁점들': 10083, '점등': 10084, '이이이이이이이이': 10085, '이이이': 10086, '한기': 10087, '퀴주': 10088, '어버버': 10089, '개꿀맛': 10090, 'ㅆㅆㅆㅅㅌㅊ': 10091, '빡머가리': 10092, '만적': 10093, '출자': 10094, '홍홍': 10095, '헌': 10096, '핫게': 10097, '날임': 10098, '고무': 10099, '음치': 10100, '과학자': 10101, '침팬지': 10102, '카고컬트': 10103, '반비례': 10104, '저급하다': 10105, '중학생': 10106, '괴리율': 10107, '상국': 10108, '아득해지다': 10109, '발산': 10110, '식히다': 10111, '고막': 10112, '주리다': 10113, '구지': 10114, '근대성': 10115, '서운하다': 10116, '아치': 10117, '평안': 10118, '칼절평꿀강': 10119, '비참하다': 10120, '진기하다': 10121, '바리': 10122, '케이트': 10123, '가두다': 10124, '꼮': 10125, '불면증': 10126, '이마': 10127, '나스': 10128, '돈워리': 10129, '쥐기': 10130, '에플': 10131, '신판': 10132, '리니': 10133, '플리': 10134, '축구': 10135, '레알마드리드': 10136, '바르셀로나': 10137, '유갓': 10138, '우선하다': 10139, '영양': 10140, '섭취': 10141, '우세': 10142, '페이커': 10143, '이상혁': 10144, '신덕': 10145, '빙의': 10146, '알파벳': 10147, '토플': 10148, '주저앉다': 10149, '가신': 10150, '들여놓다': 10151, '자전': 10152, '나왓어': 10153, '듯용': 10154, '연속성': 10155, '궁리': 10156, '쫘르륵': 10157, '고취': 10158, '물밀듯이': 10159, '바리톤': 10160, '스물': 10161, '노동스': 10162, '메카니즘': 10163, '배위': 10164, '당일치기': 10165, '처러': 10166, '회사법': 10167, '오디세이': 10168, '잜주세': 10169, '말줌': 10170, '킷런': 10171, '순탄': 10172, '구토': 10173, '위염': 10174, 'ㅋㅋㅋㅋㅋㅋㅋㅋㅋㅋㅋㅋㅋㅋㅋㅋㅋㅋㅋㅋㅋㅋㅋㅋㅋㅋㅋㅋ': 10175, '존버했다': 10176, '토로': 10177, '골때': 10178, '렷다': 10179, '줌팀': 10180, '콜라보레이션': 10181, '비쁠이시': 10182, '슴니': 10183, '겝니': 10184, '개꿀잼': 10185, '와이프': 10186, '증권': 10187, '편안함': 10188, '강문': 10189, '튜토디얼': 10190, '젤루': 10191, '겟하': 10192, '잠식': 10193, '기미': 10194, '퍼였': 10195, '뒷쪽': 10196, '샤피로': 10197, '매사': 10198, '중가넹': 10199, '유튜버': 10200, '행정학': 10201, '얘끼': 10202, '폿도': 10203, '영생': 10204, '갓진혁': 10205, '번팀플': 10206, '다실': 10207, '치닫다': 10208, '국방': 10209, '사국': 10210, '꼬꾸라지다': 10211, '본전': 10212, '아이거': 10213, '기말셤': 10214, '십년': 10215, '이어진': 10216, '배웟습니': 10217, '경쟁력': 10218, '경감': 10219, '쟁쟁': 10220, '미묘하다': 10221, '피티': 10222, '누리': 10223, '엇': 10224, '번정됴': 10225, '큰절': 10226, '변칙': 10227, '쉅시간': 10228, '프리스타': 10229, '일임': 10230, '스펜서': 10231, '아스': 10232, '주저리주저리': 10233, '강충': 10234, '부스럼': 10235, '법사회학': 10236, '차일피일': 10237, '비비고': 10238, '딱좋다': 10239, '기말플젝': 10240, '진향': 10241, '만복': 10242, '정치인': 10243, '나노': 10244, '여씨': 10245, '쁠제': 10246, '온점': 10247, '빡쎄': 10248, '흫': 10249, '장부': 10250, '틈나다': 10251, '록음악': 10252, '디도스': 10253, '렵니': 10254, '꿀강임꼭': 10255, '홈웍': 10256, '투덜대다': 10257, '정비': 10258, '치밀하다': 10259, '허가': 10260, '빠꾸없': 10261, '암도': 10262, '등재': 10263, '는가': 10264, '아킬레스': 10265, '적응도': 10266, '독일인': 10267, '시시대다': 10268, '펀입니': 10269, '납': 10270, 'ㅜㅠㅠㅠ': 10271, '드수': 10272, '가뭄': 10273, '영어사': 10274, '득': 10275, '앗줄': 10276, '골격': 10277, '도강': 10278, '치달': 10279, '웹메일': 10280, '귀걸이': 10281, '코걸이': 10282, '판매량': 10283, '학낳괴들': 10284, '좀저': 10285, '강의었다': 10286, '꼽습니': 10287, '양가': 10288, '비쁠이': 10289, '슬랙': 10290, '임강': 10291, '기함': 10292, 'ㅛㅣㄱ': 10293, '띵강듣': 10294, '은경': 10295, '안젛아': 10296, '얐음': 10297, '햤던': 10298, '꼰댄': 10299, '업청': 10300, '수럽': 10301, '인정플젝': 10302, '충전': 10303, '명조': 10304, '버는': 10305, '락덕후': 10306, '햇습': 10307, '넘겨보다': 10308, '죠': 10309, '진귀하다': 10310, '스트림': 10311, '추처': 10312, 'ㅓㄴ': 10313, '이예': 10314, '디램': 10315, '낸드': 10316, '켜션': 10317, '점비쁠': 10318, '펑펑': 10319, '노시': 10320, '주우': 10321, '그닥따': 10322, '관서': 10323, '산기': 10324, '셨을텐': 10325, '리카도': 10326, '핵셔': 10327, '스톨': 10328, '사무엘': 10329, '슨': 10330, '균등': 10331, '레온': 10332, '관세': 10333, '화으': 10334, 'ㅍㅍㅇㅅ': 10335, '것등': 10336, '증상': 10337, '진혁님': 10338, '삭막하다': 10339, '딴말': 10340, '속결': 10341, '다듬어지다': 10342, '해제': 10343, '제파트': 10344, '목도': 10345, '짜르': 10346, '쎠': 10347, '프로파일링': 10348, '함달': 10349, '누차': 10350, '무관심하다': 10351, '지지': 10352, '자존감': 10353, '배부': 10354, '허탈': 10355, '양파': 10356, '쯔음': 10357, '뜰때': 10358, '응보': 10359, '단기': 10360, '한중일': 10361, '한미': 10362, '슈퍼볼광고': 10363, '잭': 10364, '리처': 10365, '능동': 10366, '만끽': 10367, '심층': 10368, '써버': 10369, '거금': 10370, '장터': 10371, '시시콜콜하다': 10372, '북팀': 10373, '신후': 10374, '조교수': 10375, '전염병': 10376, '무탈': 10377, '등매': 10378, '어질어질하다': 10379, '텀프네': 10380, '활성화': 10381, '승하': 10382, '틀렷네용팀플': 10383, '원망하다': 10384, '할랬': 10385, '북사': 10386, '개헬개헬개헬': 10387, '흥이': 10388, '불공평하다': 10389, '읊으십니': 10390, '어럽': 10391, '번수': 10392, '성소수자': 10393, '독강컴': 10394, '전도': 10395, '인내력': 10396, '얺': 10397, '인권': 10398, '토탈': 10399, '범진': 10400, '앗': 10401, '판드랄': 10402, '바랬는데': 10403, '디펜스': 10404, '뒷말': 10405, '응급실': 10406, '회고록': 10407, '숟가락': 10408, '자유로': 10409, '아낌없이': 10410, '도아': 10411, '모퉁이': 10412, '섭렵': 10413, '걷기': 10414, '덤블링': 10415, '넘침': 10416, '차려': 10417, '브라우니': 10418, '모션': 10419, '징징': 10420, '에스': 10421, '전망': 10422, '알러지': 10423, '화남': 10424, '교단': 10425, 'ㅋㅋㅋㅋㅋㅋㅋㅋㅋㅋㅋㅋㅋㅋㅋㅋㅋ': 10426, '깊숙하다': 10427, '길꼭': 10428, '텀프같': 10429, '선제': 10430, '레이디언': 10431, '욯': 10432, '열등함': 10433, '독식': 10434, '쇠': 10435, '끼니': 10436, '랑스': 10437, '럴': 10438, '농후': 10439, '사나': 10440, '집합소': 10441, '자생': 10442, '질서정연하다': 10443, '헸단': 10444, '조선왕조': 10445, '실록': 10446, '가우스': 10447, '조단': 10448, '소거법': 10449, '건투': 10450, '비트코인': 10451, '식료품': 10452, '증권사': 10453, '연구소': 10454, '맥킨': 10455, '조잡': 10456, '좋아햐셔': 10457, '헬일': 10458, '저주': 10459, '먼훗날': 10460, '쁠러스': 10461, '불투명하다': 10462, '멍하니': 10463, '중도하차': 10464, '깐깐이': 10465, '트레이닝': 10466, '어캐어캐': 10467, '중력': 10468, '찻운': 10469, '오수': 10470, '서관': 10471, '카드': 10472, '어문': 10473, '칸트': 10474, '워터': 10475, '어깨': 10476, '자연과학': 10477, '권임': 10478, '다미': 10479, '선업': 10480, '김진희': 10481, '비엠': 10482, '조음': 10483, '눈뜨다': 10484, '수학레기': 10485, '인색하다': 10486, '서핑': 10487, '쩔쩔': 10488, '걸루': 10489, '동어': 10490, '오가면': 10491, '진법': 10492, '능란': 10493, '두뇌': 10494, '회전': 10495, '해방': 10496, '스펙트럼': 10497, '격렬하다': 10498, '미모': 10499, '천상': 10500, '로자': 10501, '햇던': 10502, '머쓱': 10503, '작동시키다': 10504, '퍼짜리': 10505, '빠짝하': 10506, '어리바리': 10507, '어리둥절': 10508, '음학': 10509, '함저': 10510, '하이에나': 10511, '무수': 10512, '툴로': 10513, '점초': 10514, '세련되다': 10515, '잔인하다': 10516, '앖어': 10517, '셨음': 10518, '개념화': 10519, '귀납': 10520, '괄': 10521, '매장': 10522, '디스플레이': 10523, '입상': 10524, '발동': 10525, '차기': 10526, '투정': 10527, '스윽': 10528, '뮵시': 10529, '안햇거등': 10530, 'ㅎㅇㅌㅎㅇㅌ': 10531, '싸강블보': 10532, '콜라': 10533, '미트': 10534, '허들': 10535, '말끔': 10536, '안비': 10537, '빡셀듯하': 10538, '을듯셤': 10539, '망겜': 10540, '발화': 10541, '비처럼': 10542, '아도르노': 10543, '호르': 10544, '대반': 10545, '바이블': 10546, '고기': 10547, '곰곰하다': 10548, '장난없다': 10549, '표준화': 10550, '통강': 10551, '마스터피스': 10552, '보표': 10553, '떨구다': 10554, '프을': 10555, '선후배': 10556, '하에팀플': 10557, '토론자': 10558, '고씨': 10559, '야무지다': 10560, '잔걱정': 10561, '고리': 10562, '반등': 10563, '수하': 10564, '번창': 10565, '황민영': 10566, '애프터눈': 10567, '어르신': 10568, '척추': 10569, '박격': 10570, '콜렉션': 10571, '거짓': 10572, '대식': 10573, '고구마': 10574, '봬온': 10575, '소기': 10576, '햅삐': 10577, '비등': 10578, '그쵸그쵸': 10579, '칸쵸': 10580, '으아': 10581, 'ㅏㅏㅏㅏㅏㅏㅏㅏㅏㅏㅏㅏㅏㅏㅏ': 10582, '진배': 10583, '외강': 10584, '하중': 10585, '졔': 10586, '뇌리': 10587, '교장': 10588, '면회': 10589, '엘레베이터': 10590, '라티': 10591, '꼼수': 10592, '악하다': 10593, '아트': 10594, '건축': 10595, '쫄면': 10596, '레이싱': 10597, '왕좌': 10598, '부호': 10599, '일장일단': 10600, '비일비재': 10601, '형용': 10602, '불매운동': 10603, '위시': 10604, '욱여놓': 10605, '모름지기': 10606, '미덕': 10607, '지폐': 10608, '기념일': 10609, '백지상태': 10610, '춠걱': 10611, '건실': 10612, '신토': 10613, '파이낸스': 10614, '웹스크레핑': 10615, '면세': 10616, '머기': 10617, '가벼워지다': 10618, '진취': 10619, '탐지툴': 10620, '엄연하다': 10621, '잠수함': 10622, '벅벅': 10623, '역겹다': 10624, '포털시스템': 10625, '긴밀하다': 10626, '펌웨어': 10627, '합심': 10628, '운반': 10629, '실책': 10630, '저지르다': 10631, '안성맞춤': 10632, '간명': 10633, '순이': 10634, '랐습니': 10635, '팔고': 10636, '반숙': 10637, '정제': 10638, '셔터': 10639, '동전': 10640, '생중계': 10641, '상법': 10642, '고지도': 10643, '업링크': 10644, '뒤론': 10645, '골다': 10646, '십이': 10647, '평영': 10648, '김참': 10649, '숨은그림찾기': 10650, '의상': 10651, '편컴': 10652, '하셧는데': 10653, '박탈': 10654, '진핻되어': 10655, '현란하다': 10656, '쫌쫌': 10657, '관데': 10658, '신기': 10659, '학률': 10660, '금융기관': 10661, '김태진': 10662, '꼼짝': 10663, '드랍제도': 10664, '드랍했': 10665, '암만': 10666, '어려웟다': 10667, '회지': 10668, '급경사': 10669, '걸어가다': 10670, '스텝': 10671, '치트키': 10672, '필적': 10673, '잡아먹히다': 10674, '책부': 10675, '단절': 10676, '꼽사리': 10677, '위국': 10678, '디코더': 10679, '분주': 10680, '파형': 10681, '버터': 10682, '답니': 10683, '빅갈거': 10684, '다감': 10685, '됫을거': 10686, '분때': 10687, '개빡': 10688, '다공': 10689, '개각': 10690, '흝는': 10691, '튕기': 10692, '뛰어들다': 10693, '시험떄': 10694, '여백': 10695, '심회': 10696, '영감': 10697, '다주': 10698, '인과응보': 10699, '생활화': 10700, '자칭': 10701, '이떄': 10702, '어치': 10703, '녹확': 10704, '레프': 10705, '겸사': 10706, '회교': 10707, '사범': 10708, '장수': 10709, '쳅터별': 10710, '쳅터': 10711, '빛용': 10712, '맹세코': 10713, '스파르타': 10714, '프랜차이즈': 10715, '재외국민': 10716, '일련': 10717, '독점': 10718, '이듭': 10719, '걸정': 10720, '정듀': 10721, '있었숩니': 10722, '아나콘다': 10723, '일개': 10724, '재단': 10725, '표집': 10726, '심취': 10727, '기니': 10728, '어메': 10729, '리칸': 10730, '원대하다': 10731, '순번': 10732, '마인크래프트': 10733, '손로': 10734, '중어': 10735, '닥해': 10736, '별탈': 10737, '독강러였어': 10738, '빠듯했던걸': 10739, '꺄르륵저': 10740, '못마땅하다': 10741, '달이다': 10742, '순두부': 10743, '부악': 10744, '맛제': 10745, '제조': 10746, '평수': 10747, '니콜라스': 10748, '닌지': 10749, '보물': 10750, '상실하다': 10751, '빡쎔': 10752, 'ㅡㅡㅡ': 10753, '다현': 10754, '피부': 10755, '절름발': 10756, '개쩜내용': 10757, '실마리': 10758, '명부': 10759, '은신': 10760, '의연': 10761, '원픽할': 10762, '축적': 10763, '나아': 10764, '쁘': 10765, '나아쁘': 10766, '등대': 10767, '동메달': 10768, '꼽고주': 10769, '감꽤': 10770, '라잌': 10771, '설전': 10772, '매달': 10773, '음가': 10774, '이남': 10775, '헛기침': 10776, '젛았어': 10777, '중강': 10778, '고이': 10779, '우연히': 10780, '나년': 10781, '재밋엇': 10782, '칼라': 10783, '이우선': 10784, '허리': 10785, '부상': 10786, '정동': 10787, '섭식': 10788, 'ㄷㅅㄹㅎ': 10789, '가선': 10790, '잡설': 10791, '자살론': 10792, '생태학': 10793, '정밀': 10794, '산적': 10795, '데총': 10796, '부속': 10797, '야합': 10798, '실체': 10799, '안배': 10800, '시원스럽다': 10801, '리세': 10802, '여울': 10803, '껍데기': 10804, '정수론': 10805, '바름': 10806, '가안': 10807, '업보': 10808, 'ㅋㅋㄱㅋㅋㅋ': 10809, 'ㅠㅜㅠㅠㅠ': 10810, '샤': 10811, '방팀': 10812, '한인': 10813, '실과': 10814, '집도': 10815, '점댘': 10816, '인젤': 10817, '똭': 10818, '존버해': 10819, '랙': 10820, '설렸음': 10821, '에에쁠': 10822, '고혈압': 10823, '중정': 10824, '중용': 10825, '데마': 10826, '모처럼': 10827, '찜찜하다': 10828, '하일': 10829, '어쭙잖다': 10830, '엄서': 10831, '우릴': 10832, '컵': 10833, '희미하다': 10834, '킹킹킹': 10835, '바이바이': 10836, '비행기': 10837, '호텔': 10838, '웃음소리': 10839, '맑은고딕': 10840, '색상': 10841, '글꼴': 10842, '리그': 10843, '재능러': 10844, '양민': 10845, '손님': 10846, '멍청': 10847, '상임': 10848, '봣습': 10849, '묶음': 10850, '제구': 10851, '배틀': 10852, '녹화물': 10853, '온건': 10854, '밤새기': 10855, '헬강입니': 10856, '돌연': 10857, '경정': 10858, '소통시': 10859, '함왜': 10860, '예견': 10861, '협의': 10862, '손잡다': 10863, '강아지': 10864, '주니어': 10865, '애널': 10866, '태연': 10867, '신나요': 10868, '거일': 10869, '말투셔': 10870, '삭도': 10871, '같넹': 10872, '음반': 10873, '움팀': 10874, '무선': 10875, '피카츄': 10876, '망령': 10877, '령': 10878, '뿔뿔이': 10879, '흩어지다': 10880, '하이브리드': 10881, '측정값': 10882, '탄산음료': 10883, '캔': 10884, '무게': 10885, '하이퍼': 10886, '묹': 10887, '드랍기간': 10888, '소의': 10889, '광탈': 10890, '주중': 10891, '금전': 10892, '노동환': 10893, '븐': 10894, '딜로이트': 10895, '이사': 10896, '유력하다': 10897, '덕업': 10898, '쌀집': 10899, '분잏시': 10900, '레포튼는': 10901, '아마존': 10902, '행인': 10903, '결핍': 10904, '로딩': 10905, '권리': 10906, '쪼시는데': 10907, '전염': 10908, '인더': 10909, '결정론': 10910, '대문': 10911, '상습': 10912, '발랄하다': 10913, '덱': 10914, '급작': 10915, '샛길': 10916, '원동력': 10917, '신처': 10918, '깨끗이': 10919, '린놈': 10920, '고성': 10921, '개관': 10922, '모델이론': 10923, '집합론': 10924, '공리': 10925, '환원': 10926, '룁': 10927, '추이': 10928, '클로저': 10929, '반환': 10930, '센강': 10931, '기용': 10932, '담백하다': 10933, '황희': 10934, '삼국지': 10935, '상산': 10936, '조자룡': 10937, '광': 10938, '공모전': 10939, '장애인': 10940, '분업': 10941, '역할극': 10942, '하워드': 10943, '구법': 10944, '권력': 10945, '차요': 10946, '내일': 10947, '부방': 10948, '법강': 10949, '유저': 10950, '극악하다': 10951, '독해력': 10952, '분잡': 10953, 'ㅈㅈ': 10954, '증발': 10955, '미반': 10956, '닉': 10957, '자기개발': 10958, '패스트': 10959, '킹민모': 10960, '낸셜': 10961, '맠': 10962, '잘라먹다': 10963, '도로명': 10964, '번각': 10965, '점임': 10966, '긎': 10967, '어쨋튼': 10968, '엮는': 10969, '가망': 10970, '똑똑이': 10971, '사다리타기': 10972, '묵다': 10973, '안중': 10974, '은비': 10975, '고우리': 10976, 'ㅜㅎㅎㅎ': 10977, '재밋있': 10978, '셤때': 10979, '낫밷': 10980, '블름': 10981, '헌신': 10982, '둔갑': 10983, 'ㅈㅗㄱㅂㅗ': 10984, '왕인': 10985, '어라하': 10986, '실없다': 10987, '조물조물': 10988, '대니': 10989, '거울': 10990, '모드': 10991, '웅앵웅': 10992, '평탄하다': 10993, '당기다': 10994, '선도': 10995, '으셨': 10996, '제문': 10997, '홀린': 10998, '과잠': 10999, '당빠': 11000, '적의': 11001, '임계': 11002, '막장': 11003, '고국': 11004, '한가하다': 11005, '스탑워치': 11006, '힘껏': 11007, '배성우': 11008, '이따가': 11009, '특장점': 11010, '결말': 11011, '단추': 11012, '구실': 11013, '뷰담': 11014, '갖은': 11015, '조윺': 11016, '선량하다': 11017, '도구로': 11018, '우아': 11019, '낌새': 11020, '직강': 11021, '심녹강': 11022, '열변': 11023, '누너': 11024, '이별': 11025, '연금제': 11026, '사회보장': 11027, '꿀강굿': 11028, '섀넌': 11029, '부근': 11030, '빛승수': 11031, '근래': 11032, '박제': 11033, '비통': 11034, '케일': 11035, '여유도': 11036, '애액': 11037, '프로잭': 11038, '차신': 11039, '인증샷': 11040, '블랑샤': 11041, '듣는둥': 11042, '싱크로': 11043, '말쪽': 11044, '번식': 11045, '각재': 11046, '불교': 11047, '책무': 11048, '수정사': 11049, '후광': 11050, '통용': 11051, '루시': 11052, '카피': 11053, '자락': 11054, 'ㅇㅇㅇㅇㅇㅇㅇㅇㅇㅇㅇㅇㅇㅇㅇㅇㅇㅇㅇㅇㅇㅇㅇㅇㅇㅇㅇㅇㅇㅇㅇㅇㅇㅇㅇㅇㅇㅇㅇㅇㅇㅇ': 11055, '더빰': 11056, '등에쁠': 11057, '임치': 11058, '미드나': 11059, '왜워': 11060, '완성형': 11061, '급니': 11062, '핟점': 11063, '분정': 11064, '경관': 11065, '앞문': 11066, '뒷문': 11067, '복도': 11068, 'ㅅㅂ': 11069, '안면': 11070, '소환': 11071, '프랑스': 11072, '수학자': 11073, '불문학': 11074, '콜렉터': 11075, '슈밤이': 11076, '후엌': 11077, '입가': 11078, '주황색': 11079, '보라색': 11080, '쩌구저쩌': 11081, '저리다': 11082, '원투': 11083, '전결': 11084, '총동원': 11085, '폭등': 11086, '다다닥': 11087, '난제': 11088, '파토': 11089, '스핑': 11090, '엔더슨': 11091, '인텔리전스': 11092, '대애': 11093, '근방': 11094, '랭킹': 11095, '굿굿굿': 11096, '전락': 11097, '컨설턴팅': 11098, '퓨': 11099, '강의었는': 11100, 'ㅕㅇㄹ': 11101, '어주세': 11102, '분류기': 11103, '일사천리': 11104, '안듭': 11105, '사채': 11106, '티날': 11107, '엿는데': 11108, '엇다': 11109, '명강평쁠': 11110, '티칭': 11111, '프라이': 11112, '파면': 11113, '불완전하다': 11114, '하울링': 11115, '억이': 11116, '아동학대': 11117, '포스텍': 11118, '화도': 11119, '구한': 11120, 'ㅎㅐ': 11121, '오프더레코드': 11122, '챙': 11123, '추적': 11124, '데이트': 11125, '폭력': 11126, '출산': 11127, '임금': 11128, '수엊': 11129, '불리안': 11130, '이건웅': 11131, '피셜입니': 11132, '격': 11133, '쓴소리': 11134, '이정재': 11135, '염색': 11136, '거린': 11137, '떠내려가다': 11138, '목적지': 11139, '누나': 11140, '기절': 11141, '컨텍': 11142, '달라짐': 11143, '허비': 11144, '닥터': 11145, '프로스트': 11146, '웹툰': 11147, '클로스': 11148, '의협': 11149, '연동': 11150, '부용': 11151, '혜': 11152, '난점': 11153, '인점': 11154, '뚜렷': 11155, '서어': 11156, '이그잼': 11157, '괜한걸': 11158, '닞': 11159, '어쨌뜬': 11160, 'ㅍㅇㅌ': 11161, '나나': 11162, '무덥다': 11163, '여름날': 11164, '에어컨': 11165, '빠방하': 11166, '밀집': 11167, '딛다': 11168, 'ㄷㅔ': 11169, '팀플케글': 11170, '덧붙이기': 11171, '배정은': 11172, '변천': 11173, '국회': 11174, '강용': 11175, '핀잔': 11176, '무더기': 11177, '일어서다': 11178, '김경희': 11179, '라우터': 11180, '주소': 11181, '안킬때': 11182, '심타': 11183, '럽': 11184, '쵸그쵸그쵸그쵸': 11185, '쵸그쵸그쵸그쵸그': 11186, '쵸그쵸그쵸그쵸교': 11187, '페미': 11188, '반쪽': 11189, '사소': 11190, '남하': 11191, '개장': 11192, '펀쿨섹': 11193, '동음이의어': 11194, '힉점': 11195, '도음': 11196, '년차때': 11197, '빨간색': 11198, '개죽': 11199, '원장': 11200, '미미': 11201, '비몽': 11202, '몽': 11203, '쳌': 11204, '추춴': 11205, '빛빛': 11206, '짓함': 11207, '바사라': 11208, '처가': 11209, '진챠': 11210, '액세스': 11211, '나왓던': 11212, '추린': 11213, '쉬응': 11214, '감개': 11215, '항상성': 11216, '위계': 11217, '사그라들다': 11218, '치의': 11219, '약소': 11220, '공짜': 11221, '쿠사리': 11222, '만천하': 11223, '까발리다': 11224, '수주': 11225, '첫사랑': 11226, '일밤': 11227, '디제이': 11228, '번개': 11229, '헤엄': 11230, '와르르': 11231, '신비롭다': 11232, '모자': 11233, '할머니': 11234, '그리스': 11235, '로마신화': 11236, '도오': 11237, '핏왜': 11238, '선후': 11239, '배동': 11240, '가업': 11241, '섹시': 11242, '청순': 11243, '허니버터칩': 11244, '니야': 11245, '수염': 11246, '깜찍뽀': 11247, '제명': 11248, '훠이훠이': 11249, '치룹니': 11250, '땜시': 11251, '밤늦다': 11252, '이참': 11253, '윈도': 11254, '빡센편시험공부량': 11255, '꽤어려웟다': 11256, '하임': 11257, '보닌': 11258, '대주': 11259, '재택': 11260, '파편': 11261, '꼰대같': 11262, '후속': 11263, '꿀꺽': 11264, '출현': 11265, '엄살': 11266, '흘러나오다': 11267, '볼품': 11268, '수욜': 11269, '문학': 11270, '반죽': 11271, '어려웟엉용': 11272, '최주': 11273, '치룬': 11274, '리보': 11275, '떠지다': 11276, '굳귣': 11277, '머그샷': 11278, '프로젝터': 11279, '아이스브레이킹': 11280, '적나라하다': 11281, '노출': 11282, '가위바위보': 11283, '주력': 11284, '가원': 11285, '심각': 11286, '노변': 11287, '자질구레하다': 11288, '조선': 11289, '만화': 11290, '에이치': 11291, '완피스': 11292, '빅맘': 11293, '면밀': 11294, 'ㅔㅔㅔ': 11295, '엣': 11296, '어머니': 11297, '채찍': 11298, '매라': 11299, '쉬웨': 11300, '수수께끼': 11301, '사체': 11302, '윌컨': 11303, '티뉴': 11304, '프롬': 11305, '유사성': 11306, '괴롭힘': 11307, '호로비츠': 11308, '웅웅': 11309, '흥일': 11310, '쉬움꿀강': 11311, '노션툴': 11312, '호칭': 11313, '불변': 11314, '없슴다': 11315, '주렁주렁': 11316, '사이비과학': 11317, '빡셈생물': 11318, '쌈': 11319, '백분율': 11320, '데뷯': 11321, '화두': 11322, 'ㅜㅋㅋㅋ': 11323, '반작용': 11324, '놀이터': 11325, '리미': 11326, '시파': 11327, '함대': 11328, '전자책': 11329, '장총': 11330, '차례대로': 11331, '갸': 11332, '날인': 11333, '묵살': 11334, '미분방정식': 11335, '초첨': 11336, '학관': 11337, '질문방': 11338, '빛킹갓': 11339, '자해': 11340, '빛이셨던': 11341, '행전': 11342, '필립': 11343, '국세': 11344, '감가상각비': 11345, '부금': 11346, '덜컥': 11347, '확답': 11348, '은미': 11349, '가보': 11350, '왼쪽': 11351, '유식': 11352, '원로': 11353, '않슴니': 11354, '권정헤': 11355, '버닝해': 11356, '명암': 11357, '관리자': 11358, '메이플스토리': 11359, '큐브': 11360, '퍼포먼스': 11361, '찡그리다': 11362, '비속어': 11363, '읊조리다': 11364, '기념품': 11365, '굴': 11366, '썻는데': 11367, '시발': 11368, '찮': 11369, '평로': 11370, '결강': 11371, '호인': 11372, '노말': 11373, '이습': 11374, 'ㅜㅜㅠ': 11375, '꼴등': 11376, '배배': 11377, '난죽택': 11378, '전초전': 11379, '격인': 11380, 'ㅔㅔㅔㅔㅔ': 11381, '컴활': 11382, '수주고': 11383, '쥐준': 11384, '인차': 11385, '유별나다': 11386, '꼬치꼬치': 11387, '장구': 11388, '땜빵': 11389, '피보나치수열': 11390, '부작': 11391, '정보보안': 11392, '양복': 11393, '차림': 11394, '흐트러짐': 11395, '휘뚜루': 11396, '마뚜루': 11397, '휘뚜루마뚜루': 11398, '명분': 11399, '노스': 11400, '튕기듯': 11401, '조예': 11402, '뚜들기다': 11403, '삐': 11404, '플루': 11405, '라이센스': 11406, 'ㅜㅠㅜㅜ': 11407, '똠꼼하': 11408, '비쁠받기': 11409, '듀얼부팅': 11410, '등등하다': 11411, '됫어': 11412, '빡셀줄': 11413, '대체었': 11414, '교대': 11415, '얻어맞다': 11416, 'ㄱㅅ': 11417, '쌔굳빠그': 11418, '편의점': 11419, '사먹다': 11420, '부리': 11421, '내생': 11422, '외생': 11423, '차익거래': 11424, '명감': 11425, '유안': 11426, '부적합': 11427, '금토': 11428, '정향': 11429, 'ㅜㅜㅜㅜㅜㅜㅜㅜㅜ': 11430, 'ㅠㅠㅠㅠㅠㅠㅠㅠㅠㅠㅠㅠㅠㅠㅠㅠㅠㅠㅠㅠ': 11431, '함주': 11432, '캉': 11433, '오오': 11434, '연구원': 11435, '순도': 11436, '질주': 11437, '흡사': 11438, '상수': 11439, '본부': 11440, '손짓': 11441, '낙서장': 11442, '락습': 11443, '적막': 11444, '감정노동': 11445, '퐇마': 11446, '실의': 11447, '낚는': 11448, '험하다': 11449, '임비': 11450, '갯수': 11451, '칩': 11452, '오랜만': 11453, '각생': 11454, '에누구': 11455, 'ㅋㅋㅋㅋㅋㅋㅋㅋㅋㅋㅋㅋㅋ': 11456, '당하': 11457, '뛰어오다': 11458, '괌': 11459, '회복하다': 11460, '산소': 11461, '창가': 11462, '자라': 11463, '저음': 11464, 'ㅋㅋㅋㅋㅋㅋㅋㅋㅋㅋㅋㅋㅋㅋㅋㅋㅋㅋㅋㅋㅋㅋㅋㅋㅋㅋㅋㅋㅋㅋㅋㅋㅋㅋㅋㅋㅋㅋㅋㅋㅋㅋㅋㅋㅋㅋㅋㅋㅋㅋㅋㅋㅋㅋㅋㅋㅋㅋㅋㅋㅋㅋㅋㅋㅋㅋㅋㅋㅋㅋㅋㅋㅋㅋㅋㅋㅋㅋㅋㅋㅋㅋㅋㅋㅋㅋㅋㅋㅋㅋ': 11465, '폐쇄성': 11466, '음영': 11467, '볼펜': 11468, '해딩': 11469, '성합': 11470, '진또': 11471, '기우': 11472, '배우자': 11473, '인간공학': 11474, '인텔': 11475, 'ㅋㅎㅋㅎㅋㅎㅋ': 11476, '무제': 11477, '워드프로세서': 11478, '묠니르': 11479, '후리다': 11480, '자화자찬': 11481, '김우석': 11482, '부팅': 11483, '데미': 11484, '싶다통프밍': 11485, '고형': 11486, '코노': 11487, '카트': 11488, '메이플': 11489, '마시시': 11490, '다양해지다': 11491, '아우라': 11492, 'ㅜㅠㅜ': 11493, '유해': 11494, '노오': 11495, '에플나왓': 11496, '징그럽다': 11497, '젤리': 11498, '답례': 11499, '갈아타다': 11500, '균': 11501, '업량학': 11502, '치루실': 11503, '터보': 11504, '컷닝': 11505, '상생': 11506, '따흐흑': 11507, '그롭할동': 11508, '짤팁': 11509, '인스톨': 11510, '플래그': 11511, '싸늘하다': 11512, '슈펙스홀': 11513, '외파': 11514, '강정원': 11515, '잠재력': 11516, '박태환': 11517, '퍼트': 11518, '글러먹': 11519, '이수나': 11520, '듯점': 11521, '영영사전': 11522, '자량': 11523, '상징': 11524, '옹호': 11525, '진급': 11526, '전방': 11527, 'ㅎㅋㅎㅋ': 11528, '웅웅앵앵웅웅': 11529, '퇴색': 11530, '으셔요저': 11531, '시민혁명': 11532, '가감': 11533, '응융': 11534, '겉햝기': 11535, '버렷': 11536, '뿜뿜하': 11537, 'ㅎㅎㅎㅎㅎㅎㅎㅎㅎㅎㅎㅎㅎ': 11538, '거예': 11539, '과학혁명': 11540, '슁': 11541, '분단국가': 11542, '두둑하다': 11543, '임팀': 11544, '행열': 11545, '바람따라': 11546, '무위': 11547, '리포': 11548, '알쏭달쏭': 11549, '불씨': 11550, '노프': 11551, '블럼': 11552, '채탕': 11553, '병완': 11554, '칼칼칼절평': 11555, '택했다': 11556, '대단원': 11557, '피시방': 11558, '웡키': 11559, '알못': 11560, '어예어예': 11561, '가책': 11562, '예거': 11563, '뜨겁다': 11564, '달구다': 11565, '주원': 11566, '넵': 11567, '보전': 11568, '음향': 11569, '백퍼': 11570, '성사': 11571, '설레다': 11572, '세운': 11573, '만하임': 11574, '파레': 11575, '베블런': 11576, '쿨리': 11577, '영문과': 11578, '헐렁': 11579, '하물며': 11580, '이항': 11581, '걔': 11582, '뚝': 11583, '이처럼': 11584, '차단시키다': 11585, '교회': 11586, '눈살': 11587, '아랍권': 11588, '불교인': 11589, '십': 11590, '주변기기': 11591, '갈건': 11592, '다세': 11593, '부적': 11594, '뱅뱅': 11595, '도함수': 11596, '양자컴퓨터': 11597, '자고로': 11598, '임벨': 11599, '소한': 11600, '짝짝': 11601, '원만하다': 11602, '결손': 11603, '승수': 11604, '타치': 11605, '무산': 11606, '평쁠이': 11607, '안빡': 11608, '헬이긴': 11609, '비상하다': 11610, '잼병': 11611, '직분': 11612, '다양성': 11613, '일차': 11614, '튜버': 11615, '안내받다': 11616, '포지셔닝': 11617, '현지': 11618, '주얼': 11619, '껄끄러운': 11620, '댕강': 11621, '연애경험': 11622, '콬콬': 11623, '꿈나라': 11624, '햇빛': 11625, '테블릿': 11626, '연초록': 11627, '연분홍': 11628, '원색': 11629, '뜸플젝': 11630, '안내면': 11631, '떳는': 11632, '부요': 11633, '부하라': 11634, '인사말': 11635, '사망': 11636, '앵무새': 11637, '뽀인뚜': 11638, '민원': 11639, '무진장': 11640, '왓': 11641, '애블': 11642, '쓔잉': 11643, '카인': 11644, '도터': 11645, '지에스': 11646, '이음': 11647, '화보': 11648, '지정식': 11649, '꼬거': 11650, '것똑': 11651, '권왜': 11652, '저화질': 11653, '테일러급수': 11654, '무한급수': 11655, '멱급수': 11656, '지수함수': 11657, '중적분': 11658, '숙달': 11659, '초월함수': 11660, '간발': 11661, '활력소': 11662, '한나': 11663, '쪼': 11664, '손발': 11665, '부들부들': 11666, '원님': 11667, '지아': 11668, '주무시다': 11669, '여실히': 11670, '뵀던': 11671, '버벅거리시': 11672, '분한': 11673, '대동소이하다': 11674, '편균': 11675, '어음': 11676, '점심시간': 11677, '상투': 11678, '빌드': 11679, '다이내믹': 11680, '꿈떡꿈떡': 11681, '블락': 11682, '췌': 11683, '알레르기': 11684, '킹범': 11685, '민데통': 11686, '핼': 11687, '있읏': 11688, '몰두하다': 11689, '레코딩': 11690, '귀욤': 11691, '스며들다': 11692, '활기': 11693, '리프': 11694, '레시': 11695, '마도': 11696, '조회': 11697, '그으': 11698, '작자': 11699, '치부': 11700, '저잣거리': 11701, '효시': 11702, '심꿀강': 11703, '학석': 11704, '속단': 11705, '면적': 11706, '유보': 11707, '신봉': 11708, '비니': 11709, '걸왜': 11710, '축섣체크': 11711, '혼재': 11712, '송출하': 11713, '엮으시': 11714, '초장': 11715, '죽도': 11716, '개꼰대같': 11717, '토달': 11718, '매무새': 11719, '적함': 11720, '단정하다': 11721, '사원': 11722, '안경': 11723, '상사': 11724, '립스틱': 11725, '혈색': 11726, '개꼰대임': 11727, '멘토링': 11728, '함부로': 11729, '영민': 11730, '피파': 11731, '크림슨': 11732, '원단': 11733, '음색': 11734, '클리셰': 11735, '칼칼칼칼': 11736, '플레인': 11737, '장국': 11738, '구만': 11739, '지상': 11740, '캔슬': 11741, '정겹다': 11742, '장기간': 11743, '속닥속닥': 11744, '막차': 11745, '일초': 11746, '재임': 11747, '주절주절': 11748, '치팅사건': 11749, '몰이': 11750, '안뜰': 11751, '고유': 11752, '라그랑지함수': 11753, '역행렬': 11754, '쪼가리': 11755, '육신': 11756, '제인': 11757, '난민': 11758, '스탠스이셔': 11759, '김영': 11760, '정학': 11761, '재직': 11762, '해인': 11763, '확언': 11764, '미괄식': 11765, '급이셔': 11766, '정보전': 11767, '벤야민': 11768, '시카고': 11769, '막스': 11770, '남산': 11771, '용산': 11772, '안듬': 11773, '직류': 11774, '마찰': 11775, '개팀': 11776, '지대': 11777, '빡센거': 11778, '착석': 11779, '선로': 11780, '과락': 11781, '들엇습니': 11782, '룰루랄라': 11783, '제반': 11784, '개꿀스': 11785, '요긴': 11786, '변태': 11787, '내욜': 11788, '제곱합': 11789, '첨예하다': 11790, '개화': 11791, '꾹꾹': 11792, '주의력': 11793, '나우': 11794, '햤다': 11795, '변졀되능': 11796, '미노': 11797, '디아스포라': 11798, '주인': 11799, '송출': 11800, '방역': 11801, '칙': 11802, '간편하다': 11803, '건들': 11804, '저쪽': 11805, '이항분포': 11806, '이생': 11807, '분개하다': 11808, '인내심': 11809, '곡선': 11810, '빛제': 11811, '함열': 11812, '대못': 11813, '뭉텅이': 11814, '등지': 11815, '에이치엘비': 11816, '수직': 11817, '열악하다': 11818, '베스': 11819, '김주희': 11820, '태아': 11821, '선망': 11822, '업단': 11823, '상쇄함': 11824, '뚜렸': 11825, '건건': 11826, '지정시': 11827, '빡센느낌': 11828, '앉히다': 11829, '리허설': 11830, '중얼중얼': 11831, '너넨': 11832, '각심': 11833, '이글': 11834, '경혐': 11835, '명세서': 11836, '뉘양스': 11837, 'ㅠㅜㅠㅜㅠ': 11838, '양산': 11839, '까불다': 11840, '글세': 11841, 'ㅎㅎㅎㅎㅎㅎㅎㅎㅎ': 11842, '코읍읍': 11843, '해진': 11844, '촘촘했어': 11845, '상큼': 11846, '파싱': 11847, '마녀': 11848, '깔리다': 11849, '섭외': 11850, '어메리카': 11851, '곱절': 11852, '말것': 11853, '구렁이': 11854, '발행': 11855, '회계기준': 11856, '마인': 11857, '항일': 11858, '릉': 11859, '벙벙하다': 11860, '이커머스': 11861, '데이터시각화': 11862, '허울': 11863, '망상': 11864, '타파': 11865, '되렵니': 11866, '흥미진진': 11867, '쿨가이': 11868, '브니': 11869, '싸스': 11870, '통통': 11871, '칼칼절평': 11872, '바처': 11873, '보관': 11874, '빛퀸갓': 11875, '커넥션': 11876, '용돈': 11877, '관록': 11878, '허컴프': 11879, '빡셌구': 11880, '음악인': 11881, '차차차': 11882, '력': 11883, '넉': 11884, '대책': 11885, '마커': 11886, '왓음강': 11887, '마르코프': 11888, '최대우도': 11889, '굇': 11890, '수분': 11891, '무근': 11892, '선취': 11893, '얂았으': 11894, '국한': 11895, '기발하다': 11896, '비틀': 11897, '직선': 11898, '안톤': 11899, '스트랭': 11900, '스팬된': 11901, '말학': 11902, '별일': 11903, '언사': 11904, '엇답': 11905, '계산수': 11906, '듭니당': 11907, '설마설마': 11908, '안준': 11909, '과실': 11910, '팬이셔': 11911, '구성만': 11912, '구학': 11913, '닺팀': 11914, '도명': 11915, '읊어보': 11916, '수능시험': 11917, '경수': 11918, '휩싸다': 11919, '빡쌥니': 11920, '괸장히': 11921, '과소': 11922, '답정': 11923, 'ㅂㅂ': 11924, '정자': 11925, '발신': 11926, '부류': 11927, '만장': 11928, '대보면': 11929, '포워딩하심': 11930, '자퇴': 11931, '물량': 11932, '기선': 11933, '라틴': 11934, '정방': 11935, '통린': 11936, '가샤': 11937, '할떄': 11938, '악용': 11939, '중감': 11940, '대제': 11941, '임제': 11942, '비정상': 11943, '준이시': 11944, '로드맵': 11945, '웅시할': 11946, '주얐으므': 11947, '가름': 11948, '순난': 11949, '번번': 11950, '복권': 11951, '중압감': 11952, '사공': 11953, '흐트러집니': 11954, '찍찍': 11955, '대립': 11956, '웅얼웅': 11957, '백트랙': 11958, '혜자롭': 11959, '욤뽀': 11960, '찬란하다': 11961, '사료': 11962, '후일': 11963, '촘촘한듯': 11964, '비숫': 11965, '그득그득': 11966, '초심': 11967, '균등분포': 11968, '합성': 11969, '웹스크래핑': 11970, '체재': 11971, '부자연스럽다': 11972, '갸우뚱': 11973, '실세': 11974, '기회비용': 11975, '심항': 11976, '틈새시장': 11977, '거두': 11978, '갑자': 11979, '응급': 11980, '종간': 11981, '크크': 11982, '원평': 11983, '아작': 11984, '윤곽': 11985, '기아': 11986, '처분': 11987, '택했': 11988, '건너가다': 11989, '권수영': 11990, '홍엠아': 11991, '함엠아': 11992, '정당성': 11993, '금붕어': 11994, '트루': 11995, '폴스': 11996, '번뜩이다': 11997, '들러붙어서': 11998, '음행': 11999, '정실': 12000, '빈말': 12001, '악당': 12002, '아안': 12003, '지렁이': 12004, '혈압': 12005, '월경': 12006, '기면': 12007, '기댓값': 12008, '급등': 12009, '질리': 12010, '닉네임': 12011, '홀로': 12012, '옆반': 12013, '불랙보드': 12014, '결산': 12015, '고충': 12016, '짓눌리다': 12017, '헤헿': 12018, '팀일': 12019, '파급': 12020, '롤백': 12021, '만고': 12022, '여준': 12023, '다니엘': 12024, '사막': 12025, '곧바로': 12026, '공동': 12027, '수험생': 12028, '셧습니': 12029, '떳음': 12030, '땃땃해': 12031, '임글': 12032, '태련': 12033, '똭똭': 12034, '교육학': 12035, '슬로우': 12036, '말함': 12037, '송이': 12038, '궁극': 12039, '굶주리다': 12040, '찬사': 12041, '빅우준': 12042, '호우': 12043, '스타크래프트': 12044, '저그': 12045, '흑백': 12046, '라스트': 12047, '톡드': 12048, '어바웃': 12049, '위윌': 12050, '컨티뉴': 12051, '당혹': 12052, '자등': 12053, '어쨌건': 12054, '연금술사': 12055, '도정': 12056, '함재': 12057, '렷': 12058, '꼬장': 12059, '자드': 12060, '뜰깨': 12061, '심또': 12062, '읃': 12063, '멏': 12064, '하주시': 12065, '도용': 12066, '나야': 12067, '옵챗': 12068, '얼레': 12069, '미궁': 12070, '스파크': 12071, '웠음': 12072, '항등식': 12073, '친밀': 12074, '후유증': 12075, '구조사': 12076, '정갈하다': 12077, '시원': 12078, '남겨지다': 12079, '파드백': 12080, '복호화': 12081, '허걱했어': 12082, '북답': 12083, '김승진': 12084, '유기성': 12085, '고집불통': 12086, '이러나저러나': 12087, '괘': 12088, '교수밈': 12089, '하드코어': 12090, '촌철': 12091, '혼합형': 12092, '형통': 12093, '이스터에그': 12094, '클린': 12095, '이모저모': 12096, '거치': 12097, '외교학': 12098, '듯국강': 12099, '튼튼하다': 12100, '개산': 12101, '퍽': 12102, '씨방': 12103, '그로테스크': 12104, '라카': 12105, '제트': 12106, '축구선수': 12107, '로시니': 12108, '근대화': 12109, '어려웟던': 12110, '상금': 12111, '학비': 12112, '정필': 12113, '명강읩니': 12114, '핮니': 12115, '부항': 12116, '벡터공간': 12117, '비디오클립': 12118, '온통': 12119, '자식': 12120, '빛강': 12121, '기세': 12122, '디벙킹': 12123, '조대': 12124, '자율학습': 12125, '깨나': 12126, '서유럽': 12127, '선진국가': 12128, '거장': 12129, '영관': 12130, '풍족하다': 12131, '혈안': 12132, '헬는': 12133, '더럿': 12134, '킨': 12135, '느겨지': 12136, '바란': 12137, '분제': 12138, '줌수업떄': 12139, '띵갓입니': 12140, '아나고': 12141, '드령': 12142, '액설런트': 12143, '끝날떄': 12144, '층화추출법': 12145, '풍문': 12146, '콘서트': 12147, '찾아듣다': 12148, '쉩': 12149, '택식': 12150, '끄윽끄윽거린': 12151, '실리콘밸리': 12152, '권미진': 12153, '각인': 12154, '통수치다': 12155, '어드벤티': 12156, '과투': 12157, '스콜': 12158, '분팀': 12159, '곳도': 12160, '의역': 12161, '직독': 12162, '구구단': 12163, 'ㅜㅜㅠㅠㅠ': 12164, '자사': 12165, '차도': 12166, '무안하다': 12167, 'ㅇㅇㅇㅇㅇㅇㅇㅇㅇㅇㅇㅇㅇㅇㅇㅇㅇㅇㅇㅇㅇㅇㅇㅇㅇㅇㅇㅇㅇㅇㅇㅇㅇㅇㅇㅇㅇㅇㅇㅇ': 12168, '점화식': 12169, '회색': 12170, '단발머리': 12171, '등비수열': 12172, '최빈값': 12173, '널럴합니': 12174, '우습다': 12175, '법률': 12176, '영화음악': 12177, '됏': 12178, '깨물다': 12179, 'ㅜㅠㅠㅠㅠㅠ': 12180, '갖가지': 12181, '선례': 12182, '과부': 12183, '선민의식': 12184, '그룹핑': 12185, '신마': 12186, '완전체': 12187, '러시아어': 12188, '지성인': 12189, '동남아': 12190, 'ㅜㅁㅜ': 12191, '힙': 12192, '오즈': 12193, '헬강다웠습니': 12194, '비쁠정도': 12195, '엘포벽': 12196, '윤효정': 12197, '인덱': 12198, '싱하': 12199, '쁠받음': 12200, '넘사벽': 12201, '취합해': 12202, '쪼록': 12203, '기역': 12204, '무한등비급수': 12205, '랙션': 12206, '뽀짝뽀': 12207, '사카린': 12208, '망부석': 12209, '드기': 12210, '님네팀': 12211, '찡하다': 12212, '똥살똥': 12213, '꿰뚫다': 12214, '창피하다': 12215, '효능': 12216, '톡톡하다': 12217, '것를': 12218, '구직': 12219, '시드': 12220, '빡센수업': 12221, '구래': 12222, '중계': 12223, '매출': 12224, '쇼저': 12225, '어차리': 12226, '토피아': 12227, '나무늘보': 12228, '디지다': 12229, '변천사': 12230, '편애': 12231, '팀플할떄': 12232, '호기롭': 12233, '삐걱': 12234, '거림': 12235, '똥컴': 12236, 'ㅠㅜㅠㅜㅠㅜㅠㅜㅠㅜ': 12237, 'ㅠㅜㅠㅜㅠㅜ': 12238, 'ㅠㅜㅠㅜㅠㅜㅠㅜㅠ': 12239, '에쁠받아': 12240, '염려': 12241, '낼껀데': 12242, '귀차니즘': 12243, '밭일': 12244, '주사실': 12245, '유쾌': 12246, 'ㅜㅎㅎ': 12247, '늠데': 12248, '암송': 12249, '오피': 12250, '절묘하다': 12251, '매치': 12252, '챗팅창': 12253, '플립트': 12254, '정도선': 12255, '렙탑': 12256, '과학고': 12257, '백만원': 12258, '학생용': 12259, '시계열': 12260, '의라': 12261, '유투': 12262, '프젝': 12263, '경과': 12264, '하평': 12265, '풍채': 12266, '움쿰씩': 12267, '타로': 12268, '빼빼로데이': 12269, '빼빼로': 12270, '소멸': 12271, '소크라티브': 12272, '진보': 12273, '인수': 12274, '인계': 12275, '단도직입': 12276, '옶어': 12277, '설몀': 12278, '하와': 12279, '종교학': 12280, '월드': 12281, '오감': 12282, '구식': 12283, '광고주': 12284, '물질': 12285, '상속세': 12286, '체우': 12287, '해학': 12288, 'ㄱㄴ': 12289, '우웅': 12290, '음양': 12291, '휴먼': 12292, '고령': 12293, '지우': 12294, '쟁': 12295, '얼른얼른': 12296, '퀵': 12297, '투머치': 12298, '토커이': 12299, '갈사': 12300, 'ㅗ': 12301, '지보': 12302, '벼락': 12303, '다채롭습니': 12304, '휩싸이다': 12305, '짓누르다': 12306, '아픔': 12307, '싸잡다': 12308, '넨': 12309, '은로': 12310, '파보': 12311, '스콜라': 12312, '서점': 12313, '자산운용': 12314, '적절': 12315, '인지부조화': 12316, '일어난다': 12317, '분율': 12318, '테크놀로지': 12319, '약과': 12320, '맞춤법': 12321, '비쁠받음': 12322, '비추출쳌': 12323, '탑승': 12324, '여력': 12325, '정황': 12326, '감감': 12327, '무소식': 12328, '과학부': 12329, '사교': 12330, '폴더': 12331, '넒': 12332, '감원': 12333, '젠더학': 12334, '통행': 12335, '전해지다': 12336, '금두엽': 12337, '귀무가설': 12338, '대립가설': 12339, '후향': 12340, '치욕스럽다': 12341, '총총': 12342, '저술': 12343, '세이프': 12344, '애호': 12345, '노래실력': 12346, '신형': 12347, '관도': 12348, '향연': 12349, '만리': 12350, '졸귀': 12351, '처우': 12352, '빈곤층': 12353, '향유': 12354, '니요': 12355, 'ㄹㅏ': 12356, '테두리': 12357, '당당': 12358, '시츄': 12359, '토리': 12360, '슴하셧': 12361, '빙해': 12362, '하나같다': 12363, '스컬': 12364, '해시테이블': 12365, '다국적기업': 12366, '당국': 12367, '기겁': 12368, '책값': 12369, '합작': 12370, '배짱': 12371, '상취감': 12372, '전시': 12373, '어우려져': 12374, '겅우': 12375, '베베': 12376, '듭니다또': 12377, '무의미': 12378, '닌': 12379, '원주': 12380, '흐뭇하다': 12381, '공명정대': 12382, '편컴구': 12383, '창문': 12384, '빡셈시험': 12385, '개방경제': 12386, '이오덕': 12387, '순우리말': 12388, '찌들다': 12389, '멀뚱멀뚱': 12390, '뉴럴': 12391, '공수': 12392, '교외': 12393, '기단': 12394, '스릉흡느드': 12395, '모리': 12396, '방치': 12397, '부수': 12398, '시냐': 12399, '거중': 12400, '내분비기관': 12401, '분비': 12402, '괜찮랐다': 12403, '킹향': 12404, '추종': 12405, '불허': 12406, '왜은': 12407, '트뤤줵션': 12408, '연음': 12409, '두통': 12410, '사의': 12411, '도일': 12412, '비회': 12413, '월월': 12414, '아리다': 12415, '레지스터': 12416, '중지': 12417, '주기억장치': 12418, '비쁠임': 12419, '줄곧': 12420, '고함': 12421, '어둡다': 12422, '국영': 12423, '변두리': 12424, '운지': 12425, '고사하고': 12426, '최은수': 12427, '편팀': 12428, '몃': 12429, '아버님': 12430, '어머님': 12431, '전화번호': 12432, '대동제': 12433, '입실': 12434, '표지': 12435, '어부지리': 12436, '비터비': 12437, '빡쌔': 12438, '떠나가다': 12439, '고상': 12440, '옆길': 12441, '비쁠입니': 12442, '허헣': 12443, '띡띡': 12444, '조그맣다': 12445, '동점': 12446, '합계': 12447, '득셤': 12448, '언해': 12449, '키워지다': 12450, '유니스트': 12451, '휘둘리셔': 12452, '드로': 12453, '천인': 12454, '대서양': 12455, '학내': 12456, '악화시키다': 12457, '일대기': 12458, '안컴프': 12459, '용무': 12460, '언어컴프': 12461, '타임테이블': 12462, '기준서': 12463, '컨설팅하': 12464, '차워밍업': 12465, '포워딩': 12466, '빡센과목': 12467, '토시': 12468, '동화': 12469, '까딱': 12470, '최공': 12471, '흥겹다': 12472, '절규': 12473, '매입채무': 12474, '강대': 12475, '체일': 12476, '편임팀': 12477, '다급하다': 12478, '마처': 12479, '머진': 12480, '개쩌': 12481, '들고나다': 12482, '려면': 12483, '김동광': 12484, '다작': 12485, '파로': 12486, '깝': 12487, '죽대': 12488, '소득': 12489, '직격타죄': 12490, '힘나다': 12491, '열등생': 12492, '삼분': 12493, '띵킹': 12494, '고객': 12495, '상쇄시킬': 12496, '더보': 12497, '치루었는데': 12498, '자동화': 12499, '가져다주다': 12500, '빠듯했어': 12501, '훌렁훌렁': 12502, '편익': 12503, '응용프로그램': 12504, '있습니댱녹강': 12505, '스크리블': 12506, '어유': 12507, '느릿하다': 12508, '동적계획법': 12509, '디메릿': 12510, '쫘': 12511, '라락': 12512, '쌩쌩': 12513, '글러': 12514, '팍': 12515, '루이비통': 12516, '가방': 12517, '금수': 12518, '지원이': 12519, '감손범진': 12520, '킹재웅입니': 12521, '반사': 12522, '숨막히다': 12523, '덭': 12524, '흡': 12525, '탈잉이': 12526, '탈잉': 12527, '론데': 12528, '부릉부릉': 12529, '움직임': 12530, '느낌블보': 12531, '사본': 12532, '고토': 12533, '마쇼': 12534, '웰빙': 12535, '관념': 12536, '발현': 12537, '염': 12538, '블랙숄츠': 12539, '랄건': 12540, '안병대': 12541, '있겠쥬': 12542, '집법': 12543, '나왓네': 12544, '초은': 12545, '줌툴': 12546, '수학량': 12547, '구글검색': 12548, 'ㅎㅐㅆ': 12549, '중독': 12550, '빛빛빛빛빛빛빛빛': 12551, '어딨다': 12552, '습민': 12553, '웃음꽃': 12554, '빛향': 12555, '간성': 12556, '비쁠이엇어': 12557, '하단': 12558, '일맥상통': 12559, '어여': 12560, '진전': 12561, '기말텀프': 12562, '우월하다': 12563, '종말': 12564, '악칠': 12565, '으음': 12566, '퍼줌': 12567, '풀첵': 12568, '유용': 12569, '차후': 12570, '학식': 12571, '이강': 12572, '코로': 12573, '수해': 12574, '집딘상담': 12575, 'ㅟㅂ': 12576, '캠페인': 12577, '름': 12578, '이현석': 12579, '개비': 12580, '잘잘': 12581, '쪼매': 12582, '트랩': 12583, '컬렉터': 12584, '프라블럼셋': 12585, '유니': 12586, '간략': 12587, '합반': 12588, '잘근잘근': 12589, '노동권': 12590, '포탈': 12591, '교습': 12592, '어쩌잔': 12593, '란거': 12594, '맙소사': 12595, '세팅법좀': 12596, '쓱쓱': 12597, '세려': 12598, '구년': 12599, '예정일': 12600, '강정': 12601, '재깍재깍': 12602, '멘타리': 12603, '칱싵': 12604, '배출': 12605, '칼큘러스같은걸': 12606, '화살표': 12607, '무서움': 12608, '맹': 12609, '패인': 12610, '그물': 12611, '인근': 12612, '말끔히': 12613, '저작권법': 12614, '저촉': 12615, '재수없다': 12616, '배종석': 12617, '점성': 12618, '작별': 12619, '뇌피셜로': 12620, '흐릿하': 12621, '볼록볼록': 12622, '컴파': 12623, '낙타': 12624, '음모': 12625, '터닝': 12626, '식를': 12627, '식전': 12628, '잘주싲니': 12629, '용해': 12630, '전당': 12631, '임영상': 12632, '더없이': 12633, '대뇌피질': 12634, '햇수': 12635, '방불': 12636, '안부': 12637, '귀차니스트': 12638, '리즈': 12639, '블함': 12640, '욥기': 12641, '말칠': 12642, '답젼': 12643, '전해': 12644, '음기': 12645, '되풀이': 12646, '발문': 12647, '답임': 12648, '과인': 12649, '줠': 12650, '대한국': 12651, '배베': 12652, '가부장': 12653, '옥수': 12654, '소녀': 12655, '성관계': 12656, '신호등': 12657, '운전자': 12658, '미혼모': 12659, '억대': 12660, '아줌마': 12661, '바로잡다': 12662, '자신만만하다': 12663, '광야': 12664, '모호': 12665, '백트래킹': 12666, '알아채다': 12667, '삼각지': 12668, '로그함수': 12669, '한소리': 12670, '앋': 12671, '뭨': 12672, '총괄': 12673, '것예': 12674, '억울': 12675, '북제': 12676, '닥치': 12677, '괜참': 12678, '솔선수범': 12679, '고팀': 12680, '뻔햇습니': 12681, '여친': 12682, '타겟': 12683, '훈화적': 12684, '산책': 12685, '같애개블': 12686, '스테이플러': 12687, '재밋었음물론': 12688, '산개': 12689, '신신당부': 12690, '킹임': 12691, '컴프정': 12692, '등분': 12693, '뭔지': 12694, '격무': 12695, '헀다': 12696, '강읜데': 12697, '설사': 12698, '명안': 12699, '동급생': 12700, '윾쾌함과제': 12701, '훼까닥': 12702, '로더': 12703, '먈': 12704, '떡락하': 12705, '음음': 12706, '남학생': 12707, '안달': 12708, '거품': 12709, '셧습': 12710, '잠들떄': 12711, '식비': 12712, '교통비': 12713, '애드온': 12714, '스라밸': 12715, '본교': 12716, '객곽': 12717, '유망': 12718, '긍로': 12719, '탑탑탑': 12720, '암호학': 12721, '멜로': 12722, '인터프리터': 12723, '페이크': 12724, '오픈소스': 12725, '딴판': 12726, '응답시간': 12727, '다스리다': 12728, '묵직하다': 12729, '세태': 12730, 'ㅎㅎㅎㄱ': 12731, '보드마카': 12732, '계서': 12733, '탐사': 12734, '일명': 12735, '리나': 12736, '말듯': 12737, '택일': 12738, '콜레보레이트': 12739, '징징대다': 12740, '주보': 12741, '본가': 12742, '감자': 12743, '개꼴': 12744, '일분': 12745, '각처': 12746, '린데': 12747, '별나라': 12748, '꼬꼬': 12749, '동산': 12750, '햐였다': 12751, '복잡복잡': 12752, '체점표': 12753, '몬': 12754, '힣': 12755, '머엿드': 12756, '담수': 12757, '식초': 12758, '얘때메': 12759, '말팝': 12760, '기소': 12761, '팀티칭': 12762, '깃허브': 12763, '완죤': 12764, '사견': 12765, '갈망': 12766, '이클립스': 12767, '휴일': 12768, '욱': 12769, '강압': 12770, '공세': 12771, '통곈데': 12772, '폭망': 12773, '족통': 12774, '업업': 12775, '수다': 12776, '꼬마': 12777, '형장': 12778, '갠데': 12779, '기밀': 12780, '방심': 12781, '독설': 12782, '위험성': 12783, '부등호': 12784, '할하': 12785, '밒': 12786, '날아다니다': 12787, '계몽': 12788, '우직하다': 12789, '효종': 12790, '황송': 12791, '몽매': 12792, '우리네': 12793, '나옹': 12794, '각양각색': 12795, '함독': 12796, '강생이': 12797, '골드렛': 12798, '용용': 12799, '나시': 12800, '자용쿠시': 12801, '테러': 12802, '몸서리': 12803, '정보격차': 12804, '부사': 12805, '폐허': 12806, '틀렷는데': 12807, '맟추기': 12808, '실효': 12809, '낱낱': 12810, '드랍할': 12811, '프리젠테이션': 12812, '제로로': 12813, '처방전': 12814, '제츨': 12815, '치팅없': 12816, '퇴보하다': 12817, '셨다': 12818, '생강': 12819, '환경설정': 12820, '년년': 12821, '입터': 12822, 'ㅂㄹ': 12823, '사심': 12824, '듬챕터': 12825, '넥슨': 12826, '행위론': 12827, '무리수': 12828, '차레': 12829, '시을': 12830, '기름': 12831, '평시': 12832, '상속': 12833, '차일': 12834, '따윈': 12835, '제이니': 12836, '오조오억': 12837, '쇼크': 12838, '온전': 12839, '일가견': 12840, '맴돎': 12841, '행렬식': 12842, '칭할': 12843, '맥시': 12844, '멈': 12845, '세도': 12846, '결리다': 12847, '급변': 12848, '심전': 12849, '살아오다': 12850, '도입': 12851, '스스호': 12852, '쩝': 12853, '비지': 12854, '비버': 12855, '펑션': 12856, '불행': 12857, '반려견': 12858, '잠입': 12859, '아야': 12860, '락점': 12861, '명치': 12862, '안위': 12863, '개쪽': 12864, '수백': 12865, '어기다': 12866, '벗': 12867, '랫': 12868, '처방': 12869, '두근두근': 12870, '이상하': 12871, '심생': 12872, '우형': 12873, '사내': 12874, '듬성듬성': 12875, '못빱니': 12876, '해롭다': 12877, '파릇파릇하다': 12878, '라이킷': 12879, '시들하다': 12880, '듯꿀': 12881, '수익률': 12882, '프론티어': 12883, '응방': 12884, '금치': 12885, '괴리도': 12886, '마음잡다': 12887, '호환성': 12888, '잎': 12889, '개차': 12890, '문물': 12891, '북일': 12892, '학정': 12893, '피곤': 12894, '쌩노베': 12895, '쌩노': 12896, '스크린': 12897, '맹신': 12898, '놀랏습': 12899, '트함': 12900, '드롭하': 12901, '드롭할': 12902, '제출량': 12903, '뻥': 12904, '나영': 12905, '원가회계': 12906, '끓이다': 12907, '신하': 12908, '래핑': 12909, '승진': 12910, '블리': 12911, '시리즈': 12912, '캐나다': 12913, '여의': 12914, '소셜미디어': 12915, '광고인': 12916, '넌무': 12917, '나날': 12918, '사탄': 12919, '페이보릿': 12920, '조아': 12921, '셤준비': 12922, '믿어지다': 12923, '구축': 12924, '재웅님': 12925, '서버시간': 12926, '국민': 12927, '기특하다': 12928, '강의었으': 12929, '열강': 12930, '하셧구': 12931, '숨쉬다': 12932, '착': 12933, '승산': 12934, '잠잠하다': 12935, '읊으시': 12936, '해치': 12937, '홀려': 12938, '유희': 12939, '최석': 12940, '제주': 12941, '어의': 12942, '수사': 12943, '좌파': 12944, '직조': 12945, '맹아': 12946, '직할': 12947, '허투루': 12948, '참담하다': 12949, '지출': 12950, '레토릭': 12951, '촌극': 12952, '진성': 12953, '사보다': 12954, '쾌활하다': 12955, '차친': 12956, '메뉴얼': 12957, '갉아먹다': 12958, '스키밍': 12959, '분화': 12960, '할까말까': 12961, '손흥민': 12962, '신흥': 12963, '생가': 12964, '스으윽': 12965, '년걸': 12966, '망연자실': 12967, '세월': 12968, '스냅샷': 12969, '명강꿀': 12970, '웅얼웅알': 12971, '예복': 12972, '달랏': 12973, '늉': 12974, '영공': 12975, '피신': 12976, '웅얼웅얼': 12977, '깜짝깜짝': 12978, 'ㅜㅜㅜㅜㅜㅜ': 12979, '일차함수': 12980, '큐잉큐잉큐잉할때': 12981, '슬큐잉어렵': 12982, '텀플': 12983, '마무': 12984, 'ㄹㅔ': 12985, '이성': 12986, '인격장애': 12987, '올린다': 12988, '장로': 12989, '데자뷰': 12990, '속독': 12991, '점유': 12992, '꺠': 12993, '암담하다': 12994, '쁠몰해': 12995, '데신': 12996, '덜렁대다': 12997, '졷망': 12998, '닌다': 12999, '거란': 13000, '소립': 13001, '노골': 13002, '파바박': 13003, '물음표': 13004, '올빼미': 13005, '퀴프먼트': 13006, '은부': 13007, '속삭이다': 13008, '성서': 13009, '빅터': 13010, '노빅': 13011, '러셀': 13012, '변덕': 13013, '까막눈': 13014, '박약하다': 13015, '대성공': 13016, '암울하다': 13017, '은꼭': 13018, '재반': 13019, '붙여넣기': 13020, '개국': 13021, '공헌': 13022, '램덤': 13023, '일함수': 13024, '수엽': 13025, '헤준': 13026, '마직막': 13027, '안약': 13028, '현주소': 13029, '순화': 13030, '표상': 13031, '정면': 13032, '날아오다': 13033, '렌도르프': 13034, '블루머': 13035, '라우': 13036, '절실': 13037, '천원': 13038, '빛재': 13039, 'ㅎㅎㅎㅎㅎㅎㅎㅎ': 13040, '콧물': 13041, '석기시대': 13042, '벽화': 13043, '치루어': 13044, '탬': 13045, '일생': 13046, '정보시간': 13047, '질환': 13048, '셈본': 13049, '개명': 13050, 'ㄲㅔ': 13051, 'ㄸㅏ': 13052, '파가': 13053, '부러워하다': 13054, '황족': 13055, '세한': 13056, '고번': 13057, '짊어지': 13058, '폐쇄될': 13059, '놨더': 13060, '고분': 13061, '수제': 13062, '먹히다': 13063, '언쟁': 13064, '겟습니': 13065, 'ㄹㅇㅋㅋ': 13066, '엌': 13067, 'ㅋㅋㅋㅋㅋㅋㅌㅋㅌㅋㅌㅋㅋㅌㅋ': 13068, '씨쁠각': 13069, '즉슨': 13070, '분빅': 13071, '학샹들': 13072, '입대': 13073, '무궁': 13074, '삼추': 13075, '기틀': 13076, '캔두': 13077, '비현실적': 13078, '건데저': 13079, '교바': 13080, '교인': 13081, '잠자다': 13082, '하강': 13083, '헬이었': 13084, '현철': 13085, '즐': 13086, '넓이': 13087, 'ㄷㄷㄷㅈ': 13088, '평민': 13089, '섣불리': 13090, '혼미하다': 13091, '혼쭐내': 13092, '내쫓다': 13093, '하룻밤': 13094, '자각': 13095, '같습니닼': 13096, '이민자': 13097, '뒤따르다': 13098, '팝송': 13099, '명징': 13100, '개꿀딲': 13101, '구독': 13102, '폐인': 13103, '사이스': 13104, '강원래': 13105, '오니': 13106, '퀀트적': 13107, '헤사': 13108, '지조': 13109, '면책': 13110, '걔네': 13111, '김종길': 13112, '유교': 13113, '파견': 13114, '비협': 13115, '끌어내리다': 13116, '위키독스': 13117, '영미': 13118, '개밥': 13119, '장바구니': 13120, '히스': 13121, '볼걸': 13122, '모티브': 13123, '산이': 13124, '비슷어렵': 13125, '준걸': 13126, 'ㅠㅠㅠㅠㅠㅠㅠㅠㅠㅠㅠㅠㅠㅠㅠ': 13127, '뻘하': 13128, '빠삭': 13129, '비오비': 13130, '공신': 13131, '기여분': 13132, '안암동': 13133, '곤욕': 13134, '싸가지': 13135, '내가면': 13136, '못함텀프': 13137, '투여': 13138, '고결': 13139, '객기': 13140, '인싸력': 13141, '접기': 13142, '바이지': 13143, '애잔하다': 13144, '꿀빨기': 13145, '맞힌': 13146, '점학': 13147, '강당': 13148, '셈팀': 13149, '숙명': 13150, '입털': 13151, '불량': 13152, '차이나': 13153, '부서지다': 13154, '취월': 13155, '현시': 13156, '몹': 13157, '뭣같음': 13158, '우월': 13159, '성희롱': 13160, '역학': 13161, '환갑': 13162, '효익': 13163, '오건': 13164, '계약': 13165, '교구': 13166, '얼마만큼': 13167, '카시오': 13168, '재밋었어': 13169, '있엇습니': 13170, '꽃미남': 13171, '강물': 13172, '평형': 13173, '슈뢰딩거': 13174, '얼떨떨하다': 13175, '빡셈기말': 13176, '다중공선성': 13177, '변호사': 13178, '낳다': 13179, '리듬': 13180, '아잉': 13181, '벙': 13182, '외도': 13183, '교탁': 13184, '버티고': 13185, '도면': 13186, '간절하다': 13187, '였슴다': 13188, '용석': 13189, '스벅': 13190, '산점도': 13191, '대시': 13192, '테을': 13193, '갈맇': 13194, '실속': 13195, '상쇄할': 13196, '쫄아': 13197, '말둘': 13198, '김나라': 13199, '간분': 13200, '동조': 13201, '픽쳐': 13202, '극치': 13203, '므찐': 13204, '조용조': 13205, '언택트': 13206, '손수': 13207, '수수료': 13208, '마트': 13209, '마인트': 13210, '다녀가다': 13211, '촤르륵': 13212, '핬': 13213, '처읍': 13214, '하심팀플': 13215, '편협': 13216, '쌍삼': 13217, '규범': 13218, '떈음': 13219, '벤처기업': 13220, '결성': 13221, '흩다': 13222, '팔자': 13223, '체성': 13224, '프란시스코': 13225, '조약': 13226, '무담': 13227, '듯그': 13228, '쵸쿰': 13229, '쪽글': 13230, '리딩량': 13231, '우위': 13232, '중대': 13233, '소개팅': 13234, '배철수': 13235, '음악캠프': 13236, '어따': 13237, '태양계': 13238, '쉘': 13239, '으팀플': 13240, '만빵': 13241, '테베': 13242, '버벅이': 13243, '코리다': 13244, '재료': 13245, '휴식시간': 13246, '빡셀겁니': 13247, 'ㄹㅈㄷ': 13248, '퍼주려': 13249, '심검': 13250, 'ㄱㄴㄷ': 13251, '지향성': 13252, '아물다': 13253, '전부하다': 13254, '압승': 13255, '다시피': 13256, '나신': 13257, '하해': 13258, '비생임': 13259, '겟할': 13260, '메신저': 13261, '조마조마': 13262, '한학': 13263, '인터럽트': 13264, '듬교시': 13265, '버프인': 13266, '이온': 13267, '다재': 13268, '빛학진': 13269, '불확실': 13270, '마하': 13271, '엄창': 13272, '차컴프': 13273, '적정': 13274, '자취': 13275, '학잠': 13276, '살작': 13277, '왜나': 13278, '희천': 13279, '누누': 13280, '무차별': 13281, '차딥빡': 13282, '공손하다': 13283, '팬대믹': 13284, '국면': 13285, '씽': 13286, '워커홀릭': 13287, '신민정': 13288, '진검': 13289, '당뇨병': 13290, '달전': 13291, '인기투표': 13292, '개원': 13293, '구경': 13294, '패논패꿀강': 13295, '럴넷': 13296, '금융업': 13297, '뺴고': 13298, '사레': 13299, '허망': 13300, '구재': 13301, 'ㅠㅡ': 13302, '마음씨': 13303, '페니': 13304, '미즘': 13305, '잇몸': 13306, 'ㅎㅣ': 13307, '멕': 13308, '거었는데': 13309, '서랍': 13310, '총량': 13311, '고비인': 13312, '단기기억': 13313, '걷어차다': 13314, '조선로동당': 13315, '지부': 13316, '선각자': 13317, '미제국': 13318, '간악': 13319, '와싱톤': 13320, '컨센서스': 13321, '통렬': 13322, '코로나비': 13323, '령도자': 13324, '인민': 13325, '최전선': 13326, '주체': 13327, '안암': 13328, '므르': 13329, '다복다복': 13330, '풍토': 13331, '부르디외': 13332, '스프레드시트': 13333, '명강날': 13334, '데헷': 13335, '렙업': 13336, '치패': 13337, '패기롭': 13338, '환멸': 13339, '해엽': 13340, '뿌옇다': 13341, '교욱': 13342, '낫뱃': 13343, '대목': 13344, '질서': 13345, '탁자': 13346, '엘리트': 13347, '사투': 13348, '고월': 13349, '현충일': 13350, '에이미': 13351, '후후': 13352, '존댓말': 13353, '엄금': 13354, '돌변': 13355, '배타': 13356, '번번이': 13357, '침체': 13358, '맏': 13359, '부옇다': 13360, '난후': 13361, '이형': 13362, '러블리함': 13363, '값쁠': 13364, '나유': 13365, '어캐': 13366, '습진': 13367, '발해': 13368, '작업량': 13369, '여론조사': 13370, '선풍기': 13371, '내보이다': 13372, '세간': 13373, '하내': 13374, '종호': 13375, 'ㅏㄷㅠ': 13376, '미호': 13377, '돰': 13378, '쾌속': 13379, '사들이다': 13380, '스타벅스': 13381, '기프티콘': 13382, '주창': 13383, '미스테리': 13384, '드르륵': 13385, '십여': 13386, '균일하다': 13387, '균등하다': 13388, '밧다': 13389, '노무': 13390, '투톱': 13391, '가려지다': 13392, '우매': 13393, '슬기롭다': 13394, '쫄렸던': 13395, '서해': 13396, '그레이드': 13397, '빠방': 13398, '거즘': 13399, '여대': 13400, '취사': 13401, '씨파충': 13402, '시냅스': 13403, '에릭슨': 13404, '인학': 13405, '다리': 13406, '운빨겜': 13407, '아리까리': 13408, '회생': 13409, 'ㅎㅋㅋ': 13410, '최후': 13411, '거꾸로': 13412, '웠으': 13413, '쫄렸는데': 13414, '가계': 13415, '해기': 13416, '모형도': 13417, '소득세': 13418, '부가세': 13419, '썾': 13420, 'ㅡㅠ': 13421, '도막': 13422, '줄탁': 13423, '댸': 13424, '기주': 13425, '겹칠': 13426, '빌딩': 13427, '의기': 13428, '투합': 13429, '명강러라': 13430, '맟춰': 13431, '게으름': 13432, '띄엄띄엄하': 13433, '동계': 13434, '싱가포르': 13435, '인도네시아': 13436, '동남아시아': 13437, '동기유발': 13438, '뻘쭘': 13439, '쥬지': 13440, '터프하': 13441, '의중': 13442, '유용성': 13443, '특서상': 13444, '른': 13445, '인지과학': 13446, '조례': 13447, '충돌': 13448, '딴지걸': 13449, '반례': 13450, '아니엇음': 13451, '꼽주시': 13452, '포레스트': 13453, '야생': 13454, '풍경': 13455, '웟더': 13456, '서덜랜드': 13457, '뉴럴넷': 13458, '다대': 13459, '피팅': 13460, '맘껏': 13461, '뽐내다': 13462, '컴피티션': 13463, '태스크': 13464, '마이웨이': 13465, '비밀': 13466, '규격': 13467, '외해': 13468, '구글닥스': 13469, '브리핑': 13470, '퍼레이션스': 13471, '가까스로': 13472, '노심초사': 13473, '반짝': 13474, '타도': 13475, '제등': 13476, '콩알': 13477, '눈알': 13478, '저자도': 13479, '엎친데': 13480, '덮친격': 13481, '복사기': 13482, '새우다': 13483, '접속사': 13484, '완결': 13485, '괴기하다': 13486, '누진세': 13487, '피뎊': 13488, '예산': 13489, '진짜꿀': 13490, '퀴즤': 13491, '미션': 13492, '저을': 13493, '물고기': 13494, '물가': 13495, '총대': 13496, '버라이어티': 13497, '협동': 13498, '하의': 13499, '첲판깔': 13500, '도둑': 13501, '스몰': 13502, '자기힘': 13503, '유제': 13504, '굳히다': 13505, '쥬시는듯': 13506, '재웅샘': 13507, '별그대': 13508, '일렬': 13509, '괴제': 13510, '차롔습': 13511, '상처리': 13512, '노이즈': 13513, '제거': 13514, '진실하다': 13515, '옾챗': 13516, '겹침': 13517, '췹': 13518, '밥니': 13519, '죵': 13520, '량및': 13521, '싸이클': 13522, '에쁠뜸': 13523, '문졔': 13524, '원격': 13525, '다오': 13526, '뒤탈': 13527, '장가': 13528, '내자': 13529, '쿨': 13530, '뒤끝': 13531, '요들송': 13532, '역풍': 13533, '라노베': 13534, '비염': 13535, '서거': 13536, '간결': 13537, '열처리': 13538, '미래에셋': 13539, '바라지다': 13540, '종선': 13541, '거슬러': 13542, '사칙': 13543, '그제야': 13544, '생색': 13545, '새로이': 13546, '쥬셔': 13547, '배웟는': 13548, '자투리': 13549, '셤볼때': 13550, '뭉뚱그려': 13551, '남녀': 13552, '연애담': 13553, '못느꼇어오': 13554, '썽': 13555, '개인주의': 13556, '수빅': 13557, '바가지': 13558, '쩨쩨하': 13559, '도끼': 13560, '다발': 13561, '불륜': 13562, '갈라지다': 13563, '클러스터링': 13564, 'ㅇㅣ': 13565, '나때': 13566, '신중': 13567, '헥셔': 13568, '라라라': 13569, '가오': 13570, '편팀플': 13571, '이크': 13572, '낚이거': 13573, '여보': 13574, '해하': 13575, '동이': 13576, '어째서': 13577, '생성자': 13578, '일리': 13579, '일진': 13580, '기성세대': 13581, '고관': 13582, '없었슴다': 13583, '로세': 13584, '교감': 13585, '압': 13586, '지사': 13587, '뮬러': 13588, '뻐지': 13589, '폐렴': 13590, '뿐학': 13591, '풀엇': 13592, '체킹': 13593, '형수시': 13594, 'ㅋㅋㄹㅋㅋ': 13595, '평쁠정도': 13596, '국기': 13597, '상증': 13598, '부척': 13599, '명임': 13600, '해고': 13601, '구찌': 13602, '십도': 13603, '정장': 13604, '백인': 13605, '인종차별': 13606, '지껄이다': 13607, '발암': 13608, '맞짱': 13609, '샹각': 13610, '콘센트': 13611, '수업잉': 13612, '용상': 13613, '고모': 13614, '다생': 13615, '것팀플': 13616, '포츠': 13617, '리저': 13618, '애타': 13619, '물물교환': 13620, '수압': 13621, '내려다보다': 13622, '부서': 13623, '힘듦블보': 13624, '텅텅빈': 13625, '포뇨': 13626, '낙': 13627, '오상': 13628, '썰렁': 13629, '냉각': 13630, '게임엔진': 13631, '치룬다': 13632, '낸스': 13633, '마술': 13634, '깉습니': 13635, '갓보경': 13636, '색채': 13637, '하겐': 13638, '라틴어': 13639, '행적': 13640, '이요': 13641, '낼름': 13642, '제중': 13643, '올슨': 13644, '주셔욭': 13645, '드랍하쳐': 13646, '노화': 13647, '대변': 13648, '펀치': 13649, '서하면': 13650, '보호': 13651, '쥰내': 13652, '잔말': 13653, '꿀팁임': 13654, '자시': 13655, '안집': 13656, '오분': 13657, '욬': 13658, '바싹': 13659, '일원': 13660, '출입': 13661, '소라': 13662, '김기동': 13663, '밝혀내다': 13664, '수로': 13665, '스퍼트': 13666, '고온': 13667, '크래딧': 13668, '치팅시트쓰': 13669, '같스빈다': 13670, '어렵슴니': 13671, '디버프': 13672, '쉬심': 13673, '점안': 13674, '사귀다': 13675, '업성': 13676, '헝': 13677, '다흐': 13678, '테익홈': 13679, '굅니': 13680, '스모': 13681, '고유명사': 13682, '교유': 13683, '가짐': 13684, '붙혔습니': 13685, '등저': 13686, '는데': 13687, '놔두다': 13688, '샘': 13689, '수석': 13690, '실장': 13691, '비량': 13692, '벌벌': 13693, '드래곤볼': 13694, '기학': 13695, '손못댓': 13696, '배당금': 13697, '지핀': 13698, '무표정': 13699, '약용': 13700, '장앞': 13701, '본토': 13702, '션스란': 13703, '헤프닝': 13704, '덕담': 13705, '탄력성': 13706, '과점': 13707, '뱃사공': 13708, '커넥트': 13709, '삐쁠각': 13710, '아영': 13711, '인신공격': 13712, '못봣어': 13713, '권일': 13714, '직장': 13715, '겹겹이': 13716, '떠돌다': 13717, '필즈상': 13718, '엿됐다': 13719, '전두엽': 13720, '전치': 13721, '오들오들': 13722, '안쪽': 13723, '자둘': 13724, '뺨칠': 13725, '감버': 13726, '감버다보': 13727, '섭리': 13728, '의적': 13729, '성좌': 13730, '쪼인트까': 13731, '피봣습니': 13732, '초적': 13733, '앨런': 13734, '그래디언트': 13735, '비틀스': 13736, '서구': 13737, '인과관계': 13738, '섣부르다': 13739, '부조리하다': 13740, '사형': 13741, '휘둘렸습니': 13742, '엎어지다': 13743, '좋은거쥬': 13744, '애걸': 13745, '코세': 13746, '순풍': 13747, '돛': 13748, '셍': 13749, '천만다행': 13750, '후련하다': 13751, '트랙패드': 13752, '적기가': 13753, '빡셀수': 13754, '적극성': 13755, '각박하다': 13756, '박애주의자': 13757, '데일': 13758, '법함': 13759, '쟈갑': 13760, '맥혀': 13761, '진행자': 13762, '은월': 13763, '말랑말랑하다': 13764, '김태규': 13765, '물입': 13766, '이함': 13767, '빠띠': 13768, '쏠': 13769, '병목현상': 13770, '지우개': 13771, '출판': 13772, '창의문': 13773, '탈세': 13774, '갈등이론': 13775, '진도면': 13776, '랄것': 13777, '섴': 13778, '엽기': 13779, '이십분': 13780, '퍄퍄후': 13781, '불공정': 13782, '파워레인저': 13783, '현기증': 13784, '쓱싹쓱싹': 13785, '치구': 13786, '거르는': 13787, '밍': 13788, '닌텐도': 13789, '빡쎘': 13790, '세포': 13791, '빛번짐': 13792, '주기용': 13793, '포뮬러싵': 13794, '밀고': 13795, '얼떨결': 13796, '련': 13797, '포섭': 13798, '마포': 13799, '창구': 13800, 'ㅈㄱ': 13801, '샆': 13802, '보내먄': 13803, '김성일': 13804, '천지': 13805, '통계프': 13806, '여성인권': 13807, '도지': 13808, '제일기획': 13809, '회상': 13810, '피시': 13811, '바인': 13812, '난국': 13813, '블랙숄즈': 13814, '무자비': 13815, '정전': 13816, '보고오다': 13817, '양적완화': 13818, '경영인': 13819, '차악': 13820, '메카': 13821, '수지': 13822, '노팀': 13823, '백준': 13824, '배치도': 13825, '부품': 13826, '좆망': 13827, '엎드리다': 13828, '말합': 13829, '수엎': 13830, '고원': 13831, '구과목': 13832, '팟모아': 13833, '재인': 13834, '바르게': 13835, '코때메': 13836, '슈도코드': 13837, '이중화': 13838, '톱': 13839, '설강': 13840, '지존': 13841, '구몬': 13842, '박빛빛': 13843, '서인': 13844, '뻔선': 13845, '대란': 13846, '리캡': 13847, '들러리': 13848, '거조': 13849, '정상화': 13850, '해초': 13851, '한눈팔다': 13852, 'ㅋㅋㅋㅋㅋㅋㅋㅋㅋ': 13853, '아들러': 13854, '만도': 13855, '형용사': 13856, '식사': 13857, '허교': 13858, '일학년': 13859, '빈부': 13860, '짝짓기': 13861, '김재욱': 13862, '심일': 13863, '밥처말': 13864, '기오': 13865, '폴인럽': 13866, '영접': 13867, '상저': 13868, '일기장': 13869, '셔츠': 13870, '바지': 13871, '뻗다': 13872, '했슴다': 13873, '영악': 13874, 'ㅠㅠㅠㅠㅠㅠㅠㅠ': 13875, '긺': 13876, '진주': 13877, '물결': 13878, '똥꼬': 13879, '어쩌겠어': 13880, '중갠': 13881, '아이코': 13882, '내룡': 13883, '유다': 13884, '놨다': 13885, '단조': 13886, '매해': 13887, '랬': 13888, '비운': 13889, '얉기': 13890, '반두': 13891, '애시': 13892, '베테': 13893, '무익하다': 13894, '젝스키스': 13895, '핑클': 13896, '참을성': 13897, '옾강': 13898, '경륜': 13899, '헛웃음': 13900, '그릴': 13901, '유딩': 13902, '손목': 13903, '들었슴다': 13904, '곰플레이어': 13905, '써냈슴다': 13906, '반제': 13907, '없슴니': 13908, '제해': 13909, '희생양': 13910, '렵': 13911, '예기': 13912, '인프': 13913, '추상화': 13914, '기고': 13915, '요큐': 13916, '점심식사': 13917, '가로서다': 13918, '빠꾸없는': 13919, '괜춘학점': 13920, '조정은': 13921, '개미': 13922, 'ㅠㅅ': 13923, '콱': 13924, '핗요': 13925, '아이돌': 13926, '깜찍하다': 13927, '쥐팀': 13928, '서원': 13929, '으어엉어': 13930, '네가지': 13931, '러더': 13932, '이로써': 13933, '개띵강임': 13934, '버벅거려': 13935, '계문대': 13936, '전고지': 13937, '유린': 13938, '식규걸': 13939, '막강': 13940, '논술시험': 13941, '일목요연하다': 13942, '서남': 13943, '스포츠': 13944, '여행': 13945, '굴려': 13946, '잼합': 13947, '계성은': 13948, '거르려던': 13949, '일변도': 13950, '꼽는다': 13951, '정통하다': 13952, '가로': 13953, '명섭': 13954, 'ㅠㅜㅜㅜㅜ': 13955, '해둘': 13956, '투사': 13957, '들것': 13958, '절함': 13959, '트라우마': 13960, '겐': 13961, '국제수지': 13962, '국민소득': 13963, '헬이였': 13964, '익스': 13965, '팀플량': 13966, '우측': 13967, '고심': 13968, '션애': 13969, '뻘소리': 13970, '어처피': 13971, '도법': 13972, '하하호호': 13973, '누수': 13974, '피우지': 13975, '트름': 13976, '짬짬이': 13977, '뻔후': 13978, '브로드': 13979, '전투': 13980, '대학가': 13981, '좀빡센데': 13982, '왈왈': 13983, '컹컹': 13984, '참고도서': 13985, '구경만해': 13986, '자하': 13987, '셤보다': 13988, '난도질': 13989, '발뺌': 13990, '됨됨이': 13991, '말일': 13992, '대들다': 13993, '클레': 13994, '헌법': 13995, '독실하다': 13996, '예배': 13997, '일용': 13998, '아멘': 13999, '신자': 14000, '무신론자': 14001, '눈쌀': 14002, '엔딩': 14003, '본겁': 14004, '게속': 14005, '기하학': 14006, '스테이': 14007, '트먼트': 14008, '중기': 14009, '평해': 14010, '실례': 14011, '볼법': 14012, '됐음텀': 14013, '변동성': 14014, '프리미어': 14015, '비주': 14016, '까득까득': 14017, '이애': 14018, '중재': 14019, '각하': 14020, '방울': 14021, '힏': 14022, '초딩': 14023, '낭만': 14024, '곧잘': 14025, '워때': 14026, '진위': 14027, '반점': 14028, '쏘이다': 14029, '파쿠': 14030, '면치': 14031, '벌꼴': 14032, '듬뿍': 14033, '잔뼈': 14034, '마르코프체인': 14035, '적발': 14036, '빡머갈': 14037, '큐티뽀짝': 14038, '해심': 14039, '가무': 14040, '순진하다': 14041, '촐': 14042, '지훈': 14043, '재주껏': 14044, '올라서다': 14045, '입실렌티': 14046, '컨벡': 14047, '시티': 14048, '어김없이': 14049, '애국가': 14050, '퍼주진': 14051, '연금술': 14052, '사이좋다': 14053, '꼰대꼰': 14054, '고행': 14055, '가장자리': 14056, '프듀': 14057, '소박': 14058, '실재론': 14059, '도래': 14060, '꼽는데': 14061, '돌뼈': 14062, '오돌오돌': 14063, '단락': 14064, '짱구': 14065, '홧팅': 14066, '번역기': 14067, '빠셍': 14068, '거시사회학': 14069, '몸섹': 14070, '가제': 14071, '센빠이들': 14072, '각주': 14073, '성법': 14074, '눈칫밥': 14075, '상병': 14076, '이등병': 14077, '군가': 14078, '대인배': 14079, '청말': 14080, '수조': 14081, '피학증': 14082, '놀림': 14083, '바삐': 14084, '분듀': 14085, '회로도': 14086, '빠듯했': 14087, '쫄깃쫄깃한': 14088, '좋아씃': 14089, '천성': 14090, '헬하': 14091, '목격': 14092, '머티': 14093, '점잖다': 14094, '무마': 14095, '극헬': 14096, '븐디': 14097, '탁치': 14098, '험로': 14099, '우드': 14100, '서울역': 14101, '데리다': 14102, '공수도': 14103, '점그': 14104, '엄해': 14105, 'ㅅㅣ': 14106, '북미': 14107, '회담': 14108, '결렬': 14109, '언론': 14110, '둘러스다': 14111, '각출': 14112, '넷': 14113, '체다': 14114, '줄체': 14115, 'ㅜㅋㅋㅋㅋ': 14116, '초가': 14117, '법학': 14118, '약도': 14119, '불길하다': 14120, '구함': 14121, '현미경': 14122, '병명': 14123, '꼽았다': 14124, '방통': 14125, '쌩뚱맞': 14126, '만만찮': 14127, '서울시': 14128, '암시': 14129, '과시': 14130, '상경': 14131, '심투': 14132, '아이쿠': 14133, '기자회견': 14134, '템': 14135, '본체': 14136, '대엿': 14137, '건물': 14138, '개알': 14139, '절기': 14140, '혈구': 14141, '별로셔': 14142}\n"
          ],
          "name": "stdout"
        }
      ]
    },
    {
      "cell_type": "code",
      "metadata": {
        "id": "RTcsZyvHRR40"
      },
      "source": [
        "vocab_size = len(tokenizer.word_index) + 2\n",
        "print('단어 집합의 크기 :',vocab_size)"
      ],
      "execution_count": null,
      "outputs": []
    },
    {
      "cell_type": "code",
      "metadata": {
        "id": "LzLeTe0US4xj",
        "colab": {
          "base_uri": "https://localhost:8080/"
        },
        "outputId": "764fd1ea-e955-4ca6-83b2-82550339a99a"
      },
      "source": [
        "tokenizer = Tokenizer(vocab_size) \n",
        "tokenizer.fit_on_texts(X_train)\n",
        "X_train = tokenizer.texts_to_sequences(X_train)\n",
        "X_test = tokenizer.texts_to_sequences(X_test)"
      ],
      "execution_count": null,
      "outputs": [
        {
          "output_type": "stream",
          "text": [
            "단어 집합의 크기 : 14144\n"
          ],
          "name": "stdout"
        }
      ]
    },
    {
      "cell_type": "code",
      "metadata": {
        "colab": {
          "base_uri": "https://localhost:8080/"
        },
        "id": "lbKVEbeFS1jq",
        "outputId": "59c447a2-3f7e-4d53-8e1a-36421c631ee2"
      },
      "source": [
        "print(X_train[:3])"
      ],
      "execution_count": null,
      "outputs": [
        {
          "output_type": "stream",
          "text": [
            "[[1200, 444, 577, 306, 83, 3, 9, 4, 1011, 1, 3, 2603, 785, 748, 28, 16, 51, 849, 499, 1201, 3, 730, 619, 286, 1875, 1, 13, 8, 89, 8, 42, 45, 8, 42, 89, 8, 76, 445, 103, 1, 122, 100, 79, 20, 8, 45, 8, 209, 1119, 16, 1477, 35, 1363, 1, 391, 83, 2055, 124, 308, 323, 7, 325, 21, 623, 1417, 7051, 842, 731, 58, 28, 270, 1, 711, 25, 325, 21, 1318, 299, 354, 25, 63, 11, 25, 296, 207], [18, 1356, 28, 16, 51, 24, 3, 24], [54, 1, 1, 26, 23, 41, 168, 94, 2, 4, 98, 1303, 3, 176, 948, 237, 329, 199, 1751, 31, 54, 1, 30, 35, 562, 50, 14, 5, 10]]\n"
          ],
          "name": "stdout"
        }
      ]
    },
    {
      "cell_type": "code",
      "metadata": {
        "id": "JC9Q-N0ZS_C8"
      },
      "source": [
        "y_train = np.array(train_data['satisfaction'])\n",
        "y_test = np.array(test_data['satisfaction'])"
      ],
      "execution_count": null,
      "outputs": []
    },
    {
      "cell_type": "markdown",
      "metadata": {
        "id": "H9vg7_PKTKWG"
      },
      "source": [
        "# 빈 샘플 제거"
      ]
    },
    {
      "cell_type": "code",
      "metadata": {
        "id": "OMitqZvJTJ4y"
      },
      "source": [
        "drop_train = [index for index, sentence in enumerate(X_train) if len(sentence) < 1]"
      ],
      "execution_count": null,
      "outputs": []
    },
    {
      "cell_type": "code",
      "metadata": {
        "colab": {
          "base_uri": "https://localhost:8080/"
        },
        "id": "lkjrgtXOTCyx",
        "outputId": "8b6cb87a-e40e-4cdd-ceea-de99fe8a07d5"
      },
      "source": [
        "X_train = np.delete(X_train, drop_train, axis=0)\n",
        "y_train = np.delete(y_train, drop_train, axis=0)\n",
        "print(len(X_train))\n",
        "print(len(y_train))"
      ],
      "execution_count": null,
      "outputs": [
        {
          "output_type": "stream",
          "text": [
            "18042\n",
            "18042\n"
          ],
          "name": "stdout"
        },
        {
          "output_type": "stream",
          "text": [
            "/usr/local/lib/python3.7/dist-packages/numpy/core/_asarray.py:83: VisibleDeprecationWarning: Creating an ndarray from ragged nested sequences (which is a list-or-tuple of lists-or-tuples-or ndarrays with different lengths or shapes) is deprecated. If you meant to do this, you must specify 'dtype=object' when creating the ndarray\n",
            "  return array(a, dtype, copy=False, order=order)\n"
          ],
          "name": "stderr"
        }
      ]
    },
    {
      "cell_type": "markdown",
      "metadata": {
        "id": "wATpCiDNTi8r"
      },
      "source": [
        "# 패딩"
      ]
    },
    {
      "cell_type": "code",
      "metadata": {
        "colab": {
          "base_uri": "https://localhost:8080/",
          "height": 315
        },
        "id": "nfaHw5wjTVJe",
        "outputId": "13b6adc4-7289-4b6d-b698-f662312c97c3"
      },
      "source": [
        "print('리뷰의 최대 길이 :',max(len(l) for l in X_train))\n",
        "print('리뷰의 평균 길이 :',sum(map(len, X_train))/len(X_train))\n",
        "plt.hist([len(s) for s in X_train], bins=50)\n",
        "plt.xlabel('length of samples')\n",
        "plt.ylabel('number of samples')\n",
        "plt.show()"
      ],
      "execution_count": null,
      "outputs": [
        {
          "output_type": "stream",
          "text": [
            "리뷰의 최대 길이 : 1183\n",
            "리뷰의 평균 길이 : 56.712282452056314\n"
          ],
          "name": "stdout"
        },
        {
          "output_type": "display_data",
          "data": {
            "image/png": "[encoded data removed]",
            "text/plain": [
              "<Figure size 432x288 with 1 Axes>"
            ]
          },
          "metadata": {
            "tags": [],
            "needs_background": "light"
          }
        }
      ]
    },
    {
      "cell_type": "code",
      "metadata": {
        "id": "1Nssbg2_TmOG"
      },
      "source": [
        "def below_threshold_len(max_len, nested_list):\n",
        "  cnt = 0\n",
        "  for s in nested_list:\n",
        "    if(len(s) <= max_len):\n",
        "        cnt = cnt + 1\n",
        "  print('전체 샘플 중 길이가 %s 이하인 샘플의 비율: %s'%(max_len, (cnt / len(nested_list))*100))"
      ],
      "execution_count": null,
      "outputs": []
    },
    {
      "cell_type": "code",
      "metadata": {
        "colab": {
          "base_uri": "https://localhost:8080/"
        },
        "id": "ssru1OoNToSl",
        "outputId": "9cf9c856-c5f7-4610-ec52-63f1c69b7684"
      },
      "source": [
        "max_len = 200\n",
        "below_threshold_len(max_len, X_train)"
      ],
      "execution_count": null,
      "outputs": [
        {
          "output_type": "stream",
          "text": [
            "전체 샘플 중 길이가 200 이하인 샘플의 비율: 97.32291320252745\n"
          ],
          "name": "stdout"
        }
      ]
    },
    {
      "cell_type": "code",
      "metadata": {
        "id": "h1B-Gd6gTqm7"
      },
      "source": [
        "X_train = pad_sequences(X_train, maxlen = max_len)\n",
        "X_test = pad_sequences(X_test, maxlen = max_len)"
      ],
      "execution_count": null,
      "outputs": []
    },
    {
      "cell_type": "markdown",
      "metadata": {
        "id": "j2EQDMkjcqPg"
      },
      "source": [
        "# Matrix 정의"
      ]
    },
    {
      "cell_type": "code",
      "metadata": {
        "id": "TOsZi5Q0ctQX"
      },
      "source": [
        "total = pd.DataFrame(columns=['accuracy'], index=['RNN', 'LSTM', 'GRU', 'Bi-LSTM', '1D CNN', 'Multi-Kernel 1D CNN', 'Bi-LSTM & Attention'])"
      ],
      "execution_count": null,
      "outputs": []
    },
    {
      "cell_type": "markdown",
      "metadata": {
        "id": "wy-GjYtyb2Du"
      },
      "source": [
        "# RNN"
      ]
    },
    {
      "cell_type": "code",
      "metadata": {
        "id": "7ChQQMODb1Xu"
      },
      "source": [
        "from tensorflow.keras.layers import SimpleRNN, Embedding, Dense\n",
        "from tensorflow.keras.models import Sequential\n",
        "from tensorflow.keras.models import load_model\n",
        "from tensorflow.keras.callbacks import EarlyStopping, ModelCheckpoint"
      ],
      "execution_count": null,
      "outputs": []
    },
    {
      "cell_type": "code",
      "metadata": {
        "id": "g36xEf1pb4qp"
      },
      "source": [
        "model = Sequential()\n",
        "model.add(Embedding(vocab_size, 100))\n",
        "model.add(SimpleRNN(32))\n",
        "model.add(Dense(1, activation='sigmoid'))"
      ],
      "execution_count": null,
      "outputs": []
    },
    {
      "cell_type": "code",
      "metadata": {
        "id": "VzcSI5vGlpEO"
      },
      "source": [
        "es = EarlyStopping(monitor='val_loss', mode='min', verbose=1, patience=3)\n",
        "mc = ModelCheckpoint('best_model.h5', monitor='val_acc', mode='max', verbose=1, save_best_only=True)"
      ],
      "execution_count": null,
      "outputs": []
    },
    {
      "cell_type": "code",
      "metadata": {
        "colab": {
          "base_uri": "https://localhost:8080/"
        },
        "id": "I33keVkclqmo",
        "outputId": "710adffe-41b6-4f32-8e36-25e6128e398c"
      },
      "source": [
        "model.compile(optimizer='rmsprop', loss='binary_crossentropy', metrics=['acc'])\n",
        "history = model.fit(X_train, y_train, epochs=15, callbacks=[es, mc], batch_size=60, validation_split=0.2)"
      ],
      "execution_count": null,
      "outputs": [
        {
          "output_type": "stream",
          "text": [
            "Epoch 1/15\n",
            "241/241 [==============================] - 38s 140ms/step - loss: 0.6293 - acc: 0.6601 - val_loss: 0.5673 - val_acc: 0.7196\n",
            "\n",
            "Epoch 00001: val_acc improved from -inf to 0.71959, saving model to best_model.h5\n",
            "Epoch 2/15\n",
            "241/241 [==============================] - 33s 138ms/step - loss: 0.4913 - acc: 0.7691 - val_loss: 0.5691 - val_acc: 0.7135\n",
            "\n",
            "Epoch 00002: val_acc did not improve from 0.71959\n",
            "Epoch 3/15\n",
            "241/241 [==============================] - 33s 138ms/step - loss: 0.3214 - acc: 0.8745 - val_loss: 0.6601 - val_acc: 0.7055\n",
            "\n",
            "Epoch 00003: val_acc did not improve from 0.71959\n",
            "Epoch 4/15\n",
            "241/241 [==============================] - 33s 137ms/step - loss: 0.1685 - acc: 0.9405 - val_loss: 0.7969 - val_acc: 0.6825\n",
            "\n",
            "Epoch 00004: val_acc did not improve from 0.71959\n",
            "Epoch 00004: early stopping\n"
          ],
          "name": "stdout"
        }
      ]
    },
    {
      "cell_type": "code",
      "metadata": {
        "colab": {
          "base_uri": "https://localhost:8080/"
        },
        "id": "4kpYrg_Rb4n6",
        "outputId": "041a533e-633e-4faf-8d0e-5217c9cbc7ce"
      },
      "source": [
        "loaded_model = load_model('best_model.h5')\n",
        "accuracy = loaded_model.evaluate(X_test, y_test)[1]\n",
        "total['accuracy'][0] = accuracy\n",
        "print(\"\\n 테스트 정확도: %.4f\" % (accuracy))"
      ],
      "execution_count": null,
      "outputs": [
        {
          "output_type": "stream",
          "text": [
            "142/142 [==============================] - 2s 14ms/step - loss: 0.5621 - acc: 0.7130\n",
            "\n",
            " 테스트 정확도: 0.7130\n"
          ],
          "name": "stdout"
        }
      ]
    },
    {
      "cell_type": "markdown",
      "metadata": {
        "id": "ZCdTyZ0VEvkQ"
      },
      "source": [
        "#LSTM"
      ]
    },
    {
      "cell_type": "code",
      "metadata": {
        "id": "MyTHBRa_ElIH"
      },
      "source": [
        "from tensorflow.keras.layers import Embedding, Dense, LSTM\n",
        "from tensorflow.keras.models import Sequential\n",
        "from tensorflow.keras.models import load_model\n",
        "from tensorflow.keras.callbacks import EarlyStopping, ModelCheckpoint"
      ],
      "execution_count": null,
      "outputs": []
    },
    {
      "cell_type": "code",
      "metadata": {
        "id": "PoJKMwHoEzgg"
      },
      "source": [
        "model = Sequential()\n",
        "model.add(Embedding(vocab_size, 100))\n",
        "model.add(LSTM(128))\n",
        "model.add(Dense(1, activation='sigmoid'))"
      ],
      "execution_count": null,
      "outputs": []
    },
    {
      "cell_type": "code",
      "metadata": {
        "id": "vS4T78FqEzeP"
      },
      "source": [
        "es = EarlyStopping(monitor='val_loss', mode='min', verbose=1, patience=3)\n",
        "mc = ModelCheckpoint('best_model.h5', monitor='val_acc', mode='max', verbose=1, save_best_only=True)"
      ],
      "execution_count": null,
      "outputs": []
    },
    {
      "cell_type": "code",
      "metadata": {
        "colab": {
          "base_uri": "https://localhost:8080/"
        },
        "id": "658CAwcbEzbY",
        "outputId": "197aa1b5-a58a-4034-ae8c-33e25e7e8a5d"
      },
      "source": [
        "model.compile(optimizer='rmsprop', loss='binary_crossentropy', metrics=['acc']) #  val_loss 손실이 4회 증가하면 Early Stopping\n",
        "history = model.fit(X_train, y_train, epochs=15, callbacks=[es, mc], batch_size=60, validation_split=0.2) # val_acc가 이전보다 좋아질 경우에만 모델을 저장"
      ],
      "execution_count": null,
      "outputs": [
        {
          "output_type": "stream",
          "text": [
            "Epoch 1/15\n",
            "241/241 [==============================] - 39s 25ms/step - loss: 0.6143 - acc: 0.6812 - val_loss: 0.5421 - val_acc: 0.7387\n",
            "\n",
            "Epoch 00001: val_acc improved from -inf to 0.73871, saving model to best_model.h5\n",
            "Epoch 2/15\n",
            "241/241 [==============================] - 5s 21ms/step - loss: 0.5153 - acc: 0.7458 - val_loss: 0.5216 - val_acc: 0.7487\n",
            "\n",
            "Epoch 00002: val_acc improved from 0.73871 to 0.74868, saving model to best_model.h5\n",
            "Epoch 3/15\n",
            "241/241 [==============================] - 5s 21ms/step - loss: 0.4736 - acc: 0.7810 - val_loss: 0.5265 - val_acc: 0.7343\n",
            "\n",
            "Epoch 00003: val_acc did not improve from 0.74868\n",
            "Epoch 4/15\n",
            "241/241 [==============================] - 5s 21ms/step - loss: 0.4510 - acc: 0.7934 - val_loss: 0.5278 - val_acc: 0.7451\n",
            "\n",
            "Epoch 00004: val_acc did not improve from 0.74868\n",
            "Epoch 5/15\n",
            "241/241 [==============================] - 5s 20ms/step - loss: 0.4210 - acc: 0.8114 - val_loss: 0.5381 - val_acc: 0.7406\n",
            "\n",
            "Epoch 00005: val_acc did not improve from 0.74868\n",
            "Epoch 00005: early stopping\n"
          ],
          "name": "stdout"
        }
      ]
    },
    {
      "cell_type": "code",
      "metadata": {
        "colab": {
          "base_uri": "https://localhost:8080/"
        },
        "id": "QsFILCs4EzY7",
        "outputId": "0f14eb47-c7d5-4ba2-ecd0-eef959f317b3"
      },
      "source": [
        "loaded_model = load_model('best_model.h5')\n",
        "accuracy = loaded_model.evaluate(X_test, y_test)[1]\n",
        "total['accuracy'][1] = accuracy\n",
        "print(\"\\n 테스트 정확도: %.4f\" % (accuracy))"
      ],
      "execution_count": null,
      "outputs": [
        {
          "output_type": "stream",
          "text": [
            "142/142 [==============================] - 1s 6ms/step - loss: 0.5217 - acc: 0.7478\n",
            "\n",
            " 테스트 정확도: 0.7478\n"
          ],
          "name": "stdout"
        }
      ]
    },
    {
      "cell_type": "markdown",
      "metadata": {
        "id": "c_mxKnx9OLB7"
      },
      "source": [
        "# GRU"
      ]
    },
    {
      "cell_type": "code",
      "metadata": {
        "id": "igSV0gWxObtP"
      },
      "source": [
        "from tensorflow.keras.layers import Embedding, Dense, GRU\n",
        "from tensorflow.keras.models import Sequential\n",
        "from tensorflow.keras.models import load_model\n",
        "from tensorflow.keras.callbacks import EarlyStopping, ModelCheckpoint"
      ],
      "execution_count": null,
      "outputs": []
    },
    {
      "cell_type": "code",
      "metadata": {
        "id": "WJQKYNhOOMxt"
      },
      "source": [
        "model = Sequential()\n",
        "model.add(Embedding(vocab_size, 100))\n",
        "model.add(GRU(128))\n",
        "model.add(Dense(1, activation='sigmoid'))"
      ],
      "execution_count": null,
      "outputs": []
    },
    {
      "cell_type": "code",
      "metadata": {
        "id": "09mgFJaXOSg6"
      },
      "source": [
        "es = EarlyStopping(monitor='val_loss', mode='min', verbose=1, patience=3)\n",
        "mc = ModelCheckpoint('best_model.h5', monitor='val_acc', mode='max', verbose=1, save_best_only=True)"
      ],
      "execution_count": null,
      "outputs": []
    },
    {
      "cell_type": "code",
      "metadata": {
        "colab": {
          "base_uri": "https://localhost:8080/"
        },
        "id": "pp8cVAwSOUE8",
        "outputId": "00aaed47-7514-4674-e4a5-efa9e18c898e"
      },
      "source": [
        "model.compile(optimizer='rmsprop', loss='binary_crossentropy', metrics=['acc'])\n",
        "history = model.fit(X_train, y_train, epochs=15, callbacks=[es, mc], batch_size=60, validation_split=0.2)"
      ],
      "execution_count": null,
      "outputs": [
        {
          "output_type": "stream",
          "text": [
            "Epoch 1/15\n",
            "241/241 [==============================] - 7s 20ms/step - loss: 0.6144 - acc: 0.6735 - val_loss: 0.5470 - val_acc: 0.7251\n",
            "\n",
            "Epoch 00001: val_acc improved from -inf to 0.72513, saving model to best_model.h5\n",
            "Epoch 2/15\n",
            "241/241 [==============================] - 5s 19ms/step - loss: 0.5177 - acc: 0.7517 - val_loss: 0.5306 - val_acc: 0.7412\n",
            "\n",
            "Epoch 00002: val_acc improved from 0.72513 to 0.74120, saving model to best_model.h5\n",
            "Epoch 3/15\n",
            "241/241 [==============================] - 5s 19ms/step - loss: 0.4780 - acc: 0.7753 - val_loss: 0.6168 - val_acc: 0.7298\n",
            "\n",
            "Epoch 00003: val_acc did not improve from 0.74120\n",
            "Epoch 4/15\n",
            "241/241 [==============================] - 5s 19ms/step - loss: 0.4539 - acc: 0.7922 - val_loss: 0.5325 - val_acc: 0.7354\n",
            "\n",
            "Epoch 00004: val_acc did not improve from 0.74120\n",
            "Epoch 5/15\n",
            "241/241 [==============================] - 5s 19ms/step - loss: 0.4220 - acc: 0.8094 - val_loss: 0.5540 - val_acc: 0.7373\n",
            "\n",
            "Epoch 00005: val_acc did not improve from 0.74120\n",
            "Epoch 00005: early stopping\n"
          ],
          "name": "stdout"
        }
      ]
    },
    {
      "cell_type": "code",
      "metadata": {
        "colab": {
          "base_uri": "https://localhost:8080/"
        },
        "id": "QueRkRVtOV7p",
        "outputId": "d41a4619-8336-4878-c78e-281f9d31d226"
      },
      "source": [
        "loaded_model = load_model('best_model.h5')\n",
        "accuracy = loaded_model.evaluate(X_test, y_test)[1]\n",
        "total['accuracy'][2] = accuracy\n",
        "print(\"\\n 테스트 정확도: %.4f\" % (accuracy))"
      ],
      "execution_count": null,
      "outputs": [
        {
          "output_type": "stream",
          "text": [
            "142/142 [==============================] - 1s 5ms/step - loss: 0.5295 - acc: 0.7366\n",
            "\n",
            " 테스트 정확도: 0.7366\n"
          ],
          "name": "stdout"
        }
      ]
    },
    {
      "cell_type": "markdown",
      "metadata": {
        "id": "Wl1J_YB3OqHn"
      },
      "source": [
        "# Bi-LSTM"
      ]
    },
    {
      "cell_type": "code",
      "metadata": {
        "colab": {
          "base_uri": "https://localhost:8080/"
        },
        "id": "6z-n4kKqOvFw",
        "outputId": "76234f90-b240-4ca9-d528-459658644325"
      },
      "source": [
        "!pip install konlpy"
      ],
      "execution_count": null,
      "outputs": [
        {
          "output_type": "stream",
          "text": [
            "Requirement already satisfied: konlpy in /usr/local/lib/python3.7/dist-packages (0.5.2)\n",
            "Requirement already satisfied: beautifulsoup4==4.6.0 in /usr/local/lib/python3.7/dist-packages (from konlpy) (4.6.0)\n",
            "Requirement already satisfied: numpy>=1.6 in /usr/local/lib/python3.7/dist-packages (from konlpy) (1.19.5)\n",
            "Requirement already satisfied: lxml>=4.1.0 in /usr/local/lib/python3.7/dist-packages (from konlpy) (4.2.6)\n",
            "Requirement already satisfied: JPype1>=0.7.0 in /usr/local/lib/python3.7/dist-packages (from konlpy) (1.2.1)\n",
            "Requirement already satisfied: tweepy>=3.7.0 in /usr/local/lib/python3.7/dist-packages (from konlpy) (3.10.0)\n",
            "Requirement already satisfied: colorama in /usr/local/lib/python3.7/dist-packages (from konlpy) (0.4.4)\n",
            "Requirement already satisfied: typing-extensions; python_version < \"3.8\" in /usr/local/lib/python3.7/dist-packages (from JPype1>=0.7.0->konlpy) (3.7.4.3)\n",
            "Requirement already satisfied: requests[socks]>=2.11.1 in /usr/local/lib/python3.7/dist-packages (from tweepy>=3.7.0->konlpy) (2.23.0)\n",
            "Requirement already satisfied: requests-oauthlib>=0.7.0 in /usr/local/lib/python3.7/dist-packages (from tweepy>=3.7.0->konlpy) (1.3.0)\n",
            "Requirement already satisfied: six>=1.10.0 in /usr/local/lib/python3.7/dist-packages (from tweepy>=3.7.0->konlpy) (1.15.0)\n",
            "Requirement already satisfied: idna<3,>=2.5 in /usr/local/lib/python3.7/dist-packages (from requests[socks]>=2.11.1->tweepy>=3.7.0->konlpy) (2.10)\n",
            "Requirement already satisfied: chardet<4,>=3.0.2 in /usr/local/lib/python3.7/dist-packages (from requests[socks]>=2.11.1->tweepy>=3.7.0->konlpy) (3.0.4)\n",
            "Requirement already satisfied: urllib3!=1.25.0,!=1.25.1,<1.26,>=1.21.1 in /usr/local/lib/python3.7/dist-packages (from requests[socks]>=2.11.1->tweepy>=3.7.0->konlpy) (1.24.3)\n",
            "Requirement already satisfied: certifi>=2017.4.17 in /usr/local/lib/python3.7/dist-packages (from requests[socks]>=2.11.1->tweepy>=3.7.0->konlpy) (2020.12.5)\n",
            "Requirement already satisfied: PySocks!=1.5.7,>=1.5.6; extra == \"socks\" in /usr/local/lib/python3.7/dist-packages (from requests[socks]>=2.11.1->tweepy>=3.7.0->konlpy) (1.7.1)\n",
            "Requirement already satisfied: oauthlib>=3.0.0 in /usr/local/lib/python3.7/dist-packages (from requests-oauthlib>=0.7.0->tweepy>=3.7.0->konlpy) (3.1.0)\n"
          ],
          "name": "stdout"
        }
      ]
    },
    {
      "cell_type": "code",
      "metadata": {
        "id": "LITV92YwOsKv"
      },
      "source": [
        "import matplotlib.pyplot as plt\n",
        "import urllib.request\n",
        "from collections import Counter\n",
        "from konlpy.tag import Mecab\n",
        "from sklearn.model_selection import train_test_split\n",
        "from tensorflow.keras.preprocessing.text import Tokenizer\n",
        "from tensorflow.keras.preprocessing.sequence import pad_sequences"
      ],
      "execution_count": null,
      "outputs": []
    },
    {
      "cell_type": "code",
      "metadata": {
        "id": "nQT-kgJyO2x6"
      },
      "source": [
        "import re\n",
        "from tensorflow.keras.layers import Embedding, Dense, LSTM, Bidirectional\n",
        "from tensorflow.keras.models import Sequential\n",
        "from tensorflow.keras.models import load_model\n",
        "from tensorflow.keras.callbacks import EarlyStopping, ModelCheckpoint"
      ],
      "execution_count": null,
      "outputs": []
    },
    {
      "cell_type": "code",
      "metadata": {
        "id": "NH8qPC22O2vf"
      },
      "source": [
        "model = Sequential()\n",
        "model.add(Embedding(vocab_size, 100))\n",
        "model.add(Bidirectional(LSTM(100)))\n",
        "model.add(Dense(1, activation='sigmoid'))"
      ],
      "execution_count": null,
      "outputs": []
    },
    {
      "cell_type": "code",
      "metadata": {
        "id": "0QT3iVCiO2sq"
      },
      "source": [
        "es = EarlyStopping(monitor='val_loss', mode='min', verbose=1, patience=3)\n",
        "mc = ModelCheckpoint('best_model.h5', monitor='val_acc', mode='max', verbose=1, save_best_only=True)"
      ],
      "execution_count": null,
      "outputs": []
    },
    {
      "cell_type": "code",
      "metadata": {
        "colab": {
          "base_uri": "https://localhost:8080/"
        },
        "id": "Sv6CNbuxO2qk",
        "outputId": "62ae6be4-c7f9-4dad-a64e-23abde02784f"
      },
      "source": [
        "model.compile(optimizer='rmsprop', loss='binary_crossentropy', metrics=['acc'])\n",
        "history = model.fit(X_train, y_train, epochs=15, callbacks=[es, mc], batch_size=60, validation_split=0.2)"
      ],
      "execution_count": null,
      "outputs": [
        {
          "output_type": "stream",
          "text": [
            "Epoch 1/15\n",
            "241/241 [==============================] - 12s 36ms/step - loss: 0.6067 - acc: 0.6874 - val_loss: 0.5408 - val_acc: 0.7376\n",
            "\n",
            "Epoch 00001: val_acc improved from -inf to 0.73760, saving model to best_model.h5\n",
            "Epoch 2/15\n",
            "241/241 [==============================] - 7s 31ms/step - loss: 0.5065 - acc: 0.7578 - val_loss: 0.5580 - val_acc: 0.7229\n",
            "\n",
            "Epoch 00002: val_acc did not improve from 0.73760\n",
            "Epoch 3/15\n",
            "241/241 [==============================] - 7s 31ms/step - loss: 0.4693 - acc: 0.7813 - val_loss: 0.5221 - val_acc: 0.7503\n",
            "\n",
            "Epoch 00003: val_acc improved from 0.73760 to 0.75035, saving model to best_model.h5\n",
            "Epoch 4/15\n",
            "241/241 [==============================] - 7s 31ms/step - loss: 0.4462 - acc: 0.7975 - val_loss: 0.5454 - val_acc: 0.7467\n",
            "\n",
            "Epoch 00004: val_acc did not improve from 0.75035\n",
            "Epoch 5/15\n",
            "241/241 [==============================] - 7s 31ms/step - loss: 0.4164 - acc: 0.8148 - val_loss: 0.5438 - val_acc: 0.7337\n",
            "\n",
            "Epoch 00005: val_acc did not improve from 0.75035\n",
            "Epoch 6/15\n",
            "241/241 [==============================] - 7s 31ms/step - loss: 0.3909 - acc: 0.8240 - val_loss: 0.5795 - val_acc: 0.7495\n",
            "\n",
            "Epoch 00006: val_acc did not improve from 0.75035\n",
            "Epoch 00006: early stopping\n"
          ],
          "name": "stdout"
        }
      ]
    },
    {
      "cell_type": "code",
      "metadata": {
        "colab": {
          "base_uri": "https://localhost:8080/"
        },
        "id": "2j5rhaV8O2jW",
        "outputId": "99b8ff79-720a-4b3d-dbcd-80de1163c147"
      },
      "source": [
        "loaded_model = load_model('best_model.h5')\n",
        "accuracy = loaded_model.evaluate(X_test, y_test)[1]\n",
        "total['accuracy'][3] = accuracy\n",
        "print(\"\\n 테스트 정확도: %.4f\" % (accuracy))"
      ],
      "execution_count": null,
      "outputs": [
        {
          "output_type": "stream",
          "text": [
            "142/142 [==============================] - 2s 8ms/step - loss: 0.5318 - acc: 0.7419\n",
            "\n",
            " 테스트 정확도: 0.7419\n"
          ],
          "name": "stdout"
        }
      ]
    },
    {
      "cell_type": "markdown",
      "metadata": {
        "id": "aC9hvqNKPJE3"
      },
      "source": [
        "#1D CNN"
      ]
    },
    {
      "cell_type": "code",
      "metadata": {
        "id": "xh5YW-eZPQP-"
      },
      "source": [
        "from tensorflow.keras.models import Sequential\n",
        "from tensorflow.keras.layers import Embedding, Dropout, Conv1D, GlobalMaxPooling1D, Dense\n",
        "from tensorflow.keras.callbacks import EarlyStopping, ModelCheckpoint\n",
        "from tensorflow.keras.models import load_model"
      ],
      "execution_count": null,
      "outputs": []
    },
    {
      "cell_type": "code",
      "metadata": {
        "id": "p0hUgj1NPMh0"
      },
      "source": [
        "model = Sequential()\n",
        "model.add(Embedding(vocab_size, 256))\n",
        "model.add(Dropout(0.3))\n",
        "model.add(Conv1D(256, 3, padding='valid', activation='relu'))\n",
        "model.add(GlobalMaxPooling1D())\n",
        "model.add(Dense(128, activation='relu'))\n",
        "model.add(Dropout(0.5))\n",
        "model.add(Dense(1, activation='sigmoid'))"
      ],
      "execution_count": null,
      "outputs": []
    },
    {
      "cell_type": "code",
      "metadata": {
        "id": "PqR4ftuRPMdy"
      },
      "source": [
        "es = EarlyStopping(monitor = 'val_loss', mode = 'min', verbose = 1, patience = 3)\n",
        "mc = ModelCheckpoint('best_model.h5', monitor = 'val_acc', mode = 'max', verbose = 1, save_best_only = True)"
      ],
      "execution_count": null,
      "outputs": []
    },
    {
      "cell_type": "code",
      "metadata": {
        "colab": {
          "base_uri": "https://localhost:8080/"
        },
        "id": "Hok0GQ_cPMbL",
        "outputId": "ef4360e6-1957-4a44-8c91-ef0a874df12a"
      },
      "source": [
        "model.compile(optimizer='rmsprop', loss='binary_crossentropy', metrics=['acc'])\n",
        "history = model.fit(X_train, y_train, epochs=15, callbacks=[es, mc], batch_size=60, validation_split=0.2)"
      ],
      "execution_count": null,
      "outputs": [
        {
          "output_type": "stream",
          "text": [
            "Epoch 1/15\n",
            "241/241 [==============================] - 9s 29ms/step - loss: 0.6183 - acc: 0.6708 - val_loss: 0.5373 - val_acc: 0.7260\n",
            "\n",
            "Epoch 00001: val_acc improved from -inf to 0.72596, saving model to best_model.h5\n",
            "Epoch 2/15\n",
            "241/241 [==============================] - 6s 26ms/step - loss: 0.5279 - acc: 0.7417 - val_loss: 0.5036 - val_acc: 0.7595\n",
            "\n",
            "Epoch 00002: val_acc improved from 0.72596 to 0.75949, saving model to best_model.h5\n",
            "Epoch 3/15\n",
            "241/241 [==============================] - 6s 25ms/step - loss: 0.4582 - acc: 0.7912 - val_loss: 0.5090 - val_acc: 0.7623\n",
            "\n",
            "Epoch 00003: val_acc improved from 0.75949 to 0.76226, saving model to best_model.h5\n",
            "Epoch 4/15\n",
            "241/241 [==============================] - 6s 24ms/step - loss: 0.3940 - acc: 0.8271 - val_loss: 0.5044 - val_acc: 0.7672\n",
            "\n",
            "Epoch 00004: val_acc improved from 0.76226 to 0.76725, saving model to best_model.h5\n",
            "Epoch 5/15\n",
            "241/241 [==============================] - 6s 24ms/step - loss: 0.3202 - acc: 0.8683 - val_loss: 0.5654 - val_acc: 0.7301\n",
            "\n",
            "Epoch 00005: val_acc did not improve from 0.76725\n",
            "Epoch 00005: early stopping\n"
          ],
          "name": "stdout"
        }
      ]
    },
    {
      "cell_type": "code",
      "metadata": {
        "colab": {
          "base_uri": "https://localhost:8080/"
        },
        "id": "InQkGvZ2PMYk",
        "outputId": "cb0185cc-2c2c-4812-aff0-9f8a039cd099"
      },
      "source": [
        "loaded_model = load_model('best_model.h5')\n",
        "accuracy = loaded_model.evaluate(X_test, y_test)[1]\n",
        "total['accuracy'][4] = accuracy\n",
        "print(\"\\n 테스트 정확도: %.4f\" % (accuracy))"
      ],
      "execution_count": null,
      "outputs": [
        {
          "output_type": "stream",
          "text": [
            "142/142 [==============================] - 1s 4ms/step - loss: 0.5045 - acc: 0.7614\n",
            "\n",
            " 테스트 정확도: 0.7614\n"
          ],
          "name": "stdout"
        }
      ]
    },
    {
      "cell_type": "markdown",
      "metadata": {
        "id": "NkFj0uGtPh9y"
      },
      "source": [
        "# Multi-Kernel 1D CNN"
      ]
    },
    {
      "cell_type": "code",
      "metadata": {
        "id": "74fDmG2bPMVg"
      },
      "source": [
        "from tensorflow.keras.models import Sequential, Model\n",
        "from tensorflow.keras.layers import Embedding, Dropout, Conv1D, GlobalMaxPooling1D, Dense, Input, Flatten, Concatenate\n",
        "from tensorflow.keras.callbacks import EarlyStopping, ModelCheckpoint\n",
        "from tensorflow.keras.models import load_model"
      ],
      "execution_count": null,
      "outputs": []
    },
    {
      "cell_type": "code",
      "metadata": {
        "id": "cuG7ognpPoGX"
      },
      "source": [
        "embedding_dim = 128\n",
        "dropout_prob = (0.5, 0.8)\n",
        "num_filters = 128"
      ],
      "execution_count": null,
      "outputs": []
    },
    {
      "cell_type": "code",
      "metadata": {
        "id": "sbgiMq0zPoEm"
      },
      "source": [
        "model_input = Input(shape = (max_len,))\n",
        "z = Embedding(vocab_size, embedding_dim, input_length = max_len, name=\"embedding\")(model_input)\n",
        "z = Dropout(dropout_prob[0])(z)"
      ],
      "execution_count": null,
      "outputs": []
    },
    {
      "cell_type": "code",
      "metadata": {
        "id": "uhEVFhLjP9KP"
      },
      "source": [
        "conv_blocks = []\n",
        "\n",
        "for sz in [3, 4, 5]:\n",
        "    conv = Conv1D(filters = num_filters,\n",
        "                         kernel_size = sz,\n",
        "                         padding = \"valid\",\n",
        "                         activation = \"relu\",\n",
        "                         strides = 1)(z)\n",
        "    conv = GlobalMaxPooling1D()(conv)\n",
        "    conv = Flatten()(conv)\n",
        "    conv_blocks.append(conv)"
      ],
      "execution_count": null,
      "outputs": []
    },
    {
      "cell_type": "code",
      "metadata": {
        "id": "ihFqz6muPoAb"
      },
      "source": [
        "z = Concatenate()(conv_blocks) if len(conv_blocks) > 1 else conv_blocks[0]\n",
        "z = Dropout(dropout_prob[1])(z)\n",
        "z = Dense(128, activation=\"relu\")(z)\n",
        "model_output = Dense(1, activation=\"sigmoid\")(z)\n",
        "\n",
        "model = Model(model_input, model_output)"
      ],
      "execution_count": null,
      "outputs": []
    },
    {
      "cell_type": "code",
      "metadata": {
        "id": "axc8Kpx6Pn-h"
      },
      "source": [
        "es = EarlyStopping(monitor='val_loss', mode='min', verbose=1, patience=3)\n",
        "mc = ModelCheckpoint('best_model.h5', monitor='val_acc', mode='max', verbose=1, save_best_only=True)"
      ],
      "execution_count": null,
      "outputs": []
    },
    {
      "cell_type": "code",
      "metadata": {
        "colab": {
          "base_uri": "https://localhost:8080/"
        },
        "id": "APp6OVnIsvsK",
        "outputId": "b9916655-760e-4e54-e1a6-22f35cd65c5f"
      },
      "source": [
        "model.compile(optimizer='rmsprop', loss='binary_crossentropy', metrics=['acc'])\n",
        "history = model.fit(X_train, y_train, epochs=15, callbacks=[es, mc], batch_size=60, validation_split=0.2)"
      ],
      "execution_count": null,
      "outputs": [
        {
          "output_type": "stream",
          "text": [
            "Epoch 1/15\n",
            "241/241 [==============================] - 6s 19ms/step - loss: 0.6375 - acc: 0.6673 - val_loss: 0.6306 - val_acc: 0.6944\n",
            "\n",
            "Epoch 00001: val_acc improved from -inf to 0.69438, saving model to best_model.h5\n",
            "Epoch 2/15\n",
            "241/241 [==============================] - 4s 17ms/step - loss: 0.6104 - acc: 0.6733 - val_loss: 0.5733 - val_acc: 0.7235\n",
            "\n",
            "Epoch 00002: val_acc improved from 0.69438 to 0.72347, saving model to best_model.h5\n",
            "Epoch 3/15\n",
            "241/241 [==============================] - 4s 18ms/step - loss: 0.5810 - acc: 0.6999 - val_loss: 0.5350 - val_acc: 0.7451\n",
            "\n",
            "Epoch 00003: val_acc improved from 0.72347 to 0.74508, saving model to best_model.h5\n",
            "Epoch 4/15\n",
            "241/241 [==============================] - 4s 17ms/step - loss: 0.5503 - acc: 0.7294 - val_loss: 0.5275 - val_acc: 0.7476\n",
            "\n",
            "Epoch 00004: val_acc improved from 0.74508 to 0.74758, saving model to best_model.h5\n",
            "Epoch 5/15\n",
            "241/241 [==============================] - 4s 17ms/step - loss: 0.5275 - acc: 0.7439 - val_loss: 0.5261 - val_acc: 0.7445\n",
            "\n",
            "Epoch 00005: val_acc did not improve from 0.74758\n",
            "Epoch 6/15\n",
            "241/241 [==============================] - 4s 17ms/step - loss: 0.5190 - acc: 0.7491 - val_loss: 0.5203 - val_acc: 0.7434\n",
            "\n",
            "Epoch 00006: val_acc did not improve from 0.74758\n",
            "Epoch 7/15\n",
            "241/241 [==============================] - 4s 17ms/step - loss: 0.5043 - acc: 0.7643 - val_loss: 0.5266 - val_acc: 0.7426\n",
            "\n",
            "Epoch 00007: val_acc did not improve from 0.74758\n",
            "Epoch 8/15\n",
            "241/241 [==============================] - 4s 17ms/step - loss: 0.4919 - acc: 0.7751 - val_loss: 0.5266 - val_acc: 0.7415\n",
            "\n",
            "Epoch 00008: val_acc did not improve from 0.74758\n",
            "Epoch 9/15\n",
            "241/241 [==============================] - 4s 17ms/step - loss: 0.4770 - acc: 0.7783 - val_loss: 0.5412 - val_acc: 0.7323\n",
            "\n",
            "Epoch 00009: val_acc did not improve from 0.74758\n",
            "Epoch 00009: early stopping\n"
          ],
          "name": "stdout"
        }
      ]
    },
    {
      "cell_type": "code",
      "metadata": {
        "colab": {
          "base_uri": "https://localhost:8080/"
        },
        "id": "4lzGuzYNPn8t",
        "outputId": "4e976ff0-30ec-48aa-ca0a-8f53d8357358"
      },
      "source": [
        "loaded_model = load_model('best_model.h5')\n",
        "accuracy = loaded_model.evaluate(X_test, y_test)[1]\n",
        "total['accuracy'][5] = accuracy\n",
        "print(\"\\n 테스트 정확도: %.4f\" % (accuracy))"
      ],
      "execution_count": null,
      "outputs": [
        {
          "output_type": "stream",
          "text": [
            "142/142 [==============================] - 1s 4ms/step - loss: 0.5330 - acc: 0.7452\n",
            "\n",
            " 테스트 정확도: 0.7452\n"
          ],
          "name": "stdout"
        }
      ]
    },
    {
      "cell_type": "markdown",
      "metadata": {
        "id": "KUEAtZ9_QfUP"
      },
      "source": [
        "#Bi-LSTM & Attention"
      ]
    },
    {
      "cell_type": "code",
      "metadata": {
        "id": "5mA_eWv5Pn6p"
      },
      "source": [
        "import tensorflow as tf"
      ],
      "execution_count": null,
      "outputs": []
    },
    {
      "cell_type": "code",
      "metadata": {
        "id": "Qi3KCBxBPn46"
      },
      "source": [
        "class BahdanauAttention(tf.keras.Model):\n",
        "  def __init__(self, units):\n",
        "    super(BahdanauAttention, self).__init__()\n",
        "    self.W1 = Dense(units)\n",
        "    self.W2 = Dense(units)\n",
        "    self.V = Dense(1)\n",
        "\n",
        "  def call(self, values, query):\n",
        "    hidden_with_time_axis = tf.expand_dims(query, 1)\n",
        "\n",
        "    score = self.V(tf.nn.tanh(\n",
        "        self.W1(values) + self.W2(hidden_with_time_axis)))\n",
        "\n",
        "    attention_weights = tf.nn.softmax(score, axis=1)\n",
        "\n",
        "    context_vector = attention_weights * values\n",
        "    context_vector = tf.reduce_sum(context_vector, axis=1)\n",
        "\n",
        "    return context_vector, attention_weights"
      ],
      "execution_count": null,
      "outputs": []
    },
    {
      "cell_type": "code",
      "metadata": {
        "id": "qS-PMysHQjCe"
      },
      "source": [
        "from tensorflow.keras.layers import Dense, Embedding, Bidirectional, LSTM, Concatenate, Dropout\n",
        "from tensorflow.keras import Input, Model\n",
        "from tensorflow.keras import optimizers\n",
        "import os"
      ],
      "execution_count": null,
      "outputs": []
    },
    {
      "cell_type": "code",
      "metadata": {
        "id": "Fn2wt7APQi95"
      },
      "source": [
        "sequence_input = Input(shape=(max_len,), dtype='int32')\n",
        "embedded_sequences = Embedding(vocab_size, 128, input_length=max_len, mask_zero = True)(sequence_input)"
      ],
      "execution_count": null,
      "outputs": []
    },
    {
      "cell_type": "code",
      "metadata": {
        "id": "dtGgZ0ypQi7p"
      },
      "source": [
        "lstm = Bidirectional(LSTM(64, dropout=0.5, return_sequences = True))(embedded_sequences)"
      ],
      "execution_count": null,
      "outputs": []
    },
    {
      "cell_type": "code",
      "metadata": {
        "id": "exK1BriZQi5F"
      },
      "source": [
        "lstm, forward_h, forward_c, backward_h, backward_c = Bidirectional \\\n",
        "  (LSTM(64, dropout=0.5, return_sequences=True, return_state=True))(lstm)"
      ],
      "execution_count": null,
      "outputs": []
    },
    {
      "cell_type": "code",
      "metadata": {
        "colab": {
          "base_uri": "https://localhost:8080/"
        },
        "id": "6X-8NET8Pnw0",
        "outputId": "348fcebe-6bbc-4eb7-db26-efc0032329dc"
      },
      "source": [
        "print(lstm.shape, forward_h.shape, forward_c.shape, backward_h.shape, backward_c.shape)"
      ],
      "execution_count": null,
      "outputs": [
        {
          "output_type": "stream",
          "text": [
            "(None, 200, 128) (None, 64) (None, 64) (None, 64) (None, 64)\n"
          ],
          "name": "stdout"
        }
      ]
    },
    {
      "cell_type": "code",
      "metadata": {
        "id": "dqk7UcnTQw-B"
      },
      "source": [
        "state_h = Concatenate()([forward_h, backward_h])\n",
        "state_c = Concatenate()([forward_c, backward_c])"
      ],
      "execution_count": null,
      "outputs": []
    },
    {
      "cell_type": "code",
      "metadata": {
        "id": "uuZmWwzgQymj"
      },
      "source": [
        "attention = BahdanauAttention(64)\n",
        "context_vector, attention_weights = attention(lstm, state_h)"
      ],
      "execution_count": null,
      "outputs": []
    },
    {
      "cell_type": "code",
      "metadata": {
        "id": "gZp00mp5Q0oH"
      },
      "source": [
        "dense1 = Dense(20, activation=\"relu\")(context_vector)\n",
        "dropout = Dropout(0.5)(dense1)\n",
        "output = Dense(1, activation=\"sigmoid\")(dropout)\n",
        "model = Model(inputs=sequence_input, outputs=output)"
      ],
      "execution_count": null,
      "outputs": []
    },
    {
      "cell_type": "code",
      "metadata": {
        "colab": {
          "base_uri": "https://localhost:8080/"
        },
        "id": "8s3EWlkRQ0kp",
        "outputId": "9faa216d-c2cc-477b-f3d6-eefbb697b04b"
      },
      "source": [
        "model.compile(optimizer='rmsprop', loss='binary_crossentropy', metrics=['acc'])\n",
        "history = model.fit(X_train, y_train, epochs=3, batch_size=256, validation_split=0.2)"
      ],
      "execution_count": null,
      "outputs": [
        {
          "output_type": "stream",
          "text": [
            "Epoch 1/3\n",
            "57/57 [==============================] - 118s 2s/step - loss: 0.6359 - acc: 0.6707 - val_loss: 0.5906 - val_acc: 0.7085\n",
            "Epoch 2/3\n",
            "24/57 [===========>..................] - ETA: 50s - loss: 0.5758 - acc: 0.7063"
          ],
          "name": "stdout"
        }
      ]
    },
    {
      "cell_type": "code",
      "metadata": {
        "colab": {
          "base_uri": "https://localhost:8080/"
        },
        "id": "2wMswEw_Q0cB",
        "outputId": "781603cf-3654-4fc4-db1d-b6934c92fe23"
      },
      "source": [
        "accuracy = model.evaluate(X_test, y_test)[1]\n",
        "total['accuracy'][6] = accuracy\n",
        "print(\"\\n 테스트 정확도: %.4f\" % (accuracy))"
      ],
      "execution_count": null,
      "outputs": [
        {
          "output_type": "stream",
          "text": [
            "142/142 [==============================] - 29s 158ms/step - loss: 0.5274 - acc: 0.7394\n",
            "\n",
            " 테스트 정확도: 0.7394\n"
          ],
          "name": "stdout"
        }
      ]
    },
    {
      "cell_type": "markdown",
      "metadata": {
        "id": "b3LD3v2Hf-Jm"
      },
      "source": [
        "# 결과 확인"
      ]
    },
    {
      "cell_type": "code",
      "metadata": {
        "colab": {
          "base_uri": "https://localhost:8080/",
          "height": 252
        },
        "id": "dg61h6g1f9XK",
        "outputId": "18b79663-daf7-4d8a-c7ab-ee43d5d50d29"
      },
      "source": [
        "total"
      ],
      "execution_count": null,
      "outputs": [
        {
          "output_type": "execute_result",
          "data": {
            "text/html": [
              "<div>\n",
              "<style scoped>\n",
              "    .dataframe tbody tr th:only-of-type {\n",
              "        vertical-align: middle;\n",
              "    }\n",
              "\n",
              "    .dataframe tbody tr th {\n",
              "        vertical-align: top;\n",
              "    }\n",
              "\n",
              "    .dataframe thead th {\n",
              "        text-align: right;\n",
              "    }\n",
              "</style>\n",
              "<table border=\"1\" class=\"dataframe\">\n",
              "  <thead>\n",
              "    <tr style=\"text-align: right;\">\n",
              "      <th></th>\n",
              "      <th>accuracy</th>\n",
              "    </tr>\n",
              "  </thead>\n",
              "  <tbody>\n",
              "    <tr>\n",
              "      <th>RNN</th>\n",
              "      <td>0.713028</td>\n",
              "    </tr>\n",
              "    <tr>\n",
              "      <th>LSTM</th>\n",
              "      <td>0.747799</td>\n",
              "    </tr>\n",
              "    <tr>\n",
              "      <th>GRU</th>\n",
              "      <td>0.736576</td>\n",
              "    </tr>\n",
              "    <tr>\n",
              "      <th>Bi-LSTM</th>\n",
              "      <td>0.741857</td>\n",
              "    </tr>\n",
              "    <tr>\n",
              "      <th>1D CNN</th>\n",
              "      <td>0.761444</td>\n",
              "    </tr>\n",
              "    <tr>\n",
              "      <th>Multi-Kernel 1D CNN</th>\n",
              "      <td>0.745158</td>\n",
              "    </tr>\n",
              "    <tr>\n",
              "      <th>Bi-LSTM &amp; Attention</th>\n",
              "      <td>0.739437</td>\n",
              "    </tr>\n",
              "  </tbody>\n",
              "</table>\n",
              "</div>"
            ],
            "text/plain": [
              "                     accuracy\n",
              "RNN                  0.713028\n",
              "LSTM                 0.747799\n",
              "GRU                  0.736576\n",
              "Bi-LSTM              0.741857\n",
              "1D CNN               0.761444\n",
              "Multi-Kernel 1D CNN  0.745158\n",
              "Bi-LSTM & Attention  0.739437"
            ]
          },
          "metadata": {
            "tags": []
          },
          "execution_count": 82
        }
      ]
    }
  ]
}