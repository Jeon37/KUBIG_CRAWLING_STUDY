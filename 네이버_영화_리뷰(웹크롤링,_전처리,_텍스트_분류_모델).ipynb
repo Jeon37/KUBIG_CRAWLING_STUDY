{
 "cells": [
  {
   "cell_type": "markdown",
   "metadata": {
    "id": "84JlqbltTZUc"
   },
   "source": [
    "# **네이버 영화 리뷰**\n",
    "**웹크롤링 & 전처리 & 텍스트 분류 모델**"
   ]
  },
  {
   "cell_type": "markdown",
   "metadata": {
    "id": "2-jO2VdOS94B"
   },
   "source": [
    "# 웹크롤링"
   ]
  },
  {
   "cell_type": "code",
   "execution_count": null,
   "metadata": {
    "colab": {
     "base_uri": "https://localhost:8080/"
    },
    "id": "Rkf0M6PhTTyc",
    "outputId": "e4482e19-a312-426c-c126-d730c73e9bd8"
   },
   "outputs": [
    {
     "name": "stdout",
     "output_type": "stream",
     "text": [
      "Requirement already satisfied: bs4 in /usr/local/lib/python3.6/dist-packages (0.0.1)\n",
      "Requirement already satisfied: beautifulsoup4 in /usr/local/lib/python3.6/dist-packages (from bs4) (4.6.3)\n",
      "Requirement already satisfied: lxml in /usr/local/lib/python3.6/dist-packages (4.2.6)\n"
     ]
    }
   ],
   "source": [
    "!pip install bs4\n",
    "\n",
    "!pip install lxml"
   ]
  },
  {
   "cell_type": "code",
   "execution_count": null,
   "metadata": {
    "id": "M1CgigdHTUxe"
   },
   "outputs": [],
   "source": [
    "from bs4 import BeautifulSoup\n",
    "import os\n",
    "import re\n",
    "import requests\n",
    "import sys\n",
    "import pandas as pd\n",
    "from pprint import pprint"
   ]
  },
  {
   "cell_type": "code",
   "execution_count": null,
   "metadata": {
    "id": "o6LOAa5kTXHn"
   },
   "outputs": [],
   "source": [
    "# 네이버 영화 리뷰 페이지 주소\n",
    "url0 = 'https://movie.naver.com/movie/bi/mi/pointWriteFormList.nhn?code='\n",
    "url1='&type=after&isActualPointWriteExecute=false&isMileageSubscriptionAlready=false&isMileageSubscriptionReject=false&page='\n",
    "\n",
    "# 영화 코드\n",
    "movie_num = 93756 #영화 '명량'\n",
    "\n",
    "# 네이버 영화 리뷰 페이지 주소(전체)\n",
    "url2= url0 + str(movie_num) + url1\n",
    "\n",
    "r0 = requests.get(url2)\n",
    "html0 = r0.text\n",
    "page0 = BeautifulSoup(html0, 'lxml')\n",
    "\n",
    "# 전체 리뷰 개수\n",
    "total_num = page0.select('div[class=score_total] strong[class=total] em')\n",
    "total_num = total_num[0].text\n",
    "total_num = total_num.replace(',','')\n",
    "total_num = int(total_num)\n",
    "\n",
    "# 전체 리뷰 페이지 개수 (한 페이지에 리뷰 10개)\n",
    "total_page = total_num // 10 + 1\n",
    "\n",
    "# 영화 리뷰 데이터셋 생성\n",
    "movie_review = pd.DataFrame(columns = ['score', 'review'])\n",
    "\n",
    "# 각 리뷰 페이지에 대해 반복문 실행\n",
    "for i in range(1, total_page+1):\n",
    "  url = url2 + str(i)\n",
    "  r = requests.get(url)\n",
    "  html = r.text\n",
    "  page = page = BeautifulSoup(html, 'lxml')\n",
    "\n",
    "  # 평점 (1~10점)\n",
    "  score = page.select('div[class=star_score] em')\n",
    "  score = [i.text for i in score]\n",
    "\n",
    "  # 감상평\n",
    "  review = []\n",
    "  for j in range(len(score)):\n",
    "    map = 'div[class=score_reple] span[id=_filtered_ment_'+str(j)+']'\n",
    "    review1 = page.select(map)\n",
    "    review1 = review1[0].text.strip()\n",
    "    review.append(review1)\n",
    "\n",
    "  # 평점과 감상평을 영화 리뷰 데이터셋에 저장\n",
    "  for j in range(len(score)):\n",
    "    new_data = {'score': score[j], 'review': review[j]}\n",
    "    movie_review = movie_review.append(new_data, ignore_index=True)"
   ]
  },
  {
   "cell_type": "code",
   "execution_count": null,
   "metadata": {
    "colab": {
     "base_uri": "https://localhost:8080/",
     "height": 343
    },
    "id": "PKYapXb7VV7w",
    "outputId": "2c758b64-e792-4aca-9025-3e3ce6220508"
   },
   "outputs": [
    {
     "data": {
      "text/html": [
       "<div>\n",
       "<style scoped>\n",
       "    .dataframe tbody tr th:only-of-type {\n",
       "        vertical-align: middle;\n",
       "    }\n",
       "\n",
       "    .dataframe tbody tr th {\n",
       "        vertical-align: top;\n",
       "    }\n",
       "\n",
       "    .dataframe thead th {\n",
       "        text-align: right;\n",
       "    }\n",
       "</style>\n",
       "<table border=\"1\" class=\"dataframe\">\n",
       "  <thead>\n",
       "    <tr style=\"text-align: right;\">\n",
       "      <th></th>\n",
       "      <th>score</th>\n",
       "      <th>review</th>\n",
       "    </tr>\n",
       "  </thead>\n",
       "  <tbody>\n",
       "    <tr>\n",
       "      <th>0</th>\n",
       "      <td>10</td>\n",
       "      <td>오늘 명량 시사회로 방금 보고 왔음. 단연코 올해의 수작임. 밑에 평론가들 캐릭터 ...</td>\n",
       "    </tr>\n",
       "    <tr>\n",
       "      <th>1</th>\n",
       "      <td>10</td>\n",
       "      <td>이순신, 그는 신이다.</td>\n",
       "    </tr>\n",
       "    <tr>\n",
       "      <th>2</th>\n",
       "      <td>10</td>\n",
       "      <td>군도보다 훨씬 잼있음..극장가서 꼭 보세요</td>\n",
       "    </tr>\n",
       "    <tr>\n",
       "      <th>3</th>\n",
       "      <td>10</td>\n",
       "      <td>29일 시사회로 봤어요냉정하게이건 꼭 봐야해..굿</td>\n",
       "    </tr>\n",
       "    <tr>\n",
       "      <th>4</th>\n",
       "      <td>10</td>\n",
       "      <td>오늘 아침에 조조로 보고왔습니다. 8월4일에 해군에 입대하는데. 그전에 보기 잘한 ...</td>\n",
       "    </tr>\n",
       "    <tr>\n",
       "      <th>5</th>\n",
       "      <td>10</td>\n",
       "      <td>정말 재미있네요 잘보고 왔습니다 시사회</td>\n",
       "    </tr>\n",
       "    <tr>\n",
       "      <th>6</th>\n",
       "      <td>9</td>\n",
       "      <td>극찬할 수는 없지만 이 정도면 내용, 영상, 연출 전부 꽤나 뛰어난 작품이지 않은가...</td>\n",
       "    </tr>\n",
       "    <tr>\n",
       "      <th>7</th>\n",
       "      <td>10</td>\n",
       "      <td>국가에 버림을 받아도 의리로 지키려는 충신. 피를 흘리면서 싸우는 군인들의 투지. ...</td>\n",
       "    </tr>\n",
       "    <tr>\n",
       "      <th>8</th>\n",
       "      <td>10</td>\n",
       "      <td>보는 내내 가슴찡하고 울컥하는 진짜 최고의 영화ㅠㅠ한 순간도 놓칠 수 없는 해전씬이...</td>\n",
       "    </tr>\n",
       "    <tr>\n",
       "      <th>9</th>\n",
       "      <td>10</td>\n",
       "      <td>작금의 이시점에 국가가 혼란하고 위태할수록국가를 직간접으로 책임지고 있는 리더에게 ...</td>\n",
       "    </tr>\n",
       "  </tbody>\n",
       "</table>\n",
       "</div>"
      ],
      "text/plain": [
       "  score                                             review\n",
       "0    10  오늘 명량 시사회로 방금 보고 왔음. 단연코 올해의 수작임. 밑에 평론가들 캐릭터 ...\n",
       "1    10                                       이순신, 그는 신이다.\n",
       "2    10                            군도보다 훨씬 잼있음..극장가서 꼭 보세요\n",
       "3    10                        29일 시사회로 봤어요냉정하게이건 꼭 봐야해..굿\n",
       "4    10  오늘 아침에 조조로 보고왔습니다. 8월4일에 해군에 입대하는데. 그전에 보기 잘한 ...\n",
       "5    10                              정말 재미있네요 잘보고 왔습니다 시사회\n",
       "6     9  극찬할 수는 없지만 이 정도면 내용, 영상, 연출 전부 꽤나 뛰어난 작품이지 않은가...\n",
       "7    10  국가에 버림을 받아도 의리로 지키려는 충신. 피를 흘리면서 싸우는 군인들의 투지. ...\n",
       "8    10  보는 내내 가슴찡하고 울컥하는 진짜 최고의 영화ㅠㅠ한 순간도 놓칠 수 없는 해전씬이...\n",
       "9    10  작금의 이시점에 국가가 혼란하고 위태할수록국가를 직간접으로 책임지고 있는 리더에게 ..."
      ]
     },
     "execution_count": 10,
     "metadata": {
      "tags": []
     },
     "output_type": "execute_result"
    }
   ],
   "source": [
    "movie_review[:10]"
   ]
  },
  {
   "cell_type": "code",
   "execution_count": null,
   "metadata": {
    "colab": {
     "base_uri": "https://localhost:8080/"
    },
    "id": "p6k-B9uKVffG",
    "outputId": "791ca3cc-aaf9-4416-8071-6ded77e5ef1a"
   },
   "outputs": [
    {
     "name": "stdout",
     "output_type": "stream",
     "text": [
      "총 리뷰의 수 : 64564\n"
     ]
    }
   ],
   "source": [
    "print('총 리뷰의 수 :', len(movie_review))"
   ]
  },
  {
   "cell_type": "markdown",
   "metadata": {
    "id": "N0pbHbD4VlQF"
   },
   "source": [
    "# 데이터 전처리"
   ]
  },
  {
   "cell_type": "code",
   "execution_count": null,
   "metadata": {
    "colab": {
     "base_uri": "https://localhost:8080/",
     "height": 687
    },
    "id": "GyKwJTc_Vhce",
    "outputId": "5799bdce-6a5c-4830-e9f9-990fcd1bf2fc"
   },
   "outputs": [
    {
     "name": "stdout",
     "output_type": "stream",
     "text": [
      "Collecting konlpy\n",
      "\u001b[?25l  Downloading https://files.pythonhosted.org/packages/85/0e/f385566fec837c0b83f216b2da65db9997b35dd675e107752005b7d392b1/konlpy-0.5.2-py2.py3-none-any.whl (19.4MB)\n",
      "\u001b[K     |████████████████████████████████| 19.4MB 1.3MB/s \n",
      "\u001b[?25hCollecting colorama\n",
      "  Downloading https://files.pythonhosted.org/packages/44/98/5b86278fbbf250d239ae0ecb724f8572af1c91f4a11edf4d36a206189440/colorama-0.4.4-py2.py3-none-any.whl\n",
      "Collecting beautifulsoup4==4.6.0\n",
      "\u001b[?25l  Downloading https://files.pythonhosted.org/packages/9e/d4/10f46e5cfac773e22707237bfcd51bbffeaf0a576b0a847ec7ab15bd7ace/beautifulsoup4-4.6.0-py3-none-any.whl (86kB)\n",
      "\u001b[K     |████████████████████████████████| 92kB 7.8MB/s \n",
      "\u001b[?25hRequirement already satisfied: numpy>=1.6 in /usr/local/lib/python3.6/dist-packages (from konlpy) (1.19.5)\n",
      "Collecting tweepy>=3.7.0\n",
      "  Downloading https://files.pythonhosted.org/packages/67/c3/6bed87f3b1e5ed2f34bd58bf7978e308c86e255193916be76e5a5ce5dfca/tweepy-3.10.0-py2.py3-none-any.whl\n",
      "Requirement already satisfied: lxml>=4.1.0 in /usr/local/lib/python3.6/dist-packages (from konlpy) (4.2.6)\n",
      "Collecting JPype1>=0.7.0\n",
      "\u001b[?25l  Downloading https://files.pythonhosted.org/packages/de/af/93f92b38ec1ff3091cd38982ed19cea2800fefb609b5801c41fc43c0781e/JPype1-1.2.1-cp36-cp36m-manylinux2010_x86_64.whl (457kB)\n",
      "\u001b[K     |████████████████████████████████| 460kB 44.0MB/s \n",
      "\u001b[?25hRequirement already satisfied: requests[socks]>=2.11.1 in /usr/local/lib/python3.6/dist-packages (from tweepy>=3.7.0->konlpy) (2.23.0)\n",
      "Requirement already satisfied: six>=1.10.0 in /usr/local/lib/python3.6/dist-packages (from tweepy>=3.7.0->konlpy) (1.15.0)\n",
      "Requirement already satisfied: requests-oauthlib>=0.7.0 in /usr/local/lib/python3.6/dist-packages (from tweepy>=3.7.0->konlpy) (1.3.0)\n",
      "Requirement already satisfied: typing-extensions; python_version < \"3.8\" in /usr/local/lib/python3.6/dist-packages (from JPype1>=0.7.0->konlpy) (3.7.4.3)\n",
      "Requirement already satisfied: urllib3!=1.25.0,!=1.25.1,<1.26,>=1.21.1 in /usr/local/lib/python3.6/dist-packages (from requests[socks]>=2.11.1->tweepy>=3.7.0->konlpy) (1.24.3)\n",
      "Requirement already satisfied: certifi>=2017.4.17 in /usr/local/lib/python3.6/dist-packages (from requests[socks]>=2.11.1->tweepy>=3.7.0->konlpy) (2020.12.5)\n",
      "Requirement already satisfied: idna<3,>=2.5 in /usr/local/lib/python3.6/dist-packages (from requests[socks]>=2.11.1->tweepy>=3.7.0->konlpy) (2.10)\n",
      "Requirement already satisfied: chardet<4,>=3.0.2 in /usr/local/lib/python3.6/dist-packages (from requests[socks]>=2.11.1->tweepy>=3.7.0->konlpy) (3.0.4)\n",
      "Requirement already satisfied: PySocks!=1.5.7,>=1.5.6; extra == \"socks\" in /usr/local/lib/python3.6/dist-packages (from requests[socks]>=2.11.1->tweepy>=3.7.0->konlpy) (1.7.1)\n",
      "Requirement already satisfied: oauthlib>=3.0.0 in /usr/local/lib/python3.6/dist-packages (from requests-oauthlib>=0.7.0->tweepy>=3.7.0->konlpy) (3.1.0)\n",
      "Installing collected packages: colorama, beautifulsoup4, tweepy, JPype1, konlpy\n",
      "  Found existing installation: beautifulsoup4 4.6.3\n",
      "    Uninstalling beautifulsoup4-4.6.3:\n",
      "      Successfully uninstalled beautifulsoup4-4.6.3\n",
      "  Found existing installation: tweepy 3.6.0\n",
      "    Uninstalling tweepy-3.6.0:\n",
      "      Successfully uninstalled tweepy-3.6.0\n",
      "Successfully installed JPype1-1.2.1 beautifulsoup4-4.6.0 colorama-0.4.4 konlpy-0.5.2 tweepy-3.10.0\n"
     ]
    },
    {
     "data": {
      "application/vnd.colab-display-data+json": {
       "pip_warning": {
        "packages": [
         "bs4"
        ]
       }
      }
     },
     "metadata": {
      "tags": []
     },
     "output_type": "display_data"
    }
   ],
   "source": [
    "!pip install konlpy"
   ]
  },
  {
   "cell_type": "code",
   "execution_count": null,
   "metadata": {
    "id": "LfdElY6hVhe2"
   },
   "outputs": [],
   "source": [
    "import pandas as pd\n",
    "import numpy as np\n",
    "%matplotlib inline\n",
    "import matplotlib.pyplot as plt\n",
    "import re\n",
    "import urllib.request\n",
    "from konlpy.tag import Okt\n",
    "from tensorflow.keras.preprocessing.text import Tokenizer\n",
    "from tensorflow.keras.preprocessing.sequence import pad_sequences"
   ]
  },
  {
   "cell_type": "code",
   "execution_count": null,
   "metadata": {
    "colab": {
     "base_uri": "https://localhost:8080/",
     "height": 286
    },
    "id": "egeon2w_Vhhb",
    "outputId": "4fe5f29e-5145-4f93-886b-bc5e0d303acf"
   },
   "outputs": [
    {
     "data": {
      "text/plain": [
       "<matplotlib.axes._subplots.AxesSubplot at 0x7f084d676550>"
      ]
     },
     "execution_count": 14,
     "metadata": {
      "tags": []
     },
     "output_type": "execute_result"
    },
    {
     "data": {
      "image/png": "[encoded data removed]",
      "text/plain": [
       "<Figure size 432x288 with 1 Axes>"
      ]
     },
     "metadata": {
      "needs_background": "light",
      "tags": []
     },
     "output_type": "display_data"
    }
   ],
   "source": [
    "# 데이터 분포 확인\n",
    "movie_review['score'].value_counts().plot(kind = 'bar')"
   ]
  },
  {
   "cell_type": "code",
   "execution_count": null,
   "metadata": {
    "colab": {
     "base_uri": "https://localhost:8080/",
     "height": 280
    },
    "id": "fwdIdVw0VhkG",
    "outputId": "65270af3-8304-40ef-e806-c08e194a84fb"
   },
   "outputs": [
    {
     "data": {
      "text/plain": [
       "<matplotlib.axes._subplots.AxesSubplot at 0x7f07ff5de978>"
      ]
     },
     "execution_count": 15,
     "metadata": {
      "tags": []
     },
     "output_type": "execute_result"
    },
    {
     "data": {
      "image/png": "[encoded data removed]",
      "text/plain": [
       "<Figure size 432x288 with 1 Axes>"
      ]
     },
     "metadata": {
      "needs_background": "light",
      "tags": []
     },
     "output_type": "display_data"
    }
   ],
   "source": [
    "# 평점이 8 초과인 경우 1, 8 이하인 경우 0으로 labeling\n",
    "movie_review['score'] = movie_review['score'].astype('int')\n",
    "movie_review['label'] = np.select([movie_review.score > 8], [1], default=0)\n",
    "movie_review['label'].value_counts().plot(kind = 'bar')"
   ]
  },
  {
   "cell_type": "code",
   "execution_count": null,
   "metadata": {
    "colab": {
     "base_uri": "https://localhost:8080/"
    },
    "id": "aBund6VKZRwH",
    "outputId": "f8574db6-625f-4154-e5bd-9f579ce4ed88"
   },
   "outputs": [
    {
     "data": {
      "text/plain": [
       "(10, 64104, 2)"
      ]
     },
     "execution_count": 16,
     "metadata": {
      "tags": []
     },
     "output_type": "execute_result"
    }
   ],
   "source": [
    "# 각 열에 대해서 중복을 제외한 샘플의 수 카운트\n",
    "movie_review['score'].nunique(), movie_review['review'].nunique(), movie_review['label'].nunique()"
   ]
  },
  {
   "cell_type": "code",
   "execution_count": null,
   "metadata": {
    "colab": {
     "base_uri": "https://localhost:8080/"
    },
    "id": "EQyezLnzZaIl",
    "outputId": "1f02d83d-8402-4515-a316-4bdce09f23d0"
   },
   "outputs": [
    {
     "name": "stdout",
     "output_type": "stream",
     "text": [
      "총 샘플의 수 : 64104\n"
     ]
    }
   ],
   "source": [
    "# review 열 중복 제거\n",
    "movie_review.drop_duplicates(subset=['review'], inplace=True)\n",
    "print('총 샘플의 수 :', len(movie_review))"
   ]
  },
  {
   "cell_type": "code",
   "execution_count": null,
   "metadata": {
    "colab": {
     "base_uri": "https://localhost:8080/"
    },
    "id": "EDsuvKpZVhmY",
    "outputId": "aff4dc21-b5e6-4c14-ae19-03af23fb8a90"
   },
   "outputs": [
    {
     "name": "stdout",
     "output_type": "stream",
     "text": [
      "False\n"
     ]
    }
   ],
   "source": [
    "# NA값 있는지 확인\n",
    "print(movie_review.isnull().values.any())"
   ]
  },
  {
   "cell_type": "code",
   "execution_count": null,
   "metadata": {
    "colab": {
     "base_uri": "https://localhost:8080/"
    },
    "id": "DLre-22JXbMX",
    "outputId": "011ff25a-46cf-4172-bd82-2034a0f20f32"
   },
   "outputs": [
    {
     "name": "stdout",
     "output_type": "stream",
     "text": [
      "훈련용 리뷰의 개수 : 48078\n",
      "테스트용 리뷰의 개수 : 16026\n"
     ]
    }
   ],
   "source": [
    "# 훈련 데이터와 테스트 데이터를 3:1 비율로 분리\n",
    "from sklearn.model_selection import train_test_split\n",
    "train_data, test_data = train_test_split(movie_review, test_size = 0.25, random_state = 42)\n",
    "print('훈련용 리뷰의 개수 :', len(train_data))\n",
    "print('테스트용 리뷰의 개수 :', len(test_data))"
   ]
  },
  {
   "cell_type": "code",
   "execution_count": null,
   "metadata": {
    "colab": {
     "base_uri": "https://localhost:8080/"
    },
    "id": "F_Q-PtLLXbOy",
    "outputId": "31804475-9591-4045-bc4f-43705de1beab"
   },
   "outputs": [
    {
     "name": "stdout",
     "output_type": "stream",
     "text": [
      "score      0\n",
      "review    51\n",
      "label      0\n",
      "dtype: int64\n"
     ]
    },
    {
     "name": "stderr",
     "output_type": "stream",
     "text": [
      "/usr/local/lib/python3.6/dist-packages/ipykernel_launcher.py:2: SettingWithCopyWarning: \n",
      "A value is trying to be set on a copy of a slice from a DataFrame.\n",
      "Try using .loc[row_indexer,col_indexer] = value instead\n",
      "\n",
      "See the caveats in the documentation: https://pandas.pydata.org/pandas-docs/stable/user_guide/indexing.html#returning-a-view-versus-a-copy\n",
      "  \n",
      "/usr/local/lib/python3.6/dist-packages/pandas/core/series.py:4582: SettingWithCopyWarning: \n",
      "A value is trying to be set on a copy of a slice from a DataFrame\n",
      "\n",
      "See the caveats in the documentation: https://pandas.pydata.org/pandas-docs/stable/user_guide/indexing.html#returning-a-view-versus-a-copy\n",
      "  method=method,\n"
     ]
    }
   ],
   "source": [
    "# 훈련 데이터 한글과 공백을 제외하고 모두 제거\n",
    "train_data['review'] = train_data['review'].str.replace(\"[^ㄱ-ㅎㅏ-ㅣ가-힣 ]\",\"\")\n",
    "train_data['review'].replace('', np.nan, inplace=True)\n",
    "print(train_data.isnull().sum())"
   ]
  },
  {
   "cell_type": "code",
   "execution_count": null,
   "metadata": {
    "colab": {
     "base_uri": "https://localhost:8080/"
    },
    "id": "lEXUL1NzXbRJ",
    "outputId": "f595f7f5-0690-4598-9c3e-308413e60fa6"
   },
   "outputs": [
    {
     "name": "stdout",
     "output_type": "stream",
     "text": [
      "전처리 후 테스트용 샘플의 개수 : 16003\n"
     ]
    },
    {
     "name": "stderr",
     "output_type": "stream",
     "text": [
      "/usr/local/lib/python3.6/dist-packages/ipykernel_launcher.py:2: SettingWithCopyWarning: \n",
      "A value is trying to be set on a copy of a slice from a DataFrame\n",
      "\n",
      "See the caveats in the documentation: https://pandas.pydata.org/pandas-docs/stable/user_guide/indexing.html#returning-a-view-versus-a-copy\n",
      "  \n",
      "/usr/local/lib/python3.6/dist-packages/ipykernel_launcher.py:3: SettingWithCopyWarning: \n",
      "A value is trying to be set on a copy of a slice from a DataFrame.\n",
      "Try using .loc[row_indexer,col_indexer] = value instead\n",
      "\n",
      "See the caveats in the documentation: https://pandas.pydata.org/pandas-docs/stable/user_guide/indexing.html#returning-a-view-versus-a-copy\n",
      "  This is separate from the ipykernel package so we can avoid doing imports until\n",
      "/usr/local/lib/python3.6/dist-packages/pandas/core/series.py:4582: SettingWithCopyWarning: \n",
      "A value is trying to be set on a copy of a slice from a DataFrame\n",
      "\n",
      "See the caveats in the documentation: https://pandas.pydata.org/pandas-docs/stable/user_guide/indexing.html#returning-a-view-versus-a-copy\n",
      "  method=method,\n"
     ]
    }
   ],
   "source": [
    "# 테스트 데이터에 대해서도 똑같이 처리\n",
    "test_data.drop_duplicates(subset = ['review'], inplace=True) # 중복 제거\n",
    "test_data['review'] = test_data['review'].str.replace(\"[^ㄱ-ㅎㅏ-ㅣ가-힣 ]\",\"\") # 정규 표현식 수행\n",
    "test_data['review'].replace('', np.nan, inplace=True) # 공백은 Null 값으로 변경\n",
    "test_data = test_data.dropna(how='any') # Null 값 제거\n",
    "print('전처리 후 테스트용 샘플의 개수 :',len(test_data))"
   ]
  },
  {
   "cell_type": "markdown",
   "metadata": {
    "id": "SvlsvGq4aNEF"
   },
   "source": [
    "# 텍스트 분류 모델"
   ]
  },
  {
   "cell_type": "markdown",
   "metadata": {
    "id": "-J2n4u3bbSLt"
   },
   "source": [
    "**토큰화**"
   ]
  },
  {
   "cell_type": "code",
   "execution_count": null,
   "metadata": {
    "id": "vtK8Ji3YXbTU"
   },
   "outputs": [],
   "source": [
    "# 형태소 분석기\n",
    "okt = Okt()"
   ]
  },
  {
   "cell_type": "code",
   "execution_count": null,
   "metadata": {
    "id": "qKLbZu5JXbVf"
   },
   "outputs": [],
   "source": [
    "# 불용어\n",
    "stopwords = ['의','가','이','은','들','는','좀','잘','걍','과','도','를','으로','자','에','와','한','하다']"
   ]
  },
  {
   "cell_type": "code",
   "execution_count": null,
   "metadata": {
    "id": "eoUkgOl0XbYC"
   },
   "outputs": [],
   "source": [
    "X_train = []\n",
    "for sentence in train_data['review']:\n",
    "    temp_X = []\n",
    "    temp_X = okt.morphs(str(sentence), stem=True) # 토큰화\n",
    "    temp_X = [word for word in temp_X if not word in stopwords] # 불용어 제거\n",
    "    X_train.append(temp_X)"
   ]
  },
  {
   "cell_type": "code",
   "execution_count": null,
   "metadata": {
    "colab": {
     "base_uri": "https://localhost:8080/"
    },
    "id": "85oe5kc8Xbat",
    "outputId": "02298d1b-aa17-42dc-d38f-90e37aa3f00c"
   },
   "outputs": [
    {
     "name": "stdout",
     "output_type": "stream",
     "text": [
      "[['한국인', '라면', '모두', '보다'], ['괴물', '번방', '대장', '먹다'], ['기', '대안', '햇', '늘다', '기', '대안', '햇', '다']]\n"
     ]
    }
   ],
   "source": [
    "print(X_train[:3])"
   ]
  },
  {
   "cell_type": "code",
   "execution_count": null,
   "metadata": {
    "id": "SQ6JiESBab0j"
   },
   "outputs": [],
   "source": [
    "X_test = []\n",
    "for sentence in test_data['review']:\n",
    "    temp_X = []\n",
    "    temp_X = okt.morphs(str(sentence), stem=True) # 토큰화\n",
    "    temp_X = [word for word in temp_X if not word in stopwords] # 불용어 제거\n",
    "    X_test.append(temp_X)"
   ]
  },
  {
   "cell_type": "markdown",
   "metadata": {
    "id": "A2LMSs2zbVeG"
   },
   "source": [
    "**정수 인코딩**"
   ]
  },
  {
   "cell_type": "code",
   "execution_count": null,
   "metadata": {
    "id": "9kbB2M06ab2y"
   },
   "outputs": [],
   "source": [
    "tokenizer = Tokenizer()\n",
    "tokenizer.fit_on_texts(X_train)"
   ]
  },
  {
   "cell_type": "code",
   "execution_count": null,
   "metadata": {
    "colab": {
     "base_uri": "https://localhost:8080/"
    },
    "id": "SZdYNyHhab5W",
    "outputId": "bab473c2-7ea6-4fe0-8bec-875856513faf"
   },
   "outputs": [
    {
     "name": "stdout",
     "output_type": "stream",
     "text": [
      "{'영화': 1, '보다': 2, '을': 3, '이다': 4, '이순신': 5, '있다': 6, '감동': 7, '정말': 8, '좋다': 9, '너무': 10, '최고': 11, '없다': 12, '적': 13, '재밌다': 14, '최민식': 15, '만': 16, '같다': 17, '다': 18, '연기': 19, '되다': 20, '진짜': 21, '님': 22, '않다': 23, '이순신장군': 24, '아니다': 25, '생각': 26, '꼭': 27, '재미있다': 28, '로': 29, '역사': 30, '장군': 31, '그': 32, '요': 33, '말': 34, '것': 35, '명량': 36, '에서': 37, '자다': 38, '배우': 39, '점': 40, '지루하다': 41, '인': 42, '더': 43, '보고': 44, '볼': 45, '다시': 46, '만들다': 47, '재미': 48, '사람': 49, '그냥': 50, '가다': 51, '나오다': 52, '한번': 53, '시간': 54, '고': 55, '느끼다': 56, '게': 57, '평점': 58, '우리': 59, '가슴': 60, '많다': 61, '기대': 62, '들다': 63, '하고': 64, '수': 65, '스토리': 66, '장면': 67, '모르다': 68, '오다': 69, '안': 70, '아쉽다': 71, '정도': 72, '야하다': 73, '전': 74, '나': 75, '중': 76, '못': 77, '짱': 78, '알다': 79, '까지': 80, '내': 81, '그렇다': 82, '많이': 83, '대박': 84, '싶다': 85, '네': 86, '역시': 87, '감사하다': 88, '주다': 89, '내용': 90, '우리나라': 91, '완전': 92, '처음': 93, '애국심': 94, '때': 95, '소름': 96, '두': 97, 'ㅠㅠ': 98, '멋지다': 99, '느낌': 100, '조금': 101, '필요없다': 102, '부분': 103, '면': 104, '번': 105, '존경': 106, '넘다': 107, '크다': 108, '전투': 109, '내내': 110, '대': 111, '하': 112, '임': 113, '분': 114, '또': 115, '대단하다': 116, '영웅': 117, '눈물': 118, '평론가': 119, '이고': 120, '위대하다': 121, '이라는': 122, '아깝다': 123, '기': 124, '하나': 125, '왜': 126, '이렇게': 127, '기대하다': 128, '그리고': 129, '해전': 130, '듯': 131, '전쟁': 132, '추천': 133, '초반': 134, '나다': 135, '솔직하다': 136, '전투씬': 137, '라면': 138, '자체': 139, '재다': 140, '아': 141, '몰입': 142, '저': 143, '이렇다': 144, '작품': 145, '나라': 146, '지금': 147, '대한민국': 148, '깊다': 149, '표현': 150, '인물': 151, '연출': 152, '별로': 153, '함': 154, '지': 155, '되어다': 156, '멋있다': 157, '씨': 158, '받다': 159, '서': 160, '감독': 161, '중간': 162, 'ㅋㅋ': 163, '사실': 164, '굿': 165, '돈': 166, '부터': 167, '남다': 168, '감': 169, '이나': 170, '돋다': 171, '마음': 172, '이건': 173, '먹다': 174, '연기력': 175, '올해': 176, '거': 177, '에게': 178, '하지만': 179, '해주다': 180, '백성': 181, '배': 182, '군도': 183, '안되다': 184, '어떻다': 185, '영': 186, '대한': 187, '류승룡': 188, '신': 189, '캐릭터': 190, '대해': 191, 'ㅎㅎ': 192, '재미없다': 193, '울컥': 194, '알': 195, '훌륭하다': 196, '잇다': 197, '명작': 198, '굳다': 199, '뭐': 200, '화': 201, '관객': 202, '끝': 203, '라': 204, '오랜': 205, '마지막': 206, '국민': 207, '투신': 208, '살다': 209, '한국': 210, '모두': 211, '니': 212, '느껴지다': 213, '때문': 214, '다른': 215, '한국인': 216, '시대': 217, '걸': 218, '개': 219, '인데': 220, '라고': 221, '한국영': 222, '보여주다': 223, '척': 224, '괜찮다': 225, '집중': 226, '약간': 227, '본': 228, '싸우다': 229, '후회': 230, '이영화': 231, '없이': 232, '지키다': 233, 'ㅋ': 234, '부족하다': 235, '일': 236, '가족': 237, '모든': 238, '그래도': 239, '모습': 240, '에는': 241, '흥행': 242, '잼': 243, '라는': 244, '뭔가': 245, '몰입도': 246, '이라': 247, '끝나다': 248, '이야기': 249, '아주': 250, '이해': 251, '이상': 252, '지만': 253, '차다': 254, '엔': 255, '고증': 256, '소재': 257, '눈': 258, '높다': 259, '필요하다': 260, '별': 261, '함께': 262, '연': 263, '난': 264, '뭉클하다': 265, '제': 266, '속': 267, '대사': 268, '어': 269, '평가': 270, '죽다': 271, '천만': 272, '고뇌': 273, '보고오다': 274, '인지': 275, '보기': 276, '잊다': 277, '같이': 278, '명량해전': 279, '밖에': 280, '전개': 281, '오늘': 282, '실망': 283, 'ㅎ': 284, '두려움': 285, '보이다': 286, '감명': 287, '개인': 288, '내다': 289, '영화로': 290, '씬': 291, '아이': 292, '아쉬움': 293, '진심': 294, '영화관': 295, '뿐': 296, '긴장감': 297, '인간': 298, '용기': 299, '가장': 300, '성': 301, '위해': 302, '스케일': 303, '적다': 304, '위': 305, '분들': 306, '짜다': 307, '맞다': 308, '앞': 309, '랑': 310, 'ㅠ': 311, '근데': 312, '후손': 313, '기억': 314, '자랑스럽다': 315, '끄다': 316, '계속': 317, '재밋': 318, '늘다': 319, '강추': 320, 'ㅜㅜ': 321, '버리다': 322, '극장': 323, '수준': 324, '위인': 325, '드리다': 326, '이랑': 327, 'ㅋㅋㅋ': 328, '이네': 329, '드라마': 330, '해보다': 331, '리더': 332, '좋아하다': 333, '력': 334, '일본': 335, '뻔하다': 336, '조상': 337, '이런': 338, '영화인': 339, '선조': 340, '후반': 341, '벅차다': 342, '이란': 343, '여': 344, '이기다': 345, '상황': 346, '대작': 347, '빼다': 348, '떨어지다': 349, '최고다': 350, '지다': 351, '스럽다': 352, '관람': 353, '살리다': 354, '명': 355, '액션': 356, '이정현': 357, '지루함': 358, '보다는': 359, '돼다': 360, '처럼': 361, '국뽕': 362, '특히': 363, '카리스마': 364, '줄': 365, '짱짱': 366, '믿다': 367, '해': 368, '알바': 369, '구': 370, '얼마나': 371, '해상': 372, '수작': 373, '고생': 374, '에도': 375, '진정하다': 376, '극': 377, '에요': 378, '쓰다': 379, '실제': 380, '배우다': 381, '힘': 382, '전율': 383, '시키다': 384, '간만': 385, '충분하다': 386, '여운': 387, '점수': 388, '이유': 389, '불멸': 390, '웅장': 391, '무엇': 392, '시': 393, '등': 394, '전체': 395, '무슨': 396, '건': 397, '순간': 398, '충무공': 399, '후': 400, '뜨겁다': 401, '울다': 402, '가지': 403, '말다': 404, '요즘': 405, '인가': 406, '인상': 407, '께': 408, '기다': 409, '사랑': 410, '아들': 411, '부': 412, '치다': 413, '백병': 414, '제대로': 415, '음': 416, '매우': 417, '딱': 418, '만큼': 419, '엄청': 420, '졸작': 421, '성웅': 422, '동안': 423, '필요': 424, '다음': 425, '이에요': 426, '감정': 427, '그리다': 428, '급': 429, '승리': 430, '또한': 431, '이지만': 432, '실감': 433, '허다': 434, '년': 435, '개봉': 436, '거북선': 437, '역대': 438, '그러나': 439, '안보': 440, '업적': 441, '공부': 442, '묘사': 443, '이름': 444, '식': 445, '전혀': 446, '들이다': 447, '구성': 448, '기도': 449, '너': 450, '시작': 451, '아직': 452, '순': 453, '조선': 454, '박수': 455, '준': 456, '화보': 457, '감사': 458, '햇': 459, '그렇게': 460, '영상': 461, '중반': 462, '바꾸다': 463, '리더쉽': 464, '봄': 465, '통쾌하다': 466, '나름': 467, '그런': 468, '이라고': 469, '노잼': 470, '몇': 471, '꿀잼': 472, '조연': 473, '움': 474, '살짝': 475, '살': 476, '보단': 477, '돋보이다': 478, '부모님': 479, '바다': 480, '그저': 481, '작': 482, '애': 483, '한마디': 484, '설명': 485, '현실': 486, '사': 487, '이지': 488, '단연': 489, '든': 490, '굿굿': 491, '기분': 492, '쯤': 493, '울': 494, '다소': 495, '활': 496, '존재': 497, '인생': 498, '빠지다': 499, '조': 500, '훨씬': 501, '감탄': 502, '완성': 503, '의미': 504, '단': 505, '대다': 506, '낮다': 507, '다만': 508, '제일': 509, '긴장': 510, '힘들다': 511, '써다': 512, '마케팅': 513, '찡하다': 514, '해전씬': 515, '박진': 516, '다르다': 517, '흘리다': 518, '재': 519, '정신': 520, '야': 521, '서다': 522, '평': 523, '무조건': 524, '미치다': 525, '만이': 526, '당시': 527, '절대': 528, '멋': 529, '손': 530, '전략': 531, '장수': 532, '더욱': 533, '건지다': 534, '남기다': 535, '오': 536, 'ㅜ': 537, '최근': 538, '요소': 539, '슬프다': 540, '뒤': 541, '전술': 542, '억지': 543, '방금': 544, '쓰레기': 545, '에서는': 546, '따다': 547, '흥미진진': 548, '상영': 549, '넘치다': 550, '기대다': 551, '반': 552, '담다': 553, '떠나다': 554, '습': 555, '혼자': 556, '온': 557, '엿': 558, '전반': 559, '엄청나다': 560, '이하': 561, '만점': 562, '뛰어나다': 563, '연기자': 564, '스크린': 565, '민족': 566, '예요': 567, '소리': 568, '물론': 569, '잘만': 570, '상': 571, '입': 572, '떼다': 573, '만으로도': 574, '짧다': 575, '강': 576, '민': 577, '아프다': 578, '음악': 579, '나쁘다': 580, '남': 581, '눈빛': 582, '완벽하다': 583, '한산도': 584, '갈다': 585, '외': 586, '애국': 587, '몇번': 588, '일단': 589, '찍다': 590, '용': 591, '다루다': 592, '마다': 593, '데': 594, '읽다': 595, '잔인하다': 596, '적당하다': 597, '편': 598, '확실하다': 599, '거품': 600, '명량대첩': 601, '신다': 602, '너무나': 603, '화려하다': 604, '바라다': 605, '관객수': 606, '군': 607, '역할': 608, '들어가다': 609, '진지하다': 610, '놈': 611, '시원하다': 612, '압도': 613, '해상전': 614, '지루': 615, '간': 616, '어렵다': 617, '안타깝다': 618, '얘기': 619, '공감': 620, '좀더': 621, '사극': 622, '관심': 623, '실망하다': 624, '보': 625, '이기': 626, '누구': 627, '두다': 628, 'ㅋㅋㅋㅋ': 629, '기자': 630, '엉': 631, '책': 632, '만들어지다': 633, '아직도': 634, '진구': 635, '덥다': 636, '닿다': 637, '교훈': 638, 'ㅡㅡ': 639, '만하': 640, '생기다': 641, '주인공': 642, '놓다': 643, '현': 644, '보시': 645, '니까': 646, '보지': 647, '충': 648, '즐겁다': 649, '계기': 650, '목숨': 651, '굉장하다': 652, '이후': 653, '인거': 654, '멀다': 655, '냥': 656, '터': 657, '명랑': 658, '날': 659, '세': 660, '엇': 661, '다시금': 662, '추하다': 663, '지도자': 664, '해적': 665, '리더십': 666, '비다': 667, '노': 668, '점도': 669, '이며': 670, '누가': 671, '맘': 672, '그런데': 673, '그대로': 674, '뻔': 675, '눈물나다': 676, '오히려': 677, '조조': 678, '냐': 679, '울컥울컥': 680, '회': 681, '며': 682, '말로': 683, '김한민': 684, '자신': 685, '대안': 686, '이번': 687, '대첩': 688, '주': 689, '새롭다': 690, '낫다': 691, '나가다': 692, '비교': 693, '무언가': 694, '강하다': 695, '놀라다': 696, 'ㅠㅠㅠ': 697, '뭔': 698, '친구': 699, '막': 700, '원': 701, '다큐': 702, '극적': 703, '흐르다': 704, '크게': 705, '그닥': 706, '불다': 707, '고맙다': 708, '의리': 709, '장난': 710, '권': 711, '어설프다': 712, '싸움': 713, '탄탄하다': 714, '벅차오르다': 715, '기록': 716, '만세': 717, '선': 718, '길다': 719, '생각나다': 720, '전쟁씬': 721, '깊이': 722, '그것': 723, '이제': 724, '어제': 725, '글': 726, '향': 727, '소': 728, '달다': 729, '쏘다': 730, '한테': 731, '김명민': 732, '현재': 733, '중요하다': 734, '아저씨': 735, '덕분': 736, '역': 737, '이끌다': 738, '졸다': 739, '분위기': 740, '조진웅': 741, '무겁다': 742, '최종병기': 743, '이면': 744, '어울리다': 745, '배경': 746, '진정': 747, '픽션': 748, '심장': 749, '여서': 750, '그럭저럭': 751, '나머지': 752, '타다': 753, '어색하다': 754, '봣': 755, '계시다': 756, '넣다': 757, '시나리오': 758, '내면': 759, '울리다': 760, '쉬다': 761, '진': 762, '캐스팅': 763, 'ㅎㅎㅎ': 764, '에게는': 765, '말고': 766, '한편': 767, '에선': 768, '명품': 769, '여러': 770, '갖다': 771, '주연': 772, '노력': 773, '전문가': 774, '명장': 775, '약하다': 776, '맞추다': 777, 'ㅡ': 778, '장가': 779, '이야': 780, '최': 781, '천': 782, '으로는': 783, '관': 784, '감다': 785, '과연': 786, '쓸다': 787, '빨리': 788, '대가': 789, '최악': 790, '전쟁영화': 791, '화이팅': 792, '돌파': 793, '듣다': 794, '대로': 795, '스릴': 796, '보내다': 797, '개연': 798, '단순하다': 799, '어느': 800, '흐름': 801, '흥미': 802, '그래픽': 803, '독점': 804, '부끄럽다': 805, '만큼은': 806, '가치': 807, '그래서': 808, '이미': 809, '아무': 810, '꽤': 811, '사건': 812, '다운': 813, '심하다': 814, '바': 815, '뜨다': 816, '에서도': 817, '갈수록': 818, '수가': 819, '그나마': 820, '억': 821, '병사': 822, '도대체': 823, '기회': 824, '차라리': 825, '해상전투': 826, '거의': 827, '뭐라다': 828, '엄마': 829, '신분': 830, '이용': 831, '어리다': 832, '코': 833, '인기': 834, '시기': 835, '일품': 836, '나서다': 837, '끼리': 838, '첨': 839, '통해': 840, '소름끼치다': 841, '나중': 842, '한산': 843, '세번': 844, '편이': 845, '기다리다': 846, '직접': 847, '희생': 848, '열연': 849, '일본군': 850, '새삼': 851, '소문': 852, '풀다': 853, '비중': 854, '따르다': 855, '문제': 856, '허무하다': 857, '으로도': 858, '초': 859, '나르다': 860, '깨우다': 861, '고민': 862, '감히': 863, '만으로': 864, '후속작': 865, '으로서': 866, '갓': 867, '당': 868, '뜻': 869, '접': 870, '흠': 871, '치고': 872, '거리': 873, '이상하다': 874, '바로': 875, '물': 876, '히': 877, '만해': 878, '열심히': 879, '사운드': 880, '만족': 881, '감상': 882, '어찌': 883, '정말로': 884, '쩔다': 885, '노량': 886, '궁금하다': 887, '로는': 888, '리': 889, '장선': 890, '가지다': 891, '무': 892, '머리': 893, '장': 894, '화면': 895, '억지스럽다': 896, '화중': 897, '잡다': 898, '땅': 899, '왜군': 900, '재미나': 901, '오랫': 902, '결말': 903, '만은': 904, '이라도': 905, '발전': 906, '결과': 907, '일본어': 908, '끌다': 909, '땀': 910, '온몸': 911, '빨': 912, '뭘': 913, '에서의': 914, '제외': 915, '한다는': 916, '런가': 917, '티': 918, '허구': 919, '등장': 920, '오리': 921, '지나가다': 922, '타': 923, '과장': 924, '틈': 925, '아무리': 926, '적절하다': 927, '흔들다': 928, '전부': 929, '세상': 930, '심리': 931, '건가': 932, '디워': 933, '태어나다': 934, '식이': 935, '죽음': 936, '욕': 937, '스펙': 938, '당연하다': 939, '곱다': 940, '선택': 941, '란': 942, '자리': 943, '원래': 944, '주변': 945, '효과': 946, '으로써': 947, '해도': 948, '인하다': 949, '오글거리다': 950, '까지는': 951, '수군': 952, '만에': 953, '에만': 954, '집': 955, '당신': 956, '과대': 957, '커서': 958, '전달': 959, '존경심': 960, '목': 961, '걸다': 962, '실화': 963, '심': 964, '힘드다': 965, '이리': 966, '형님': 967, '만족하다': 968, '리얼': 969, '재밋어': 970, '가능하다': 971, '죽': 972, '씩': 973, '비': 974, '남자': 975, '평론': 976, '어떤': 977, '부족': 978, '설정': 979, '탓': 980, '성하다': 981, '로만': 982, '오르다': 983, '분명하다': 984, '교육': 985, '타임': 986, '분명': 987, '유치하다': 988, '제발': 989, '불구': 990, '관람객': 991, '라서': 992, '오름': 993, '돌아보다': 994, '볼때': 995, '압': 996, '늦다': 997, '감성': 998, '평이': 999, '죠': 1000, '여기': 1001, '예매': 1002, '걱정': 1003, '몸': 1004, '출연': 1005, '스럽게': 1006, '저런': 1007, '터지다': 1008, '가보다': 1009, '삶': 1010, '떨리다': 1011, '제작': 1012, '겁니다': 1013, '편집': 1014, '래': 1015, '답답하다': 1016, '왕': 1017, '되새기다': 1018, '짱짱맨': 1019, 'ㅇ': 1020, '지나치다': 1021, '안다': 1022, '열': 1023, '판옥선': 1024, '만나다': 1025, '보이': 1026, '음향': 1027, 'ㄷㄷ': 1028, '무섭다': 1029, '마치': 1030, '이르다': 1031, '깨닫다': 1032, '만을': 1033, '빠져들다': 1034, '해내다': 1035, '마': 1036, '곳': 1037, '굿굿굿': 1038, '대의': 1039, '너무하다': 1040, '세월호': 1041, '뛰다': 1042, '진행': 1043, '술': 1044, '추': 1045, '세계': 1046, '놓치다': 1047, '자꾸': 1048, '밋': 1049, '이정': 1050, '진하다': 1051, '백': 1052, '언제': 1053, '반성': 1054, '원하다': 1055, '깔다': 1056, '묵직하다': 1057, '상당하다': 1058, '심야': 1059, '찾다': 1060, '임진왜란': 1061, '행': 1062, '께서': 1063, '부작': 1064, '글쎄': 1065, '간다': 1066, '찌다': 1067, '로서': 1068, '근래': 1069, '네이버': 1070, '에겐': 1071, '치마': 1072, '머': 1073, '사회': 1074, '형': 1075, '명대사': 1076, '신경': 1077, '담기다': 1078, '용이': 1079, '속편': 1080, '왜곡': 1081, '보아': 1082, '한계': 1083, '관련': 1084, '짠하다': 1085, '그만큼': 1086, '어디': 1087, '졸리다': 1088, '시리즈': 1089, '국가': 1090, '표정': 1091, '그때': 1092, '일이': 1093, '배역': 1094, '피': 1095, '저렇게': 1096, '갑': 1097, '더하다': 1098, '지는': 1099, '여자': 1100, '작다': 1101, '출정': 1102, '짐': 1103, '개다': 1104, '쩐다': 1105, '상업': 1106, '으론': 1107, '어쩔': 1108, '과정': 1109, '여름': 1110, '웃음': 1111, '불멸의이순신': 1112, '라도': 1113, '마무리': 1114, '주제': 1115, '젓다': 1116, '억지로': 1117, '배급사': 1118, '울림': 1119, '항상': 1120, '배다': 1121, '니당다': 1122, '이라서': 1123, '수도': 1124, '괜히': 1125, '명연기': 1126, '지혜': 1127, '표': 1128, '얻다': 1129, '바치다': 1130, '첫': 1131, '싫다': 1132, '십': 1133, '자부심': 1134, '올리다': 1135, '러닝': 1136, '준비': 1137, '무게': 1138, '덕': 1139, '내리다': 1140, '드': 1141, '하나로': 1142, '죽이다': 1143, '반드시': 1144, '볼거리': 1145, '짜임새': 1146, '루즈': 1147, '나타나다': 1148, '한순간': 1149, '신도': 1150, '팔이': 1151, '거슬리다': 1152, '이나라': 1153, '그게': 1154, '예상': 1155, '우': 1156, '두번째': 1157, '끼다': 1158, '대포': 1159, '올': 1160, '처절하다': 1161, '너무나도': 1162, '몰다': 1163, '죄송하다': 1164, '칼': 1165, '이니': 1166, '산만하다': 1167, '의식': 1168, '자기': 1169, '성공하다': 1170, '메세지': 1171, '전신': 1172, '쫌': 1173, '값': 1174, '압권': 1175, '기술': 1176, '호불호': 1177, '즐기다': 1178, '는걸': 1179, '딱하다': 1180, '얼굴': 1181, '루지': 1182, '되돌아보다': 1183, '떨다': 1184, '묻히다': 1185, '대부분': 1186, '다가': 1187, '옆': 1188, '바탕': 1189, '기적': 1190, '화가': 1191, '냉정하다': 1192, '웃다': 1193, '스러운': 1194, '지략': 1195, '뭉클': 1196, '먼저': 1197, '몇몇': 1198, '무기': 1199, '부하': 1200, '명불허전': 1201, '결국': 1202, '랄': 1203, '잃다': 1204, '으': 1205, '대체': 1206, '무재': 1207, '수고': 1208, '진중권': 1209, '보라': 1210, '팔': 1211, 'ㅇㅇ': 1212, '정치': 1213, '우와': 1214, '난중일기': 1215, '댓글': 1216, '거기': 1217, '모': 1218, '쵝오': 1219, '보다도': 1220, '절로': 1221, '자극': 1222, '어머니': 1223, '맡다': 1224, '가슴속': 1225, '적임': 1226, '충성': 1227, '운': 1228, '후기': 1229, '쥐': 1230, '아빠': 1231, '생생하다': 1232, '총': 1233, '다큐멘터리': 1234, '일본인': 1235, '거지': 1236, '암튼': 1237, '자세하다': 1238, '단지': 1239, '라니': 1240, '등등': 1241, '왠지': 1242, '소중하다': 1243, '점점': 1244, '과는': 1245, '촬영': 1246, '지겹다': 1247, '겠다': 1248, '미래': 1249, '밉다': 1250, '까진': 1251, '지식': 1252, '망하다': 1253, '딸': 1254, '시사회': 1255, '울면': 1256, '뿐이다': 1257, '왜놈': 1258, '소화': 1259, '번은': 1260, '그걸': 1261, '새': 1262, '언': 1263, '웃기다': 1264, '도움': 1265, '길': 1266, '공': 1267, '살아가다': 1268, '부터는': 1269, '잠': 1270, '닥': 1271, '채우다': 1272, '인정': 1273, '초딩': 1274, '법': 1275, '아버지': 1276, '자랑': 1277, '상상': 1278, '신의': 1279, '최민수': 1280, '비슷하다': 1281, '갈등': 1282, '와우': 1283, '확': 1284, '단점': 1285, 'ㅠㅠㅠㅠ': 1286, '평생': 1287, '아아': 1288, '휴가': 1289, '류': 1290, '각색': 1291, '포스': 1292, '짜릿하다': 1293, '과거': 1294, '방해': 1295, '존나': 1296, '지나다': 1297, '위엄': 1298, '활약': 1299, '감격': 1300, '리뷰': 1301, 'ㅏ': 1302, '처': 1303, '길이': 1304, '줄거리': 1305, '질': 1306, '이딴': 1307, '으로만': 1308, '목소리': 1309, '고취': 1310, '과의': 1311, '답': 1312, '날다': 1313, '참다': 1314, '이미지': 1315, '연속': 1316, '발': 1317, '예전': 1318, '에게도': 1319, '모으다': 1320, '빛나다': 1321, '밀려오다': 1322, '벌써': 1323, '비추다': 1324, '대화': 1325, '동': 1326, '매끄럽다': 1327, '극찬': 1328, '강력': 1329, '찾아보다': 1330, '역활': 1331, '전이': 1332, '화의': 1333, '역량': 1334, '후속': 1335, '편도': 1336, '전개도': 1337, '생애': 1338, '객관': 1339, '중후': 1340, '파': 1341, '엔딩': 1342, '재현': 1343, '남아': 1344, '학생': 1345, '이든': 1346, 'nan': 1347, '흥미롭다': 1348, '비장하다': 1349, '무시': 1350, '군사': 1351, '이순': 1352, '점주': 1353, '왓': 1354, '편하다': 1355, '임금': 1356, '참고': 1357, '당하다': 1358, '의문': 1359, '어이없다': 1360, '판타지': 1361, '별개': 1362, '해군': 1363, '더불다': 1364, '따위': 1365, '틀다': 1366, '걸작': 1367, '되게': 1368, '극복': 1369, '매력': 1370, '뿌듯하다': 1371, '갈리다': 1372, '민초': 1373, '행복하다': 1374, '의하다': 1375, '땐': 1376, '생': 1377, '불편하다': 1378, '재밋다': 1379, '소문나다': 1380, 'ㅎㅎㅎㅎ': 1381, '정치인': 1382, '넘어서다': 1383, '읍니': 1384, '밑': 1385, '하하': 1386, '다가오다': 1387, '순신': 1388, '엉망': 1389, '싫어하다': 1390, '희다': 1391, '오래': 1392, '모자라다': 1393, '조총': 1394, '이냐': 1395, '이루다': 1396, '여러분': 1397, '절제': 1398, '말고는': 1399, '잔잔하다': 1400, '열자': 1401, '워낙': 1402, '여러가지': 1403, '저희': 1404, '짜증나다': 1405, '반전': 1406, '끓다': 1407, '이니까': 1408, '깨다': 1409, '광고': 1410, '홍보': 1411, '케릭': 1412, '필사': 1413, '두렵다': 1414, '진부하다': 1415, '결론': 1416, '치': 1417, '용도': 1418, '조절': 1419, '기르다': 1420, '전장': 1421, 'ㄴ': 1422, '움직이다': 1423, '조차': 1424, '자하': 1425, '둘': 1426, '임팩트': 1427, '키': 1428, '기억나다': 1429, '팝콘': 1430, '감정이입': 1431, '소용돌이': 1432, '컷': 1433, '영원하다': 1434, '이상은': 1435, '이십': 1436, '예': 1437, '로써': 1438, '재밋음': 1439, '굳이': 1440, '질질': 1441, '달': 1442, '잔치': 1443, '명언': 1444, '글자': 1445, '지우다': 1446, '빠르다': 1447, '역쉬': 1448, '주기': 1449, '불': 1450, '부족함': 1451, '긴박하다': 1452, '수많다': 1453, '가깝다': 1454, '외국': 1455, '평범하다': 1456, 'ㅈ': 1457, '각': 1458, '사다': 1459, '알아주다': 1460, '가면': 1461, '넘기다': 1462, '이라니': 1463, '이자': 1464, '절실': 1465, '지도': 1466, '신파': 1467, '꿀': 1468, '허니': 1469, '깎다': 1470, '신역': 1471, '한심하다': 1472, '금': 1473, '의도': 1474, '깨': 1475, '광해': 1476, '솔': 1477, '및': 1478, '그다지': 1479, '헐리우드': 1480, '끼치다': 1481, '졸잼': 1482, '기전': 1483, '무난': 1484, '그렇다고': 1485, '엑스트라': 1486, '대중': 1487, '옛날': 1488, '때리다': 1489, '일어나다': 1490, '흥': 1491, '오락': 1492, '후세': 1493, '롭고': 1494, '배경음악': 1495, '세우다': 1496, '갑자기': 1497, '예술': 1498, '동원': 1499, '오버': 1500, '예고편': 1501, '쥐다': 1502, '사라지다': 1503, '여태': 1504, '해석': 1505, '맨': 1506, '땜': 1507, '비판': 1508, '묻다': 1509, '보임': 1510, '빈약하다': 1511, '등장인물': 1512, '다해': 1513, '지리다': 1514, '앉다': 1515, '줍다': 1516, '떠오르다': 1517, '부실하다': 1518, '유익하다': 1519, '지르다': 1520, '모시': 1521, '막히다': 1522, '다그': 1523, '판단': 1524, '정': 1525, '쪽': 1526, '디테일': 1527, '드러나다': 1528, '언론': 1529, '이어서': 1530, '철저하다': 1531, '침몰': 1532, '물리다': 1533, '무한': 1534, '대감': 1535, '휴': 1536, '펑펑': 1537, '퀄리티': 1538, '호소': 1539, '매': 1540, '잘알다': 1541, '요강': 1542, '하루': 1543, '미흡하다': 1544, '기준': 1545, '국내': 1546, '사기': 1547, '슴': 1548, '바람': 1549, '부가': 1550, '과도': 1551, '그린': 1552, '생기': 1553, '역사왜곡': 1554, '겁나다': 1555, '따름': 1556, '된거': 1557, '필생': 1558, '즉생': 1559, '한국사': 1560, '어요': 1561, '전군': 1562, '울돌목': 1563, '이예': 1564, '말씀': 1565, '올라오다': 1566, '메시지': 1567, '칭찬': 1568, '취향': 1569, '끊기다': 1570, '루': 1571, '돌아가다': 1572, '포기': 1573, '의지': 1574, '베스트': 1575, '벌리다': 1576, '제독': 1577, '치열하다': 1578, '위기': 1579, '슬픔': 1580, '충신': 1581, '돌다': 1582, '조선시대': 1583, '동시': 1584, '바뀌다': 1585, '남편': 1586, '평소': 1587, '늘': 1588, 'ㅠㅜ': 1589, '오늘날': 1590, '낮추다': 1591, '미화': 1592, '차이': 1593, '새기다': 1594, '한데': 1595, '포인트': 1596, '재밋네': 1597, '들리다': 1598, '늘어지다': 1599, '줌': 1600, '가시': 1601, '만원': 1602, '아주아주': 1603, '빨다': 1604, '그거': 1605, '전형': 1606, '성과': 1607, '초점': 1608, '잊혀지다': 1609, '코믹': 1610, '가미': 1611, '적극': 1612, '낫': 1613, '훨': 1614, '갑옷': 1615, '숨': 1616, '그동안': 1617, '잠시': 1618, '상미': 1619, '카메라': 1620, '디테': 1621, '자긍심': 1622, '즉사': 1623, '진영화': 1624, '프로': 1625, '던지다': 1626, '정확하다': 1627, '대치': 1628, '졸': 1629, '무척': 1630, '펼치다': 1631, '끊다': 1632, '갠': 1633, '부각': 1634, '화하다': 1635, '석': 1636, '기본': 1637, '존잼': 1638, '짜내다': 1639, '면모': 1640, '밋밋하다': 1641, '데리': 1642, '미안하다': 1643, '백배': 1644, '역사상': 1645, '블록버스터': 1646, '최강': 1647, '삼': 1648, '보신': 1649, '통쾌': 1650, '뒷': 1651, '조명': 1652, '더보': 1653, '아마': 1654, '듭니': 1655, '다행': 1656, '낚': 1657, '천만이': 1658, '느리다': 1659, '마저': 1660, '심다': 1661, '감안': 1662, '두근두근': 1663, '젤': 1664, '코드': 1665, '업다': 1666, '매다': 1667, '극영화': 1668, '여자친구': 1669, '마르다': 1670, '고독': 1671, '린다': 1672, '위주': 1673, '어쩌': 1674, '첨부': 1675, '틀리다': 1676, '넘어가다': 1677, '능력': 1678, '강요': 1679, '안좋다': 1680, '만족스럽다': 1681, '천운': 1682, '국사': 1683, '전설': 1684, '빛': 1685, '싸다': 1686, '와는': 1687, '맞서다': 1688, '망치다': 1689, '끝내주다': 1690, '이어지다': 1691, '개꿀잼': 1692, '비롯': 1693, '올라가다': 1694, '포': 1695, '별루': 1696, '슬로우': 1697, '선생님': 1698, '잘못': 1699, '듬': 1700, '살아나다': 1701, '제목': 1702, '충실하다': 1703, '대박나다': 1704, '알리다': 1705, '안해': 1706, '가볍다': 1707, '특별하다': 1708, '자녀': 1709, '군인': 1710, '각본': 1711, '청소년': 1712, '아픔': 1713, '케': 1714, '티비': 1715, '사이': 1716, '뜬금': 1717, '두근거리다': 1718, '자식': 1719, '상대': 1720, '히어로': 1721, '맛': 1722, '바램': 1723, '왠만하다': 1724, '단언컨대': 1725, '인게': 1726, '우선': 1727, '안함': 1728, '오브': 1729, '틀림없다': 1730, '해드리다': 1731, '불가': 1732, '이기도': 1733, '조국': 1734, '칠': 1735, '표절': 1736, '어이': 1737, '등록': 1738, '처리': 1739, '아무튼': 1740, '인들': 1741, '성도': 1742, '근': 1743, '희망': 1744, '구국': 1745, '부재': 1746, '조용하다': 1747, '잘봣습니': 1748, '군대': 1749, '광화문': 1750, '결코': 1751, '교과서': 1752, '현장': 1753, '흔하다': 1754, '네티즌': 1755, '조잡하다': 1756, '마음속': 1757, '팬': 1758, '입장': 1759, '벙어리': 1760, 'ㅉㅉ': 1761, '전사': 1762, '장르': 1763, '안나': 1764, '글쎄요': 1765, '난후': 1766, '아침': 1767, '년전': 1768, '여기다': 1769, '헐리웃': 1770, '보통': 1771, '굿굿굿굿': 1772, '명성': 1773, '선수': 1774, '관점': 1775, '개잼': 1776, '우린': 1777, '역사영화': 1778, '작전': 1779, '봣습니': 1780, '외롭다': 1781, '진중하다': 1782, '그렇지만': 1783, '한시': 1784, '만약': 1785, '엇어': 1786, '강렬하다': 1787, '뽑다': 1788, '덜하다': 1789, '새끼': 1790, '펴다': 1791, '이외': 1792, '덜': 1793, '저격': 1794, '학년': 1795, '이보': 1796, '진짜진짜': 1797, '요란하다': 1798, '외국인': 1799, '저절로': 1800, '주의': 1801, '짜이다': 1802, '세다': 1803, '으리': 1804, '그려지다': 1805, '컨데': 1806, '포장': 1807, '이나마': 1808, '하니': 1809, '잠깐': 1810, '스런': 1811, '끌': 1812, '모처럼': 1813, '연결': 1814, '까지도': 1815, '다양하다': 1816, '쓸데없다': 1817, '으로서의': 1818, '더욱더': 1819, '놀랍다': 1820, '아군': 1821, '후련하다': 1822, '속이다': 1823, '각오': 1824, '읍': 1825, '설민석': 1826, '오그라들다': 1827, '신랑': 1828, '레알': 1829, '도르다': 1830, '저리': 1831, '타이밍': 1832, '적벽대전': 1833, 'ㅅ': 1834, '어른': 1835, '배설': 1836, '노고': 1837, '결단': 1838, '그건': 1839, '이여': 1840, '애국자': 1841, 'ㅜㅜㅜ': 1842, '추다': 1843, '쩌': 1844, '높이다': 1845, '최대': 1846, '그치다': 1847, '버프': 1848, '박다': 1849, '박영화': 1850, '푹': 1851, '봣는데': 1852, '도입': 1853, '클로즈업': 1854, '겨우': 1855, '성은': 1856, 'ㄱ': 1857, '친일파': 1858, '다니다': 1859, '엿보다': 1860, 'ㅜㅠ': 1861, '따라가다': 1862, '주말': 1863, '도나': 1864, '너무도': 1865, '관계': 1866, '습니': 1867, '호로': 1868, '공포': 1869, '시점': 1870, '애쓰다': 1871, '분량': 1872, '자르다': 1873, '금방': 1874, '대사도': 1875, '적어도': 1876, '부로': 1877, '횡포': 1878, '한가지': 1879, '확인': 1880, '발음': 1881, '불타다': 1882, '문': 1883, '부르다': 1884, '명의': 1885, '긋다': 1886, '하늘': 1887, '왜구': 1888, '탁월하다': 1889, '잘살다': 1890, '행동': 1891, '만큼의': 1892, '파다': 1893, '매국노': 1894, '이전': 1895, '봣어': 1896, '쓰나미': 1897, '절망': 1898, '알아보다': 1899, '사용': 1900, '전해지다': 1901, '이신': 1902, '최선': 1903, '내일': 1904, '가득하다': 1905, '아바타': 1906, '웰': 1907, '메이드': 1908, '주지': 1909, '포커스': 1910, '강조': 1911, '꼴': 1912, '씹다': 1913, '본받다': 1914, '긴박': 1915, '차지': 1916, '영화사': 1917, '신기록': 1918, '그만': 1919, '형편': 1920, '돌아오다': 1921, '가요': 1922, '영환': 1923, '부활': 1924, '추강': 1925, '내생': 1926, '약': 1927, '의견': 1928, '장엄하다': 1929, '아내': 1930, '밥': 1931, '떠들다': 1932, '가득': 1933, '면서': 1934, '았': 1935, '밀다': 1936, '하품': 1937, '제작비': 1938, '정서': 1939, '일부': 1940, '상태': 1941, '허전하다': 1942, '화일': 1943, '쵝': 1944, '꽉차다': 1945, '화포': 1946, '얼마': 1947, '꽉': 1948, '경': 1949, '갖추다': 1950, '오직': 1951, '이제야': 1952, '짓': 1953, '드림': 1954, '돌리다': 1955, '자주': 1956, '보이지': 1957, '주위': 1958, '귀': 1959, '밖': 1960, '치가': 1961, '절': 1962, '노소': 1963, '안위': 1964, '커버': 1965, '전작': 1966, '신선하다': 1967, 'ㅛ': 1968, '의심': 1969, '신념': 1970, '뛰어넘다': 1971, '망작': 1972, '가오': 1973, '접다': 1974, '대하': 1975, '짝': 1976, '평균': 1977, '시선': 1978, '어마어마하다': 1979, '빙의': 1980, '옛': 1981, '음향효과': 1982, '던데': 1983, '트랜스포머': 1984, '능': 1985, '조아': 1986, '작가': 1987, '무지': 1988, '젠': 1989, '열광하다': 1990, '막다': 1991, '끝내다': 1992, '유일하다': 1993, '주관': 1994, '군더더기': 1995, '투자': 1996, '걸리다': 1997, '치중': 1998, '나이': 1999, '참으로': 2000, '조선군': 2001, '남녀': 2002, '겨': 2003, '노답': 2004, '명화': 2005, 'ㅓ': 2006, '드라마틱하다': 2007, '달리': 2008, '충격': 2009, '쿵쾅': 2010, '들어서다': 2011, '시도': 2012, '가히': 2013, '안감': 2014, '여전하다': 2015, '남고': 2016, '변호인': 2017, '유명하다': 2018, '상관없다': 2019, '초등학생': 2020, '탄생': 2021, '킬링타임': 2022, '덜덜': 2023, '에여': 2024, '기쁘다': 2025, '보구': 2026, '도저히': 2027, '노량해전': 2028, '적군': 2029, '화장실': 2030, '이남': 2031, '면도': 2032, '심정': 2033, '신기하다': 2034, '더럽다': 2035, '고경표': 2036, '왠': 2037, '고개': 2038, '숙이다': 2039, '곧': 2040, '깔끔하다': 2041, '완벽': 2042, '만도': 2043, '담': 2044, '일으키다': 2045, '얼': 2046, '화란': 2047, '어떻': 2048, '하고는': 2049, '밋엇': 2050, '이만': 2051, '팩트': 2052, '혹평': 2053, '년도': 2054, '이드': 2055, '벌다': 2056, '왜선': 2057, '떠올리다': 2058, '스타일': 2059, '대장': 2060, '동상': 2061, '젊다': 2062, '구한': 2063, '알차다': 2064, '혼': 2065, '방': 2066, '잡': 2067, '드네': 2068, '물결': 2069, '아름답다': 2070, '기만': 2071, '들어오다': 2072, '섬세하다': 2073, '경의': 2074, '최소': 2075, '스럽지': 2076, '현대': 2077, '이따위': 2078, '어지럽다': 2079, '다기': 2080, '가디언즈': 2081, '도안': 2082, '측면': 2083, '부의': 2084, '차리다': 2085, '강동원': 2086, '적당': 2087, '이분': 2088, '손발': 2089, '라지': 2090, '숨죽': 2091, '마냥': 2092, '노래': 2093, '호흡': 2094, '거나': 2095, '해지': 2096, '감흥': 2097, '따지다': 2098, '리얼리티': 2099, '니깐': 2100, '햇음': 2101, '죄다': 2102, '스텝': 2103, '찌르다': 2104, '서도': 2105, '꾸다': 2106, '라인': 2107, '뵈다': 2108, '세기': 2109, '마저도': 2110, '한몫': 2111, '언제나': 2112, '고프다': 2113, '덮다': 2114, '신파극': 2115, '기리': 2116, '영화배우': 2117, '막상': 2118, '멈추다': 2119, '물살': 2120, '찬양': 2121, '엇습': 2122, '스님': 2123, '대충': 2124, '핵': 2125, '흠잡다': 2126, '경우': 2127, '해외': 2128, '지금껏': 2129, '흡입': 2130, '려고': 2131, '영화평론가': 2132, '역사스페셜': 2133, '쩜': 2134, '비현실적': 2135, '경험': 2136, '앙': 2137, '닥치고': 2138, '똑같다': 2139, '일대기': 2140, '젖다': 2141, '중심': 2142, '고마움': 2143, '옴': 2144, '진실': 2145, '받치다': 2146, '미국': 2147, '밀리다': 2148, '단체': 2149, '고통': 2150, '합': 2151, '한반도': 2152, '티켓': 2153, '기간': 2154, '입다': 2155, '그야말로': 2156, '응원': 2157, '책임감': 2158, '반응': 2159, '영호': 2160, '천재': 2161, '검색': 2162, '성공': 2163, '누군가': 2164, 'ㄷ': 2165, '찡': 2166, '가끔': 2167, '카타르': 2168, '시스': 2169, '상이': 2170, '실존': 2171, '심지어': 2172, '숙연': 2173, '잔뜩': 2174, '동생': 2175, '유승룡': 2176, '몰이': 2177, '째': 2178, '재밋엇어': 2179, '자막': 2180, '뭉': 2181, '손색': 2182, '사고': 2183, '괜': 2184, '반복': 2185, '불러일으키다': 2186, '가량': 2187, '의상': 2188, '반영': 2189, '대전': 2190, '시절': 2191, '옷': 2192, '만들기': 2193, '맛있다': 2194, '난리': 2195, '응': 2196, '추석': 2197, '치고는': 2198, '구도': 2199, '흔적': 2200, '옹': 2201, '높아지다': 2202, '자연': 2203, '시각': 2204, '시국': 2205, '일본배': 2206, '다섯': 2207, '이구나': 2208, '자마자': 2209, '진리': 2210, '기승': 2211, '도중': 2212, '승': 2213, '세대': 2214, '대표': 2215, '베리': 2216, '권율': 2217, '욤': 2218, '졸라': 2219, '따로': 2220, '폭풍': 2221, '모로': 2222, '만화': 2223, '불타': 2224, '흘러가다': 2225, '눈시울': 2226, '에나': 2227, '아끼다': 2228, '액션씬': 2229, '으로나': 2230, '해상씬': 2231, '방법': 2232, '달라': 2233, '채': 2234, '조화': 2235, '닮다': 2236, '통': 2237, '뒤늦다': 2238, '징': 2239, '슬로우모션': 2240, '내기': 2241, '인식': 2242, '잡고': 2243, '갤럭시': 2244, '악역': 2245, '유발': 2246, '고해': 2247, '역린': 2248, 'ㅣ': 2249, '지난': 2250, '잠들다': 2251, '대비': 2252, '호': 2253, '캬': 2254, '버': 2255, '명랑하다': 2256, '아오': 2257, '수없이': 2258, '폭발': 2259, '이안': 2260, '노민우': 2261, '마일리지': 2262, '휘': 2263, '반하다': 2264, '학교': 2265, '기법': 2266, '충심': 2267, '착각': 2268, '본적': 2269, '더위': 2270, '주네': 2271, 'ㅎㄷㄷ': 2272, '줄다': 2273, '인가요': 2274, '영화계': 2275, '파워': 2276, '타고': 2277, '층': 2278, '액션영화': 2279, '들어주다': 2280, '이러하다': 2281, '높이': 2282, '숨다': 2283, 'ㄷㄷㄷ': 2284, '한장': 2285, '우우': 2286, '고작': 2287, '활용': 2288, '디': 2289, '단어': 2290, '소설': 2291, '밧다': 2292, '반감': 2293, '괴물': 2294, '녹다': 2295, '황당하다': 2296, '개쩜': 2297, '미리': 2298, '문화': 2299, '억울하다': 2300, '딱이다': 2301, '유머': 2302, '잔': 2303, '가능': 2304, '늦추다': 2305, '추가': 2306, '부담': 2307, '짜증': 2308, '본인': 2309, '숨막히다': 2310, '박': 2311, '장점': 2312, '초등': 2313, '일반': 2314, '론': 2315, '암': 2316, '포함': 2317, '까지의': 2318, '오빠': 2319, '이필': 2320, '바보': 2321, '논': 2322, '어디서': 2323, '자세': 2324, '차원': 2325, '거대하다': 2326, '해운대': 2327, '낼': 2328, '평타': 2329, '체': 2330, '만의': 2331, '기립박수': 2332, '한마음': 2333, '새벽': 2334, '어쨌든': 2335, '점줌': 2336, '간절하다': 2337, '훌쩍': 2338, '늘리다': 2339, '티나': 2340, '찍히다': 2341, '열정': 2342, '절반': 2343, '스스로': 2344, '신격화': 2345, '자연스럽다': 2346, '귀찮다': 2347, '조작': 2348, '나니': 2349, '잘리다': 2350, '차': 2351, '치밀하다': 2352, '다녀오다': 2353, '전환': 2354, '예정': 2355, '싹': 2356, '봣습': 2357, '부각시키다': 2358, '새다': 2359, '주먹': 2360, '월': 2361, '꼽히다': 2362, '망': 2363, '던': 2364, '주옥': 2365, '드럽다': 2366, '에다': 2367, '도로': 2368, '애매하다': 2369, '스트레스': 2370, '끼': 2371, '하자': 2372, '나타내다': 2373, '그러하다': 2374, '헐다': 2375, '분노': 2376, '산다': 2377, '게다가': 2378, '시끄럽다': 2379, '산': 2380, '여친': 2381, '한민족': 2382, '어서': 2383, '발견': 2384, '어떠하다': 2385, '흐릿': 2386, '지휘': 2387, '판': 2388, '손꼽다': 2389, '국산': 2390, '홀로': 2391, '외치다': 2392, '바르다': 2393, '독과점': 2394, '어린이': 2395, '오로지': 2396, '김': 2397, '밖에는': 2398, '참여': 2399, '생동감': 2400, '열두': 2401, '날리다': 2402, '메다': 2403, '의존': 2404, '팍팍': 2405, '왜적': 2406, '혹시': 2407, '오랜만': 2408, '바라보다': 2409, '염': 2410, '알려지다': 2411, '최단': 2412, '일부러': 2413, '쩝': 2414, '할아버지': 2415, '밋었': 2416, '이던': 2417, '찍': 2418, '저렇다': 2419, '어려움': 2420, '물리': 2421, '숫자': 2422, '재료': 2423, '피해': 2424, '최초': 2425, '년대': 2426, '아예': 2427, '막판': 2428, '번째': 2429, '도망가다': 2430, '마땅하다': 2431, '축하': 2432, '정부': 2433, '끼우다': 2434, '자락': 2435, '혼신': 2436, '배급': 2437, '개도': 2438, '각자': 2439, '혼란': 2440, '업': 2441, '살수': 2442, '재밋습니': 2443, '설득': 2444, '쩔어요': 2445, '획': 2446, '하라': 2447, '다한': 2448, '찬사': 2449, '서로': 2450, '한두': 2451, '버티다': 2452, '요조': 2453, '식상하다': 2454, '쫙': 2455, '강의': 2456, '부자연스럽다': 2457, '놀래다': 2458, '해오다': 2459, '이구': 2460, '저녁': 2461, '역사교육': 2462, '용면': 2463, '격': 2464, '완젼': 2465, '한국판': 2466, '로그인': 2467, '느': 2468, '또다른': 2469, '가나다': 2470, '라마': 2471, '바사': 2472, '오류': 2473, '전하': 2474, '다시다': 2475, '중국': 2476, '구나': 2477, '선물': 2478, '밤': 2479, '지인': 2480, '찬': 2481, '한숨': 2482, '첨으로': 2483, '캐': 2484, '나마': 2485, '사하나': 2486, '강인하다': 2487, '봉': 2488, '반개': 2489, '영광': 2490, '신영화': 2491, '피곤하다': 2492, '광복절': 2493, '분석': 2494, '체적': 2495, '비록': 2496, '가야': 2497, '용맹하다': 2498, '드러내다': 2499, '충파': 2500, '개판': 2501, '똥': 2502, '기반': 2503, '마디': 2504, '계': 2505, '바쁘다': 2506, '가가': 2507, '작성': 2508, '낳다': 2509, '빵빵': 2510, '셧': 2511, '망설이다': 2512, '로운': 2513, '불필요하다': 2514, '알리': 2515, '류승용': 2516, '얘': 2517, '치우치다': 2518, '밖엔': 2519, '러': 2520, '누르다': 2521, '전의': 2522, '불리다': 2523, '씁쓸하다': 2524, '엇음': 2525, '탑': 2526, '에서나': 2527, '대통령': 2528, '심각하다': 2529, '불가능': 2530, '진도': 2531, '급하다': 2532, '촌스럽다': 2533, '뽕': 2534, '백원': 2535, '악마': 2536, '역다': 2537, '예고': 2538, '물이': 2539, '언플': 2540, '특성': 2541, '라기': 2542, '몰아치다': 2543, '겪다': 2544, '앞뒤': 2545, '인터넷': 2546, '드디어': 2547, '부정': 2548, '배치': 2549, '쓰이다': 2550, '태우다': 2551, '결정': 2552, '이해도': 2553, '둘째': 2554, '시사': 2555, '원균': 2556, '그날': 2557, '딸아이': 2558, '소장': 2559, '화살': 2560, '불쌍하다': 2561, '지고': 2562, '지치다': 2563, '완전하다': 2564, '호평': 2565, '으뜸': 2566, '번방': 2567, '이회': 2568, '세종대왕': 2569, '자칫': 2570, '부인': 2571, '만난': 2572, '꼭꼭': 2573, '위안': 2574, '깍': 2575, '사발': 2576, '살기': 2577, '후예': 2578, '자료': 2579, '알바생': 2580, '띄다': 2581, '어쩌면': 2582, '세밀': 2583, '닷': 2584, '켜다': 2585, '의외로': 2586, '카': 2587, '와이': 2588, '정유재란': 2589, '악': 2590, '대요': 2591, '인걸': 2592, '키우다': 2593, '저러다': 2594, '뚝뚝': 2595, '근거': 2596, '조정': 2597, '신화': 2598, '최대한': 2599, '직업': 2600, '부수': 2601, '다나': 2602, '숨쉬다': 2603, '필수': 2604, '딘': 2605, '자의': 2606, '리지': 2607, '놀다': 2608, '목적': 2609, '민중': 2610, '삼류': 2611, '쓸데없이': 2612, '용다': 2613, '하진': 2614, '죽지': 2615, '신나다': 2616, '이제껏': 2617, '째다': 2618, '적장': 2619, '개봉일': 2620, '웟': 2621, '위로': 2622, '스나이퍼': 2623, '몰리다': 2624, '신뢰': 2625, '특수': 2626, '쇼': 2627, '이겠다': 2628, '미개하다': 2629, '쉽다': 2630, '에가': 2631, '맨날': 2632, '다른사람': 2633, '어르신': 2634, '칼의노래': 2635, '변신': 2636, '강력하다': 2637, '존': 2638, '박살': 2639, '당장': 2640, '보삼': 2641, '방학': 2642, '색다르다': 2643, '그립다': 2644, '잼잼': 2645, '친': 2646, '찔끔': 2647, '클라스': 2648, '주신': 2649, '대신': 2650, '달성': 2651, '불가능하다': 2652, '끌리다': 2653, '벌어지다': 2654, '열세': 2655, '빼': 2656, '나은': 2657, '첫날': 2658, '아무래도': 2659, '수십': 2660, '우려': 2661, '웃기': 2662, '까맣다': 2663, '단조롭다': 2664, '꿈': 2665, '말아먹다': 2666, '구르다': 2667, '훌륭': 2668, '살아오다': 2669, '도도': 2670, '할리우드': 2671, '발휘': 2672, '사상': 2673, '합치다': 2674, '거짓말': 2675, '지모': 2676, '엄숙하다': 2677, '쏟다': 2678, '허세': 2679, '베': 2680, '보람': 2681, '선사': 2682, '가하다': 2683, '밸런스': 2684, '홧팅': 2685, '적선': 2686, '애기': 2687, '그이': 2688, '특유': 2689, '소개': 2690, '중요성': 2691, '즉': 2692, '그대': 2693, '하고도': 2694, '단역': 2695, '깨달음': 2696, '캐리': 2697, '붙다': 2698, '졸이다': 2699, '가세': 2700, '컴퓨터': 2701, '부풀리다': 2702, '쾌감': 2703, '감추다': 2704, '뚫다': 2705, '서울': 2706, '최민': 2707, '미도': 2708, '몰려오다': 2709, '변하다': 2710, '뵙다': 2711, '어수선하다': 2712, '도와주다': 2713, '상기': 2714, '외로움': 2715, '거두다': 2716, '불끈': 2717, '양심': 2718, '몇개': 2719, '어차피': 2720, '스': 2721, '이입': 2722, '옥': 2723, '재밋었어': 2724, '나무라다': 2725, '조차도': 2726, '넋': 2727, '아자': 2728, '머릿속': 2729, '역작': 2730, '오지': 2731, '모욕': 2732, '화표': 2733, '햇던': 2734, '쩌러': 2735, '베다': 2736, '한참': 2737, '무리': 2738, '힐링': 2739, '미가': 2740, '백만': 2741, '이형': 2742, '오랫동안': 2743, '절절': 2744, '겁': 2745, '명령': 2746, '쇠사슬': 2747, '분장': 2748, '조합': 2749, '볼껄': 2750, '실력': 2751, '순위': 2752, '물어보다': 2753, '남지': 2754, '관상': 2755, 'ㅗ': 2756, '현명하다': 2757, 'ㅁ': 2758, '드물다': 2759, '뻥': 2760, '사장': 2761, '곱씹다': 2762, '부상': 2763, '뼈': 2764, '명확하다': 2765, '관리': 2766, '죄송스럽다': 2767, '졸리': 2768, '어거지': 2769, '복잡하다': 2770, '긍정': 2771, '마리': 2772, '화이': 2773, '담담하다': 2774, '와도': 2775, '죄': 2776, '평작': 2777, '생활': 2778, '남친': 2779, '웬만하다': 2780, '마가': 2781, '대기업': 2782, '전결': 2783, '굵다': 2784, '신의한수': 2785, '예나': 2786, '서서': 2787, '은근': 2788, '테러': 2789, '해무': 2790, '과장하다': 2791, '잡히다': 2792, '의자': 2793, '쓰기': 2794, '리기': 2795, '선동': 2796, '오래간만': 2797, '실패': 2798, '붉다': 2799, '솔선수범': 2800, '땔수': 2801, '모독': 2802, '라던가': 2803, '또다시': 2804, '기사': 2805, '화평': 2806, '탄탄': 2807, '작위': 2808, '어깨': 2809, '고요': 2810, '단편': 2811, '내놓다': 2812, '질리다': 2813, '혼나다': 2814, '스포': 2815, '벗다': 2816, '챙기다': 2817, '납득': 2818, '꺼': 2819, 'ㄹ': 2820, '반대': 2821, '찌': 2822, '핵꿀잼': 2823, '간접': 2824, '상상력': 2825, '가족영화': 2826, '체험': 2827, '시종일관': 2828, '내적': 2829, '초집': 2830, '썩': 2831, '리가': 2832, '저격수': 2833, '불리하다': 2834, '기존': 2835, '이도': 2836, '안기다': 2837, '맥': 2838, '성의': 2839, '무식하다': 2840, '영애': 2841, '불만': 2842, '에다가': 2843, '단순': 2844, '어우러지다': 2845, '증명': 2846, '남자친구': 2847, '침략': 2848, '고스': 2849, '전기': 2850, '몫': 2851, '오글오글': 2852, '줄이다': 2853, '딸리다': 2854, '수만': 2855, '류승': 2856, '다수': 2857, '의의': 2858, '만인': 2859, '수장': 2860, '익히다': 2861, '오리가': 2862, '하나같이': 2863, '개그': 2864, '요구': 2865, '근본': 2866, '지적': 2867, '일수': 2868, '습니다': 2869, '시시하다': 2870, '배신': 2871, '부들부들': 2872, '밥상': 2873, '햇습니': 2874, '지장': 2875, '전무후무': 2876, '커지다': 2877, '흑': 2878, '오줌': 2879, '만큼이나': 2880, '꾸르잼': 2881, '압박': 2882, '도무지': 2883, '비평': 2884, '킹왕짱': 2885, '생략': 2886, '오오': 2887, '들보': 2888, '중학생': 2889, '토록': 2890, '자신감': 2891, '속도': 2892, '뉴스': 2893, '벗어나다': 2894, '지네': 2895, '절박': 2896, '매진': 2897, '재연': 2898, '구성은': 2899, '로움': 2900, '테': 2901, '딴': 2902, '산업': 2903, '출연자': 2904, '며칠': 2905, '숭고하다': 2906, '다다': 2907, '워': 2908, '오오오': 2909, '해봤다': 2910, '캐릭': 2911, '다라': 2912, '헷갈리다': 2913, '끈': 2914, '구현': 2915, '여지': 2916, '조선인': 2917, '린': 2918, '충족': 2919, '용감하다': 2920, '낭비': 2921, '화나다': 2922, '나룻배': 2923, '빼놓다': 2924, '맙시': 2925, '방식': 2926, '자본': 2927, '질리': 2928, 'ㅉ': 2929, '이래서': 2930, '비싸다': 2931, '심심하다': 2932, '강츄': 2933, '태극기휘날리며': 2934, '학': 2935, '익다': 2936, '포탄': 2937, '어어': 2938, '듯이': 2939, '별거': 2940, '할머니': 2941, '안고': 2942, '구체': 2943, 'ㅜㅜㅜㅜ': 2944, '가나': 2945, '웃': 2946, '공격': 2947, '댐': 2948, '월드컵': 2949, '도가니': 2950, '절대로': 2951, '헌신': 2952, '초등학교': 2953, '전문': 2954, '준영': 2955, '곳곳': 2956, '인위': 2957, '백년': 2958, '박히다': 2959, '시장': 2960, '거부': 2961, '필': 2962, '휘두르다': 2963, '수백': 2964, '마스터': 2965, '다리': 2966, '작렬': 2967, '부턴': 2968, '나머진': 2969, '봣다': 2970, '물들다': 2971, '날아가다': 2972, '장치': 2973, '자고': 2974, '군데': 2975, '효': 2976, '부디': 2977, '안주': 2978, '힘겹다': 2979, '논란': 2980, '심금': 2981, '못만드': 2982, '컨': 2983, '타이틀': 2984, '흥분': 2985, '막연하다': 2986, '시한': 2987, '애초': 2988, '휩쓸다': 2989, '한잔': 2990, '가운데': 2991, '땔': 2992, '줄줄': 2993, '도하': 2994, '타오르다': 2995, '분만': 2996, '쩔': 2997, '짝짝': 2998, '조금씩': 2999, '리순신': 3000, '이루어지다': 3001, '변화': 3002, '제의': 3003, '깨우치다': 3004, '예약': 3005, '모름': 3006, '손가락': 3007, '틀': 3008, '없애다': 3009, '심형래': 3010, '운영': 3011, '난무': 3012, '유치': 3013, '털다': 3014, '이불': 3015, '달리다': 3016, '영향': 3017, '담백하다': 3018, '려': 3019, '아마도': 3020, '흔들리다': 3021, '리슌신': 3022, '미흡': 3023, '동의': 3024, '찔리다': 3025, '어벤져스': 3026, '궁금증': 3027, '침': 3028, '언론플레이': 3029, '토대': 3030, '차기작': 3031, '화끈하다': 3032, '랩': 3033, '이따': 3034, '제로': 3035, '전라도': 3036, '레전드': 3037, '북받치다': 3038, '왜케': 3039, '쪼금': 3040, '한해': 3041, '음식': 3042, '토': 3043, '투': 3044, '개성': 3045, '집다': 3046, '엄지': 3047, '느꼇다': 3048, '충정': 3049, '멀리': 3050, '박근혜': 3051, '태극기': 3052, '무적': 3053, '창피하다': 3054, '자가': 3055, '대승': 3056, '덤': 3057, '나오니': 3058, '곤': 3059, '믿음': 3060, '사망자': 3061, '취급': 3062, '역겹다': 3063, '뚜렷하다': 3064, '가기': 3065, '상의': 3066, '정선': 3067, '진자': 3068, '짚다': 3069, '화비': 3070, '묘': 3071, '동전': 3072, '올드보이': 3073, '전세계': 3074, '풀': 3075, '이본': 3076, '로다': 3077, '그만하다': 3078, '정작': 3079, '실로': 3080, '파이팅': 3081, '단결': 3082, '부모': 3083, '명도': 3084, '완': 3085, '좋아지다': 3086, '기백': 3087, '감사히': 3088, '한동안': 3089, '떡': 3090, '무능하다': 3091, '무리하다': 3092, '혹은': 3093, '아줌마': 3094, '그림': 3095, '간단하다': 3096, '원한': 3097, '엉터리': 3098, '인터뷰': 3099, '료': 3100, '특징': 3101, '닭살': 3102, '호연': 3103, '오는': 3104, '현대인': 3105, '나누다': 3106, '누': 3107, '어휴': 3108, '흐리다': 3109, '어마': 3110, '섬': 3111, '재밋습': 3112, '헤': 3113, '완죤': 3114, '지지': 3115, '익숙하다': 3116, '그나저나': 3117, '훅': 3118, '나약하다': 3119, '밋게봣': 3120, '많아지다': 3121, '각인': 3122, '그런대로': 3123, '힘내다': 3124, '하아': 3125, '남발': 3126, '함선': 3127, '두고두고': 3128, '박보검': 3129, '일어': 3130, '평면': 3131, '진진': 3132, '꺼지다': 3133, 'ㄴㄴ': 3134, '긍지': 3135, '휘날리다': 3136, '솔직': 3137, '배제': 3138, '안남': 3139, '친일': 3140, '작년': 3141, '구경': 3142, '후회되다': 3143, '불과하다': 3144, '주어': 3145, '겹': 3146, '대한민국만세': 3147, '함대': 3148, '제한': 3149, '당황': 3150, '소소하다': 3151, '지원': 3152, '군중심리': 3153, '예측': 3154, '껏': 3155, '고고': 3156, '때매': 3157, '풀리다': 3158, '열악하다': 3159, '아래': 3160, '와이프': 3161, '볼땐': 3162, '하이라이트': 3163, '예산': 3164, '한개': 3165, '꼽': 3166, '붙이다': 3167, '불문': 3168, '분도': 3169, '대상': 3170, '의무': 3171, '평일': 3172, '코미디': 3173, '앞두다': 3174, '난잡하다': 3175, '운빨': 3176, '의아': 3177, '돕다': 3178, '요새': 3179, '차카': 3180, '사로자다': 3181, '숨소리': 3182, '깡패': 3183, '시보': 3184, '평이하다': 3185, '측': 3186, '점준': 3187, '정신없이': 3188, '논리': 3189, '격파': 3190, '젊은이': 3191, '국': 3192, '톤': 3193, '잘나다': 3194, '단말': 3195, '모자라': 3196, '꼬': 3197, '아포칼립토': 3198, '정의': 3199, '너희': 3200, '므': 3201, '롯데': 3202, '좌석': 3203, '다짐': 3204, '받아들이다': 3205, '쪽바리': 3206, '따윈': 3207, '전함': 3208, '탈': 3209, '말씀드리다': 3210, '에이': 3211, '그러면': 3212, '과잉': 3213, '삼키다': 3214, '원인': 3215, '환불': 3216, '가상': 3217, '승부': 3218, '실': 3219, '김명곤': 3220, '달래다': 3221, '보완': 3222, '수치': 3223, '용맹': 3224, '이쁘다': 3225, '재밋었습니': 3226, '헛웃음': 3227, '올여름': 3228, '치우다': 3229, '쬐다': 3230, '띄우다': 3231, '맺다': 3232, '다크나이트': 3233, '부서지다': 3234, '랑은': 3235, '그랬는데': 3236, '내공': 3237, '어둡다': 3238, '모션': 3239, '역사관': 3240, '달라지다': 3241, '남다르다': 3242, '틀림': 3243, '자아내다': 3244, '추구': 3245, '막스': 3246, '고딩': 3247, '부리다': 3248, '판단력': 3249, '돗': 3250, '반지의제왕': 3251, '내부': 3252, '깜짝': 3253, '신하': 3254, '님들': 3255, '르': 3256, '조건': 3257, '스토리텔링': 3258, '정신차리다': 3259, '래서': 3260, '나로': 3261, '고난': 3262, '화영': 3263, '출신': 3264, '멘트': 3265, '충분': 3266, '부담스럽다': 3267, '으로부터': 3268, '어딘가': 3269, '게임': 3270, '끊어지다': 3271, '한일전': 3272, '한층': 3273, '장미': 3274, '없어지다': 3275, '때우다': 3276, '느님': 3277, '일정': 3278, '개봉관': 3279, '한지': 3280, '상쾌': 3281, '흔': 3282, '착하다': 3283, '보나': 3284, '다잡다': 3285, '당당하다': 3286, '위치': 3287, '천명': 3288, '한텐': 3289, '졸음': 3290, '핵심': 3291, '턱': 3292, '책임': 3293, '요약': 3294, '수출': 3295, '연구': 3296, '미스': 3297, '개개인': 3298, '파도': 3299, '화약': 3300, '어찌나': 3301, '기운': 3302, '우상': 3303, '진지': 3304, '소감': 3305, '구로': 3306, '만드': 3307, '와의': 3308, '중딩': 3309, '멘탈': 3310, '무릇': 3311, '취한': 3312, '비디오': 3313, '서점': 3314, '닦다': 3315, '유지': 3316, '누군지': 3317, '고서': 3318, '타령': 3319, '고충': 3320, '옮기다': 3321, '펼쳐지다': 3322, '에의': 3323, '지리': 3324, '고찰': 3325, '유쾌하다': 3326, '자손': 3327, '효과음': 3328, '정녕': 3329, '아무나': 3330, '훔치다': 3331, '근대': 3332, '철': 3333, '투전': 3334, '타파': 3335, '활보': 3336, '빈약': 3337, '운명': 3338, '역경': 3339, '통탄': 3340, 'ㅂ': 3341, '옳다': 3342, '소품': 3343, '천오백만': 3344, '개멋': 3345, '섞이다': 3346, '널리': 3347, '색': 3348, '저력': 3349, '접근': 3350, '대체로': 3351, '였음': 3352, '호구': 3353, '따뜻하다': 3354, '후딱': 3355, '쉬': 3356, '훨신': 3357, '가르치다': 3358, '속상하다': 3359, '최소한': 3360, '어처구니': 3361, '정도전': 3362, '애민': 3363, '일도': 3364, '일지': 3365, '글썽': 3366, '품다': 3367, '슥': 3368, '안습': 3369, '설레다': 3370, '영혼': 3371, '성격': 3372, '시네마': 3373, '관중': 3374, '환경': 3375, '대면': 3376, '후편': 3377, '조직': 3378, '정돈': 3379, '잠자다': 3380, '간지': 3381, '초등생': 3382, '금은': 3383, '따라오다': 3384, '해설': 3385, '뇨': 3386, '신들리다': 3387, '어간': 3388, '대하드라마': 3389, '파악': 3390, '개뿔': 3391, '나뉘다': 3392, '우울하다': 3393, '휼륭하다': 3394, '천배': 3395, '뚫리다': 3396, '비난': 3397, '일반인': 3398, '간간히': 3399, '남자라면': 3400, '클래스': 3401, '영화상': 3402, '풍부하다': 3403, '배우진': 3404, '경이': 3405, '반했어': 3406, '실미도': 3407, '시원': 3408, '기개': 3409, '믄': 3410, '허무': 3411, '투하': 3412, '개념': 3413, '치면': 3414, '무지하다': 3415, '오열': 3416, '여론': 3417, '눈가': 3418, '우직하다': 3419, '메': 3420, '학습': 3421, '정화': 3422, '자격': 3423, '재밋었음': 3424, '기원': 3425, '일어서다': 3426, '천년': 3427, '런닝타임': 3428, '인지도': 3429, '다지다': 3430, '도데': 3431, '구분': 3432, '속지': 3433, '덕목': 3434, '지극히': 3435, '창': 3436, '샘솟다': 3437, '고려': 3438, '이슈': 3439, '토란': 3440, '피다': 3441, '모터': 3442, '재밋게봣어': 3443, '포스터': 3444, '아시': 3445, '앵글': 3446, '찝찝하다': 3447, '잘나오다': 3448, '한구석': 3449, '일본사람': 3450, '으으': 3451, '동감': 3452, '동영상': 3453, '가안': 3454, '기울이다': 3455, '깜놀': 3456, '멍청하다': 3457, '미스캐스팅': 3458, '잼남': 3459, '겉': 3460, '무방': 3461, '본영': 3462, '느꼇': 3463, '언급': 3464, '불법': 3465, '대적': 3466, '졸지': 3467, '꾸미다': 3468, '봣던': 3469, '통한': 3470, '사족': 3471, '욧': 3472, '외면': 3473, '뮤': 3474, '핵잼': 3475, '천원': 3476, '사료': 3477, '최면': 3478, '크레딧': 3479, '여기저기': 3480, '까지나': 3481, '니다': 3482, '가까이': 3483, '랫': 3484, '감점': 3485, '실소': 3486, '중점': 3487, '편안하다': 3488, '무장': 3489, '매체': 3490, 'ㄱㄱ': 3491, '해소': 3492, '마자': 3493, '요인': 3494, '마는': 3495, '적지': 3496, '지형': 3497, '지내다': 3498, '께서는': 3499, '차례': 3500, '경쟁': 3501, '배한': 3502, '용서': 3503, '래야': 3504, '떨어뜨리다': 3505, '구리다': 3506, '신입': 3507, '솟다': 3508, '도전': 3509, '도보': 3510, '실패하다': 3511, '집단': 3512, '쓴다': 3513, '스태프': 3514, '고등학생': 3515, '고간': 3516, '꽝': 3517, '쫄깃': 3518, '기획': 3519, '수중': 3520, '뇌': 3521, '썩다': 3522, '파고들다': 3523, '쎄다': 3524, '대목': 3525, '절정': 3526, '화답': 3527, '고본': 3528, '통틀어': 3529, '부끄러움': 3530, '잘봣어': 3531, '잉': 3532, '모양': 3533, '필히': 3534, '어색': 3535, '넓다': 3536, '권하다': 3537, '함포': 3538, '대중성': 3539, '흐지부지': 3540, '십자': 3541, '쨩': 3542, '구심': 3543, '굿잡': 3544, '로라': 3545, '극한': 3546, '패기': 3547, '시계': 3548, '핸드폰': 3549, '본격': 3550, '쏙': 3551, '원숭이': 3552, '다다르다': 3553, '만일': 3554, '찌푸리다': 3555, '안질리다': 3556, '치맛': 3557, '충의': 3558, '일색': 3559, '왜란': 3560, '어정쩡하다': 3561, '멍': 3562, '공짜': 3563, '상반기': 3564, '입소': 3565, '웬': 3566, '만듬': 3567, '암울하다': 3568, '지역': 3569, '설': 3570, '부다': 3571, '날수': 3572, '진의': 3573, '먹이다': 3574, '인재': 3575, '취해': 3576, '도기': 3577, '외로': 3578, '고하': 3579, '반일감정': 3580, '리치': 3581, '후광': 3582, '간신': 3583, '텐데': 3584, '부대': 3585, '레': 3586, '방송': 3587, '돌': 3588, '쭉': 3589, '자질': 3590, '껀': 3591, '극도': 3592, 'ㅇㅇㅇ': 3593, '불굴': 3594, '그릇': 3595, '패스': 3596, '다재': 3597, '욕심': 3598, '핑': 3599, '차오르다': 3600, '주체': 3601, '분투': 3602, '암시': 3603, '든지': 3604, '편의': 3605, '강약': 3606, '전통': 3607, '구석': 3608, '위력': 3609, '정신과': 3610, '뜸': 3611, '규모': 3612, '임펙트': 3613, '고재': 3614, '꾼': 3615, '상승': 3616, '주요': 3617, '맛없다': 3618, '장대': 3619, '이아': 3620, '꺼내다': 3621, '찾기': 3622, '말르다': 3623, '동료': 3624, '영화제작': 3625, '이내': 3626, '리도': 3627, '즐감': 3628, '쪽팔리다': 3629, '대서': 3630, '식다': 3631, '환생하다': 3632, '한글': 3633, '스타': 3634, '울부짖다': 3635, '잘생기다': 3636, '환상': 3637, '하드캐리': 3638, '아기': 3639, '불친절하다': 3640, '디다': 3641, '부부': 3642, '왤케': 3643, '인강': 3644, '눈치': 3645, '수하': 3646, '후대': 3647, '조만간': 3648, '그토록': 3649, '배척': 3650, '뭥미': 3651, '라며': 3652, '요전': 3653, '선배': 3654, '고자': 3655, '도크': 3656, '삽입': 3657, '의심스럽다': 3658, '출현': 3659, '먹히다': 3660, '숨기다': 3661, '자제': 3662, '볼일': 3663, '영화감독': 3664, '모가지': 3665, '정이': 3666, '마을': 3667, '양': 3668, '오입': 3669, '에피소드': 3670, '플롯': 3671, '만남': 3672, '어디가': 3673, '덜다': 3674, '박하다': 3675, '여인': 3676, '대가리': 3677, '분한': 3678, '해상전쟁': 3679, '한없이': 3680, '서사시': 3681, '핫': 3682, '쓰래': 3683, 'ㅐ': 3684, '책임지다': 3685, '마이너스': 3686, '부딪히다': 3687, '울둘목': 3688, '나발': 3689, '뭐임': 3690, '는바': 3691, '우왕': 3692, '테이크': 3693, '둥': 3694, '고조': 3695, '지켜보다': 3696, '탄성': 3697, '깨지다': 3698, '에게만': 3699, '힘없다': 3700, '컨텐츠': 3701, '해신': 3702, '극본': 3703, '농담': 3704, '조카': 3705, '전투력': 3706, '부터가': 3707, '또는': 3708, '이승준': 3709, '어째서': 3710, '엔딩크레딧': 3711, '최상': 3712, '귀가': 3713, '상자': 3714, '영화니': 3715, '사서': 3716, '짤': 3717, '어째': 3718, '갈망': 3719, '굵직하다': 3720, '해주': 3721, '도망치다': 3722, '물다': 3723, '간결하다': 3724, '헤헤': 3725, '빨르다': 3726, '마음가짐': 3727, '기레기': 3728, '각성': 3729, '징그럽다': 3730, '사거리': 3731, '아우라': 3732, '공간': 3733, '을해': 3734, '짜임': 3735, '끌어당기다': 3736, '무리수': 3737, '인간미': 3738, '태풍': 3739, '재밋는': 3740, '후퇴': 3741, '교수': 3742, '는데': 3743, '감독판': 3744, '거짓': 3745, '에서만': 3746, '순전하다': 3747, '내주다': 3748, '끝판': 3749, '으아': 3750, '온갖': 3751, '벨': 3752, '사르다': 3753, '당기다': 3754, '박평': 3755, '랏': 3756, '한정': 3757, '면목': 3758, '뇌리': 3759, '아우': 3760, '페이지': 3761, '떄문': 3762, '신임': 3763, '확신': 3764, '장사': 3765, '저리다': 3766, '입력': 3767, '공포영화': 3768, '민망하다': 3769, '선정': 3770, '종': 3771, '제공': 3772, '매치': 3773, '이천만': 3774, '참전': 3775, '빵점': 3776, '외화': 3777, '끔찍하다': 3778, '돌이키다': 3779, '유도': 3780, '라고는': 3781, '국제': 3782, '오래도록': 3783, '휘하': 3784, '만회': 3785, '튼튼하다': 3786, '구사': 3787, '비례': 3788, '순수하다': 3789, '푸다': 3790, 'ㅇㅅㅇ': 3791, '출전': 3792, '깨달': 3793, '미술': 3794, '참신하다': 3795, '포격': 3796, '삼다': 3797, '구라': 3798, '박력': 3799, '욕먹다': 3800, '따분하다': 3801, '장하다': 3802, '가져가다': 3803, '할꼬': 3804, '일만': 3805, '개꿀': 3806, '명감': 3807, '배위': 3808, '외적': 3809, '꿀잼임': 3810, '복선': 3811, '서론': 3812, '무대': 3813, '철학': 3814, '반면': 3815, '도록': 3816, '못지않다': 3817, '유': 3818, '톱': 3819, '털': 3820, '겄': 3821, '직전': 3822, '다물다': 3823, '전쟁사': 3824, '컷던': 3825, '거치다': 3826, '작고': 3827, '아이유': 3828, '지경': 3829, '깃발': 3830, '찌릿찌릿하다': 3831, '털리다': 3832, '갈아': 3833, '아리': 3834, '영화제': 3835, '쌓이다': 3836, '하드': 3837, '신세계': 3838, '멍하다': 3839, 'ㅆ': 3840, '간의': 3841, '어쩌구': 3842, '개재': 3843, '신인': 3844, '형식': 3845, '피로': 3846, '짐작': 3847, '일당백': 3848, '아리다': 3849, '숫': 3850, '씨제이': 3851, '뻔햇': 3852, '연령': 3853, '도아': 3854, '분간': 3855, '천군': 3856, '형용': 3857, '부여': 3858, '드립': 3859, '일구다': 3860, 'ㅊ': 3861, '메가박스': 3862, '글구': 3863, '힐': 3864, '보장': 3865, '정통': 3866, '매기': 3867, '나아가다': 3868, '이라곤': 3869, '이라고는': 3870, '매료': 3871, '올려주다': 3872, '마주': 3873, '연하다': 3874, '과언': 3875, '써주다': 3876, '어선': 3877, '스며들다': 3878, '부탁': 3879, '럼': 3880, '신사임당': 3881, '금시': 3882, '조음': 3883, '절규': 3884, '차고': 3885, '호응': 3886, '무모하다': 3887, '엇다': 3888, '놀람': 3889, '댓글알바': 3890, '관계자': 3891, '패배': 3892, '아이러니': 3893, '원샷': 3894, '과감': 3895, '번의': 3896, '마켓팅': 3897, '밝다': 3898, '어쨋': 3899, '번봣': 3900, '짙다': 3901, '팅': 3902, '생겨나다': 3903, '극혐': 3904, '식구': 3905, '코끝': 3906, '전력': 3907, '이래': 3908, '거임': 3909, '나와라': 3910, '무심하다': 3911, '잖다': 3912, '트': 3913, '팔다': 3914, '조심': 3915, '잡아먹다': 3916, '게재': 3917, '봣음': 3918, '군함도': 3919, '가시다': 3920, '라곤': 3921, '왈': 3922, '스팩': 3923, '집어넣다': 3924, '거듭': 3925, '장이': 3926, '가르다': 3927, '충무로': 3928, '화장': 3929, 'ㅈㄴ': 3930, '기쁨': 3931, '감기': 3932, '나무': 3933, '아베': 3934, '득실': 3935, '얹다': 3936, '시퀀스': 3937, '렌즈': 3938, '비장': 3939, '가버리다': 3940, '절때': 3941, '빠': 3942, '진격': 3943, '오프닝': 3944, '내려가다': 3945, 'ㅔ': 3946, '대결': 3947, '잊지맙시': 3948, '적도': 3949, '혹': 3950, '재밋엇다': 3951, '번봄': 3952, '보고서': 3953, '단조': 3954, '축': 3955, '돌격': 3956, '어지간하다': 3957, '냉철하다': 3958, '군율': 3959, '육군': 3960, '보상': 3961, '외치': 3962, '악평': 3963, '열다': 3964, '제작사': 3965, '적나라하다': 3966, '빡치다': 3967, '어처구니없다': 3968, '전승': 3969, '정리': 3970, '정적': 3971, '허허': 3972, '어머님': 3973, '분동': 3974, '한적': 3975, '룩': 3976, '튀다': 3977, '들여다보다': 3978, '일인': 3979, '연인': 3980, '늦': 3981, '이루': 3982, '즐거움': 3983, '스포일러': 3984, '행운': 3985, '몬': 3986, '자폭': 3987, '전도': 3988, '민국': 3989, '끊임없다': 3990, '면은': 3991, '현시': 3992, '사전': 3993, '충만': 3994, '뿌리다': 3995, '말투': 3996, '싸구려': 3997, '알아듣다': 3998, '칠천량': 3999, '데리다': 4000, '금치': 4001, '하여간': 4002, '작업': 4003, '캐리비안': 4004, '울분': 4005, '강제': 4006, '팬티': 4007, '세워지다': 4008, '동떨어지다': 4009, '틀어주다': 4010, '벌이다': 4011, '발연기': 4012, '뜬금없이': 4013, '스레': 4014, '아유': 4015, '승산': 4016, '절묘하다': 4017, '흐': 4018, '무의미하다': 4019, '소통': 4020, '셨': 4021, '세운': 4022, '평범': 4023, '주어지다': 4024, '재밋엇습니': 4025, '차이다': 4026, '유명': 4027, '평보': 4028, '떄': 4029, '고문': 4030, '두르다': 4031, '사격': 4032, '패': 4033, '월일': 4034, '빚': 4035, '즈': 4036, '만큼도': 4037, '밋음': 4038, '힘쓰다': 4039, '해안가': 4040, '종일': 4041, '심리전': 4042, '급박하다': 4043, '잔인함': 4044, '현상': 4045, '단단하다': 4046, '피부': 4047, '장창': 4048, '살림': 4049, '별하나': 4050, '의무감': 4051, '태도': 4052, '만빵': 4053, '헤치다': 4054, '지게': 4055, '뺏다': 4056, '감당': 4057, '주변인': 4058, '이요': 4059, '처참하다': 4060, '나열': 4061, '조악하다': 4062, '그럴듯하다': 4063, '어느새다': 4064, '투영': 4065, '최후': 4066, '오오오오': 4067, '중장': 4068, '의외': 4069, '이나고': 4070, '기꺼이': 4071, '거대': 4072, '투자자': 4073, '화이자': 4074, '교차': 4075, '뎅': 4076, '종합': 4077, '곡': 4078, '사하다': 4079, '퍼지다': 4080, '초라하다': 4081, '연발': 4082, '실수': 4083, '거지같다': 4084, '헛소리': 4085, '주기도': 4086, '멎다': 4087, '은혜': 4088, 'ㅡㅜ': 4089, '구출': 4090, '역사드라마': 4091, '이크': 4092, '플러스': 4093, '얼른': 4094, '하여금': 4095, '할인': 4096, '스탭': 4097, '상세': 4098, '률': 4099, '일요일': 4100, '부탁드리다': 4101, '바위': 4102, '밧줄': 4103, '이서': 4104, '포격전': 4105, '어쩐지': 4106, '압니': 4107, '구별': 4108, '번볼': 4109, '후의': 4110, '군데군데': 4111, '낚였다': 4112, '쌤': 4113, '모이다': 4114, '왤다': 4115, '기기': 4116, '그중': 4117, '냄비': 4118, '끝내': 4119, '입체': 4120, '비겁하다': 4121, '호기심': 4122, '지나': 4123, '밋다': 4124, '그딴': 4125, '네요': 4126, '오백원': 4127, '공백': 4128, '용가리': 4129, '크기': 4130, '간이': 4131, '임준영': 4132, '애절하다': 4133, '역전': 4134, '골': 4135, '치밀다': 4136, '닫다': 4137, '점점이': 4138, '학창시절': 4139, '편견': 4140, '까지가': 4141, '섬기다': 4142, '최고다이순신': 4143, '겸': 4144, '다지': 4145, '면적': 4146, '에게서': 4147, '리드': 4148, '피땀': 4149, '가르침': 4150, '빌리다': 4151, '장함': 4152, '정성': 4153, '왈칵': 4154, 'ㄹㅇ': 4155, '요하': 4156, '마인드': 4157, '양념': 4158, '아버님': 4159, '똑똑하다': 4160, '외부': 4161, '움직임': 4162, '것임': 4163, '딱좋다': 4164, '부도': 4165, '누적': 4166, '디지다': 4167, '짓다': 4168, '해양': 4169, '조사': 4170, '물씬': 4171, '무비': 4172, '어린시절': 4173, '채다': 4174, '었': 4175, '이군': 4176, '쓰러지다': 4177, '헤아리다': 4178, '쑤다': 4179, '방이': 4180, '관전': 4181, '다운로드': 4182, '요동치다': 4183, '오그': 4184, '정씨': 4185, '어딜': 4186, '가리다': 4187, '센스': 4188, '즐': 4189, '미스테리': 4190, '소신': 4191, '잃어버리다': 4192, '방향': 4193, '투입': 4194, '느슨하다': 4195, '내나라': 4196, '세트': 4197, '좌절': 4198, '뿌리': 4199, '스모키': 4200, '졸림': 4201, '꽃': 4202, '취': 4203, '불세출': 4204, '업그레이드': 4205, '버전': 4206, '주로': 4207, '열풍': 4208, '엄지손가락': 4209, '녹이다': 4210, '입히다': 4211, '오래오래': 4212, '반도': 4213, '데넘': 4214, '당대': 4215, '내뱉다': 4216, '셈': 4217, '살이': 4218, '눈감다': 4219, '여실히': 4220, '쳐다보다': 4221, '임자': 4222, '롱': 4223, '그간': 4224, '돠': 4225, '눈앞': 4226, '성장하다': 4227, '보더': 4228, '보강': 4229, '쯧쯧': 4230, '아가': 4231, '열광': 4232, '로안': 4233, '가평': 4234, '시험': 4235, '반신반의': 4236, '계산': 4237, '병법': 4238, '작살': 4239, '극히': 4240, '이오': 4241, '꾀': 4242, '전세': 4243, '신지': 4244, '진실되다': 4245, '뭣': 4246, '만듬새': 4247, '선상': 4248, '구만': 4249, '백미': 4250, '선생': 4251, '부합': 4252, '푼': 4253, 'ㅅㅅ': 4254, '모조리': 4255, '일어나서': 4256, '장담': 4257, '간혹': 4258, '넬슨': 4259, '서민': 4260, '짜지다': 4261, '권력': 4262, '각각': 4263, 'ㅠㅡㅠ': 4264, '순수': 4265, '형성': 4266, '졋': 4267, 'ㅇㅓ': 4268, '조마조마': 4269, '암살': 4270, '오후': 4271, '안듬': 4272, '축구': 4273, '내지': 4274, '전시': 4275, '부러': 4276, '중요': 4277, '묵묵하다': 4278, '데이트': 4279, '주모': 4280, '장악': 4281, '도배': 4282, '다치다': 4283, '욥': 4284, '자위': 4285, '실적': 4286, '로맨스': 4287, '본질': 4288, '됫': 4289, '고이': 4290, '한일': 4291, '정체': 4292, '뒷받침': 4293, '컴퓨터그래픽': 4294, '로나': 4295, '이익': 4296, '깃': 4297, '참혹하다': 4298, '조화롭다': 4299, '시즌': 4300, '퀄': 4301, '쌈': 4302, '영화음악': 4303, '선원': 4304, '능가': 4305, '션': 4306, '화기': 4307, '민족주의': 4308, '위상': 4309, '히트치다': 4310, '최근영': 4311, '후자': 4312, '엇으': 4313, '그지같다': 4314, '몸소': 4315, '주목': 4316, '안티': 4317, '몰두하다': 4318, '저만': 4319, '행위': 4320, '흐뭇하다': 4321, '공무원': 4322, '듣기': 4323, '구조': 4324, '헛': 4325, '전과': 4326, '행진': 4327, '자칭': 4328, '갈증': 4329, '외심': 4330, '하고프다': 4331, '수업': 4332, '부드럽다': 4333, '퓨전': 4334, '찮아다': 4335, '요리': 4336, '순식간': 4337, '장병': 4338, '게왜': 4339, '갈수': 4340, '네오': 4341, '과학': 4342, '값지다': 4343, '부실': 4344, '사연': 4345, '올바르다': 4346, '매번': 4347, '율': 4348, '점령': 4349, '적합하다': 4350, '시킴': 4351, '진수': 4352, '사자': 4353, '염려': 4354, '북': 4355, '쫓다': 4356, '병들다': 4357, '비주': 4358, '눈요기': 4359, '스페셜': 4360, '먹기': 4361, '치르다': 4362, '직': 4363, '극화': 4364, '차갑다': 4365, '좌': 4366, '실종': 4367, '함보': 4368, '정보': 4369, '더도': 4370, '이라기': 4371, '해결': 4372, '혹성탈출': 4373, '환호': 4374, 'ㅅㄲ': 4375, '셋': 4376, '외놈': 4377, '단합': 4378, '문득': 4379, '우릴': 4380, '입맛': 4381, '셧다': 4382, '자부': 4383, '왜장': 4384, '고도': 4385, '충전': 4386, '근엄하다': 4387, '경건하다': 4388, '일전': 4389, '결혼': 4390, '괜춘': 4391, '적의': 4392, '번뇌': 4393, '괴롭다': 4394, '칠하다': 4395, '닥추': 4396, '병': 4397, '눈살': 4398, '결과물': 4399, '음해': 4400, '보태': 4401, '밀': 4402, '도감': 4403, '소스': 4404, '매니아': 4405, '헛되': 4406, '세련되다': 4407, '날씨': 4408, '상대로': 4409, '객석': 4410, '민심': 4411, '현충사': 4412, '요요': 4413, '적진': 4414, '설마': 4415, '인터스텔라': 4416, '구멍': 4417, '일본말': 4418, '한나라': 4419, '꼬옥': 4420, '언니': 4421, '쪽발이': 4422, '육': 4423, '저기': 4424, '자시다': 4425, '분과': 4426, '인품': 4427, '쟁이': 4428, '박강': 4429, '스릴러': 4430, '벌렁벌렁': 4431, '가라앉다': 4432, '애니메이션': 4433, '개봉시': 4434, '요다음': 4435, '거림': 4436, '연기면': 4437, '작용': 4438, '짱짱하다': 4439, '오늘이': 4440, '극치': 4441, '독도': 4442, '빠리': 4443, '분산': 4444, '곁': 4445, '각심': 4446, '난뒤': 4447, '절용': 4448, '국회의원': 4449, '폼': 4450, '죽여주다': 4451, '절체절명': 4452, '빈': 4453, '횽': 4454, '에야': 4455, '심경': 4456, '우수하다': 4457, '비평가': 4458, '울음': 4459, '잦다': 4460, '하호': 4461, '쿨하다': 4462, '자잘하다': 4463, '드래곤길들이기': 4464, '맘속': 4465, '경악': 4466, '자만': 4467, '저글링': 4468, '어긋나다': 4469, '론데': 4470, '곧다': 4471, '커녕': 4472, '까먹다': 4473, '근성': 4474, '줫': 4475, 'ㅅㅂ': 4476, '귀하다': 4477, '특집': 4478, '이충무공': 4479, '개굿': 4480, '편승': 4481, '으아아': 4482, '꿈꾸다': 4483, '천하다': 4484, '장구': 4485, '사태': 4486, '사적': 4487, '둘이서': 4488, '정직하다': 4489, '하리': 4490, '원피스': 4491, '수식어': 4492, '작도': 4493, '찬란하다': 4494, '고로': 4495, '일제시대': 4496, '언젠가': 4497, '무과': 4498, '로고': 4499, '둘리': 4500, '루한': 4501, '이롭다': 4502, '표값': 4503, '가라': 4504, '백만이': 4505, '화폐': 4506, '아부지': 4507, '민식': 4508, '물량': 4509, '들끓다': 4510, '상술': 4511, '만요': 4512, '건드리다': 4513, '대기': 4514, '불안': 4515, '직원': 4516, '매너': 4517, '애가': 4518, '재밋게봣습니': 4519, '돋보다': 4520, '심혈': 4521, '봉준호': 4522, '헉': 4523, '장관': 4524, '삘': 4525, '미묘하다': 4526, '너프': 4527, '한치': 4528, '겨울': 4529, '김치': 4530, '발동': 4531, '도의': 4532, '그로': 4533, '귀감': 4534, '젠장': 4535, '연성': 4536, '무렵': 4537, '쩌네': 4538, '기갑': 4539, '시오': 4540, '쌓다': 4541, '리리': 4542, '선하다': 4543, '정세': 4544, '명절': 4545, '걸치다': 4546, '최신': 4547, '연상': 4548, '무거': 4549, '미우다': 4550, '덤덤하다': 4551, '칭': 4552, '다점': 4553, '일베': 4554, '부흥': 4555, '그다음': 4556, '넹': 4557, '전락': 4558, '마블': 4559, '시련': 4560, '각도': 4561, '걷다': 4562, '록': 4563, '타임머신': 4564, '무리다': 4565, '아이돌': 4566, '가격': 4567, '초이스': 4568, '꼭바': 4569, '기지': 4570, '케이스': 4571, '겟': 4572, '깁다': 4573, '요한': 4574, '박물관': 4575, '합심': 4576, '여태껏': 4577, '쏟아지다': 4578, '무덥다': 4579, '배움': 4580, '영화롭다': 4581, '훗날': 4582, '특선영화': 4583, '풍전등화': 4584, '뜨끔하다': 4585, '혀': 4586, '무너지다': 4587, '서적': 4588, '아무렇다': 4589, '길목': 4590, '승전': 4591, '수위': 4592, '못햇': 4593, '기상': 4594, '열망': 4595, '군신': 4596, '더더': 4597, '넘침': 4598, '하단': 4599, '몰래': 4600, '이구만': 4601, '매스컴': 4602, '민족성': 4603, '무얼': 4604, '수록': 4605, '엇네': 4606, '번영': 4607, '희망이': 4608, '괴리감': 4609, '금물': 4610, '사스': 4611, '실록': 4612, '정답': 4613, '멀쩡하다': 4614, '화도': 4615, '투성이': 4616, '때론': 4617, '뒤지다': 4618, '잼꿀잼': 4619, '루시': 4620, '낭': 4621, '합류': 4622, '댓': 4623, '소수': 4624, '중요시': 4625, '요추': 4626, '치트키': 4627, '무려': 4628, '데스': 4629, '이함': 4630, '진작': 4631, '해피엔딩': 4632, '달려가다': 4633, '지존': 4634, '은영': 4635, '웅담': 4636, '상업성': 4637, '인간성': 4638, '곳도': 4639, '어진': 4640, '옵니다': 4641, '조마조마하다': 4642, '앞세우다': 4643, '라기보다는': 4644, '맞선': 4645, '안쓰럽다': 4646, '위대': 4647, '흥분하다': 4648, '하정우': 4649, '상식': 4650, '세부': 4651, '가려지다': 4652, '반갑다': 4653, '메인': 4654, '전멸': 4655, '흉내': 4656, '폭탄': 4657, '조미료': 4658, '끄적': 4659, '기타': 4660, '이래저래': 4661, '깨끗하다': 4662, '건대': 4663, '답지': 4664, '상임': 4665, '생일': 4666, '반지': 4667, '제왕': 4668, '거북': 4669, '명중': 4670, '이야말로': 4671, '눈물샘': 4672, '평정': 4673, '요점': 4674, '헛점': 4675, '추진': 4676, '맥락': 4677, '정밀': 4678, '갱신': 4679, '기세': 4680, '유쾌': 4681, '만석': 4682, '다우': 4683, '잡아내다': 4684, '에혀': 4685, '김훈': 4686, '전선': 4687, '큰일': 4688, '만가': 4689, '사무라이': 4690, '말고도': 4691, '짊어지': 4692, '미숙': 4693, '서너': 4694, '괜찬': 4695, '니나': 4696, '흡사': 4697, '난국': 4698, '어머': 4699, '플레이': 4700, '서사': 4701, '퍼': 4702, '전적': 4703, '일베충': 4704, '지기': 4705, '이듬': 4706, '승준': 4707, '조류': 4708, '강강술래': 4709, '듯해': 4710, '침묵': 4711, '뭉클뭉클': 4712, '일부분': 4713, '조폭': 4714, '무서움': 4715, '미터': 4716, '디스': 4717, '동네': 4718, '성인': 4719, '고르다': 4720, '보심': 4721, '정치가': 4722, '이점': 4723, '출중하다': 4724, '바랬': 4725, '부산': 4726, '호국': 4727, '잘맞다': 4728, '솟구치다': 4729, '앞서다': 4730, '마구': 4731, '기보': 4732, '수두': 4733, '땡기다': 4734, '함부로': 4735, '쪼끔': 4736, '잇엇음': 4737, '먹음': 4738, '작정': 4739, '개입': 4740, '원통': 4741, '한국어': 4742, '오전': 4743, '밀고': 4744, '이성': 4745, '진가': 4746, '양반': 4747, '약점': 4748, '오래되다': 4749, '수상': 4750, '하여튼': 4751, '나소': 4752, '두근': 4753, '묘미': 4754, '한껏': 4755, '아이언맨': 4756, '개간': 4757, '대규모': 4758, '막바지': 4759, '다이나믹': 4760, '잔혹하다': 4761, '성향': 4762, '사망': 4763, '뜰': 4764, '최종': 4765, '저급하다': 4766, '다모': 4767, '신호': 4768, '십분': 4769, '야합': 4770, '댜': 4771, '물음': 4772, '간략하다': 4773, '굿잼': 4774, '종종': 4775, '튀어나오다': 4776, '길어지다': 4777, '가산': 4778, '결의': 4779, '강사': 4780, '일방': 4781, '주시': 4782, '닳다': 4783, '유관순': 4784, '사지': 4785, '더니': 4786, '신기전': 4787, '좁다': 4788, '잘해주다': 4789, '회사': 4790, '뭉치': 4791, '구리': 4792, '기능': 4793, '진짜꿀': 4794, '잊어버리다': 4795, '싫어지다': 4796, '무마': 4797, '주역': 4798, '백의종군': 4799, '돈벌이': 4800, '장수로': 4801, '투혼': 4802, '고전': 4803, '백성은': 4804, '대립': 4805, '흠뻑': 4806, '지심': 4807, '름': 4808, '척도': 4809, '이세': 4810, '일본만화': 4811, '황': 4812, '이처럼': 4813, '몸짓': 4814, '예의': 4815, '공존': 4816, '노리다': 4817, '무릎': 4818, '충무': 4819, '고함': 4820, '쾌속': 4821, '날뻔': 4822, '가관': 4823, '어쩜': 4824, '넌': 4825, '승룡': 4826, '귀신': 4827, '비로소': 4828, '낌': 4829, '타이타닉': 4830, '성찰': 4831, '더라도': 4832, '과자': 4833, '섭외': 4834, '화질': 4835, '케이블': 4836, '나하': 4837, '축복': 4838, '흥해': 4839, '고정': 4840, '류성룡': 4841, '가차': 4842, '타고나다': 4843, '알맞다': 4844, '후후': 4845, '빵': 4846, '뻥뻥': 4847, '번보': 4848, '대리': 4849, '통솔력': 4850, '고백': 4851, '왕의남자': 4852, '덕이': 4853, '돌풍': 4854, '밀도': 4855, '휘감다': 4856, '베테': 4857, '세태': 4858, '슬로모션': 4859, '이그': 4860, '피터지다': 4861, '천지': 4862, '사방': 4863, '판타지영화': 4864, '이러니': 4865, '덧붙이다': 4866, '내보내다': 4867, '뭉치다': 4868, '유난히': 4869, '멍텅': 4870, '박자': 4871, '심오하다': 4872, '꿀잠': 4873, '지도력': 4874, '아이고': 4875, '시민': 4876, '굴': 4877, '세심': 4878, '난생처음': 4879, '빅': 4880, '플': 4881, '으로의': 4882, '갚다': 4883, '재능': 4884, '안일하다': 4885, '물러나다': 4886, '상관': 4887, '예상외': 4888, '찾아오다': 4889, '이글': 4890, '한여운': 4891, '라라': 4892, '서운하다': 4893, '재밋다길': 4894, '투지': 4895, '밋게잘봣': 4896, '견디다': 4897, '정심': 4898, '어그': 4899, '토리': 4900, '동화': 4901, '네네': 4902, '컴터': 4903, '오싹하다': 4904, '한여름': 4905, '잠도': 4906, '날림': 4907, '패치': 4908, '이참': 4909, '마누라': 4910, '자빠지다': 4911, '시원시원하다': 4912, '자라다': 4913, '백퍼': 4914, '부제': 4915, '수의': 4916, '거중': 4917, '극단': 4918, '순인': 4919, '잣': 4920, '목표': 4921, '깨알': 4922, '흐흐': 4923, '스킬': 4924, '아보': 4925, '화판': 4926, '명예': 4927, '군함': 4928, '장궁': 4929, '었음': 4930, '국적': 4931, '거렸': 4932, '불어': 4933, '오만원': 4934, '폭파': 4935, '나부랭이': 4936, '함정': 4937, '갈리': 4938, '크나크다': 4939, '녀석': 4940, '크으': 4941, '이듭': 4942, '릴': 4943, '울먹거리다': 4944, '치욕': 4945, '우이': 4946, '전전': 4947, '귯': 4948, '우리말': 4949, '바닥': 4950, '고우리': 4951, '간직': 4952, '빡': 4953, '뚝심': 4954, '모시다': 4955, '아낌없이': 4956, '질감': 4957, '연출자': 4958, '대륙': 4959, '쌍욕': 4960, '씻다': 4961, '신들': 4962, '광장': 4963, '무언': 4964, '리다': 4965, '볼걸': 4966, '단계': 4967, '사나이': 4968, '지속': 4969, '이병헌': 4970, '뻥튀기': 4971, '바닷물': 4972, '매년': 4973, '눈뜨다': 4974, '서인': 4975, '버금': 4976, '물러서다': 4977, '독식': 4978, '일수록': 4979, '알기': 4980, '얕다': 4981, '육지': 4982, '상실': 4983, '위정': 4984, '딛다': 4985, '소식': 4986, '과소': 4987, '개돼지': 4988, '구려': 4989, '두드리다': 4990, '사투': 4991, '난생': 4992, '빌다': 4993, '활활': 4994, '답습': 4995, '청년': 4996, '아라하': 4997, 'ㅇㅇㅇㅇ': 4998, '에서야': 4999, '바지': 5000, '재주': 5001, 'ㅕ': 5002, '블럭버스터': 5003, '어쩌나': 5004, '웅': 5005, '만화영화': 5006, '시대극': 5007, '어유': 5008, '일기': 5009, '취하': 5010, '복': 5011, '소탕': 5012, '혈': 5013, '세키부네': 5014, '부자': 5015, '겸비': 5016, '욬': 5017, '통영': 5018, '욕구': 5019, '감초': 5020, '토나오다': 5021, '여가': 5022, '됏': 5023, '틱': 5024, '계시': 5025, '아따': 5026, '구루': 5027, '시마': 5028, '되살리다': 5029, '재밋어용': 5030, '인천': 5031, '방울': 5032, '선의': 5033, '고집': 5034, '별다르다': 5035, '용용': 5036, '재미잇엇어': 5037, '막무가내': 5038, '빠져나오다': 5039, '하든': 5040, '허구성': 5041, '진출': 5042, '돌려주다': 5043, '온건': 5044, '장시간': 5045, '교육영화': 5046, '집사람': 5047, '밨': 5048, '환생': 5049, '공직자': 5050, '사리': 5051, '북한': 5052, '불신': 5053, '캐다': 5054, '사람인': 5055, '수전': 5056, '애정': 5057, '바다로': 5058, '올레': 5059, '주무시다': 5060, '여겨지다': 5061, '롯': 5062, '나들이': 5063, '왕도': 5064, '개관': 5065, '불사조': 5066, '집시': 5067, '입부': 5068, '식히다': 5069, '피식': 5070, 'ㅜㅡ': 5071, '망치': 5072, '외곡': 5073, '초월': 5074, '킹': 5075, '라이': 5076, '지면': 5077, '깊숙하다': 5078, '대처': 5079, '공신': 5080, '라그': 5081, '았음': 5082, '무거워': 5083, '영등포': 5084, '감회': 5085, '께선': 5086, '평온하다': 5087, '마찬가지': 5088, '은감': 5089, '참나': 5090, '연신': 5091, '가신': 5092, '가수': 5093, '징비록': 5094, '온통': 5095, '다스리다': 5096, '야말로': 5097, '매일': 5098, '만으로는': 5099, '후벼파다': 5100, '장비': 5101, '악플': 5102, '정독': 5103, '선도': 5104, '투후': 5105, '리라': 5106, '심해': 5107, '헌': 5108, '로그': 5109, '제시': 5110, '우기다': 5111, '어쩌다': 5112, '단언': 5113, '하므다': 5114, '귀엽다': 5115, '뿌듯': 5116, '금전': 5117, '선장': 5118, '엇갈리다': 5119, '궁': 5120, '환희': 5121, '사죄': 5122, '닭': 5123, '분다': 5124, '외적인': 5125, '년층': 5126, '짜릿': 5127, '어떡하다': 5128, '설날': 5129, '낮': 5130, '시늉': 5131, '거북하다': 5132, '개쩌': 5133, '밟다': 5134, '움직': 5135, '임밸류': 5136, '추앙': 5137, '삼국지': 5138, '우아': 5139, '인사': 5140, '상처': 5141, '무더위': 5142, '토론': 5143, '승화': 5144, '클리셰': 5145, '명과': 5146, '규': 5147, '여론몰이': 5148, '마련': 5149, '애잔하다': 5150, '찾아가다': 5151, '데이': 5152, '꾹': 5153, '잔소리': 5154, '열도': 5155, '다완': 5156, '만치': 5157, '까지만': 5158, '오우': 5159, '손잡다': 5160, '무사': 5161, '독특하다': 5162, '먹고살다': 5163, '도고': 5164, '신급': 5165, '전제': 5166, '윗': 5167, '쿠루': 5168, '환타지': 5169, '널': 5170, '고가': 5171, '와나': 5172, '부진하다': 5173, '주민': 5174, '악당': 5175, '꼭보': 5176, '똑같이': 5177, '갸우뚱': 5178, '배경음': 5179, '무협': 5180, '눈높이': 5181, '헤어': 5182, '지껄이다': 5183, '뚱뚱하다': 5184, '싸': 5185, '굿임': 5186, '부럽다': 5187, '주제가': 5188, '내년': 5189, '하루하루': 5190, '일치': 5191, '인정받다': 5192, '빈틈': 5193, '런닝': 5194, '이런저런': 5195, '존멋': 5196, '추억': 5197, '확실': 5198, '주르륵': 5199, '박인영': 5200, '리오': 5201, '꼼꼼하다': 5202, '박정희': 5203, '감탄사': 5204, '성적': 5205, '얼다': 5206, '관우': 5207, '감소': 5208, '무니': 5209, '삶다': 5210, '유행': 5211, '달인': 5212, '말기': 5213, '삼박자': 5214, '구림': 5215, '그러니까': 5216, '참되다': 5217, '흡수': 5218, '탄도': 5219, '자아': 5220, '심쿵': 5221, '조명하': 5222, '원망': 5223, '각하': 5224, '내겐': 5225, '슈퍼맨': 5226, '게뭐': 5227, '성함': 5228, '판치다': 5229, '지그': 5230, '가도': 5231, '심플': 5232, '구절': 5233, '놀': 5234, '한수': 5235, '흡사하다': 5236, '쳣': 5237, '향연': 5238, '끌어내리다': 5239, '알맹이': 5240, '가만히': 5241, '라나': 5242, '검증': 5243, '윈': 5244, '구매': 5245, '임꼭': 5246, '우기': 5247, '일주일': 5248, '개인주의': 5249, '방영': 5250, '겉멋': 5251, '불사': 5252, '군요': 5253, '상징': 5254, '비참하다': 5255, '건강하다': 5256, '정교하다': 5257, '랴': 5258, '발생': 5259, '잔인': 5260, '시체': 5261, '느꼇던': 5262, '엑스맨': 5263, '일찍': 5264, '도통': 5265, '일조': 5266, '화공': 5267, '외다': 5268, '압권임': 5269, '텔레파시': 5270, '연예인': 5271, '복받치다': 5272, '참수': 5273, '인자': 5274, '다려지다': 5275, '배밑': 5276, '결': 5277, '와중': 5278, '복장': 5279, '만행': 5280, '무조': 5281, '함축': 5282, '지로': 5283, '채운': 5284, '호강': 5285, '실천': 5286, '타입': 5287, '클레멘타인': 5288, '개이득': 5289, '압축': 5290, '축소': 5291, '나기': 5292, '육탄': 5293, '궁금': 5294, '해류': 5295, '시청': 5296, '에러': 5297, '무색': 5298, '풍': 5299, '사공': 5300, '껄': 5301, '본전': 5302, '지점': 5303, '가져오다': 5304, '분전': 5305, '가뿐하다': 5306, '엏': 5307, '재밋진': 5308, '두드러지다': 5309, '신짱': 5310, '까다롭다': 5311, '가디언': 5312, '점줄': 5313, '재밋엇음': 5314, '시가': 5315, '변기': 5316, '불가하다': 5317, '꼽는': 5318, '묶다': 5319, '강하': 5320, '년놈': 5321, '차려': 5322, '자존심': 5323, '시너지': 5324, '저걸': 5325, '고루': 5326, '여야': 5327, '활때': 5328, '예수': 5329, '제도': 5330, '기량': 5331, '등급': 5332, '항': 5333, '무덤': 5334, '비아': 5335, '질투': 5336, '상남자': 5337, '감속': 5338, '초도': 5339, '주된': 5340, '임전': 5341, '지라': 5342, '올라타다': 5343, '미달': 5344, '람': 5345, '비율': 5346, '사진': 5347, '본래': 5348, '선호': 5349, '국회': 5350, '다행하다': 5351, '균형': 5352, '지하': 5353, '동반': 5354, '에게로': 5355, '콜라': 5356, '버스': 5357, '출발': 5358, '허리': 5359, '척배': 5360, '담하다': 5361, '텐션': 5362, '지침': 5363, '상당': 5364, '인증': 5365, '무쌍': 5366, '거가': 5367, '대본': 5368, '자리다': 5369, '썻으': 5370, '멋찌': 5371, '섞다': 5372, '영화평론': 5373, '당분간': 5374, 'ㅏㅇ': 5375, '호칭': 5376, '걱': 5377, '한창': 5378, '원주고': 5379, '사내': 5380, '줄어들다': 5381, '사심': 5382, '분노하다': 5383, '계획': 5384, '칭송': 5385, '고상하다': 5386, '일반병사': 5387, '이효리': 5388, '자진': 5389, '섬멸': 5390, '꼬이다': 5391, '땀쥐': 5392, '이이': 5393, '별별': 5394, '국보': 5395, '접함': 5396, '볼바': 5397, '빨갱이': 5398, '쪼매': 5399, '이심': 5400, '행복': 5401, '덩': 5402, '콘텐츠': 5403, '허망': 5404, '승자': 5405, '제작자': 5406, '저번': 5407, '당일': 5408, '취지': 5409, '수호': 5410, '꽂히다': 5411, '아악': 5412, '고온': 5413, '도리': 5414, '켜': 5415, '발성': 5416, '서글프다': 5417, '우여곡절': 5418, 'ㅇㅏ': 5419, '바랬다': 5420, '에어컨': 5421, '요흥': 5422, '필름': 5423, '싱크로': 5424, '경외감': 5425, 'ㅎㅎㅋㅋ': 5426, '지구': 5427, '복수': 5428, '밋엇어': 5429, '입술': 5430, '학살': 5431, '파급': 5432, '노인': 5433, '투척': 5434, '짬뽕': 5435, '투표': 5436, '보로': 5437, '랍니': 5438, '다그치다': 5439, '가식': 5440, '쏠때': 5441, '영감': 5442, '아이아이': 5443, '독보': 5444, '전무': 5445, '품': 5446, '시골': 5447, '국민성': 5448, '특출나다': 5449, '지니다': 5450, '치부': 5451, '시부모': 5452, '고인': 5453, '백전백승': 5454, '딱딱하다': 5455, '불과': 5456, '커다랗다': 5457, '전인': 5458, '도약': 5459, '사정거리': 5460, '진장': 5461, '숟가락': 5462, '상쇄': 5463, '개선': 5464, '엄': 5465, '실현': 5466, '통찰': 5467, '위함': 5468, '차이점': 5469, '홀': 5470, '꿈틀': 5471, '행세': 5472, '쫄깃쫄깃': 5473, '등장씬': 5474, '블록': 5475, '바른': 5476, '강직': 5477, '따분': 5478, '참말': 5479, '흘렷다': 5480, '스치다': 5481, '물음표': 5482, '김시민': 5483, '권선': 5484, '롤모델': 5485, '견인': 5486, '용의': 5487, '시피': 5488, '밌': 5489, '어중간하다': 5490, '자꾸만': 5491, '앞줄': 5492, '의사': 5493, '영활': 5494, '회원': 5495, '버러지': 5496, '당한': 5497, '미디어': 5498, '든든하다': 5499, '에두': 5500, '발끝': 5501, '내려오다': 5502, '출장': 5503, '문제점': 5504, '차이나다': 5505, '직하다': 5506, '살신성인': 5507, '개별': 5508, '보도': 5509, '수상한': 5510, '무료': 5511, '밋밋': 5512, '안시성': 5513, '경기': 5514, '만날': 5515, '지독하다': 5516, '완존': 5517, '가사': 5518, '사대주의': 5519, '귿': 5520, '에서까지': 5521, '거제': 5522, '어질다': 5523, '숭상': 5524, '곁가지': 5525, '분하다': 5526, 'ㅠㅠㅜ': 5527, '비용': 5528, '최정': 5529, '식민지': 5530, '유식': 5531, '이수신': 5532, '애환': 5533, '계략': 5534, '고만하다': 5535, '원칙': 5536, '치도': 5537, '염산': 5538, '화구': 5539, '안달': 5540, '이라기보단': 5541, '발사': 5542, '다다다': 5543, '고치다': 5544, '볼륨': 5545, '조이다': 5546, '보고또보고': 5547, '가게': 5548, 'ㅠㅜㅜ': 5549, '열등감': 5550, '대놓고': 5551, '저쩌': 5552, '묵다': 5553, '우연히': 5554, '룰': 5555, '철철': 5556, '가두다': 5557, '어부': 5558, '죄책감': 5559, '시달리다': 5560, '족': 5561, '조잡': 5562, '견제': 5563, '본선': 5564, '본분': 5565, '대애': 5566, '김영민': 5567, '유일': 5568, '꼬맹이': 5569, '준수': 5570, '가문': 5571, '겨를': 5572, '미아': 5573, '합리': 5574, '덕후': 5575, '크크': 5576, '으로라도': 5577, '행인': 5578, '일리': 5579, '탁': 5580, '트이다': 5581, '맴돌다': 5582, '실재': 5583, '잘쓰다': 5584, '증거': 5585, '코스프레': 5586, '필요성': 5587, '주입': 5588, '빗나가다': 5589, '거룩하다': 5590, '커플': 5591, '득': 5592, '대강': 5593, '차서': 5594, '만으론': 5595, '방대하다': 5596, '레벨': 5597, 'ㅜㅠㅠ': 5598, '상해': 5599, '구걸': 5600, '누나': 5601, 'ㅅㄱ': 5602, '케리': 5603, '소린': 5604, '리듬': 5605, '슬슬': 5606, '머싯': 5607, '흘러내리다': 5608, '더빙': 5609, '뼛속': 5610, '보탬': 5611, '쉬리': 5612, '멋쟁이': 5613, '거란': 5614, '창작': 5615, '연화': 5616, '시간대': 5617, '어여': 5618, '간격': 5619, '영관': 5620, '급작': 5621, '적중': 5622, '일분': 5623, '펑': 5624, '오디오': 5625, '칸': 5626, '찰': 5627, '실리다': 5628, '역점': 5629, '씬들': 5630, '살펴보다': 5631, '이틀': 5632, '용해': 5633, '쏙쏙': 5634, '아앙': 5635, '보조': 5636, '임기응변': 5637, '이배': 5638, '또볼': 5639, '사먹다': 5640, '출연료': 5641, '못함': 5642, '간반': 5643, '다시없다': 5644, '욯': 5645, '무작정': 5646, '논픽션': 5647, '무성': 5648, '주가': 5649, '익': 5650, '반문': 5651, '불안하다': 5652, '드래곤': 5653, '컴': 5654, '꼬집다': 5655, '지엄': 5656, '폭': 5657, '위압': 5658, '세력': 5659, '이기대': 5660, '거뜬하다': 5661, '옥에티': 5662, '버스터': 5663, '찍어내다': 5664, '중아': 5665, '빠져듬': 5666, '쿵쾅거리다': 5667, '한바탕': 5668, '형언': 5669, '먼지': 5670, '간정': 5671, '다년': 5672, '젬': 5673, '억양': 5674, '우상화': 5675, '맏': 5676, '이기주의': 5677, '개조': 5678, '나진': 5679, '귀로': 5680, '깔리다': 5681, '불통': 5682, '고합': 5683, '예능': 5684, '숩': 5685, '신소재': 5686, '왓으': 5687, '수익': 5688, '마구마구': 5689, '입각': 5690, '런': 5691, '독': 5692, '노릇': 5693, '장수도': 5694, '앤드': 5695, '이슌신': 5696, '대형': 5697, '병력': 5698, '갑갑하다': 5699, '불쌍': 5700, '뜯다': 5701, '맴': 5702, '토끼': 5703, '보급': 5704, '사가': 5705, '환영': 5706, '대국민': 5707, '돼지': 5708, '네러티브': 5709, '감수': 5710, '쏠리다': 5711, '미만': 5712, '파서': 5713, '번만': 5714, '생명': 5715, '범위': 5716, '재탄생': 5717, '먼치킨': 5718, '아이템': 5719, '부풀다': 5720, '병맛': 5721, '그녀': 5722, '부시다': 5723, '포전': 5724, '중단': 5725, '뿐더러': 5726, '낭비하다': 5727, '관해': 5728, '탕': 5729, '시리': 5730, '발상': 5731, '베댓': 5732, '책략': 5733, '대도': 5734, '튀기다': 5735, '신기': 5736, '찌릿': 5737, '미안': 5738, '사라': 5739, '롬': 5740, '화만': 5741, '앞장서다': 5742, '정권': 5743, '약해지다': 5744, '울먹이다': 5745, '고위': 5746, '건전': 5747, '집념': 5748, '꾸욱': 5749, '어케': 5750, '구먼': 5751, '리스': 5752, '정도영': 5753, '호화': 5754, '낯': 5755, '만만': 5756, '자금': 5757, '자로': 5758, '왜냐면': 5759, '짤막하다': 5760, '기업': 5761, '랬': 5762, '먀': 5763, '대학생': 5764, '돈좀': 5765, '마침': 5766, '노출': 5767, '약자': 5768, '꼽으라': 5769, '연습': 5770, '장식': 5771, '쿵쿵': 5772, '감옥': 5773, '십만원': 5774, '절명': 5775, '떨치다': 5776, '설국열차': 5777, '쪼개다': 5778, '책보': 5779, '쾅쾅': 5780, '섹시하다': 5781, '부연': 5782, '때메': 5783, '비열하다': 5784, '지대': 5785, '전날': 5786, '언능': 5787, '조각': 5788, '들이키다': 5789, '어딘': 5790, '초기': 5791, '산이': 5792, '퍼펙트': 5793, '충돌': 5794, '나선': 5795, '동기부여': 5796, '꼭볼': 5797, '망정': 5798, '듬직하다': 5799, '에서부터': 5800, '임진': 5801, '누리': 5802, '굿재': 5803, '밋다재밋': 5804, '재해': 5805, '늙다': 5806, '가능성': 5807, '갈릴': 5808, '아련하다': 5809, '그루지': 5810, '는가': 5811, '수능': 5812, '겁쟁이': 5813, '파로': 5814, '비쥬': 5815, '일체': 5816, '문장': 5817, '인류': 5818, '허큘리스': 5819, '아닐런': 5820, '동요': 5821, '구경만': 5822, '파괴': 5823, '끈기': 5824, '후유증': 5825, '말미': 5826, '유리하다': 5827, '왜점': 5828, '나잘하다': 5829, '바인': 5830, '소용': 5831, '개강': 5832, '쇠줄': 5833, '당혹스럽다': 5834, '템포': 5835, '농민': 5836, '게속': 5837, '용구성': 5838, 'ㅓㅆ': 5839, '막막하다': 5840, '다인': 5841, '대변': 5842, '촉': 5843, '담대하다': 5844, '태운': 5845, '개월': 5846, '황진': 5847, '시지': 5848, '지망': 5849, '호도': 5850, '쟈밌': 5851, '한영': 5852, '음으로': 5853, '표본': 5854, '값어치': 5855, '시원시원': 5856, '엄격하다': 5857, '퓨리': 5858, '진보': 5859, '치사량': 5860, '오래전': 5861, '더욱이': 5862, '이지스함': 5863, '우연': 5864, '멘타리': 5865, 'ㅍ': 5866, '밨습니': 5867, '최고봉': 5868, '에바': 5869, '교사': 5870, '입대': 5871, '앤': 5872, '보증': 5873, '듭': 5874, '야간': 5875, '천하': 5876, '앞바다': 5877, '미미하다': 5878, '공식': 5879, '불평': 5880, '호쾌': 5881, '공원': 5882, '중계': 5883, '비정상': 5884, '른': 5885, '계심': 5886, '피료': 5887, '음슴다': 5888, '갈구다': 5889, '할애': 5890, '대대로': 5891, '툭툭': 5892, '선방': 5893, '오점': 5894, '인제': 5895, '다듬다': 5896, '굿구': 5897, '팀': 5898, '방황': 5899, '들러리': 5900, '통일': 5901, '권장': 5902, '구수': 5903, '구구구': 5904, '노련하다': 5905, '어가': 5906, '전후': 5907, '서서히': 5908, '포위': 5909, '세월': 5910, '마치다': 5911, '한눈': 5912, '훌룡': 5913, '안내': 5914, '엇을': 5915, '장국': 5916, '벌렁': 5917, '빠돌이': 5918, '재림': 5919, '저가': 5920, '허무맹랑': 5921, '말리다': 5922, '소홀하다': 5923, '시스템': 5924, '수다': 5925, '팽배': 5926, '어필': 5927, '관성': 5928, '불쾌하다': 5929, '비웃다': 5930, '연휴': 5931, '호호': 5932, '놨': 5933, '마직막': 5934, '오합지졸': 5935, '수선': 5936, '담배': 5937, '출근': 5938, '엔드게임': 5939, '웠': 5940, '수박': 5941, '참사': 5942, '윰': 5943, '뒤로': 5944, '외한': 5945, '명쾌하다': 5946, '시르다': 5947, '라든지': 5948, '최하': 5949, '구성면': 5950, '송구': 5951, '짓거리': 5952, '절벽': 5953, '싱겁다': 5954, '군복': 5955, '스무': 5956, '이러쿵저러쿵': 5957, 'ㅜㅡㅜ': 5958, '또보': 5959, '침착하다': 5960, '국수': 5961, '병기': 5962, '뚝': 5963, '맡기다': 5964, '동경': 5965, '메이': 5966, '임신': 5967, '영향력': 5968, '원거리': 5969, '다난': 5970, '장안': 5971, '거도': 5972, '치유': 5973, '중고생': 5974, '선지': 5975, '저지르다': 5976, '돌진': 5977, '잘나가다': 5978, '애인': 5979, '너므': 5980, '연결고리': 5981, '실전': 5982, '익사': 5983, '꾸리': 5984, '뗏목': 5985, '맨손': 5986, '부들': 5987, '벌벌': 5988, '떤다': 5989, '펄럭이다': 5990, '라다': 5991, '위험하다': 5992, '햇으': 5993, '위국': 5994, '공허하다': 5995, '올린다': 5996, '독목': 5997, '바리': 5998, '오시': 5999, '도망': 6000, '이득': 6001, '줄곧': 6002, '산만': 6003, '장사치': 6004, '깜빡': 6005, '냄새': 6006, '걸어가다': 6007, '이정재': 6008, '깜박': 6009, '칭하': 6010, '미약': 6011, '막내': 6012, '나대용': 6013, '문안': 6014, '미비하다': 6015, '중압감': 6016, '금도': 6017, '호감': 6018, '케미': 6019, '이건정': 6020, '우스': 6021, '따라잡다': 6022, '종말': 6023, '눈꼽': 6024, '드릴': 6025, '귀선': 6026, '오케스트라': 6027, '테마': 6028, '소드': 6029, '쫘악': 6030, '개망작': 6031, '타투': 6032, '결심': 6033, '용산': 6034, '야호': 6035, '고무': 6036, '진미': 6037, '찬란': 6038, '꿇다': 6039, '야만': 6040, '백전': 6041, '만이라도': 6042, '스포츠': 6043, '냠냠': 6044, '과분': 6045, '대물': 6046, '해병대': 6047, '박찬욱': 6048, '아가씨': 6049, '더럽히다': 6050, '빼앗기다': 6051, '진쨔': 6052, '이왕': 6053, '번지르르': 6054, '중학교': 6055, '살라': 6056, '뒷모습': 6057, '산드라': 6058, '밀당': 6059, '에드': 6060, '경제': 6061, '단기간': 6062, '엄슴': 6063, '인원': 6064, '오묘하다': 6065, '난리치다': 6066, '디게': 6067, '단위': 6068, '문과': 6069, '그러기에': 6070, '다예': 6071, '줄기': 6072, '소망': 6073, '앗다': 6074, '정해지다': 6075, '신민아': 6076, '오락가락': 6077, '무공': 6078, '군주': 6079, '총사': 6080, '자격증': 6081, '긁다': 6082, '가점': 6083, '분통': 6084, '이의': 6085, '초토화': 6086, '그을': 6087, '덕택': 6088, '화끈': 6089, '가해': 6090, '끝임': 6091, '각박하다': 6092, '탠데': 6093, '외우다': 6094, '중인': 6095, '노골': 6096, '나위': 6097, '꼬투리': 6098, '삼은': 6099, '이십분': 6100, '날로': 6101, '백점만점': 6102, '남짓하다': 6103, '놓이다': 6104, '가치관': 6105, '음량': 6106, '국난': 6107, '루아': 6108, '더디다': 6109, '펄럭': 6110, '청춘': 6111, '일꾼': 6112, '짱재밋음': 6113, '점유': 6114, '흥해랏': 6115, '택': 6116, '박아': 6117, '명칭': 6118, '맥주': 6119, '참가': 6120, '다루어지다': 6121, '꽉꽉': 6122, '어쩌고저쩌고': 6123, '피꺼솟': 6124, '랍시고': 6125, '톡톡하다': 6126, '판이': 6127, '뱅뱅': 6128, '서브스토리': 6129, '만배': 6130, '갑임': 6131, '토크': 6132, '강동': 6133, '이또': 6134, '현세': 6135, '리즈': 6136, '골리앗': 6137, '순천': 6138, '가압': 6139, '은부': 6140, '집착': 6141, '감상문': 6142, '햐': 6143, '닺': 6144, '개수': 6145, '나이스': 6146, '조리': 6147, '더구나': 6148, '이건영': 6149, '자루': 6150, '졸뻔': 6151, '쪼': 6152, 'ㄱㅊ': 6153, '라기보단': 6154, '걸이': 6155, '자만하다': 6156, '사례': 6157, '엉엉': 6158, '전임': 6159, '과를': 6160, '한가득': 6161, '후지': 6162, '각종': 6163, '뽕짝': 6164, '효도': 6165, '설치': 6166, '허탈하다': 6167, '릴수': 6168, '아낙네': 6169, 'ㅠㅜㅠ': 6170, '못자다': 6171, '서비스': 6172, '강당': 6173, '고국': 6174, '느그': 6175, '꽁': 6176, '장님': 6177, '알반': 6178, '불끈불끈': 6179, '억해': 6180, '특수성': 6181, '절재': 6182, '동방불패': 6183, '고저': 6184, '힝': 6185, '까메오': 6186, '동이': 6187, '머시': 6188, '정자': 6189, '거구': 6190, '판타스틱': 6191, '자라나다': 6192, '멜로': 6193, '현충일': 6194, '거보': 6195, '갠차다': 6196, '빠뜨리다': 6197, '격투': 6198, '정망': 6199, '사람과': 6200, '완전재밋': 6201, '스코어': 6202, '언어': 6203, '여윤': 6204, '고등학교': 6205, '기네': 6206, '명함': 6207, '정사': 6208, '범': 6209, '외모': 6210, '하디': 6211, '찌릿찌릿': 6212, '스토': 6213, '대응': 6214, '렷': 6215, '휴대폰': 6216, '모자': 6217, '덩어리': 6218, '공장': 6219, '명분': 6220, '현저': 6221, '광구': 6222, '껍': 6223, '도둑': 6224, '연일': 6225, '누리꾼': 6226, '터리': 6227, '꼴리다': 6228, '내다보다': 6229, '마게': 6230, '빗대다': 6231, '선보이다': 6232, '포로': 6233, '배고프다': 6234, '꿀꿀': 6235, '산전수전': 6236, '알바인': 6237, '곸': 6238, '스탭들': 6239, '멀미': 6240, '땜시': 6241, '시라': 6242, '광기': 6243, '거만': 6244, '적막': 6245, '전만': 6246, '햇습': 6247, '호남': 6248, '그레이': 6249, '오열연기': 6250, '악의': 6251, '수시로': 6252, '뮤비': 6253, '부문': 6254, '화려': 6255, '원망하다': 6256, '라든가': 6257, '저하': 6258, '패전': 6259, '해진': 6260, '암만': 6261, '안드': 6262, '서구': 6263, '다양성': 6264, '국가대표': 6265, '주저': 6266, '덩달아': 6267, '대개': 6268, '궂': 6269, '둘러보다': 6270, '의조': 6271, '내심': 6272, '민망': 6273, '염두': 6274, '제거': 6275, '자도': 6276, '보보': 6277, '성품': 6278, '껍데기': 6279, '꾸밈': 6280, '거북이': 6281, '제약': 6282, '마나': 6283, '촬영기': 6284, '법도': 6285, '의거': 6286, '우월감': 6287, '추상': 6288, '이뤄지다': 6289, '댕강': 6290, '갈아입다': 6291, '아이맥스': 6292, '격꾼들': 6293, '국내외': 6294, '막론': 6295, '트리': 6296, '전역': 6297, '건아': 6298, 'ㅓㄴ': 6299, '해기': 6300, '웟습': 6301, '진부': 6302, '모하': 6303, '왈가': 6304, '왈부': 6305, '나아지다': 6306, '지영': 6307, '탄약': 6308, '나즈': 6309, '노무현': 6310, '땅위': 6311, '알고싶다': 6312, '특기': 6313, '림': 6314, '재밋었': 6315, '활동': 6316, '서프라이즈': 6317, '초조하다': 6318, '제하': 6319, '은나라': 6320, '주의자': 6321, '같잖다': 6322, '에지': 6323, '취했다': 6324, '진창': 6325, '오른': 6326, '찌질하다': 6327, '로치': 6328, '초고': 6329, '겻': 6330, '아찔하다': 6331, '휩싸이다': 6332, '격렬하다': 6333, '란말': 6334, '어우': 6335, '이해력': 6336, '서리': 6337, '치자': 6338, '바퀴': 6339, '래미': 6340, '유치원': 6341, '향수': 6342, '스킵': 6343, '렸': 6344, '유아': 6345, '삶속': 6346, '저었던': 6347, '대답': 6348, '살인': 6349, '과묵': 6350, '낮아지다': 6351, '우루루': 6352, '세계사': 6353, '안드로메다': 6354, '아닥': 6355, '두텁다': 6356, '밋다재밋다재밋': 6357, '대미': 6358, '여배우': 6359, '수년': 6360, '이어진': 6361, '답니': 6362, '존중': 6363, '분열': 6364, '따먹다': 6365, '홀딱': 6366, '조선왕조': 6367, '기초': 6368, '회피': 6369, '노량진': 6370, '오가다': 6371, '시리다': 6372, '회의': 6373, '딴말': 6374, '단시간': 6375, '새로이': 6376, '기함': 6377, '마이': 6378, '잡지': 6379, '으로서도': 6380, '불리': 6381, '제법': 6382, '난적': 6383, '됴': 6384, '배드': 6385, '갈기': 6386, '기우': 6387, '메가폰': 6388, '간과': 6389, '마구잡이': 6390, '확고하다': 6391, '펑점': 6392, '천해': 6393, '러브스토리': 6394, '나레이션': 6395, '족하': 6396, '교감': 6397, '열사': 6398, '이목': 6399, '감싸다': 6400, '거꼭': 6401, '그러므로': 6402, '공적': 6403, '으로서는': 6404, '결여': 6405, '일본도': 6406, '단것': 6407, 'ㅏㅏ': 6408, '당파싸움': 6409, '즉시': 6410, '쭈욱': 6411, '덕지덕지': 6412, '낟': 6413, '리나': 6414, '쫒다': 6415, '체감': 6416, '국어': 6417, '기절': 6418, '직장': 6419, '오징어': 6420, '꼭쥐': 6421, '무뇌': 6422, '만족도': 6423, '분류': 6424, '좀비': 6425, '볼품': 6426, '편성': 6427, '말론': 6428, '에든': 6429, '입터': 6430, '두운': 6431, '제갈량': 6432, '방불': 6433, '올바로': 6434, '단독': 6435, '미미': 6436, '위안부': 6437, '사과': 6438, '여성': 6439, '태': 6440, '색기': 6441, '우리땅': 6442, '저항': 6443, '밝히다': 6444, '주장': 6445, '원혼': 6446, '고만': 6447, '버렷': 6448, '넘흐': 6449, '폭약': 6450, '천박하다': 6451, '온나라': 6452, '둘러쌓다': 6453, '서나': 6454, '아슬아슬하다': 6455, '여부': 6456, '무신': 6457, '중고': 6458, '윘': 6459, '머랄': 6460, '미국영화': 6461, '브금': 6462, '견고하다': 6463, '노장': 6464, '오천원': 6465, '봤슴다': 6466, '증폭': 6467, '우익': 6468, '깝': 6469, '다감하다': 6470, '일본해': 6471, '임전무퇴': 6472, '병자': 6473, '금지': 6474, '국방': 6475, '휠씬': 6476, '느꼇습니': 6477, '출격': 6478, '발굴': 6479, '일등': 6480, '메스': 6481, '치마폭': 6482, '머진': 6483, '울렁거리다': 6484, '영웅신화': 6485, '쿠나': 6486, '라가': 6487, '짖다': 6488, '중구': 6489, '겐': 6490, '진찌': 6491, '묵념': 6492, '남우': 6493, '여의도': 6494, '포착': 6495, '수요일': 6496, '음부': 6497, '목도': 6498, '신중': 6499, '쌍': 6500, '작일': 6501, '야영': 6502, '검색어': 6503, '존내': 6504, '부자연': 6505, '의욕': 6506, '치룬': 6507, '연달': 6508, '밑천': 6509, '씌': 6510, '색감': 6511, '똥폼': 6512, '울트라': 6513, '쑤시다': 6514, '축제': 6515, '우유': 6516, '눈데': 6517, '일과': 6518, '내용물': 6519, '피하': 6520, '시급하다': 6521, '형상': 6522, '기념': 6523, '비리다': 6524, '하이': 6525, 'ㅠㅠㅠㅜ': 6526, '전공': 6527, '방향성': 6528, '알라': 6529, '역적': 6530, '갖은': 6531, '전생': 6532, '추세': 6533, '삐': 6534, '맹': 6535, '동행': 6536, '용어': 6537, '과다르': 6538, '상반': 6539, '로봇': 6540, '반년': 6541, '쉴드': 6542, '헀': 6543, '종류': 6544, '훼손': 6545, '고단': 6546, '익숙해지다': 6547, '친절하다': 6548, '착잡하다': 6549, '뚜껑': 6550, '순진': 6551, '얇다': 6552, '겸손하다': 6553, '어쨌건': 6554, 'ㄷㄷㄷㄷ': 6555, '훈련': 6556, '다름없다': 6557, '라인업': 6558, '무크': 6559, '듯함': 6560, '충절': 6561, '저고리': 6562, '굉장': 6563, '심신': 6564, '이이이': 6565, '의인': 6566, '쩌름': 6567, '을지': 6568, '손톱': 6569, '심의': 6570, '도드라지다': 6571, '이편': 6572, '불사신': 6573, '어울림': 6574, '닼': 6575, '인내': 6576, '격퇴': 6577, '찜찜하다': 6578, 'ㅌ': 6579, '증말': 6580, '가바': 6581, '거진': 6582, '중전': 6583, '해병': 6584, '실사판': 6585, '슈퍼': 6586, '한단': 6587, '빨임': 6588, '왜냐하면': 6589, '대항': 6590, '기교': 6591, '박스': 6592, '스파르타': 6593, '고대': 6594, '살작': 6595, '추측': 6596, '선박': 6597, '회로': 6598, '라스트': 6599, '취미': 6600, '이랑은': 6601, '룰라': 6602, '준걸': 6603, '묵': 6604, '이상인': 6605, '못내': 6606, '간전': 6607, '미루다': 6608, '샷': 6609, '경향': 6610, '강림': 6611, '모임': 6612, '더알': 6613, '과유': 6614, '불급': 6615, '로코': 6616, '사명': 6617, '돈버': 6618, '찰나': 6619, '다물어지다': 6620, '조센징': 6621, '재밋는데': 6622, '천국': 6623, '음개': 6624, '신세': 6625, '보쇼': 6626, '섬뜩하다': 6627, '가난': 6628, '그었다': 6629, '엮': 6630, '투사': 6631, '대성공': 6632, '한자': 6633, '음역': 6634, '어우르다': 6635, '반일': 6636, '미나': 6637, '글래디에이터': 6638, '킹덤': 6639, '헤븐': 6640, '하내': 6641, '칭호': 6642, '여요': 6643, '불명': 6644, '막대': 6645, '에너지': 6646, '지폐': 6647, '중하': 6648, '내미다': 6649, '부응': 6650, '롤': 6651, '동물': 6652, '개반': 6653, '가죽': 6654, '범죄': 6655, '폭력': 6656, '팔리다': 6657, '배재': 6658, '똘똘': 6659, '좀해': 6660, '감복': 6661, '길들다': 6662, '협력': 6663, '알파': 6664, '영화광': 6665, '파이란': 6666, '의사소통': 6667, '유효사거리': 6668, '사수': 6669, '간문제': 6670, '전란': 6671, '쩝쩝': 6672, '도발': 6673, '월급': 6674, '신빙': 6675, '제대': 6676, '려니': 6677, '명란': 6678, '도운': 6679, '수상전': 6680, '배전': 6681, '자임': 6682, '다분하다': 6683, '사치': 6684, '멋졋': 6685, '뛰어들다': 6686, '좋았슴': 6687, '싸하다': 6688, '참담하다': 6689, '유명배우': 6690, '허공': 6691, '지시': 6692, '남해': 6693, '비슷': 6694, '과평': 6695, '대거': 6696, '영령': 6697, '매달': 6698, '로이': 6699, '관념': 6700, '사로잡히다': 6701, '광경': 6702, '진법': 6703, '천삼백만': 6704, '회상': 6705, '몸통': 6706, '박치기': 6707, '소비': 6708, '도모': 6709, '윽': 6710, '있슴': 6711, '파가': 6712, '쥑': 6713, '예쁘다': 6714, '재수없다': 6715, '진영': 6716, '씨발': 6717, '태양': 6718, '선인': 6719, '호러': 6720, '숭숭': 6721, '슈': 6722, '원함': 6723, '빠순이': 6724, '법칙': 6725, '발라': 6726, '괴리': 6727, '왜병': 6728, '티남': 6729, '해당': 6730, '워드': 6731, '겨울왕국': 6732, '정갈하다': 6733, '료헤': 6734, '후반전': 6735, '계속계속': 6736, '김억추': 6737, '지배': 6738, '즈음': 6739, '떠밀다': 6740, '모략': 6741, '빵터지다': 6742, '공기': 6743, '어보': 6744, '잘봣다': 6745, '여행': 6746, '쉰': 6747, '오구오': 6748, '쓰리다': 6749, '제국': 6750, '이장면': 6751, '나태하다': 6752, '어록': 6753, '히데': 6754, '요시': 6755, '분위': 6756, '뭐볼': 6757, '시름': 6758, '대인': 6759, '개방': 6760, '기겁': 6761, '장편': 6762, '고향이': 6763, '볼순': 6764, '봣으': 6765, '한민': 6766, '대대': 6767, '주전': 6768, '비우다': 6769, '었다': 6770, '신중하다': 6771, '믿어지다': 6772, '열매': 6773, '깨어나다': 6774, '흘러나오다': 6775, '풀림': 6776, '어줍다': 6777, '용하다': 6778, '싸가지': 6779, '립': 6780, '진동': 6781, '거르': 6782, '비통하다': 6783, '뭉쿨': 6784, '와카': 6785, '암담하다': 6786, '앞쪽': 6787, '씬때': 6788, '하나요': 6789, '음기': 6790, '굽다': 6791, '극대': 6792, '상치': 6793, '실상': 6794, '관직': 6795, '스크린쿼터제': 6796, '일침': 6797, '조심하다': 6798, '이다지': 6799, '고귀하다': 6800, '유산': 6801, '끝장': 6802, '딸도': 6803, '오랬': 6804, '설다': 6805, '가감': 6806, 'ㅠㅡㅜ': 6807, '자연스레': 6808, '트로이': 6809, '대고': 6810, '치장': 6811, '독불장군': 6812, '였슴': 6813, '재밋엇': 6814, '발톱': 6815, '짊': 6816, '보수': 6817, '솔까말': 6818, '넘김': 6819, '이었음': 6820, '매칭': 6821, '생가': 6822, '핍박': 6823, '요기': 6824, '까비': 6825, '낭패': 6826, '서럽다': 6827, '고수': 6828, '막강': 6829, '치킨': 6830, '보스': 6831, '뜨끈하다': 6832, '탄식': 6833, '월달': 6834, '국력': 6835, '가주': 6836, '맨더': 6837, '짜개': 6838, '소위': 6839, '우오아아': 6840, '애매모호하다': 6841, '평민': 6842, '배임': 6843, '썰다': 6844, '쩍': 6845, '폐해': 6846, '금상첨화': 6847, '미지': 6848, '스나이핑': 6849, '고시': 6850, '쥬라기': 6851, '익룡': 6852, '직후': 6853, '고소하다': 6854, '만렙': 6855, '똥망': 6856, '소녀': 6857, '무관': 6858, '한눈팔다': 6859, '라울': 6860, '골고루': 6861, '발포': 6862, '갑주': 6863, '란걸': 6864, '번쩍': 6865, '왓습': 6866, '붙이': 6867, '안남다': 6868, '아영': 6869, '고척': 6870, '이론': 6871, '봣습니당': 6872, '개구': 6873, '기여': 6874, '색안경': 6875, '가원': 6876, '초강추': 6877, '희노애락': 6878, '배아': 6879, '스마': 6880, '그리움': 6881, '하나라': 6882, '이모': 6883, '잼존잼': 6884, '대동단결': 6885, '어메이징': 6886, '시인': 6887, '진전': 6888, '순시': 6889, '사정': 6890, '빨갛다': 6891, '가보': 6892, 'ㅡㅡㅋ': 6893, '최고급': 6894, '단호': 6895, '고삼': 6896, '부적': 6897, '색깔': 6898, '모방': 6899, '믾': 6900, '권유': 6901, '고기': 6902, '마당': 6903, '직면': 6904, '예술가': 6905, '막중': 6906, 'ㅜㅅㅜ': 6907, '강점': 6908, '미지근하다': 6909, '트집': 6910, '하반기': 6911, '가짜': 6912, '다정': 6913, '이대': 6914, '오마주': 6915, '적용': 6916, '숙지': 6917, '인문학': 6918, '종이': 6919, '호랑이': 6920, '똑': 6921, '부패하다': 6922, '엥': 6923, '무분별': 6924, '지엠': 6925, '격군': 6926, '처지': 6927, '에라도': 6928, '매국': 6929, '잘뽑다': 6930, '갑판': 6931, '용병': 6932, '탱크': 6933, '더군다나': 6934, '후반기': 6935, '향해': 6936, '하위': 6937, '당파': 6938, '노랗다': 6939, '미로': 6940, '할배': 6941, '평남': 6942, '토착': 6943, '총명하다': 6944, '종결': 6945, '들썩이다': 6946, '번울': 6947, '거참': 6948, '한다해': 6949, '카바': 6950, '벌': 6951, '쫙쫙': 6952, '럭': 6953, '취화선': 6954, '재앙': 6955, '수정': 6956, '신가': 6957, '유해진': 6958, '엣지': 6959, '무관심하다': 6960, '연장': 6961, '정현': 6962, '대조': 6963, '저그': 6964, '친근하다': 6965, '슬': 6966, '삼위일체': 6967, '갖': 6968, '살상': 6969, '느므': 6970, '됨됨이': 6971, '해학': 6972, '한쪽': 6973, '맞춤': 6974, '결합': 6975, '개시': 6976, '번민': 6977, '천천히': 6978, '뼈속': 6979, '안중근': 6980, '데려오다': 6981, '안치': 6982, '심심': 6983, '로주': 6984, '납': 6985, '리플': 6986, '들려주다': 6987, 'ㅐㅁ': 6988, '찬가': 6989, '도시': 6990, '평균점': 6991, '오니': 6992, '사신': 6993, '꼽자': 6994, '요나라': 6995, '첩': 6996, '대열': 6997, '튀어': 6998, '조그마하다': 6999, '갈고리': 7000, '음보': 7001, '다섯손가락': 7002, '기립': 7003, '거마': 7004, '기력': 7005, '재밋슴': 7006, '범벅': 7007, '희화': 7008, '살살': 7009, '공법': 7010, '쭉쭉': 7011, '허탈': 7012, '촛점': 7013, '대반': 7014, '닥치다': 7015, '김태훈': 7016, '키코': 7017, '대종상': 7018, '증': 7019, '평화': 7020, '엄복동': 7021, '우롱': 7022, '범작': 7023, '도덕': 7024, '노저': 7025, '참상': 7026, '밥그릇': 7027, '사이사이': 7028, '모드': 7029, '세라': 7030, '깨물다': 7031, '우월하다': 7032, '수로': 7033, '하느님': 7034, '구해': 7035, '서막': 7036, '막장': 7037, '마감': 7038, '장렬': 7039, 'ㅉㅉㅉ': 7040, '이하나': 7041, '터들': 7042, '초석': 7043, '말입': 7044, '바하': 7045, '기이하다': 7046, '홥니': 7047, '다음주': 7048, '어금니': 7049, '질병': 7050, '히트': 7051, '군졸': 7052, '혐오': 7053, '거들다': 7054, '찐빵': 7055, '나대다': 7056, '젬나': 7057, '육박': 7058, '재밌엇음': 7059, '중상': 7060, '이라든지': 7061, '일상': 7062, '기와': 7063, '킬링': 7064, '더볼': 7065, '지능': 7066, '고심': 7067, '쿠': 7068, '끄덕': 7069, '용씨': 7070, '손수건': 7071, '긍심': 7072, '낚시': 7073, '친영': 7074, '부류': 7075, '전편': 7076, '셧습': 7077, '넘버원': 7078, '확보': 7079, '강타': 7080, '별것': 7081, '펙트': 7082, '오만': 7083, '잉여': 7084, '최적': 7085, '점말': 7086, '정황': 7087, '잘봤슴다': 7088, '말리': 7089, '토요일': 7090, '불패': 7091, '기해': 7092, '기막히다': 7093, '가재': 7094, '탈출': 7095, '접목': 7096, '당초': 7097, '비치다': 7098, '침범': 7099, '진중': 7100, '대세': 7101, '티켓파워': 7102, '칠천량해전': 7103, '지남': 7104, '독립영화': 7105, '여분': 7106, '하급': 7107, '반쪽': 7108, '기고': 7109, '안심': 7110, '싱': 7111, '물의': 7112, '신문': 7113, '이래도': 7114, '스탈': 7115, '만쉐': 7116, '파고': 7117, '서른': 7118, '주심': 7119, '알바로': 7120, '더냐': 7121, '관록': 7122, '표절논란': 7123, '슴니': 7124, '장황하다': 7125, '도달': 7126, '이쯤': 7127, '퐈이팅': 7128, '비약': 7129, '요먼': 7130, '밤늦다': 7131, '물든': 7132, '삼척': 7133, '줄평': 7134, '군입대': 7135, '남겨지다': 7136, '괞': 7137, '쟈밋': 7138, '감수성': 7139, '영양가': 7140, '올인': 7141, '간신히': 7142, '중이': 7143, '치루': 7144, '말년': 7145, '왜척': 7146, '전국': 7147, '승려': 7148, '블로그': 7149, '쓸리다': 7150, '붙잡다': 7151, '라이언': 7152, '따른': 7153, '격정': 7154, '힌': 7155, '지리하다': 7156, '해치다': 7157, '해대': 7158, '새누리당': 7159, '밋어요재밋': 7160, '존함': 7161, '공이': 7162, '카리': 7163, '인과관계': 7164, '사모': 7165, '봤슴': 7166, '내러티브': 7167, '증가': 7168, '무감각': 7169, '엎': 7170, '고양': 7171, '절하': 7172, '고학년': 7173, '뉴라이트': 7174, '우렁찬': 7175, '배달': 7176, '쫭': 7177, '중년': 7178, '종자': 7179, '천백만': 7180, '뎈': 7181, '요가': 7182, '불편': 7183, '명민': 7184, '참배': 7185, '역도': 7186, '이씨': 7187, '대수': 7188, '완결': 7189, '사무치다': 7190, '싸지르다': 7191, '지칭': 7192, '수역': 7193, '점검': 7194, '전무하다': 7195, '웟음': 7196, '난관': 7197, '작자': 7198, '본성': 7199, '독설': 7200, '좀처럼': 7201, '부와': 7202, '왜캐': 7203, '팝업': 7204, '차후': 7205, '슬로': 7206, '정말재밋': 7207, '도구로': 7208, '근사하다': 7209, '쌈빽': 7210, '홍': 7211, '영국': 7212, '채택': 7213, '유지나': 7214, '휘황': 7215, '없슴': 7216, '팔이만': 7217, '찰지다': 7218, '자상하다': 7219, '신간': 7220, '불끈쥐': 7221, '백승': 7222, '사랑스럽다': 7223, '어후': 7224, '초초': 7225, '어의': 7226, '은애': 7227, '비만': 7228, '작아지다': 7229, '합치': 7230, '초가': 7231, '맻': 7232, '임팩': 7233, '마술': 7234, '쇼생크탈출': 7235, '레옹': 7236, '정쟁': 7237, '일삼': 7238, '들이켜다': 7239, '질소': 7240, '그리기': 7241, 'ㅋㅋㅋㅋㅋ': 7242, '황송': 7243, '만듭시': 7244, '생존': 7245, '권리': 7246, '어짜피': 7247, '어정쩡': 7248, '다오': 7249, '잠듬': 7250, '삼고': 7251, '수척하다': 7252, '구석구석': 7253, '얼큰하다': 7254, '단면': 7255, '끠': 7256, '임란': 7257, '눈동자': 7258, '둥둥': 7259, '홀릭': 7260, '건너': 7261, '무식': 7262, '고현재': 7263, '애착': 7264, '정신병': 7265, '조국애': 7266, '우리엄마': 7267, '헤어지다': 7268, '건네다': 7269, '동동': 7270, '일견': 7271, '쨩쨩': 7272, '숙제': 7273, '몇장': 7274, '오타': 7275, '은별': 7276, 'ㅂㅕㄹ': 7277, '접영': 7278, '쩌리': 7279, '놀란': 7280, '도착': 7281, '멋있엇음': 7282, '재탕하다': 7283, '낳을': 7284, '함더': 7285, '소견': 7286, '허접스럽다': 7287, '육박전': 7288, '소로': 7289, '거치': 7290, '포터': 7291, '삼십분': 7292, '상품': 7293, '일각': 7294, '둘러싸이다': 7295, '일렬': 7296, '의비': 7297, '재개': 7298, '봉하': 7299, '들들': 7300, '울엇습니': 7301, '진과': 7302, '잠옴': 7303, '근무': 7304, '세로': 7305, '난군': 7306, '귀중하다': 7307, '실시간': 7308, '밋습': 7309, '응어리': 7310, '상영작': 7311, '어리석다': 7312, '환기': 7313, '느데': 7314, '다분': 7315, '요만': 7316, '혁신': 7317, '가왜': 7318, '누굴까': 7319, '촉촉': 7320, '적병': 7321, '중박': 7322, '사견': 7323, '잡다하다': 7324, '베베': 7325, '셜': 7326, '설특집': 7327, '서버': 7328, '재밋던것': 7329, '안타': 7330, '시멘트': 7331, '벼': 7332, '박해일': 7333, '난점': 7334, '겨레': 7335, '나랏님': 7336, '넷': 7337, '촬영감독': 7338, '신명': 7339, '안구': 7340, '완료': 7341, '마음껏': 7342, '어머님께': 7343, '의적': 7344, '더꿀잼': 7345, '두어': 7346, '에게나': 7347, '하기는': 7348, '또렷하다': 7349, '안경': 7350, '컷었는': 7351, 'ㅑ': 7352, '블랙펄': 7353, '플랫': 7354, '찌들다': 7355, '텍스트': 7356, '옆집': 7357, '뒤통수': 7358, '되풀이': 7359, '걸음': 7360, '비꼬다': 7361, '도해': 7362, '귀머거리': 7363, '걸레': 7364, '거고': 7365, '먹고다': 7366, '말종': 7367, '일면': 7368, '이끼': 7369, '전래': 7370, '설마설마': 7371, '벌레': 7372, '진주만': 7373, '우습다': 7374, '로구나': 7375, '쿼터': 7376, '벨런스': 7377, '페이스북': 7378, '병자호란': 7379, '천만배': 7380, '뽕국뽕': 7381, '레이': 7382, '왜족': 7383, '가로막다': 7384, '성냥': 7385, '최신영': 7386, '간지나다': 7387, '감동씬': 7388, '연애': 7389, '유래': 7390, '요천': 7391, '흐트려': 7392, '글코': 7393, '신경안': 7394, '돈벌': 7395, '국전': 7396, '보지맙시': 7397, '공헌': 7398, '지위': 7399, '나제': 7400, '유구무언': 7401, '줌마': 7402, '가제': 7403, '청룡영화제': 7404, '알림': 7405, '비단': 7406, '몽유병': 7407, '방석': 7408, '빽': 7409, '뜻밖': 7410, '험난하다': 7411, '공인': 7412, '밀면': 7413, '질시': 7414, '자발': 7415, '고유': 7416, '방기': 7417, '호날두': 7418, '한낱': 7419, '비트박스': 7420, '보오': 7421, '인대': 7422, '어명': 7423, '없엇음': 7424, '킬': 7425, '부여잡다': 7426, 'ㄱㅆ': 7427, '여유': 7428, '도적': 7429, '호령': 7430, '하노': 7431, '변치': 7432, '울화': 7433, '화지': 7434, '꼭옥': 7435, '접전': 7436, '용솟음': 7437, '설탕': 7438, '개똥망': 7439, '기한': 7440, '전화': 7441, '갑갑갑': 7442, '싸운드': 7443, '얼기설기': 7444, '살피다': 7445, '면암': 7446, 'ㅂㄷㅂㄷ': 7447, '실정': 7448, '끈질기다': 7449, '줄알': 7450, '뎀': 7451, '고구려': 7452, '매장': 7453, '쾌': 7454, '버터': 7455, '곘': 7456, '깨부수다': 7457, '수긍': 7458, '의연': 7459, '광': 7460, '줄라': 7461, '쉭': 7462, '애뜻함': 7463, '애도': 7464, '재민': 7465, '담편': 7466, '노량대첩': 7467, '불능': 7468, '현주소': 7469, '격군들': 7470, '연설': 7471, '가져다주다': 7472, '건내다': 7473, '토달': 7474, '잘라먹다': 7475, '꾸준하다': 7476, '홍명보': 7477, '아집': 7478, '간장': 7479, '유언': 7480, '지상': 7481, '예습': 7482, '가위': 7483, '관계도': 7484, '까운': 7485, '반란': 7486, '주책': 7487, '점차': 7488, '이소재': 7489, '들고나다': 7490, '이러니까': 7491, '워리어': 7492, '호리다': 7493, '찾아내다': 7494, '빼어나다': 7495, '뒷말': 7496, 'ㅂㄹ': 7497, '가늠': 7498, '소박하다': 7499, '견줄': 7500, '요안': 7501, '브이': 7502, 'ㅎㅏ': 7503, '장임': 7504, '잘봣네': 7505, '사이드': 7506, '암흑': 7507, '인성': 7508, '임돠': 7509, '선견지명': 7510, '치기': 7511, '용강': 7512, '춥다': 7513, '끼들': 7514, '적합': 7515, '루고': 7516, '꼐': 7517, '장근님': 7518, '백발': 7519, '노친': 7520, '맛깔나다': 7521, '시간표': 7522, '세척': 7523, '인근': 7524, '자위대': 7525, '산영': 7526, '바이블': 7527, '핫도그': 7528, '햄': 7529, '입증': 7530, '감정씬': 7531, '새록새록': 7532, '고마': 7533, '술잔': 7534, '신건': 7535, '윗사람': 7536, '밍밍': 7537, '줄줄이': 7538, '울엇어': 7539, '뭐시기': 7540, '장근석': 7541, '이징': 7542, '환': 7543, '진짜루': 7544, '대내': 7545, '뭐말': 7546, 'ㅘ': 7547, 'ㅠㅡ': 7548, '역효과': 7549, '여건': 7550, '오동': 7551, '족속': 7552, '치레': 7553, '뭉클거리': 7554, '경쟁력': 7555, '구지': 7556, '발길': 7557, '애니': 7558, '항왜': 7559, '저건': 7560, '수건': 7561, '찮': 7562, '악조건': 7563, '어루만지다': 7564, '뽀록나다': 7565, '상투': 7566, '선두': 7567, '잎': 7568, '특선': 7569, '격노': 7570, '아이라인': 7571, '무력': 7572, '평인': 7573, 'ㄲ': 7574, '고지식하다': 7575, '전장씬': 7576, '장땡': 7577, '배씨': 7578, '화폭': 7579, '중대사': 7580, '식인': 7581, '밋어욤': 7582, '치티치티뱅뱅': 7583, '정유': 7584, '먹이': 7585, '나초': 7586, '택시': 7587, '초대': 7588, '숙면': 7589, '상당수': 7590, '우뢰매': 7591, '위협': 7592, '전채': 7593, '떡밥': 7594, '회수': 7595, '특수하다': 7596, '매가': 7597, '뒤틀리다': 7598, '황산벌': 7599, '집어치우다': 7600, '루하': 7601, '걸알': 7602, '가무': 7603, '재밋더': 7604, '서린': 7605, '심사': 7606, '소음': 7607, '넉': 7608, '명시': 7609, '허지웅': 7610, '단번': 7611, '악랄하다': 7612, '어무': 7613, '고요한': 7614, '장용': 7615, '단아': 7616, '박중훈': 7617, '어지르다': 7618, '굿입': 7619, '마사': 7620, '보세욤': 7621, '상향': 7622, '앗': 7623, '봣네': 7624, '쉐': 7625, '발리다': 7626, '어따': 7627, '어딨다': 7628, '배짱': 7629, '랫음': 7630, '악물다': 7631, '싸움씬': 7632, '꼬우': 7633, '앓다': 7634, '이동진': 7635, '마니마니': 7636, '반박': 7637, '들키다': 7638, '애덜': 7639, '구구': 7640, '변경': 7641, '구조도': 7642, '명철하다': 7643, '청량감': 7644, '성역': 7645, '재일': 7646, '제이': 7647, '투철': 7648, '띵': 7649, '로소': 7650, '으음': 7651, '인적': 7652, '격전': 7653, '영예': 7654, '폐셜': 7655, '대다수': 7656, '에쿠스': 7657, '톱니바퀴': 7658, '친정': 7659, '반증': 7660, '실속': 7661, '통감': 7662, '인척': 7663, 'ㅋㅌ': 7664, '켜지다': 7665, '형평': 7666, '일대': 7667, '하하호호': 7668, 'ㅁㅈ': 7669, '이양': 7670, '손녀': 7671, '천칠백만': 7672, 'ㅉㅉㅉㅉ': 7673, '일텐데': 7674, '녿': 7675, '어느덧다': 7676, '이별': 7677, '충직': 7678, '박탈': 7679, '스켈': 7680, '졸멋': 7681, '요정': 7682, '놨다': 7683, '곤란하다': 7684, '웅클': 7685, '재밌엇습니': 7686, '관도': 7687, '신우': 7688, '브라보': 7689, '바랬습니': 7690, '자시': 7691, '나요': 7692, '공통': 7693, '성화': 7694, '설레임': 7695, '보듬다': 7696, '하연': 7697, '봉인': 7698, '에노': 7699, '겸허': 7700, '일가': 7701, '전기영': 7702, '전속': 7703, '계절': 7704, '혈세': 7705, '사욕': 7706, '놈놈놈': 7707, '동강': 7708, '건강': 7709, '라식': 7710, '씨앗': 7711, '피어': 7712, '들것': 7713, '씬한씬': 7714, 'ㄱㅔ': 7715, '발표': 7716, '사소하다': 7717, '미처': 7718, '김구': 7719, '하마터면': 7720, '우두머리': 7721, '꺼리다': 7722, '황당': 7723, '꼬마': 7724, '어번': 7725, '태세': 7726, '유사하다': 7727, '재밋당': 7728, '개운하다': 7729, '굿볼': 7730, '보답': 7731, '되새김질': 7732, '얼릉': 7733, '여타': 7734, '먹거리': 7735, '왓어': 7736, '쨋': 7737, '아마추어': 7738, '콘텍트': 7739, '얼룩지다': 7740, '게실': 7741, '적재적소': 7742, '무티': 7743, '억이': 7744, '억만': 7745, '날아다니다': 7746, '폭격': 7747, '일어나지': 7748, '백프로': 7749, '훈훈하다': 7750, '조율': 7751, '때로는': 7752, '인민군': 7753, '터뜨리다': 7754, '완점': 7755, '구원': 7756, '치졸하다': 7757, '점심': 7758, '벗기다': 7759, '폭망': 7760, '수레': 7761, '엘리베이터': 7762, '반공': 7763, '주주': 7764, '따따': 7765, '레기': 7766, '젤루': 7767, '실어': 7768, '꼽을': 7769, '품성': 7770, '이과': 7771, '묻혓': 7772, '아니엇음': 7773, '쿨타임': 7774, '수입': 7775, '김남길': 7776, '을지문덕': 7777, '리신': 7778, '나용': 7779, '수급': 7780, '동조': 7781, '한과': 7782, '본의': 7783, '가능케': 7784, '발판': 7785, '훨낫다': 7786, '번하다': 7787, '공명': 7788, '국영': 7789, '새우다': 7790, '경합': 7791, '잼슴': 7792, '망원경': 7793, '시야': 7794, '자동차극장': 7795, '으어어': 7796, '적응': 7797, '게다': 7798, '퀴': 7799, '은지': 7800, '대구': 7801, '이민': 7802, '이해관계': 7803, '우수영': 7804, '바삐': 7805, '후후훟': 7806, '월요일': 7807, '깜빡이다': 7808, '확연': 7809, '로더': 7810, '게리': 7811, '톡': 7812, '벽': 7813, '공경': 7814, '춘하': 7815, '겨웠습': 7816, '재밍': 7817, '서양': 7818, '선전': 7819, '극락': 7820, '제주': 7821, '크리': 7822, '길들이다': 7823, '재맜': 7824, '제압': 7825, '애틋하다': 7826, '쓸모없다': 7827, '의원': 7828, '아르바이트': 7829, '이기전': 7830, '쾌거': 7831, '피우다': 7832, '사이코': 7833, '추정': 7834, '묘소': 7835, '군법': 7836, '민가': 7837, '안택선': 7838, '사의': 7839, '낚시질': 7840, '바짝': 7841, '모함': 7842, '면상': 7843, '손꼭쥐': 7844, '사분': 7845, '유튜브': 7846, '무진장': 7847, '밑밥': 7848, '소란': 7849, '고역': 7850, '더재밋다': 7851, '브': 7852, '딪': 7853, '개중': 7854, '쫓기다': 7855, '결하': 7856, '헐겁다': 7857, '쵝오임': 7858, '창의': 7859, '카드': 7860, '슬펏다': 7861, '탑승': 7862, '블락': 7863, '갇히다': 7864, '단절': 7865, '꼰대': 7866, '중미': 7867, '비상': 7868, '기질': 7869, '만화책': 7870, 'ㅇㄷㅁ': 7871, '건조하다': 7872, '해남': 7873, '에서와': 7874, '꼴통': 7875, 'ㅏㅣ': 7876, '들락날락': 7877, '솔찍': 7878, '학보': 7879, '교체': 7880, '협동': 7881, '서스펜스': 7882, '최믹식': 7883, '배수진': 7884, '요나': 7885, '자구': 7886, '존망': 7887, '비극': 7888, '하듯': 7889, '부르르': 7890, '링크': 7891, '가누다': 7892, '손예진': 7893, '길음': 7894, '홍보물': 7895, '뱃속': 7896, '순진하다': 7897, '서일': 7898, '방송사': 7899, '노이즈': 7900, '외로워': 7901, '낙원': 7902, '인쇄': 7903, '라우': 7904, '수병': 7905, '달랑': 7906, '수완': 7907, '떳는': 7908, '터닝': 7909, '고질': 7910, '만적': 7911, '천칠백': 7912, '미련': 7913, '부자간': 7914, '아산': 7915, '분거': 7916, '격동': 7917, '흐릿하': 7918, '도우': 7919, '램': 7920, '하루빨리': 7921, '성립': 7922, '물량공세': 7923, '저만큼': 7924, '잠재우다': 7925, '싸랑': 7926, '방학기': 7927, '식겁하다': 7928, '자객': 7929, '무궁무진': 7930, '캐리비언': 7931, '재밋게봣습니당': 7932, '전계': 7933, '파워레인저': 7934, '드라이': 7935, '미니': 7936, '계해': 7937, '소비자': 7938, '백수': 7939, '한가하다': 7940, '명정': 7941, '조짐': 7942, '터끝': 7943, '단비': 7944, '철책': 7945, '일본엔': 7946, '고상': 7947, '쪙': 7948, '윤종빈': 7949, '실질': 7950, '반드': 7951, '본자': 7952, '물어': 7953, '늘어놓다': 7954, '핳': 7955, '퇴각': 7956, '마음대로': 7957, '재인식': 7958, '죽도': 7959, '지린다': 7960, '잘봣음': 7961, '여백': 7962, '만들엇으': 7963, '소나': 7964, '연승': 7965, '비결': 7966, '찔금': 7967, '자재': 7968, '숙명': 7969, '내셔널리즘': 7970, '동일하다': 7971, '하트': 7972, '다솔': 7973, '몰리': 7974, '백발백중': 7975, '루루': 7976, '믿음직하다': 7977, '송강호': 7978, '안목': 7979, '상관관계': 7980, '절감': 7981, '락다운': 7982, '에고': 7983, '초상화': 7984, '맹장': 7985, '연극': 7986, '농락': 7987, '물밑': 7988, '타당': 7989, '양호': 7990, '영화매니아': 7991, '룸': 7992, '영웅본색': 7993, '손오공': 7994, '낚엿다': 7995, '외로이': 7996, '끝없이': 7997, '의대': 7998, '클릭': 7999, '한일관계': 8000, '근처': 8001, '무의식': 8002, '이진': 8003, '교포': 8004, '또래': 8005, '소리내다': 8006, '몸집': 8007, '마르고': 8008, '선뜻': 8009, '이행': 8010, '어눌하다': 8011, '슴다': 8012, '그래비티': 8013, '슷': 8014, '북적': 8015, '지크': 8016, '우어': 8017, '풍경': 8018, '안정감': 8019, '폭풍눈물': 8020, '치밀': 8021, '몰락하다': 8022, '빙빙': 8023, '요부': 8024, '뭉글': 8025, '대만': 8026, '거린': 8027, '웃겻음': 8028, '선불': 8029, '슬펏': 8030, '날때': 8031, '메우다': 8032, '방광': 8033, '달려들다': 8034, '분뒤': 8035, '여자도': 8036, '편임': 8037, '채널': 8038, '말문': 8039, '벅': 8040, '게끝': 8041, '은하': 8042, '이용철': 8043, '엽': 8044, '정지혜': 8045, '연평해전': 8046, '온화하다': 8047, '추꼭': 8048, '밋재밋': 8049, '신자체': 8050, '폭염': 8051, '억원': 8052, '독립': 8053, '당하': 8054, '리하': 8055, '번가': 8056, '제데로': 8057, '인감': 8058, '느꼈슴': 8059, '극일': 8060, '돌이': 8061, '적립': 8062, '본사': 8063, '질문': 8064, '점때': 8065, '눈쌀': 8066, '현금': 8067, '콱': 8068, '쵝오쵝오': 8069, '이웃': 8070, '후세인': 8071, '감개': 8072, '무량': 8073, '이스': 8074, '사이트': 8075, '봣눈데': 8076, '쥬': 8077, '수화': 8078, '이동': 8079, '셋트': 8080, '멍청이': 8081, '우울함': 8082, '천여': 8083, '투항': 8084, '드길': 8085, '파손': 8086, '거창하다': 8087, '년월': 8088, '과극': 8089, '떻': 8090, '빠짝': 8091, '처벌': 8092, '외세': 8093, '비유': 8094, '야심': 8095, '허니버터칩': 8096, '경탄': 8097, '속속': 8098, '어리둥절하다': 8099, '알받이': 8100, '우응': 8101, '다애': 8102, '즐비하다': 8103, '일일': 8104, '쩌는데': 8105, '일병': 8106, '개지': 8107, '미동': 8108, '막걸리': 8109, '웅대': 8110, '잼꼭': 8111, '강강수월래': 8112, '개싸움': 8113, '강추추추추': 8114, '허기지다': 8115, '전일': 8116, '평화롭다': 8117, '장난없다': 8118, '뺴': 8119, '화주': 8120, '레디에이터': 8121, '리얼리': 8122, '아이디어': 8123, '베스': 8124, '오백': 8125, '자타공인': 8126, '중립': 8127, '고매': 8128, '스케': 8129, '흐엉': 8130, '돌아서다': 8131, '녹': 8132, '향후': 8133, '년안': 8134, '반의': 8135, '탑인': 8136, '자비': 8137, '붕떠': 8138, '쫄깃쫄': 8139, '아조': 8140, '괘': 8141, '음모': 8142, '통제': 8143, '버겁다': 8144, '학과': 8145, '김탁환': 8146, '놔두다': 8147, '김수현': 8148, '실루엣': 8149, '건달': 8150, '기필코': 8151, '할리웃': 8152, '강우석': 8153, '지사': 8154, '나스': 8155, '뮤직비디오': 8156, '복불복': 8157, '슈퍼히어로': 8158, '유무': 8159, '솟아오르다': 8160, '정당성': 8161, '등고': 8162, '간첩': 8163, '입하': 8164, '햇단': 8165, '배려': 8166, '주름': 8167, '식민': 8168, '외침': 8169, '횟수': 8170, '귀국': 8171, '량': 8172, '여학생': 8173, '강려': 8174, '리모': 8175, '거슨': 8176, '서두르다': 8177, '럿': 8178, '화재': 8179, '지표': 8180, '파선': 8181, '월등하다': 8182, '구력': 8183, '명목': 8184, '본보기': 8185, '청': 8186, '문헌': 8187, '바로잡다': 8188, '흠집': 8189, '신덕': 8190, '해양전투': 8191, '어쩌겠': 8192, '보호자': 8193, '꽂다': 8194, '직감': 8195, '평의': 8196, '빠가': 8197, '개줌': 8198, '우오오': 8199, '담보': 8200, '싹싹': 8201, '애하': 8202, '태반': 8203, '풀이': 8204, '뭉뚱': 8205, '난이': 8206, '임박': 8207, '모씨': 8208, '빽빽하다': 8209, '목요일': 8210, '잠재': 8211, '생각드': 8212, '배꼽': 8213, '자살': 8214, '수원': 8215, '이하고': 8216, '미리내': 8217, '어쩌구저쩌구': 8218, '풍모': 8219, '독버섯': 8220, '교황': 8221, '단다': 8222, '답안': 8223, '메겨': 8224, '응응': 8225, '진운': 8226, '닙': 8227, '잼잇엇음': 8228, '에아': 8229, '우뚝': 8230, '하모니': 8231, '레디': 8232, '배부르다': 8233, '품질': 8234, '요망': 8235, '번갈아': 8236, '냉': 8237, '물건': 8238, '목말': 8239, '다말': 8240, '나란하다': 8241, '중견': 8242, '포커싱': 8243, '렉': 8244, '퐁당퐁당': 8245, '중시': 8246, '프라': 8247, 'ㅈㅐ': 8248, '복식': 8249, '닝': 8250, '읎드다': 8251, 'ㅎㅇ': 8252, '혈압': 8253, '굿굿꼭': 8254, '주유': 8255, '군사정권': 8256, '스트로': 8257, 'ㅆㅏ': 8258, '파장': 8259, '신위': 8260, '인전': 8261, '해안': 8262, '랏음': 8263, '처지다': 8264, '아요': 8265, '서기대': 8266, '사안': 8267, '줏': 8268, '입안': 8269, '정치권': 8270, '여수': 8271, 'ㄴㅣ': 8272, '업계': 8273, '최구': 8274, '이마': 8275, '맹목': 8276, '후줄근하다': 8277, '굿굿굿굿굿': 8278, '스필버그': 8279, '기후': 8280, '대보다': 8281, '요란': 8282, '하일': 8283, '셧으': 8284, '생신': 8285, '이대로': 8286, '손끝': 8287, '초반씬': 8288, '기어': 8289, '손자': 8290, '컨셉': 8291, '인스턴트': 8292, '단디': 8293, '상가': 8294, '강추임': 8295, '단치': 8296, '부안': 8297, '촌': 8298, '하물며': 8299, 'ㅉㅏ': 8300, '기에': 8301, '혼돈': 8302, 'ㅏㄴ': 8303, '하사': 8304, '진향': 8305, '간민': 8306, '기록물': 8307, '보관': 8308, '몸매': 8309, '잇엇요': 8310, '관좀': 8311, '운장': 8312, '효심': 8313, '머임': 8314, '조은영': 8315, '낼때': 8316, '징악': 8317, '파멸': 8318, '악플러': 8319, '잡음': 8320, '해짐': 8321, 'ㅜㅠㅜㅠ': 8322, '관종': 8323, '근접하다': 8324, '혼연': 8325, '유독': 8326, '디렉터스컷': 8327, '테스트': 8328, '꽈악': 8329, '민족사': 8330, '앖': 8331, '어벤저스': 8332, '벌이': 8333, '틀림없이': 8334, '섭렵': 8335, '어수룩하다': 8336, '탐구': 8337, '폐지': 8338, '퀄리': 8339, '근접': 8340, '상급': 8341, '소인': 8342, '스마트폰': 8343, '덕인': 8344, '자각': 8345, '서리다': 8346, '소제': 8347, '서술': 8348, '앞서': 8349, '코인': 8350, '왕남': 8351, '시류': 8352, '낮음': 8353, '짐심': 8354, '초초초초': 8355, '가물가물': 8356, '사뭇': 8357, '물위': 8358, '연관': 8359, 'ㄷㅓ': 8360, '얐음': 8361, '꿋꿋하다': 8362, '여주': 8363, '왜인': 8364, '썻': 8365, '극우': 8366, '창피': 8367, '호시탐탐': 8368, '이인상': 8369, '생전': 8370, '버튼': 8371, '뒤죽박죽': 8372, '광풍': 8373, 'ㅊㅊ': 8374, '입구': 8375, '존칭': 8376, '돌아다니다': 8377, '시전': 8378, '맹활약': 8379, '숴움': 8380, '할부': 8381, '대대손손': 8382, '붕괴': 8383, '소지': 8384, 'ㅈㅅ': 8385, '목동': 8386, '망언': 8387, '여당': 8388, '러러': 8389, '베끼기': 8390, '포탑': 8391, '다이브': 8392, '고어': 8393, '슬기롭다': 8394, '늘어나다': 8395, '더잼': 8396, '존슨': 8397, '비공': 8398, '대입': 8399, '특급': 8400, '페이': 8401, '녀': 8402, '부전': 8403, '기름': 8404, '피난': 8405, '남루하다': 8406, '가정은': 8407, '운동': 8408, '대범하다': 8409, '무안': 8410, '정우성': 8411, '시저': 8412, '난건': 8413, '흥민': 8414, '쫘': 8415, '나우': 8416, '휙휙': 8417, '띡': 8418, '시알': 8419, 'ㅠㅅㅠ': 8420, '위용': 8421, '시력': 8422, '태클': 8423, '밋재밋재밋재밋': 8424, '낚였구': 8425, '쌩쇼': 8426, '보우': 8427, '옵티머스': 8428, '전별': 8429, '설움': 8430, '미워하다': 8431, '철색': 8432, '명부': 8433, '붕뜬': 8434, '심정은': 8435, '공유': 8436, '세이': 8437, '잔인성': 8438, '혹성': 8439, '신전': 8440, '총잡이': 8441, '고연': 8442, '배출': 8443, '영화개봉': 8444, '레미제라블': 8445, 'ㅏㅎ': 8446, '무국': 8447, '자지': 8448, '안전': 8449, '터널': 8450, '순서도': 8451, '쌔': 8452, '여럿': 8453, '면밀하다': 8454, '이무기': 8455, '배우자': 8456, '텅': 8457, '불별': 8458, '일개': 8459, '부릅뜨다': 8460, '셀러': 8461, '우선하다': 8462, '마셈': 8463, '라임': 8464, '라보': 8465, '성애자': 8466, '저격씬': 8467, '물밀듯이': 8468, '치명': 8469, '파니': 8470, '명예회손': 8471, '종북좌파': 8472, '던지기': 8473, '나뉘어지다': 8474, '진행중': 8475, '골드': 8476, '낚임': 8477, '서브': 8478, '금번': 8479, '지자': 8480, '현혹': 8481, '결핍': 8482, '강추꼭': 8483, '대략': 8484, '음음': 8485, '도등': 8486, '습지': 8487, '지혜롭': 8488, '하찮다': 8489, '다가서다': 8490, '뒤범벅': 8491, '대여': 8492, '이바지': 8493, '만두': 8494, '야옹': 8495, '폭팔': 8496, '여조': 8497, '허황': 8498, '인가가': 8499, '읺을까': 8500, '합격': 8501, '난해하다': 8502, '장동건': 8503, '퍼센티지': 8504, '활살': 8505, '소유자': 8506, '계책': 8507, '타개': 8508, '두뇌': 8509, '돈번': 8510, '거렸다': 8511, '쟤': 8512, '한음': 8513, '오메': 8514, '책속': 8515, '차별': 8516, '잼밌': 8517, '재밋다고하': 8518, '베이': 8519, '소모': 8520, '밤시': 8521, '묵적': 8522, '눈을땔수': 8523, '칙칙하다': 8524, '방도': 8525, '어떻든': 8526, '단가': 8527, '떠들썩하다': 8528, '규명': 8529, '군상': 8530, '박정': 8531, '도취': 8532, '보안': 8533, '손대다': 8534, '겟다': 8535, '시시': 8536, '프레임': 8537, '일감': 8538, '거봣': 8539, '무늬': 8540, '김민식': 8541, '탈영': 8542, '전투복': 8543, '어렴풋이': 8544, '뒤틀다': 8545, '지근': 8546, '터치': 8547, '반점': 8548, '전황': 8549, '치민': 8550, '치료': 8551, '짚': 8552, '사십분': 8553, '돔': 8554, '기다림': 8555, '영웅기': 8556, '혓': 8557, '파트': 8558, '식은땀': 8559, '열기': 8560, '생즉': 8561, '끓이다': 8562, '졸잼꿀잼': 8563, 'ㅋㅋㅋㄲ': 8564, '귓가': 8565, '오아아': 8566, '일종': 8567, '매너리즘': 8568, '결제': 8569, '늦잠': 8570, '자서': 8571, '주인': 8572, '안중': 8573, '저릿하다': 8574, '쫄깃해': 8575, '화점': 8576, '탈때': 8577, '최곤데': 8578, '풀어지다': 8579, '왕조': 8580, '외국어': 8581, '무능력': 8582, '해중': 8583, '깊숙이': 8584, '영회': 8585, '비범하다': 8586, '한국말': 8587, '영하': 8588, '엇구': 8589, '성우': 8590, '유성룡': 8591, '맞이': 8592, '장터': 8593, '재방송': 8594, '샤샤': 8595, '체계': 8596, '엄니': 8597, '쑥': 8598, '상유': 8599, '미천하다': 8600, '깡': 8601, '원킬': 8602, '그릴': 8603, '닥그닥그닥그닥': 8604, '굿굿구': 8605, '버라이어티': 8606, '뻘짓': 8607, '이제일': 8608, '차마': 8609, '나풀': 8610, '린데': 8611, '닻': 8612, '미사일': 8613, '괴': 8614, '블': 8615, '보물': 8616, '병졸': 8617, '독려': 8618, '뻐': 8619, '어게인': 8620, '힘주다': 8621, '해역': 8622, '부들부들하다': 8623, '재및': 8624, '오라': 8625, '교': 8626, '몇대': 8627, '여름방학': 8628, '막막': 8629, '서늘하다': 8630, '논객': 8631, '답시고': 8632, '가대': 8633, '조아하다': 8634, '떼': 8635, '왕따': 8636, '일일이': 8637, '셔': 8638, '신애': 8639, '극심하다': 8640, 'ㅈㅈ': 8641, '시적': 8642, 'ㅇㄴ': 8643, '크리티컬': 8644, '부평': 8645, '피고': 8646, '백만배': 8647, '마하': 8648, '대장군': 8649, '고객': 8650, '걸왜': 8651, '유학': 8652, '고영': 8653, '존해': 8654, '디렉터': 8655, '왓음': 8656, '나나': 8657, '간단': 8658, '나치': 8659, '투모로우': 8660, '꿀잼꿀잼꿀잼': 8661, '썩을': 8662, '좌지우지': 8663, '상한': 8664, '라이브': 8665, '속출': 8666, '국군': 8667, '감솨': 8668, '환하다': 8669, '귀청': 8670, '복원': 8671, '오들오들': 8672, '어쩌지': 8673, '서울대': 8674, '미학': 8675, '그러다가': 8676, '타겟': 8677, 'ㅡㄱ': 8678, '히히히': 8679, '약갸': 8680, '건기': 8681, '원내': 8682, '그럭': 8683, '저럭': 8684, '대학': 8685, '모바일': 8686, '자인': 8687, '뀨': 8688, '호통': 8689, '지워지다': 8690, '퓨': 8691, '동화책': 8692, '경지': 8693, '비명': 8694, '만찬': 8695, '오이': 8696, '참외': 8697, '듣보잡': 8698, '아해': 8699, '두서': 8700, '최선일': 8701, '개핵잼': 8702, '훌': 8703, '기점': 8704, '견해': 8705, '지저분하다': 8706, '요런': 8707, '제보': 8708, '점밑': 8709, '동아시아': 8710, '계위': 8711, '배끼': 8712, '돛': 8713, '라네': 8714, '쫄깃하': 8715, '국뽕빨': 8716, '주행': 8717, '은한': 8718, '목격': 8719, '마시다': 8720, '내리막': 8721, '햇슴': 8722, '다듬어지다': 8723, '업체': 8724, '자유': 8725, '맘껏': 8726, '이수': 8727, '과목': 8728, '사관학교': 8729, '나야': 8730, '김혜수': 8731, '대량': 8732, '좇아': 8733, '엇읍': 8734, '멋졋다': 8735, '무하': 8736, '깨우침': 8737, '행태': 8738, '괞찮': 8739, '찌잉': 8740, '밋습니': 8741, '좋앙': 8742, '리암': 8743, '슨': 8744, '부옇다': 8745, 'ㅋㄱㅋ': 8746, '전우': 8747, '누리다': 8748, '선봉': 8749, '장사꾼': 8750, '바라지': 8751, '궤': 8752, '산장': 8753, '중국인': 8754, 'ㄷㅏ': 8755, '간나': 8756, '멀어지다': 8757, '평탄하다': 8758, '재밋었는데': 8759, '이강': 8760, '굿샷': 8761, '보정': 8762, '신드롬': 8763, '쭈니': 8764, '있엇음': 8765, '달구다': 8766, '이탈': 8767, '턴': 8768, '기획사': 8769, '마눌': 8770, '수행': 8771, '런타임': 8772, '액': 8773, '예감': 8774, '개취': 8775, 'ㅆㅅㅌㅊ': 8776, '전해': 8777, '스파이더맨': 8778, '과업': 8779, '변형': 8780, '주머니': 8781, '고여': 8782, '계승': 8783, '번안': 8784, '시청각': 8785, '조장': 8786, '롭': 8787, '노무': 8788, '배속': 8789, '누굴': 8790, '쨔': 8791, '관통': 8792, '계몽': 8793, '수단': 8794, '히어로즈': 8795, '서여': 8796, '살포시': 8797, '뱉다': 8798, '너무쌔': 8799, '퇴보': 8800, '해수': 8801, '아낌없다': 8802, '이레': 8803, '적하': 8804, '의치': 8805, '스리': 8806, '사정없이': 8807, '우스꽝스럽다': 8808, '여리다': 8809, '또르르': 8810, '삼부작': 8811, '죄송': 8812, '단재': 8813, '신채호': 8814, '마역': 8815, '미이라': 8816, '점임': 8817, '대여섯': 8818, '십대': 8819, '제품': 8820, '영역': 8821, '픔': 8822, '치트': 8823, '급전': 8824, '비위': 8825, '드하': 8826, '환자': 8827, '잔당': 8828, '서재': 8829, '부딪치다': 8830, '반올림': 8831, '오예': 8832, '으쓱': 8833, '명치': 8834, '돌변': 8835, '쌀': 8836, '숭': 8837, '바이럴': 8838, '맙소사': 8839, '더하기': 8840, '상과': 8841, '감지': 8842, '일보': 8843, '고갈': 8844, '검': 8845, '몰려들다': 8846, '장의': 8847, '선비': 8848, '밥술': 8849, '지신': 8850, '논문': 8851, '드뎌': 8852, '쯧': 8853, '소형': 8854, '몱': 8855, '쩌럿다': 8856, '능력자': 8857, '히스토리': 8858, '자자하다': 8859, '내의': 8860, '땟': 8861, '꼽을수': 8862, '관료': 8863, '느꼇으': 8864, '볼라': 8865, '장소': 8866, '다임': 8867, '형평성': 8868, '성군': 8869, '언월도': 8870, '살찌다': 8871, '인양': 8872, '존엄': 8873, '깜': 8874, '석도': 8875, '기호': 8876, '상하': 8877, '전투함': 8878, '재밋긴': 8879, '울산': 8880, '효율': 8881, '강제규': 8882, '재임': 8883, '악플달다': 8884, '교란': 8885, '화승총': 8886, '었어': 8887, '특강': 8888, '도깨비': 8889, '아연': 8890, '최공': 8891, '한결같다': 8892, '우동': 8893, '종사': 8894, '왓다': 8895, '굿굿말': 8896, '사가다': 8897, '매달리다': 8898, '승률': 8899, '몰랏어': 8900, '앙꼬없는': 8901, '치하': 8902, '벼르': 8903, 'ㅡㅁ': 8904, '우물': 8905, '퇴근': 8906, '돌입': 8907, '그깟': 8908, '머싯어': 8909, '가중': 8910, '둘러싸다': 8911, '연결하다': 8912, '통과': 8913, '바리오': 8914, '꽤볼': 8915, '프리퀄': 8916, '브랜드': 8917, '혔': 8918, '굿웃': 8919, '출항': 8920, '천자총통': 8921, '융': 8922, '뒷이야기': 8923, '욕설': 8924, '불가사의하다': 8925, 'ㅇㄱ': 8926, '기혼': 8927, '고초': 8928, '소프트': 8929, '자연현상': 8930, '첫째': 8931, '벤허': 8932, '몀': 8933, '중병': 8934, '국방부': 8935, '우국': 8936, '국토': 8937, '추적': 8938, '모니터': 8939, '초등년': 8940, '개구리': 8941, '잡담': 8942, '바침': 8943, '키키': 8944, '가모': 8945, '빼기': 8946, '눙': 8947, '떠보다': 8948, '배타': 8949, '로또': 8950, '그룹': 8951, '어민': 8952, '음영': 8953, '기록영화': 8954, '일관': 8955, '꼭알': 8956, '대루': 8957, '이천': 8958, 'ㅇㄴㄷ': 8959, '추락': 8960, '무명': 8961, '뱃사공': 8962, '귯굿굿': 8963, '버거운': 8964, '기하': 8965, '일컫다': 8966, '행주대첩': 8967, '잭': 8968, '스나이더': 8969, '파일': 8970, '당첨': 8971, '모음': 8972, '지스토리': 8973, '철갑선': 8974, '괞찬': 8975, '모자이크': 8976, '유후': 8977, '솜씨': 8978, '졸개': 8979, '위험': 8980, '가정': 8981, '추풍낙엽': 8982, '한복': 8983, '같이만': 8984, '희미하다': 8985, '모험': 8986, '후방': 8987, '악몽': 8988, '별표': 8989, '거역': 8990, '뼈대': 8991, '나리': 8992, '오대': 8993, '원작': 8994, '통합': 8995, '요원': 8996, '적절': 8997, '엇움': 8998, '한인식': 8999, '우후': 9000, '비키다': 9001, '이간': 9002, '개잼꿀잼': 9003, '살찐': 9004, '샣기들': 9005, '다날': 9006, '개발': 9007, '양화': 9008, '금새': 9009, '일간': 9010, '엄정하다': 9011, '궁극': 9012, 'ㄷㅊ': 9013, '수난': 9014, '재밋어욬': 9015, '똭': 9016, '민간': 9017, '류작': 9018, '명나라': 9019, '광팬': 9020, '바람직하다': 9021, '곡선': 9022, '요역': 9023, '올킬': 9024, '대두': 9025, 'ㄱㅓ': 9026, '작작': 9027, '대속': 9028, '쥐락펴락하': 9029, '슌': 9030, '무력하다': 9031, '슌신': 9032, '오라버니': 9033, '곡성': 9034, '중국영화': 9035, '콕': 9036, '미스터리': 9037, '쟁': 9038, '전쟁씬등': 9039, '일생': 9040, '이이해': 9041, '멜로영화': 9042, '여사': 9043, '였슴다': 9044, '가려진': 9045, '갑갑': 9046, '에서처럼': 9047, '안개': 9048, '평가절하': 9049, '평준화': 9050, '패턴': 9051, '장수인': 9052, '피곤': 9053, '임산부': 9054, '훤히': 9055, '맛깔': 9056, '들뜨다': 9057, '로부터': 9058, '유능하다': 9059, '화신': 9060, '게이트': 9061, '은비': 9062, '다시역': 9063, '주르르': 9064, '잡탕': 9065, '진실성': 9066, '대부': 9067, '골다': 9068, '내시': 9069, '작시': 9070, '모델': 9071, '겉도': 9072, '이율': 9073, '낚였음': 9074, '허락': 9075, '별반': 9076, '공상': 9077, '애달프다': 9078, '집도': 9079, '픽': 9080, '분란': 9081, '돈안': 9082, '계열': 9083, '강아지': 9084, '으로가': 9085, '색채': 9086, '놀이': 9087, '유연하다': 9088, '병풍': 9089, '리움': 9090, '틈틈하다': 9091, '서천': 9092, '산하동': 9093, '굿굿굿굿굿굿굿굿굿굿굿굿': 9094, '화르륵': 9095, '섭섭하다': 9096, '맞짱': 9097, '가입': 9098, '찌르르': 9099, '격하': 9100, '박보영': 9101, '화전': 9102, '굴곡': 9103, '자국': 9104, '아수라': 9105, '비실': 9106, '사업': 9107, '도피': 9108, '짓눌리다': 9109, '제격': 9110, '굿귯': 9111, '스멀': 9112, '갑작스럽다': 9113, '명백하다': 9114, '뿌슝뿌슝': 9115, '요호': 9116, '노년': 9117, '대접': 9118, '왓던': 9119, '집합': 9120, '영리하다': 9121, '예스': 9122, '투구': 9123, '연배': 9124, '보리': 9125, '위작': 9126, '조준': 9127, '엄첨': 9128, '용인': 9129, '지원이': 9130, '아쉬웟': 9131, '칠천원': 9132, '엎드리다': 9133, '좌좀': 9134, '가년': 9135, '타인': 9136, '눌려': 9137, '없엇어': 9138, '결점': 9139, '잇엇어': 9140, '떨구다': 9141, '어기다': 9142, '하악하악': 9143, '회시': 9144, '개핵꿀잼': 9145, '넹노': 9146, '나열하다': 9147, '아쉬웟음': 9148, '휼룡': 9149, '브론즈': 9150, '게살': 9151, '물쌀': 9152, 'ㅆㅆ': 9153, '그따위': 9154, '핥다': 9155, '시반': 9156, '팔지': 9157, '굿또': 9158, '접수': 9159, '우왕좌왕': 9160, '찌림': 9161, '항공모함': 9162, '풍기다': 9163, '출마': 9164, '쪽발': 9165, '헷': 9166, '비관': 9167, 'ㄷㄱ': 9168, '이확': 9169, '련': 9170, '라피': 9171, '죤나': 9172, '병구': 9173, '보툄': 9174, '확대': 9175, '원안': 9176, '답답': 9177, '숲': 9178, '궁지': 9179, '자처': 9180, '도편': 9181, '멍하니': 9182, '달려오다': 9183, '붕': 9184, '도주': 9185, '야동': 9186, '가다듬다': 9187, '잼핵잼': 9188, '이음': 9189, '렉서스': 9190, '머신': 9191, '인시': 9192, '만큼만': 9193, '흉': 9194, '흉하다': 9195, '볼떄': 9196, '컷습니': 9197, '개정': 9198, 'ㅋㄱㄱ': 9199, '방파제': 9200, '트랜드': 9201, '뒷짐': 9202, '풍자': 9203, '퉁': 9204, '특': 9205, '호들갑': 9206, '밑바닥': 9207, '급류': 9208, '미쳣음': 9209, '대중문화': 9210, '영원': 9211, '비밀': 9212, '아베리': 9213, '찟따': 9214, '당해': 9215, '반비례': 9216, '지탱': 9217, '향상': 9218, '재량': 9219, '후미': 9220, '조아영': 9221, '피아노': 9222, '우리네': 9223, '총통': 9224, '와장창': 9225, '국한': 9226, '심강': 9227, '비전문가': 9228, '렵니': 9229, '검토': 9230, '지역감정': 9231, '아으': 9232, '부술때': 9233, '불협화음': 9234, '블루레이': 9235, '날뛰다': 9236, '둔갑': 9237, '어쩐': 9238, '최민석': 9239, '참내': 9240, '막상막하': 9241, '살벌하다': 9242, '쪽배': 9243, '늬': 9244, '바란': 9245, '주안': 9246, '됫다': 9247, '음정': 9248, '노자': 9249, '묘책': 9250, '구상': 9251, '무너': 9252, '남한': 9253, '산성': 9254, '지애': 9255, '이애': 9256, '초심': 9257, '삼국': 9258, '삭제': 9259, '치노': 9260, '안떨어지다': 9261, '폰': 9262, '만지작': 9263, '약사': 9264, '상부': 9265, '여덟': 9266, '하늘아래': 9267, '고리': 9268, '방지': 9269, '강박': 9270, '비행기': 9271, '플룻': 9272, 'ㅎㅋ': 9273, '지물': 9274, '펜': 9275, '재정': 9276, '숫자일': 9277, '마네': 9278, '무인': 9279, '날조': 9280, '중도': 9281, '흡족하다': 9282, '오늘아침': 9283, '우수': 9284, '이기자': 9285, '하나고': 9286, '기인': 9287, '장인': 9288, '래그': 9289, '굉': 9290, '고부': 9291, '오른쪽': 9292, '수상작': 9293, '여하튼': 9294, '추카': 9295, '어둠': 9296, '초인': 9297, '술함': 9298, '명가': 9299, '베뎃': 9300, '기압': 9301, '영화제작사': 9302, '농간': 9303, '껍니': 9304, '예절': 9305, '게을리': 9306, '속보': 9307, '객관성': 9308, '엉덩이': 9309, '점별': 9310, '다윗': 9311, '북쪽': 9312, '격침': 9313, '달아나다': 9314, '다각도로': 9315, '전진': 9316, '개요': 9317, '방화': 9318, '라이트': 9319, '었습니': 9320, '참패': 9321, '리메이크': 9322, '로우': 9323, '부심': 9324, '존잼꿀잼': 9325, '가어': 9326, '몇십': 9327, '전공자': 9328, '헿헤': 9329, '헤헿': 9330, '로선': 9331, '렸다': 9332, '임무': 9333, '쟈밋네': 9334, '통통하다': 9335, '트랜스': 9336, '스폐셜': 9337, '스끼': 9338, '희극': 9339, '바운스': 9340, '라이벌': 9341, '환호성': 9342, '마대': 9343, '행적': 9344, '송희립': 9345, '뭡': 9346, '모호': 9347, '군중': 9348, '다이묘': 9349, '읽히다': 9350, '일명': 9351, '단선': 9352, '폭발력': 9353, '부앙': 9354, '가을': 9355, '두루': 9356, '가로': 9357, '위태': 9358, '예언': 9359, '비등': 9360, '싣다': 9361, '트렌스포머': 9362, '첨가': 9363, '브터': 9364, '관찰': 9365, '경찰': 9366, '짱개': 9367, '싸이': 9368, '하필': 9369, '벗꽃': 9370, '이슌씬': 9371, '벼루': 9372, '보디': 9373, '바른길': 9374, '만듭니': 9375, '봤어욤': 9376, '저급': 9377, '후훗': 9378, '장판': 9379, '가마니': 9380, '주력': 9381, '소송': 9382, '직관': 9383, '독립운동': 9384, '가회': 9385, '재밋움': 9386, '앙상블': 9387, '저림': 9388, '봥': 9389, '아우르다': 9390, '이하임': 9391, '재밋게봄': 9392, '게이': 9393, '잼잼잼': 9394, '일자': 9395, '거슬': 9396, '김연아': 9397, '관대하다': 9398, '장난감': 9399, '모형': 9400, '우승하다': 9401, '볼빠': 9402, '맴도': 9403, '옵션': 9404, '사항': 9405, '보석': 9406, '부리': 9407, '예민하다': 9408, '쟈밋다': 9409, '째보': 9410, '투시': 9411, '워스트': 9412, '뿌': 9413, '뿅뿅': 9414, '표시': 9415, '아홉': 9416, '이응': 9417, '눼': 9418, '걸음걸이': 9419, '느무': 9420, '롸': 9421, '미움': 9422, '휴먼': 9423, '봣슴': 9424, '밋엇음': 9425, '릉': 9426, '밋음재밋음재밋': 9427, '고통스럽다': 9428, '홥': 9429, '일념': 9430, '매입': 9431, '퇴장': 9432, '이라기보다는': 9433, '흠칫': 9434, '힣': 9435, '인내심': 9436, '시신': 9437, '잼밋': 9438, '요홍': 9439, '포만': 9440, '악어': 9441, '악어새': 9442, '책정': 9443, '씐': 9444, '필독': 9445, '대가면': 9446, '응집': 9447, '주구': 9448, '재밋슴니': 9449, '배웅': 9450, '공역': 9451, '우렁차지': 9452, '났슴': 9453, '허허허헝': 9454, '번외': 9455, '더재믺다': 9456, '쾅쾅대다': 9457, '로지': 9458, '벘': 9459, '상쾌하다': 9460, '드높이다': 9461, '얼마만큼': 9462, '유승범': 9463, '개코': 9464, '돌직구': 9465, '가속': 9466, '근육': 9467, '갈껄': 9468, '하지먀세': 9469, '되엇': 9470, '멋졋으': 9471, '속마음': 9472, '들었돠놨돠': 9473, '라시': 9474, '절절이': 9475, '세면': 9476, '유단': 9477, '개콘': 9478, '프': 9479, '등지': 9480, '집안': 9481, '왓챠': 9482, '속기': 9483, '병약하다': 9484, '흐트려지': 9485, '공자': 9486, '횡하': 9487, '진인': 9488, '해고': 9489, '유유': 9490, '궈뒀을때': 9491, '뮤트': 9492, '무음': 9493, '싿': 9494, '앟슷': 9495, '좃앟': 9496, '불길': 9497, '사변': 9498, '꼰대같': 9499, '하물': 9500, '명단': 9501, '시드니': 9502, '익스': 9503, '더블': 9504, '림보': 9505, '재또': 9506, '공연': 9507, '거울': 9508, '느릿느릿': 9509, '아쥬멋져': 9510, '구미호': 9511, '잩': 9512, '꼬르륵': 9513, '혼미하다': 9514, '장신': 9515, '체중': 9516, '전통미': 9517, '선행': 9518, '향기도': 9519, '보곳': 9520, '피로하다': 9521, '탈탈': 9522, '미려': 9523, '인복': 9524, '울어버렷다': 9525, '고추전': 9526, '자밌는': 9527, '졸잼졸잼졸잼졸잼졸잼': 9528, '결연하다': 9529, '흠좀': 9530, '외교': 9531, '거점': 9532, '봑': 9533, '카캐카': 9534, '점보': 9535, '호연지기': 9536, '대판': 9537, '더갑': 9538, '떄리다': 9539, '심일': 9540, '눕다': 9541, '진귀': 9542, '미하': 9543, '후리다': 9544, '먀모': 9545, '따로따로': 9546, '인셉션': 9547, '메멘토': 9548, '몰랏던': 9549, '알게되엇어': 9550, '거렸습': 9551, '운전': 9552, '위험부담': 9553, '부서': 9554, '제수': 9555, '은피': 9556, '개잼존잼꿀잼': 9557, 'ㅠㅠㅍ': 9558, '디펜스': 9559, '부딫히는데': 9560, '부터의': 9561, '뿌듯햇습니': 9562, '두통': 9563, '금보': 9564, '듯단': 9565, '점찍': 9566, '나가야': 9567, '읍구': 9568, '다차': 9569, '밋다고햐': 9570, '꺠': 9571, '츰': 9572, '금나라': 9573, '도명': 9574, '낚는구': 9575, '바둑알': 9576, '컷었': 9577, '회화': 9578, 'ㅠㅠㅋㅋ': 9579, '슷긋그스그스그스': 9580, '늑대소년': 9581, '의지력': 9582, '의협': 9583, '아르': 9584, '우르': 9585, '장보리': 9586, '해피앤딩': 9587, '국뽕에취햇음': 9588, '강정': 9589, '아성': 9590, '오마이갇': 9591, '펄럭거리다': 9592, '이학': 9593, '왁': 9594, '원병': 9595, '부평역': 9596, '물임': 9597, '표준': 9598, '팔만': 9599, '판권': 9600, '킁': 9601, '이왕이면': 9602, '명대': 9603, '쩍쩍': 9604, '령': 9605, '로보캅': 9606, '하드웨어': 9607, '삼촌': 9608, '머지앜': 9609, '울엇네': 9610, '평안': 9611, '되씹다': 9612, '표씨': 9613, '흩다': 9614, '본디': 9615, '치티치티': 9616, '불후': 9617, '일케': 9618, '매듭': 9619, '움츠러들다': 9620, '젬잇네': 9621, '아우성치다': 9622, 'ㅅㅈ': 9623, '듟': 9624, 'ㅇㄴㄱㅂ': 9625, '칼끼': 9626, '케일': 9627, '웟다': 9628, '코엑스': 9629, '밨습': 9630, '예리하다': 9631, '부두': 9632, '글데': 9633, '천육백만': 9634, '좌현': 9635, '우현': 9636, '퍼퍼벙': 9637, '똥개': 9638, '플렉스': 9639, '궁굼': 9640, '동일시': 9641, '이조이': 9642, '뽀이쪼쪼쪼': 9643, '때믄에': 9644, '크래딧': 9645, '애해': 9646, '잊혀젔던': 9647, '바랬는데': 9648, '척결': 9649, '닌듯': 9650, '담시': 9651, '닌자': 9652, '핵꿀잼갓': 9653, '의왼': 9654, '퍼즐': 9655, '쌍둥이': 9656, '주름살': 9657, '일가견': 9658, '나빠지다': 9659, '다마': 9660, '여자애': 9661, '작부': 9662, '미치광이': 9663, '걲느': 9664, '숟': 9665, '뷁': 9666, '알바니': 9667, '이었슈': 9668, '괜춘한듯': 9669, '시간버렷다': 9670, 'ㅓㅓㅓㅓ': 9671, '해나': 9672, 'ㄴㅏ': 9673, '무뚝뚝하다': 9674, '마주치다': 9675, '퇴계': 9676, '핵핵': 9677, '서면': 9678, '친오빠': 9679, '쪼큼나왓': 9680, '재밋게봣던영화': 9681, '개뿜었': 9682, '샢': 9683, '피상': 9684, '번운': 9685, 'ㅏㅅ': 9686, '는데재밋다': 9687, '국어교육': 9688, '훗': 9689, '날꼭': 9690, '꺠달': 9691, '만추': 9692, '잃지맙시': 9693, '짓껏': 9694, '덕문': 9695, '미소녀': 9696, '젋': 9697, '발버둥': 9698, '꿀꺽': 9699, '잡스': 9700, '뿌뜻하': 9701, '가젤': 9702, '잇쩡': 9703, '감둥': 9704, '박친감': 9705, '보쟈퇴장할': 9706, '번호': 9707, '쩐': 9708, '모름지기': 9709, '정녕코': 9710, '움켜쥐다': 9711, '코메디': 9712, '셧겟': 9713, '썻을': 9714, '칭해': 9715, '그랙픽': 9716, '꾸르잼꾸르잼꾸르': 9717, '매니': 9718, '공사': 9719, '나영': 9720, '소셜': 9721, '트위터': 9722, '계정': 9723, '봤습니댜': 9724, '쓔샤': 9725, '척추': 9726, '빨대꼽': 9727, '쯉쯉': 9728, '고래고래': 9729, '함성': 9730, '두성': 9731, '성량': 9732, '괜츈': 9733, '왜입': 9734, '등때': 9735, '견줄만': 9736, '곽': 9737, '월영': 9738, '고사': 9739, '으러': 9740, '궁합': 9741, '개새끼': 9742, '고려시대': 9743, '선구': 9744, '삽': 9745, '넵': 9746, '파도타기': 9747, '재밋윳음': 9748, '사월': 9749, '꿋굿구슈': 9750, '여교': 9751, '스멜': 9752, '으흐': 9753, '인명': 9754, '바짝바짝': 9755, '핰': 9756, '위급하다': 9757, '행보': 9758, '홓': 9759, '장정': 9760, '맙': 9761, '드림웍스': 9762, 'ㅇㅎㅅ': 9763, '징살': 9764, '구성원': 9765, '불지': 9766, '제헌절': 9767, '개천절': 9768, 'ㅇㅊ': 9769, '투어': 9770, '사이사': 9771, '문화영': 9772, '얼떨결': 9773, '진짵': 9774, '활발하다': 9775, '코등': 9776, '쭐': 9777, '미쳣다': 9778, '바오': 9779, '봤슴돠': 9780, '릐쑨씐': 9781, '으앙': 9782, '쥬금': 9783, '재탕': 9784, '도레미': 9785, '파솔린': 9786, '시조': 9787, '린뎅': 9788, '박일': 9789, '주상': 9790, '종소리': 9791, '화웅': 9792, '임창정': 9793, '네임드': 9794, '함허': 9795, '혀끝': 9796, '볼만햣내': 9797, '아중': 9798, '극명하다': 9799, '아첨': 9800, '장해': 9801, '한탄': 9802, '장인상': 9803, '속눈썹': 9804, '리릭': 9805, '목청': 9806, '분당': 9807, '자쳬': 9808, '웠습': 9809, '도와줫기': 9810, '주보': 9811, '날보규': 9812, '절말': 9813, '메시': 9814, '즐라탄': 9815, '박주영': 9816, '그랬다고': 9817, '개한민국': 9818, '너무뿌': 9819, '리크': 9820, '제갈공명': 9821, '어쨋거': 9822, '세웟': 9823, '파묻히다': 9824, '킁킁': 9825, '컥컥': 9826, '캬아악': 9827, '재밋다해': 9828, '흐물흐물': 9829, '제적': 9830, '굿잡굿잡굿잡굿잡굿잡': 9831, '샷샷': 9832, '굿재밋': 9833, '문체': 9834, '해억': 9835, '호짜슥들': 9836, '설국': 9837, '송광호': 9838, '대본리딩': 9839, '므지므': 9840, '강대국': 9841, '미니시리즈': 9842, '군역': 9843, '하의': 9844, '재밋어오': 9845, '막살': 9846, '슆': 9847, '금미': 9848, '다시봣': 9849, '얺음': 9850, '이상돈': 9851, '이납': 9852, '대수롭다': 9853, '먹엇': 9854, '홀릭되': 9855, '합계': 9856, '오호': 9857, '호갱': 9858, '안당': 9859, '판별': 9860, '김지운': 9861, '통속': 9862, '찡찡대다': 9863, '따리': 9864, '열무': 9865, '무지무지': 9866, '전재멊는': 9867, '엇덤': 9868, '젤로': 9869, '사면': 9870, '겉절이': 9871, '나부': 9872, '다세': 9873, '아쉬브': 9874, '견주': 9875, '임연': 9876, '포화': 9877, '흠뻬빠져': 9878, '도큐': 9879, '와닸던데': 9880, '멍맘': 9881, '당혹': 9882, '닥추닥추닥추닥': 9883, '추닥추': 9884, '서간': 9885, '다강추': 9886, '근심': 9887, '반만년': 9888, '원형': 9889, '발해': 9890, '백제': 9891, '재고': 9892, '이타': 9893, '스틸': 9894, '클래식': 9895, '돈떡': 9896, '셨다': 9897, '봤드': 9898, '나물': 9899, '후웃': 9900, '담백헀': 9901, '지릿지릿': 9902, '람사': 9903, '말끔': 9904, '전국시대': 9905, '울곸': 9906, '영롸': 9907, '시프': 9908, '썻던': 9909, '괘안음': 9910, '쩔수': 9911, '굿숫굿귯': 9912, '포에버': 9913, '텐데다음': 9914, '캬캬': 9915, '뉨': 9916, '됸': 9917, '획득': 9918, '꾼잼굿굿': 9919, '란건': 9920, '몽매': 9921, '쉰들러리스트': 9922, '장수왕': 9923, '실외': 9924, '공중파': 9925, '애청': 9926, '의개': 9927, '컨디션': 9928, '신기원': 9929, '바로잡히다': 9930, '흐트러졌다': 9931, '옇': 9932, '불면': 9933, '재밋었네': 9934, '킨텍스': 9935, '에먼': 9936, '파격': 9937, '어뗐을': 9938, '굿굿재밋내': 9939, '겨눠보': 9940, '새치': 9941, '혓바닥': 9942, '하얗다': 9943, '해치': 9944, '회오리바람': 9945, '레골라스': 9946, '인력': 9947, '핑계': 9948, '톱씬': 9949, '쇠퇴하다': 9950, '픵': 9951, '돗았음': 9952, '투란': 9953, '뚜': 9954, '재밋어진다': 9955, '어려웟단': 9956, '토막': 9957, '옵빠': 9958, '박두': 9959, '리터': 9960, '치우천황': 9961, '환의': 9962, '훔백성': 9963, '새벽같이': 9964, '좋왓습니': 9965, '머무늘': 9966, '볼만앴': 9967, '아기자기하다': 9968, '따스하다': 9969, '강형철': 9970, '써니': 9971, '한재림': 9972, '매치다': 9973, '쏠쏠': 9974, '반반무': 9975, '말장난': 9976, '플래티넘': 9977, '보름': 9978, 'ㅇㅇㄴㄱㅅ': 9979, '역싀최': 9980, '껄끄러웠음': 9981, '관계없이': 9982, '한스타': 9983, '스릴맀': 9984, '크리스틴': 9985, '하수': 9986, '옸': 9987, '존격하': 9988, '효충': 9989, '재밋노': 9990, '서로서로': 9991, '포부': 9992, '몸속': 9993, '생색': 9994, '손목': 9995, '설익다': 9996, '한소리': 9997, '등먹엇': 9998, '고퀼': 9999, '찎는': 10000, 'ㅍㅌㅊ': 10001, '자단': 10002, '관란': 10003, '요람': 10004, '고쳣으': 10005, '항의': 10006, '냔': 10007, '습디': 10008, '에보니': 10009, '유사이래': 10010, '이혼': 10011, '번경': 10012, '를표': 10013, 'ㄱㄷㄱ': 10014, '디디': 10015, '욘기': 10016, '종영': 10017, '대로의': 10018, '천인': 10019, '구재': 10020, '도스안': 10021, '한명인': 10022, '천칠팔백만': 10023, '기네스': 10024, '복작복작': 10025, '달라붙다': 10026, '투둥': 10027, '튕겨버렷던거': 10028, '스났': 10029, '최곱': 10030, '방만': 10031, '고소': 10032, '흡인': 10033, '출산': 10034, '문화생활': 10035, '딸임': 10036, '최전선': 10037, '잠기다': 10038, '더힘': 10039, '진두': 10040, '끄웠': 10041, '차수': 10042, '평평': 10043, '거두': 10044, '절미': 10045, '프랜차이즈': 10046, '이긍': 10047, '썩소': 10048, '지은': 10049, '밍숭맹숭': 10050, '휩쓸렸을떄': 10051, '잼썻습니': 10052, '기업체': 10053, '간부': 10054, '축구한일전': 10055, '투덜': 10056, '되지맙시': 10057, '각의': 10058, '등방': 10059, '맨앞': 10060, '꺾다': 10061, '막도': 10062, '텐데요': 10063, '회귀': 10064, '베충': 10065, '재밋다능': 10066, '옼': 10067, '연관검색어': 10068, '트랙스': 10069, '제밌': 10070, '대사간': 10071, '명복': 10072, '깐깐하다': 10073, '불매': 10074, '니니': 10075, '다감': 10076, '바자': 10077, '배당': 10078, '봇것': 10079, '대디': 10080, '흥믐잼': 10081, 'ㅇㅆㄴ': 10082, '숫굿굿굿': 10083, '또바': 10084, '팍': 10085, '수발': 10086, '말구': 10087, '볼만햇슴': 10088, '거이먄': 10089, 'ㅁㅅ': 10090, '나태': 10091, '중루': 10092, 'ㅜㅍ': 10093, '님짱': 10094, '양보': 10095, '재간': 10096, 'ㅣㅣ': 10097, '도겨': 10098, '설치드': 10099, 'ㅇㄱㅈㅂ': 10100, '존잼또': 10101, 'ㅡㅠ': 10102, '나은영': 10103, '버섯': 10104, '티모': 10105, '연출가': 10106, '정신박약아': 10107, '왜나라': 10108, '방사': 10109, '능빨': 10110, '갱기': 10111, '잼있엇음': 10112, '야자': 10113, '먀넏': 10114, '간동': 10115, '느김': 10116, '감덕': 10117, '부딫쳐': 10118, '깨뜨리다': 10119, '초록색': 10120, '블링블링': 10121, '샤넬': 10122, '써클': 10123, '자유롭다': 10124, '제갈': 10125, '스턴트맨': 10126, '상책': 10127, '뭐냨': 10128, '펌하': 10129, '그떄': 10130, '작품하나': 10131, '소시오패스': 10132, '밋게봣다': 10133, 'ㅋㅋㅜㅜ': 10134, '요괴': 10135, '스똬': 10136, '안팔': 10137, '최애': 10138, '한술': 10139, '아비': 10140, '뜬금없드': 10141, '잼밋어': 10142, '꿰': 10143, '르란': 10144, '류승범': 10145, '운전자': 10146, 'ㄹㅇㄹㅇ': 10147, '오냐': 10148, '문산': 10149, '찜질방': 10150, '승질날': 10151, '비츄': 10152, '세용': 10153, '해확': 10154, '고풍': 10155, 'ㅋㅣㅣ': 10156, 'ㅣㅣㅋㅋ': 10157, '쌩뚱맞': 10158, '간세': 10159, '정보전': 10160, '마땅': 10161, '목재': 10162, '타협': 10163, '않아쑈': 10164, 'ㅡㅂ': 10165, '폭픙': 10166, '개잼졸잼꿀잼핵잼': 10167, '봐뀐다': 10168, '구니': 10169, '읺': 10170, '남진': 10171, '아함': 10172, '일곱개': 10173, '걔': 10174, '덜준': 10175, '힘자랑': 10176, '뒤척': 10177, '가만': 10178, '송글송글집중': 10179, '손자병법': 10180, '강략': 10181, '한번봣': 10182, '거늘': 10183, '발가락': 10184, '넘어지다': 10185, '재밋냉': 10186, '치켜들다': 10187, '숙고': 10188, '나읏듯': 10189, '읔': 10190, '패쓰': 10191, '지극': 10192, '잘혔': 10193, '괴팍하다': 10194, '돋아나다': 10195, '잼졸잼꿀잼': 10196, '국혼': 10197, '그녕': 10198, '다자': 10199, '느기고': 10200, '깔보다': 10201, '펀집': 10202, '싹둑싹둑하다': 10203, '재밋는거': 10204, '핬던': 10205, '듯칸': 10206, '동기': 10207, '촘촘': 10208, '요건': 10209, '뭘햇': 10210, '스터리': 10211, '밴드': 10212, '브라더스': 10213, '나왔슴': 10214, 'ㅎㅎㅆ': 10215, '액스트라': 10216, '내막': 10217, '음료수': 10218, '뿜으': 10219, '서사영화': 10220, '압볼': 10221, '럽': 10222, '개노쟁얀': 10223, '분신': 10224, '꾹꾹': 10225, '잼나써욤': 10226, '통솔': 10227, '봣다능': 10228, '지룸함': 10229, '거름': 10230, '루웅': 10231, '줫는': 10232, '척척': 10233, '왓음다': 10234, '국밥': 10235, '보기드믈': 10236, '토르': 10237, '쑝': 10238, '댛': 10239, '칭얼대다': 10240, '가슴벅찻으': 10241, '텔링': 10242, '밋다재밋다재밋다': 10243, '문의': 10244, '컴팩트': 10245, '모르겄소': 10246, '개호': 10247, '걋': 10248, '분분하다': 10249, '확립': 10250, '재밌쯈': 10251, '재밋엇용': 10252, '쎳던': 10253, '연연하다': 10254, '할러': 10255, '캡틴아메리카': 10256, '컨텍': 10257, '가당': 10258, '퓸': 10259, '특해': 10260, '리필': 10261, '체고': 10262, '칭얼거리다': 10263, '아난': 10264, '도강': 10265, '훠이훠': 10266, '원전': 10267, '흘렷': 10268, '간간이': 10269, '만전': 10270, '임대': 10271, '좌표': 10272, '꾸벅': 10273, '도면': 10274, '구기다': 10275, '초절': 10276, '가야로': 10277, '총장': 10278, '총공격': 10279, '지난날': 10280, '개집': 10281, '안먹엇네': 10282, '조운': 10283, '티코': 10284, '였딘': 10285, '중량': 10286, '죽응겨': 10287, '수산시장': 10288, '핶': 10289, '가글': 10290, '군부': 10291, '기복': 10292, '생사': 10293, '부천': 10294, '안전하다': 10295, '에서든지': 10296, '쫄깃함': 10297, '해하': 10298, '번개': 10299, '크크킄크': 10300, '데박': 10301, '볼모': 10302, '재밋었습니다': 10303, '미네': 10304, '호홍링': 10305, '이적': 10306, '좌파': 10307, '신비': 10308, '근무시간': 10309, '무용지물': 10310, '천혜': 10311, '공동': 10312, '세영': 10313, '용단': 10314, '유지됨': 10315, 'ㅂㅈㄷㄱ': 10316, '롼': 10317, 'ㄹㄴㅎㅊ': 10318, 'ㅈㄷ': 10319, '올림픽': 10320, '뭔들': 10321, '나랏': 10322, '여의': 10323, '경복궁': 10324, '이러다가': 10325, '당체': 10326, '재밌겐': 10327, '복사': 10328, '씨움': 10329, '초치': 10330, '뵛을라': 10331, '슥들': 10332, '공률': 10333, '째앰': 10334, 'ㅕㄴ': 10335, '머무': 10336, '볼껏': 10337, '술해': 10338, '남영동': 10339, '반발': 10340, '텐텐': 10341, '텐': 10342, '알밥': 10343, '갠찮네욬': 10344, '불보듯': 10345, '퍽펙트': 10346, '순국': 10347, '부어': 10348, '나올껀': 10349, '못때': 10350, '화인': 10351, '몰개': 10352, '격공': 10353, '반론': 10354, '젤돈안': 10355, '점성': 10356, '잼밌었': 10357, '머리털': 10358, 'ㄹㅎ': 10359, '추이': 10360, '너덜너덜하다': 10361, '흐릿해': 10362, '보변': 10363, '쥐위': 10364, '운남고': 10365, '먗주': 10366, '돌응': 10367, '산전': 10368, '격었으': 10369, '반한': 10370, '해저': 10371, '저음': 10372, '살딸': 10373, '노잡': 10374, '우베': 10375, '몸부림': 10376, '촘촘히': 10377, '광복': 10378, '안부': 10379, '왔습돠': 10380, '봫': 10381, '여왜': 10382, '쫓아가다': 10383, '어찌됏': 10384, '부금': 10385, '나염': 10386, '야차': 10387, '쇼핑': 10388, '나왓을듯': 10389, '읍닏': 10390, '쇤네': 10391, '하염없이': 10392, '뷔페': 10393, '찌립니': 10394, '민란': 10395, '산적': 10396, '었던것': 10397, '광원': 10398, '개혁': 10399, '오로라': 10400, '뿜어져': 10401, '시경': 10402, '따끔': 10403, '정말훈륭': 10404, '순결': 10405, '쪼이다': 10406, '꿋꿋꿋꿋쿳쿳': 10407, '좀됫': 10408, '종인': 10409, '굿굿굿굿잼잼잼': 10410, '굿종': 10411, '충남': 10412, '천안': 10413, '경기도': 10414, '남양주': 10415, '진접': 10416, '미취': 10417, '아동': 10418, '순조': 10419, '상륙작전': 10420, '맥아더': 10421, '기관총': 10422, '난사': 10423, '사단': 10424, '바주카포': 10425, '헤드샷': 10426, '함속': 10427, '통괘합니': 10428, '핵재밋': 10429, '이복': 10430, '봣는': 10431, '줫습니': 10432, '산물': 10433, '안도': 10434, '가꾸다': 10435, '탈수': 10436, '리세': 10437, '무기력증': 10438, '낚지마': 10439, '갓으': 10440, '너무져밋응': 10441, '뭘바': 10442, '꽉진': 10443, '변했슴니': 10444, '처참': 10445, '픽업': 10446, '길강': 10447, '민수형': 10448, '배드씬': 10449, '케함': 10450, '개쩖': 10451, '대도둑': 10452, '살생': 10453, '샤우팅덕': 10454, '잡친': 10455, '꼴깝': 10456, '좁쌀': 10457, '김판호': 10458, '주륵주륵': 10459, '공구': 10460, '불매운동': 10461, '난도질': 10462, '친추': 10463, '명궁': 10464, '배성': 10465, 'ㄴㄴㄷㄴ': 10466, '쵝오네': 10467, '드라큘라': 10468, '굿굿굿굿귯귯규': 10469, '탈환': 10470, '천상천': 10471, '독존': 10472, '겔럭시보세': 10473, '은공': 10474, '젼': 10475, '아쉬웧음': 10476, '양식': 10477, '위성': 10478, '재밋엏어': 10479, '트린': 10480, '다툼': 10481, '울엇음': 10482, '밋슴': 10483, '아름': 10484, '이떄': 10485, '배랑': 10486, '예지력': 10487, '으로싸웟음': 10488, '거세': 10489, '스크': 10490, '홰': 10491, '뜨럽': 10492, '바랴랴충': 10493, '귤잼': 10494, '꼭보셧으': 10495, '어지러움': 10496, '신세대': 10497, '델때': 10498, '다잡드': 10499, '답글': 10500, '나전': 10501, '뻇': 10502, '조심스럽다': 10503, '원스': 10504, '씬같': 10505, '뚜둥': 10506, '삐리': 10507, '만백성': 10508, '산기대': 10509, '하그': 10510, '아이스크림': 10511, '엑소': 10512, '퐈': 10513, '꼭보세욤': 10514, '곤란': 10515, '후분': 10516, '시커멓다': 10517, '어도': 10518, '렇드': 10519, '서요': 10520, '유승호': 10521, '나날이': 10522, '하말': 10523, '씻기다': 10524, '지식인': 10525, '우쭐': 10526, '이완용': 10527, '음성': 10528, '해성': 10529, '논리성': 10530, '문화인': 10531, '꼬보셈': 10532, '돈독하다': 10533, '나압': 10534, '걸봣': 10535, '러셀': 10536, '크로우': 10537, '똥통': 10538, '다이아몬드': 10539, '비인간': 10540, '녕': 10541, '함갠': 10542, '밎엇': 10543, '재밎어져': 10544, '야속하다': 10545, '되돌리다': 10546, '있엇으': 10547, '글로': 10548, '와닺는': 10549, '못만듬': 10550, '졸잼꿀잼졸잼꿀잼': 10551, '홍보단': 10552, '영성': 10553, '점드려욬': 10554, '공략': 10555, '밭았읍니': 10556, '눌리': 10557, '럼국뽕': 10558, '괞챦음': 10559, '겨루다': 10560, '맹렬하다': 10561, '다실': 10562, '광녀': 10563, '진탕': 10564, '다대': 10565, '기선': 10566, '소인배': 10567, '쯔': 10568, '육성': 10569, '조중동': 10570, '해유': 10571, '여보': 10572, '뵛으': 10573, '이몸': 10574, '전해진': 10575, '밋었어요재밋었': 10576, '오신': 10577, '땡잡다': 10578, '여구': 10579, '풍수지리': 10580, '둘레': 10581, '말뚝': 10582, 'ㅆㅓ': 10583, '핵졸잼': 10584, '괜춘괜춘했어': 10585, '꿀좸꿀좸': 10586, '교정': 10587, '아역': 10588, '스파이': 10589, '분모': 10590, '번더볼': 10591, '예끼': 10592, '선량하다': 10593, '지옥': 10594, '인도': 10595, '숨막혓음': 10596, '집사': 10597, '개잼두번바세벙바': 10598, '댓글러': 10599, '신의정': 10600, '신개': 10601, '안햇': 10602, '드믄': 10603, '팀킬': 10604, '정탁': 10605, '이원익': 10606, '번디': 10607, '끼쳣던': 10608, '칼빵': 10609, 'ㄷㄷㅎ': 10610, '붐비다': 10611, '떠다니다': 10612, '노여움': 10613, '활기차다': 10614, '품위': 10615, '잼밌네': 10616, '존멸안위': 10617, '그럭저락': 10618, '봣더': 10619, 'ㅡㅏㅆ': 10620, '유모': 10621, '삼백오': 10622, '섭리': 10623, '구시': 10624, 'ㅜㅇ': 10625, '살갓': 10626, '쫑': 10627, '두리': 10628, '실하다': 10629, '재력': 10630, '유희': 10631, '왓네': 10632, '개식': 10633, '사당': 10634, '진퉁': 10635, '몬말': 10636, '이상형': 10637, '쯈': 10638, '이어도': 10639, '배기': 10640, '씬간': 10641, '의결': 10642, '천백배': 10643, '탱': 10644, '한인': 10645, '힌번더': 10646, '감삼': 10647, '어찌하여': 10648, '시재': 10649, '조립': 10650, '인부': 10651, '퀄리티내': 10652, '서원': 10653, '선거': 10654, '북선': 10655, '우짜': 10656, '눈물겨웠': 10657, '정투': 10658, '리서치': 10659, '저따위': 10660, '시긴': 10661, '뽀로로': 10662, '와아아': 10663, '상조': 10664, '만들엇네': 10665, '꾹뽕': 10666, 'ㅋㅋㄱㄲ': 10667, '읎': 10668, '반입': 10669, '평레기': 10670, '노힘': 10671, '물보라': 10672, '속주': 10673, '살집': 10674, '댕강댕강': 10675, '공공': 10676, '갸웃거렸다': 10677, '여심': 10678, '봏': 10679, '수뱌': 10680, '재밋엇어오': 10681, '교민': 10682, '몀량': 10683, '효수': 10684, '쭘': 10685, '비역': 10686, '우르크하이': 10687, '핰번': 10688, '영기': 10689, '댱': 10690, '영해': 10691, '을기': 10692, '등불': 10693, '고대로': 10694, '행동므': 10695, '니요': 10696, '보세': 10697, '으읔': 10698, '그림자': 10699, '긴장도': 10700, '조합상': 10701, '넘재밋': 10702, '발업': 10703, '공업': 10704, '노업': 10705, '앂': 10706, '뉴': 10707, '부듯하다': 10708, '늦겨': 10709, '하옵다': 10710, '더멋': 10711, '흐릿한것': 10712, '승선': 10713, '장단점': 10714, '넷이': 10715, '슬쩍': 10716, '피토': 10717, '술게임': 10718, '들깨': 10719, '신년': 10720, '밋는': 10721, '좋은둣': 10722, '대왕': 10723, '부적절하다': 10724, '위란': 10725, '질도': 10726, '목배': 10727, '회복': 10728, '쟈밋게봣': 10729, '무치': 10730, '급습': 10731, '막사': 10732, '으로써는': 10733, '장승업': 10734, '호리': 10735, '독재': 10736, '풍기': 10737, '쪽빨': 10738, '장실': 10739, '마일리': 10740, '볼깨': 10741, '도소': 10742, '말자하': 10743, '로빙': 10744, '미첬다': 10745, '얹히다': 10746, '발자취': 10747, '월전': 10748, '입가': 10749, '미소': 10750, '유머러스하다': 10751, 'ㄱㄱㄱㄱ': 10752, '구르름': 10753, '버서난달': 10754, '해몽': 10755, '이용기': 10756, '굿존굿열굿': 10757, '렷음': 10758, '먾': 10759, '방그뽯다': 10760, 'ㅎㅎㅆㅅ': 10761, '여우': 10762, '몈': 10763, '동굴': 10764, '깍지': 10765, '아이참': 10766, '흑역사': 10767, '용상': 10768, '허수아비': 10769, '인포': 10770, '데스크': 10771, '불친절': 10772, '끝내기': 10773, '반사': 10774, '맘석': 10775, '당당': 10776, '경필': 10777, '해답': 10778, '뽝씻': 10779, '유입': 10780, '지다해': 10781, '으엌': 10782, 'ㄱㅋㅋ': 10783, '닌지': 10784, '어딧어': 10785, '피비': 10786, '방과후': 10787, '통용': 10788, '기역': 10789, '외자': 10790, '부민': 10791, '족자': 10792, '성자': 10793, '업자': 10794, '존글': 10795, '무지막지': 10796, '뚱땅뚱땅': 10797, '밀감': 10798, '완화': 10799, '아부': 10800, '굴릴': 10801, '하서': 10802, '정전': 10803, '박차다': 10804, 'ㄱㅇㄷ': 10805, '흐그극끄그': 10806, '더덕더덕': 10807, '주니': 10808, '특별법': 10809, '모르곘': 10810, '아셧으': 10811, '한당': 10812, '독도는우리땅': 10813, '캐잼존잼': 10814, '캐멋존멋': 10815, '씯': 10816, '함깨': 10817, '취함': 10818, '가담': 10819, '비뚤어지다': 10820, '멋딘': 10821, 'ㄹㅣ': 10822, '현직': 10823, '병마': 10824, '동주': 10825, '굿굿굿굿잡': 10826, '이오나': 10827, '독주': 10828, '고하도': 10829, '신더': 10830, '팍후': 10831, '왔슴다': 10832, '내려다보다': 10833, '요즌': 10834, '누그': 10835, '잔존': 10836, '수습': 10837, '쵝오쵝오쵝오': 10838, '투톱안': 10839, '대란': 10840, '공포물': 10841, '교내': 10842, '케이크': 10843, '절마믜': 10844, '못민드': 10845, '방송국': 10846, '처묵처묵': 10847, '강매': 10848, '돈줌': 10849, '뺑': 10850, '이친': 10851, '샌드위치': 10852, '넘무셩': 10853, '촉발': 10854, '브라운관': 10855, '가뭄': 10856, '상속': 10857, '댜단': 10858, '활땜': 10859, '꺄': 10860, '달순': 10861, '붕뜨': 10862, '기뻣습니': 10863, '차레': 10864, '했었슴': 10865, '월호': 10866, '구모': 10867, '금세': 10868, '던거': 10869, '멋졍': 10870, 'ㅅㅡㅂ': 10871, '회이자': 10872, '촤고': 10873, '발산': 10874, '거릴거': 10875, '색끼': 10876, '타치': 10877, '로류': 10878, '사유': 10879, '전병': 10880, '쌋습니': 10881, '세종': 10882, '굿굿재': 10883, '원유철': 10884, '항전': 10885, '행간': 10886, '출타': 10887, '망상': 10888, '읿': 10889, '활자': 10890, '설치다': 10891, '백정': 10892, '데코': 10893, '출구': 10894, '가발': 10895, '육아': 10896, '코앞': 10897, '동참': 10898, '귣굳': 10899, '만년': 10900, '저열': 10901, '부강': 10902, '새볔': 10903, '중화': 10904, '뎃글': 10905, '것임위': 10906, '직위': 10907, '면강': 10908, '마안': 10909, '울뻔햇엇다': 10910, '슺': 10911, '투씬': 10912, '혼내다': 10913, '류승수': 10914, '릴리': 10915, '쨤': 10916, '룰잼': 10917, '당면': 10918, '김윤석': 10919, '아저씬': 10920, '흠좀무': 10921, '암튼쵝오': 10922, '멌': 10923, '코끗': 10924, '만장': 10925, '난하다': 10926, '또잼': 10927, '감정인': 10928, '영정': 10929, '붕떠버린': 10930, '본보다': 10931, '있음': 10932, '재밋게밧슴니당': 10933, '학예회': 10934, '춈춈': 10935, '충혈': 10936, '밋긴재밋': 10937, '버저': 10938, '랃': 10939, '쩔킹': 10940, '쵣오': 10941, '극상': 10942, '첩보': 10943, '트릭': 10944, '쵸': 10945, '잼있꼬': 10946, '봐듀': 10947, '등짝등짝': 10948, '완죤완죤': 10949, '허물': 10950, '붕뜬거': 10951, '향기': 10952, '재생': 10953, '눙물': 10954, '가유': 10955, '싀움': 10956, '백천배': 10957, '굿굿숫': 10958, 'ㅜㅅㅜㅅ': 10959, '맺혔다': 10960, '칠백만이': 10961, '스타트': 10962, '개쩌네': 10963, '느껴졋다': 10964, '실증': 10965, '의사학': 10966, '산통': 10967, '똥배': 10968, '배뎃봐': 10969, '욕질': 10970, '오랑우탄': 10971, '분배': 10972, '아트': 10973, '음조': 10974, '앗능데': 10975, '비꼬기': 10976, '건꼭': 10977, '쌩돈': 10978, '이억해': 10979, '레오니다스': 10980, '영화제작진': 10981, '우메': 10982, 'ㅅㅁㅅ': 10983, '아이디': 10984, '맺혔': 10985, '힐링캠프': 10986, '학설': 10987, '입김': 10988, '못줄': 10989, '재밋긴합니': 10990, '오글대다': 10991, '택햇': 10992, '발걸음': 10993, '람보': 10994, '사이코패스': 10995, '닌': 10996, '크흐': 10997, '갠찮': 10998, 'ㅇㅎ': 10999, '양궁': 11000, '사법': 11001, '오랑캐': 11002, '아속': 11003, '삭막하다': 11004, '통수': 11005, '갓파더': 11006, '치네다': 11007, '캐나다': 11008, '사업가': 11009, '해뢰': 11010, '또또': 11011, '얄쌍': 11012, '흐트러지': 11013, '하야': 11014, '다이아': 11015, '유리': 11016, '자안': 11017, '석택': 11018, '시픔': 11019, '입감': 11020, '꼭보샤용': 11021, '감영': 11022, '숙박': 11023, '닛': 11024, '덧글': 11025, '렌트': 11026, '캐리다': 11027, '덧칠': 11028, '누더기': 11029, '옷자락': 11030, '상보': 11031, '룰룽': 11032, '심난': 11033, '조항': 11034, '밋음재밋': 11035, 'ㅈㅇ': 11036, '힐수': 11037, '세종로': 11038, '갇': 11039, '엇를': 11040, '실점': 11041, '귯둣': 11042, '쥬너노버누오넙': 11043, '고등어': 11044, '지해': 11045, '뻬고': 11046, '천삼백만이': 11047, '촌극': 11048, 'ㄴㅇ': 11049, 'ㅇㅎㅎ': 11050, '울화통': 11051, '연도': 11052, 'ㅌㅌㅋ': 11053, '마흔': 11054, '잔학': 11055, '마동석': 11056, '홈런': 11057, '동점': 11058, '득실하다': 11059, '하고봣떠': 11060, '높낮이': 11061, '아가리': 11062, '선진': 11063, '과학기술': 11064, '근근히': 11065, '안듬연출': 11066, '눈섭': 11067, '부관': 11068, '무정하다': 11069, '확정': 11070, '말껄하': 11071, '읶더': 11072, '서번': 11073, '쿵쿵따': 11074, '음료': 11075, '마려워': 11076, '명존': 11077, '옅다': 11078, '울컥거렸다': 11079, '상일': 11080, '로망': 11081, '난다요': 11082, '마라천': 11083, '나은지': 11084, '댓글달다': 11085, '번거롭다': 11086, '이걸재밋다': 11087, '드글드글': 11088, '조종': 11089, '쾈': 11090, '코카': 11091, '카콰쾅': 11092, '거위': 11093, '여념': 11094, '연변': 11095, '사냥꾼': 11096, '김형석': 11097, '김성훈': 11098, '김혜리': 11099, '장영': 11100, '주성철': 11101, '이화': 11102, '닭봉': 11103, '공비': 11104, 'ㅣㅣㄱ': 11105, '돌팔매': 11106, '삿갓': 11107, '도구': 11108, '까지와': 11109, '영어': 11110, '룬': 11111, '후레자싴되기': 11112, '화난': 11113, '줄뿍': 11114, '회항': 11115, '조이': 11116, '지피지기': 11117, '떨렸드랬다': 11118, '용또': 11119, '질식': 11120, '굳입니닺': 11121, '거머리': 11122, '기분조타': 11123, '칼럼': 11124, '왜죽': 11125, '확률': 11126, '벗겨지다': 11127, '근현대사': 11128, '유기성': 11129, '재밋느사람은재밋': 11130, '발달': 11131, '서영': 11132, '갈바': 11133, '어이없이': 11134, '역핢': 11135, '가파른': 11136, '대명사': 11137, '장래': 11138, '단군': 11139, '되놈': 11140, '콜': 11141, '송여립': 11142, '백치': 11143, '아다다': 11144, '속옷': 11145, '싸웟는': 11146, '무심': 11147, '인물관계도': 11148, '이엄': 11149, 'ㄴㄴㄷ': 11150, '닯': 11151, '괜짢': 11152, '의군': 11153, '함돈': 11154, '치켜뜨다': 11155, '시뮬레이션': 11156, '스피드': 11157, '자닌한거': 11158, '흘렷네': 11159, '돌려막기': 11160, '기득권': 11161, '개속': 11162, '우문': 11163, '마인더': 11164, 'ㅋㅋㅋㅣ': 11165, 'ㅏㅁㅇ': 11166, '재작': 11167, '눈떳네': 11168, '악덕': 11169, '나아': 11170, '신세경': 11171, '이하늬': 11172, '굿꼭보샘': 11173, 'ㅇㄹ': 11174, '딤': 11175, '범인': 11176, '육체': 11177, '플라토닉': 11178, '넘실넘실': 11179, '님다': 11180, '쌍노누': 11181, '꿀재뮤': 11182, '율둘': 11183, '목장': 11184, 'ㅇㅆ': 11185, '아치로': 11186, '항목': 11187, '소나기': 11188, '개월뒤': 11189, '독무': 11190, '얄밉다': 11191, '기미': 11192, '슬금슬금': 11193, '민어': 11194, '읺았습니': 11195, '하히후헤호잉': 11196, '두기': 11197, '나뒹글': 11198, '임구': 11199, '역학': 11200, '발즉살': 11201, '잇엇': 11202, '세례': 11203, '고수현': 11204, '멍게': 11205, '말미잘': 11206, '반딧불': 11207, '대게': 11208, '짤짤': 11209, '캊': 11210, '알토': 11211, '사병': 11212, '어째선': 11213, '거때매': 11214, '재밋어욤': 11215, '어쩌네해': 11216, '선탈때': 11217, '해정': 11218, '웃굿': 11219, '칭할': 11220, '국영수': 11221, '프랑스': 11222, '처형': 11223, '조정은': 11224, '당략': 11225, '당쟁': 11226, '정국': 11227, '군자': 11228, '퍼부운': 11229, '이엇습니': 11230, '군률': 11231, '알수없음': 11232, '극체': 11233, '국뽕섹기들': 11234, '서해': 11235, '어룡동': 11236, '맹산': 11237, '초목': 11238, '긍': 11239, '킬러': 11240, '울렁': 11241, '뭉클나': 11242, '술시': 11243, '지성': 11244, '권위': 11245, '추호': 11246, '성능': 11247, '끽해야': 11248, '숙달': 11249, '거슬러': 11250, '키카': 11251, '참고서': 11252, '트랜': 11253, '카카': 11254, '주거': 11255, '밀집': 11256, '징징대다': 11257, '딩': 11258, '묵살': 11259, '성진부': 11260, '뭐고': 11261, '윤': 11262, '병장': 11263, '현재상황': 11264, '체크': 11265, '뭐냐곸': 11266, '숨결': 11267, '흐느끼': 11268, '봤습닏': 11269, '지성이면': 11270, '감천': 11271, '다담': 11272, '박쥐': 11273, '재밋게봣아': 11274, '유람선': 11275, '총동원': 11276, '낚였어': 11277, '글씨체': 11278, 'ㄸ': 11279, '뿜었습니': 11280, '쫄깃쫄깃이': 11281, '머말': 11282, '햇음갠': 11283, '던것': 11284, '옥포해전': 11285, '김정현': 11286, '부글부글': 11287, '출력': 11288, '배구': 11289, '출하': 11290, '효가': 11291, '불금': 11292, '단정': 11293, '스팅': 11294, '볼만했슈': 11295, '홍천': 11296, '버프먹여': 11297, '삼분': 11298, 'ㅠㅋ': 11299, '욱욷': 11300, '둑둑': 11301, '재밋어뇨': 11302, '고추': 11303, '쥤': 11304, '권해': 11305, '내신': 11306, '재밋게잘봣어': 11307, '힘들엇네': 11308, '초첨': 11309, '바로다': 11310, '재밋는영화': 11311, '박치': 11312, '치마저고리': 11313, '대장정': 11314, 'ㅣㅡㅎ': 11315, '류승롱': 11316, '바궜음': 11317, '바이': 11318, '봇물': 11319, '오홋': 11320, '건줄': 11321, '방관': 11322, '잨품입니': 11323, '아리송하다': 11324, '산위': 11325, '펄': 11326, '탈땐': 11327, '녓음': 11328, '오졋음': 11329, '류현경': 11330, '일독': 11331, '임딘': 11332, '등골': 11333, '압살': 11334, '콩깍지': 11335, '까칠하다': 11336, '띠껍': 11337, '표연': 11338, '난정': 11339, '촉촉하다': 11340, '한량': 11341, '붕클한': 11342, '처단': 11343, '액국심': 11344, '얼머너': 11345, '본토': 11346, '멸망': 11347, '받아버렷': 11348, '국운': 11349, '페르시아': 11350, '레오': 11351, '사과문': 11352, '섭보': 11353, '부시': 11354, '락거려': 11355, '에게서만': 11356, '게로': 11357, '계발': 11358, '직장인': 11359, '첫빠': 11360, '서진': 11361, '길임': 11362, '저해': 11363, '내인': 11364, '생손': 11365, '인격': 11366, '펑론가들': 11367, '섀키': 11368, '어리둥절': 11369, '립니': 11370, '목사': 11371, '목회': 11372, '이임': 11373, '일곱': 11374, '여파': 11375, '점준애': 11376, '학련': 11377, '맺힌채': 11378, '빨땜': 11379, '뜬구름': 11380, '보녀': 11381, '뗼': 11382, '엇그제': 11383, '위풍': 11384, '오픈': 11385, '듬성듬성하다': 11386, '로세': 11387, '일대일': 11388, '정마': 11389, '화룰': 11390, '손땀': 11391, '퍼스트': 11392, '어벤져': 11393, '여전': 11394, '장혁': 11395, '산화': 11396, '냥임': 11397, '튶용': 11398, 'ㅠㅠㅡ': 11399, '빼앗다': 11400, '틔': 11401, '나합': 11402, 'ㅠㅎ': 11403, '무역사': 11404, '시공간': 11405, 'ㄱㅎ': 11406, '희생양': 11407, '친척': 11408, '전소': 11409, '용종': 11410, '개졸잼꿀잼': 11411, '구애': 11412, '돌쇼': 11413, 'ㅕㅎ': 11414, '산천': 11415, '핏빛': 11416, '자밋': 11417, '방방': 11418, '가랏': 11419, '거핵': 11420, '봄역쉬': 11421, '킨나': 11422, '빠다': 11423, '스캐': 11424, '밋엇구': 11425, '꺼풀': 11426, '계백': 11427, '욕좀': 11428, '꼼수': 11429, '끝내줫': 11430, '간당간당': 11431, '양가': 11432, '바라냐': 11433, '한닥': 11434, '힘엄는': 11435, '먼저봣으': 11436, '존잘': 11437, '봣숩니당': 11438, 'ㅡㅇ': 11439, '설계': 11440, '정지': 11441, '쪈': 11442, '울음소리': 11443, '단편영화': 11444, '임수정': 11445, '처세술': 11446, '교휸': 11447, '증발': 11448, '군사훈련': 11449, '고안': 11450, '댕': 11451, '문채원': 11452, '쟈밌어': 11453, '댜박': 11454, '오백만이': 11455, '도선사': 11456, '려면': 11457, '므재밋': 11458, '불체': 11459, '지수': 11460, '셰프': 11461, '오십': 11462, '유난': 11463, '누란': 11464, '집결': 11465, '더티': 11466, '쑥쑥': 11467, '선망': 11468, '세간': 11469, '가인': 11470, '집기': 11471, '없엇니': 11472, '재밋었던거같아': 11473, '강안': 11474, '당췌': 11475, '청소': 11476, 'ㅇㅔ': 11477, '하임': 11478, '훌룡합니': 11479, '안봣': 11480, '이죵': 11481, '번째봣': 11482, '시울': 11483, '강추추': 11484, '으이': 11485, '때돈': 11486, '조성': 11487, '과제': 11488, '글쓰기': 11489, '자본주의': 11490, '참기름': 11491, '욖': 11492, '재밋습니다': 11493, '븐거가턴': 11494, '번더': 11495, '강추꼭바': 11496, '터전': 11497, '재밋음디': 11498, 'ㅣㅣㅣ': 11499, '학부모': 11500, '밋게잘밨': 11501, '자극받다': 11502, '있슴니댜일본': 11503, '얼감': 11504, '정예': 11505, '각개': 11506, '뇌물': 11507, '놈현': 11508, '사기영화': 11509, '갑절': 11510, '영문': 11511, '사라졋': 11512, '마비': 11513, '버려지다': 11514, '퍼저있는': 11515, '태몽': 11516, '이만원': 11517, '기약': 11518, '사절': 11519, '가스': 11520, '방한': 11521, '박박': 11522, '노오': 11523, '라비': 11524, '닉넴': 11525, '난기': 11526, '곤저': 11527, '수퍼맨': 11528, '불혹': 11529, '중엄': 11530, '습득': 11531, '조연하': 11532, '이슌싱': 11533, '완전체': 11534, '발현': 11535, '내자': 11536, '작풍': 11537, '빝': 11538, '직시': 11539, '난왜캐': 11540, '배수': 11541, '나봄': 11542, '갤리온': 11543, '그리웁다': 11544, '미담': 11545, '화아팅': 11546, '완정': 11547, '잘해야': 11548, '똥칠': 11549, '흐릿흐릿': 11550, '굳굳재밋엇어': 11551, '왕보': 11552, '혈물': 11553, '반대쪽': 11554, '활기': 11555, '굿굿굿굿굿굿': 11556, '훌룡했': 11557, '필독케': 11558, '유니크': 11559, '슈루룩그': 11560, '주무르다': 11561, '경과': 11562, '쟈밋엇': 11563, '박수갈채': 11564, '굿굿굿구': 11565, '빽뼝젼': 11566, '없드': 11567, '퇴색': 11568, '이숮신': 11569, '잉듯': 11570, '어쨋던': 11571, '만족감': 11572, '몃': 11573, '펑정심': 11574, '갑툭튀': 11575, '급락': 11576, '미완성': 11577, '최오': 11578, '음속': 11579, '사대': 11580, '격분': 11581, '콘택트렌즈': 11582, '종전': 11583, '몰입되엇어': 11584, '니지': 11585, '즐봣습': 11586, '문화재': 11587, '보존': 11588, '바깥': 11589, '자전거': 11590, '한없다': 11591, '순결하다': 11592, '니미': 11593, '핺': 11594, '오구': 11595, '대박가족': 11596, '때비': 11597, '굿재밋어': 11598, '불가분': 11599, '막집': 11600, '줄곳': 11601, '유년': 11602, '쥐어박다': 11603, '발악': 11604, '못밑': 11605, '주더': 11606, '잼졸': 11607, '시트콤': 11608, '모티브': 11609, '저녁때': 11610, '뽀삐': 11611, '유벙': 11612, '영합': 11613, '바처': 11614, '밌다싸울때': 11615, '레인': 11616, '경제력': 11617, '팔기군': 11618, '연옥': 11619, '최고촤': 11620, '것땜': 11621, '멧시': 11622, '꿰뚫다': 11623, '잼낭': 11624, '생동': 11625, '훈계': 11626, '읊': 11627, '몰상식하다': 11628, '뭉크': 11629, '뿜는': 11630, '젹수': 11631, '망동': 11632, '하다못해': 11633, '옶': 11634, 'ㅠㅠㅜㅜ': 11635, '그란': 11636, '맞먹다': 11637, '최믹': 11638, '민음사': 11639, '카운트': 11640, '남설': 11641, '안이': 11642, '공일': 11643, '조뻉': 11644, '학기': 11645, '응로': 11646, '과만': 11647, '고스톱': 11648, '고참': 11649, '남구': 11650, '난재': 11651, '암권': 11652, '모야': 11653, '견줘': 11654, '수루': 11655, '큰칼': 11656, '호가': 11657, '허리우드': 11658, '스틸컷': 11659, '러쉬': 11660, '중엄함': 11661, 'ㅂㅅ': 11662, '하향': 11663, '별루였': 11664, '슌싄': 11665, '닥감': 11666, '낙하산': 11667, '소규모': 11668, '설자리': 11669, '또봄': 11670, '자찌': 11671, '놧': 11672, '봣을떄': 11673, '머싯다크': 11674, '돌때칼': 11675, '몽둥이': 11676, '완전무결': 11677, '못난이': 11678, '연출씬': 11679, '정복': 11680, '박설': 11681, '핑돈다': 11682, '아길스': 11683, '됫어욤': 11684, '최상급': 11685, '회식': 11686, '디렉팅': 11687, '성숙하다': 11688, '윤제균': 11689, '블랙리스트': 11690, '폭파선씬': 11691, '굿룻': 11692, '궁굿굿굿': 11693, '무었': 11694, '모토': 11695, '시꺼멓다': 11696, 'ㅣㅅ': 11697, '흐릿한데': 11698, '낮넹': 11699, '디어': 11700, '괸': 11701, '주룩': 11702, '제멋대로': 11703, '감쵝오': 11704, '로서나': 11705, '이슌싄': 11706, '절륜': 11707, '웰베': 11708, '여쭈다': 11709, 'ㅜㅡㄴ': 11710, '고퀼리티': 11711, '잘됫습니': 11712, '즁': 11713, '젊음': 11714, '떼효': 11715, '패딩턴': 11716, '송': 11717, '탈세': 11718, '시해': 11719, '구영': 11720, '멋잇엇어': 11721, '곅': 11722, '은제': 11723, '일류': 11724, '요리사': 11725, '야박하다': 11726, '췍췍': 11727, '배정': 11728, 'ㅇㄴㄴ': 11729, '쇄신': 11730, '짢': 11731, '컥': 11732, '뒷담화': 11733, '종았': 11734, '딜레마': 11735, '재밋서': 11736, '요지': 11737, '효관': 11738, '타로': 11739, '유툽': 11740, '짚신': 11741, '식신': 11742, '는대': 11743, '전튜신': 11744, '충민': 11745, '억압': 11746, '찮쿤디스볼레': 11747, '표상': 11748, '거릴': 11749, '뀰잼': 11750, '강추햐': 11751, '어쨋건': 11752, '노트': 11753, '멋잏': 11754, '잼썻어': 11755, '쾅콰코카쾈': 11756, '카콰콰콰오': 11757, '기단': 11758, '다가가다': 11759, '자괴': 11760, '김씨': 11761, '지휘자': 11762, '역기': 11763, '파노라마': 11764, '얀': 11765, '실없다': 11766, '맹랑': 11767, '극악': 11768, '허윽': 11769, '말필': 11770, '멋졋었음': 11771, '백프롭니': 11772, '자키': 11773, '짜잉새': 11774, '달전': 11775, '해왓': 11776, '영구': 11777, '꼽겟다': 11778, '쫌뿔엇음': 11779, '영토': 11780, '랭': 11781, '쓸쓸하다': 11782, '형주': 11783, '동북아시아': 11784, '더웟': 11785, '동갑': 11786, '가상하다': 11787, '하치': 11788, '죵': 11789, '봣어욤': 11790, '저렴하다': 11791, '안시': 11792, '밬': 11793, '돌려차기': 11794, '잼투': 11795, '타타': 11796, '챁재밋': 11797, '아쉽슴돠': 11798, '슌신리슌': 11799, '궐': 11800, '무연': 11801, '남여': 11802, '입심': 11803, '셔츠': 11804, 'ㄳ': 11805, '분멸': 11806, '수레기': 11807, '접힘': 11808, '브러스': 11809, '요작성': 11810, '부스': 11811, '뽑기': 11812, '집의': 11813, '만분': 11814, '마려운': 11815, '소변': 11816, '참게': 11817, '쫘르르': 11818, '코로': 11819, '애처롭다': 11820, '뭣없는': 11821, '느꼇음': 11822, '인피니티': 11823, '답변': 11824, '임돵': 11825, '자비롭다': 11826, '라이즈': 11827, '사복': 11828, '실용': 11829, '통쾨': 11830, '그러므': 11831, '시원스럽다': 11832, '정막함': 11833, '기울다': 11834, '방출': 11835, '국악': 11836, 'ㄷㅅ': 11837, '뷰': 11838, '활개': 11839, '철포': 11840, '관백': 11841, '간바쿠': 11842, '태합': 11843, '다이코': 11844, '퀄러티': 11845, '삼사': 11846, '작업기': 11847, '볼맛': 11848, '각시': 11849, '믹싱': 11850, '스피커': 11851, '동시녹음': 11852, 'ㅇㄹㅁ': 11853, '안보셧으': 11854, '민간인': 11855, '옵': 11856, '견고': 11857, '늘접': 11858, '예외': 11859, '헐씬': 11860, '멋졋습니': 11861, '감상주의': 11862, '행랑': 11863, '뛰어오다': 11864, '띵작': 11865, '기릴': 11866, '개쩜말': 11867, '미장센': 11868, '사무실': 11869, '샘솓': 11870, '샋히': 11871, '변': 11872, '넌너': 11873, '드라마틱': 11874, '스페인': 11875, '모르거나': 11876, '고장': 11877, '좀깨': 11878, '의업': 11879, '생으로': 11880, '플라스틱': 11881, '쥬스': 11882, '빈병': 11883, '츅쮹': 11884, '애구': 11885, '이속': 11886, '증시': 11887, '워후': 11888, '육지전': 11889, '우시': 11890, '후작': 11891, '레비': 11892, '밑돈': 11893, '임안': 11894, '쵝오넘': 11895, '니뽄': 11896, '에로': 11897, '루우누르능는런언': 11898, '보닌': 11899, '천복': 11900, '용남': 11901, '쉐퀴': 11902, '자연스럭': 11903, '게왜위': 11904, '믿을런': 11905, '이익관': 11906, '귿긋굿굳귿': 11907, '조루': 11908, '국혿': 11909, '패티': 11910, '속결': 11911, '융화': 11912, '추후': 11913, '재밋을줄알': 11914, '닥왜': 11915, '이사장': 11916, '땔수없는': 11917, '한일월드컵': 11918, '웡우아어': 11919, 'ㅆㅣ': 11920, '스테프': 11921, '떨어졋': 11922, '졸려웠음': 11923, '호롤롤로': 11924, 'ㅅㄷㄴㅈ': 11925, '불짚': 11926, '카운터': 11927, '펀치': 11928, '포물선': 11929, '뜯기다': 11930, '현자': 11931, '해죽': 11932, '독선': 11933, '져지': 11934, '가려내다': 11935, '군소리': 11936, '보쟈': 11937, '얼기설기하다': 11938, '무미건조': 11939, '둣': 11940, '란점': 11941, '개월전': 11942, '시청자': 11943, '벡화점': 11944, '상등': 11945, '촉박하다': 11946, '좋윽시구': 11947, '뇨료효': 11948, '두수': 11949, '재밋든데': 11950, '삘리': 11951, '시놉시스': 11952, '헝클어지다': 11953, '려웠음': 11954, '회문': 11955, '환성': 11956, '상실하다': 11957, '와재밋다': 11958, '재밋다곶': 11959, 'ㅎㄴ': 11960, '머죵': 11961, '타워': 11962, '국민학교': 11963, '나불대다': 11964, '애관': 11965, '장면씬': 11966, '류씨': 11967, '박해진': 11968, '펄펄': 11969, '아라곤': 11970, '닌자거북이': 11971, '레오나르도': 11972, '부감': 11973, '개절': 11974, '풍족하다': 11975, '다태': 11976, '철세': 11977, '친창': 11978, '잠드소': 11979, '진구씬': 11980, '삐라': 11981, '마초': 11982, '동행인': 11983, '분고': 11984, '쿄웨이': 11985, '트릴': 11986, '쩌렁쩌렁': 11987, '휼륭': 11988, '천이백만': 11989, '멋졌쟈용': 11990, '쉐이들': 11991, 'ㅏㅣㅏ': 11992, 'ㅏㅣㅇ': 11993, '랫겟': 11994, '아니엇마': 11995, '이갑': 11996, '부친': 11997, '민주': 11998, '집권': 11999, '피나': 12000, '포현': 12001, '잏길': 12002, '홍콩': 12003, '거족': 12004, '렙': 12005, '점잖다': 12006, '낯선': 12007, '획기': 12008, '찢어지다': 12009, '가쁘': 12010, '혜론': 12011, '싱글': 12012, '허우적대다': 12013, '똥쌀뻔': 12014, '괄약근': 12015, '번쨰': 12016, '위키': 12017, '백과사전': 12018, '꿀꿀하다': 12019, '선친': 12020, '수행평가': 12021, '리턴': 12022, 'ㅂㄱㅂㅈㅈㄹ': 12023, '버거킹': 12024, '휴지': 12025, '챔피언': 12026, '모마': 12027, '스벅': 12028, '쟁쟁': 12029, '갈남': 12030, '범죄자': 12031, '멘붕': 12032, '두리뭉실': 12033, '구체화': 12034, '감사용': 12035, '자존': 12036, '훨났다': 12037, '연개': 12038, '에그': 12039, '입닥쳐': 12040, '왕인': 12041, '차용': 12042, '행색': 12043, '뭉개져': 12044, '명미': 12045, '앞가림': 12046, '닥잼': 12047, '땐데': 12048, '예컨데': 12049, '방조': 12050, '단무지': 12051, '바닷가': 12052, '애원': 12053, '이선균': 12054, 'ㄹㅔㅈㅏ': 12055, '택하': 12056, '설명돠': 12057, '혼탁': 12058, '현인': 12059, '염볼': 12060, '느기': 12061, '다야': 12062, '보미': 12063, '걈': 12064, '사이다': 12065, '힘들엇음': 12066, '힘빠지다': 12067, '추대': 12068, '성경': 12069, '너쿠': 12070, '순장': 12071, '광해군': 12072, '영원불멸': 12073, '계영': 12074, '위신': 12075, '똥누': 12076, '전망': 12077, '창면': 12078, '개놎잼': 12079, '인겉': 12080, '철부지': 12081, '재밋다재밋다재밋': 12082, '무협지': 12083, '판도': 12084, '시크': 12085, '방언': 12086, '뛰엄뛰엄': 12087, '트루': 12088, '일화': 12089, '병과': 12090, '리보': 12091, '다작': 12092, '엤날': 12093, '통케': 12094, '재밋슈': 12095, '밋슈재밋슈재밋슈': 12096, '밋슈': 12097, '치대다': 12098, '대손': 12099, '반정': 12100, '통째': 12101, '귣귣': 12102, '기다렷': 12103, '녀워': 12104, '국뽕점임': 12105, '소울': 12106, '코리': 12107, '가의': 12108, '음음흠': 12109, '한일전축구': 12110, '복수심': 12111, '하겟다': 12112, '나밖': 12113, '당우': 12114, '꿋꿋': 12115, '뤽베송': 12116, '쪼잔': 12117, '케나': 12118, '밋엇습': 12119, '고추가': 12120, '재밋엇네': 12121, '침입': 12122, '돈앞': 12123, '굶주리다': 12124, '한석규': 12125, '초생달': 12126, '아니런': 12127, '조선만': 12128, '게릴라': 12129, '므르겠다': 12130, '낼런': 12131, '때볼': 12132, '알럽': 12133, '건들': 12134, '젛아': 12135, '구두': 12136, '놀음': 12137, '탁월': 12138, '문관': 12139, '인간극장': 12140, '안약': 12141, '꾀재밋': 12142, '최괴': 12143, '인맥': 12144, '꿈잼': 12145, '재밋습니당': 12146, '을듯': 12147, '까지라도': 12148, '드레곤': 12149, '휼': 12150, '호사': 12151, '무시무시하다': 12152, '낰다르': 12153, '찡찡거리다': 12154, '대엥에에에': 12155, '쓰러뜨렸': 12156, '해주엇어': 12157, '막남': 12158, '꿍': 12159, '잔칫집': 12160, '젬라하흐': 12161, '설령': 12162, '앙이다': 12163, '한자리': 12164, '황당헀었': 12165, '짜릿짜릿': 12166, '똭막': 12167, '밋겟': 12168, '징군': 12169, '뼛속깊': 12170, '말즉슨': 12171, '처절': 12172, '송파': 12173, '쾌괌': 12174, '비통': 12175, '굳재밋어': 12176, '사임당': 12177, '띄우기': 12178, '기구': 12179, '출몰': 12180, '명량해협': 12181, '후룸라이드': 12182, '감둥적': 12183, '구천원': 12184, '밤낮없이': 12185, '냉무': 12186, '승기': 12187, '역상': 12188, '드가': 12189, '최태성': 12190, '가막': 12191, '편때': 12192, '라늠': 12193, '즈는건': 12194, '도읍': 12195, '보셧으': 12196, '화랑': 12197, '관창': 12198, '안깝': 12199, '어나': 12200, '장갑차': 12201, '마티즈': 12202, '씸': 12203, '헤간': 12204, '롱런': 12205, '무아': 12206, '혐일': 12207, '재밋너용': 12208, '넹느': 12209, '재밋내': 12210, '싳': 12211, '스탭진들': 12212, '불확실하다': 12213, '싼마이': 12214, '수성': 12215, '탁꽃히': 12216, '워준': 12217, '굿굴': 12218, '좋앗름': 12219, '쫌있어': 12220, '서어': 12221, '분필': 12222, '괴녀': 12223, '말라가': 12224, '역쒸': 12225, '들어맞다': 12226, '대보면': 12227, '영락': 12228, '경상우수사': 12229, '칼르마': 12230, '서러움': 12231, '으허허헝': 12232, '시창': 12233, 'ㄱㅐ': 12234, '르자슥': 12235, '젔': 12236, '셨습니': 12237, '재밋네용': 12238, '맺힌': 12239, '남짓': 12240, '누점': 12241, 'ㅄ': 12242, '떼돈': 12243, '항수': 12244, '정해진': 12245, '타는덴': 12246, '햇찌': 12247, '멋쪗어용': 12248, '꼴사납다': 12249, '놀이기구': 12250, '음원': 12251, '아만': 12252, '뜸꼭': 12253, '요리실': 12254, '종반': 12255, '꼬락서니': 12256, '데자': 12257, 'ㅜㅋ': 12258, '개끌': 12259, '굼신': 12260, '푸리': 12261, '이름나다': 12262, '멈진': 12263, '굿둣': 12264, '듀': 12265, 'ㅠㄱ': 12266, '카니': 12267, '널렸다': 12268, '서정': 12269, '수법': 12270, '뗭': 12271, '잼류승': 12272, '섹시': 12273, '칩': 12274, '우운': 12275, '근황': 12276, '여진': 12277, '하겟습': 12278, '김질': 12279, '만라': 12280, '손깍지': 12281, '율곡': 12282, '이황': 12283, '밑바탕': 12284, '있엇': 12285, '럭키': 12286, '세븐': 12287, '바치': 12288, '사체': 12289, '대출받다': 12290, '꾸숑': 12291, '중대하다': 12292, '민생': 12293, '멍멍': 12294, '재미읶': 12295, '보여줫던': 12296, '줫습': 12297, '뒤엎었으': 12298, '임나': 12299, '된겄같다': 12300, '알쥐': 12301, '백성운': 12302, '아바': 12303, '넘재밋습니': 12304, '소속': 12305, '배알': 12306, '주몽': 12307, '힛': 12308, '잼썻': 12309, '단배': 12310, '잇엇슴': 12311, '습습니': 12312, '오부': 12313, '전남친': 12314, '썸남': 12315, '어리숙하다': 12316, '미인': 12317, '왕재': 12318, '킹젬': 12319, '사무': 12320, '파닥파닥': 12321, '참을성': 12322, '일요': 12323, '일밤': 12324, '신묘하다': 12325, '장적': 12326, '명석하다': 12327, '평따윈': 12328, '그레픽': 12329, '꽇': 12330, '서기': 12331, '악하다': 12332, '느와르': 12333, '아둔하다': 12334, '장쾌': 12335, '괜찬은편': 12336, '발단': 12337, '재밋던': 12338, 'ㅆㄹㄱ': 12339, '기일': 12340, '옥숨': 12341, '솔솔': 12342, '나쁜사람': 12343, '주사': 12344, '껄껄': 12345, '소고기': 12346, '후추': 12347, '지불': 12348, '세금': 12349, '국경일': 12350, '참재밋었습니': 12351, '뤼쑤신': 12352, '워해': 12353, '밥솥': 12354, '수익금': 12355, '독립운동가': 12356, '눈을못땔': 12357, '상선': 12358, '찍었름': 12359, '거적': 12360, '논장': 12361, '멸량': 12362, '졸려웠': 12363, '한도': 12364, '맹숭맹숭': 12365, '알보': 12366, '았슴': 12367, '오리무중': 12368, '훨빼': 12369, '템데': 12370, '랜': 12371, '프로그램': 12372, '마이클': 12373, '속국': 12374, '가절': 12375, '요척': 12376, '등재': 12377, '이프': 12378, '돌리지': 12379, '아잉': 12380, '잡종': 12381, '보탬이되': 12382, '크리스토퍼놀란': 12383, '시언': 12384, '긋긋긋귯귯귯귯': 12385, '페이스': 12386, '재밋었던': 12387, '잼섯': 12388, '븆': 12389, '글케': 12390, '소임': 12391, '굿굿왜': 12392, '단편소설': 12393, '모루': 12394, '즉었을때': 12395, '패널': 12396, '오그리다': 12397, '못햇던': 12398, '격통': 12399, '사들이다': 12400, '덩치': 12401, '연민': 12402, '보샘': 12403, '단두대': 12404, '공통점': 12405, '껄렁하다': 12406, '눈짓': 12407, '한숨짓다': 12408, '음핵': 12409, '머릿': 12410, '방가': 12411, '보셧': 12412, '안대': 12413, '대못': 12414, '뭐르겠': 12415, '영국영화': 12416, '탐독': 12417, '임왜': 12418, '보유': 12419, '낸쩌': 12420, '잼땅': 12421, '자고로': 12422, '다생': 12423, '스나이핑하': 12424, '도핑': 12425, '열렬하다': 12426, '갃애볼우잇': 12427, 'ㅇㅣㅅ': 12428, '않걱': 12429, '본국': 12430, '재밋다고': 12431, '거볼': 12432, '겔': 12433, '연등': 12434, '침꿀잼': 12435, '사리다': 12436, '아이스커피': 12437, '모금': 12438, '밸류': 12439, '술렁이다': 12440, '미적': 12441, '폰노': 12442, '고깃배': 12443, '축지법': 12444, '도거': 12445, '못느꼇': 12446, '참재밋습니': 12447, '루욤': 12448, '간점': 12449, '두건': 12450, '으악': 12451, '핡': 12452, '아쉬웤': 12453, '사비': 12454, '번지르르하다': 12455, '전가': 12456, '우회': 12457, '주작': 12458, '날아오르다': 12459, '존경감': 12460, '복귀': 12461, '물씬물씬': 12462, '깅': 12463, '형석': 12464, '미씨': 12465, '팍팍하다': 12466, '다언': 12467, '산재': 12468, '십억분': 12469, '슛귯구': 12470, 'ㅋㄷㅋㄷ': 12471, '산고': 12472, '봤엉': 12473, '정확성': 12474, '연가': 12475, '마르지': 12476, '오늘밤': 12477, '날꽤': 12478, '감자별': 12479, '그남자': 12480, '웟습니': 12481, 'ㅠㅜㅜㅜ': 12482, '각혈': 12483, '부사형': 12484, '돗드곱': 12485, '때깔': 12486, '물속씬': 12487, 'ㅅㅣ': 12488, '쪼메': 12489, '간탓': 12490, '액션연기': 12491, '호랭이': 12492, '어설푼': 12493, '헛손질': 12494, '현이': 12495, 'ㅋㅂㅋㅋ': 12496, '늠데': 12497, '번울엇어': 12498, '간독': 12499, '루안': 12500, '하오': 12501, '그래듀': 12502, '피씨': 12503, '실위': 12504, '근간': 12505, '상위': 12506, '쵝오특히': 12507, '환도': 12508, '패용': 12509, '사증': 12510, '피생': 12511, '고누': 12512, '점철': 12513, '쉐프': 12514, '이길자': 12515, '즉응': 12516, '쭐였으': 12517, '엄청재밋었다': 12518, '제자리': 12519, '야야': 12520, 'ㅗㅇ': 12521, '화설': 12522, '끝꼭': 12523, '스나이핑씬': 12524, '백범': 12525, '도산': 12526, '안창호': 12527, '씬도꿋': 12528, '멋잇엇궁': 12529, '눈놊이': 12530, '메박': 12531, '극작': 12532, '소사로': 12533, '예여': 12534, '파자마': 12535, '유형': 12536, '멋있엇구': 12537, '독점떄문': 12538, '기모': 12539, '기로': 12540, '턴넘들': 12541, '독제': 12542, '군번': 12543, '그었슴': 12544, '이사이': 12545, '사운드트랙': 12546, '장순': 12547, '공산당': 12548, '아니엇냐': 12549, '력도': 12550, '피아': 12551, '식별': 12552, '씨름': 12553, '씁슬': 12554, 'ㅐㅆ': 12555, '엳시': 12556, '홍홍홍홍': 12557, '핵꿀': 12558, '엄밀하다': 12559, '개엥갼': 12560, '흥건': 12561, '뿜었': 12562, '자메이카': 12563, '비비큐': 12564, '무궁': 12565, '훈장': 12566, '알앟습니': 12567, '자채임': 12568, '귀항': 12569, 'ㅇㅏㅆ': 12570, '쥰것': 12571, '평상시': 12572, '포맷': 12573, '고혈압': 12574, 'ㄱㄱㅋ': 12575, '쨘': 12576, '빈자리': 12577, '해피': 12578, '운지': 12579, '윈터': 12580, '솔져': 12581, '보모': 12582, '심애': 12583, '불효자': 12584, '해경': 12585, '해체': 12586, 'ㅇㅁㅇ': 12587, '련아련': 12588, '술좀': 12589, '얼얼하다': 12590, '맨쇼': 12591, '싸이코': 12592, '정상': 12593, '번재': 12594, '야회': 12595, '잏': 12596, '물개': 12597, '승룡씨': 12598, '수구': 12599, '척살': 12600, '흥했을런': 12601, '이척': 12602, '미신': 12603, '싸대기': 12604, '쥐게': 12605, '재밋게잘봣습니': 12606, '쿠드': 12607, '트렌드': 12608, '가나다라': 12609, '것깉습': 12610, '수요': 12611, '달도': 12612, '에서만큼은': 12613, '깨끗이': 12614, '달동': 12615, '맣': 12616, '소서': 12617, '개잼슴': 12618, '웃엇네': 12619, '크류': 12620, '나가떨어지다': 12621, '세뇌': 12622, '가전': 12623, '레오나': 12624, '동그랗다': 12625, '필작': 12626, '데오퓨': 12627, '겹치': 12628, '짱임': 12629, '토마호크': 12630, '섣불리': 12631, '개탄': 12632, '주요하다': 12633, '거너': 12634, '꿀쟁': 12635, '밌습니': 12636, '조성하': 12637, '찍찍': 12638, '버젼': 12639, '훠': 12640, '얼씬': 12641, '복색': 12642, '버렷음': 12643, '굴복': 12644, '준쇼우': 12645, '도국': 12646, '세명': 12647, '똥구녕': 12648, '이리고': 12649, '잼없드': 12650, '엎어지다': 12651, '원더': 12652, '겉햙기': 12653, 'ㄲㅈㄹ': 12654, '임펙트있음': 12655, '아이콘': 12656, '유례': 12657, '뭉클물면': 12658, '컷으': 12659, '야외': 12660, '화대': 12661, '작가라': 12662, '하트뿅뿅': 12663, '비긴': 12664, '쵝고': 12665, '엄숙': 12666, '권상우': 12667, '협박': 12668, '백창주': 12669, '안쐇을까': 12670, '변말': 12671, '한효주': 12672, '초유': 12673, '물돌목': 12674, '이요한': 12675, '별기': 12676, '반나절': 12677, '푸나': 12678, '패러디': 12679, '일욜날': 12680, '주룩주룩': 12681, '결투씬': 12682, '소금쟁이': 12683, '직설': 12684, '재빘었': 12685, '일억배': 12686, '쯔쯔': 12687, '관수': 12688, '촌발': 12689, '설사': 12690, '경극': 12691, '월욜인데': 12692, '강행': 12693, '두목': 12694, '볼껍니': 12695, '수상하다': 12696, '포거스': 12697, '번위': 12698, '간담': 12699, '넘버': 12700, '팅팅': 12701, '싄기': 12702, '넝수': 12703, '돨거같아': 12704, '진솔하다': 12705, '하랴': 12706, '좀왜': 12707, '겔럭시': 12708, '들머리': 12709, '나약': 12710, '설민': 12711, '사회생활': 12712, '무섯': 12713, '유약하다': 12714, '호식': 12715, '스티븐잡스': 12716, '렵': 12717, '봣오': 12718, '퍼주': 12719, '급속하다': 12720, '정도껏해': 12721, '관개': 12722, '실사': 12723, '강열': 12724, '천억': 12725, '번것': 12726, '군내': 12727, '운정': 12728, '세속': 12729, '이중국적': 12730, '보사': 12731, '용감': 12732, '화팅': 12733, '봐왓': 12734, '토론토': 12735, '로스트템플': 12736, '음울': 12737, '고용': 12738, '햇기': 12739, 'ㅋㅋㅋㅋㅋㅋㅋㅋ': 12740, '허들': 12741, '숭리': 12742, '고뿌': 12743, '신순신': 12744, '요사': 12745, '왕안': 12746, '눈땔수': 12747, '연로': 12748, '런안': 12749, '글쌔요넘': 12750, '별루란': 12751, '넣엇을까요전쟁씬': 12752, '최곤듯': 12753, '이역': 12754, '느낌표': 12755, '후려': 12756, '없을껍니': 12757, '좌우': 12758, '었엇어': 12759, '살렷': 12760, '초교': 12761, '년딸': 12762, '편차': 12763, '찢다': 12764, '싶은충동': 12765, '약속': 12766, '필쿄': 12767, '평정하다': 12768, '더대단햇겟': 12769, '굿굿재밋엇어용': 12770, '말함': 12771, '생걱': 12772, '비웃음': 12773, '극성': 12774, '장모님': 12775, '치고받다': 12776, '통쾨하': 12777, '존잼임': 12778, '사학': 12779, '추모': 12780, '개잼재': 12781, '잼잼재': 12782, '밈잼잼잠': 12783, '통치': 12784, '도슨': 12785, '글땜': 12786, '빙과': 12787, '마마': 12788, '대한국': 12789, '조섡': 12790, '엇슺': 12791, '바탕으러': 12792, '함봣는데': 12793, '싶넹': 12794, '집즁': 12795, '하셯다': 12796, '낚았어': 12797, '장검': 12798, '독일군': 12799, '주리': 12800, '돌맹이들': 12801, '굯그그그그기기드': 12802, '허접스레': 12803, '쌈박하다': 12804, '램꿀': 12805, '집약': 12806, '원동력': 12807, '촉오': 12808, '알잔': 12809, '얄루': 12810, '아픙로': 12811, '부딫히': 12812, '깉': 12813, '노다메': 12814, '칸타빌레': 12815, '다코야끼': 12816, '그런저런': 12817, '센트': 12818, '행사': 12819, '뭉큼': 12820, '고지전': 12821, '넌지시': 12822, '제척': 12823, '긴급하다': 12824, '갖추엇네': 12825, '난중': 12826, '수준기': 12827, '대륙사관': 12828, '파면': 12829, '복사꽃': 12830, '이라고도': 12831, '미익': 12832, '최임경': 12833, '직껏': 12834, '꼽습니': 12835, '전매': 12836, '이히힛': 12837, '괞챤': 12838, '진궈': 12839, '눈좀': 12840, '장골': 12841, '알까기': 12842, '챙챙': 12843, '무심코': 12844, '주소': 12845, '날끝': 12846, '한때': 12847, '특수분장': 12848, '쪼가리': 12849, '함집': 12850, '놀부': 12851, '심보': 12852, '케바케': 12853, '더잿': 12854, '크리넥스': 12855, '원도': 12856, '임진록': 12857, '비뿔줄': 12858, '병작': 12859, '디자인': 12860, '통화': 12861, '무료함': 12862, '장졸': 12863, '봣음니': 12864, '의왕': 12865, '잼있슴': 12866, '무턱': 12867, '맞춤법': 12868, '양해': 12869, '말짱하다': 12870, '재밋엇습니딘': 12871, '불가피하다': 12872, '자칫하면': 12873, '무기사': 12874, '용법': 12875, '음볼': 12876, '애꿀잼': 12877, '암담': 12878, '죄민': 12879, '도촌': 12880, '상수': 12881, '똥덜': 12882, '김장훈': 12883, '단식': 12884, '항해': 12885, '들개': 12886, '재밋는정도': 12887, '비슷비슷': 12888, '후레자식': 12889, '격투씬': 12890, '년초': 12891, '눈땔': 12892, '때곤': 12893, '의약품': 12894, '재밋디': 12895, '개점': 12896, '의무경찰': 12897, '굿쟙': 12898, '세도': 12899, '맘에듭니': 12900, '장캊윸자웈자우': 12901, '밤새': 12902, '댕기': 12903, '딜레이': 12904, '뛰어가다': 12905, '데려가다': 12906, '망신': 12907, '아숩': 12908, '보너스': 12909, '없스': 12910, '졓아옇': 12911, '재미잇엇네': 12912, '이형은': 12913, '부처': 12914, '이시고': 12915, '관림객': 12916, '쩔긔쩔긪긔닛': 12917, 'ㄱㄷㄱㅅ': 12918, '출시': 12919, '사관학생': 12920, '개잼졸': 12921, '제밌는': 12922, '나갓': 12923, '영화스크린': 12924, '우라가': 12925, '뛰어나가다': 12926, 'ㄱㅋㅋㅋ': 12927, '동서': 12928, '마력': 12929, '휘릴릭': 12930, '심드렁하다': 12931, '자라': 12932, '도참': 12933, '들엇음': 12934, '무용담': 12935, '쁀아니': 12936, '쉬이': 12937, '말차': 12938, '안마': 12939, '게왜점': 12940, '치닫다': 12941, '땅바닥': 12942, '헝': 12943, '스르르': 12944, '감김': 12945, '웠었': 12946, '러삼': 12947, '손등': 12948, '남대': 12949, '장성': 12950, '임원': 12951, '단두': 12952, '부러진화살': 12953, '굿율컥율컥': 12954, '평등': 12955, '실내': 12956, '인트로': 12957, '고급': 12958, '사채': 12959, '큰딸': 12960, '김동해': 12961, '머럴': 12962, '공군': 12963, '제네럴': 12964, '훈민정음': 12965, '윤봉길': 12966, '소총': 12967, '증권': 12968, '고번': 12969, '엿다는': 12970, '와이드': 12971, '저편': 12972, '김고은': 12973, '조각배': 12974, '광역': 12975, '생소하다': 12976, '후비다': 12977, '파네': 12978, '었으': 12979, '부조': 12980, '위원회': 12981, '전주': 12982, '촤민식': 12983, '풀꼬후': 12984, '향년': 12985, '스캐일있레': 12986, '여수엑스포': 12987, '존겨': 12988, '때정': 12989, '따분함': 12990, '공란': 12991, '전용': 12992, '나왓는': 12993, '어저꾸': 12994, '저쩌구': 12995, '이러저런': 12996, '스캐일': 12997, '하쩖': 12998, '챠': 12999, '리쟈뷰': 13000, '초딸': 13001, '바니': 13002, '헤피엔딩': 13003, '택했는': 13004, '오렌지': 13005, '마말레이드': 13006, '휴일': 13007, '정말쵝오': 13008, '흐트려졌': 13009, '도요토미': 13010, '라리': 13011, '레리': 13012, '은로': 13013, '추임': 13014, '슬피': 13015, '쩌는것': 13016, '제자': 13017, '구래': 13018, '백씨': 13019, 'ㅠㅠㅎ': 13020, '멸망하다': 13021, '느껌': 13022, '졸며': 13023, '홍설': 13024, '짱귀': 13025, '완승': 13026, '왔슴니': 13027, '군사학자': 13028, '중개인': 13029, '배솔': 13030, '환장하다': 13031, '국정': 13032, '초래': 13033, '심사숙고': 13034, '냇음': 13035, '루스': 13036, '잼낫': 13037, '되엇습니': 13038, '뭐가어쩌': 13039, '강감찬': 13040, '러신': 13041, '팡': 13042, '츄천': 13043, '잼잏': 13044, '빠져듭니': 13045, '가디언스': 13046, '이상하': 13047, '리스트': 13048, '봣숩': 13049, '다중': 13050, '죽또': 13051, '옇습': 13052, '태교': 13053, '쐏을때온': 13054, '험하다': 13055, '소르음': 13056, '오우이': 13057, '즇았네': 13058, '아인슈타인': 13059, '세병관': 13060, '충렬사': 13061, '구안': 13062, '덮이다': 13063, '오만하다': 13064, '걷히다': 13065, '코레': 13066, '권유리': 13067, '보충': 13068, '참다운': 13069, '뭉클거린': 13070, '추스리느': 13071, 'ㅁㅋㅋㅋ': 13072, '뭍혀': 13073, '나경원': 13074, '당선': 13075, '판국': 13076, '우애': 13077, '논평': 13078, '크루즈': 13079, '쌔젔다': 13080, '호크아이': 13081, '현령': 13082, '양하다': 13083, '겄습': 13084, '재발': 13085, '견도': 13086, '한국액스트': 13087, '행렬': 13088, '티비엔': 13089, '발행': 13090, '글렀다': 13091, '후진국': 13092, '비운': 13093, '하늘나라': 13094, '명람': 13095, '머싯따': 13096, '섹션': 13097, '빙글빙글': 13098, '명랭': 13099, '심란하다': 13100, '더라면': 13101, '셨습': 13102, '짯맨': 13103, '이여름': 13104, '혈연': 13105, '자그마하다': 13106, '강산': 13107, '섬나라': 13108, '절호': 13109, '타깃': 13110, '안잔': 13111, '개꼰': 13112, '때뮨': 13113, '시위': 13114, '빌어': 13115, '절차': 13116, '재밋다할때': 13117, '장교': 13118, '고급스럽다': 13119, '남미': 13120, '밋긴': 13121, '찬데': 13122, '왕우': 13123, '오에이': 13124, '어데': 13125, '흐릿했던': 13126, '밨으': 13127, '쥴': 13128, '있렀는데': 13129, '컬쳐': 13130, '꿀잼꿀잼꿀잼꿀잼꿀잼꿀잼': 13131, '훌룽': 13132, '심야시간': 13133, '군말': 13134, '이희': 13135, '흥이': 13136, '구역': 13137, '왜왜왜왜왜왜왜왜왜': 13138, '클라이맥스': 13139, '펄펰트': 13140, '엑설런트': 13141, '흐니잼': 13142, '재작년': 13143, '평전': 13144, '푸욱': 13145, '옥타브': 13146, '가창력': 13147, '잘불르다': 13148, '버찬': 13149, '꿈결': 13150, '차단': 13151, '드낄': 13152, '깜박이다': 13153, '느즈막히': 13154, '붐': 13155, '지류': 13156, '거린거': 13157, '녹아내리다': 13158, '죽여버': 13159, '꼭보새': 13160, '스핀오프': 13161, '유잼': 13162, '순종': 13163, '중임': 13164, '술책': 13165, '지이미': 13166, '간곡': 13167, '물놀이': 13168, '땨': 13169, 'ㅑㅇ': 13170, '넌센스': 13171, 'ㅈㄱ': 13172, '까딱': 13173, '노역': 13174, 'ㅎㅎㅈ': 13175, 'ㅡㄷ': 13176, 'ㅅㅇㅈㄱ': 13177, '실생활': 13178, '문란하다': 13179, '광대하다': 13180, '오죽하다': 13181, '따라서': 13182, '면량': 13183, '슴벅': 13184, '악질': 13185, '댜걍': 13186, '당구': 13187, '지부리': 13188, '피디': 13189, '정날': 13190, '재밋긴한디': 13191, '친북': 13192, '꼬드겨': 13193, '델리': 13194, '쥤구만': 13195, '부준': 13196, '짦': 13197, '가래침': 13198, '군화': 13199, '맹글': 13200, '즐거윘습니': 13201, '초글링': 13202, '근대사': 13203, '덤벼': 13204, '판하': 13205, '포스트모더니즘': 13206, '모더니즘': 13207, '띵량': 13208, '발바닥': 13209, '수식': 13210, '승하': 13211, '국구': 13212, '후루루': 13213, '이주': 13214, '티치티뱅뱅': 13215, '반함': 13216, '계급': 13217, '애즐': 13218, '돠굿굿굿': 13219, '쐇': 13220, '종범': 13221, '어이앖': 13222, '서든': 13223, '뭐냔': 13224, '적요': 13225, '소도': 13226, '개잼핵잼꿀잼': 13227, '인간중독': 13228, '탁상공론': 13229, '꾸벅꾸벅': 13230, '어조': 13231, '무서웟음': 13232, '닉': 13233, '기니': 13234, 'ㅡㅅㅋ': 13235, '개드립': 13236, '우왑': 13237, '겨냥': 13238, '우석': 13239, 'ㅇㄴㅇ': 13240, '정정': 13241, '닐': 13242, '해군기지': 13243, '벙': 13244, '세작': 13245, '역순': 13246, '영특': 13247, '로군': 13248, '전범': 13249, '차등': 13250, '우두': 13251, '통캐': 13252, '갇아': 13253, '보련': 13254, '흉내내': 13255, '찡햇었는데': 13256, '잇엇어옄': 13257, '밋다쟈밌': 13258, '굿굿음량': 13259, '련출': 13260, '겨눌때': 13261, 'ㅋㅋㅜ': 13262, '느닺없': 13263, '픽셩이긴': 13264, '케케케': 13265, '케케': 13266, '숙': 13267, '괄람': 13268, '키친': 13269, '남음': 13270, '항사': 13271, '보필': 13272, '요음': 13273, '말외': 13274, '노코멘트': 13275, '듀번보세': 13276, '거저': 13277, '미사여구': 13278, '라모': 13279, '대성통곡': 13280, '부유': 13281, '아메': 13282, '규슈': 13283, 'ㄷㄱㄷㄱ': 13284, '신선': 13285, '인촌': 13286, '처우': 13287, '유럽': 13288, '허재': 13289, '말처': 13290, '새누리': 13291, '해경이': 13292, '남습': 13293, '재빘네': 13294, '청룡상': 13295, '다봒어': 13296, 'ㄱㄲㅋ': 13297, '관리직': 13298, '레딧': 13299, '급격하다': 13300, '잡것': 13301, '말증': 13302, '임패트': 13303, '마디네': 13304, '전라좌수영': 13305, '걸캅스': 13306, 'ㅇㅁ': 13307, '성취': 13308, '질주': 13309, '합당': 13310, '권울': 13311, '두시': 13312, '또렸해': 13313, '티저': 13314, '악전': 13315, '고투': 13316, '범죄소년': 13317, '눈밑': 13318, '은사': 13319, '우야': 13320, '마케': 13321, '흥망': 13322, '성쇠': 13323, '바꿍': 13324, '꿀쟘': 13325, '리살': 13326, '몰입됫': 13327, '미쟝셴': 13328, '덯': 13329, '출진': 13330, '재밋게좋': 13331, '횔씬': 13332, '기쟈': 13333, '갸': 13334, '사기꾼': 13335, '끼니': 13336, '잣습니': 13337, '불날때': 13338, '천생': 13339, '가부': 13340, '죡해': 13341, '유격': 13342, '호잇': 13343, '릿쟈밋어재밋': 13344, '햇던탓': 13345, '바다물': 13346, '권씨': 13347, '윤휴': 13348, '백호': 13349, '전서': 13350, '보가': 13351, '포상': 13352, '현생': 13353, '되새겻': 13354, 'ㅊㅇㅊㅇ': 13355, '발다': 13356, '좋구뇨': 13357, '그늘': 13358, '보좌': 13359, '뭘해듀': 13360, '한다인': 13361, '통해역': 13362, '거슬렀다': 13363, '대야': 13364, '유디쨘': 13365, '해해해': 13366, '캐린터': 13367, '기린': 13368, '괸히': 13369, '능듯': 13370, '후다닥': 13371, '투쟁': 13372, '나시': 13373, '짱잼꿀잼': 13374, '고뢰': 13375, '최민이': 13376, '김준현': 13377, '번알': 13378, '뜰때': 13379, '발치': 13380, '의안': 13381, '란탄': 13382, '쐐릴때': 13383, '그닥언플인둣': 13384, '청와대': 13385, '우울증': 13386, '긴밀': 13387, '점드': 13388, '할슈': 13389, '충준': 13390, '출발점': 13391, '모순': 13392, '선채': 13393, '빠빠팍': 13394, '탈바꿈': 13395, '봄비': 13396, '리스크': 13397, '야머': 13398, '뭐봣': 13399, '쟘잼': 13400, '대지': 13401, 'ㅆㅅ': 13402, 'ㄸㄷ': 13403, '명명': 13404, '촛점맞춘': 13405, '짱잼잇엇어옇애햏': 13406, '화실': 13407, '잔한': 13408, '쌩뚱': 13409, '애국가': 13410, '병영': 13411, '내륙': 13412, '일상생활': 13413, '작작하다': 13414, 'ㅠㅍ': 13415, '조아욤': 13416, '띄엄띄엄': 13417, '압세워': 13418, '바빳던': 13419, '낚이셨': 13420, '주정': 13421, '순이': 13422, '삼총사': 13423, '머스킷티어': 13424, '근위대': 13425, '지긋지긋하다': 13426, '저지': 13427, '빔': 13428, '얼버무리다': 13429, '알아차리다': 13430, '당부': 13431, '둘제': 13432, '복습': 13433, '되었딘': 13434, '었습': 13435, '압잡이던': 13436, '맷': 13437, '스승': 13438, '출렁이다': 13439, '어슬픔': 13440, '에게보다': 13441, '전우치': 13442, '간시': 13443, '거야': 13444, '스럽지도': 13445, '일부일': 13446, '네거리': 13447, '강돔': 13448, '살좀': 13449, '헌장': 13450, '기장': 13451, '꾸르잼점': 13452, '소림축구': 13453, '못하딘': 13454, '완젼몰입돼': 13455, '파색': 13456, 'ㅎㅎㅋ': 13457, '충당': 13458, '소흘히': 13459, '슬러': 13460, 'ㅇㄱㄹㅇ': 13461, 'ㅂㅂㅂㄱ': 13462, '정탐': 13463, '엄뛰엄': 13464, '걳': 13465, '갈겨쓰다': 13466, '한발': 13467, '나팔꽃': 13468, '슈퍼마리오': 13469, '퍼포먼쓰': 13470, '러듬': 13471, '재밋네염': 13472, '김병만': 13473, '경직': 13474, '국뽕질': 13475, '견': 13476, '갑지': 13477, '기나라': 13478, '건중': 13479, '재밍있': 13480, 'ㅎㅌㅊ': 13481, '긍까': 13482, '초번': 13483, 'ㄱㅅㄴㅅㄴ': 13484, '뒈': 13485, '닥점': 13486, '바럽': 13487, '출동': 13488, '요금': 13489, '잡기': 13490, '웟겟': 13491, '열전': 13492, '응흠엄': 13493, '켯': 13494, '둥빈둥': 13495, '얻지': 13496, '래서야': 13497, '텝들': 13498, '스나미': 13499, '리핑': 13500, '우세하다': 13501, '불분명': 13502, '용예': 13503, '발언': 13504, '예비역': 13505, 'ㄶ': 13506, '엏으': 13507, '똥탕': 13508, '하실레예': 13509, '뗄레': 13510, '감미롭다': 13511, '강선': 13512, '눈로': 13513, '대동여지도': 13514, '요행': 13515, '의뢰': 13516, '질색': 13517, '영횐': 13518, '사선': 13519, '좍': 13520, '낚이': 13521, '만대': 13522, '듯강추': 13523, '항간': 13524, '간두다': 13525, '밋슺': 13526, '개사': 13527, '남일': 13528, '장경철': 13529, '취합니': 13530, '망쳣': 13531, 'ㅋㄱㄱㅋ': 13532, 'ㅇㅅ': 13533, '괸람': 13534, '동아리': 13535, '행주산성': 13536, '연약': 13537, '켄': 13538, '화룡': 13539, '점정': 13540, '피날': 13541, '허무햣': 13542, '페': 13543, '구성진': 13544, '망또': 13545, '재밋단새킨': 13546, '찬새': 13547, '키다': 13548, '가구': 13549, '위중': 13550, '에조': 13551, '아지': 13552, '기발하다': 13553, '유임': 13554, '해마': 13555, '뻔민': 13556, '격차': 13557, '결전': 13558, '맥스': 13559, 'ㅓㅇㅘㅇ': 13560, '봐서룍': 13561, 'ㅎㅇㅗ': 13562, '다단': 13563, '나뵐': 13564, '흐하흐': 13565, '배쇼': 13566, '띁': 13567, '훈': 13568, '업족': 13569, '흐지브': 13570, '주적': 13571, '수유': 13572, '볻더': 13573, '려워': 13574, '맑은': 13575, '흙탕물': 13576, '해감': 13577, '재우다': 13578, '사이보그': 13579, '임해': 13580, '압승': 13581, '우경': 13582, '욭툩툩툩툩툐툐툐': 13583, '툐툩': 13584, '벌린': 13585, '간달프': 13586, '언덕': 13587, '등업': 13588, '분화': 13589, '옴겨': 13590, '또렸': 13591, '신파씬': 13592, '다면': 13593, '평평하다': 13594, '핕': 13595, '분리': 13596, '쳇': 13597, '홍행': 13598, '좋았슴니': 13599, '돠재밋': 13600, '배뎃': 13601, '아직안봣': 13602, '재밋게봣다': 13603, '명성황후': 13604, '이미연': 13605, '싱숭생숭': 13606, '직계': 13607, '격인': 13608, '분발': 13609, '대업': 13610, '괜찬았': 13611, '걸또알': 13612, '머금엇': 13613, '선입견때문': 13614, '고고싱': 13615, '엇아': 13616, '일초': 13617, '통령': 13618, '평견': 13619, '성찬': 13620, '엿다': 13621, '은세계': 13622, '중국드라마': 13623, '주혼': 13624, '오르막': 13625, '신심': 13626, '봄멋': 13627, '즌': 13628, '훔': 13629, '요민': 13630, '버프같음': 13631, '조르다': 13632, '어물': 13633, '쩡': 13634, '느껴졋': 13635, '으넌': 13636, '시행': 13637, '슈발': 13638, '토유': 13639, '느미': 13640, '멑뉴부': 13641, 'ㅏㅈ': 13642, '부적절': 13643, '어영부영': 13644, '완던': 13645, '운칠기삼': 13646, '새념': 13647, '연예가중계': 13648, '리포터': 13649, '쫀득쫀득하': 13650, '순산': 13651, '소멸하다': 13652, '중대': 13653, '뚜렽하': 13654, '반스': 13655, '퍼트': 13656, '맨체스터': 13657, '유나이티드': 13658, '챔피언쉽': 13659, '리그': 13660, '반항': 13661, '스링감': 13662, '전차': 13663, '픈데': 13664, '본당': 13665, '디비디': 13666, '교양': 13667, '열폭': 13668, '오재미': 13669, '쒸': 13670, '펌하할': 13671, '인문': 13672, '므므므므': 13673, '승선원': 13674, '방벙': 13675, '지러닝': 13676, '만류': 13677, '천문도': 13678, 'ㅏㄱ': 13679, 'ㅅㅅㅅ': 13680, '안닌거': 13681, '우스갯소리': 13682, '해일': 13683, '단돈': 13684, '바제': 13685, '안우': 13686, '같': 13687, '반해버렷내': 13688, '힘임': 13689, '좆': 13690, '촐랑이': 13691, '발도': 13692, '애드립': 13693, '꼭봐야듀': 13694, '수인': 13695, '리얼리즘': 13696, '자서전': 13697, '몸살': 13698, '짯다': 13699, '머케팅효': 13700, 'ㅣㅡㅂ': 13701, '엄지손': 13702, '이상정': 13703, '말재밋': 13704, '데도': 13705, '붓다': 13706, '결승': 13707, 'ㅋㅋㅋㅈ': 13708, '단원고': 13709, '느꼇을것': 13710, '류승용땜': 13711, '과람후': 13712, '여간': 13713, '젇': 13714, '아야': 13715, '엘리트': 13716, '흥밋거리': 13717, '가약': 13718, '도랑': 13719, '짛': 13720, 'ㅏㅋ': 13721, '쿠쿠': 13722, '고동': 13723, '재밋음졸라재밋믐': 13724, '회부': 13725, '장본인': 13726, '피섬': 13727, '재밋앗아': 13728, '박신혜': 13729, '어는': 13730, '캬내': 13731, '나잇': 13732, '침대': 13733, '쉐기': 13734, '평가떄문': 13735, '깨닷': 13736, '처줄': 13737, '속풀엇어': 13738, '알란': 13739, '편론': 13740, '뻘': 13741, '쓰네욬': 13742, '상서': 13743, '행여': 13744, '어드밴쳐': 13745, '공정하다': 13746, '라라라': 13747, '한문': 13748, '글씨': 13749, '성지': 13750, '불안감': 13751, '훤': 13752, '나도없엇겟': 13753, '봬': 13754, '잭임': 13755, '주먹구구': 13756, '와스': 13757, '너무멋졋다': 13758, '박음질': 13759, '가방': 13760, '우조': 13761, '게더굿': 13762, '궈': 13763, '좋길레': 13764, '굿국': 13765, '평좀': 13766, '레퀴엠': 13767, '날렷네': 13768, '뾰족': 13769, '에게서도': 13770, 'ㄴㄹㄴㄹ': 13771, '캠페인': 13772, '회군': 13773, '훨잼씁니': 13774, '괴담': 13775, '줗': 13776, '짜릿짜릿하다': 13777, '난왜그닥': 13778, '기둥': 13779, '쩌럿음': 13780, '해피햇엇어': 13781, '호자': 13782, '이흥건': 13783, '긊': 13784, 'ㅈㅅㄷㅈ': 13785, '전전긍긍': 13786, '상함': 13787, '돤': 13788, '어휘': 13789, '티끌': 13790, '공중': 13791, '바꿈': 13792, '때때로': 13793, '은커녕': 13794, '드랬': 13795, '밍': 13796, '었는데': 13797, '빈번': 13798, '욕망': 13799, '떠받다': 13800, '고오': 13801, '직품': 13802, '갖고보쟈': 13803, '힙': 13804, '뮤직': 13805, '전단': 13806, '나왓': 13807, '망실': 13808, '쇄줄': 13809, '음고': 13810, '여훈': 13811, '어쩌구할때': 13812, '퀭겼다': 13813, '안준': 13814, '섹히': 13815, '중딸': 13816, '오명': 13817, '아포': 13818, '활립토': 13819, '반짝': 13820, '주접': 13821, '안드네': 13822, '어으라리느': 13823, '집앞': 13824, '왜빼': 13825, '발로': 13826, '얼토': 13827, '은자': 13828, '머금': 13829, '기술자': 13830, '협업': 13831, '넘쳣습니': 13832, '조그만': 13833, '낚싯배': 13834, '뒤집힌다던': 13835, '난좀': 13836, '스타워즈': 13837, '검표': 13838, '학원': 13839, '만장일치': 13840, '어우졸려': 13841, '리슌쉰': 13842, '필승': 13843, '냉혹하다': 13844, '고교생': 13845, '기만나': 13846, '달탈달': 13847, '전쟁기념관': 13848, '천막': 13849, '파익': 13850, '흩어지다': 13851, '혼또': 13852, 'ㄹㅇㅍㅌ': 13853, '유병언': 13854, '찌끄레기임': 13855, '일어난다': 13856, '난방': 13857, '쟘쟘': 13858, '쉐리': 13859, '발버둥치다': 13860, '무능': 13861, '입쩍': 13862, '엎을려': 13863, '갈라고': 13864, '남성': 13865, '표방': 13866, '고장군': 13867, '낼슨': 13868, '의젖': 13869, '역사학자': 13870, '개폼': 13871, '꼭바용': 13872, '열공': 13873, '확확': 13874, '그른가': 13875, '영상편집': 13876, '최고재': 13877, '빠졋': 13878, '땡깡': 13879, '덜컥': 13880, '데롱': 13881, '난놀랏음': 13882, '왓엉': 13883, '카이': 13884, '불필': 13885, '업슴': 13886, '가드': 13887, '밖애': 13888, '잠기': 13889, '드었': 13890, '쪼개지다': 13891, '보이드': 13892, '감행': 13893, '무언극': 13894, '염증': 13895, '정류': 13896, '튜너': 13897, '꼇습': 13898, '대장님': 13899, '서하면': 13900, '건개': 13901, '초입': 13902, '무한대': 13903, '입쫙': 13904, '슬럼프': 13905, '순심': 13906, '침체': 13907, '탐관': 13908, '단둘': 13909, '닥치': 13910, '모세': 13911, '봑말': 13912, '개낚': 13913, '습보': 13914, '뭐쫌': 13915, '고립': 13916, '만이이': 13917, '잇몸': 13918, '물밀': 13919, '색갈': 13920, '딴지': 13921, '걸때': 13922, '조자룡': 13923, '봤스빈다': 13924, '시생': 13925, '면세': 13926, '음돈': 13927, '선대': 13928, '기모찌': 13929, '채웟으면만잼': 13930, '회계': 13931, '품행': 13932, '헤매다': 13933, '동포': 13934, '난일년': 13935, '굿굿굿또': 13936, '엇어요재밋': 13937, '위품': 13938, '예이예': 13939, '할하': 13940, '랄라라': 13941, '리순': 13942, '이이이이': 13943, '제겐': 13944, '엇듬': 13945, '가조': 13946, '반기': 13947, '로기': 13948, '호리호리하다': 13949, '그른건': 13950, '둑목': 13951, '보다만': 13952, '발정': 13953, '꼴볼견': 13954, '칠만': 13955, '검정': 13956, '고무신': 13957, '야사': 13958, '씬볼': 13959, '놎았다': 13960, '순전': 13961, '리더쉅': 13962, '옜': 13963, '과보': 13964, '망처': 13965, '오진': 13966, '별꼴': 13967, '이장손': 13968, '천뢰': 13969, '철편': 13970, '파편': 13971, '유케': 13972, '호미': 13973, '곳뇌뢰앗': 13974, '좀아쉬웟': 13975, '프란치스코': 13976, '선땍': 13977, '느까수': 13978, '겸손': 13979, '송곳': 13980, '쉿': 13981, '나왓다': 13982, '쉅': 13983, '뵤': 13984, '과욕': 13985, '멋쨍': 13986, '무제한': 13987, '연명': 13988, '혹설': 13989, '육상': 13990, '옷휘졋는': 13991, '넘겨주다': 13992, '분단': 13993, '깝습': 13994, '팔지마다': 13995, '재밋네재밋어': 13996, '로보트': 13997, '태권': 13998, '남북전쟁': 13999, '해달라다': 14000, '쇠줄솜': 14001, '방탄': 14002, '알뜰하다': 14003, '젛': 14004, '공방전': 14005, '대머리': 14006, 'ㅃ': 14007, '겉핣기': 14008, '믐': 14009, '괴롭힘': 14010, '그리스신화': 14011, '스위트': 14012, '코팅': 14013, '장갑': 14014, '옷입엇으': 14015, '점준놈': 14016, '봤어욬': 14017, '씨유': 14018, '배트맨': 14019, '선공': 14020, '오감': 14021, '이현세': 14022, '국책': 14023, '나대용함': 14024, '범의': 14025, '뿜기': 14026, '합점른': 14027, '파르르': 14028, '건어': 14029, '한산하다': 14030, '단속': 14031, '민우': 14032, '뺨': 14033, '기신': 14034, '강박증': 14035, '특가등': 14036, '프로모션': 14037, '으그': 14038, '오해': 14039, '중세': 14040, '뾰루퉁': 14041, '생뚱맞': 14042, '콜록콜록': 14043, '라진': 14044, '짜개다': 14045, '아랫': 14046, '수퍼스타': 14047, '이영': 14048, 'ㅓㅇ': 14049, '낙화': 14050, '아넵네': 14051, '부지': 14052, '밋썽': 14053, '찍음': 14054, '허슐햇': 14055, '비트': 14056, '요도': 14057, '유현상': 14058, 'ㅋㅇㅋ': 14059, '안봣어': 14060, '소실': 14061, '광명': 14062, '종교': 14063, '교주': 14064, '사악하다': 14065, '부진': 14066, '부랑': 14067, '한창때': 14068, '봣구': 14069, '울보': 14070, '서방': 14071, '임정': 14072, '상사': 14073, '본기': 14074, '로지후': 14075, '김두영': 14076, '뾰루': 14077, '귀염': 14078, '손좀': 14079, '지브리': 14080, '수익률': 14081, '주하': 14082, '간질': 14083, '이현우': 14084, '어운': 14085, '하부': 14086, '잘봤습닏다': 14087, '컵': 14088, '구기': 14089, '월등': 14090, '끗': 14091, '멋찌심': 14092, '스벡타클': 14093, '실킬': 14094, '커뮤니케이션': 14095, '옛날이야기': 14096, '냐옹': 14097, '꿈속': 14098, '히로인': 14099, '페러디': 14100, '간단명료': 14101, '졸잼짣짱': 14102, '오금': 14103, '부러지다': 14104, '재밋이': 14105, '펑소': 14106, '글치': 14107, '공개': 14108, '오디션': 14109, '목선': 14110, '오천만': 14111, '흐회': 14112, '제재': 14113, '널다': 14114, '액숀': 14115, '두둔': 14116, '첫등장': 14117, '괴롭히다': 14118, '주마': 14119, '진흥': 14120, '법률': 14121, '제조': 14122, '경영': 14123, '연간': 14124, '대통령령': 14125, '글함번': 14126, '현대차': 14127, '협해': 14128, '넹낫': 14129, '듀본째': 14130, '대동': 14131, '소이': 14132, '자애': 14133, '무릿수': 14134, '극혐임': 14135, '절결': 14136, '걘': 14137, '쵝오말': 14138, '재밋어영': 14139, '방어': 14140, '성해': 14141, '멋쬬요오': 14142, '지슴': 14143, '정도안': 14144, '완급': 14145, '쫌머랄까': 14146, '어맛': 14147, '강추입니돠': 14148, '완접': 14149, '흘쩍': 14150, '맘보': 14151, '재밋을듯': 14152, '닥막': 14153, '최밈식': 14154, '얏': 14155, '아공': 14156, '유효하다': 14157, '야리다': 14158, '살의': 14159, '배경인': 14160, '기울어지다': 14161, '쥐라기': 14162, '그래빅': 14163, '자랑거리': 14164, '뻣어나': 14165, '아차': 14166, '탗': 14167, '봣씁니': 14168, '범접': 14169, '보러왓눈데': 14170, '왓을까': 14171, '나머진점': 14172, '산들': 14173, '메인보컬': 14174, '봣었는데': 14175, '서말구': 14176, '보통사람': 14177, '대군': 14178, '소환': 14179, '등꼴': 14180, '빅잼입니': 14181, '누님': 14182, '십만': 14183, '뢰': 14184, '혼동': 14185, '앤딩': 14186, '혈투': 14187, '공동체': 14188, '회복하다': 14189, '일기토': 14190, '전개식': 14191, '해전씬때': 14192, '통괘': 14193, '때기': 14194, '정신승리': 14195, '얽히다': 14196, '워킹': 14197, '살길': 14198, '부라보': 14199, '족보': 14200, '말따': 14201, '꼮꼮꼭': 14202, '짱이엇어': 14203, '노리': 14204, '간거': 14205, '남학생': 14206, '렷던': 14207, '구가': 14208, '무적인': 14209, '년내': 14210, '금빙': 14211, '큰아들': 14212, '희귀': 14213, '정이안': 14214, '잼재밋다고쓰자': 14215, '재밋다고그': 14216, '점달': 14217, '쫄보': 14218, 'ㄴㅡㄴ': 14219, 'ㄱㄴ': 14220, '원고료': 14221, '미세하다': 14222, '스콤': 14223, '문도': 14224, '붸': 14225, '에리': 14226, '지음': 14227, '스트래스': 14228, '쟘': 14229, '하지맙시': 14230, '달후': 14231, '괜객': 14232, '발명': 14233, '선착장': 14234, '차곡차곡': 14235, '반반하다': 14236, '백선엽': 14237, '보그': 14238, '아마우리': 14239, '마담': 14240, '일로': 14241, '갸들': 14242, '멋찜': 14243, '안배': 14244, '창사': 14245, '버무리려': 14246, '비비다': 14247, '황홀하다': 14248, '가배': 14249, '우의': 14250, '항해사': 14251, '벼슬': 14252, '아치': 14253, '동이면': 14254, '울렁이다': 14255, '시루': 14256, '랍시구얼글팽팽': 14257, '랫듯': 14258, '도끼': 14259, '승니': 14260, '요즈음': 14261, '뻥카': 14262, '데일': 14263, '조해': 14264, '지난주': 14265, '게일': 14266, '본과': 14267, '클리어': 14268, '텅빈': 14269, '화물': 14270, '제기': 14271, '인류사': 14272, '맀함': 14273, '기안': 14274, '거김': 14275, '몰랏는데': 14276, '뵈야압니': 14277, '보셧어': 14278, '욨': 14279, '대끼다': 14280, '유치빤쯔': 14281, '물가': 14282, 'ㅠㅜㅠㅠ': 14283, '대극': 14284, '뭣때문': 14285, '즐잼': 14286, '건재': 14287, '역쉬쵝오': 14288, '쩔엇음': 14289, '번인': 14290, '밤새다': 14291, '에미': 14292, '뭐온': 14293, '귓등': 14294, '에일': 14295, '무고': 14296, '팽겨': 14297, '랫움': 14298, '버로우타': 14299, '녺': 14300, '종료': 14301, '이웃집': 14302, '재밋다어야유넡퍼': 14303, '유냔': 14304, 'ㄹㅇㅇ': 14305, '탐방': 14306, '옷벗다': 14307, '번벅': 14308, '꾿꿋': 14309, '훼오리': 14310, '만오천원': 14311, '애정도': 14312, '일문일답': 14313, '뽀록': 14314, '함흥': 14315, '신아': 14316, '인트': 14317, '옷가지': 14318, '렌더링': 14319, '재밌쪙': 14320, '구럭': 14321, '럭볼': 14322, '폭동': 14323, '먹방': 14324, '일후': 14325, '사마의': 14326, '인폑트': 14327, '흠결': 14328, '투타': 14329, '김원효': 14330, '스름': 14331, '그랙핀': 14332, '잊엇으': 14333, '그레이드': 14334, '애귝심': 14335, '저예산영화': 14336, '땟목같응걸': 14337, '머텅': 14338, '국뽕위': 14339, '뷴': 14340, '다도': 14341, '썽': 14342, '점봇': 14343, '원랜': 14344, '던듯': 14345, '뿍': 14346, '핮니': 14347, '으응': 14348, '화닥': 14349, '그닌마': 14350, 'ㅎㄹㅅㄲ': 14351, '볼만햇슴둥': 14352, '면알': 14353, '혁명': 14354, '힘기': 14355, '하텨피탸': 14356, '사티': 14357, '나파': 14358, '라파': 14359, '김수한': 14360, '두루미': 14361, '여류': 14362, '유자': 14363, 'ㅐㅈ': 14364, '야쥬야저': 14365, '급니': 14366, '듯말': 14367, '깝깝': 14368, '실감케': 14369, '군대장': 14370, '구곡': 14371, '하우리': 14372, '드높다': 14373, '곽시양': 14374, '초괴': 14375, '면식': 14376, '밀덕': 14377, '라이어': 14378, '남은영': 14379, '훨재밋는데': 14380, '거금': 14381, '설문조사': 14382, '재믺어욯': 14383, '멍량': 14384, '발란스': 14385, '변모': 14386, '사도': 14387, '스턴': 14388, '있음돠': 14389, '레이어': 14390, '도움말': 14391, '되엇어': 14392, '곳속': 14393, '재치': 14394, '땀날': 14395, '저학년': 14396, '티브': 14397, '여운쩌': 14398, '최믹식님': 14399, '리만': 14400, '명물': 14401, '마지않다': 14402, 'ㅏㅁ': 14403, '허신': 14404, '스타크래프트': 14405, '못바': 14406, '실날': 14407, '하드코어': 14408, '증도': 14409, '국뽕버프': 14410, '흐트렸어': 14411, '번꼭볼': 14412, '쿠쾅거리': 14413, '발발': 14414, '빠저': 14415, '전등': 14416, '헞': 14417, '꿀벌': 14418, '한벉': 14419, '핑돈': 14420, '닥볼': 14421, '피박': 14422, '무르': 14423, '애시': 14424, '군기': 14425, '판옥': 14426, '행복감': 14427, '못하겟음': 14428, '원흉': 14429, '듬직': 14430, '용구': 14431, '후레쉬맨': 14432, '기네스북': 14433, '불운': 14434, '팩션': 14435, '좀그닥': 14436, '여름날': 14437, '본능': 14438, '면역': 14439, '확끈': 14440, '물레': 14441, '썻다는점': 14442, '치키다': 14443, '내외': 14444, '사슬': 14445, '큰데쌩뚱맞': 14446, '가끔가다': 14447, '분업': 14448, '믹고즐겆': 14449, '캐햇': 14450, '드셧': 14451, '내해': 14452, '재밋엉': 14453, '수이': 14454, '된장국': 14455, '코스': 14456, '촤고네': 14457, '점짜릴텐데': 14458, 'ㅠㅜㅡ': 14459, '깍이다': 14460, '우월': 14461, '이중성': 14462, '블랙호크다운': 14463, '엄연하다': 14464, '논제': 14465, '뭄': 14466, '기바': 14467, '레이져': 14468, '국재': 14469, '믹': 14470, '수명': 14471, '짤아욤': 14472, '역사스폐셜': 14473, '난파': 14474, '얼척': 14475, '인구': 14476, '장희빈': 14477, '리슨': 14478, '괴작': 14479, '심법': 14480, '임진년': 14481, '후반작업': 14482, '옸습니': 14483, '스켈크': 14484, '칵카갘': 14485, '가각': 14486, '칵': 14487, '조감': 14488, '분할': 14489, '잇엇읍니': 14490, '쫄이면': 14491, '기시감': 14492, '굿굿굿굿정망': 14493, '핼봇래': 14494, '럭척': 14495, '고배': 14496, '아니꼽다': 14497, '에애엠에엠': 14498, '기악': 14499, '기죽다': 14500, '지화': 14501, '맹호': 14502, '쩔엇어': 14503, '계보': 14504, '뎅영황': 14505, '겉모습': 14506, '게모': 14507, '도치': 14508, '언짢다': 14509, '초감': 14510, '사임': 14511, '단박': 14512, '명징': 14513, '철저함': 14514, '할복': 14515, '만금': 14516, '톰': 14517, '브라운': 14518, '느작없다': 14519, '오마이': 14520, '지지다': 14521, '부곽되': 14522, '폭락': 14523, '심산': 14524, '꼽으': 14525, '샹각해': 14526, '계지': 14527, '볻': 14528, '못항': 14529, '용모': 14530, '진일': 14531, '디지털': 14532, '물란': 14533, '가상현실': 14534, '옥포': 14535, '반추': 14536, '후사': 14537, '꼿꼿하다': 14538, '눈엣가시': 14539, '장거리': 14540, '료헤이': 14541, '장말': 14542, '화초': 14543, '남강': 14544, '거리깜': 14545, '예인': 14546, '풍뢰익괘': 14547, '동격': 14548, '안녕': 14549, '동작': 14550, '안븨': 14551, '저딴': 14552, '에서보다': 14553, '방점': 14554, '압두': 14555, '흐트러진': 14556, '섣부르다': 14557, '진쭝꿔': 14558, '랑께': 14559, '졎문': 14560, '케이틀린': 14561, '신화로': 14562, '믈': 14563, '바때': 14564, '마이웨이': 14565, '꼮보세': 14566, '나경': 14567, '격려': 14568, '투덜투덜': 14569, '봈는데': 14570, '나후': 14571, '영화안봣': 14572, '않네욤': 14573, 'ㅎㅌ': 14574, '어르다': 14575, '더탸챠': 14576, '빠따좀': 14577, '이거슨': 14578, '드그둣드스': 14579, '무인기': 14580, '직인': 14581, '보새': 14582, '런링타임': 14583, '이아주': 14584, '줄타기': 14585, '타자': 14586, '신의손': 14587, '촌장': 14588, '어쨌던': 14589, '민첩하다': 14590, '헬멧': 14591, '비둘기': 14592, '박동': 14593, '구숙': 14594, '전해질': 14595, '뎅강': 14596, '좀처': 14597, '대딘': 14598, '못봣는데': 14599, '듸': 14600, '부악': 14601, '박창균': 14602, '즐거웟습니': 14603, '봤엇음근데': 14604, '정도희': 14605, '루나': 14606, '허비': 14607, '독참': 14608, '수천': 14609, '졋음': 14610, '자약': 14611, '배틀': 14612, '또볼거': 14613, '누지': 14614, '웰케': 14615, '민방위': 14616, '교육장': 14617, '씬도재밋긴': 14618, '게뭐임': 14619, '타짜': 14620, '또머': 14621, '고향': 14622, '짠지': 14623, '돈더': 14624, '쥥': 14625, '불때': 14626, '데자뷰': 14627, '부장': 14628, '밋어뇨': 14629, '굴러가다': 14630, '빠직': 14631, '보았슴다': 14632, '재밋어욜': 14633, '꼽을만': 14634, '큐': 14635, '테러범': 14636, '았습니': 14637, '남아도': 14638, '남아돌다': 14639, '잇엇음재밋엇': 14640, '후들거렸다': 14641, '화러': 14642, '식지': 14643, '월욜': 14644, '잉우잉이잉': 14645, '손꾸락': 14646, '양상': 14647, '꼳봐냐함': 14648, '낚아': 14649, '귯굿귯굿귯굿귯': 14650, '굿귯굿': 14651, '스코프': 14652, '반짝거리다': 14653, '그닥점': 14654, '귣': 14655, '준비물': 14656, '쩜솔까': 14657, '위업': 14658, '브래드피트': 14659, '정군': 14660, '요로': 14661, '문학': 14662, '심화': 14663, '이완': 14664, '겁나많넹': 14665, '얍얍': 14666, '넘엇데서봣': 14667, '주지훈': 14668, '임천': 14669, '편편': 14670, '개전': 14671, '머마': 14672, 'ㅓㄷ': 14673, '씨쥐': 14674, '질라': 14675, '뿌렷': 14676, '측은': 14677, '쫙쫙쫙쫙': 14678, '멤버': 14679, '선진국': 14680, '솢직히': 14681, '오동통하다': 14682, '볼살': 14683, '서하': 14684, '충그': 14685, '잠자리': 14686, '적재': 14687, '명국': 14688, '난시': 14689, '압권꼭': 14690, '소심하다': 14691, '섬뜩': 14692, '봉작': 14693, '부임': 14694, '무사하다': 14695, '후보자': 14696, '죤': 14697, '쩔연': 14698, '십상': 14699, '바닥나다': 14700, '다스': 14701, '회전': 14702, '우쭐거리다': 14703, '터질락말락': 14704, '락말락': 14705, '민원': 14706, '잘헷다': 14707, '박우리': 14708, '안돠': 14709, '인젠': 14710, '단도직입': 14711, '어섹했다': 14712, '감쪽': 14713, '유비': 14714, '무환': 14715, '군림': 14716, '꼬치꼬치': 14717, '물체': 14718, 'ㅎㄸㄷ': 14719, 'ㅇㄱㄷ': 14720, '바랑': 14721, '폭소': 14722, '국위': 14723, '중첩': 14724, '잘봣어용': 14725, '기념비': 14726, '노르망디': 14727, '상륙': 14728, '멋있드앙': 14729, '고승전': 14730, '핑겨대거': 14731, '시외버스': 14732, '살남': 14733, '공대생': 14734, '어린이날': 14735, '순의': 14736, '캐스': 14737, '티빨': 14738, '잘봣': 14739, '구색': 14740, '화조': 14741, '헿': 14742, '건시': 14743, '점좀': 14744, '탈영병': 14745, '셰': 14746, '했슴': 14747, '재밋는것': 14748, '경쾌하다': 14749, '성감': 14750, '맘에듬': 14751, '아위': 14752, '아스스': 14753, '스흐스스스': 14754, '스스브브': 14755, '막점': 14756, '아비규환': 14757, '니었음': 14758, '같동받아': 14759, '책사': 14760, '심심함': 14761, 'ㅋㅎㅋㅎ': 14762, '박지': 14763, '고속': 14764, '한프로': 14765, '서툴다': 14766, '친정엄마': 14767, '느겨': 14768, '러브액츄얼리': 14769, '우주쓰레기': 14770, '편입': 14771, '고비': 14772, '끼쳤슴': 14773, '벼슬도': 14774, '엘': 14775, '출판사': 14776, '끙': 14777, '감지덕지': 14778, '니야': 14779, '쟈미있': 14780, '존잼존잼': 14781, '함강': 14782, '김영화': 14783, '몹': 14784, '정곡': 14785, 'ㅇㅈ': 14786, '들러붙어': 14787, '코볼': 14788, '오기': 14789, '살때뷰터': 14790, 'ㅎㄹ': 14791, '우렁차': 14792, '쏠쏠하다': 14793, '정로': 14794, '푸쳐핸즈업': 14795, '센텀': 14796, '전정': 14797, '독하다': 14798, '구식': 14799, '번번': 14800, '평판': 14801, '짙어지다': 14802, '멋젔습니': 14803, '얼렁': 14804, '개잼뀬잼': 14805, '가우': 14806, '렁': 14807, '란때': 14808, '세도정치': 14809, '민비': 14810, '고종은': 14811, '리안': 14812, '바들바들': 14813, '장봣어': 14814, '킄': 14815, '도요타': 14816, '야마하': 14817, '유니클로': 14818, '신한은행': 14819, '일레븐': 14820, '스릭슨': 14821, '삿뽀르': 14822, '아사히': 14823, '단세포': 14824, '코리안': 14825, '민감하다': 14826, '깨치다': 14827, '메밀': 14828, '그만두다': 14829, '부업': 14830, '대출': 14831, '큰절': 14832, '추잡하다': 14833, '깁슨': 14834, '고질라': 14835, '싸움질': 14836, '재밋댜': 14837, '자신만만하다': 14838, '윌': 14839, '스미스': 14840, '아완': 14841, '기뻣다': 14842, '뒹구': 14843, '쩡쩡': 14844, '솓': 14845, '우하하하': 14846, '기왕': 14847, '번보새': 14848, '엏음꿀잼': 14849, '임명': 14850, '예찬': 14851, '덤비다': 14852, '엔터테인먼트': 14853, '띵가띵': 14854, '명해': 14855, '시간여행': 14856, '푸대접': 14857, '침울하다': 14858, '꾸르': 14859, '좋아츰': 14860, '쥐고봣음': 14861, '사무엘': 14862, '잭슨': 14863, '홧홧해': 14864, '젉반먹다': 14865, 'ㅡㄴ': 14866, 'ㅡㅅ': 14867, '숛': 14868, '점잼': 14869, '재밐': 14870, '점투': 14871, '시나리오작가': 14872, '콘크리트': 14873, '보드': 14874, '이러셧': 14875, '쒸마': 14876, '노도': 14877, '정영': 14878, '느킬수': 14879, '델꼬': 14880, '잡아먹히다': 14881, '터별': 14882, '화로': 14883, '오르내리다': 14884, '잇넹': 14885, '호오': 14886, '팔이해': 14887, '캑릭터': 14888, '휴식': 14889, '닥돌': 14890, '듯쪽': 14891, 'ㅢ': 14892, '좋앟어': 14893, '꼭세': 14894, '수탈': 14895, 'ㄴㅈ': 14896, '밝혀지다': 14897, '음꼭': 14898, '옷깃': 14899, '구마': 14900, '음르': 14901, '부딭혀': 14902, '쇠못': 14903, '한글패치': 14904, '헌혈': 14905, '가단조': 14906, '재밋게봣': 14907, '코고': 14908, '봣기': 14909, '남포동': 14910, '제지': 14911, '심햇으': 14912, '외웟': 14913, '편두통': 14914, '도졋': 14915, '셔루루라늨': 14916, '도레미파솔라시도': 14917, '솔파': 14918, '감각': 14919, '묵례': 14920, '책무': 14921, '가디': 14922, '가립': 14923, '우야둥': 14924, '독접': 14925, '졸렬하다': 14926, '라스': 14927, '굿잡굿잡맨': 14928, '어쩌라고': 14929, '컨택': 14930, '복구': 14931, '심장소리': 14932, '구리지': 14933, '종속': 14934, '철사': 14935, '햇나': 14936, '머금으': 14937, '단역배우': 14938, '문외한': 14939, '허튼': 14940, '세미': 14941, '송지영': 14942, '가독': 14943, '쩐드': 14944, '주희': 14945, '레게': 14946, '호주머니': 14947, '회도': 14948, '씬스틸러': 14949, 'ㅍㅍ': 14950, '신비롭다': 14951, '움찔': 14952, '개막': 14953, '가다가': 14954, '김래원': 14955, '해바라기': 14956, '훠얼': 14957, '터립': 14958, '슈쏘뻐': 14959, '황정민': 14960, '멸로슬': 14961, '수라': 14962, '진땀': 14963, '충효등': 14964, '분출': 14965, '부작임': 14966, '필터': 14967, '뿌옇다': 14968, '캠코더': 14969, '도토': 14970, '섹싱': 14971, '의장': 14972, '깍으러': 14973, '지안': 14974, '슈퍼영웅': 14975, '조쿠': 14976, '이쿠': 14977, '머볼': 14978, '흠재밋긴한대': 14979, '강츟': 14980, '굿굿국국굿굿국국굿굿': 14981, '숙굿굿': 14982, '여차하면': 14983, '년됐넹': 14984, '랭킹': 14985, '깨닺': 14986, '성별': 14987, 'ㅂㅂ': 14988, '란데': 14989, '배리': 14990, '압오누': 14991, '으스스하다': 14992, '귓전': 14993, '잔인무도하다': 14994, '스펙트럼': 14995, '넖': 14996, '시설': 14997, '것좀': 14998, '괜스레': 14999, '잠잠하다': 15000, '봤숩니': 15001, '어둠침침하다': 15002, 'ㄲㅈ': 15003, '밋어욬': 15004, '그닥왜': 15005, '제비': 15006, '비겁': 15007, '신시대': 15008, '아욯': 15009, '재건': 15010, '이로써': 15011, '러르': 15012, '해명': 15013, '역보족': 15014, '건저': 15015, '멍울': 15016, '반경': 15017, '이팅': 15018, 'ㄱㄴㄹㅁ': 15019, '응긔으으를릏으': 15020, '빌런': 15021, '뛰어내리다': 15022, '리척': 15023, '빼애애': 15024, '애액': 15025, '뿜빠': 15026, '코난': 15027, '불충분': 15028, '지보': 15029, '동산': 15030, '서우': 15031, '영자': 15032, '격양되': 15033, '젤남': 15034, '깊른': 15035, '쨔응': 15036, '글좀': 15037, '계씨': 15038, '쩌름쩌름저름저름': 15039, '머찜': 15040, '고량주': 15041, '클로저': 15042, '강일': 15043, '개재밋음': 15044, '아하': 15045, '조기': 15046, '불우하다': 15047, '초청': 15048, '코버': 15049, '봣냐': 15050, '잼업엇어': 15051, '아우성': 15052, '살것': 15053, '재밋넹': 15054, '아랏능대': 15055, '에세': 15056, '개국': 15057, '브라더': 15058, '툰쟈밌': 15059, '수수': 15060, '좀김': 15061, '그야': 15062, '어설푼백병전씬': 15063, '스티븐': 15064, 'ㄱㅊㄱㅊ': 15065, '고정관념': 15066, '얌청재밋': 15067, '죽순': 15068, '신도림': 15069, '핬': 15070, '분별': 15071, '애심': 15072, '제가봣던': 15073, '재돈': 15074, '일제강점기': 15075, '뼤': 15076, '멋잇엇습니': 15077, '숏': 15078, 'ㅆㅆㅅ': 15079, '의향': 15080, '오씨': 15081, 'ㅅㅎㅎㄲ': 15082, '정신사': 15083, '얻어맞다': 15084, '센세이션': 15085, '아쉬웟던': 15086, '못건': 15087, '죨잼': 15088, '랏일': 15089, '소맷자락': 15090, '티슈': 15091, '리슌신노': 15092, '나타': 15093, '팟습': 15094, '덜덜대다': 15095, '안녕하다': 15096, '로란': 15097, '멋젔다': 15098, '왜재밋다는': 15099, '세가족': 15100, '시내': 15101, '후미지다': 15102, '구입': 15103, '손아귀': 15104, 'ㅎㅎㅎㅇ': 15105, '영화편집': 15106, '해박': 15107, '뚱': 15108, '갸륵하': 15109, '뺑이': 15110, '친뻔': 15111, '우하하': 15112, '이요정': 15113, '노늘': 15114, '베일': 15115, '꾸짖다': 15116, '보전': 15117, '마이나스': 15118, '유의': 15119, '엉뚱하다': 15120, '썰렁하다': 15121, '건안': 15122, '쫄면': 15123, '키워지다': 15124, '슨룡': 15125, '가득가득': 15126, '멋스럼이랄까': 15127, '구점': 15128, '은우': 15129, '굳어지다': 15130, '지름길': 15131, '연아': 15132, '주종': 15133, '영홥': 15134, '정정당당하다': 15135, '퉤퉈': 15136, '급똥': 15137, '궁굼하': 15138, '웃통': 15139, '식스': 15140, '팩': 15141, '방패': 15142, '중략': 15143, '짓누르다': 15144, '가분': 15145, '모욕감': 15146, '숙련': 15147, '병폐': 15148, '이즈리얼': 15149, '뮬': 15150, '리더쉬드쉬으': 15151, '추찬': 15152, '함양': 15153, '퐉퐉': 15154, '줄스': 15155, '모숨': 15156, '참마': 15157, '욱': 15158, '어째뜬': 15159, '물바다': 15160, '웠으': 15161, '기릴수': 15162, '소멸': 15163, '드렷': 15164, '못봣': 15165, '부리고': 15166, '감덩': 15167, '효을': 15168, '꿀잼잼잼잼': 15169, '꽃미남': 15170, '미녀': 15171, '날조하다': 15172, '우렁찼으': 15173, '직선': 15174, '핡다들': 15175, '탁탁': 15176, '모츠': 15177, '패차파': 15178, '의기': 15179, '세배': 15180, '평생토록': 15181, '해먹': 15182, '골빈': 15183, '레픽': 15184, '컨트롤': 15185, '몰살': 15186, '진입': 15187, '마알': 15188, '롤로': 15189, '양옆': 15190, '허위': 15191, '재밋음돈안': 15192, '돈값': 15193, '위트': 15194, '줄곶': 15195, '은것': 15196, '뉴욕': 15197, '심장이뛴다': 15198, '느드르브': 15199, '퉇': 15200, '음중': 15201, '꿀잼몸': 15202, '천육백만이': 15203, '닭다리': 15204, '개드려욤': 15205, '티븨': 15206, '비급': 15207, '뒤강': 15208, '안지': 15209, '꿀잼꿀잼꿀잼꿀잼꿀잼꿀잼꿀잼꿀잼꿀잼꿀잼꿀잼꿀잼꿀잼꿀잼꿀잼꿀잼꿀잼꿀잼꿀잼꿀잼꿀잼꿀잼꿀잼꿀잼꿀잼': 15210, '재잉': 15211, '핏': 15212, '성장': 15213, '냨': 15214, 'ㅎㅅㅎ': 15215, '거겟': 15216, '버여': 15217, '일산': 15218, '굳': 15219, '손꼭': 15220, '말소리': 15221, '게시판': 15222, '후제': 15223, '말주변': 15224, '실황': 15225, '로버트': 15226, '드니': 15227, '복작': 15228, '서단': 15229, '현란하다': 15230, '러시아': 15231, '충무김밥': 15232, '슬펏음여보': 15233, '재밋더옹앙엉': 15234, '앙잉': 15235, 'ㅑㅋ': 15236, '작물': 15237, '그렁그렁': 15238, '나왔슴니': 15239, '롭습': 15240, '옆구리': 15241, '팔꿈치': 15242, '퍼센트': 15243, '심장병': 15244, '거려': 15245, '열흘': 15246, '디큐': 15247, '김명': 15248, '무패': 15249, '마따나': 15250, '허겁지겁': 15251, '대췌': 15252, '프로야구': 15253, '다클라': 15254, '청렴': 15255, '애이젼트': 15256, '복제': 15257, '기관': 15258, '쫀잼': 15259, '래인': 15260, '설리': 15261, '종지부': 15262, '로맨틱': 15263, '공덕': 15264, '깔깔': 15265, '그랫던': 15266, '어욤': 15267, '꼽보세': 15268, '영규': 15269, '기생충': 15270, '취약': 15271, '여의고': 15272, '열번': 15273, '앟': 15274, '꿀꿀이죽': 15275, '노꾼': 15276, '명심': 15277, '보은': 15278, '소담': 15279, '욷': 15280, '다왓': 15281, '내분': 15282, '은은하다': 15283, '외선': 15284, '불성': 15285, '비숍': 15286, '쥔공버프': 15287, '주절거리다': 15288, '일꺠워': 15289, '대교': 15290, '집계': 15291, '이따금': 15292, '젓': 15293, '낚였다왜': 15294, '잡수다': 15295, '쿵': 15296, '죄인': 15297, '에서라도': 15298, '거론': 15299, '게양': 15300, '포심': 15301, '수권': 15302, '그네': 15303, '쿠폰': 15304, '낌새': 15305, '날실': 15306, '초등생딸': 15307, '존겻': 15308, '예방주사': 15309, '바이러스': 15310, '버버버벙': 15311, '발산도': 15312, '주란': 15313, '봤네욤': 15314, '잡아당기다': 15315, '엄첨큽니': 15316, '허둥대다': 15317, '댜댜댜댜댱': 15318, '개망': 15319, '훨훨': 15320, '착': 15321, '어떨': 15322, '펌': 15323, '선급': 15324, '족함': 15325, '명예훼손': 15326, '프로젝트': 15327, '왜정': 15328, '어스': 15329, '개소맄': 15330, '왕잼꿀잼': 15331, '눈알': 15332, '빼먹다': 15333, '쯔은': 15334, '봒': 15335, '바다씬': 15336, '드너낸다': 15337, '불면증': 15338, '리쑨쒼': 15339, '마마마': 15340, '유야': 15341, '류승용빨': 15342, '왓습니': 15343, '봣슴돠': 15344, '갈대': 15345, '보화': 15346, '러러렁': 15347, '미적지근하다': 15348, '멋쪄버': 15349, '앟습': 15350, '팟': 15351, '강추돈': 15352, '여담': 15353, '캡틴': 15354, '아메리카': 15355, '어설펏': 15356, '또모': 15357, '겓힌': 15358, '손잡이': 15359, '서지': 15360, '쇠': 15361, '그물': 15362, '조오오오오': 15363, '호금': 15364, '후련': 15365, '밨는데': 15366, '독목회': 15367, '전말': 15368, '매달다': 15369, '오리로': 15370, '적신': 15371, '본연': 15372, '못미쳣음': 15373, '완젼초강추': 15374, '민관': 15375, '시무': 15376, '팅기다': 15377, '두둥': 15378, '맨붕': 15379, '옴뭐': 15380, '친분': 15381, '대접받다': 15382, '막장드라마': 15383, '엑': 15384, '크라이': 15385, '좌우명': 15386, 'ㅎㄷㄷㄷ': 15387, '싫엌': 15388, '있었스므니': 15389, 'ㅎㅇㅎ': 15390, '브랫피트': 15391, '대선': 15392, '총보': 15393, '족족': 15394, '유도탄': 15395, '로튼토마토': 15396, '조복': 15397, '멋있엇습니': 15398, '명쾌': 15399, '뭉클뭉클뭉클뭉클': 15400, 'ㅋㅏㅏ': 15401, '뭉쿨햐': 15402, '하인': 15403, '의전': 15404, '떨어트린거': 15405, '충실': 15406, '쉅겠어': 15407, '되찾다': 15408, '안터': 15409, '백대': 15410, '열의': 15411, '으으응': 15412, '대별': 15413, '퍼붓다': 15414, 'ㅌㅇㅇㅇ': 15415, '재밋쩌욤': 15416, '발각': 15417, '가라앉히다': 15418, '왓는데': 15419, '보편': 15420, '금남': 15421, '뻑뻑': 15422, '짱재밋슴': 15423, '후덜': 15424, '모진': 15425, '뭐더': 15426, '배댓': 15427, 'ㅋㅋㄱ': 15428, '재밌엉르': 15429, '논쟁': 15430, '부곽될': 15431, '곽되': 15432, '홀려': 15433, '뉸물났어': 15434, '짆': 15435, '높혔다': 15436, '미드필더': 15437, '떔': 15438, 'ㅓㄹ': 15439, 'ㅎㅋㅌㅇ': 15440, '바르게': 15441, '효성': 15442, '회분': 15443, '에드워드': 15444, '노튼': 15445, '머리힛긋': 15446, 'ㅈㅂ': 15447, '로리': 15448, '나다니다': 15449, '인색하다': 15450, '갉아먹다': 15451, '큰소리': 15452, '소대': 15453, '합의': 15454, '전번': 15455, '칼이쓰마': 15456, '낭천': 15457, '범절': 15458, '리앙스': 15459, '새카맣': 15460, '은줄': 15461, '기슴': 15462, '어쩌자': 15463, '라틴': 15464, '댄스': 15465, '패밀리': 15466, '벙개쳐': 15467, '버프받으': 15468, '불공평하다': 15469, '관리자': 15470, '조진우': 15471, '김난도': 15472, '참석': 15473, '후시': 15474, '성신여대': 15475, '한다민': 15476, '쏠': 15477, '훨배재밋음': 15478, '고고씽': 15479, '저습': 15480, '거니': 15481, '열쇠': 15482, '독기': 15483, '비고': 15484, '카운슬러': 15485, '건데': 15486, '숙숙숙': 15487, '숙수': 15488, '뻐근하다': 15489, '해줫으': 15490, '자음': 15491, '재밋겟': 15492, '읽을때완': 15493, '슨니': 15494, '읁': 15495, '죙일': 15496, '특정': 15497, '청나라': 15498, '왕자': 15499, '훤하': 15500, '잼잇엇어': 15501, '츄강츄': 15502, '세계대전': 15503, '그랫픽': 15504, '음시다': 15505, '당사자': 15506, '좌빨': 15507, '화교': 15508, '듫': 15509, '사회인': 15510, '무관심': 15511, '갯수': 15512, '어주이즈루쟅정쥬': 15513, 'ㅠㅇㅇ': 15514, '지오': 15515, '엇슴': 15516, '돟아요돟': 15517, '재밋오굿굿': 15518, '꾸잉': 15519, '뀨잉': 15520, '짤리': 15521, '굿굿임': 15522, '재밋다가': 15523, '용두사미': 15524, '잘헀어': 15525, '재밋구': 15526, '망맨': 15527, '이성만': 15528, '책좀': 15529, '독차지': 15530, '실시': 15531, '어라하': 15532, '플로리다': 15533, '빌붙다': 15534, '박용기': 15535, '애국싵': 15536, '돝': 15537, '싄': 15538, '소양': 15539, '훗날커': 15540, '용군': 15541, '푼돈': 15542, '주화': 15543, '평쩜': 15544, '들썩': 15545, '율둘목': 15546, '떠듭시': 15547, '퍼레이드': 15548, '스크린쿼터': 15549, '정획': 15550, '쑨씬': 15551, '음감': 15552, '만달': 15553, '전쟁쩌내': 15554, '겧닥기긷': 15555, '숑': 15556, '농': 15557, '한테라': 15558, '삥': 15559, '퍼시픽림': 15560, '짲': 15561, '무인도': 15562, '확관': 15563, '들쑥날쑥하다': 15564, '파이널': 15565, '그랫다': 15566, '위패': 15567, '신병': 15568, '훈련소': 15569, '연평도': 15570, '줫겟': 15571, '만듬보': 15572, '옄': 15573, '늬들': 15574, '체워': 15575, '시원찮다': 15576, '늬들평듣': 15577, '라만': 15578, '많쿰': 15579, '오산': 15580, '스피디': 15581, '주도': 15582, '작대기': 15583, '헐크': 15584, '으어': 15585, 'ㅏㄸ': 15586, '저으셔': 15587, '그닥닥닥닥그닥': 15588, '아이거': 15589, '정확': 15590, '추리': 15591, '운용': 15592, '얽매이다': 15593, '개신교': 15594, '총구': 15595, '뻔헀': 15596, '패가': 15597, '성하': 15598, '내버리다': 15599, '도망자': 15600, '카레': 15601, '만기': 15602, '빡세': 15603, '점뭐': 15604, '여명': 15605, '렷쯈': 15606, '컴퓨터게임': 15607, '몽': 15608, '주니어': 15609, '김동이': 15610, '노노': 15611, 'ㅓㄴㄴ': 15612, '가충': 15613, '잘껄': 15614, '그랫음': 15615, '야다': 15616, '것안': 15617, '쪼그맣': 15618, '부드러움': 15619, '치졸': 15620, '틍쾌': 15621, '근엄': 15622, '햇단걸': 15623, '왈그걸': 15624, '손해': 15625, '호화판': 15626, '미트': 15627, '났나씬': 15628, '대운': 15629, '평들떄문': 15630, '해더': 15631, '변환': 15632, '원어민': 15633, '비타민': 15634, '이물': 15635, '자밌음': 15636, '틀어막다': 15637, '쌔려': 15638, '마다의': 15639, '인도판': 15640, '계세': 15641, '야무지다': 15642, '넘흐넘흐': 15643, '똥줄': 15644, '기저귀': 15645, '재밌슴돠': 15646, '막달': 15647, '임산': 15648, 'ㄱㄱㄱ': 15649, '아메바': 15650, '모되': 15651, '송송': 15652, '어김없이': 15653, '통통': 15654, '잘푷현해': 15655, '뉘우치다': 15656, '바나': 15657, '본방': 15658, '무빙': 15659, '투마': 15660, '애너': 15661, '앳더': 15662, '메일': 15663, '옹기종기': 15664, '재밋엇겟': 15665, '쮸뿌쮸부': 15666, '이형도': 15667, '왓을텐': 15668, '버블': 15669, '이스라엘': 15670, '없엇을것': 15671, '물자': 15672, '사관': 15673, '혼재': 15674, '젖': 15675, '크루': 15676, '말일': 15677, '넝말': 15678, '어떡': 15679, '수면': 15680, '헐리우드영화': 15681, '뻘겋': 15682, '야단법석': 15683, '봄타다': 15684, '상품화': 15685, '서투르다': 15686, '꽤재밋음': 15687, '정도선': 15688, '경영학': 15689, '경력': 15690, '반납': 15691, '덜햇': 15692, '알재': 15693, '미남': 15694, '랑스': 15695, '프로필': 15696, '경로': 15697, '밨읍': 15698, '아무쪼록': 15699, '서민이': 15700, '삑': 15701, '됏는데': 15702, '미디움': 15703, '확뚤리': 15704, '햇눈데': 15705, '선착순': 15706, '공지': 15707, '꼴찌': 15708, '리마': 15709, '밥맛': 15710, '채점': 15711, '모라': 15712, '켯으': 15713, '아낙': 15714, '정면': 15715, '역류': 15716, '서현': 15717, '간판': 15718, '어진영': 15719, '코미': 15720, '사이버': 15721, '북괴': 15722, '괸객수': 15723, '각기': 15724, '대문': 15725, '그니까': 15726, '박재민': 15727, '엿는데': 15728, '안듭니': 15729, '물질': 15730, '주도하다': 15731, '대뇌': 15732, '전두엽': 15733, '전해졋': 15734, '악한': 15735, '아드레날린': 15736, '콜라보레이션': 15737, '거퓸': 15738, '보셍': 15739, '만만만': 15740, '봣습니다아': 15741, '땟목': 15742, '위장': 15743, '김윤식': 15744, '김희애': 15745, '뿌드': 15746, '진짜쵝오': 15747, '갈팡질팡': 15748, '재밋쪙': 15749, '목마르다': 15750, '영진': 15751, '해롭다': 15752, '정찰': 15753, '귣귣귣베리베리귣': 15754, '안되드': 15755, '아들내미': 15756, '할아범': 15757, '패망': 15758, 'ㅟ': 15759, '염라대왕': 15760, '쵝오왜': 15761, '척준경': 15762, '돌격대': 15763, '만사': 15764, '진실인': 15765, '기댜': 15766, '평지': 15767, '자동차': 15768, '재밓': 15769, '브레이브': 15770, '삼이': 15771, '분들껜': 15772, '코리아': 15773, '화략': 15774, '깨쩌네': 15775, '은밀': 15776, '엔진': 15777, '저서': 15778, '막눈': 15779, '뻘쭘한것': 15780, '시집': 15781, '하녀': 15782, '특색': 15783, '이영호': 15784, '고토': 15785, '나니가': 15786, '욘주': 15787, '화목': 15788, '달래': 15789, '응원전': 15790, '보여줫': 15791, '괴로움': 15792, '있을런': 15793, '끌어안다': 15794, '상쇠': 15795, '토지': 15796, '야스쿠니신사': 15797, '통곡': 15798, '개똥': 15799, '퍼다': 15800, '결신': 15801, '마즘': 15802, '육중': 15803, '신기하': 15804, '부족전쟁': 15805, 'ㅋㅣㅣㅡㅎㅂ': 15806, '칼질': 15807, '기틀': 15808, '섯': 15809, '질서': 15810, '별루임': 15811, '상모': 15812, '개화': 15813, '홀연': 15814, '단신': 15815, '강추염': 15816, '우방': 15817, '사주면': 15818, '총알': 15819, '짜오': 15820, '렌': 15821, '자르륵': 15822, '간인': 15823, '젤재밋음': 15824, '일당': 15825, '질적': 15826, '원티드': 15827, '주륵': 15828, '봤느데': 15829, '건방지다': 15830, '녹봉': 15831, 'ㅠㅁ': 15832, '봣다는분': 15833, 'ㅂㅈㄱㅂ': 15834, '글쌔': 15835, '아른거리다': 15836, '무참': 15837, '페인': 15838, '케어': 15839, '적대': 15840, '씬등': 15841, '적위': 15842, '엄음넘잼나게봣': 15843, '유승용': 15844, '쌋': 15845, '질질쌋': 15846, 'ㅋㅋㄷㄷ': 15847, '아디': 15848, '천오백만이': 15849, '잉렇게': 15850, '횽님': 15851, '이겻던': 15852, '발광하다': 15853, '노하우': 15854, '랍': 15855, '진짜재밋': 15856, '므찐': 15857, '와사비': 15858, '망고': 15859, '난입': 15860, '했던탓릴까': 15861, '있었슴': 15862, '봤슬때': 15863, '불행하다': 15864, '똑바로': 15865, '초골': 15866, '로롤': 15867, 'ㅣㄹ': 15868, '숃': 15869, '오난': 15870, '글세': 15871, '라니깐': 15872, '개꿀맛': 15873, '모사': 15874, '승인': 15875, '엮어': 15876, '도서': 15877, '호로쉑히': 15878, '창작물': 15879, '하다앤딩': 15880, '재웅': 15881, '메이저': 15882, '명맥': 15883, '콧대': 15884, '비하인드': 15885, '섬달': 15886, '침탈': 15887, '국퐁': 15888, '적기': 15889, '졸속': 15890, '쩌노': 15891, '똥덩어리': 15892, '간결': 15893, '자알': 15894, '물볼때': 15895, 'ㄹㅎㅈㅎ': 15896, '데번': 15897, '굿재밋어용': 15898, '순직': 15899, '예기': 15900, '업힌': 15901, '이사': 15902, '로번': 15903, '재희': 15904, '두아': 15905, '굿잡맨굿잡': 15906, '굿쟙맨': 15907, '죽을둥살둥': 15908, '악착같이': 15909, '산내': 15910, '에게서는': 15911, '가만있다': 15912, '상감': 15913, '후원': 15914, '재밋긴햇는데': 15915, '소모품': 15916, '부랴부랴': 15917, '휘젓': 15918, 'ㅛㅅㄱㅇ': 15919, 'ㅕㅕ': 15920, '멸렬': 15921, '타란티노': 15922, '문하': 15923, '탁치': 15924, '무르익다': 15925, '퐈이팅입니': 15926, '백전노장': 15927, '포장마차': 15928, '소주': 15929, '다머': 15930, '날짜': 15931, '여년전': 15932, '파전': 15933, '정재영': 15934, '조촐하다': 15935, '엄정화': 15936, '마목': 15937, '악극': 15938, '이중': 15939, '만발': 15940, '챙': 15941, '이소리': 15942, '봣는데졸잼': 15943, '몽따쥬': 15944, '자연재해': 15945, '위일': 15946, '성지순례': 15947, '고성국': 15948, '대담': 15949, '숮': 15950, '건소': 15951, '새키': 15952, '시바': 15953, '릭': 15954, '에게가': 15955, '무엄하다': 15956, '바로바로': 15957, '매사': 15958, '조로': 15959, '쫌더': 15960, '욧꿀잼': 15961, '늠': 15962, '누명': 15963, '똘망똘망': 15964, '미스터': 15965, '퀼': 15966, '애겨랯태': 15967, '사투리': 15968, '원빈': 15969, '선득선득': 15970, '적개심': 15971, '속인': 15972, '미적미적': 15973, '빛깔': 15974, '오카모토': 15975, '노루': 15976, '얼핏': 15977, '방청객': 15978, '사덕': 15979, '해이': 15980, '말끔히': 15981, '질때': 15982, '한덕': 15983, '말꼭': 15984, '국물': 15985, '화학조미료': 15986, '아교': 15987, '삼성': 15988, '라드': 15989, '낻': 15990, '맹세': 15991, '담그다': 15992, '우는남자': 15993, '뭐함': 15994, '탕수육': 15995, '더재밋음': 15996, '기록헸는': 15997, '불륜': 15998, '찍기': 15999, '반역': 16000, '여제': 16001, '아카시아': 16002, '전반전': 16003, '자전': 16004, '리아': 16005, '멋대로': 16006, '정확도': 16007, '수야': 16008, '가운': 16009, 'ㄴㄴㄴㄴㄴ': 16010, '감경': 16011, '것일': 16012, '캐잼': 16013, '덜재미잇엇네': 16014, '폰겜해': 16015, '눌렸': 16016, '애국버프': 16017, '연합': 16018, '이로': 16019, 'ㄴㄱ': 16020, '폭풍우': 16021, '듬뿍듬뿍': 16022, '씬압': 16023, '도려': 16024, '뒤엎': 16025, '흔쾌하다': 16026, '싯': 16027, '이비에스': 16028, '폼페이': 16029, 'ㅅㅎ': 16030, '점순': 16031, '처방': 16032, '멀찌감치': 16033, '우적': 16034, '베를린': 16035, '대니': 16036, '어감': 16037, '복판': 16038, '자해': 16039, '퍼펙': 16040, '힌듯': 16041, '못땨': 16042, '친우': 16043, '각광': 16044, '상쇄했다': 16045, '또뭐': 16046, '갸웃': 16047, '충주': 16048, '쥐구멍': 16049, '캡': 16050, '한주': 16051, '말세': 16052, '도래': 16053, '감미': 16054, '수립': 16055, '꼬오옥': 16056, '봣더니': 16057, 'ㅅㅈㄴ': 16058, '진둔': 16059, '둔부': 16060, '눅': 16061, '기발': 16062, '끌기': 16063, '수학': 16064, '염원': 16065, '아너뮤재밋슴진짴': 16066, '바랬는': 16067, '태산': 16068, '재회': 16069, '득보잡': 16070, '버팀목': 16071, '솔찍돈': 16072, '세자': 16073, '벅치': 16074, '화소': 16075, '멱': 16076, '쟁나게': 16077, '크리스챤': 16078, '영적': 16079, '주님': 16080, '토벌': 16081, '재밋었다': 16082, '안넘': 16083, '행일': 16084, '쇄키': 16085, '잼썻서': 16086, '노래방': 16087, '야구장': 16088, '축구장': 16089, '자판': 16090, '진혼곡': 16091, '번고': 16092, '민하': 16093, '척잼': 16094, '단호박': 16095, '이태': 16096, '후굿': 16097, '아웅': 16098, '다웅': 16099, '데크': 16100, '제나': 16101, '한일협정': 16102, '동인': 16103, '의수': 16104, '생기지': 16105, '잘되지': 16106, '뽝': 16107, '풀기': 16108, '젹셔': 16109, '덮어서': 16110, '늙은이': 16111, '끌때': 16112, '상적': 16113, 'ㅓㅅ': 16114, '읻': 16115, '하락': 16116, '것읕': 16117, '느구': 16118, '실밍감': 16119, '혼합': 16120, '오래됫': 16121, '척후': 16122, '에타': 16123, '메탈슬러그': 16124, '진주': 16125, '빵왜': 16126, '식장': 16127, '추처': 16128, '진국': 16129, '돈버는거': 16130, '꿀잼짐심': 16131, '펜대': 16132, '굴리': 16133, '화학': 16134, '꼭지': 16135, '자꾸나': 16136, '연중행사': 16137, '잼꿀잼닭잼': 16138, '재믹': 16139, '이뭐병': 16140, '슬픈걱': 16141, '텍스춰그': 16142, '아닐껄': 16143, '찌릿하': 16144, '퉤': 16145, '무성의': 16146, '추악하다': 16147, '딴다': 16148, '악녀': 16149, '매끈하다': 16150, '라운드': 16151, '넥': 16152, '점끝뭐': 16153, '노가리': 16154, '랫니저랫': 16155, '헛살': 16156, '토모': 16157, '쬐꼼': 16158, '꿀때': 16159, 'ㄸㄹㄹ': 16160, '쓸데': 16161, '자명하다': 16162, '첵': 16163, '기껏': 16164, '썩힌': 16165, '쫙강': 16166, '신은정': 16167, '펑폭탄': 16168, '개미': 16169, '명마': 16170, '줜': 16171, '교묘하다': 16172, '짫': 16173, '핵폐기물': 16174, '잣습': 16175, '재물': 16176, '벌치': 16177, '신원': 16178, '봤엉느': 16179, '입비': 16180, '년후': 16181, '진취': 16182, '한결': 16183, '인장': 16184, '잿더미': 16185, '명남짓': 16186, '오홋오홋오홋오홋': 16187, '이랬는데': 16188, '재활용': 16189, '급제': 16190, '신처': 16191, '굿잡굿': 16192, '멘스': 16193, '곰돌이': 16194, '비방': 16195, '생산': 16196, '오어': 16197, '무순': 16198, '슴돠': 16199, '고화질': 16200, '고성능': 16201, '저화질': 16202, '꼴깞': 16203, '왜소하다': 16204, '빗다': 16205, '크라스': 16206, '획일': 16207, '징용': 16208, '인육': 16209, '흰밥': 16210, '카라멜': 16211, '난감하다': 16212, 'ㅁㄴㅇ': 16213, 'ㅛㅗ': 16214, '과녁': 16215, '궁수': 16216, '이탄': 16217, '휩': 16218, '백억이': 16219, '되었겄': 16220, '정신건강': 16221, '델꼬와': 16222, '헤헷': 16223, '겝늠': 16224, '루민': 16225, '쫑알대다': 16226, '씬도그닥': 16227, '오심': 16228, '야기': 16229, '자동': 16230, '초아': 16231, '눈디': 16232, '청렴결백하다': 16233, '으리다': 16234, '의라': 16235, '보계': 16236, '금액': 16237, '카톡': 16238, '무영': 16239, '포텐': 16240, '재밋나': 16241, '더듬다': 16242, '사국': 16243, '강한나': 16244, '방심': 16245, '네마': 16246, '만만찮': 16247, '앞집': 16248, '바둑이': 16249, '개밥그릇': 16250, '야스쿠니': 16251, '이빨': 16252, '밀려왓으': 16253, '덩이': 16254, '조선총잡이': 16255, '허졉': 16256, '성결': 16257, '꾺재밌게봣어': 16258, '쿡': 16259, '배뭐': 16260, '재맛오': 16261, '포병': 16262, '페북': 16263, '어성': 16264, '정유년': 16265, '아마겟돈': 16266, '요별': 16267, '할머님': 16268, '재밋드': 16269, '유가': 16270, '마크': 16271, '결실': 16272, '재밋엇던': 16273, '의정': 16274, '아리랑': 16275, '린듯': 16276, '맛보기': 16277, '승리감': 16278, '눈뽕': 16279, '미개': 16280, '뜸금포': 16281, '예능인': 16282, '걸걸하다': 16283, '모델링': 16284, '친하다': 16285, 'ㄱㄷ': 16286, '개뻥': 16287, '새삼스럽다': 16288, '잇힝': 16289, '천리안': 16290, '잼잼쿠크잼잼': 16291, '봐떠욤': 16292, '추저': 16293, '금세기': 16294, '곧음': 16295, 'ㅡㅗㅎ': 16296, '남만': 16297, '코베': 16298, '속담': 16299, '이여기': 16300, '적격': 16301, '마삼': 16302, '두발': 16303, '뻗다': 16304, '총사령관': 16305, '이등병': 16306, '간청': 16307, '스웠': 16308, '화남': 16309, '가두': 16310, '서두': 16311, '습닞': 16312, '흐규흐': 16313, '의롭': 16314, '근년': 16315, '장현': 16316, '잗살': 16317, 'ㅓㅓㅏㅜ': 16318, '캐누티': 16319, '자석': 16320, '와닸': 16321, '재밋엇습당': 16322, '움존멋': 16323, '곰': 16324, '도가니탕': 16325, '가우리': 16326, '사림': 16327, '맺힌체': 16328, '안합': 16329, '샇': 16330, '잔잔': 16331, '매점': 16332, '바스': 16333, '부숴진': 16334, '달달': 16335, '편안': 16336, '틀임': 16337, '볼민': 16338, '뤃': 16339, '많랐': 16340, '범퍼카': 16341, '일본반응': 16342, '위화': 16343, '포신': 16344, '아싸': 16345, '항시': 16346, '버그': 16347, '박대': 16348, '애애애애박': 16349, '딸기': 16350, '쩖': 16351, '뤗으': 16352, '감춰둿다': 16353, '화원': 16354, '가법': 16355, '좋앟습니': 16356, '뿌듯뿌듯뭉클뭉': 16357, '규율': 16358, '좀뺴': 16359, '안티팬': 16360, '입체성': 16361, '특등': 16362, '한우': 16363, '재미나다': 16364, '배잼': 16365, '줄순': 16366, '바글데': 16367, '율곡이이': 16368, '만양': 16369, '병설': 16370, '뽀뽀': 16371, '보것': 16372, '가포': 16373, '왔숩니': 16374, '맞혔다': 16375, '매혹': 16376, 'ㅁㄹㅇ': 16377, 'ㅠㅡㄴ': 16378, '갛읍': 16379, '노로': 16380, '댑악꺄오': 16381, '빠들': 16382, '쉴드치다': 16383, '농축': 16384, '에스프레소': 16385, '너그럽다': 16386, '상쇄될듯': 16387, '꽁무니': 16388, '밑거름': 16389, '외유': 16390, '내강': 16391, '살인의추억': 16392, '쟘있': 16393, '촘': 16394, '외설': 16395, '피겨': 16396, '점돠': 16397, '육상전': 16398, '무간': 16399, '신계': 16400, '박영선': 16401, '방임': 16402, '달독': 16403, '서량': 16404, '폐': 16405, '움찔움찔': 16406, '깨버렷습니': 16407, '듭시': 16408, '나왓음': 16409, '밋는영화잘봣': 16410, 'ㅜㅂ': 16411, '실험': 16412, '포교': 16413, 'ㅋㅋㅎㅎ': 16414, '헤날': 16415, '흐트러': 16416, '어지럽히다': 16417, '충각': 16418, 'ㅏㅠㅠ': 16419, '구성요소': 16420, '단장': 16421, '선류': 16422, '까탈': 16423, '봐봣어': 16424, '만구': 16425, '어설': 16426, '통상': 16427, 'ㄴㅇㄴㅇ': 16428, '움츠리다': 16429, '뻣뻣하다': 16430, '여윽시': 16431, '강꼬꾸영화': 16432, '대책': 16433, '가로서다': 16434, '몇천몇만': 16435, '뭄클': 16436, '명점': 16437, '두둑하다': 16438, '겔오가': 16439, '개비': 16440, '투자가': 16441, '검찰': 16442, '수사': 16443, '형아': 16444, '급임': 16445, '필자': 16446, '일왕': 16447, '우러져': 16448, '아이멕스': 16449, '장리': 16450, '깨닭': 16451, '달콤하다': 16452, '울렁울렁': 16453, '맹골수도': 16454, '깜깜': 16455, '우당탕': 16456, '탕탕': 16457, '뒷맛': 16458, '대호': 16459, '반수': 16460, '비번': 16461, '관찮': 16462, '처부쉈다': 16463, '테일로': 16464, '김정은': 16465, '애로': 16466, '신한': 16467, '광분': 16468, '공산품': 16469, '짱잼': 16470, 'ㅠㅠㅠㅠㅠㅠㅍㅍ': 16471, '모래': 16472, '결생': 16473, '고후': 16474, '회안': 16475, '리티': 16476, '맛나': 16477, '개박감': 16478, '종적': 16479, '에티켓': 16480, '훨나음': 16481, '자중지란': 16482, '떡칠': 16483, '닏': 16484, '팰때': 16485, '비책': 16486, 'ㅜㅎㅎ': 16487, '추촌': 16488, '오정': 16489, '베이라': 16490, '라차': 16491, 'ㅏㅊㅊㅊ': 16492, '대말': 16493, '첫번쨰': 16494, '갯습': 16495, '맴돔': 16496, '배포': 16497, '똘마니': 16498, '손수': 16499, '지못미': 16500, '넘어오다': 16501, '주최': 16502, '쇄뇌당': 16503, '분덕': 16504, '바고': 16505, '뒈지다': 16506, '왓는': 16507, '대롱대롱': 16508, '굼금합니': 16509, '불경': 16510, '머구리': 16511, '명실': 16512, '광개토': 16513, '엇어요재밋엇습': 16514, '대중화': 16515, '엠': 16516, '웅화': 16517, '르잼': 16518, '짱머싯': 16519, '허섭': 16520, '굿졸': 16521, '용담': 16522, '야전군': 16523, '손의꼽': 16524, '뿅': 16525, '콰앙콰앙콰앙': 16526, '피해자': 16527, '꿀잼꿀잼': 16528, '지드': 16529, '이염': 16530, '전갸': 16531, '강추추추': 16532, '와인': 16533, 'ㅠㅜㅠㅜ': 16534, '밈': 16535, '능것': 16536, 'ㅋㄱ': 16537, '순화': 16538, '형태': 16539, '낚엿어': 16540, '곱': 16541, '파죽지세': 16542, '쟈미귯': 16543, '지켜넨': 16544, '실선': 16545, '퍼준': 16546, '시쓰랫': 16547, '최고점': 16548, '금년': 16549, '뽷': 16550, '욤꼭보세욤': 16551, '졀국': 16552, '자화': 16553, '정의감': 16554, '떌수없': 16555, '예시': 16556, '다채로웠으': 16557, '쪼오끔': 16558, '귯입니': 16559, '소음정': 16560, '점단': 16561, 'ㅋㄱㅋㅋ': 16562, '얼빠지다': 16563, '때봣': 16564, '분포도': 16565, '선열': 16566, '애션': 16567, '했슴다': 16568, '작동': 16569, '벗트': 16570, '젼강추': 16571, '허기': 16572, '마야': 16573, '가명': 16574, '사백이': 16575, '외계어': 16576, '짖껄여': 16577, '오마쥬': 16578, '짝퉁': 16579, '당가': 16580, '좋겄소': 16581, '랗': 16582, '짱이댜': 16583, '더블에이': 16584, '배분': 16585, '김진규': 16586, '연가시': 16587, '초등교육': 16588, '지레': 16589, '항복': 16590, '옥심': 16591, '강단': 16592, '평시': 16593, '율시': 16594, '오노': 16595, '두유노': 16596, '흠음': 16597, '맥빠지다': 16598, '짱하다': 16599, '간지럽다': 16600, '하허헤호후': 16601, '동도': 16602, '웁': 16603, '실지로': 16604, '십자가': 16605, '걸루': 16606, '주앙': 16607, '알바쩌': 16608, 'ㅇㅇㄹ': 16609, '번극': 16610, '경상도': 16611, '육십': 16612, '감승': 16613, '류슬룡': 16614, '그럭저저럭': 16615, '밋겝봄재밋': 16616, '보옴': 16617, '함민': 16618, '논의': 16619, '잼뜸': 16620, '닻꼭': 16621, '구성만': 16622, '민주주의': 16623, '벌꿀': 16624, '아씨': 16625, '노병': 16626, '우르르': 16627, '안쪽': 16628, '벼르고별러': 16629, '버셨': 16630, '기부': 16631, '본대': 16632, '씬강': 16633, '우주': 16634, '뭍': 16635, '햇겟': 16636, '생각케': 16637, '급햇': 16638, '스미다': 16639, '마일': 16640, '안움': 16641, '발아': 16642, '갖가지': 16643, '뱍엔왓': 16644, '일본열도': 16645, '비폭력': 16646, '회담': 16647, '금지법': 16648, '불가결하다': 16649, '친철': 16650, '재밋는건': 16651, '정반대': 16652, '불황': 16653, '잇따르다': 16654, '불법선거': 16655, '보게됫다': 16656, '군사력': 16657, '다고': 16658, '회환': 16659, '야금야금': 16660, '아껍네': 16661, '바서': 16662, '전례': 16663, '똥구멍': 16664, '식사': 16665, '후함': 16666, '배추': 16667, '밋어요굿재밋': 16668, '화단': 16669, '략': 16670, '미두': 16671, '결함': 16672, '뭍힌': 16673, '괜찬네': 16674, '아쉬윤': 16675, '훨나아': 16676, '릊': 16677, '음절': 16678, '처옴': 16679, '겟음': 16680, '달기': 16681, '초장': 16682, '타카': 16683, '실기': 16684, '또말': 16685, '다이지': 16686, '래요': 16687, '편점': 16688, '개척': 16689, '쨩짱': 16690, '으헝': 16691, '아래애': 16692, '담번': 16693, '귀무덤': 16694, '코무덤': 16695, '강철': 16696, '아려': 16697, '나란': 16698, '등식': 16699, '심취': 16700, '읮': 16701, 'ㅋㅋㄹ': 16702, '농약': 16703, '사보다': 16704, '재칠': 16705, '박완': 16706, '주저리주저리': 16707, '더없이': 16708, '깡통': 16709, '나겠드': 16710, '잼잼잼잼꿀잼잼잼잼': 16711, '변비': 16712, '재밋지': 16713, '파랗다': 16714, '인즉': 16715, '훞륭': 16716, '무한도전': 16717, '노홍철': 16718, '뭐던': 16719, '팔다리': 16720, '임감': 16721, '개솔': 16722, '몬대': 16723, '차체': 16724, 'ㅎㅎㅆㅎ': 16725, '하달': 16726, '불쑥': 16727, '활득': 16728, '심각해지다': 16729, '밋음퀄뤼': 16730, '알콩달콩': 16731, '절도': 16732, '지성인': 16733, '그득하다': 16734, '얼론': 16735, '꿀잼일': 16736, '짱잉': 16737, '저널리스트': 16738, '격양된': 16739, '그리스': 16740, '데미': 16741, '클레스': 16742, '살라미스': 16743, '하워드': 16744, '칼레': 16745, '트라팔가': 16746, '중초': 16747, '천리': 16748, '전음': 16749, '재밋게봣으': 16750, '뉘': 16751, '만삭': 16752, '들먹이다': 16753, '저쩌고': 16754, '호에': 16755, '싯점': 16756, '가해군': 16757, '리버': 16758, '가든': 16759, '꿀잼돈': 16760, '움꼭버세': 16761, '은총': 16762, '넉넉하다': 16763, '맴맴': 16764, '방숙': 16765, '배배': 16766, '멌있는': 16767, '탬': 16768, '띵하다': 16769, '탈피': 16770, '시대정신': 16771, '나척배': 16772, '개개': 16773, '롶': 16774, '후말': 16775, '앵': 16776, '간볼': 16777, '후끈': 16778, '동래': 16779, '유행어': 16780, '쵝오호': 16781, '아쉬윘음': 16782, '재밋슺니': 16783, '스물': 16784, '썸녀땜': 16785, '더봄': 16786, '잼잼잠잼': 16787, '미장': 16788, '셴': 16789, '월드': 16790, '훌룽합니': 16791, '콩트': 16792, '편파': 16793, '혈안': 16794, '생해': 16795, '아쉬웟다': 16796, '계사': 16797, '완젠': 16798, '아카데미': 16799, '애호가': 16800, '정맣': 16801, '빨아들이다': 16802, '고래': 16803, '버프일뿐': 16804, '무술': 16805, '잼잼잼꿀잼': 16806, '듀번봐': 16807, '갈채': 16808, '기물': 16809, '반동': 16810, '혹사': 16811, '잔류': 16812, '군선': 16813, '군관': 16814, '전열': 16815, '정비': 16816, '도합': 16817, '얼떨떨하다': 16818, '전갈': 16819, '환멸': 16820, '이상준': 16821, '퀼리티': 16822, '태평양': 16823, '개떢같': 16824, '킥': 16825, '쥬신': 16826, '역설': 16827, '고행': 16828, '대패': 16829, '악화': 16830, '뽀': 16831, '롱안': 16832, '다룸': 16833, '소설가': 16834, '창조': 16835, '지렷': 16836, '모이': 16837, '재밋옹': 16838, '능댕': 16839, '토욜': 16840, '므엇': 16841, '통칭': 16842, '균일하다': 16843, '찰영': 16844, '인상깊엇어': 16845, '봣어용': 16846, '갠찮네': 16847, 'ㅋㅋㅎㅋ': 16848, '평단': 16849, '주루룩': 16850, '배회': 16851, '시청률': 16852, '난볼': 16853, '파헤치다': 16854, '공경심': 16855, '사오': 16856, '셍각': 16857, '녜': 16858, '낙서': 16859, '곰곰하다': 16860, '의정서': 16861, '최최': 16862, '우한': 16863, '등기': 16864, '꼿꼿이': 16865, '팀웍': 16866, '몰렷을떄': 16867, '머싯슴걍': 16868, '휘둘려': 16869, '스커일': 16870, 'ㄱㄱㅁㅋㄷㄴ': 16871, '모잗': 16872, '쿰재밋': 16873, '퍈': 16874, '안봤슴': 16875, '말끝': 16876, '건전하다': 16877, '잼잼잼잼': 16878, '앞잡이': 16879, '청산': 16880, '감탕': 16881, '쿠라': 16882, '매수': 16883, '풀륭': 16884, '좀금': 16885, '뽀얗다': 16886, '꾸꾸': 16887, '구트': 16888, '시호': 16889, '괜찬음': 16890, '입신': 16891, '개쩐당': 16892, 'ㅎㅜㅜ': 16893, '함초': 16894, '신정': 16895, '윤리': 16896, '비도덕적': 16897, '몸빵': 16898, '물길': 16899, '들쑥날쑥': 16900, '산도': 16901, '격이랄까': 16902, '본일': 16903, '꾸르르르': 16904, '감시': 16905, '핀트': 16906, '퍼펑': 16907, '결연': 16908, '싑': 16909, '완숙': 16910, '음재': 16911, '캐굿': 16912, '적벽': 16913, '한중일': 16914, '고시생': 16915, '핸': 16916, 'ㅉㅇ': 16917, '와를': 16918, '허상': 16919, '떠받치다': 16920, '자태': 16921, '달러': 16922, '삼십': 16923, '저릿저릿': 16924, '시일': 16925, '탤런트': 16926, '븐': 16927, '번봣음': 16928, '볼돈': 16929, '간식': 16930, '욘': 16931, '아숩네용': 16932, '또깨': 16933, '풍선': 16934, '감타': 16935, '얼매': 16936, '쩌는듯': 16937, '꾁꾁': 16938, '괴성': 16939, '멋졋어': 16940, '땍일본': 16941, '야욕': 16942, '문명': 16943, '짬봉': 16944, '멈버': 16945, '개꿀잼잼잼잼잠댐재': 16946, '엗': 16947, '질린다': 16948, '진화': 16949, '중심부': 16950, '볼법': 16951, '후설': 16952, '졸굿': 16953, '빌리버': 16954, '장부': 16955, '여적': 16956, '허둥지둥': 16957, '거등': 16958, '천은': 16959, '잔인헤': 16960, '고택': 16961, '경매': 16962, '촉구': 16963, '재밋더라구': 16964, '이실': 16965, '왜봐': 16966, '서약': 16967, '턱밑': 16968, '그까짓': 16969, '졸업': 16970, '무뚝': 16971, '아침밥': 16972, '패배하다': 16973, '표구': 16974, '다짜고짜': 16975, '보살': 16976, '바살': 16977, '었던': 16978, '생원': 16979, '전여자친구': 16980, '바글바글': 16981, 'ㅋㄹㅎㅊ': 16982, '국국국국굿굿': 16983, '안락하다': 16984, '존숭': 16985, '피날레': 16986, '진주대첩': 16987, '정암': 16988, '절케': 16989, '방면': 16990, '다카': 16991, '목꺽': 16992, '만지다': 16993, '캐렉터': 16994, '소호': 16995, '유느님': 16996, '연아느님': 16997, '같인': 16998, '꼽을정': 16999, '훨재밋': 17000, '양산': 17001, '태어남': 17002, '약선': 17003, '폐셜임': 17004, '꼇': 17005, '이거볼빠': 17006, '리하나': 17007, '얍쌉하': 17008, '왜함': 17009, '원주': 17010, '전남': 17011, '당선자': 17012, '별룹': 17013, '퇴보하다': 17014, '싸우셧던': 17015, '한양': 17016, '쳣습니': 17017, '장애물': 17018, '명료': 17019, '오차': 17020, '뎃글보': 17021, '자슥들땜': 17022, '슬펐슴': 17023, '장맹': 17024, '장덕': 17025, '일거리': 17026, '입방': 17027, '쐇어': 17028, '모면': 17029, '난재밋게봄': 17030, '개붕일날': 17031, '자성현': 17032, '음악감독': 17033, '혐': 17034, '손쉽다': 17035, '졸짝': 17036, '흙': 17037, '칠이': 17038, '미진하다': 17039, '에까지': 17040, '제밋내': 17041, '망가지다': 17042, '하이바라': 17043, '짱짱걸': 17044, '우러러나': 17045, '끝없다': 17046, '브레이브하트': 17047, '진싱': 17048, '론거': 17049, '이순재': 17050, '이숭신': 17051, '숨막': 17052, '히드라': 17053, '재밋음꼭': 17054, '길잡이': 17055, '지켜줫으': 17056, '구해오': 17057, '일팔이': 17058, '일팔': 17059, '추방': 17060, '악용': 17061, '굿잡굿잡': 17062, '다이아나': 17063, '이건개': 17064, '재밋음또': 17065, '적적하다': 17066, '영홥니': 17067, '단칼': 17068, '밀리': 17069, '머그': 17070, '질끈': 17071, '식견': 17072, '무뇌충': 17073, '잔득': 17074, '좋았읏': 17075, '격이엇다': 17076, '귣굳훋': 17077, '소리치다': 17078, '하지만서도': 17079, '최맛': 17080, '컷던탓': 17081, '폭우': 17082, '픈': 17083, '진삼국무쌍': 17084, '황충': 17085, '걈동': 17086, '졸잼졸잼졸잼졸잼졸잼졸잼졸잼': 17087, '앳': 17088, '깡그리': 17089, 'ㅜㅜㅋ': 17090, '할껄': 17091, '소질': 17092, '편협': 17093, '규정': 17094, '박친': 17095, '몰랏': 17096, '잏멌음믂': 17097, '불가사의': 17098, '짱이넹': 17099, '무도': 17100, '갑돈': 17101, '존잼염': 17102, 'ㅅㅁㄹㄴ': 17103, 'ㅇㅅㅁㄴ': 17104, '라고밋': 17105, '힘차다': 17106, '움내': 17107, '견내': 17108, '상어': 17109, '무역': 17110, '천산': 17111, '동색': 17112, '따끔하다': 17113, '존잼존잼존잼존잼존잼': 17114, '기급': 17115, '지렷듯': 17116, '즛': 17117, '생각케됐': 17118, '예비': 17119, '싯엇음': 17120, '커바되었슴': 17121, '휘나닐': 17122, '애자': 17123, '홀린': 17124, '팔뚝': 17125, '국궁': 17126, '쏫시는분': 17127, '찌라시': 17128, '백약': 17129, '무효': 17130, '정도역': 17131, '뽱': 17132, '일본사': 17133, '그읏다': 17134, '부터라도': 17135, '박하나': 17136, '좋왓다': 17137, '분임': 17138, '샬롬': 17139, '옹호': 17140, '언어유희': 17141, '범람': 17142, '봣응': 17143, '아쉬웟엉용': 17144, '인의': 17145, '예지': 17146, '형용사': 17147, '셧읍': 17148, '장남': 17149, '커피': 17150, '유가족': 17151, '표료': 17152, '굿굿굿굿잡잡잡잡': 17153, '댁': 17154, '굿굿굿잡잡잡굿굿잡잡': 17155, '정운': 17156, '정걸': 17157, '김기덕': 17158, '호로록호로록': 17159, '기진': 17160, '이엇네': 17161, 'ㅆㅃㅃ': 17162, '가온': 17163, '재믺다': 17164, '쓸모': 17165, '얘스잼꿀잼': 17166, '어헐': 17167, '주춤': 17168, '화백': 17169, '쫄아': 17170, '십이시': 17171, '봐야뇜': 17172, '빅재미': 17173, '압축시키다': 17174, '역광': 17175, '셀': 17176, '긔': 17177, '연륜': 17178, '더볼껄': 17179, '주르륵주르륵': 17180, '깝습니': 17181, '꼬질꼬질': 17182, '더기': 17183, '긎': 17184, 'ㄱㅅㄱ': 17185, '짇': 17186, '넨': 17187, '영웅전설': 17188, '너뮤재밋는': 17189, '밭': 17190, '대들다': 17191, '보긷문': 17192, '한신': 17193, '기오': 17194, '베드': 17195, '설램': 17196, '반중': 17197, '상쇄하': 17198, '모호하다': 17199, '과머': 17200, '밈국': 17201, '허약하다': 17202, '지평선': 17203, '새까맣다': 17204, '트윗': 17205, '변두리': 17206, '점등': 17207, '걸상': 17208, '불안정하다': 17209, '로간': 17210, '위엔': 17211, '달리기': 17212, '더재밋음진': 17213, '겝': 17214, '사오다': 17215, 'ㅊㄱㅈㄱ': 17216, '흣': 17217, '저격총': 17218, '뭉클햇어': 17219, '더크': 17220, '샘': 17221, '종결자': 17222, '씨뱀망': 17223, '잣음': 17224, '실밍': 17225, '바랬건': 17226, '다져지다': 17227, '청바지': 17228, '현자총통': 17229, '지자총통': 17230, '군포로': 17231, '분너': 17232, '죽빵': 17233, '지켯다': 17234, '엔터': 17235, '촛불시위': 17236, '밨음': 17237, '차제': 17238, '썻음': 17239, '초꿀잼': 17240, '재밋엇어요정말루': 17241, '아니스': 17242, '불호': 17243, '순차': 17244, '함량': 17245, '짱이얌': 17246, 'ㅇㄹㄹㄹ': 17247, '뒤끝': 17248, '무문': 17249, '소년': 17250, '물속': 17251, '차림': 17252, '좀돈': 17253, '데뭘더': 17254, '넣기': 17255, '샤': 17256, 'ㅅㅜ': 17257, '왜그랫': 17258, '마녀사냥': 17259, '빰': 17260, '나왔더랬': 17261, '재밌슴': 17262, '난애함': 17263, '고리타분하다': 17264, '잫그렸': 17265, '나나라': 17266, '세요': 17267, '혜택': 17268, '진실하다': 17269, '뻘쭘': 17270, '사담': 17271, '맴돈다': 17272, '르르': 17273, '강변': 17274, '대뽀': 17275, '인호': 17276, '박은우': 17277, '조바심': 17278, '치의': 17279, '잼잇엇당': 17280, '봐랏': 17281, '쥬얼': 17282, '이념': 17283, '가염': 17284, '파도처럼': 17285, '아니엇으': 17286, '망햇': 17287, '쵠민식': 17288, '넘첬는데': 17289, '강남구': 17290, '신사동': 17291, '마음먹다': 17292, '씨제': 17293, '에서가': 17294, '주무': 17295, '멍작': 17296, '묵도': 17297, '지마도': 17298, '국빵발': 17299, '나디': 17300, '열리다': 17301, '인믈': 17302, '밋어잿인어재밋': 17303, '일직선': 17304, '나왓네': 17305, '시급': 17306, '군국': 17307, '아웃': 17308, 'ㄹㄹㄹ': 17309, '방자': 17310, '가마': 17311, '반시': 17312, '역구': 17313, '이연결': 17314, '푳여퍄': 17315, 'ㅠㅛㄷ': 17316, '혼담': 17317, '뒷전': 17318, '무예': 17319, '인간문화재': 17320, '싸인': 17321, '포세이돈': 17322, 'ㅡㅑㅑ': 17323, '륫': 17324, '소일': 17325, '스도리': 17326, 'ㄷㅐ': 17327, 'ㅇㄷ': 17328, '수나': 17329, '투덜대다': 17330, '꾸울재애앰매애앰': 17331, '독백': 17332, '처음봣': 17333, 'ㅣㅇ': 17334, '승리자': 17335, '계셩': 17336, '으면': 17337, '가락': 17338, '날개': 17339, '천만이사': 17340, '옸다': 17341, '프랭크': 17342, '슈타은': 17343, '귀화': 17344, '더미': 17345, '장애인': 17346, '용정': 17347, '케이': 17348, '듯용': 17349, '알음': 17350, '도선': 17351, '극장판': 17352, '웃굿굿': 17353, '재밋어요재밋': 17354, 'ㅡㅜㅜ': 17355, '웧습': 17356, '폰부스': 17357, '핵잠': 17358, '잼핵학핵잠': 17359, '접근성': 17360, '세네': 17361, '환전': 17362, '잉읭강그이긩': 17363, '거장': 17364, '괘씸하다': 17365, '시기상조': 17366, '제삼자': 17367, '파라': 17368, '신효': 17369, '될렵니': 17370, '어쟀': 17371, '불꽃': 17372, '쩔엇습니': 17373, '영점': 17374, '다망': 17375, '신성하다': 17376, '그랫으': 17377, '리슌산': 17378, '막내딸': 17379, '아싑': 17380, '함수': 17381, '리드미컬하다': 17382, '로로롱': 17383, '홀랑': 17384, '사암': 17385, '틀밤': 17386, '선명하다': 17387, '멀티플렉스': 17388, '지피다': 17389, '좋앜쑈습니': 17390, '퉁치': 17391, '뮌': 17392, 'ㅠㅜㅜㅠ': 17393, '샵': 17394, '난폭하다': 17395, '늦출스': 17396, '공로': 17397, '소복': 17398, '응원씬': 17399, 'ㅜㅜㅠㅠ': 17400, '슉': 17401, '철쇄': 17402, '본걱': 17403, '똑똑': 17404, '번봣습': 17405, '마스크': 17406, '거여': 17407, '박드': 17408, '닥낙시늑닥싱': 17409, '공도': 17410, '국악기': 17411, '명답': 17412, '너거': 17413, '에어콘': 17414, '배끌': 17415, '틈나다': 17416, '기어오르다': 17417, '견주어': 17418, '나주시': 17419, '만단': 17420, '순하다': 17421, '랄것': 17422, '쩬건데': 17423, '이만이': 17424, '국뽕말아드셧': 17425, '문소리': 17426, '등분': 17427, '묫': 17428, '칼있으마': 17429, '보증수표': 17430, '왼': 17431, '사천해전': 17432}\n"
     ]
    }
   ],
   "source": [
    "print(tokenizer.word_index)"
   ]
  },
  {
   "cell_type": "code",
   "execution_count": null,
   "metadata": {
    "colab": {
     "base_uri": "https://localhost:8080/"
    },
    "id": "e1gQIme2ab76",
    "outputId": "5724644a-ba74-4645-812c-9b89efcc56e6"
   },
   "outputs": [
    {
     "name": "stdout",
     "output_type": "stream",
     "text": [
      "단어 집합(vocabulary)의 크기 : 17432\n",
      "등장 빈도가 2번 이하인 희귀 단어의 수: 10220\n",
      "단어 집합에서 희귀 단어의 비율: 58.62781092244149\n",
      "전체 등장 빈도에서 희귀 단어 등장 빈도 비율: 2.037816639059298\n"
     ]
    }
   ],
   "source": [
    "# 빈도수 낮은 단어들은 배제\n",
    "# 빈도수 3회 미만인 단어들의 비중 확인해보기\n",
    "\n",
    "threshold = 3\n",
    "total_cnt = len(tokenizer.word_index) # 단어의 수\n",
    "rare_cnt = 0 # 등장 빈도수가 threshold보다 작은 단어의 개수를 카운트\n",
    "total_freq = 0 # 훈련 데이터의 전체 단어 빈도수 총 합\n",
    "rare_freq = 0 # 등장 빈도수가 threshold보다 작은 단어의 등장 빈도수의 총 합\n",
    "\n",
    "# 단어와 빈도수의 쌍(pair)을 key와 value로 받는다.\n",
    "for key, value in tokenizer.word_counts.items():\n",
    "    total_freq = total_freq + value\n",
    "\n",
    "    # 단어의 등장 빈도수가 threshold보다 작으면\n",
    "    if(value < threshold):\n",
    "        rare_cnt = rare_cnt + 1\n",
    "        rare_freq = rare_freq + value\n",
    "\n",
    "print('단어 집합(vocabulary)의 크기 :',total_cnt)\n",
    "print('등장 빈도가 %s번 이하인 희귀 단어의 수: %s'%(threshold - 1, rare_cnt))\n",
    "print(\"단어 집합에서 희귀 단어의 비율:\", (rare_cnt / total_cnt)*100)\n",
    "print(\"전체 등장 빈도에서 희귀 단어 등장 빈도 비율:\", (rare_freq / total_freq)*100)"
   ]
  },
  {
   "cell_type": "code",
   "execution_count": null,
   "metadata": {
    "colab": {
     "base_uri": "https://localhost:8080/"
    },
    "id": "Dd7HFi0Gab-V",
    "outputId": "bbd0ce5c-808f-4683-ed85-26dacd488875"
   },
   "outputs": [
    {
     "name": "stdout",
     "output_type": "stream",
     "text": [
      "단어 집합의 크기 : 7214\n"
     ]
    }
   ],
   "source": [
    "# 전체 단어 개수 중 빈도수 2이하인 단어 개수는 제거.\n",
    "# 0번 패딩 토큰과 1번 OOV 토큰을 고려하여 +2\n",
    "vocab_size = total_cnt - rare_cnt + 2\n",
    "print('단어 집합의 크기 :',vocab_size)"
   ]
  },
  {
   "cell_type": "code",
   "execution_count": null,
   "metadata": {
    "id": "Bt6klqRSacA5"
   },
   "outputs": [],
   "source": [
    "# 텍스트 시퀀스를 숫자 시퀀스로 변환\n",
    "tokenizer = Tokenizer(vocab_size, oov_token = 'OOV') \n",
    "tokenizer.fit_on_texts(X_train)\n",
    "X_train = tokenizer.texts_to_sequences(X_train)\n",
    "X_test = tokenizer.texts_to_sequences(X_test)"
   ]
  },
  {
   "cell_type": "code",
   "execution_count": null,
   "metadata": {
    "colab": {
     "base_uri": "https://localhost:8080/"
    },
    "id": "NKuGN3D9acDn",
    "outputId": "2ddabbed-91bc-4f97-dd60-2ae1e154f942"
   },
   "outputs": [
    {
     "name": "stdout",
     "output_type": "stream",
     "text": [
      "[[217, 139, 212, 3], [2295, 2568, 2061, 175], [125, 687, 460, 320, 125, 687, 460, 19]]\n"
     ]
    }
   ],
   "source": [
    "print(X_train[:3])"
   ]
  },
  {
   "cell_type": "code",
   "execution_count": null,
   "metadata": {
    "id": "eQca4epoa8S4"
   },
   "outputs": [],
   "source": [
    "y_train = np.array(train_data['label'])\n",
    "y_test = np.array(test_data['label'])"
   ]
  },
  {
   "cell_type": "markdown",
   "metadata": {
    "id": "wcceM07ubaV8"
   },
   "source": [
    "**빈 샘플 제거**"
   ]
  },
  {
   "cell_type": "code",
   "execution_count": null,
   "metadata": {
    "id": "-eGqOS6ebI8Q"
   },
   "outputs": [],
   "source": [
    "# 빈도수가 낮아서 삭제한 단어 샘플\n",
    "drop_train = [index for index, sentence in enumerate(X_train) if len(sentence) < 1]"
   ]
  },
  {
   "cell_type": "code",
   "execution_count": null,
   "metadata": {
    "colab": {
     "base_uri": "https://localhost:8080/"
    },
    "id": "-56gaiiMbI-f",
    "outputId": "380c520f-9ae6-429f-f994-d09695d6c6bb"
   },
   "outputs": [
    {
     "name": "stdout",
     "output_type": "stream",
     "text": [
      "48025\n",
      "48025\n"
     ]
    },
    {
     "name": "stderr",
     "output_type": "stream",
     "text": [
      "/usr/local/lib/python3.6/dist-packages/numpy/core/_asarray.py:83: VisibleDeprecationWarning: Creating an ndarray from ragged nested sequences (which is a list-or-tuple of lists-or-tuples-or ndarrays with different lengths or shapes) is deprecated. If you meant to do this, you must specify 'dtype=object' when creating the ndarray\n",
      "  return array(a, dtype, copy=False, order=order)\n"
     ]
    }
   ],
   "source": [
    "# 빈 샘플들을 제거\n",
    "X_train = np.delete(X_train, drop_train, axis=0)\n",
    "y_train = np.delete(y_train, drop_train, axis=0)\n",
    "print(len(X_train))\n",
    "print(len(y_train))"
   ]
  },
  {
   "cell_type": "markdown",
   "metadata": {
    "id": "yhlQljTobn6h"
   },
   "source": [
    "**패딩**"
   ]
  },
  {
   "cell_type": "code",
   "execution_count": null,
   "metadata": {
    "colab": {
     "base_uri": "https://localhost:8080/",
     "height": 279
    },
    "id": "enpVGm2mbJA5",
    "outputId": "e78374d5-89b0-4b79-ad38-582a73646296"
   },
   "outputs": [
    {
     "data": {
      "image/png": "[encoded data removed]",
      "text/plain": [
       "<Figure size 432x288 with 1 Axes>"
      ]
     },
     "metadata": {
      "needs_background": "light",
      "tags": []
     },
     "output_type": "display_data"
    }
   ],
   "source": [
    "plt.hist([len(s) for s in X_train], bins=50)\n",
    "plt.xlabel('length of samples')\n",
    "plt.ylabel('number of samples')\n",
    "plt.show()"
   ]
  },
  {
   "cell_type": "code",
   "execution_count": null,
   "metadata": {
    "id": "v9TOIrplbJDh"
   },
   "outputs": [],
   "source": [
    "def below_threshold_len(max_len, nested_list):\n",
    "  cnt = 0\n",
    "  for s in nested_list:\n",
    "    if(len(s) <= max_len):\n",
    "        cnt = cnt + 1\n",
    "  print('전체 샘플 중 길이가 %s 이하인 샘플의 비율: %s'%(max_len, (cnt / len(nested_list))*100))"
   ]
  },
  {
   "cell_type": "code",
   "execution_count": null,
   "metadata": {
    "colab": {
     "base_uri": "https://localhost:8080/"
    },
    "id": "PO5rXgO_bjJ_",
    "outputId": "a70e33e1-5ba5-425c-f176-b616a7e4ffb1"
   },
   "outputs": [
    {
     "name": "stdout",
     "output_type": "stream",
     "text": [
      "전체 샘플 중 길이가 35 이하인 샘플의 비율: 95.61061946902655\n"
     ]
    }
   ],
   "source": [
    "max_len = 35\n",
    "below_threshold_len(max_len, X_train)"
   ]
  },
  {
   "cell_type": "code",
   "execution_count": null,
   "metadata": {
    "id": "CobfjrfPbjMT"
   },
   "outputs": [],
   "source": [
    "X_train = pad_sequences(X_train, maxlen = max_len)\n",
    "X_test = pad_sequences(X_test, maxlen = max_len)"
   ]
  },
  {
   "cell_type": "markdown",
   "metadata": {
    "id": "5TkhAFTobwyd"
   },
   "source": [
    "**LSTM으로 네이버 영화 리뷰 감성 분류하기**"
   ]
  },
  {
   "cell_type": "code",
   "execution_count": null,
   "metadata": {
    "id": "6UF_eYJ_bjOi"
   },
   "outputs": [],
   "source": [
    "from tensorflow.keras.layers import Embedding, Dense, LSTM\n",
    "from tensorflow.keras.models import Sequential\n",
    "from tensorflow.keras.models import load_model\n",
    "from tensorflow.keras.callbacks import EarlyStopping, ModelCheckpoint"
   ]
  },
  {
   "cell_type": "code",
   "execution_count": null,
   "metadata": {
    "id": "yR6qhmucb1lF"
   },
   "outputs": [],
   "source": [
    "model = Sequential()\n",
    "model.add(Embedding(vocab_size, 100))\n",
    "model.add(LSTM(128))\n",
    "model.add(Dense(1, activation='sigmoid'))"
   ]
  },
  {
   "cell_type": "code",
   "execution_count": null,
   "metadata": {
    "id": "FWQVraE_b1nb"
   },
   "outputs": [],
   "source": [
    "es = EarlyStopping(monitor='val_loss', mode='min', verbose=1, patience=4)\n",
    "mc = ModelCheckpoint('best_model.h5', monitor='val_acc', mode='max', verbose=1, save_best_only=True)"
   ]
  },
  {
   "cell_type": "code",
   "execution_count": null,
   "metadata": {
    "colab": {
     "base_uri": "https://localhost:8080/"
    },
    "id": "D-p5dzQdb1qx",
    "outputId": "2052a290-857b-4d8b-bc6d-5dab00c4715b"
   },
   "outputs": [
    {
     "name": "stdout",
     "output_type": "stream",
     "text": [
      "Epoch 1/15\n",
      "641/641 [==============================] - 20s 18ms/step - loss: 0.4836 - acc: 0.7734 - val_loss: 0.4066 - val_acc: 0.8271\n",
      "\n",
      "Epoch 00001: val_acc improved from -inf to 0.82707, saving model to best_model.h5\n",
      "Epoch 2/15\n",
      "641/641 [==============================] - 11s 17ms/step - loss: 0.3699 - acc: 0.8434 - val_loss: 0.3906 - val_acc: 0.8306\n",
      "\n",
      "Epoch 00002: val_acc improved from 0.82707 to 0.83061, saving model to best_model.h5\n",
      "Epoch 3/15\n",
      "641/641 [==============================] - 11s 17ms/step - loss: 0.3488 - acc: 0.8538 - val_loss: 0.3919 - val_acc: 0.8312\n",
      "\n",
      "Epoch 00003: val_acc improved from 0.83061 to 0.83123, saving model to best_model.h5\n",
      "Epoch 4/15\n",
      "641/641 [==============================] - 11s 17ms/step - loss: 0.3391 - acc: 0.8585 - val_loss: 0.3813 - val_acc: 0.8345\n",
      "\n",
      "Epoch 00004: val_acc improved from 0.83123 to 0.83446, saving model to best_model.h5\n",
      "Epoch 5/15\n",
      "641/641 [==============================] - 11s 17ms/step - loss: 0.3304 - acc: 0.8639 - val_loss: 0.4164 - val_acc: 0.8282\n",
      "\n",
      "Epoch 00005: val_acc did not improve from 0.83446\n",
      "Epoch 6/15\n",
      "641/641 [==============================] - 11s 17ms/step - loss: 0.3138 - acc: 0.8713 - val_loss: 0.3851 - val_acc: 0.8368\n",
      "\n",
      "Epoch 00006: val_acc improved from 0.83446 to 0.83675, saving model to best_model.h5\n",
      "Epoch 7/15\n",
      "641/641 [==============================] - 11s 17ms/step - loss: 0.3051 - acc: 0.8763 - val_loss: 0.3880 - val_acc: 0.8368\n",
      "\n",
      "Epoch 00007: val_acc did not improve from 0.83675\n",
      "Epoch 8/15\n",
      "641/641 [==============================] - 11s 17ms/step - loss: 0.2880 - acc: 0.8852 - val_loss: 0.3997 - val_acc: 0.8374\n",
      "\n",
      "Epoch 00008: val_acc improved from 0.83675 to 0.83738, saving model to best_model.h5\n",
      "Epoch 00008: early stopping\n"
     ]
    }
   ],
   "source": [
    "model.compile(optimizer='rmsprop', loss='binary_crossentropy', metrics=['acc'])\n",
    "history = model.fit(X_train, y_train, epochs=15, callbacks=[es, mc], batch_size=60, validation_split=0.2)"
   ]
  },
  {
   "cell_type": "code",
   "execution_count": null,
   "metadata": {
    "colab": {
     "base_uri": "https://localhost:8080/"
    },
    "id": "1mCKU-6qb4Re",
    "outputId": "975ef7aa-7092-4329-91e9-2219afd25f1e"
   },
   "outputs": [
    {
     "name": "stdout",
     "output_type": "stream",
     "text": [
      "501/501 [==============================] - 3s 5ms/step - loss: 0.3946 - acc: 0.8405\n",
      "\n",
      " 테스트 정확도: 0.8405\n"
     ]
    }
   ],
   "source": [
    "loaded_model = load_model('best_model.h5')\n",
    "print(\"\\n 테스트 정확도: %.4f\" % (loaded_model.evaluate(X_test, y_test)[1]))"
   ]
  },
  {
   "cell_type": "markdown",
   "metadata": {
    "id": "lreDgkV4b-5s"
   },
   "source": [
    "**리뷰 예측해보기**"
   ]
  },
  {
   "cell_type": "code",
   "execution_count": null,
   "metadata": {
    "id": "vRtYWvtLb4T2"
   },
   "outputs": [],
   "source": [
    "def sentiment_predict(new_sentence):\n",
    "  new_sentence = okt.morphs(new_sentence, stem=True) # 토큰화\n",
    "  new_sentence = [word for word in new_sentence if not word in stopwords] # 불용어 제거\n",
    "  encoded = tokenizer.texts_to_sequences([new_sentence]) # 정수 인코딩\n",
    "  pad_new = pad_sequences(encoded, maxlen = max_len) # 패딩\n",
    "  score = float(loaded_model.predict(pad_new)) # 예측\n",
    "  if(score > 0.5):\n",
    "    print(\"{:.2f}% 확률로 긍정 리뷰입니다.\\n\".format(score * 100))\n",
    "  else:\n",
    "    print(\"{:.2f}% 확률로 부정 리뷰입니다.\\n\".format((1 - score) * 100))"
   ]
  },
  {
   "cell_type": "code",
   "execution_count": null,
   "metadata": {
    "colab": {
     "base_uri": "https://localhost:8080/"
    },
    "id": "mmIjcKTKcFNQ",
    "outputId": "b373f13c-954f-48ed-e97d-90d378adae71"
   },
   "outputs": [
    {
     "name": "stdout",
     "output_type": "stream",
     "text": [
      "92.36% 확률로 긍정 리뷰입니다.\n",
      "\n"
     ]
    }
   ],
   "source": [
    "sentiment_predict('이 영화 개꿀잼 ㅋㅋㅋ')"
   ]
  },
  {
   "cell_type": "code",
   "execution_count": null,
   "metadata": {
    "colab": {
     "base_uri": "https://localhost:8080/"
    },
    "id": "AJzgBeDFcFPV",
    "outputId": "85c0cae7-60e6-4103-e473-9caaa2f92258"
   },
   "outputs": [
    {
     "name": "stdout",
     "output_type": "stream",
     "text": [
      "99.78% 확률로 부정 리뷰입니다.\n",
      "\n"
     ]
    }
   ],
   "source": [
    "sentiment_predict('이 영화 핵노잼 ㅠㅠ')"
   ]
  },
  {
   "cell_type": "code",
   "execution_count": null,
   "metadata": {
    "colab": {
     "base_uri": "https://localhost:8080/"
    },
    "id": "bSFYai9NcFRi",
    "outputId": "a009a529-92b3-4813-f7dd-b1baf5ca7398"
   },
   "outputs": [
    {
     "name": "stdout",
     "output_type": "stream",
     "text": [
      "99.64% 확률로 부정 리뷰입니다.\n",
      "\n"
     ]
    }
   ],
   "source": [
    "sentiment_predict('이딴게 영화냐 ㅉㅉ')"
   ]
  },
  {
   "cell_type": "code",
   "execution_count": null,
   "metadata": {
    "colab": {
     "base_uri": "https://localhost:8080/"
    },
    "id": "D_8S1bPNcHu8",
    "outputId": "6ae53908-7a79-42ee-e1fc-dbdb1f9ff3df"
   },
   "outputs": [
    {
     "name": "stdout",
     "output_type": "stream",
     "text": [
      "99.20% 확률로 긍정 리뷰입니다.\n",
      "\n"
     ]
    }
   ],
   "source": [
    "sentiment_predict('와 개쩐다 정말 세계관 최강자들의 영화다')"
   ]
  },
  {
   "cell_type": "code",
   "execution_count": null,
   "metadata": {
    "colab": {
     "base_uri": "https://localhost:8080/"
    },
    "id": "8gyAZzPxcJx4",
    "outputId": "35119be3-ae08-4af4-e609-a64952c09d97"
   },
   "outputs": [
    {
     "name": "stdout",
     "output_type": "stream",
     "text": [
      "96.57% 확률로 긍정 리뷰입니다.\n",
      "\n"
     ]
    }
   ],
   "source": [
    "sentiment_predict('또 보러 가고 싶다')"
   ]
  },
  {
   "cell_type": "code",
   "execution_count": null,
   "metadata": {
    "colab": {
     "base_uri": "https://localhost:8080/"
    },
    "id": "No7ZXZs8cJ0F",
    "outputId": "cd3c377c-6113-44b7-93da-aa02edce34f8"
   },
   "outputs": [
    {
     "name": "stdout",
     "output_type": "stream",
     "text": [
      "86.25% 확률로 부정 리뷰입니다.\n",
      "\n"
     ]
    }
   ],
   "source": [
    "sentiment_predict('처음부터 끝까지 졸다 왔어요')"
   ]
  },
  {
   "cell_type": "code",
   "execution_count": null,
   "metadata": {
    "colab": {
     "base_uri": "https://localhost:8080/"
    },
    "id": "FvoLKex7cLB8",
    "outputId": "59a845fb-c9bf-4484-9fb2-7677c6314494"
   },
   "outputs": [
    {
     "name": "stdout",
     "output_type": "stream",
     "text": [
      "86.45% 확률로 부정 리뷰입니다.\n",
      "\n"
     ]
    }
   ],
   "source": [
    "sentiment_predict('솔직히 말해서 돈 아까웠음')"
   ]
  }
 ],
 "metadata": {
  "accelerator": "GPU",
  "colab": {
   "collapsed_sections": [],
   "name": "네이버 영화 리뷰(웹크롤링, 전처리, 텍스트 분류 모델).ipynb",
   "provenance": []
  },
  "kernelspec": {
   "display_name": "Python 3",
   "language": "python",
   "name": "python3"
  },
  "language_info": {
   "codemirror_mode": {
    "name": "ipython",
    "version": 3
   },
   "file_extension": ".py",
   "mimetype": "text/x-python",
   "name": "python",
   "nbconvert_exporter": "python",
   "pygments_lexer": "ipython3",
   "version": "3.8.3"
  }
 },
 "nbformat": 4,
 "nbformat_minor": 1
}
