{
 "cells": [
  {
   "cell_type": "markdown",
   "metadata": {
    "id": "SweTEVPIV-97"
   },
   "source": [
    "# **네이버 영화 검색 크롤링**"
   ]
  },
  {
   "cell_type": "code",
   "execution_count": 1,
   "metadata": {
    "id": "UF4n5bRMVtME"
   },
   "outputs": [
    {
     "name": "stdout",
     "output_type": "stream",
     "text": [
      "Collecting bs4\n",
      "  Downloading bs4-0.0.1.tar.gz (1.1 kB)\n",
      "Requirement already satisfied: beautifulsoup4 in c:\\programdata\\anaconda3\\lib\\site-packages (from bs4) (4.9.3)\n",
      "Requirement already satisfied: soupsieve>1.2; python_version >= \"3.0\" in c:\\programdata\\anaconda3\\lib\\site-packages (from beautifulsoup4->bs4) (2.0.1)\n",
      "Building wheels for collected packages: bs4\n",
      "  Building wheel for bs4 (setup.py): started\n",
      "  Building wheel for bs4 (setup.py): finished with status 'done'\n",
      "  Created wheel for bs4: filename=bs4-0.0.1-py3-none-any.whl size=1277 sha256=d1f756bfc35080a2e600c552f561285dabfe515d21f6cfbd4b2218167fbb931e\n",
      "  Stored in directory: c:\\users\\playp\\appdata\\local\\pip\\cache\\wheels\\75\\78\\21\\68b124549c9bdc94f822c02fb9aa3578a669843f9767776bca\n",
      "Successfully built bs4\n",
      "Installing collected packages: bs4\n",
      "Successfully installed bs4-0.0.1\n",
      "Requirement already satisfied: lxml in c:\\programdata\\anaconda3\\lib\\site-packages (4.6.1)\n"
     ]
    }
   ],
   "source": [
    "!pip install bs4\n",
    "\n",
    "!pip install lxml"
   ]
  },
  {
   "cell_type": "code",
   "execution_count": 2,
   "metadata": {
    "id": "gDhhMnCHVvsk"
   },
   "outputs": [],
   "source": [
    "from bs4 import BeautifulSoup\n",
    "import requests"
   ]
  },
  {
   "cell_type": "code",
   "execution_count": 3,
   "metadata": {
    "colab": {
     "base_uri": "https://localhost:8080/"
    },
    "id": "9QrZ-UFIVnAR",
    "outputId": "293de725-c6e1-4419-f0a5-6689c393a0bd"
   },
   "outputs": [
    {
     "name": "stdout",
     "output_type": "stream",
     "text": [
      "검색어를 입력하세요 >> 기생충\n",
      "제목 :: 기생충\n",
      "개봉일 ::  2019.05.30\n",
      "네티즌, 관람객 평점 :: 8.48\n",
      "장르 :: 드라마\n",
      "국가 :: 한국\n",
      "상영시간 :: 131분 \n",
      "감독 :: 봉준호\n",
      "출연 :: 송강호, 이선균, 조여정 등\n",
      "등급 :: 15세 관람가\n",
      "줄거리 :: 전원백수로 살 길 막막하지만 사이는 좋은 기택(송강호) 가족. 장남 기우(최우식)에게 명문대생 친구가 연결시켜 준 고액 과외 자리는 모처럼 싹튼 고정수입의 희망이다. 온 가족의 도움과 기대 속에 박사장(이선균) 집으로 향하는 기우. 글로벌 IT기업 CEO인 박사장의 저택에 도착하자 젊고 아름다운 사모님 연교(조여정)가 기우를 맞이한다.  그러나 이렇게 시작된 두 가족의 만남 뒤로, 걷잡을 수 없는 사건이 기다리고 있었으니…\n"
     ]
    }
   ],
   "source": [
    "movie = input(\"검색어를 입력하세요 >> \")\n",
    "\n",
    "url0 = 'https://movie.naver.com/movie/search/result.nhn?query='\n",
    "url1 = '&section=all&ie=utf8'\n",
    "url = url0 + movie + url1\n",
    "\n",
    "r = requests.get(url)\n",
    "html = r.text\n",
    "page = BeautifulSoup(html, 'html.parser')\n",
    "\n",
    "href = page.find(\"p\", class_=\"result_thumb\")\n",
    "movie = href.find(\"a\")[\"href\"]\n",
    "movie_url = 'https://movie.naver.com' + movie\n",
    "\n",
    "r1 = requests.get(movie_url)\n",
    "html1 = r1.text\n",
    "page1 = BeautifulSoup(html1, 'lxml')\n",
    "\n",
    "title = page1.select_one('h3[class=h_movie] a').text\n",
    "\n",
    "release = page1.select('dl[class=info_spec] span:nth-of-type(4) a')\n",
    "release = release[0].text + release[1].text\n",
    "\n",
    "score = page1.select_one('div[class=netizen_score] div[class=star_score] em').text\n",
    "\n",
    "genre0 = page1.select('dl[class=info_spec] span:nth-of-type(1) a')\n",
    "genre0 = [i.text for i in genre0]\n",
    "genre = ', '.join(genre0)\n",
    "\n",
    "country0 = page1.select('dl[class=info_spec] span:nth-of-type(2) a')\n",
    "country0 = [i.text for i in country0]\n",
    "country = ', '.join(country0)\n",
    "\n",
    "running_time = page1.select_one('dl[class=info_spec] span:nth-of-type(3)').text\n",
    "\n",
    "director0 = page1.select('dl[class=info_spec] dd:nth-of-type(2) a')\n",
    "director0 = [i.text for i in director0]\n",
    "director = ', '.join(director0)\n",
    "\n",
    "actor0 = page1.select('dl[class=info_spec] dd:nth-of-type(3) a')\n",
    "actor0 = [i.text for i in actor0]\n",
    "actor0.remove('더보기')\n",
    "actor = ', '.join(actor0) + ' 등'\n",
    "\n",
    "age = page1.select_one('dl[class=info_spec] dd:nth-of-type(4) a').text\n",
    "\n",
    "content0 = page1.select('p[class=con_tx]')\n",
    "content0 = [i.text for i in content0]\n",
    "content=''\n",
    "for i in content0:\n",
    "  content += i\n",
    "\n",
    "\n",
    "\n",
    "print('제목 ::', title)\n",
    "print('개봉일 ::', release)\n",
    "print('네티즌, 관람객 평점 ::', score)\n",
    "print('장르 ::', genre)\n",
    "print('국가 ::', country)\n",
    "print('상영시간 ::', running_time)\n",
    "print('감독 ::', director)\n",
    "print('출연 ::', actor)\n",
    "print('등급 ::', age)\n",
    "print('줄거리 ::', content)"
   ]
  },
  {
   "cell_type": "code",
   "execution_count": null,
   "metadata": {},
   "outputs": [],
   "source": []
  }
 ],
 "metadata": {
  "colab": {
   "name": "네이버 영화 검색 크롤링",
   "provenance": []
  },
  "kernelspec": {
   "display_name": "Python 3",
   "language": "python",
   "name": "python3"
  },
  "language_info": {
   "codemirror_mode": {
    "name": "ipython",
    "version": 3
   },
   "file_extension": ".py",
   "mimetype": "text/x-python",
   "name": "python",
   "nbconvert_exporter": "python",
   "pygments_lexer": "ipython3",
   "version": "3.8.3"
  }
 },
 "nbformat": 4,
 "nbformat_minor": 1
}
