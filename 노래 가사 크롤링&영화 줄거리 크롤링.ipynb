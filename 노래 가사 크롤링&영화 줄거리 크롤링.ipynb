{
 "cells": [
  {
   "cell_type": "code",
   "execution_count": 5,
   "metadata": {},
   "outputs": [],
   "source": [
    "from bs4 import BeautifulSoup\n",
    "from time import sleep\n",
    "from random import randint\n",
    "import requests\n",
    "import pandas as pd\n",
    "import lxml.html\n",
    "import numpy as np\n",
    "import urllib\n",
    "import re"
   ]
  },
  {
   "cell_type": "code",
   "execution_count": 9,
   "metadata": {},
   "outputs": [],
   "source": [
    "from bs4 import BeautifulSoup\n",
    "import urllib.request\n",
    "import pandas as pd"
   ]
  },
  {
   "cell_type": "code",
   "execution_count": 10,
   "metadata": {},
   "outputs": [],
   "source": [
    "df = pd.DataFrame(columns=[\"title\",\"genre\",\"netflix\"])\n",
    "count = 0"
   ]
  },
  {
   "cell_type": "code",
   "execution_count": 11,
   "metadata": {},
   "outputs": [],
   "source": [
    "from time import sleep\n",
    "from random import randint"
   ]
  },
  {
   "cell_type": "code",
   "execution_count": 12,
   "metadata": {},
   "outputs": [],
   "source": [
    "for num in range(2,100):\n",
    "    url = \"https://www.4flix.co.kr/board/netflix/\" + str(num)\n",
    "    sleep(randint(1,5))\n",
    "    with urllib.request.urlopen(url) as url:\n",
    "        try:\n",
    "            doc = url.read()\n",
    "            soup = BeautifulSoup(doc, \"html.parser\")\n",
    "        \n",
    "            title_year = soup.find_all(\"h1\")[2].text.strip() # 제목(연도) \n",
    "            title = title_year[:-6] #제목만\n",
    "            genre = soup.find_all(\"h3\")[1].text.strip()\n",
    "            netflix = soup.find_all(\"p\")[0].text.strip()\n",
    "        \n",
    "            df.loc[count] = [title, genre, netflix]\n",
    "            count+=1\n",
    "        except:\n",
    "            pass"
   ]
  },
  {
   "cell_type": "code",
   "execution_count": 13,
   "metadata": {},
   "outputs": [
    {
     "data": {
      "text/html": [
       "<div>\n",
       "<style scoped>\n",
       "    .dataframe tbody tr th:only-of-type {\n",
       "        vertical-align: middle;\n",
       "    }\n",
       "\n",
       "    .dataframe tbody tr th {\n",
       "        vertical-align: top;\n",
       "    }\n",
       "\n",
       "    .dataframe thead th {\n",
       "        text-align: right;\n",
       "    }\n",
       "</style>\n",
       "<table border=\"1\" class=\"dataframe\">\n",
       "  <thead>\n",
       "    <tr style=\"text-align: right;\">\n",
       "      <th></th>\n",
       "      <th>title</th>\n",
       "      <th>genre</th>\n",
       "      <th>netflix</th>\n",
       "    </tr>\n",
       "  </thead>\n",
       "  <tbody>\n",
       "    <tr>\n",
       "      <th>0</th>\n",
       "      <td>아이 좀비</td>\n",
       "      <td>드라마</td>\n",
       "      <td>수상: 6 wins &amp; 20 nominations.</td>\n",
       "    </tr>\n",
       "    <tr>\n",
       "      <th>1</th>\n",
       "      <td>주</td>\n",
       "      <td>드라마</td>\n",
       "      <td>전 세계 동물들이 인간을 공격하기 시작하자, 논란이 많은 동물학자 잭슨 오즈는 갑작...</td>\n",
       "    </tr>\n",
       "    <tr>\n",
       "      <th>2</th>\n",
       "      <td>지그와 샤코</td>\n",
       "      <td>드라마</td>\n",
       "      <td>무인도에서 옴짝달싹 못 하고 배만 곯는 하이에나 지그. 인어 마리나를 잡아먹으려 요...</td>\n",
       "    </tr>\n",
       "    <tr>\n",
       "      <th>3</th>\n",
       "      <td>Z 네이션</td>\n",
       "      <td>드라마</td>\n",
       "      <td>치명적인 좀비 바이러스에서 살아남은 남자가 백신에 대한 키를 쥐고 있다고 믿고, 그...</td>\n",
       "    </tr>\n",
       "    <tr>\n",
       "      <th>4</th>\n",
       "      <td>겁쟁이 페달</td>\n",
       "      <td>드라마</td>\n",
       "      <td>왜소한 체격에 소심한 성격. 취미는 애니메이션 감상. 누가 봐도 스포츠와 거리가 먼...</td>\n",
       "    </tr>\n",
       "  </tbody>\n",
       "</table>\n",
       "</div>"
      ],
      "text/plain": [
       "    title genre                                            netflix\n",
       "0   아이 좀비   드라마                       수상: 6 wins & 20 nominations.\n",
       "1       주   드라마  전 세계 동물들이 인간을 공격하기 시작하자, 논란이 많은 동물학자 잭슨 오즈는 갑작...\n",
       "2  지그와 샤코   드라마  무인도에서 옴짝달싹 못 하고 배만 곯는 하이에나 지그. 인어 마리나를 잡아먹으려 요...\n",
       "3   Z 네이션   드라마  치명적인 좀비 바이러스에서 살아남은 남자가 백신에 대한 키를 쥐고 있다고 믿고, 그...\n",
       "4  겁쟁이 페달   드라마  왜소한 체격에 소심한 성격. 취미는 애니메이션 감상. 누가 봐도 스포츠와 거리가 먼..."
      ]
     },
     "execution_count": 13,
     "metadata": {},
     "output_type": "execute_result"
    }
   ],
   "source": [
    "df.head()"
   ]
  },
  {
   "cell_type": "code",
   "execution_count": null,
   "metadata": {},
   "outputs": [],
   "source": []
  }
 ],
 "metadata": {
  "kernelspec": {
   "display_name": "Python 3",
   "language": "python",
   "name": "python3"
  },
  "language_info": {
   "codemirror_mode": {
    "name": "ipython",
    "version": 3
   },
   "file_extension": ".py",
   "mimetype": "text/x-python",
   "name": "python",
   "nbconvert_exporter": "python",
   "pygments_lexer": "ipython3",
   "version": "3.8.3"
  }
 },
 "nbformat": 4,
 "nbformat_minor": 4
}
